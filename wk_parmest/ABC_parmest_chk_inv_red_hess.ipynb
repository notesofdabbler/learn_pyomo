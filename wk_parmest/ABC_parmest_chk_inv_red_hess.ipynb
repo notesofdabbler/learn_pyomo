{
 "cells": [
  {
   "cell_type": "markdown",
   "metadata": {},
   "source": [
    "This is an attempt to recreate the parameter estimation [example](https://sites.engineering.ucsb.edu/~jbraw/chemreacfun/fig-html/appendix/fig-A-10.html) from James Rawlings book on [Reactor Design](https://sites.engineering.ucsb.edu/~jbraw/chemreacfun/) using Pyomo."
   ]
  },
  {
   "cell_type": "code",
   "execution_count": 14,
   "metadata": {},
   "outputs": [],
   "source": [
    "# Import libraries\n",
    "from scipy.integrate import solve_ivp\n",
    "import numpy as np\n",
    "import matplotlib.pyplot as plt\n",
    "import pandas as pd\n",
    "import pyomo.environ as pyo\n",
    "import pyomo.dae as dae\n",
    "import scipy.stats as spstat\n",
    "from scipy.stats import f\n",
    "from pyomo.contrib.interior_point.inverse_reduced_hessian import inv_reduced_hessian_barrier"
   ]
  },
  {
   "cell_type": "markdown",
   "metadata": {},
   "source": [
    "This example has a series reaction $A \\rightarrow B \\rightarrow C$. The dataset consists of measures concentrations of A, B and C over time. The goal is to estimate the rate constants $k_1$ and $k_2$ for the two reactions."
   ]
  },
  {
   "cell_type": "code",
   "execution_count": 2,
   "metadata": {},
   "outputs": [
    {
     "data": {
      "text/html": [
       "<div>\n",
       "<style scoped>\n",
       "    .dataframe tbody tr th:only-of-type {\n",
       "        vertical-align: middle;\n",
       "    }\n",
       "\n",
       "    .dataframe tbody tr th {\n",
       "        vertical-align: top;\n",
       "    }\n",
       "\n",
       "    .dataframe thead th {\n",
       "        text-align: right;\n",
       "    }\n",
       "</style>\n",
       "<table border=\"1\" class=\"dataframe\">\n",
       "  <thead>\n",
       "    <tr style=\"text-align: right;\">\n",
       "      <th></th>\n",
       "      <th>t</th>\n",
       "      <th>ca</th>\n",
       "      <th>cb</th>\n",
       "      <th>cc</th>\n",
       "    </tr>\n",
       "  </thead>\n",
       "  <tbody>\n",
       "    <tr>\n",
       "      <th>0</th>\n",
       "      <td>0.000</td>\n",
       "      <td>0.957</td>\n",
       "      <td>-0.031</td>\n",
       "      <td>-0.015</td>\n",
       "    </tr>\n",
       "    <tr>\n",
       "      <th>1</th>\n",
       "      <td>0.263</td>\n",
       "      <td>0.557</td>\n",
       "      <td>0.330</td>\n",
       "      <td>0.044</td>\n",
       "    </tr>\n",
       "    <tr>\n",
       "      <th>2</th>\n",
       "      <td>0.526</td>\n",
       "      <td>0.342</td>\n",
       "      <td>0.512</td>\n",
       "      <td>0.156</td>\n",
       "    </tr>\n",
       "    <tr>\n",
       "      <th>3</th>\n",
       "      <td>0.789</td>\n",
       "      <td>0.224</td>\n",
       "      <td>0.499</td>\n",
       "      <td>0.310</td>\n",
       "    </tr>\n",
       "    <tr>\n",
       "      <th>4</th>\n",
       "      <td>1.053</td>\n",
       "      <td>0.123</td>\n",
       "      <td>0.428</td>\n",
       "      <td>0.454</td>\n",
       "    </tr>\n",
       "  </tbody>\n",
       "</table>\n",
       "</div>"
      ],
      "text/plain": [
       "       t     ca     cb     cc\n",
       "0  0.000  0.957 -0.031 -0.015\n",
       "1  0.263  0.557  0.330  0.044\n",
       "2  0.526  0.342  0.512  0.156\n",
       "3  0.789  0.224  0.499  0.310\n",
       "4  1.053  0.123  0.428  0.454"
      ]
     },
     "execution_count": 2,
     "metadata": {},
     "output_type": "execute_result"
    }
   ],
   "source": [
    "data_df = pd.read_csv(\"ABC_data.csv\")\n",
    "data_df.head()"
   ]
  },
  {
   "cell_type": "code",
   "execution_count": 3,
   "metadata": {},
   "outputs": [],
   "source": [
    "# Convert data to a list of dictionaries\n",
    "data = [{'ca_meas': {k:v for (k, v) in zip(data_df.t, data_df.ca)},\n",
    "    'cb_meas': {k:v for (k, v) in zip(data_df.t, data_df.cb)},\n",
    "    'cc_meas': {k:v for (k, v) in zip(data_df.t, data_df.cc)} }]"
   ]
  },
  {
   "cell_type": "code",
   "execution_count": 24,
   "metadata": {},
   "outputs": [],
   "source": [
    "#\n",
    "# Define the model \n",
    "#\n",
    "def ABC_model(data, disctype):\n",
    "    \n",
    "    ca_meas = data['ca_meas']\n",
    "    cb_meas = data['cb_meas']\n",
    "    cc_meas = data['cc_meas']\n",
    "    \n",
    "    meas_t = list(ca_meas.keys())\n",
    "       \n",
    "    ca0 = 1.0\n",
    "    cb0 = 0.0\n",
    "    cc0 = 0.0\n",
    "        \n",
    "    m = pyo.ConcreteModel()\n",
    "    \n",
    "    m.k1 = pyo.Var(initialize = 0.5, bounds = (1e-4, 10))\n",
    "    m.k2 = pyo.Var(initialize = 3.0, bounds = (1e-4, 10))\n",
    "    \n",
    "    m.time = dae.ContinuousSet(bounds = (0.0, 5.0), initialize = meas_t)\n",
    "    #m.ca = pyo.Var(m.time, initialize = ca0, bounds = (0, ca0))\n",
    "    #m.cb = pyo.Var(m.time, initialize = cb0, bounds = (0, ca0))\n",
    "    #m.cc = pyo.Var(m.time, initialize = cc0, bounds = (0, ca0))\n",
    "    m.ca = pyo.Var(m.time, initialize = ca0, bounds = (-1.0e-3, ca0 + 1.0e-3))\n",
    "    m.cb = pyo.Var(m.time, initialize = cb0, bounds = (-1.0e-3, ca0 + 1.0e-3))\n",
    "    m.cc = pyo.Var(m.time, initialize = cc0, bounds = (-1.0e-3, ca0 + 1.0e-3))\n",
    "    \n",
    "    m.dca = dae.DerivativeVar(m.ca, wrt = m.time)\n",
    "    m.dcb = dae.DerivativeVar(m.cb, wrt = m.time)\n",
    "    m.dcc = dae.DerivativeVar(m.cc, wrt = m.time)\n",
    "    \n",
    "    def _dcarate(m, t):\n",
    "        if t == 0:\n",
    "            return pyo.Constraint.Skip\n",
    "        else:\n",
    "            return m.dca[t] == -m.k1 * m.ca[t]\n",
    "    m.dcarate = pyo.Constraint(m.time, rule = _dcarate)\n",
    "    \n",
    "    def _dcbrate(m, t):\n",
    "        if t == 0:\n",
    "            return pyo.Constraint.Skip\n",
    "        else:\n",
    "            return m.dcb[t] == m.k1 * m.ca[t] - m.k2 * m.cb[t]\n",
    "    m.dcbrate = pyo.Constraint(m.time, rule = _dcbrate)\n",
    "    \n",
    "    def _dccrate(m, t):\n",
    "        if t == 0:\n",
    "            return pyo.Constraint.Skip\n",
    "        else:\n",
    "            return m.dcc[t] == m.k2 * m.cb[t]\n",
    "    m.dccrate = pyo.Constraint(m.time, rule = _dccrate)\n",
    "    \n",
    "    def _initcon(m):\n",
    "        yield m.ca[m.time.first()] == ca0\n",
    "        yield m.cb[m.time.first()] == cb0\n",
    "        yield m.cc[m.time.first()] == cc0\n",
    "    m.initcon = pyo.ConstraintList(rule = _initcon)\n",
    "    \n",
    "\n",
    "    def obj_rule(m):\n",
    "        return sum((m.ca[t] - ca_meas[t]) ** 2 + (m.cb[t] - cb_meas[t]) ** 2 \n",
    "                   + (m.cc[t] - cc_meas[t]) ** 2 for t in meas_t) \n",
    "    m.obj = pyo.Objective(rule=obj_rule)\n",
    "    \n",
    "    if disctype == 'colloc':\n",
    "        disc = pyo.TransformationFactory('dae.collocation')\n",
    "        disc.apply_to(m, nfe=20, ncp=2)\n",
    "    else:\n",
    "        disc = pyo.TransformationFactory('dae.finite_difference')\n",
    "        disc.apply_to(m, nfe=500, scheme = 'BACKWARD')\n",
    "    \n",
    "    return m"
   ]
  },
  {
   "cell_type": "code",
   "execution_count": 25,
   "metadata": {},
   "outputs": [
    {
     "name": "stdout",
     "output_type": "stream",
     "text": [
      "Ipopt 3.14.5: \n",
      "\n",
      "******************************************************************************\n",
      "This program contains Ipopt, a library for large-scale nonlinear optimization.\n",
      " Ipopt is released as open source code under the Eclipse Public License (EPL).\n",
      "         For more information visit https://github.com/coin-or/Ipopt\n",
      "******************************************************************************\n",
      "\n",
      "This is Ipopt version 3.14.5, running with linear solver ma27.\n",
      "\n",
      "Number of nonzeros in equality constraint Jacobian...:      923\n",
      "Number of nonzeros in inequality constraint Jacobian.:        0\n",
      "Number of nonzeros in Lagrangian Hessian.............:      140\n",
      "\n",
      "Total number of variables............................:      245\n",
      "                     variables with only lower bounds:        0\n",
      "                variables with lower and upper bounds:      125\n",
      "                     variables with only upper bounds:        0\n",
      "Total number of equality constraints.................:      243\n",
      "Total number of inequality constraints...............:        0\n",
      "        inequality constraints with only lower bounds:        0\n",
      "   inequality constraints with lower and upper bounds:        0\n",
      "        inequality constraints with only upper bounds:        0\n",
      "\n",
      "iter    objective    inf_pr   inf_du lg(mu)  ||d||  lg(rg) alpha_du alpha_pr  ls\n",
      "   0  2.9003548e+01 4.95e-01 1.01e+00  -1.0 0.00e+00    -  0.00e+00 0.00e+00   0\n",
      "   1  2.2748938e+01 6.12e-02 8.91e+00  -1.0 1.89e+00    -  1.77e-01 1.00e+00f  1\n",
      "   2  2.1615400e+01 8.33e-02 1.39e+01  -1.0 1.11e+01   0.0 5.56e-02 9.91e-02f  1\n",
      "   3  2.1014792e+01 7.74e-02 1.64e+01  -1.0 8.02e-01    -  2.09e-01 7.18e-02f  1\n",
      "   4  2.0785993e+01 2.48e-02 9.06e+01  -1.0 4.83e-01    -  2.37e-01 1.00e+00h  1\n",
      "   5  1.5897130e+01 1.18e-01 5.06e+01  -1.0 5.40e-01    -  9.39e-02 7.85e-01f  1\n",
      "   6  7.3396090e+00 9.31e-02 3.36e+01  -1.0 5.24e-01    -  3.36e-01 1.00e+00f  1\n",
      "   7  4.6339591e+00 1.16e-01 9.47e+00  -1.0 4.73e-01    -  7.18e-01 7.65e-01f  1\n",
      "   8  5.0629038e+00 2.19e-01 1.23e+01  -1.0 1.91e+00    -  2.01e-02 3.41e-01f  1\n",
      "   9  2.7371165e+00 5.61e-02 3.40e+00  -1.0 5.52e-01    -  1.00e+00 1.00e+00f  1\n",
      "iter    objective    inf_pr   inf_du lg(mu)  ||d||  lg(rg) alpha_du alpha_pr  ls\n",
      "  10  2.7334319e+00 9.86e-03 3.55e+00  -1.0 1.35e-01    -  8.07e-01 1.00e+00h  1\n",
      "  11  2.6407978e+00 1.94e-04 4.66e-02  -1.0 2.75e-02    -  1.00e+00 1.00e+00h  1\n",
      "  12  1.4089949e+00 1.39e-02 2.44e+01  -2.5 1.41e-01    -  7.48e-01 1.00e+00f  1\n",
      "  13  5.6993513e-01 2.82e-02 2.25e+00  -2.5 2.43e-01    -  9.08e-01 9.66e-01f  1\n",
      "  14  1.8432550e-01 3.18e-02 5.00e-01  -2.5 3.02e-01    -  1.00e+00 1.00e+00h  1\n",
      "  15  6.2147546e-02 2.81e-02 4.87e-01  -2.5 3.37e-01    -  1.00e+00 1.00e+00h  1\n",
      "  16  5.8931522e-02 4.58e-04 3.26e-02  -2.5 5.76e-02    -  1.00e+00 1.00e+00h  1\n",
      "  17  6.2939494e-02 1.24e-04 5.70e-03  -2.5 2.38e-02    -  1.00e+00 1.00e+00h  1\n",
      "  18  2.7469722e-02 1.66e-02 2.97e-01  -3.8 2.72e-01    -  9.03e-01 1.00e+00f  1\n",
      "  19  2.6206971e-02 5.57e-04 3.80e-01  -3.8 6.17e-02    -  6.98e-01 1.00e+00h  1\n",
      "iter    objective    inf_pr   inf_du lg(mu)  ||d||  lg(rg) alpha_du alpha_pr  ls\n",
      "  20  2.6212755e-02 1.49e-04 6.90e-03  -3.8 2.83e-02    -  1.00e+00 1.00e+00h  1\n",
      "  21  2.6230009e-02 1.85e-06 5.96e-06  -3.8 3.07e-03    -  1.00e+00 1.00e+00h  1\n",
      "  22  2.6124159e-02 6.47e-05 1.45e-03  -5.7 1.80e-02    -  1.00e+00 1.00e+00h  1\n",
      "  23  2.6121470e-02 2.44e-09 4.45e-08  -5.7 6.02e-05    -  1.00e+00 1.00e+00h  1\n",
      "  24  2.6121454e-02 9.94e-09 2.25e-07  -8.6 2.24e-04    -  1.00e+00 1.00e+00h  1\n",
      "  25  2.6121454e-02 3.89e-15 1.03e-15  -8.6 9.49e-09    -  1.00e+00 1.00e+00h  1\n",
      "\n",
      "Number of Iterations....: 25\n",
      "\n",
      "                                   (scaled)                 (unscaled)\n",
      "Objective...............:   2.6121454030725123e-02    2.6121454030725123e-02\n",
      "Dual infeasibility......:   1.0254104315785589e-15    1.0254104315785589e-15\n",
      "Constraint violation....:   3.8857805861880479e-15    3.8857805861880479e-15\n",
      "Variable bound violation:   0.0000000000000000e+00    0.0000000000000000e+00\n",
      "Complementarity.........:   2.5059035628969167e-09    2.5059035628969167e-09\n",
      "Overall NLP error.......:   2.5059035628969167e-09    2.5059035628969167e-09\n",
      "\n",
      "\n",
      "Number of objective function evaluations             = 26\n",
      "Number of objective gradient evaluations             = 26\n",
      "Number of equality constraint evaluations            = 26\n",
      "Number of inequality constraint evaluations          = 0\n",
      "Number of equality constraint Jacobian evaluations   = 26\n",
      "Number of inequality constraint Jacobian evaluations = 0\n",
      "Number of Lagrangian Hessian evaluations             = 25\n",
      "Total seconds in IPOPT                               = 0.018\n",
      "\n",
      "EXIT: Optimal Solution Found.\n",
      "\b\b\b\b\b\b\b\b\b\b\b\b\b\b"
     ]
    },
    {
     "data": {
      "text/plain": [
       "{'Problem': [{'Lower bound': -inf, 'Upper bound': inf, 'Number of objectives': 1, 'Number of constraints': 243, 'Number of variables': 245, 'Sense': 'unknown'}], 'Solver': [{'Status': 'ok', 'Message': 'Ipopt 3.14.5\\\\x3a Optimal Solution Found', 'Termination condition': 'optimal', 'Id': 0, 'Error rc': 0, 'Time': 0.03751349449157715}], 'Solution': [OrderedDict([('number of solutions', 0), ('number of solutions displayed', 0)])]}"
      ]
     },
     "execution_count": 25,
     "metadata": {},
     "output_type": "execute_result"
    }
   ],
   "source": [
    "m = ABC_model(data[0], 'colloc')\n",
    "solver = pyo.SolverFactory('ipopt')\n",
    "solver.solve(m, tee = True)"
   ]
  },
  {
   "cell_type": "code",
   "execution_count": 26,
   "metadata": {},
   "outputs": [
    {
     "data": {
      "text/plain": [
       "(2.0143824897675247, 0.9944546780485316)"
      ]
     },
     "execution_count": 26,
     "metadata": {},
     "output_type": "execute_result"
    }
   ],
   "source": [
    "# Estimated parameters\n",
    "m.k1(), m.k2()"
   ]
  },
  {
   "cell_type": "code",
   "execution_count": 27,
   "metadata": {},
   "outputs": [],
   "source": [
    "m = ABC_model(data[0], 'colloc')"
   ]
  },
  {
   "cell_type": "code",
   "execution_count": 28,
   "metadata": {},
   "outputs": [
    {
     "name": "stdout",
     "output_type": "stream",
     "text": [
      "Ipopt 3.14.5: bound_relax_factor=0\n",
      "honor_original_bounds=no\n",
      "\n",
      "\n",
      "******************************************************************************\n",
      "This program contains Ipopt, a library for large-scale nonlinear optimization.\n",
      " Ipopt is released as open source code under the Eclipse Public License (EPL).\n",
      "         For more information visit https://github.com/coin-or/Ipopt\n",
      "******************************************************************************\n",
      "\n",
      "This is Ipopt version 3.14.5, running with linear solver ma27.\n",
      "\n",
      "Number of nonzeros in equality constraint Jacobian...:      923\n",
      "Number of nonzeros in inequality constraint Jacobian.:        0\n",
      "Number of nonzeros in Lagrangian Hessian.............:      140\n",
      "\n",
      "Total number of variables............................:      245\n",
      "                     variables with only lower bounds:        0\n",
      "                variables with lower and upper bounds:      125\n",
      "                     variables with only upper bounds:        0\n",
      "Total number of equality constraints.................:      243\n",
      "Total number of inequality constraints...............:        0\n",
      "        inequality constraints with only lower bounds:        0\n",
      "   inequality constraints with lower and upper bounds:        0\n",
      "        inequality constraints with only upper bounds:        0\n",
      "\n",
      "iter    objective    inf_pr   inf_du lg(mu)  ||d||  lg(rg) alpha_du alpha_pr  ls\n",
      "   0  2.9003548e+01 4.95e-01 1.01e+00  -1.0 0.00e+00    -  0.00e+00 0.00e+00   0\n",
      "   1  2.2748937e+01 6.12e-02 8.91e+00  -1.0 1.89e+00    -  1.77e-01 1.00e+00f  1\n",
      "   2  2.1615401e+01 8.33e-02 1.39e+01  -1.0 1.11e+01   0.0 5.56e-02 9.91e-02f  1\n",
      "   3  2.1014787e+01 7.74e-02 1.64e+01  -1.0 8.02e-01    -  2.09e-01 7.18e-02f  1\n",
      "   4  2.0785988e+01 2.48e-02 9.06e+01  -1.0 4.83e-01    -  2.37e-01 1.00e+00h  1\n",
      "   5  1.5897120e+01 1.18e-01 5.06e+01  -1.0 5.40e-01    -  9.39e-02 7.85e-01f  1\n",
      "   6  7.3395287e+00 9.31e-02 3.36e+01  -1.0 5.24e-01    -  3.36e-01 1.00e+00f  1\n",
      "   7  4.6340782e+00 1.16e-01 9.47e+00  -1.0 4.73e-01    -  7.18e-01 7.65e-01f  1\n",
      "   8  5.0629010e+00 2.19e-01 1.23e+01  -1.0 1.91e+00    -  2.01e-02 3.41e-01f  1\n",
      "   9  2.7373143e+00 5.60e-02 3.40e+00  -1.0 5.52e-01    -  1.00e+00 1.00e+00f  1\n",
      "iter    objective    inf_pr   inf_du lg(mu)  ||d||  lg(rg) alpha_du alpha_pr  ls\n",
      "  10  2.7333911e+00 9.86e-03 3.55e+00  -1.0 1.35e-01    -  8.07e-01 1.00e+00h  1\n",
      "  11  2.6407894e+00 1.94e-04 4.66e-02  -1.0 2.75e-02    -  1.00e+00 1.00e+00h  1\n",
      "  12  1.4089928e+00 1.39e-02 2.44e+01  -2.5 1.41e-01    -  7.48e-01 1.00e+00f  1\n",
      "  13  5.6993748e-01 2.82e-02 2.25e+00  -2.5 2.43e-01    -  9.08e-01 9.66e-01f  1\n",
      "  14  1.8432693e-01 3.18e-02 5.00e-01  -2.5 3.02e-01    -  1.00e+00 1.00e+00h  1\n",
      "  15  6.2147774e-02 2.81e-02 4.87e-01  -2.5 3.37e-01    -  1.00e+00 1.00e+00h  1\n",
      "  16  5.8931519e-02 4.59e-04 3.26e-02  -2.5 5.76e-02    -  1.00e+00 1.00e+00h  1\n",
      "  17  6.2939593e-02 1.24e-04 5.70e-03  -2.5 2.38e-02    -  1.00e+00 1.00e+00h  1\n",
      "  18  2.7469726e-02 1.66e-02 2.97e-01  -3.8 2.72e-01    -  9.03e-01 1.00e+00f  1\n",
      "  19  2.6206973e-02 5.57e-04 3.80e-01  -3.8 6.17e-02    -  6.98e-01 1.00e+00h  1\n",
      "iter    objective    inf_pr   inf_du lg(mu)  ||d||  lg(rg) alpha_du alpha_pr  ls\n",
      "  20  2.6212755e-02 1.49e-04 6.90e-03  -3.8 2.83e-02    -  1.00e+00 1.00e+00h  1\n",
      "  21  2.6230009e-02 1.85e-06 5.96e-06  -3.8 3.07e-03    -  1.00e+00 1.00e+00h  1\n",
      "  22  2.6124159e-02 6.47e-05 1.45e-03  -5.7 1.80e-02    -  1.00e+00 1.00e+00h  1\n",
      "  23  2.6121470e-02 2.44e-09 4.45e-08  -5.7 6.02e-05    -  1.00e+00 1.00e+00h  1\n",
      "  24  2.6121454e-02 9.94e-09 2.25e-07  -8.6 2.24e-04    -  1.00e+00 1.00e+00h  1\n",
      "  25  2.6121454e-02 3.06e-15 1.03e-15  -8.6 9.49e-09    -  1.00e+00 1.00e+00h  1\n",
      "\n",
      "Number of Iterations....: 25\n",
      "\n",
      "                                   (scaled)                 (unscaled)\n",
      "Objective...............:   2.6121454030725116e-02    2.6121454030725116e-02\n",
      "Dual infeasibility......:   1.0334261917519905e-15    1.0334261917519905e-15\n",
      "Constraint violation....:   3.0600522116230877e-15    3.0600522116230877e-15\n",
      "Variable bound violation:   0.0000000000000000e+00    0.0000000000000000e+00\n",
      "Complementarity.........:   2.5059035628969374e-09    2.5059035628969374e-09\n",
      "Overall NLP error.......:   2.5059035628969374e-09    2.5059035628969374e-09\n",
      "\n",
      "\n",
      "Number of objective function evaluations             = 26\n",
      "Number of objective gradient evaluations             = 26\n",
      "Number of equality constraint evaluations            = 26\n",
      "Number of inequality constraint evaluations          = 0\n",
      "Number of equality constraint Jacobian evaluations   = 26\n",
      "Number of inequality constraint Jacobian evaluations = 0\n",
      "Number of Lagrangian Hessian evaluations             = 25\n",
      "Total seconds in IPOPT                               = 0.017\n",
      "\n",
      "EXIT: Optimal Solution Found.\n"
     ]
    }
   ],
   "source": [
    "solve_result, inv_red_hes = inv_reduced_hessian_barrier(m, \n",
    "                    independent_variables= [m.k1, m.k2],\n",
    "                    tee=True)"
   ]
  },
  {
   "cell_type": "code",
   "execution_count": 29,
   "metadata": {},
   "outputs": [
    {
     "data": {
      "text/plain": [
       "array([[ 2.52668834, -0.38785003],\n",
       "       [-0.38785003,  0.34636453]])"
      ]
     },
     "execution_count": 29,
     "metadata": {},
     "output_type": "execute_result"
    }
   ],
   "source": [
    "inv_red_hes"
   ]
  },
  {
   "cell_type": "code",
   "execution_count": 30,
   "metadata": {},
   "outputs": [
    {
     "data": {
      "text/plain": [
       "(20, 4)"
      ]
     },
     "execution_count": 30,
     "metadata": {},
     "output_type": "execute_result"
    }
   ],
   "source": [
    "data_df.shape"
   ]
  },
  {
   "cell_type": "code",
   "execution_count": 31,
   "metadata": {},
   "outputs": [
    {
     "data": {
      "text/plain": [
       "0.026121454030725116"
      ]
     },
     "execution_count": 31,
     "metadata": {},
     "output_type": "execute_result"
    }
   ],
   "source": [
    "n = 20*3\n",
    "k = 2\n",
    "sse = m.obj()\n",
    "sse"
   ]
  },
  {
   "cell_type": "code",
   "execution_count": 32,
   "metadata": {},
   "outputs": [
    {
     "data": {
      "text/plain": [
       "array([[ 0.00227589, -0.00034935],\n",
       "       [-0.00034935,  0.00031198]])"
      ]
     },
     "execution_count": 32,
     "metadata": {},
     "output_type": "execute_result"
    }
   ],
   "source": [
    "cov_est = 2 * sse / (n - k) * inv_red_hes\n",
    "cov_est"
   ]
  },
  {
   "cell_type": "code",
   "execution_count": 33,
   "metadata": {},
   "outputs": [
    {
     "data": {
      "text/plain": [
       "6.311863941800951"
      ]
     },
     "execution_count": 33,
     "metadata": {},
     "output_type": "execute_result"
    }
   ],
   "source": [
    "mult_factor = k * f.ppf(0.95, k, n-k)\n",
    "mult_factor"
   ]
  },
  {
   "cell_type": "code",
   "execution_count": 34,
   "metadata": {},
   "outputs": [
    {
     "data": {
      "text/plain": [
       "array([0.1198545, 0.0443757])"
      ]
     },
     "execution_count": 34,
     "metadata": {},
     "output_type": "execute_result"
    }
   ],
   "source": [
    "delta_param = np.sqrt(mult_factor * np.diag(cov_est))\n",
    "delta_param"
   ]
  },
  {
   "cell_type": "code",
   "execution_count": 36,
   "metadata": {},
   "outputs": [
    {
     "data": {
      "text/plain": [
       "array([[-0.13200155,  0.02026241],\n",
       "       [ 0.02026241, -0.01809509]])"
      ]
     },
     "execution_count": 36,
     "metadata": {},
     "output_type": "execute_result"
    }
   ],
   "source": [
    "-2 * sse * inv_red_hes"
   ]
  },
  {
   "cell_type": "code",
   "execution_count": null,
   "metadata": {},
   "outputs": [],
   "source": []
  }
 ],
 "metadata": {
  "kernelspec": {
   "display_name": "Python 3 (ipykernel)",
   "language": "python",
   "name": "python3"
  },
  "language_info": {
   "codemirror_mode": {
    "name": "ipython",
    "version": 3
   },
   "file_extension": ".py",
   "mimetype": "text/x-python",
   "name": "python",
   "nbconvert_exporter": "python",
   "pygments_lexer": "ipython3",
   "version": "3.8.10"
  }
 },
 "nbformat": 4,
 "nbformat_minor": 2
}
