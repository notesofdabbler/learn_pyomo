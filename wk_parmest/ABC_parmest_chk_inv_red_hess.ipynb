{
 "cells": [
  {
   "cell_type": "markdown",
   "metadata": {},
   "source": [
    "This is an attempt to recreate the parameter estimation [example](https://sites.engineering.ucsb.edu/~jbraw/chemreacfun/fig-html/appendix/fig-A-10.html) from James Rawlings book on [Reactor Design](https://sites.engineering.ucsb.edu/~jbraw/chemreacfun/) using Pyomo."
   ]
  },
  {
   "cell_type": "code",
   "execution_count": 1,
   "metadata": {},
   "outputs": [],
   "source": [
    "# Import libraries\n",
    "from scipy.integrate import solve_ivp\n",
    "import numpy as np\n",
    "import matplotlib.pyplot as plt\n",
    "import pandas as pd\n",
    "import pyomo.environ as pyo\n",
    "import pyomo.dae as dae\n",
    "import scipy.stats as spstat\n",
    "from pyomo.contrib.interior_point.inverse_reduced_hessian import inv_reduced_hessian_barrier"
   ]
  },
  {
   "cell_type": "markdown",
   "metadata": {},
   "source": [
    "This example has a series reaction $A \\rightarrow B \\rightarrow C$. The dataset consists of measures concentrations of A, B and C over time. The goal is to estimate the rate constants $k_1$ and $k_2$ for the two reactions."
   ]
  },
  {
   "cell_type": "code",
   "execution_count": 2,
   "metadata": {},
   "outputs": [
    {
     "data": {
      "text/html": [
       "<div>\n",
       "<style scoped>\n",
       "    .dataframe tbody tr th:only-of-type {\n",
       "        vertical-align: middle;\n",
       "    }\n",
       "\n",
       "    .dataframe tbody tr th {\n",
       "        vertical-align: top;\n",
       "    }\n",
       "\n",
       "    .dataframe thead th {\n",
       "        text-align: right;\n",
       "    }\n",
       "</style>\n",
       "<table border=\"1\" class=\"dataframe\">\n",
       "  <thead>\n",
       "    <tr style=\"text-align: right;\">\n",
       "      <th></th>\n",
       "      <th>t</th>\n",
       "      <th>ca</th>\n",
       "      <th>cb</th>\n",
       "      <th>cc</th>\n",
       "    </tr>\n",
       "  </thead>\n",
       "  <tbody>\n",
       "    <tr>\n",
       "      <th>0</th>\n",
       "      <td>0.000</td>\n",
       "      <td>0.957</td>\n",
       "      <td>-0.031</td>\n",
       "      <td>-0.015</td>\n",
       "    </tr>\n",
       "    <tr>\n",
       "      <th>1</th>\n",
       "      <td>0.263</td>\n",
       "      <td>0.557</td>\n",
       "      <td>0.330</td>\n",
       "      <td>0.044</td>\n",
       "    </tr>\n",
       "    <tr>\n",
       "      <th>2</th>\n",
       "      <td>0.526</td>\n",
       "      <td>0.342</td>\n",
       "      <td>0.512</td>\n",
       "      <td>0.156</td>\n",
       "    </tr>\n",
       "    <tr>\n",
       "      <th>3</th>\n",
       "      <td>0.789</td>\n",
       "      <td>0.224</td>\n",
       "      <td>0.499</td>\n",
       "      <td>0.310</td>\n",
       "    </tr>\n",
       "    <tr>\n",
       "      <th>4</th>\n",
       "      <td>1.053</td>\n",
       "      <td>0.123</td>\n",
       "      <td>0.428</td>\n",
       "      <td>0.454</td>\n",
       "    </tr>\n",
       "  </tbody>\n",
       "</table>\n",
       "</div>"
      ],
      "text/plain": [
       "       t     ca     cb     cc\n",
       "0  0.000  0.957 -0.031 -0.015\n",
       "1  0.263  0.557  0.330  0.044\n",
       "2  0.526  0.342  0.512  0.156\n",
       "3  0.789  0.224  0.499  0.310\n",
       "4  1.053  0.123  0.428  0.454"
      ]
     },
     "execution_count": 2,
     "metadata": {},
     "output_type": "execute_result"
    }
   ],
   "source": [
    "data_df = pd.read_csv(\"ABC_data.csv\")\n",
    "data_df.head()"
   ]
  },
  {
   "cell_type": "code",
   "execution_count": 3,
   "metadata": {},
   "outputs": [],
   "source": [
    "# Convert data to a list of dictionaries\n",
    "data = [{'ca_meas': {k:v for (k, v) in zip(data_df.t, data_df.ca)},\n",
    "    'cb_meas': {k:v for (k, v) in zip(data_df.t, data_df.cb)},\n",
    "    'cc_meas': {k:v for (k, v) in zip(data_df.t, data_df.cc)} }]"
   ]
  },
  {
   "cell_type": "code",
   "execution_count": 4,
   "metadata": {},
   "outputs": [],
   "source": [
    "#\n",
    "# Define the model \n",
    "#\n",
    "def ABC_model(data, disctype):\n",
    "    \n",
    "    ca_meas = data['ca_meas']\n",
    "    cb_meas = data['cb_meas']\n",
    "    cc_meas = data['cc_meas']\n",
    "    \n",
    "    meas_t = list(ca_meas.keys())\n",
    "       \n",
    "    ca0 = 1.0\n",
    "    cb0 = 0.0\n",
    "    cc0 = 0.0\n",
    "        \n",
    "    m = pyo.ConcreteModel()\n",
    "    \n",
    "    m.k1 = pyo.Var(initialize = 0.5, bounds = (1e-4, 10))\n",
    "    m.k2 = pyo.Var(initialize = 3.0, bounds = (1e-4, 10))\n",
    "    \n",
    "    m.time = dae.ContinuousSet(bounds = (0.0, 5.0), initialize = meas_t)\n",
    "    #m.ca = pyo.Var(m.time, initialize = ca0, bounds = (0, ca0))\n",
    "    #m.cb = pyo.Var(m.time, initialize = cb0, bounds = (0, ca0))\n",
    "    #m.cc = pyo.Var(m.time, initialize = cc0, bounds = (0, ca0))\n",
    "    m.ca = pyo.Var(m.time, initialize = ca0, bounds = (-1e-3, ca0+1e-3))\n",
    "    m.cb = pyo.Var(m.time, initialize = cb0, bounds = (-1e-3, ca0+1e-3))\n",
    "    m.cc = pyo.Var(m.time, initialize = cc0, bounds = (-1e-3, ca0+1e-3))\n",
    "    \n",
    "    m.dca = dae.DerivativeVar(m.ca, wrt = m.time)\n",
    "    m.dcb = dae.DerivativeVar(m.cb, wrt = m.time)\n",
    "    m.dcc = dae.DerivativeVar(m.cc, wrt = m.time)\n",
    "    \n",
    "    def _dcarate(m, t):\n",
    "        if t == 0:\n",
    "            return pyo.Constraint.Skip\n",
    "        else:\n",
    "            return m.dca[t] == -m.k1 * m.ca[t]\n",
    "    m.dcarate = pyo.Constraint(m.time, rule = _dcarate)\n",
    "    \n",
    "    def _dcbrate(m, t):\n",
    "        if t == 0:\n",
    "            return pyo.Constraint.Skip\n",
    "        else:\n",
    "            return m.dcb[t] == m.k1 * m.ca[t] - m.k2 * m.cb[t]\n",
    "    m.dcbrate = pyo.Constraint(m.time, rule = _dcbrate)\n",
    "    \n",
    "    def _dccrate(m, t):\n",
    "        if t == 0:\n",
    "            return pyo.Constraint.Skip\n",
    "        else:\n",
    "            return m.dcc[t] == m.k2 * m.cb[t]\n",
    "    m.dccrate = pyo.Constraint(m.time, rule = _dccrate)\n",
    "    \n",
    "    def _initcon(m):\n",
    "        yield m.ca[m.time.first()] == ca0\n",
    "        yield m.cb[m.time.first()] == cb0\n",
    "        yield m.cc[m.time.first()] == cc0\n",
    "    m.initcon = pyo.ConstraintList(rule = _initcon)\n",
    "    \n",
    "\n",
    "    def obj_rule(m):\n",
    "        return sum((m.ca[t] - ca_meas[t]) ** 2 + (m.cb[t] - cb_meas[t]) ** 2 \n",
    "                   + (m.cc[t] - cc_meas[t]) ** 2 for t in meas_t) \n",
    "    m.obj = pyo.Objective(rule=obj_rule)\n",
    "    \n",
    "    if disctype == 'colloc':\n",
    "        disc = pyo.TransformationFactory('dae.collocation')\n",
    "        disc.apply_to(m, nfe=20, ncp=2)\n",
    "    else:\n",
    "        disc = pyo.TransformationFactory('dae.finite_difference')\n",
    "        disc.apply_to(m, nfe=500, scheme = 'BACKWARD')\n",
    "    \n",
    "    return m"
   ]
  },
  {
   "cell_type": "code",
   "execution_count": 5,
   "metadata": {},
   "outputs": [
    {
     "name": "stdout",
     "output_type": "stream",
     "text": [
      "Ipopt 3.12: \n",
      "\n",
      "******************************************************************************\n",
      "This program contains Ipopt, a library for large-scale nonlinear optimization.\n",
      " Ipopt is released as open source code under the Eclipse Public License (EPL).\n",
      "         For more information visit http://projects.coin-or.org/Ipopt\n",
      "******************************************************************************\n",
      "\n",
      "This is Ipopt version 3.12, running with linear solver ma27.\n",
      "\n",
      "Number of nonzeros in equality constraint Jacobian...:      923\n",
      "Number of nonzeros in inequality constraint Jacobian.:        0\n",
      "Number of nonzeros in Lagrangian Hessian.............:      140\n",
      "\n",
      "Total number of variables............................:      245\n",
      "                     variables with only lower bounds:        0\n",
      "                variables with lower and upper bounds:      125\n",
      "                     variables with only upper bounds:        0\n",
      "Total number of equality constraints.................:      243\n",
      "Total number of inequality constraints...............:        0\n",
      "        inequality constraints with only lower bounds:        0\n",
      "   inequality constraints with lower and upper bounds:        0\n",
      "        inequality constraints with only upper bounds:        0\n",
      "\n",
      "iter    objective    inf_pr   inf_du lg(mu)  ||d||  lg(rg) alpha_du alpha_pr  ls\n",
      "   0  2.9003548e+01 4.95e-01 9.91e-01  -1.0 0.00e+00    -  0.00e+00 0.00e+00   0\n",
      "   1  2.2865493e+01 6.03e-02 8.81e+00  -1.0 1.88e+00    -  1.86e-01 1.00e+00f  1\n",
      "   2  2.1570305e+01 8.19e-02 1.58e+01  -1.0 8.41e+00   0.0 7.04e-02 1.31e-01f  1\n",
      "   3  2.0870551e+01 7.50e-02 1.03e+01  -1.0 7.98e-01    -  2.03e-01 8.46e-02f  1\n",
      "   4  2.0735965e+01 2.53e-02 8.85e+01  -1.0 4.73e-01    -  2.76e-01 1.00e+00h  1\n",
      "   5  1.5646476e+01 1.16e-01 7.01e+01  -1.0 5.09e-01    -  1.01e-01 8.26e-01f  1\n",
      "   6  6.1861966e+00 2.01e-01 4.18e+01  -1.0 8.12e-01    -  1.15e-01 9.22e-01f  1\n",
      "   7  5.8709011e+00 4.08e-02 1.13e+01  -1.0 2.41e-01   1.3 9.90e-01 1.00e+00f  1\n",
      "   8  3.5607796e+00 2.08e-02 3.08e+00  -1.0 1.50e-01    -  1.00e+00 1.00e+00f  1\n",
      "   9  2.9120550e+00 3.18e-03 1.17e-01  -1.0 7.09e-02    -  1.00e+00 1.00e+00h  1\n",
      "iter    objective    inf_pr   inf_du lg(mu)  ||d||  lg(rg) alpha_du alpha_pr  ls\n",
      "  10  1.5309698e+00 1.54e-02 2.64e+01  -2.5 1.46e-01    -  7.28e-01 1.00e+00f  1\n",
      "  11  6.2171319e-01 2.92e-02 3.03e+00  -2.5 2.43e-01    -  8.85e-01 9.70e-01f  1\n",
      "  12  2.0391262e-01 3.23e-02 4.85e-01  -2.5 3.00e-01    -  1.00e+00 1.00e+00h  1\n",
      "  13  6.6788377e-02 2.98e-02 4.42e-01  -2.5 3.45e-01    -  1.00e+00 1.00e+00h  1\n",
      "  14  5.8864714e-02 1.11e-03 8.27e-02  -2.5 8.59e-02    -  1.00e+00 1.00e+00h  1\n",
      "  15  6.3370244e-02 1.59e-04 1.11e-02  -2.5 2.65e-02    -  1.00e+00 1.00e+00h  1\n",
      "  16  2.7560235e-02 1.77e-02 3.06e-01  -3.8 2.81e-01    -  8.99e-01 1.00e+00h  1\n",
      "  17  2.6220383e-02 3.69e-04 4.59e-01  -3.8 5.10e-02    -  6.44e-01 1.00e+00h  1\n",
      "  18  2.6207566e-02 1.57e-04 9.83e-03  -3.8 2.92e-02    -  1.00e+00 1.00e+00h  1\n",
      "  19  2.6227366e-02 2.93e-06 1.20e-05  -3.8 3.87e-03    -  1.00e+00 1.00e+00h  1\n",
      "iter    objective    inf_pr   inf_du lg(mu)  ||d||  lg(rg) alpha_du alpha_pr  ls\n",
      "  20  2.6124103e-02 5.82e-05 1.77e-03  -5.7 1.70e-02    -  1.00e+00 1.00e+00h  1\n",
      "  21  2.6121505e-02 2.35e-09 4.00e-08  -5.7 7.14e-05    -  1.00e+00 1.00e+00h  1\n",
      "  22  2.6121490e-02 8.84e-09 2.76e-07  -8.6 2.10e-04    -  1.00e+00 1.00e+00h  1\n",
      "  23  2.6121489e-02 1.83e-15 9.26e-16  -8.6 1.12e-08    -  1.00e+00 1.00e+00h  1\n",
      "\n",
      "Number of Iterations....: 23\n",
      "\n",
      "                                   (scaled)                 (unscaled)\n",
      "Objective...............:   2.6121489430675222e-02    2.6121489430675222e-02\n",
      "Dual infeasibility......:   9.2616006651004862e-16    9.2616006651004862e-16\n",
      "Constraint violation....:   1.8318679906315083e-15    1.8318679906315083e-15\n",
      "Complementarity.........:   2.5059035630693578e-09    2.5059035630693578e-09\n",
      "Overall NLP error.......:   2.5059035630693578e-09    2.5059035630693578e-09\n",
      "\n",
      "\n",
      "Number of objective function evaluations             = 24\n",
      "Number of objective gradient evaluations             = 24\n",
      "Number of equality constraint evaluations            = 24\n",
      "Number of inequality constraint evaluations          = 0\n",
      "Number of equality constraint Jacobian evaluations   = 24\n",
      "Number of inequality constraint Jacobian evaluations = 0\n",
      "Number of Lagrangian Hessian evaluations             = 23\n",
      "Total CPU secs in IPOPT (w/o function evaluations)   =      0.020\n",
      "Total CPU secs in NLP function evaluations           =      0.000\n",
      "\n",
      "EXIT: Optimal Solution Found.\n"
     ]
    },
    {
     "data": {
      "text/plain": [
       "{'Problem': [{'Lower bound': -inf, 'Upper bound': inf, 'Number of objectives': 1, 'Number of constraints': 243, 'Number of variables': 245, 'Sense': 'unknown'}], 'Solver': [{'Status': 'ok', 'Message': 'Ipopt 3.12\\\\x3a Optimal Solution Found', 'Termination condition': 'optimal', 'Id': 0, 'Error rc': 0, 'Time': 0.049991607666015625}], 'Solution': [OrderedDict([('number of solutions', 0), ('number of solutions displayed', 0)])]}"
      ]
     },
     "execution_count": 5,
     "metadata": {},
     "output_type": "execute_result"
    }
   ],
   "source": [
    "m = ABC_model(data[0], 'colloc')\n",
    "solver = pyo.SolverFactory('ipopt')\n",
    "solver.solve(m, tee = True)"
   ]
  },
  {
   "cell_type": "code",
   "execution_count": 6,
   "metadata": {},
   "outputs": [
    {
     "data": {
      "text/plain": [
       "(2.014379764315871, 0.9944520544219083)"
      ]
     },
     "execution_count": 6,
     "metadata": {},
     "output_type": "execute_result"
    }
   ],
   "source": [
    "# Estimated parameters\n",
    "m.k1(), m.k2()"
   ]
  },
  {
   "cell_type": "code",
   "execution_count": null,
   "metadata": {},
   "outputs": [],
   "source": [
    "# Get ca, cb, cc profiles with estimated parameters\n",
    "ms = ABC_model(data[0], 'colloc')\n",
    "ms.k1.fix(m.k1())\n",
    "ms.k2.fix(m.k2())\n",
    "solver = pyo.SolverFactory('ipopt')\n",
    "solver.solve(ms, tee = True)"
   ]
  },
  {
   "cell_type": "code",
   "execution_count": null,
   "metadata": {},
   "outputs": [],
   "source": [
    "fig, ax = plt.subplots()\n",
    "ax.plot(list(ms.time), [ms.ca[t]() for t in ms.time])\n",
    "ax.plot(list(ms.time), [ms.cb[t]() for t in ms.time])\n",
    "ax.plot(list(ms.time), [ms.cc[t]() for t in ms.time])\n",
    "ax.scatter(data[0]['ca_meas'].keys(), data[0]['ca_meas'].values())\n",
    "ax.scatter(data[0]['cb_meas'].keys(), data[0]['cb_meas'].values())\n",
    "ax.scatter(data[0]['cc_meas'].keys(), data[0]['cc_meas'].values())"
   ]
  },
  {
   "cell_type": "code",
   "execution_count": 7,
   "metadata": {},
   "outputs": [],
   "source": [
    "m = ABC_model(data[0], 'colloc')"
   ]
  },
  {
   "cell_type": "code",
   "execution_count": 8,
   "metadata": {},
   "outputs": [
    {
     "name": "stdout",
     "output_type": "stream",
     "text": [
      "Ipopt 3.12: bound_relax_factor=0\n",
      "honor_original_bounds=no\n",
      "\n",
      "\n",
      "******************************************************************************\n",
      "This program contains Ipopt, a library for large-scale nonlinear optimization.\n",
      " Ipopt is released as open source code under the Eclipse Public License (EPL).\n",
      "         For more information visit http://projects.coin-or.org/Ipopt\n",
      "******************************************************************************\n",
      "\n",
      "This is Ipopt version 3.12, running with linear solver ma27.\n",
      "\n",
      "Number of nonzeros in equality constraint Jacobian...:      923\n",
      "Number of nonzeros in inequality constraint Jacobian.:        0\n",
      "Number of nonzeros in Lagrangian Hessian.............:      140\n",
      "\n",
      "Total number of variables............................:      245\n",
      "                     variables with only lower bounds:        0\n",
      "                variables with lower and upper bounds:      125\n",
      "                     variables with only upper bounds:        0\n",
      "Total number of equality constraints.................:      243\n",
      "Total number of inequality constraints...............:        0\n",
      "        inequality constraints with only lower bounds:        0\n",
      "   inequality constraints with lower and upper bounds:        0\n",
      "        inequality constraints with only upper bounds:        0\n",
      "\n",
      "iter    objective    inf_pr   inf_du lg(mu)  ||d||  lg(rg) alpha_du alpha_pr  ls\n",
      "   0  2.9003548e+01 4.95e-01 9.91e-01  -1.0 0.00e+00    -  0.00e+00 0.00e+00   0\n",
      "   1  2.2865493e+01 6.03e-02 8.81e+00  -1.0 1.88e+00    -  1.86e-01 1.00e+00f  1\n",
      "   2  2.1570307e+01 8.19e-02 1.58e+01  -1.0 8.41e+00   0.0 7.04e-02 1.31e-01f  1\n",
      "   3  2.0870543e+01 7.50e-02 1.03e+01  -1.0 7.98e-01    -  2.03e-01 8.46e-02f  1\n",
      "   4  2.0735957e+01 2.53e-02 8.85e+01  -1.0 4.73e-01    -  2.76e-01 1.00e+00h  1\n",
      "   5  1.5646462e+01 1.16e-01 7.01e+01  -1.0 5.09e-01    -  1.01e-01 8.26e-01f  1\n",
      "   6  6.1862768e+00 2.01e-01 4.18e+01  -1.0 8.12e-01    -  1.15e-01 9.22e-01f  1\n",
      "   7  5.8709802e+00 4.08e-02 1.13e+01  -1.0 2.41e-01   1.3 9.90e-01 1.00e+00f  1\n",
      "   8  3.5608352e+00 2.08e-02 3.08e+00  -1.0 1.50e-01    -  1.00e+00 1.00e+00f  1\n",
      "   9  2.9120474e+00 3.18e-03 1.16e-01  -1.0 7.09e-02    -  1.00e+00 1.00e+00h  1\n",
      "iter    objective    inf_pr   inf_du lg(mu)  ||d||  lg(rg) alpha_du alpha_pr  ls\n",
      "  10  1.5309630e+00 1.54e-02 2.64e+01  -2.5 1.46e-01    -  7.28e-01 1.00e+00f  1\n",
      "  11  6.2171356e-01 2.92e-02 3.03e+00  -2.5 2.43e-01    -  8.85e-01 9.70e-01f  1\n",
      "  12  2.0391384e-01 3.23e-02 4.85e-01  -2.5 3.00e-01    -  1.00e+00 1.00e+00h  1\n",
      "  13  6.6788578e-02 2.98e-02 4.42e-01  -2.5 3.45e-01    -  1.00e+00 1.00e+00h  1\n",
      "  14  5.8864724e-02 1.11e-03 8.27e-02  -2.5 8.59e-02    -  1.00e+00 1.00e+00h  1\n",
      "  15  6.3370340e-02 1.59e-04 1.11e-02  -2.5 2.65e-02    -  1.00e+00 1.00e+00h  1\n",
      "  16  2.7560237e-02 1.77e-02 3.06e-01  -3.8 2.81e-01    -  8.99e-01 1.00e+00h  1\n",
      "  17  2.6220385e-02 3.69e-04 4.59e-01  -3.8 5.10e-02    -  6.44e-01 1.00e+00h  1\n",
      "  18  2.6207566e-02 1.57e-04 9.83e-03  -3.8 2.92e-02    -  1.00e+00 1.00e+00h  1\n",
      "  19  2.6227366e-02 2.93e-06 1.21e-05  -3.8 3.87e-03    -  1.00e+00 1.00e+00h  1\n",
      "iter    objective    inf_pr   inf_du lg(mu)  ||d||  lg(rg) alpha_du alpha_pr  ls\n",
      "  20  2.6124103e-02 5.82e-05 1.77e-03  -5.7 1.70e-02    -  1.00e+00 1.00e+00h  1\n",
      "  21  2.6121505e-02 2.35e-09 4.00e-08  -5.7 7.14e-05    -  1.00e+00 1.00e+00h  1\n",
      "  22  2.6121490e-02 8.84e-09 2.76e-07  -8.6 2.10e-04    -  1.00e+00 1.00e+00h  1\n",
      "  23  2.6121489e-02 3.13e-15 9.04e-16  -8.6 1.12e-08    -  1.00e+00 1.00e+00h  1\n",
      "\n",
      "Number of Iterations....: 23\n",
      "\n",
      "                                   (scaled)                 (unscaled)\n",
      "Objective...............:   2.6121489430675219e-02    2.6121489430675219e-02\n",
      "Dual infeasibility......:   9.0438896902170980e-16    9.0438896902170980e-16\n",
      "Constraint violation....:   3.1294411506621600e-15    3.1294411506621600e-15\n",
      "Complementarity.........:   2.5059035630693690e-09    2.5059035630693690e-09\n",
      "Overall NLP error.......:   2.5059035630693690e-09    2.5059035630693690e-09\n",
      "\n",
      "\n",
      "Number of objective function evaluations             = 24\n",
      "Number of objective gradient evaluations             = 24\n",
      "Number of equality constraint evaluations            = 24\n",
      "Number of inequality constraint evaluations          = 0\n",
      "Number of equality constraint Jacobian evaluations   = 24\n",
      "Number of inequality constraint Jacobian evaluations = 0\n",
      "Number of Lagrangian Hessian evaluations             = 23\n",
      "Total CPU secs in IPOPT (w/o function evaluations)   =      0.012\n",
      "Total CPU secs in NLP function evaluations           =      0.004\n",
      "\n",
      "EXIT: Optimal Solution Found.\n"
     ]
    }
   ],
   "source": [
    "solve_result, inv_red_hes = inv_reduced_hessian_barrier(m, \n",
    "                    independent_variables= [m.k1, m.k2],\n",
    "                    tee=True)"
   ]
  },
  {
   "cell_type": "code",
   "execution_count": 10,
   "metadata": {},
   "outputs": [
    {
     "data": {
      "text/plain": [
       "array([[ 2.52667348, -0.38785187],\n",
       "       [-0.38785187,  0.3463586 ]])"
      ]
     },
     "execution_count": 10,
     "metadata": {},
     "output_type": "execute_result"
    }
   ],
   "source": [
    "inv_red_hes"
   ]
  },
  {
   "cell_type": "code",
   "execution_count": 13,
   "metadata": {},
   "outputs": [
    {
     "data": {
      "text/plain": [
       "(20, 4)"
      ]
     },
     "execution_count": 13,
     "metadata": {},
     "output_type": "execute_result"
    }
   ],
   "source": [
    "data_df.shape"
   ]
  },
  {
   "cell_type": "code",
   "execution_count": 14,
   "metadata": {},
   "outputs": [
    {
     "data": {
      "text/plain": [
       "0.02612148943067522"
      ]
     },
     "execution_count": 14,
     "metadata": {},
     "output_type": "execute_result"
    }
   ],
   "source": [
    "n = 20*4\n",
    "k = 2\n",
    "sse = m.obj()\n",
    "sse"
   ]
  },
  {
   "cell_type": "code",
   "execution_count": 15,
   "metadata": {},
   "outputs": [
    {
     "data": {
      "text/plain": [
       "array([[ 0.00169232, -0.00025978],\n",
       "       [-0.00025978,  0.00023198]])"
      ]
     },
     "execution_count": 15,
     "metadata": {},
     "output_type": "execute_result"
    }
   ],
   "source": [
    "cov_est = 2 * sse / (n - k) * inv_red_hes\n",
    "cov_est"
   ]
  },
  {
   "cell_type": "code",
   "execution_count": null,
   "metadata": {},
   "outputs": [],
   "source": []
  }
 ],
 "metadata": {
  "kernelspec": {
   "display_name": "Python 3",
   "language": "python",
   "name": "python3"
  },
  "language_info": {
   "codemirror_mode": {
    "name": "ipython",
    "version": 3
   },
   "file_extension": ".py",
   "mimetype": "text/x-python",
   "name": "python",
   "nbconvert_exporter": "python",
   "pygments_lexer": "ipython3",
   "version": "3.8.5"
  }
 },
 "nbformat": 4,
 "nbformat_minor": 2
}
