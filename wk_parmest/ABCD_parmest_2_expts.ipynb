{
 "cells": [
  {
   "cell_type": "markdown",
   "metadata": {},
   "source": [
    "This is an attempt to recreate the parameter estimation [example](https://sites.engineering.ucsb.edu/~jbraw/chemreacfun/fig-html/appendix/fig-A-10.html) from James Rawlings book on [Reactor Design](https://sites.engineering.ucsb.edu/~jbraw/chemreacfun/) using Pyomo."
   ]
  },
  {
   "cell_type": "code",
   "execution_count": 18,
   "metadata": {},
   "outputs": [],
   "source": [
    "# Import libraries\n",
    "import numpy as np\n",
    "import matplotlib.pyplot as plt\n",
    "import pandas as pd\n",
    "import pyomo.environ as pyo\n",
    "import pyomo.dae as dae"
   ]
  },
  {
   "cell_type": "code",
   "execution_count": 19,
   "metadata": {},
   "outputs": [
    {
     "data": {
      "text/html": [
       "<div>\n",
       "<style scoped>\n",
       "    .dataframe tbody tr th:only-of-type {\n",
       "        vertical-align: middle;\n",
       "    }\n",
       "\n",
       "    .dataframe tbody tr th {\n",
       "        vertical-align: top;\n",
       "    }\n",
       "\n",
       "    .dataframe thead th {\n",
       "        text-align: right;\n",
       "    }\n",
       "</style>\n",
       "<table border=\"1\" class=\"dataframe\">\n",
       "  <thead>\n",
       "    <tr style=\"text-align: right;\">\n",
       "      <th></th>\n",
       "      <th>A</th>\n",
       "      <th>B</th>\n",
       "      <th>C</th>\n",
       "      <th>D</th>\n",
       "    </tr>\n",
       "  </thead>\n",
       "  <tbody>\n",
       "    <tr>\n",
       "      <th>0.000000</th>\n",
       "      <td>1.041989</td>\n",
       "      <td>0.957302</td>\n",
       "      <td>-0.112837</td>\n",
       "      <td>-0.063992</td>\n",
       "    </tr>\n",
       "    <tr>\n",
       "      <th>0.544445</th>\n",
       "      <td>0.606033</td>\n",
       "      <td>0.507213</td>\n",
       "      <td>0.335157</td>\n",
       "      <td>0.178739</td>\n",
       "    </tr>\n",
       "    <tr>\n",
       "      <th>1.166667</th>\n",
       "      <td>0.408613</td>\n",
       "      <td>0.192682</td>\n",
       "      <td>0.272406</td>\n",
       "      <td>0.249736</td>\n",
       "    </tr>\n",
       "    <tr>\n",
       "      <th>1.711111</th>\n",
       "      <td>0.498139</td>\n",
       "      <td>0.171993</td>\n",
       "      <td>0.289555</td>\n",
       "      <td>0.251345</td>\n",
       "    </tr>\n",
       "    <tr>\n",
       "      <th>2.333333</th>\n",
       "      <td>0.451026</td>\n",
       "      <td>0.132128</td>\n",
       "      <td>0.196068</td>\n",
       "      <td>0.281246</td>\n",
       "    </tr>\n",
       "  </tbody>\n",
       "</table>\n",
       "</div>"
      ],
      "text/plain": [
       "                 A         B         C         D\n",
       "0.000000  1.041989  0.957302 -0.112837 -0.063992\n",
       "0.544445  0.606033  0.507213  0.335157  0.178739\n",
       "1.166667  0.408613  0.192682  0.272406  0.249736\n",
       "1.711111  0.498139  0.171993  0.289555  0.251345\n",
       "2.333333  0.451026  0.132128  0.196068  0.281246"
      ]
     },
     "execution_count": 19,
     "metadata": {},
     "output_type": "execute_result"
    }
   ],
   "source": [
    "data_df_1 = pd.read_csv(\"https://raw.githubusercontent.com/notesofdabbler/learn_kipet/master/my_data_sets/ABCD_cb0_1.csv\", index_col = 0)\n",
    "data_df_1.head()"
   ]
  },
  {
   "cell_type": "code",
   "execution_count": 20,
   "metadata": {},
   "outputs": [
    {
     "data": {
      "text/html": [
       "<div>\n",
       "<style scoped>\n",
       "    .dataframe tbody tr th:only-of-type {\n",
       "        vertical-align: middle;\n",
       "    }\n",
       "\n",
       "    .dataframe tbody tr th {\n",
       "        vertical-align: top;\n",
       "    }\n",
       "\n",
       "    .dataframe thead th {\n",
       "        text-align: right;\n",
       "    }\n",
       "</style>\n",
       "<table border=\"1\" class=\"dataframe\">\n",
       "  <thead>\n",
       "    <tr style=\"text-align: right;\">\n",
       "      <th></th>\n",
       "      <th>A</th>\n",
       "      <th>B</th>\n",
       "      <th>C</th>\n",
       "      <th>D</th>\n",
       "    </tr>\n",
       "  </thead>\n",
       "  <tbody>\n",
       "    <tr>\n",
       "      <th>0.000000</th>\n",
       "      <td>1.003906</td>\n",
       "      <td>1.975654</td>\n",
       "      <td>0.039959</td>\n",
       "      <td>0.009157</td>\n",
       "    </tr>\n",
       "    <tr>\n",
       "      <th>0.311111</th>\n",
       "      <td>0.554819</td>\n",
       "      <td>1.383557</td>\n",
       "      <td>0.328321</td>\n",
       "      <td>0.194300</td>\n",
       "    </tr>\n",
       "    <tr>\n",
       "      <th>0.666667</th>\n",
       "      <td>0.375822</td>\n",
       "      <td>1.012860</td>\n",
       "      <td>0.272322</td>\n",
       "      <td>0.378839</td>\n",
       "    </tr>\n",
       "    <tr>\n",
       "      <th>0.977778</th>\n",
       "      <td>0.305279</td>\n",
       "      <td>0.864239</td>\n",
       "      <td>0.244618</td>\n",
       "      <td>0.496218</td>\n",
       "    </tr>\n",
       "    <tr>\n",
       "      <th>1.333333</th>\n",
       "      <td>0.269072</td>\n",
       "      <td>0.667304</td>\n",
       "      <td>0.151982</td>\n",
       "      <td>0.610147</td>\n",
       "    </tr>\n",
       "  </tbody>\n",
       "</table>\n",
       "</div>"
      ],
      "text/plain": [
       "                 A         B         C         D\n",
       "0.000000  1.003906  1.975654  0.039959  0.009157\n",
       "0.311111  0.554819  1.383557  0.328321  0.194300\n",
       "0.666667  0.375822  1.012860  0.272322  0.378839\n",
       "0.977778  0.305279  0.864239  0.244618  0.496218\n",
       "1.333333  0.269072  0.667304  0.151982  0.610147"
      ]
     },
     "execution_count": 20,
     "metadata": {},
     "output_type": "execute_result"
    }
   ],
   "source": [
    "data_df_2 = pd.read_csv(\"https://raw.githubusercontent.com/notesofdabbler/learn_kipet/master/my_data_sets/ABCD_cb0_2.csv\", index_col = 0)\n",
    "data_df_2.head()"
   ]
  },
  {
   "cell_type": "code",
   "execution_count": 21,
   "metadata": {},
   "outputs": [],
   "source": [
    "# Convert data to a list of dictionaries\n",
    "data = [{'A': {k:v for (k, v) in zip(data_df_1.index, data_df_1.A)},\n",
    "    'C': {k:v for (k, v) in zip(data_df_1.index, data_df_1.C)},\n",
    "       'init': {'A': 1, 'B': 1, 'C': 0, 'D':0}}]\n",
    "data.append(\n",
    "{'B': {k:v for (k, v) in zip(data_df_2.index, data_df_2.B)},\n",
    "    'D': {k:v for (k, v) in zip(data_df_2.index, data_df_2.D)},\n",
    "       'init': {'A': 1, 'B': 2, 'C': 0, 'D':0}}\n",
    ")\n"
   ]
  },
  {
   "cell_type": "code",
   "execution_count": 22,
   "metadata": {},
   "outputs": [],
   "source": [
    "def genblock(b, k):\n",
    "    b.dummy = pyo.Param(initialize = 1)\n"
   ]
  },
  {
   "cell_type": "code",
   "execution_count": 46,
   "metadata": {},
   "outputs": [],
   "source": [
    "def ABC_model(m, b, data, disctype, sim):\n",
    "    \n",
    "    species = ['A', 'B', 'C', 'D']\n",
    "    id_species = {'A': 0, 'B': 1, 'C': 2, 'D': 3}\n",
    "    \n",
    "    S = np.array([[-1.0, -1.0, 1.0, 0.0],\n",
    "                  [0.0, -1.0, -1.0, 1.0]\n",
    "                 ])\n",
    "    \n",
    "    meas_t = np.array([list(data[k].keys()) for k in data.keys() if k in species])\n",
    "    meas_t = list(np.unique(meas_t.flatten()))\n",
    "    max_t = np.max(meas_t)\n",
    "           \n",
    "    c0 = data['init']\n",
    "    \n",
    "    def _c_init_rule(b, t, j):\n",
    "        return c0[j]\n",
    "    \n",
    "    b.errsq = pyo.Var(within = pyo.NonNegativeReals)\n",
    "    b.time = dae.ContinuousSet(bounds = (0.0, max_t), initialize = meas_t)\n",
    "    b.c = pyo.Var(b.time, species, initialize = _c_init_rule, bounds = (0, 2))\n",
    "    \n",
    "    b.dc = dae.DerivativeVar(b.c, wrt = b.time)\n",
    "    \n",
    "    def _dcrate(b, t, j):\n",
    "        \n",
    "        nrxn = S.shape[0]\n",
    "        nspec = S.shape[1]\n",
    "        rrate = {}\n",
    "        for i in range(nrxn):\n",
    "            rrate[i] = m.k[i]\n",
    "            for j2 in range(nspec):\n",
    "                if S[i, j2] < 0:\n",
    "                    rrate[i] = rrate[i] * b.c[t, species[j2]]\n",
    "        \n",
    "        if t == 0:\n",
    "            return pyo.Constraint.Skip\n",
    "        else:\n",
    "            return b.dc[t, j] == sum(S[i, id_species[j]] * rrate[i] for i in rxns)\n",
    "\n",
    "    def _dcrate_sim(b, t, j):\n",
    "        nrxn = S.shape[0]\n",
    "        nspec = S.shape[1]\n",
    "        rrate = {}\n",
    "        for i in range(nrxn):\n",
    "            rrate[i] = m.k[i]\n",
    "            for j2 in range(nspec):\n",
    "                if S[i, j2] < 0:\n",
    "                    rrate[i] = rrate[i] * b.c[t, species[j2]]\n",
    "        return b.dc[t, j] == sum(S[i, id_species[j]] * rrate[i] for i in rxns)\n",
    "    \n",
    "    if sim == 0:\n",
    "        b.dcrate = pyo.Constraint(b.time, species, rule = _dcrate)\n",
    "    else:\n",
    "        b.dcrate = pyo.Constraint(b.time, species, rule = _dcrate_sim)\n",
    "    \n",
    "    for j in species:\n",
    "        b.c[0, j].fix(c0[j])\n",
    "    \n",
    "    def _errsq_rule(b):\n",
    "        expr = 0\n",
    "        for j in species:\n",
    "            if j in data.keys():\n",
    "                expr = expr + sum((b.c[t, j] - data[j][t]) ** 2 for t in meas_t) \n",
    "        return b.errsq == expr \n",
    "    b.errsq_cons = pyo.Constraint(rule=_errsq_rule)\n",
    "    \n",
    "    if disctype == 'colloc':\n",
    "        disc = pyo.TransformationFactory('dae.collocation')\n",
    "        disc.apply_to(b, nfe=20, ncp=2)\n",
    "    else:\n",
    "        disc = pyo.TransformationFactory('dae.finite_difference')\n",
    "        disc.apply_to(b, nfe=500, scheme = 'BACKWARD')\n",
    "    \n",
    "    return m"
   ]
  },
  {
   "cell_type": "code",
   "execution_count": 47,
   "metadata": {},
   "outputs": [],
   "source": [
    "def get_model():\n",
    "    m = pyo.ConcreteModel()\n",
    "\n",
    "    rxns = [0, 1]\n",
    "    m.k = pyo.Var(rxns, initialize = 0.5, bounds = (1e-4, 10))\n",
    "    \n",
    "    expts = [0, 1]\n",
    "    \n",
    "    def genblock(b, k):\n",
    "        b.dummy = pyo.Param(initialize = 1)\n",
    "    m.b = pyo.Block(expts, rule = genblock)\n",
    "    \n",
    "    for e in expts:\n",
    "        m = ABC_model(m, m.b[e], data[e], 'colloc', 0)\n",
    "    \n",
    "    m.obj = pyo.Objective(expr = sum(m.b[e].errsq for e in expts), sense = pyo.minimize)\n",
    "    \n",
    "    return m"
   ]
  },
  {
   "cell_type": "code",
   "execution_count": 48,
   "metadata": {},
   "outputs": [],
   "source": [
    "m = get_model()"
   ]
  },
  {
   "cell_type": "code",
   "execution_count": 49,
   "metadata": {},
   "outputs": [
    {
     "name": "stdout",
     "output_type": "stream",
     "text": [
      "Ipopt 3.12: \n",
      "\n",
      "******************************************************************************\n",
      "This program contains Ipopt, a library for large-scale nonlinear optimization.\n",
      " Ipopt is released as open source code under the Eclipse Public License (EPL).\n",
      "         For more information visit http://projects.coin-or.org/Ipopt\n",
      "******************************************************************************\n",
      "\n",
      "This is Ipopt version 3.12, running with linear solver ma27.\n",
      "\n",
      "Number of nonzeros in equality constraint Jacobian...:     2914\n",
      "Number of nonzeros in inequality constraint Jacobian.:        0\n",
      "Number of nonzeros in Lagrangian Hessian.............:      528\n",
      "\n",
      "Total number of variables............................:      644\n",
      "                     variables with only lower bounds:        2\n",
      "                variables with lower and upper bounds:      322\n",
      "                     variables with only upper bounds:        0\n",
      "Total number of equality constraints.................:      642\n",
      "Total number of inequality constraints...............:        0\n",
      "        inequality constraints with only lower bounds:        0\n",
      "   inequality constraints with lower and upper bounds:        0\n",
      "        inequality constraints with only upper bounds:        0\n",
      "\n",
      "iter    objective    inf_pr   inf_du lg(mu)  ||d||  lg(rg) alpha_du alpha_pr  ls\n",
      "   0  1.9999980e-02 3.10e+01 0.00e+00  -1.0 0.00e+00    -  0.00e+00 0.00e+00   0\n",
      "   1  1.3675810e-01 2.39e+01 9.50e+00  -1.0 8.35e-01    -  2.28e-02 2.41e-01f  1\n",
      "   2  3.7272887e+00 1.70e+01 6.72e+00  -1.0 1.20e+01    -  6.28e-02 2.97e-01f  1\n",
      "   3  1.7590296e+01 3.38e-01 9.01e+01  -1.0 1.29e+01    -  2.37e-02 1.00e+00h  1\n",
      "   4  7.2825309e+00 1.70e+00 6.27e+01  -1.0 9.62e+00    -  8.21e-01 1.00e+00f  1\n",
      "   5  1.5706963e+00 1.58e+00 1.54e+02  -1.0 5.45e+00    -  6.25e-01 1.00e+00f  1\n",
      "   6  2.1721605e+00 1.14e-01 4.86e+00  -1.0 4.16e-01    -  1.00e+00 1.00e+00h  1\n",
      "   7  1.7099423e+00 3.83e-02 1.08e+00  -1.0 4.40e-01    -  1.00e+00 1.00e+00h  1\n",
      "   8  1.6752425e+00 7.42e-04 6.41e-02  -1.0 2.89e-02    -  1.00e+00 1.00e+00h  1\n",
      "   9  7.2158574e-01 1.44e-01 1.93e+01  -2.5 9.02e-01    -  7.12e-01 1.00e+00f  1\n",
      "iter    objective    inf_pr   inf_du lg(mu)  ||d||  lg(rg) alpha_du alpha_pr  ls\n",
      "  10  1.9454681e-01 1.44e-01 1.05e+00  -2.5 4.80e-01    -  8.67e-01 1.00e+00h  1\n",
      "  11  9.2802247e-02 7.67e-02 1.39e-01  -2.5 3.63e-01    -  1.00e+00 8.23e-01h  1\n",
      "  12  1.2155148e-01 1.04e-02 3.59e-02  -2.5 1.97e-01    -  1.00e+00 1.00e+00h  1\n",
      "  13  1.2816162e-01 2.61e-04 1.11e-03  -2.5 3.24e-02    -  1.00e+00 1.00e+00h  1\n",
      "  14  9.9415646e-02 1.16e-02 6.79e-02  -3.8 1.81e-01    -  9.16e-01 1.00e+00h  1\n",
      "  15  1.1155532e-01 1.09e-04 1.67e-01  -3.8 3.42e-02    -  6.35e-01 1.00e+00h  1\n",
      "  16  1.1169351e-01 5.36e-07 1.56e-05  -3.8 8.68e-04    -  1.00e+00 1.00e+00h  1\n",
      "  17  1.1158807e-01 4.75e-05 3.06e-04  -5.7 1.38e-02    -  1.00e+00 1.00e+00h  1\n",
      "  18  1.1164033e-01 8.57e-10 3.87e-08  -5.7 1.03e-04    -  1.00e+00 1.00e+00h  1\n",
      "  19  1.1164032e-01 7.41e-09 4.99e-08  -8.6 1.75e-04    -  1.00e+00 1.00e+00h  1\n",
      "iter    objective    inf_pr   inf_du lg(mu)  ||d||  lg(rg) alpha_du alpha_pr  ls\n",
      "  20  1.1164032e-01 6.88e-15 2.51e-14  -8.6 1.65e-08    -  1.00e+00 1.00e+00h  1\n",
      "\n",
      "Number of Iterations....: 20\n",
      "\n",
      "                                   (scaled)                 (unscaled)\n",
      "Objective...............:   1.1164032364547956e-01    1.1164032364547956e-01\n",
      "Dual infeasibility......:   2.5063921908507922e-14    2.5063921908507922e-14\n",
      "Constraint violation....:   6.8833827526759706e-15    6.8833827526759706e-15\n",
      "Complementarity.........:   2.5059036124236160e-09    2.5059036124236160e-09\n",
      "Overall NLP error.......:   2.5059036124236160e-09    2.5059036124236160e-09\n",
      "\n",
      "\n",
      "Number of objective function evaluations             = 21\n",
      "Number of objective gradient evaluations             = 21\n",
      "Number of equality constraint evaluations            = 21\n",
      "Number of inequality constraint evaluations          = 0\n",
      "Number of equality constraint Jacobian evaluations   = 21\n",
      "Number of inequality constraint Jacobian evaluations = 0\n",
      "Number of Lagrangian Hessian evaluations             = 20\n",
      "Total CPU secs in IPOPT (w/o function evaluations)   =      0.028\n",
      "Total CPU secs in NLP function evaluations           =      0.000\n",
      "\n",
      "EXIT: Optimal Solution Found.\n"
     ]
    },
    {
     "data": {
      "text/plain": [
       "{'Problem': [{'Lower bound': -inf, 'Upper bound': inf, 'Number of objectives': 1, 'Number of constraints': 642, 'Number of variables': 644, 'Sense': 'unknown'}], 'Solver': [{'Status': 'ok', 'Message': 'Ipopt 3.12\\\\x3a Optimal Solution Found', 'Termination condition': 'optimal', 'Id': 0, 'Error rc': 0, 'Time': 0.05825614929199219}], 'Solution': [OrderedDict([('number of solutions', 0), ('number of solutions displayed', 0)])]}"
      ]
     },
     "execution_count": 49,
     "metadata": {},
     "output_type": "execute_result"
    }
   ],
   "source": [
    "solver = pyo.SolverFactory('ipopt')\n",
    "solver.solve(m, tee = True)"
   ]
  },
  {
   "cell_type": "code",
   "execution_count": 50,
   "metadata": {},
   "outputs": [
    {
     "data": {
      "text/plain": [
       "(0.9947794669556348, 2.065614495035512)"
      ]
     },
     "execution_count": 50,
     "metadata": {},
     "output_type": "execute_result"
    }
   ],
   "source": [
    "# Estimated parameters\n",
    "m.k[0](), m.k[1](0)"
   ]
  },
  {
   "cell_type": "code",
   "execution_count": null,
   "metadata": {},
   "outputs": [],
   "source": []
  }
 ],
 "metadata": {
  "kernelspec": {
   "display_name": "Python 3",
   "language": "python",
   "name": "python3"
  },
  "language_info": {
   "codemirror_mode": {
    "name": "ipython",
    "version": 3
   },
   "file_extension": ".py",
   "mimetype": "text/x-python",
   "name": "python",
   "nbconvert_exporter": "python",
   "pygments_lexer": "ipython3",
   "version": "3.7.3"
  }
 },
 "nbformat": 4,
 "nbformat_minor": 2
}
