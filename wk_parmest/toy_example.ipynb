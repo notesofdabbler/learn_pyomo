{
 "cells": [
  {
   "cell_type": "markdown",
   "metadata": {},
   "source": [
    "This is an attempt to recreate the parameter estimation [example](https://sites.engineering.ucsb.edu/~jbraw/chemreacfun/fig-html/appendix/fig-A-10.html) from James Rawlings book on [Reactor Design](https://sites.engineering.ucsb.edu/~jbraw/chemreacfun/) using Pyomo."
   ]
  },
  {
   "cell_type": "code",
   "execution_count": 1,
   "metadata": {},
   "outputs": [],
   "source": [
    "# Import libraries\n",
    "import numpy as np\n",
    "import matplotlib.pyplot as plt\n",
    "import pandas as pd\n",
    "import pyomo.environ as pyo\n",
    "from pyomo.contrib.interior_point.inverse_reduced_hessian import inv_reduced_hessian_barrier"
   ]
  },
  {
   "cell_type": "code",
   "execution_count": 5,
   "metadata": {},
   "outputs": [
    {
     "name": "stdout",
     "output_type": "stream",
     "text": [
      "1.0 0.6 0.36\n"
     ]
    }
   ],
   "source": [
    "k = 0.4\n",
    "c0 = 1.0\n",
    "c1 = c0 * (1.0 - k)\n",
    "c2 = c1 * (1.0 - k)\n",
    "print(c0, c1, c2)"
   ]
  },
  {
   "cell_type": "code",
   "execution_count": 6,
   "metadata": {},
   "outputs": [],
   "source": [
    "cexp = [0.7, 0.2]"
   ]
  },
  {
   "cell_type": "code",
   "execution_count": 51,
   "metadata": {},
   "outputs": [],
   "source": [
    "#\n",
    "# Define the model \n",
    "#\n",
    "def toy_model(cexp):\n",
    "       \n",
    "    c0 = 1.0\n",
    "      \n",
    "    m = pyo.ConcreteModel()\n",
    "    \n",
    "    m.k1 = pyo.Var(initialize = 0.5, bounds = (1e-4, 2.0))\n",
    "    \n",
    "    m.c0_init = pyo.Var(initialize = c0, bounds = (0.0, c0))\n",
    "    m.c0 = pyo.Var(initialize = c0, bounds = (0.0, c0))\n",
    "    m.c1 = pyo.Var(initialize = c0, bounds = (0.0, c0))\n",
    "    m.c2 = pyo.Var(initialize = c0, bounds = (0.0, c0))\n",
    "    \n",
    "    m.c0_cons = pyo.Constraint(expr = m.c0 == m.c0_init)\n",
    "    #m.c0.fix(c0)\n",
    "    m.c1_cons = pyo.Constraint(expr = m.c1 == c0 * (1.0 - m.k1))\n",
    "    m.c2_cons = pyo.Constraint(expr = m.c2 == m.c1 * (1.0 - m.k1))\n",
    "    \n",
    "\n",
    "    def obj_rule(m):\n",
    "        return (m.c1 - cexp[0]) ** 2 + (m.c2 - cexp[1]) ** 2  \n",
    "    m.obj = pyo.Objective(rule=obj_rule)\n",
    "    \n",
    "    return m"
   ]
  },
  {
   "cell_type": "code",
   "execution_count": 52,
   "metadata": {},
   "outputs": [
    {
     "name": "stdout",
     "output_type": "stream",
     "text": [
      "Ipopt 3.14.5: \n",
      "\n",
      "******************************************************************************\n",
      "This program contains Ipopt, a library for large-scale nonlinear optimization.\n",
      " Ipopt is released as open source code under the Eclipse Public License (EPL).\n",
      "         For more information visit https://github.com/coin-or/Ipopt\n",
      "******************************************************************************\n",
      "\n",
      "This is Ipopt version 3.14.5, running with linear solver ma27.\n",
      "\n",
      "Number of nonzeros in equality constraint Jacobian...:        7\n",
      "Number of nonzeros in inequality constraint Jacobian.:        0\n",
      "Number of nonzeros in Lagrangian Hessian.............:        3\n",
      "\n",
      "Total number of variables............................:        5\n",
      "                     variables with only lower bounds:        0\n",
      "                variables with lower and upper bounds:        5\n",
      "                     variables with only upper bounds:        0\n",
      "Total number of equality constraints.................:        3\n",
      "Total number of inequality constraints...............:        0\n",
      "        inequality constraints with only lower bounds:        0\n",
      "   inequality constraints with lower and upper bounds:        0\n",
      "        inequality constraints with only upper bounds:        0\n",
      "\n",
      "iter    objective    inf_pr   inf_du lg(mu)  ||d||  lg(rg) alpha_du alpha_pr  ls\n",
      "   0  7.0820002e-01 4.95e-01 1.04e+00  -1.0 0.00e+00    -  0.00e+00 0.00e+00   0\n",
      "   1  4.7426544e-01 3.37e-02 2.75e+00  -1.0 4.07e-01    -  2.29e-01 1.00e+00f  1\n",
      "   2  9.3120738e-02 3.10e-02 5.14e-01  -1.0 3.53e-01    -  5.02e-01 1.00e+00f  1\n",
      "   3  4.3644547e-02 8.49e-03 2.55e-02  -1.7 1.04e-01    -  9.07e-01 1.00e+00h  1\n",
      "   4  3.2029356e-02 3.53e-03 7.72e-03  -2.5 6.74e-02    -  9.55e-01 1.00e+00h  1\n",
      "   5  3.2394042e-02 1.93e-04 1.61e-04  -3.8 1.39e-02    -  1.00e+00 1.00e+00h  1\n",
      "   6  3.2439488e-02 3.46e-07 7.60e-07  -5.7 3.02e-03    -  1.00e+00 1.00e+00h  1\n",
      "   7  3.2439570e-02 8.04e-13 4.78e-12  -8.6 3.30e-04    -  1.00e+00 1.00e+00h  1\n",
      "\n",
      "Number of Iterations....: 7\n",
      "\n",
      "                                   (scaled)                 (unscaled)\n",
      "Objective...............:   3.2439570398169922e-02    3.2439570398169922e-02\n",
      "Dual infeasibility......:   4.7849994751505921e-12    4.7849994751505921e-12\n",
      "Constraint violation....:   8.0413453673600088e-13    8.0413453673600088e-13\n",
      "Variable bound violation:   0.0000000000000000e+00    0.0000000000000000e+00\n",
      "Complementarity.........:   3.7211803222028588e-09    3.7211803222028588e-09\n",
      "Overall NLP error.......:   3.7211803222028588e-09    3.7211803222028588e-09\n",
      "\n",
      "\n",
      "Number of objective function evaluations             = 8\n",
      "Number of objective gradient evaluations             = 8\n",
      "Number of equality constraint evaluations            = 8\n",
      "Number of inequality constraint evaluations          = 0\n",
      "Number of equality constraint Jacobian evaluations   = 8\n",
      "Number of inequality constraint Jacobian evaluations = 0\n",
      "Number of Lagrangian Hessian evaluations             = 7\n",
      "Total seconds in IPOPT                               = 0.003\n",
      "\n",
      "EXIT: Optimal Solution Found.\n",
      "\b\b\b\b\b\b\b\b\b\b\b\b\b\b"
     ]
    },
    {
     "data": {
      "text/plain": [
       "{'Problem': [{'Lower bound': -inf, 'Upper bound': inf, 'Number of objectives': 1, 'Number of constraints': 3, 'Number of variables': 5, 'Sense': 'unknown'}], 'Solver': [{'Status': 'ok', 'Message': 'Ipopt 3.14.5\\\\x3a Optimal Solution Found', 'Termination condition': 'optimal', 'Id': 0, 'Error rc': 0, 'Time': 0.0184783935546875}], 'Solution': [OrderedDict([('number of solutions', 0), ('number of solutions displayed', 0)])]}"
      ]
     },
     "execution_count": 52,
     "metadata": {},
     "output_type": "execute_result"
    }
   ],
   "source": [
    "m = toy_model(cexp)\n",
    "solver = pyo.SolverFactory('ipopt')\n",
    "solver.solve(m, tee = True)"
   ]
  },
  {
   "cell_type": "code",
   "execution_count": 57,
   "metadata": {},
   "outputs": [
    {
     "data": {
      "text/plain": [
       "(0.4348903894590993,\n",
       " 0.6760460960475564,\n",
       " 0.5651096105409008,\n",
       " 0.3193488719256722,\n",
       " 0.032439570398357945)"
      ]
     },
     "execution_count": 57,
     "metadata": {},
     "output_type": "execute_result"
    }
   ],
   "source": [
    "# Estimated parameters\n",
    "m.k1(), m.c0(), m.c1(), m.c2(), m.obj()"
   ]
  },
  {
   "cell_type": "code",
   "execution_count": 54,
   "metadata": {},
   "outputs": [
    {
     "name": "stdout",
     "output_type": "stream",
     "text": [
      "Ipopt 3.14.5: bound_relax_factor=0\n",
      "honor_original_bounds=no\n",
      "\n",
      "\n",
      "******************************************************************************\n",
      "This program contains Ipopt, a library for large-scale nonlinear optimization.\n",
      " Ipopt is released as open source code under the Eclipse Public License (EPL).\n",
      "         For more information visit https://github.com/coin-or/Ipopt\n",
      "******************************************************************************\n",
      "\n",
      "This is Ipopt version 3.14.5, running with linear solver ma27.\n",
      "\n",
      "Number of nonzeros in equality constraint Jacobian...:        7\n",
      "Number of nonzeros in inequality constraint Jacobian.:        0\n",
      "Number of nonzeros in Lagrangian Hessian.............:        3\n",
      "\n",
      "Total number of variables............................:        5\n",
      "                     variables with only lower bounds:        0\n",
      "                variables with lower and upper bounds:        5\n",
      "                     variables with only upper bounds:        0\n",
      "Total number of equality constraints.................:        3\n",
      "Total number of inequality constraints...............:        0\n",
      "        inequality constraints with only lower bounds:        0\n",
      "   inequality constraints with lower and upper bounds:        0\n",
      "        inequality constraints with only upper bounds:        0\n",
      "\n",
      "iter    objective    inf_pr   inf_du lg(mu)  ||d||  lg(rg) alpha_du alpha_pr  ls\n",
      "   0  3.2439570e-02 8.04e-13 2.57e-10  -1.0 0.00e+00    -  0.00e+00 0.00e+00   0\n",
      "   1  3.2446487e-02 3.04e-06 3.12e-04  -1.0 4.85e-02    -  1.00e+00 1.00e+00f  1\n",
      "   2  3.2440510e-02 1.11e-06 1.83e-04  -2.5 5.49e-03    -  1.00e+00 1.00e+00h  1\n",
      "   3  3.2439463e-02 4.53e-07 3.11e-06  -3.8 1.00e-02    -  1.00e+00 1.00e+00h  1\n",
      "   4  3.2439570e-02 3.23e-10 4.79e-09  -5.7 2.19e-03    -  1.00e+00 1.00e+00h  1\n",
      "   5  3.2439570e-02 1.63e-14 4.24e-13  -8.6 2.39e-04    -  1.00e+00 1.00e+00h  1\n",
      "\n",
      "Number of Iterations....: 5\n",
      "\n",
      "                                   (scaled)                 (unscaled)\n",
      "Objective...............:   3.2439570398357945e-02    3.2439570398357945e-02\n",
      "Dual infeasibility......:   4.2449873750201599e-13    4.2449873750201599e-13\n",
      "Constraint violation....:   1.6320278461989801e-14    1.6320278461989801e-14\n",
      "Variable bound violation:   0.0000000000000000e+00    0.0000000000000000e+00\n",
      "Complementarity.........:   3.3882126371868018e-09    3.3882126371868018e-09\n",
      "Overall NLP error.......:   3.3882126371868018e-09    3.3882126371868018e-09\n",
      "\n",
      "\n",
      "Number of objective function evaluations             = 6\n",
      "Number of objective gradient evaluations             = 6\n",
      "Number of equality constraint evaluations            = 6\n",
      "Number of inequality constraint evaluations          = 0\n",
      "Number of equality constraint Jacobian evaluations   = 6\n",
      "Number of inequality constraint Jacobian evaluations = 0\n",
      "Number of Lagrangian Hessian evaluations             = 5\n",
      "Total seconds in IPOPT                               = 0.001\n",
      "\n",
      "EXIT: Optimal Solution Found.\n"
     ]
    }
   ],
   "source": [
    "solve_result, inv_red_hes = inv_reduced_hessian_barrier(m, \n",
    "                    independent_variables= [m.k1],\n",
    "                    tee=True)"
   ]
  },
  {
   "cell_type": "code",
   "execution_count": null,
   "metadata": {},
   "outputs": [],
   "source": []
  }
 ],
 "metadata": {
  "kernelspec": {
   "display_name": "Python 3 (ipykernel)",
   "language": "python",
   "name": "python3"
  },
  "language_info": {
   "codemirror_mode": {
    "name": "ipython",
    "version": 3
   },
   "file_extension": ".py",
   "mimetype": "text/x-python",
   "name": "python",
   "nbconvert_exporter": "python",
   "pygments_lexer": "ipython3",
   "version": "3.8.10"
  }
 },
 "nbformat": 4,
 "nbformat_minor": 2
}
