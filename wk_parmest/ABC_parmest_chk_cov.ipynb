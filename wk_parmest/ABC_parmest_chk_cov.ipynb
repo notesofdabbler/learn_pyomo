{
 "cells": [
  {
   "cell_type": "markdown",
   "metadata": {},
   "source": [
    "This is an attempt to recreate the parameter estimation [example](https://sites.engineering.ucsb.edu/~jbraw/chemreacfun/fig-html/appendix/fig-A-10.html) from James Rawlings book on [Reactor Design](https://sites.engineering.ucsb.edu/~jbraw/chemreacfun/) using Pyomo."
   ]
  },
  {
   "cell_type": "code",
   "execution_count": 8,
   "metadata": {},
   "outputs": [],
   "source": [
    "# Import libraries\n",
    "from scipy.integrate import solve_ivp\n",
    "import numpy as np\n",
    "import matplotlib.pyplot as plt\n",
    "import pandas as pd\n",
    "import pyomo.environ as pyo\n",
    "import pyomo.dae as dae\n",
    "import scipy.stats as spstat\n",
    "from pyomo.contrib.interior_point.inverse_reduced_hessian import inv_reduced_hessian_barrier"
   ]
  },
  {
   "cell_type": "markdown",
   "metadata": {},
   "source": [
    "This example has a series reaction $A \\rightarrow B \\rightarrow C$. The dataset consists of measures concentrations of A, B and C over time. The goal is to estimate the rate constants $k_1$ and $k_2$ for the two reactions."
   ]
  },
  {
   "cell_type": "code",
   "execution_count": 2,
   "metadata": {},
   "outputs": [
    {
     "data": {
      "text/html": [
       "<div>\n",
       "<style scoped>\n",
       "    .dataframe tbody tr th:only-of-type {\n",
       "        vertical-align: middle;\n",
       "    }\n",
       "\n",
       "    .dataframe tbody tr th {\n",
       "        vertical-align: top;\n",
       "    }\n",
       "\n",
       "    .dataframe thead th {\n",
       "        text-align: right;\n",
       "    }\n",
       "</style>\n",
       "<table border=\"1\" class=\"dataframe\">\n",
       "  <thead>\n",
       "    <tr style=\"text-align: right;\">\n",
       "      <th></th>\n",
       "      <th>t</th>\n",
       "      <th>ca</th>\n",
       "      <th>cb</th>\n",
       "      <th>cc</th>\n",
       "    </tr>\n",
       "  </thead>\n",
       "  <tbody>\n",
       "    <tr>\n",
       "      <th>0</th>\n",
       "      <td>0.000</td>\n",
       "      <td>0.957</td>\n",
       "      <td>-0.031</td>\n",
       "      <td>-0.015</td>\n",
       "    </tr>\n",
       "    <tr>\n",
       "      <th>1</th>\n",
       "      <td>0.263</td>\n",
       "      <td>0.557</td>\n",
       "      <td>0.330</td>\n",
       "      <td>0.044</td>\n",
       "    </tr>\n",
       "    <tr>\n",
       "      <th>2</th>\n",
       "      <td>0.526</td>\n",
       "      <td>0.342</td>\n",
       "      <td>0.512</td>\n",
       "      <td>0.156</td>\n",
       "    </tr>\n",
       "    <tr>\n",
       "      <th>3</th>\n",
       "      <td>0.789</td>\n",
       "      <td>0.224</td>\n",
       "      <td>0.499</td>\n",
       "      <td>0.310</td>\n",
       "    </tr>\n",
       "    <tr>\n",
       "      <th>4</th>\n",
       "      <td>1.053</td>\n",
       "      <td>0.123</td>\n",
       "      <td>0.428</td>\n",
       "      <td>0.454</td>\n",
       "    </tr>\n",
       "  </tbody>\n",
       "</table>\n",
       "</div>"
      ],
      "text/plain": [
       "       t     ca     cb     cc\n",
       "0  0.000  0.957 -0.031 -0.015\n",
       "1  0.263  0.557  0.330  0.044\n",
       "2  0.526  0.342  0.512  0.156\n",
       "3  0.789  0.224  0.499  0.310\n",
       "4  1.053  0.123  0.428  0.454"
      ]
     },
     "execution_count": 2,
     "metadata": {},
     "output_type": "execute_result"
    }
   ],
   "source": [
    "data_df = pd.read_csv(\"ABC_data.csv\")\n",
    "data_df.head()"
   ]
  },
  {
   "cell_type": "code",
   "execution_count": 3,
   "metadata": {},
   "outputs": [],
   "source": [
    "# Convert data to a list of dictionaries\n",
    "data = [{'ca_meas': {k:v for (k, v) in zip(data_df.t, data_df.ca)},\n",
    "    'cb_meas': {k:v for (k, v) in zip(data_df.t, data_df.cb)},\n",
    "    'cc_meas': {k:v for (k, v) in zip(data_df.t, data_df.cc)} }]"
   ]
  },
  {
   "cell_type": "code",
   "execution_count": 4,
   "metadata": {},
   "outputs": [],
   "source": [
    "#\n",
    "# Define the model \n",
    "#\n",
    "def ABC_model(data, disctype):\n",
    "    \n",
    "    ca_meas = data['ca_meas']\n",
    "    cb_meas = data['cb_meas']\n",
    "    cc_meas = data['cc_meas']\n",
    "    \n",
    "    meas_t = list(ca_meas.keys())\n",
    "       \n",
    "    ca0 = 1.0\n",
    "    cb0 = 0.0\n",
    "    cc0 = 0.0\n",
    "        \n",
    "    m = pyo.ConcreteModel()\n",
    "    \n",
    "    m.k1 = pyo.Var(initialize = 0.5, bounds = (1e-4, 10))\n",
    "    m.k2 = pyo.Var(initialize = 3.0, bounds = (1e-4, 10))\n",
    "    \n",
    "    m.time = dae.ContinuousSet(bounds = (0.0, 5.0), initialize = meas_t)\n",
    "    m.ca = pyo.Var(m.time, initialize = ca0, bounds = (0, ca0))\n",
    "    m.cb = pyo.Var(m.time, initialize = cb0, bounds = (0, ca0))\n",
    "    m.cc = pyo.Var(m.time, initialize = cc0, bounds = (0, ca0))\n",
    "    \n",
    "    m.dca = dae.DerivativeVar(m.ca, wrt = m.time)\n",
    "    m.dcb = dae.DerivativeVar(m.cb, wrt = m.time)\n",
    "    m.dcc = dae.DerivativeVar(m.cc, wrt = m.time)\n",
    "    \n",
    "    def _dcarate(m, t):\n",
    "        if t == 0:\n",
    "            return pyo.Constraint.Skip\n",
    "        else:\n",
    "            return m.dca[t] == -m.k1 * m.ca[t]\n",
    "    m.dcarate = pyo.Constraint(m.time, rule = _dcarate)\n",
    "    \n",
    "    def _dcbrate(m, t):\n",
    "        if t == 0:\n",
    "            return pyo.Constraint.Skip\n",
    "        else:\n",
    "            return m.dcb[t] == m.k1 * m.ca[t] - m.k2 * m.cb[t]\n",
    "    m.dcbrate = pyo.Constraint(m.time, rule = _dcbrate)\n",
    "    \n",
    "    def _dccrate(m, t):\n",
    "        if t == 0:\n",
    "            return pyo.Constraint.Skip\n",
    "        else:\n",
    "            return m.dcc[t] == m.k2 * m.cb[t]\n",
    "    m.dccrate = pyo.Constraint(m.time, rule = _dccrate)\n",
    "    \n",
    "    def _initcon(m):\n",
    "        yield m.ca[m.time.first()] == ca0\n",
    "        yield m.cb[m.time.first()] == cb0\n",
    "        yield m.cc[m.time.first()] == cc0\n",
    "    m.initcon = pyo.ConstraintList(rule = _initcon)\n",
    "    \n",
    "\n",
    "    def obj_rule(m):\n",
    "        return sum((m.ca[t] - ca_meas[t]) ** 2 + (m.cb[t] - cb_meas[t]) ** 2 \n",
    "                   + (m.cc[t] - cc_meas[t]) ** 2 for t in meas_t) \n",
    "    m.obj = pyo.Objective(rule=obj_rule)\n",
    "    \n",
    "    if disctype == 'colloc':\n",
    "        disc = pyo.TransformationFactory('dae.collocation')\n",
    "        disc.apply_to(m, nfe=20, ncp=2)\n",
    "    else:\n",
    "        disc = pyo.TransformationFactory('dae.finite_difference')\n",
    "        disc.apply_to(m, nfe=500, scheme = 'BACKWARD')\n",
    "    \n",
    "    return m"
   ]
  },
  {
   "cell_type": "code",
   "execution_count": 11,
   "metadata": {},
   "outputs": [
    {
     "name": "stdout",
     "output_type": "stream",
     "text": [
      "Ipopt 3.12: \n",
      "\n",
      "******************************************************************************\n",
      "This program contains Ipopt, a library for large-scale nonlinear optimization.\n",
      " Ipopt is released as open source code under the Eclipse Public License (EPL).\n",
      "         For more information visit http://projects.coin-or.org/Ipopt\n",
      "******************************************************************************\n",
      "\n",
      "This is Ipopt version 3.12, running with linear solver ma27.\n",
      "\n",
      "Number of nonzeros in equality constraint Jacobian...:      923\n",
      "Number of nonzeros in inequality constraint Jacobian.:        0\n",
      "Number of nonzeros in Lagrangian Hessian.............:      140\n",
      "\n",
      "Total number of variables............................:      245\n",
      "                     variables with only lower bounds:        0\n",
      "                variables with lower and upper bounds:      125\n",
      "                     variables with only upper bounds:        0\n",
      "Total number of equality constraints.................:      243\n",
      "Total number of inequality constraints...............:        0\n",
      "        inequality constraints with only lower bounds:        0\n",
      "   inequality constraints with lower and upper bounds:        0\n",
      "        inequality constraints with only upper bounds:        0\n",
      "\n",
      "iter    objective    inf_pr   inf_du lg(mu)  ||d||  lg(rg) alpha_du alpha_pr  ls\n",
      "   0  2.8934592e+01 4.95e-01 9.90e-01  -1.0 0.00e+00    -  0.00e+00 0.00e+00   0\n",
      "   1  2.3122313e+01 8.13e-02 8.35e+00  -1.0 2.07e+00    -  1.83e-01 9.45e-01f  1\n",
      "   2  2.2475230e+01 7.55e-02 3.51e+01  -1.0 3.52e+00   0.0 1.22e-01 8.11e-02f  1\n",
      "   3  1.1727282e+01 1.30e-01 1.43e+04  -1.0 2.32e+00    -  9.67e-02 3.25e-01f  1\n",
      "   4  1.8286069e+01 3.96e-02 4.39e+03  -1.0 4.02e-01    -  1.69e-01 9.90e-01h  1\n",
      "   5  1.0556544e+01 1.08e-01 1.09e+04  -1.0 1.08e+00    -  1.41e-01 3.60e-01f  1\n",
      "   6  6.0166870e+00 2.66e-02 7.25e+03  -1.0 2.55e-01    -  8.37e-01 9.95e-01f  1\n",
      "   7  3.4606225e+00 2.18e-02 5.14e+05  -1.0 1.71e-01    -  8.87e-01 1.00e+00f  1\n",
      "   8  2.8034164e+00 9.27e-03 1.79e+00  -1.0 1.44e-01    -  1.00e+00 1.00e+00h  1\n",
      "   9  1.4784607e+00 1.47e-02 3.24e+06  -3.8 1.66e-01    -  6.75e-01 1.00e+00f  1\n",
      "iter    objective    inf_pr   inf_du lg(mu)  ||d||  lg(rg) alpha_du alpha_pr  ls\n",
      "  10  6.4341316e-01 2.59e-02 9.56e+05  -3.8 2.40e-01    -  7.05e-01 9.10e-01f  1\n",
      "  11  2.0937033e-01 3.08e-02 1.72e+05  -3.8 2.85e-01    -  8.20e-01 1.00e+00h  1\n",
      "  12  1.3577784e-01 2.38e-02 2.02e+01  -3.8 3.52e-01    -  1.00e+00 3.64e-01h  1\n",
      "  13  3.9760987e-02 2.56e-02 1.47e+00  -3.8 3.27e-01    -  1.00e+00 1.00e+00h  1\n",
      "  14  2.9188701e-02 2.34e-02 7.95e+01  -3.8 3.48e-01    -  4.12e-01 1.00e+00h  1\n",
      "  15  2.6682483e-02 1.23e-04 1.58e+01  -3.8 1.75e-02    -  3.79e-01 1.00e+00h  1\n",
      "  16  2.6242140e-02 8.67e-04 3.61e-01  -3.8 6.97e-02    -  1.00e+00 1.00e+00h  1\n",
      "  17  2.6446523e-02 8.24e-05 4.62e-03  -3.8 2.05e-02    -  1.00e+00 1.00e+00h  1\n",
      "  18  2.6455515e-02 8.16e-08 1.91e-05  -3.8 6.05e-04    -  1.00e+00 1.00e+00h  1\n",
      "  19  2.6130078e-02 2.44e-04 8.91e+01  -5.7 3.62e-02    -  9.94e-01 1.00e+00h  1\n",
      "iter    objective    inf_pr   inf_du lg(mu)  ||d||  lg(rg) alpha_du alpha_pr  ls\n",
      "  20  2.6121543e-02 3.45e-07 2.22e-04  -5.7 1.53e-03    -  1.00e+00 1.00e+00h  1\n",
      "  21  2.6121542e-02 1.61e-10 4.70e-08  -5.7 2.94e-05    -  1.00e+00 1.00e+00h  1\n",
      "  22  2.6121491e-02 4.34e-08 6.17e-06  -8.6 4.87e-04    -  1.00e+00 1.00e+00h  1\n",
      "  23  2.6121489e-02 9.77e-15 7.36e-12  -8.6 2.58e-07    -  1.00e+00 1.00e+00h  1\n",
      "\n",
      "Number of Iterations....: 23\n",
      "\n",
      "                                   (scaled)                 (unscaled)\n",
      "Objective...............:   2.6121489430743400e-02    2.6121489430743400e-02\n",
      "Dual infeasibility......:   7.3555990371593960e-12    7.3555990371593960e-12\n",
      "Constraint violation....:   9.7699626167013776e-15    9.7699626167013776e-15\n",
      "Complementarity.........:   2.5059037235371631e-09    2.5059037235371631e-09\n",
      "Overall NLP error.......:   2.5059037235371631e-09    2.5059037235371631e-09\n",
      "\n",
      "\n",
      "Number of objective function evaluations             = 24\n",
      "Number of objective gradient evaluations             = 24\n",
      "Number of equality constraint evaluations            = 24\n",
      "Number of inequality constraint evaluations          = 0\n",
      "Number of equality constraint Jacobian evaluations   = 24\n",
      "Number of inequality constraint Jacobian evaluations = 0\n",
      "Number of Lagrangian Hessian evaluations             = 23\n",
      "Total CPU secs in IPOPT (w/o function evaluations)   =      0.008\n",
      "Total CPU secs in NLP function evaluations           =      0.008\n",
      "\n",
      "EXIT: Optimal Solution Found.\n"
     ]
    },
    {
     "data": {
      "text/plain": [
       "{'Problem': [{'Lower bound': -inf, 'Upper bound': inf, 'Number of objectives': 1, 'Number of constraints': 243, 'Number of variables': 245, 'Sense': 'unknown'}], 'Solver': [{'Status': 'ok', 'Message': 'Ipopt 3.12\\\\x3a Optimal Solution Found', 'Termination condition': 'optimal', 'Id': 0, 'Error rc': 0, 'Time': 0.056366920471191406}], 'Solution': [OrderedDict([('number of solutions', 0), ('number of solutions displayed', 0)])]}"
      ]
     },
     "execution_count": 11,
     "metadata": {},
     "output_type": "execute_result"
    }
   ],
   "source": [
    "m = ABC_model(data[0], 'colloc')\n",
    "solver = pyo.SolverFactory('ipopt')\n",
    "solver.solve(m, tee = True)"
   ]
  },
  {
   "cell_type": "code",
   "execution_count": 6,
   "metadata": {},
   "outputs": [
    {
     "data": {
      "text/plain": [
       "(2.014379387598275, 0.99445210909278)"
      ]
     },
     "execution_count": 6,
     "metadata": {},
     "output_type": "execute_result"
    }
   ],
   "source": [
    "# Estimated parameters\n",
    "m.k1(), m.k2()"
   ]
  },
  {
   "cell_type": "code",
   "execution_count": null,
   "metadata": {},
   "outputs": [],
   "source": [
    "# Get ca, cb, cc profiles with estimated parameters\n",
    "ms = ABC_model(data[0], 'colloc')\n",
    "ms.k1.fix(m.k1())\n",
    "ms.k2.fix(m.k2())\n",
    "solver = pyo.SolverFactory('ipopt')\n",
    "solver.solve(ms, tee = True)"
   ]
  },
  {
   "cell_type": "code",
   "execution_count": null,
   "metadata": {},
   "outputs": [],
   "source": [
    "fig, ax = plt.subplots()\n",
    "ax.plot(list(ms.time), [ms.ca[t]() for t in ms.time])\n",
    "ax.plot(list(ms.time), [ms.cb[t]() for t in ms.time])\n",
    "ax.plot(list(ms.time), [ms.cc[t]() for t in ms.time])\n",
    "ax.scatter(data[0]['ca_meas'].keys(), data[0]['ca_meas'].values())\n",
    "ax.scatter(data[0]['cb_meas'].keys(), data[0]['cb_meas'].values())\n",
    "ax.scatter(data[0]['cc_meas'].keys(), data[0]['cc_meas'].values())"
   ]
  },
  {
   "cell_type": "code",
   "execution_count": 9,
   "metadata": {},
   "outputs": [],
   "source": [
    "m = ABC_model(data[0], 'colloc')"
   ]
  },
  {
   "cell_type": "code",
   "execution_count": 12,
   "metadata": {},
   "outputs": [
    {
     "name": "stdout",
     "output_type": "stream",
     "text": [
      "Ipopt 3.12: bound_relax_factor=0\n",
      "honor_original_bounds=no\n",
      "\n",
      "\n",
      "******************************************************************************\n",
      "This program contains Ipopt, a library for large-scale nonlinear optimization.\n",
      " Ipopt is released as open source code under the Eclipse Public License (EPL).\n",
      "         For more information visit http://projects.coin-or.org/Ipopt\n",
      "******************************************************************************\n",
      "\n",
      "This is Ipopt version 3.12, running with linear solver ma27.\n",
      "\n",
      "Number of nonzeros in equality constraint Jacobian...:      923\n",
      "Number of nonzeros in inequality constraint Jacobian.:        0\n",
      "Number of nonzeros in Lagrangian Hessian.............:      140\n",
      "\n",
      "Total number of variables............................:      245\n",
      "                     variables with only lower bounds:        0\n",
      "                variables with lower and upper bounds:      125\n",
      "                     variables with only upper bounds:        0\n",
      "Total number of equality constraints.................:      243\n",
      "Total number of inequality constraints...............:        0\n",
      "        inequality constraints with only lower bounds:        0\n",
      "   inequality constraints with lower and upper bounds:        0\n",
      "        inequality constraints with only upper bounds:        0\n",
      "\n",
      "iter    objective    inf_pr   inf_du lg(mu)  ||d||  lg(rg) alpha_du alpha_pr  ls\n",
      "   0  2.8181763e-02 7.60e-02 6.16e-04  -1.0 0.00e+00    -  0.00e+00 0.00e+00   0\n",
      "   1  4.2039801e-01 1.63e-01 6.95e+00  -1.0 8.95e-01    -  8.12e-01 9.90e-01f  1\n",
      "   2  8.7355944e-01 7.40e-03 4.41e+02  -1.0 8.86e-02    -  5.49e-01 9.90e-01f  1\n",
      "   3  1.7111608e+00 5.15e-02 2.91e+04  -1.0 4.13e-01    -  6.99e-01 9.90e-01f  1\n",
      "   4  2.6416331e+00 2.19e-02 5.99e+06  -1.0 1.85e-01    -  3.91e-01 9.90e-01h  1\n",
      "   5  2.7365443e+00 2.98e-04 9.94e+06  -1.0 2.45e-02    -  1.00e+00 9.90e-01h  1\n",
      "   6  2.7919094e+00 4.59e-05 1.00e+09  -1.0 8.66e-03    -  1.00e+00 9.90e-01h  1\n",
      "   7  2.7917289e+00 4.63e-07 1.00e+11  -1.0 1.11e-04    -  1.00e+00 9.90e-01h  1\n",
      "In iteration 7, 3 Slacks too small, adjusting variable bounds\n",
      "   8  2.7917269e+00 4.63e-09 1.00e+13  -1.0 1.16e-06    -  1.00e+00 9.90e-01h  1\n",
      "   9  2.7917269e+00 2.28e-15 1.02e-01  -1.0 1.16e-08    -  1.00e+00 1.00e+00h  1\n",
      "iter    objective    inf_pr   inf_du lg(mu)  ||d||  lg(rg) alpha_du alpha_pr  ls\n",
      "  10  1.4786456e+00 1.44e-02 3.08e+12  -9.0 1.41e-01    -  6.98e-01 1.00e+00f  1\n",
      "  11  6.4939673e-01 2.57e-02 9.53e+11  -9.0 2.45e-01    -  6.91e-01 8.82e-01f  1\n",
      "  12  2.0992623e-01 3.13e-02 2.52e+11  -9.0 2.87e-01    -  7.35e-01 1.00e+00h  1\n",
      "  13  1.6353292e-01 2.57e-02 5.28e+10  -9.0 3.37e-01    -  7.91e-01 2.27e-01h  1\n",
      "  14  4.6468918e-02 2.71e-02 9.63e+09  -9.0 3.29e-01    -  8.18e-01 1.00e+00h  1\n",
      "  15  2.8689350e-02 2.76e-02 1.42e+09  -9.0 3.72e-01    -  8.52e-01 1.00e+00h  1\n",
      "  16  6.0485069e-02 2.65e-02 1.34e+09  -9.0 4.05e-01    -  6.07e-02 1.00e+00h  1\n",
      "  17  8.3119351e-02 6.81e-03 1.34e+09  -9.0 2.31e-01    -  3.02e-04 1.00e+00h  1\n",
      "  18  6.1421620e-02 4.04e-03 4.51e+08  -9.0 1.68e-01    -  6.63e-01 1.00e+00h  1\n",
      "  19  3.5794312e-02 1.19e-02 2.87e+08  -9.0 2.85e-01    -  3.63e-01 1.00e+00h  1\n",
      "iter    objective    inf_pr   inf_du lg(mu)  ||d||  lg(rg) alpha_du alpha_pr  ls\n",
      "  20  2.7177160e-02 4.47e-03 1.79e+08  -9.0 1.56e-01    -  3.75e-01 1.00e+00h  1\n",
      "  21  2.6145917e-02 7.18e-04 6.11e+07  -9.0 6.05e-02    -  6.59e-01 1.00e+00h  1\n",
      "  22  2.6121561e-02 2.10e-06 8.98e+05  -9.0 2.89e-03    -  9.85e-01 1.00e+00h  1\n",
      "  23  2.6121489e-02 2.74e-11 6.11e-11  -9.0 1.09e-05    -  1.00e+00 1.00e+00h  1\n",
      "\n",
      "Number of Iterations....: 23\n",
      "\n",
      "                                   (scaled)                 (unscaled)\n",
      "Objective...............:   2.6121489431600163e-02    2.6121489431600163e-02\n",
      "Dual infeasibility......:   6.1088392206388382e-11    6.1088392206388382e-11\n",
      "Constraint violation....:   2.7436941607561494e-11    2.7436941607561494e-11\n",
      "Complementarity.........:   9.0916048243036361e-10    9.0916048243036361e-10\n",
      "Overall NLP error.......:   8.2754778163908621e-11    9.0916048243036361e-10\n",
      "\n",
      "\n",
      "Number of objective function evaluations             = 24\n",
      "Number of objective gradient evaluations             = 24\n",
      "Number of equality constraint evaluations            = 24\n",
      "Number of inequality constraint evaluations          = 0\n",
      "Number of equality constraint Jacobian evaluations   = 24\n",
      "Number of inequality constraint Jacobian evaluations = 0\n",
      "Number of Lagrangian Hessian evaluations             = 23\n",
      "Total CPU secs in IPOPT (w/o function evaluations)   =      0.008\n",
      "Total CPU secs in NLP function evaluations           =      0.000\n",
      "\n",
      "EXIT: Optimal Solution Found.\n"
     ]
    },
    {
     "ename": "RuntimeError",
     "evalue": "Factor is exactly singular",
     "output_type": "error",
     "traceback": [
      "\u001b[0;31m---------------------------------------------------------------------------\u001b[0m",
      "\u001b[0;31mRuntimeError\u001b[0m                              Traceback (most recent call last)",
      "\u001b[0;32m<ipython-input-12-72af29123326>\u001b[0m in \u001b[0;36m<module>\u001b[0;34m\u001b[0m\n\u001b[0;32m----> 1\u001b[0;31m solve_result, inv_red_hes = inv_reduced_hessian_barrier(m, \n\u001b[0m\u001b[1;32m      2\u001b[0m                     \u001b[0mindependent_variables\u001b[0m\u001b[0;34m=\u001b[0m \u001b[0;34m[\u001b[0m\u001b[0mm\u001b[0m\u001b[0;34m.\u001b[0m\u001b[0mk1\u001b[0m\u001b[0;34m,\u001b[0m \u001b[0mm\u001b[0m\u001b[0;34m.\u001b[0m\u001b[0mk2\u001b[0m\u001b[0;34m]\u001b[0m\u001b[0;34m,\u001b[0m\u001b[0;34m\u001b[0m\u001b[0;34m\u001b[0m\u001b[0m\n\u001b[1;32m      3\u001b[0m                     tee=True)\n",
      "\u001b[0;32m~/anaconda3/envs/my_pyomoenv/lib/python3.8/site-packages/pyomo/contrib/interior_point/inverse_reduced_hessian.py\u001b[0m in \u001b[0;36minv_reduced_hessian_barrier\u001b[0;34m(model, independent_variables, bound_tolerance, solver_options, tee)\u001b[0m\n\u001b[1;32m    118\u001b[0m     \u001b[0mlinear_solver\u001b[0m \u001b[0;34m=\u001b[0m \u001b[0mScipyInterface\u001b[0m\u001b[0;34m(\u001b[0m\u001b[0mcompute_inertia\u001b[0m\u001b[0;34m=\u001b[0m\u001b[0;32mFalse\u001b[0m\u001b[0;34m)\u001b[0m\u001b[0;34m\u001b[0m\u001b[0;34m\u001b[0m\u001b[0m\n\u001b[1;32m    119\u001b[0m     \u001b[0mlinear_solver\u001b[0m\u001b[0;34m.\u001b[0m\u001b[0mdo_symbolic_factorization\u001b[0m\u001b[0;34m(\u001b[0m\u001b[0mkkt\u001b[0m\u001b[0;34m)\u001b[0m\u001b[0;34m\u001b[0m\u001b[0;34m\u001b[0m\u001b[0m\n\u001b[0;32m--> 120\u001b[0;31m     \u001b[0mlinear_solver\u001b[0m\u001b[0;34m.\u001b[0m\u001b[0mdo_numeric_factorization\u001b[0m\u001b[0;34m(\u001b[0m\u001b[0mkkt\u001b[0m\u001b[0;34m)\u001b[0m\u001b[0;34m\u001b[0m\u001b[0;34m\u001b[0m\u001b[0m\n\u001b[0m\u001b[1;32m    121\u001b[0m \u001b[0;34m\u001b[0m\u001b[0m\n\u001b[1;32m    122\u001b[0m     \u001b[0mn_rh\u001b[0m \u001b[0;34m=\u001b[0m \u001b[0mlen\u001b[0m\u001b[0;34m(\u001b[0m\u001b[0mind_var_indices\u001b[0m\u001b[0;34m)\u001b[0m\u001b[0;34m\u001b[0m\u001b[0;34m\u001b[0m\u001b[0m\n",
      "\u001b[0;32m~/anaconda3/envs/my_pyomoenv/lib/python3.8/site-packages/pyomo/contrib/interior_point/linalg/scipy_interface.py\u001b[0m in \u001b[0;36mdo_numeric_factorization\u001b[0;34m(self, matrix, raise_on_error)\u001b[0m\n\u001b[1;32m     31\u001b[0m         \u001b[0;32mexcept\u001b[0m \u001b[0mRuntimeError\u001b[0m \u001b[0;32mas\u001b[0m \u001b[0merr\u001b[0m\u001b[0;34m:\u001b[0m\u001b[0;34m\u001b[0m\u001b[0;34m\u001b[0m\u001b[0m\n\u001b[1;32m     32\u001b[0m             \u001b[0;32mif\u001b[0m \u001b[0mraise_on_error\u001b[0m\u001b[0;34m:\u001b[0m\u001b[0;34m\u001b[0m\u001b[0;34m\u001b[0m\u001b[0m\n\u001b[0;32m---> 33\u001b[0;31m                 \u001b[0;32mraise\u001b[0m \u001b[0merr\u001b[0m\u001b[0;34m\u001b[0m\u001b[0;34m\u001b[0m\u001b[0m\n\u001b[0m\u001b[1;32m     34\u001b[0m             \u001b[0;32mif\u001b[0m \u001b[0;34m'Factor is exactly singular'\u001b[0m \u001b[0;32min\u001b[0m \u001b[0mstr\u001b[0m\u001b[0;34m(\u001b[0m\u001b[0merr\u001b[0m\u001b[0;34m)\u001b[0m\u001b[0;34m:\u001b[0m\u001b[0;34m\u001b[0m\u001b[0;34m\u001b[0m\u001b[0m\n\u001b[1;32m     35\u001b[0m                 \u001b[0mres\u001b[0m\u001b[0;34m.\u001b[0m\u001b[0mstatus\u001b[0m \u001b[0;34m=\u001b[0m \u001b[0mLinearSolverStatus\u001b[0m\u001b[0;34m.\u001b[0m\u001b[0msingular\u001b[0m\u001b[0;34m\u001b[0m\u001b[0;34m\u001b[0m\u001b[0m\n",
      "\u001b[0;32m~/anaconda3/envs/my_pyomoenv/lib/python3.8/site-packages/pyomo/contrib/interior_point/linalg/scipy_interface.py\u001b[0m in \u001b[0;36mdo_numeric_factorization\u001b[0;34m(self, matrix, raise_on_error)\u001b[0m\n\u001b[1;32m     27\u001b[0m         \u001b[0mres\u001b[0m \u001b[0;34m=\u001b[0m \u001b[0mLinearSolverResults\u001b[0m\u001b[0;34m(\u001b[0m\u001b[0;34m)\u001b[0m\u001b[0;34m\u001b[0m\u001b[0;34m\u001b[0m\u001b[0m\n\u001b[1;32m     28\u001b[0m         \u001b[0;32mtry\u001b[0m\u001b[0;34m:\u001b[0m\u001b[0;34m\u001b[0m\u001b[0;34m\u001b[0m\u001b[0m\n\u001b[0;32m---> 29\u001b[0;31m             \u001b[0mself\u001b[0m\u001b[0;34m.\u001b[0m\u001b[0m_lu\u001b[0m \u001b[0;34m=\u001b[0m \u001b[0msplu\u001b[0m\u001b[0;34m(\u001b[0m\u001b[0mmatrix\u001b[0m\u001b[0;34m)\u001b[0m\u001b[0;34m\u001b[0m\u001b[0;34m\u001b[0m\u001b[0m\n\u001b[0m\u001b[1;32m     30\u001b[0m             \u001b[0mres\u001b[0m\u001b[0;34m.\u001b[0m\u001b[0mstatus\u001b[0m \u001b[0;34m=\u001b[0m \u001b[0mLinearSolverStatus\u001b[0m\u001b[0;34m.\u001b[0m\u001b[0msuccessful\u001b[0m\u001b[0;34m\u001b[0m\u001b[0;34m\u001b[0m\u001b[0m\n\u001b[1;32m     31\u001b[0m         \u001b[0;32mexcept\u001b[0m \u001b[0mRuntimeError\u001b[0m \u001b[0;32mas\u001b[0m \u001b[0merr\u001b[0m\u001b[0;34m:\u001b[0m\u001b[0;34m\u001b[0m\u001b[0;34m\u001b[0m\u001b[0m\n",
      "\u001b[0;32m~/anaconda3/envs/my_pyomoenv/lib/python3.8/site-packages/scipy/sparse/linalg/dsolve/linsolve.py\u001b[0m in \u001b[0;36msplu\u001b[0;34m(A, permc_spec, diag_pivot_thresh, relax, panel_size, options)\u001b[0m\n\u001b[1;32m    335\u001b[0m         \u001b[0m_options\u001b[0m\u001b[0;34m[\u001b[0m\u001b[0;34m\"SymmetricMode\"\u001b[0m\u001b[0;34m]\u001b[0m \u001b[0;34m=\u001b[0m \u001b[0;32mTrue\u001b[0m\u001b[0;34m\u001b[0m\u001b[0;34m\u001b[0m\u001b[0m\n\u001b[1;32m    336\u001b[0m \u001b[0;34m\u001b[0m\u001b[0m\n\u001b[0;32m--> 337\u001b[0;31m     return _superlu.gstrf(N, A.nnz, A.data, A.indices, A.indptr,\n\u001b[0m\u001b[1;32m    338\u001b[0m                           \u001b[0mcsc_construct_func\u001b[0m\u001b[0;34m=\u001b[0m\u001b[0mcsc_construct_func\u001b[0m\u001b[0;34m,\u001b[0m\u001b[0;34m\u001b[0m\u001b[0;34m\u001b[0m\u001b[0m\n\u001b[1;32m    339\u001b[0m                           ilu=False, options=_options)\n",
      "\u001b[0;31mRuntimeError\u001b[0m: Factor is exactly singular"
     ]
    }
   ],
   "source": [
    "solve_result, inv_red_hes = inv_reduced_hessian_barrier(m, \n",
    "                    independent_variables= [m.k1, m.k2],\n",
    "                    tee=True)"
   ]
  },
  {
   "cell_type": "code",
   "execution_count": null,
   "metadata": {},
   "outputs": [],
   "source": []
  },
  {
   "cell_type": "code",
   "execution_count": null,
   "metadata": {},
   "outputs": [],
   "source": []
  }
 ],
 "metadata": {
  "kernelspec": {
   "display_name": "Python 3",
   "language": "python",
   "name": "python3"
  },
  "language_info": {
   "codemirror_mode": {
    "name": "ipython",
    "version": 3
   },
   "file_extension": ".py",
   "mimetype": "text/x-python",
   "name": "python",
   "nbconvert_exporter": "python",
   "pygments_lexer": "ipython3",
   "version": "3.8.5"
  }
 },
 "nbformat": 4,
 "nbformat_minor": 2
}
