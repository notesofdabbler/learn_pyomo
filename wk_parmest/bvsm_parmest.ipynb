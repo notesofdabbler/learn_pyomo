{
 "cells": [
  {
   "cell_type": "code",
   "execution_count": 1,
   "metadata": {},
   "outputs": [],
   "source": [
    "#\n",
    "# https://github.com/rawlings-group/paresto/blob/master/examples/green_book/bvsm.m\n",
    "#\n",
    "# I had trouble fitting relative error sum(lc/lc_pred - 1)^2 as done in the example\n",
    "# So I chose minimizing sum(lc - lc_pred)^2. Still I had trouble with collocation. But finite difference\n",
    "# discretization worked."
   ]
  },
  {
   "cell_type": "code",
   "execution_count": 2,
   "metadata": {},
   "outputs": [],
   "source": [
    "# Import libraries\n",
    "from pyomo.environ import *\n",
    "from pyomo.dae import *\n",
    "import pyomo.contrib.parmest.parmest as parmest\n",
    "import pandas as pd\n",
    "import numpy as np\n",
    "import matplotlib.pyplot as plt\n",
    "from scipy.interpolate import interp1d"
   ]
  },
  {
   "cell_type": "code",
   "execution_count": 3,
   "metadata": {},
   "outputs": [],
   "source": [
    "# load flow rate data\n",
    "flow_data = pd.read_csv('flow_data.csv')\n",
    "lc_data = pd.read_csv('lc_data.csv')\n",
    "teaf      = 0.00721\n",
    "teaden    = 0.728\n",
    "cBf = teaf"
   ]
  },
  {
   "cell_type": "code",
   "execution_count": 4,
   "metadata": {},
   "outputs": [],
   "source": [
    "tQf = np.insert(flow_data['t'].values, 0, 0)\n",
    "Qf = np.insert(flow_data[\"Qf\"].values / teaden, 0, 0)"
   ]
  },
  {
   "cell_type": "code",
   "execution_count": 5,
   "metadata": {},
   "outputs": [],
   "source": [
    "tlc = lc_data['t'].values\n",
    "lc = lc_data['lc_meas'].values"
   ]
  },
  {
   "cell_type": "code",
   "execution_count": 6,
   "metadata": {},
   "outputs": [],
   "source": [
    "tout = np.sort(np.unique(np.concatenate((tQf, tlc))))"
   ]
  },
  {
   "cell_type": "code",
   "execution_count": 7,
   "metadata": {},
   "outputs": [
    {
     "data": {
      "text/plain": [
       "869"
      ]
     },
     "execution_count": 7,
     "metadata": {},
     "output_type": "execute_result"
    }
   ],
   "source": [
    "max(tout)"
   ]
  },
  {
   "cell_type": "code",
   "execution_count": 8,
   "metadata": {},
   "outputs": [],
   "source": [
    "Qf_if = interp1d(tQf, Qf, 'previous', bounds_error = False)\n",
    "lc_if = interp1d(tlc, lc, 'previous', bounds_error = False)"
   ]
  },
  {
   "cell_type": "code",
   "execution_count": 11,
   "metadata": {},
   "outputs": [],
   "source": [
    "t_i = np.linspace(0.0, 869., 500)\n",
    "Qf_i = [Qf_if(t) for t in t_i]"
   ]
  },
  {
   "cell_type": "code",
   "execution_count": 16,
   "metadata": {},
   "outputs": [
    {
     "data": {
      "text/plain": [
       "[<matplotlib.lines.Line2D at 0x7f141938f460>]"
      ]
     },
     "execution_count": 16,
     "metadata": {},
     "output_type": "execute_result"
    },
    {
     "data": {
      "image/png": "[encoded data removed]",
      "text/plain": [
       "<Figure size 432x288 with 1 Axes>"
      ]
     },
     "metadata": {
      "needs_background": "light"
     },
     "output_type": "display_data"
    }
   ],
   "source": [
    "fig, ax = plt.subplots()\n",
    "ax.scatter(tQf, Qf)\n",
    "ax.plot(t_i, Qf_i)\n",
    "#ax.set_xlim(0, 100)"
   ]
  },
  {
   "cell_type": "code",
   "execution_count": 9,
   "metadata": {},
   "outputs": [],
   "source": [
    "data = [{'tout': tout, 'tlc': tlc, 'Qf_if': Qf_if, 'lc':lc, 'cBf': cBf}]"
   ]
  },
  {
   "cell_type": "code",
   "execution_count": 28,
   "metadata": {},
   "outputs": [],
   "source": [
    "def bvsm_model(data):\n",
    "    \n",
    "    tout = data['tout']\n",
    "    tlc = data['tlc']\n",
    "    Qf_if = data['Qf_if']\n",
    "    lc_m = data['lc']\n",
    "    cBf = data['cBf']\n",
    "    \n",
    "    Vr0 = 2370\n",
    "    nB0 = 0\n",
    "    nC0 = 0\n",
    "    nD0 = 0\n",
    "    \n",
    "    m = ConcreteModel()\n",
    "    \n",
    "    m.k1 = Var(initialize = 2000, bounds = (500, 5000))\n",
    "    m.k2 = Var(initialize = 1000, bounds = (500, 5000))\n",
    "    m.nA0 = Var(initialize = 2.35, bounds = (2, 3))\n",
    "    \n",
    "    m.time = ContinuousSet(bounds = (0, max(tout)), initialize = tout)\n",
    "    \n",
    "    m.Vr = Var(m.time, initialize = Vr0, bounds = (Vr0,None))\n",
    "    m.nA = Var(m.time, initialize = 2.35, bounds = (0, 2.35))\n",
    "    m.nB = Var(m.time, initialize = nB0, bounds = (0, 2.35))\n",
    "    m.nC = Var(m.time, initialize = nC0, bounds = (0, 2.35))\n",
    "    m.nD = Var(m.time, initialize = nD0, bounds = (0, 2.35))\n",
    "    m.y = Var(m.time, initialize = 0.5, bounds = (0, 1))\n",
    "    \n",
    "    m.dVr = DerivativeVar(m.Vr)\n",
    "    m.dnA = DerivativeVar(m.nA)\n",
    "    m.dnB = DerivativeVar(m.nB)\n",
    "    m.dnC = DerivativeVar(m.nC)\n",
    "    m.dnD = DerivativeVar(m.nD)\n",
    "    \n",
    "    def _dVr_eq(m, t):\n",
    "        if t == 0:\n",
    "            return Constraint.Skip\n",
    "        else:\n",
    "            return m.dVr[t] == float(Qf_if(t))\n",
    "    m.dVr_eq = Constraint(m.time, rule = _dVr_eq)\n",
    "    \n",
    "    def _dnA_eq(m, t):\n",
    "        if t == 0:\n",
    "            return Constraint.Skip\n",
    "        else:\n",
    "            return m.dnA[t] == -m.k1 * m.nA[t] * m.nB[t] / m.Vr[t]\n",
    "    m.dnA_eq = Constraint(m.time, rule = _dnA_eq)\n",
    "\n",
    "    def _dnB_eq(m, t):\n",
    "        if t == 0:\n",
    "            return Constraint.Skip\n",
    "        else:\n",
    "            return m.dnB[t] == float(Qf_if(t)) * cBf - (m.k1 * m.nA[t] * m.nB[t] + m.k2 * m.nB[t] * m.nC[t]) / m.Vr[t]\n",
    "    m.dnB_eq = Constraint(m.time, rule = _dnB_eq)\n",
    "    \n",
    "    def _dnC_eq(m, t):\n",
    "        if t == 0:\n",
    "            return Constraint.Skip\n",
    "        else:\n",
    "            return m.dnC[t] == (m.k1 * m.nA[t] * m.nB[t] - m.k2 * m.nB[t] * m.nC[t]) / m.Vr[t]\n",
    "    m.dnC_eq = Constraint(m.time, rule = _dnC_eq)\n",
    "    \n",
    "    def _dnD_eq(m, t):\n",
    "        if t == 0:\n",
    "            return Constraint.Skip\n",
    "        else:\n",
    "            return m.dnD[t] == m.k2 * m.nB[t] * m.nC[t] / m.Vr[t]\n",
    "    m.dnD_eq = Constraint(m.time, rule = _dnD_eq)\n",
    "    \n",
    "    def _ycalc(m, t):\n",
    "        if t == 0:\n",
    "            return Constraint.Skip\n",
    "        else:\n",
    "            return m.y[t] == m.nC[t] / (m.nC[t] + 2 * m.nD[t] + 1.0e-6)\n",
    "    m.ycalc = Constraint(m.time, rule = _ycalc)\n",
    "    \n",
    "    def _initcon(m):\n",
    "        yield m.Vr[m.time.first()] == Vr0\n",
    "        yield m.nA[m.time.first()] == m.nA0\n",
    "        yield m.nB[m.time.first()] == nB0\n",
    "        yield m.nC[m.time.first()] == nC0\n",
    "        yield m.nD[m.time.first()] == nD0\n",
    "    m.initcon = ConstraintList(rule = _initcon)\n",
    "    \n",
    "    def ComputeFirstStageCost_rule(m):\n",
    "        return 0\n",
    "    m.FirstStageCost = Expression(rule=ComputeFirstStageCost_rule)\n",
    "\n",
    "    def ComputeSecondStageCost_rule(m):\n",
    "#        return sum((float(lc_if(t)) / m.y[t] - 1.0) ** 2 for t in tlc) \n",
    "        return sum((float(lc_if(t)) - m.y[t]) ** 2 for t in tlc) \n",
    "    m.SecondStageCost = Expression(rule=ComputeSecondStageCost_rule)\n",
    "   \n",
    "    def total_cost_rule(model):\n",
    "        return model.FirstStageCost + model.SecondStageCost\n",
    "    m.Total_Cost_Objective = Objective(rule=total_cost_rule, sense=minimize)\n",
    "    \n",
    "    #disc = TransformationFactory('dae.collocation')\n",
    "    #disc.apply_to(m, nfe=200, ncp=2)\n",
    "    \n",
    "    disc = TransformationFactory('dae.finite_difference')\n",
    "    disc.apply_to(m, nfe=500, scheme = 'BACKWARD')\n",
    "    \n",
    "    return m"
   ]
  },
  {
   "cell_type": "code",
   "execution_count": 29,
   "metadata": {},
   "outputs": [],
   "source": [
    "# parameters to be estimated\n",
    "theta_names = ['k1', 'k2', 'nA0']"
   ]
  },
  {
   "cell_type": "code",
   "execution_count": 30,
   "metadata": {},
   "outputs": [],
   "source": [
    "pest = parmest.Estimator(bvsm_model, data, theta_names, tee = True)"
   ]
  },
  {
   "cell_type": "code",
   "execution_count": 31,
   "metadata": {},
   "outputs": [
    {
     "name": "stdout",
     "output_type": "stream",
     "text": [
      "Ipopt 3.14.5: \n",
      "\n",
      "******************************************************************************\n",
      "This program contains Ipopt, a library for large-scale nonlinear optimization.\n",
      " Ipopt is released as open source code under the Eclipse Public License (EPL).\n",
      "         For more information visit https://github.com/coin-or/Ipopt\n",
      "******************************************************************************\n",
      "\n",
      "This is Ipopt version 3.14.5, running with linear solver ma27.\n",
      "\n",
      "Number of nonzeros in equality constraint Jacobian...:    21506\n",
      "Number of nonzeros in inequality constraint Jacobian.:        0\n",
      "Number of nonzeros in Lagrangian Hessian.............:     7535\n",
      "\n",
      "Total number of variables............................:     5508\n",
      "                     variables with only lower bounds:      501\n",
      "                variables with lower and upper bounds:     2507\n",
      "                     variables with only upper bounds:        0\n",
      "Total number of equality constraints.................:     5505\n",
      "Total number of inequality constraints...............:        0\n",
      "        inequality constraints with only lower bounds:        0\n",
      "   inequality constraints with lower and upper bounds:        0\n",
      "        inequality constraints with only upper bounds:        0\n",
      "\n",
      "iter    objective    inf_pr   inf_du lg(mu)  ||d||  lg(rg) alpha_du alpha_pr  ls\n",
      "   0  6.5229262e+00 2.37e+01 1.00e+00  -1.0 0.00e+00    -  0.00e+00 0.00e+00   0\n",
      "   1  1.8538784e-01 2.34e+01 5.61e+01  -1.0 3.91e+03    -  4.73e-03 1.07e-02f  1\n",
      "   2  1.8141991e-01 2.34e+01 5.64e+01  -1.0 4.10e+03    -  1.93e-02 8.07e-04f  1\n",
      "   3  1.8388269e-01 2.34e+01 4.56e+03  -1.0 2.97e+04    -  1.63e-02 1.27e-04f  1\n",
      "   4  3.3978097e-01 2.33e+01 1.20e+04  -1.0 4.85e+04    -  1.82e-02 6.11e-03f  1\n",
      "   5  3.8810246e-01 2.32e+01 1.60e+04  -1.0 3.38e+04    -  1.53e-02 2.13e-03f  1\n",
      "   6  1.1343871e+00 2.26e+01 2.44e+04  -1.0 3.05e+04    -  2.39e-02 2.62e-02f  1\n",
      "   7  1.1465011e+00 2.26e+01 2.49e+04  -1.0 3.33e+03    -  8.10e-02 1.33e-03h  1\n",
      "   8  1.1466206e+00 2.26e+01 4.32e+06  -1.0 1.52e+04    -  3.80e-02 1.39e-05h  1\n",
      "   9  1.1466348e+00 2.26e+01 5.93e+06  -1.0 6.83e+06    -  1.24e-04 6.63e-05h  1\n",
      "iter    objective    inf_pr   inf_du lg(mu)  ||d||  lg(rg) alpha_du alpha_pr  ls\n",
      "  10  1.1465822e+00 2.26e+01 3.31e+07  -1.0 1.28e+07    -  1.01e-04 2.11e-05h  1\n",
      "  11  1.1464749e+00 2.26e+01 1.25e+08  -1.0 1.68e+07    -  9.37e-05 2.97e-05h  1\n",
      "  12  1.1464139e+00 2.26e+01 2.48e+09  -1.0 3.52e+07    -  8.69e-05 6.15e-06h  1\n",
      "  13  1.1463277e+00 2.26e+01 3.44e+10  -1.0 4.27e+07    -  9.59e-05 7.49e-06h  1\n",
      "  14  1.1463277e+00 2.26e+01 4.02e+09  -1.0 4.02e-03  12.0 9.90e-01 1.00e+00f  1\n",
      "  15  1.1463038e+00 2.26e+01 4.02e+09  -1.0 3.34e+06    -  1.13e-04 1.29e-05h  1\n",
      "  16r 1.1463038e+00 2.26e+01 1.00e+03   1.4 0.00e+00    -  0.00e+00 7.67e-09R  2\n",
      "  17r 1.2510554e+00 1.63e+00 9.88e+02   1.4 1.45e+04    -  1.88e-02 1.82e-03f  1\n",
      "  18  1.2510906e+00 1.63e+00 1.43e+03  -1.0 4.37e+03    -  6.53e-02 5.07e-05h  1\n",
      "  19r 1.2510906e+00 1.63e+00 9.99e+02   0.2 0.00e+00    -  0.00e+00 2.94e-07R  5\n",
      "iter    objective    inf_pr   inf_du lg(mu)  ||d||  lg(rg) alpha_du alpha_pr  ls\n",
      "  20r 1.2759147e+00 2.26e+00 9.94e+02   0.2 2.55e+03    -  9.50e-03 5.45e-03f  1\n",
      "  21r 1.3140303e+00 3.75e+00 9.86e+02   0.2 2.79e+03    -  1.47e-02 8.25e-03f  1\n",
      "  22r 1.3670877e+00 5.21e+00 9.75e+02   0.2 2.60e+03    -  3.17e-02 1.13e-02f  1\n",
      "  23r 1.3971021e+00 5.95e+00 9.68e+02   0.2 3.11e+03    -  1.89e-02 6.67e-03f  1\n",
      "  24r 1.4083340e+00 6.19e+00 9.66e+02   0.2 3.25e+03    -  1.92e-02 2.56e-03f  1\n",
      "  25r 1.4714248e+00 7.56e+00 9.52e+02   0.2 3.61e+03    -  1.98e-02 1.43e-02f  1\n",
      "  26r 1.5192021e+00 8.22e+00 9.41e+02   0.2 2.77e+03    -  2.43e-02 1.09e-02f  1\n",
      "  27r 1.5644014e+00 8.79e+00 9.32e+02   0.2 2.86e+03    -  2.03e-02 1.05e-02f  1\n",
      "  28r 1.6057466e+00 9.26e+00 9.23e+02   0.2 2.86e+03    -  1.84e-02 9.68e-03f  1\n",
      "  29r 1.6441172e+00 9.60e+00 9.14e+02   0.2 2.89e+03    -  1.65e-02 9.08e-03f  1\n",
      "iter    objective    inf_pr   inf_du lg(mu)  ||d||  lg(rg) alpha_du alpha_pr  ls\n",
      "  30r 1.6794368e+00 9.79e+00 9.07e+02   0.2 2.91e+03    -  1.47e-02 8.45e-03f  1\n",
      "  31r 1.7116920e+00 9.79e+00 8.99e+02   0.2 3.42e+03    -  1.34e-02 7.78e-03f  1\n",
      "  32r 1.7417461e+00 9.41e+00 8.93e+02   0.2 5.55e+03    -  1.44e-02 7.31e-03f  1\n",
      "  33r 1.7721540e+00 8.30e+00 8.86e+02   0.2 1.11e+04    -  1.01e-02 7.46e-03f  1\n",
      "  34r 1.7864097e+00 7.08e+00 8.83e+02   0.2 2.14e+04    -  7.52e-03 3.53e-03f  1\n",
      "  35r 1.7910735e+00 6.42e+00 8.82e+02   0.2 2.77e+04    -  4.95e-03 1.17e-03f  1\n",
      "  36r 1.7966737e+00 5.50e+00 8.81e+02   0.2 2.58e+04    -  3.39e-03 1.41e-03f  1\n",
      "  37r 1.8029173e+00 4.40e+00 8.79e+02   0.2 2.31e+04    -  2.97e-03 1.57e-03f  1\n",
      "  38r 1.8114429e+00 2.88e+00 8.77e+02   0.2 2.17e+04    -  2.67e-03 2.15e-03f  1\n",
      "  39r 1.8159204e+00 2.07e+00 8.76e+02   0.2 1.63e+04    -  2.91e-03 1.13e-03f  1\n",
      "iter    objective    inf_pr   inf_du lg(mu)  ||d||  lg(rg) alpha_du alpha_pr  ls\n",
      "  40r 1.8219030e+00 1.04e+00 8.75e+02   0.2 1.04e+04    -  4.56e-03 1.51e-03f  1\n",
      "  41  1.8265444e+00 1.04e+00 6.34e+01  -1.0 4.97e+02    -  6.46e-02 1.64e-03h  1\n",
      "  42  1.8224902e+00 1.03e+00 3.48e+03  -1.0 1.52e+03    -  2.11e-01 1.57e-03h  1\n",
      "  43  1.8227032e+00 1.03e+00 2.26e+05  -1.0 6.38e+03    -  3.84e-02 1.34e-04h  1\n",
      "  44  1.8227287e+00 1.03e+00 3.29e+06  -1.0 1.59e+03    -  4.87e-04 3.20e-05h  1\n",
      "  45  1.8228924e+00 1.03e+00 4.68e+05  -1.0 7.88e+05    -  1.05e-06 9.30e-05f  1\n",
      "  46  1.8289961e+00 1.03e+00 3.62e+06  -1.0 7.81e+05    -  9.41e-05 3.38e-03f  1\n",
      "  47  1.8297203e+00 1.03e+00 3.33e+06  -1.0 3.71e+04    -  4.51e-02 8.21e-04f  1\n",
      "  48  1.8297278e+00 1.03e+00 3.33e+06  -1.0 3.42e+04    -  8.98e-06 8.98e-06s  6\n",
      "  49r 1.8297278e+00 1.03e+00 9.99e+02   0.0 0.00e+00    -  0.00e+00 0.00e+00R  1\n",
      "iter    objective    inf_pr   inf_du lg(mu)  ||d||  lg(rg) alpha_du alpha_pr  ls\n",
      "  50r 1.8422439e+00 7.74e-01 9.97e+02   0.0 1.11e+03    -  5.75e-02 2.78e-03f  1\n",
      "  51  1.8423603e+00 7.73e-01 4.68e+00  -1.0 3.81e+03    -  1.30e-04 4.64e-05h  1\n",
      "  52  1.8423177e+00 7.73e-01 1.48e+01  -1.0 5.46e+03    -  1.92e-04 1.23e-04f  1\n",
      "  53  1.8423787e+00 7.73e-01 1.02e+03  -1.0 4.48e+03    -  1.35e-03 5.13e-05h  1\n",
      "  54  1.8424048e+00 7.73e-01 2.07e+06  -1.0 6.14e+03    -  2.19e-01 5.91e-05h  1\n",
      "  55r 1.8424048e+00 7.73e-01 9.99e+02  -0.1 0.00e+00    -  0.00e+00 3.57e-07R  5\n",
      "  56r 1.8799595e+00 4.18e-01 9.85e+02  -0.1 9.94e+02    -  1.14e-01 1.04e-02f  1\n",
      "  57  1.8803590e+00 4.18e-01 1.03e+00  -1.0 2.98e+03    -  7.08e-05 1.16e-04h  1\n",
      "  58  1.8798839e+00 4.18e-01 4.66e+01  -1.0 5.40e+03    -  2.32e-04 5.97e-04f  1\n",
      "  59  1.8809072e+00 4.18e-01 1.23e+02  -1.0 2.55e+03    -  2.88e-03 4.73e-04f  1\n",
      "iter    objective    inf_pr   inf_du lg(mu)  ||d||  lg(rg) alpha_du alpha_pr  ls\n",
      "  60  1.9618764e+00 3.58e-01 9.89e+03  -1.0 3.96e+03    -  9.87e-04 1.73e-01f  1\n",
      "  61  2.2608995e+00 3.13e-01 2.83e+03  -1.0 2.41e+02    -  6.62e-03 1.42e-01f  1\n",
      "  62  2.2618685e+00 3.11e-01 2.92e+03  -1.0 4.93e+02    -  1.24e-02 3.49e-03h  1\n",
      "  63  7.8773754e-01 1.42e-01 1.24e+03  -1.0 2.09e+02    -  9.81e-03 6.33e-01h  1\n",
      "  64  8.2575350e-01 1.30e-01 1.13e+03  -1.0 5.29e+01    -  2.74e-01 8.89e-02h  1\n",
      "  65  7.9878766e-02 6.61e-02 4.56e+02  -1.0 3.42e+01    -  6.66e-01 6.00e-01h  1\n",
      "  66  2.6774590e-03 3.00e-01 5.84e+02  -1.0 3.28e+02    -  4.13e-01 9.38e-01h  1\n",
      "  67  1.2958188e-03 2.36e-01 1.76e+03  -1.0 4.87e+02    -  4.44e-01 2.20e-01f  1\n",
      "  68  1.4042549e-03 2.02e-01 3.02e+03  -1.0 4.48e+02    -  1.94e-01 1.46e-01f  1\n",
      "  69  1.4075027e-03 1.85e-01 4.68e+05  -1.0 2.06e+01    -  5.12e-01 9.70e-01h  1\n",
      "iter    objective    inf_pr   inf_du lg(mu)  ||d||  lg(rg) alpha_du alpha_pr  ls\n",
      "  70  5.5275355e-03 1.88e-02 2.21e+05  -1.0 8.90e+02    -  2.62e-01 5.41e-01f  1\n",
      "  71  2.2298360e-02 1.82e-01 1.97e+06  -1.0 2.58e+00    -  9.91e-01 9.93e-01f  1\n",
      "  72  1.8779682e-02 2.56e-03 2.54e+05  -1.0 1.14e+00    -  1.00e+00 9.87e-01h  1\n",
      "  73  1.8773933e-02 2.55e-05 1.21e+05  -1.0 1.45e-01    -  1.00e+00 9.90e-01h  1\n",
      "  74  1.8773625e-02 2.46e-07 2.21e+05  -1.0 4.20e-03    -  1.00e+00 9.90e-01h  1\n",
      "  75  1.8770802e-02 2.53e-12 2.37e+06  -1.7 3.40e-03    -  1.00e+00 1.00e+00h  1\n",
      "  76  1.8760046e-02 3.69e-11 2.88e+07  -1.7 1.35e-02    -  1.00e+00 1.00e+00h  1\n",
      "  77  1.8760046e-02 4.92e-13 1.41e-01  -1.7 6.44e-06    -  1.00e+00 1.00e+00h  1\n",
      "  78  1.8742449e-02 9.86e-11 6.97e+07  -5.7 2.08e-02    -  9.92e-01 1.00e+00f  1\n",
      "  79  1.0357442e-02 2.36e-04 6.37e+06  -5.7 7.31e+01    -  1.64e-01 1.00e+00f  1\n",
      "iter    objective    inf_pr   inf_du lg(mu)  ||d||  lg(rg) alpha_du alpha_pr  ls\n",
      "  80  4.9583960e-03 2.35e-04 4.31e+06  -5.7 8.92e+01    -  9.17e-01 1.00e+00h  1\n",
      "  81  1.7549505e-03 4.16e-04 5.32e+06  -5.7 1.34e+02    -  7.57e-01 1.00e+00h  1\n",
      "  82  1.4315561e-03 6.59e-05 9.60e+05  -5.7 7.55e+01    -  1.00e+00 1.00e+00h  1\n",
      "  83  1.3793372e-03 8.81e-06 1.22e+05  -5.7 2.65e+01    -  1.00e+00 1.00e+00h  1\n",
      "  84  1.3634874e-03 9.22e-07 1.28e+04  -5.7 8.39e+00    -  1.00e+00 1.00e+00h  1\n",
      "Scaling factors are invalid - setting them all to 1.\n",
      "  85  1.3658233e-03 1.91e-08 2.65e+02  -5.7 1.15e+00    -  1.00e+00 1.00e+00h  1\n",
      "  86  1.3659143e-03 2.93e-11 4.07e-01  -5.7 4.54e-02    -  1.00e+00 1.00e+00h  1\n",
      "  87  1.3659145e-03 5.17e-13 9.08e-07  -5.7 6.59e-05    -  1.00e+00 1.00e+00h  1\n",
      "  88  1.2869887e-03 5.69e-05 1.29e+07  -8.6 6.35e+01    -  4.24e-01 1.00e+00f  1\n"
     ]
    },
    {
     "name": "stdout",
     "output_type": "stream",
     "text": [
      "  89  1.2595189e-03 3.96e-05 7.45e+05  -8.6 5.80e+01    -  1.66e-01 1.00e+00h  1\n",
      "iter    objective    inf_pr   inf_du lg(mu)  ||d||  lg(rg) alpha_du alpha_pr  ls\n",
      "  90  1.1381211e-03 5.51e-04 2.17e+05  -8.6 3.76e+02    -  5.85e-01 5.59e-01h  1\n",
      "  91  1.1179274e-03 5.19e-04 1.98e+05  -8.6 5.23e+02    -  3.44e-01 8.37e-02h  1\n",
      "  92  1.1128028e-03 5.08e-04 1.93e+05  -8.6 5.26e+02    -  4.24e-03 2.24e-02h  1\n",
      "  93  1.1128242e-03 5.14e-04 1.80e+05  -8.6 1.40e+03    -  1.33e-03 5.71e-02h  3\n",
      "  94  1.1070343e-03 4.82e-04 1.68e+05  -8.6 1.39e+02    -  3.20e-02 6.36e-02h  1\n",
      "  95  1.0311666e-03 1.02e-04 1.90e+04  -8.6 1.33e+02    -  7.17e-02 1.00e+00f  1\n",
      "  96  1.0294087e-03 8.58e-05 1.59e+04  -8.6 5.16e+01    -  9.59e-01 1.62e-01h  1\n",
      "  97  1.0209160e-03 8.23e-06 2.37e+02  -8.6 4.29e+01    -  1.00e+00 1.00e+00h  1\n",
      "  98  1.0208316e-03 4.73e-08 4.07e-01  -8.6 2.66e+00    -  1.00e+00 1.00e+00h  1\n",
      "Scaling factors are invalid - setting them all to 1.\n",
      "  99  1.0208316e-03 5.17e-13 1.68e-07  -8.6 9.48e-04    -  1.00e+00 1.00e+00h  1\n",
      "iter    objective    inf_pr   inf_du lg(mu)  ||d||  lg(rg) alpha_du alpha_pr  ls\n",
      " 100  1.0208296e-03 4.94e-10 3.15e+01  -9.0 3.17e-01    -  1.00e+00 1.00e+00h  1\n",
      " 101  1.0208297e-03 5.17e-13 2.64e-06  -9.0 1.36e-04    -  1.00e+00 1.00e+00h  1\n",
      " 102  1.0208297e-03 5.72e-13 4.71e-11  -9.0 8.55e-13    -  1.00e+00 1.00e+00   0\n",
      "\n",
      "Number of Iterations....: 102\n",
      "\n",
      "                                   (scaled)                 (unscaled)\n",
      "Objective...............:   1.0208296502936004e-03    1.0208296502936004e-03\n",
      "Dual infeasibility......:   4.7064465116084022e-11    4.7064465116084022e-11\n",
      "Constraint violation....:   5.7228202211823120e-13    5.7228202211823120e-13\n",
      "Variable bound violation:   8.4469607025661130e-09    8.4469607025661130e-09\n",
      "Complementarity.........:   9.0909090909152804e-10    9.0909090909152804e-10\n",
      "Overall NLP error.......:   9.0909090909152804e-10    9.0909090909152804e-10\n",
      "\n",
      "\n",
      "Number of objective function evaluations             = 125\n",
      "Number of objective gradient evaluations             = 83\n",
      "Number of equality constraint evaluations            = 125\n",
      "Number of inequality constraint evaluations          = 0\n",
      "Number of equality constraint Jacobian evaluations   = 107\n",
      "Number of inequality constraint Jacobian evaluations = 0\n",
      "Number of Lagrangian Hessian evaluations             = 102\n",
      "Total seconds in IPOPT                               = 0.948\n",
      "\n",
      "EXIT: Optimal Solution Found.\n",
      "\b\b\b\b\b\b\b\b\b\b\b\b\b\b"
     ]
    }
   ],
   "source": [
    "res = pest.theta_est()"
   ]
  },
  {
   "cell_type": "code",
   "execution_count": 32,
   "metadata": {},
   "outputs": [
    {
     "data": {
      "text/plain": [
       "(0.0010208296502936004,\n",
       " k1     1564.301589\n",
       " k2      758.772082\n",
       " nA0       2.342610\n",
       " dtype: float64)"
      ]
     },
     "execution_count": 32,
     "metadata": {},
     "output_type": "execute_result"
    }
   ],
   "source": [
    "res"
   ]
  },
  {
   "cell_type": "code",
   "execution_count": 33,
   "metadata": {},
   "outputs": [
    {
     "name": "stdout",
     "output_type": "stream",
     "text": [
      "Ipopt 3.14.5: \n",
      "\n",
      "******************************************************************************\n",
      "This program contains Ipopt, a library for large-scale nonlinear optimization.\n",
      " Ipopt is released as open source code under the Eclipse Public License (EPL).\n",
      "         For more information visit https://github.com/coin-or/Ipopt\n",
      "******************************************************************************\n",
      "\n",
      "This is Ipopt version 3.14.5, running with linear solver ma27.\n",
      "\n",
      "Number of nonzeros in equality constraint Jacobian...:    18505\n",
      "Number of nonzeros in inequality constraint Jacobian.:        0\n",
      "Number of nonzeros in Lagrangian Hessian.............:     4535\n",
      "\n",
      "Total number of variables............................:     5505\n",
      "                     variables with only lower bounds:      501\n",
      "                variables with lower and upper bounds:     2504\n",
      "                     variables with only upper bounds:        0\n",
      "Total number of equality constraints.................:     5505\n",
      "Total number of inequality constraints...............:        0\n",
      "        inequality constraints with only lower bounds:        0\n",
      "   inequality constraints with lower and upper bounds:        0\n",
      "        inequality constraints with only upper bounds:        0\n",
      "\n",
      "iter    objective    inf_pr   inf_du lg(mu)  ||d||  lg(rg) alpha_du alpha_pr  ls\n",
      "   0  6.5229262e+00 2.37e+01 1.00e+00  -1.0 0.00e+00    -  0.00e+00 0.00e+00   0\n",
      "   1  4.9573045e-01 2.34e+01 5.61e+01  -1.0 6.01e+02    -  4.77e-03 1.09e-02f  1\n",
      "   2  4.8243008e-01 2.34e+01 5.64e+01  -1.0 5.95e+02    -  2.09e-02 7.80e-04f  1\n",
      "   3r 4.8243008e-01 2.34e+01 9.99e+02   1.4 0.00e+00    -  0.00e+00 2.66e-07R  6\n",
      "   4r 7.5945275e-01 9.47e+00 9.89e+02   1.4 1.60e+03    -  2.16e-02 8.73e-03f  1\n",
      "   5r 8.7986520e-01 2.58e+00 9.63e+02   0.7 7.58e+02    -  4.40e-02 2.49e-02f  1\n",
      "   6r 1.0229940e+00 4.19e+00 9.34e+02   0.7 1.33e+03    -  3.95e-02 2.62e-02f  1\n",
      "   7r 1.3748136e+00 7.83e+00 8.79e+02   0.7 1.59e+03    -  4.14e-02 6.08e-02f  1\n",
      "   8r 1.6562466e+00 9.15e+00 8.34e+02   0.7 1.13e+03    -  5.37e-02 4.98e-02f  1\n",
      "   9r 1.9412378e+00 9.28e+00 7.92e+02   0.7 1.59e+03    -  4.34e-02 5.31e-02f  1\n",
      "iter    objective    inf_pr   inf_du lg(mu)  ||d||  lg(rg) alpha_du alpha_pr  ls\n",
      "  10r 2.0400931e+00 4.70e+00 7.79e+02   0.7 9.94e+03    -  1.34e-02 2.00e-02f  1\n",
      "  11r 2.0696860e+00 2.10e+00 7.69e+02   0.7 1.24e+04    -  2.56e-02 6.18e-03f  1\n",
      "  12r 2.0901448e+00 1.24e+00 7.63e+02   0.7 7.61e+03    -  2.68e-02 4.39e-03f  1\n",
      "  13r 2.1093753e+00 1.10e+00 7.53e+02   0.7 2.67e+03    -  2.49e-02 4.23e-03f  1\n",
      "  14r 2.2484727e+00 4.36e-01 7.28e+02   0.7 1.77e+03    -  4.04e-02 3.06e-02f  1\n",
      "  15r 2.5480026e+00 1.84e-01 6.60e+02   0.7 5.63e+02    -  1.55e-01 6.74e-02f  1\n",
      "  16r 3.4545225e+00 2.01e-01 5.20e+02   0.7 8.64e+01    -  1.92e-01 2.21e-01f  1\n",
      "  17r 4.4297212e+00 2.12e-01 2.85e+02   0.7 1.36e+01    -  7.01e-01 3.31e-01f  1\n",
      "  18r 6.1550439e+00 2.46e-01 3.06e+01   0.7 1.63e+00    -  1.00e+00 1.00e+00f  1\n",
      "  19r 5.7380942e+00 2.39e-01 3.30e+01  -0.7 1.17e+00    -  6.96e-01 7.69e-01f  1\n",
      "iter    objective    inf_pr   inf_du lg(mu)  ||d||  lg(rg) alpha_du alpha_pr  ls\n",
      "  20r 5.5609572e+00 2.88e-01 6.17e+01  -0.7 4.55e-01    -  7.53e-01 7.74e-01f  1\n",
      "  21r 5.0909505e+00 3.27e-01 1.14e+02  -0.7 6.11e-01    -  5.92e-01 8.51e-01f  1\n",
      "  22r 4.5623328e+00 3.35e-01 1.64e+02  -0.7 2.63e-01    -  6.79e-01 1.00e+00f  1\n",
      "  23r 4.3197691e+00 3.29e-01 1.40e+00  -0.7 3.32e-02    -  1.00e+00 1.00e+00f  1\n",
      "  24r 3.3695695e+00 4.32e-01 5.16e+01  -2.1 2.49e-01    -  5.22e-01 6.66e-01f  1\n",
      "  25r 2.9064929e+00 4.25e-01 1.53e+02  -2.1 2.82e-01    -  3.28e-01 5.37e-01f  1\n",
      "  26r 2.2025217e+00 3.83e-01 1.45e+02  -2.1 8.47e-02    -  4.16e-01 5.81e-01f  1\n",
      "  27r 9.5148276e-01 2.68e-01 1.79e+02  -2.1 1.20e-01    -  4.91e-01 1.00e+00f  1\n",
      "  28r 3.7208527e-01 1.81e-01 8.55e-01  -2.1 8.73e-02    -  1.00e+00 1.00e+00f  1\n",
      "  29r 2.0840620e-01 1.41e-01 2.17e-01  -2.1 4.09e-02    -  1.00e+00 1.00e+00f  1\n",
      "iter    objective    inf_pr   inf_du lg(mu)  ||d||  lg(rg) alpha_du alpha_pr  ls\n",
      "  30r 5.6369355e-03 2.73e-01 2.21e+02  -3.2 1.69e-01    -  8.57e-01 8.45e-01f  1\n",
      "  31r 1.1435502e-03 2.01e-01 1.24e+02  -3.2 2.51e-01    -  7.14e-01 7.85e-01f  1\n",
      "  32r 1.0791865e-03 3.52e-02 6.55e+01  -3.2 1.26e-01    -  1.00e+00 1.00e+00f  1\n",
      "  33r 1.0973304e-03 7.97e-03 1.77e+00  -3.2 2.25e-02    -  1.00e+00 1.00e+00h  1\n",
      "  34r 1.0972362e-03 7.95e-03 2.37e-02  -3.2 2.63e-03    -  1.00e+00 1.00e+00h  1\n",
      "  35r 1.0397040e-03 3.86e-01 3.52e+02  -4.8 6.62e-02    -  8.71e-01 8.15e-01f  1\n",
      "  36r 1.0232751e-03 2.99e-02 6.28e+01  -4.8 2.64e-01    -  7.75e-01 6.92e-01f  1\n",
      "  37r 1.0208222e-03 1.48e-01 1.12e+02  -4.8 1.27e-01    -  9.58e-01 9.53e-01f  1\n",
      "  38r 1.0208446e-03 2.51e-02 1.05e+01  -4.8 4.03e-02    -  1.00e+00 1.00e+00f  1\n",
      "  39r 1.0208446e-03 5.13e-04 1.75e+00  -4.8 1.58e-02    -  1.00e+00 1.00e+00h  1\n",
      "iter    objective    inf_pr   inf_du lg(mu)  ||d||  lg(rg) alpha_du alpha_pr  ls\n",
      "  40r 1.0208446e-03 4.03e-05 4.42e-03  -4.8 5.56e-04    -  1.00e+00 1.00e+00h  1\n",
      "  41r 1.0208446e-03 4.03e-05 2.23e-06  -4.8 1.92e-05    -  1.00e+00 1.00e+00h  1\n",
      "  42r 1.0208349e-03 2.60e-03 5.21e+01  -7.2 1.54e-02    -  9.78e-01 6.85e-01f  1\n",
      "  43r 1.0208275e-03 8.52e-02 6.29e+01  -7.2 2.52e-01    -  1.00e+00 7.29e-01f  1\n",
      "  44r 1.0208290e-03 4.40e-02 2.02e+01  -7.2 2.57e-01    -  6.82e-01 6.82e-01f  1\n",
      "  45r 1.0208293e-03 2.03e-02 5.50e+01  -7.2 7.21e-02    -  9.93e-01 5.45e-01f  1\n",
      "  46r 1.0208297e-03 4.61e-05 7.80e-02  -7.2 2.88e-02    -  1.00e+00 1.00e+00f  1\n",
      "\n",
      "Number of Iterations....: 46\n",
      "\n",
      "                                   (scaled)                 (unscaled)\n",
      "Objective...............:   1.0208296547512545e-03    1.0208296547512545e-03\n",
      "Dual infeasibility......:   8.3137639025725185e-16    8.3137639025725185e-16\n",
      "Constraint violation....:   4.6053855646115485e-09    4.6053855646115492e-05\n",
      "Variable bound violation:   8.5857631311411668e-09    8.5857631311411668e-09\n",
      "Complementarity.........:   0.0000000000000000e+00    0.0000000000000000e+00\n",
      "Overall NLP error.......:   4.6053855646115485e-09    4.6053855646115492e-05\n",
      "\n",
      "\n",
      "Number of objective function evaluations             = 53\n",
      "Number of objective gradient evaluations             = 5\n",
      "Number of equality constraint evaluations            = 53\n",
      "Number of inequality constraint evaluations          = 0\n",
      "Number of equality constraint Jacobian evaluations   = 48\n",
      "Number of inequality constraint Jacobian evaluations = 0\n",
      "Number of Lagrangian Hessian evaluations             = 46\n",
      "Total seconds in IPOPT                               = 0.288\n",
      "\n",
      "EXIT: Optimal Solution Found.\n"
     ]
    },
    {
     "data": {
      "text/plain": [
       "{'Problem': [{'Lower bound': -inf, 'Upper bound': inf, 'Number of objectives': 1, 'Number of constraints': 5505, 'Number of variables': 5505, 'Sense': 'unknown'}], 'Solver': [{'Status': 'ok', 'Message': 'Ipopt 3.14.5\\\\x3a Optimal Solution Found', 'Termination condition': 'optimal', 'Id': 0, 'Error rc': 0, 'Time': 0.3182845115661621}], 'Solution': [OrderedDict([('number of solutions', 0), ('number of solutions displayed', 0)])]}"
      ]
     },
     "execution_count": 33,
     "metadata": {},
     "output_type": "execute_result"
    }
   ],
   "source": [
    "ms = bvsm_model(data[0])\n",
    "ms.k1.fix(res[1]['k1'])\n",
    "ms.k2.fix(res[1]['k2'])\n",
    "ms.nA0.fix(res[1]['nA0'])\n",
    "solver = SolverFactory('ipopt')\n",
    "solver.solve(ms, tee = True)"
   ]
  },
  {
   "cell_type": "code",
   "execution_count": 36,
   "metadata": {},
   "outputs": [
    {
     "data": {
      "text/plain": [
       "(0.0, 0.2)"
      ]
     },
     "execution_count": 36,
     "metadata": {},
     "output_type": "execute_result"
    },
    {
     "data": {
      "image/png": "[encoded data removed]",
      "text/plain": [
       "<Figure size 432x288 with 1 Axes>"
      ]
     },
     "metadata": {
      "needs_background": "light"
     },
     "output_type": "display_data"
    }
   ],
   "source": [
    "fig, ax = plt.subplots()\n",
    "ax.plot(list(ms.time), [ms.y[t]() for t in ms.time])\n",
    "ax.scatter(data[0]['tlc'], data[0]['lc'])\n",
    "ax.set_xlim(400, 900)\n",
    "ax.set_ylim(0, 0.2)"
   ]
  },
  {
   "cell_type": "code",
   "execution_count": null,
   "metadata": {},
   "outputs": [],
   "source": []
  }
 ],
 "metadata": {
  "kernelspec": {
   "display_name": "Python 3 (ipykernel)",
   "language": "python",
   "name": "python3"
  },
  "language_info": {
   "codemirror_mode": {
    "name": "ipython",
    "version": 3
   },
   "file_extension": ".py",
   "mimetype": "text/x-python",
   "name": "python",
   "nbconvert_exporter": "python",
   "pygments_lexer": "ipython3",
   "version": "3.8.10"
  }
 },
 "nbformat": 4,
 "nbformat_minor": 2
}
