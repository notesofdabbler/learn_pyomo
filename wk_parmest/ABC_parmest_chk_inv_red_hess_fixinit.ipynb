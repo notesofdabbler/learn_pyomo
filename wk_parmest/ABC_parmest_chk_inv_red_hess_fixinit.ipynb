{
 "cells": [
  {
   "cell_type": "markdown",
   "metadata": {},
   "source": [
    "This is an attempt to recreate the parameter estimation [example](https://sites.engineering.ucsb.edu/~jbraw/chemreacfun/fig-html/appendix/fig-A-10.html) from James Rawlings book on [Reactor Design](https://sites.engineering.ucsb.edu/~jbraw/chemreacfun/) using Pyomo."
   ]
  },
  {
   "cell_type": "code",
   "execution_count": 1,
   "metadata": {},
   "outputs": [],
   "source": [
    "# Import libraries\n",
    "from scipy.integrate import solve_ivp\n",
    "import numpy as np\n",
    "import matplotlib.pyplot as plt\n",
    "import pandas as pd\n",
    "import pyomo.environ as pyo\n",
    "import pyomo.dae as dae\n",
    "import scipy.stats as spstat\n",
    "from scipy.stats import f\n",
    "from pyomo.contrib.interior_point.inverse_reduced_hessian import inv_reduced_hessian_barrier"
   ]
  },
  {
   "cell_type": "markdown",
   "metadata": {},
   "source": [
    "This example has a series reaction $A \\rightarrow B \\rightarrow C$. The dataset consists of measures concentrations of A, B and C over time. The goal is to estimate the rate constants $k_1$ and $k_2$ for the two reactions."
   ]
  },
  {
   "cell_type": "code",
   "execution_count": 2,
   "metadata": {},
   "outputs": [
    {
     "data": {
      "text/html": [
       "<div>\n",
       "<style scoped>\n",
       "    .dataframe tbody tr th:only-of-type {\n",
       "        vertical-align: middle;\n",
       "    }\n",
       "\n",
       "    .dataframe tbody tr th {\n",
       "        vertical-align: top;\n",
       "    }\n",
       "\n",
       "    .dataframe thead th {\n",
       "        text-align: right;\n",
       "    }\n",
       "</style>\n",
       "<table border=\"1\" class=\"dataframe\">\n",
       "  <thead>\n",
       "    <tr style=\"text-align: right;\">\n",
       "      <th></th>\n",
       "      <th>t</th>\n",
       "      <th>ca</th>\n",
       "      <th>cb</th>\n",
       "      <th>cc</th>\n",
       "    </tr>\n",
       "  </thead>\n",
       "  <tbody>\n",
       "    <tr>\n",
       "      <th>0</th>\n",
       "      <td>0.000</td>\n",
       "      <td>0.957</td>\n",
       "      <td>-0.031</td>\n",
       "      <td>-0.015</td>\n",
       "    </tr>\n",
       "    <tr>\n",
       "      <th>1</th>\n",
       "      <td>0.263</td>\n",
       "      <td>0.557</td>\n",
       "      <td>0.330</td>\n",
       "      <td>0.044</td>\n",
       "    </tr>\n",
       "    <tr>\n",
       "      <th>2</th>\n",
       "      <td>0.526</td>\n",
       "      <td>0.342</td>\n",
       "      <td>0.512</td>\n",
       "      <td>0.156</td>\n",
       "    </tr>\n",
       "    <tr>\n",
       "      <th>3</th>\n",
       "      <td>0.789</td>\n",
       "      <td>0.224</td>\n",
       "      <td>0.499</td>\n",
       "      <td>0.310</td>\n",
       "    </tr>\n",
       "    <tr>\n",
       "      <th>4</th>\n",
       "      <td>1.053</td>\n",
       "      <td>0.123</td>\n",
       "      <td>0.428</td>\n",
       "      <td>0.454</td>\n",
       "    </tr>\n",
       "  </tbody>\n",
       "</table>\n",
       "</div>"
      ],
      "text/plain": [
       "       t     ca     cb     cc\n",
       "0  0.000  0.957 -0.031 -0.015\n",
       "1  0.263  0.557  0.330  0.044\n",
       "2  0.526  0.342  0.512  0.156\n",
       "3  0.789  0.224  0.499  0.310\n",
       "4  1.053  0.123  0.428  0.454"
      ]
     },
     "execution_count": 2,
     "metadata": {},
     "output_type": "execute_result"
    }
   ],
   "source": [
    "data_df = pd.read_csv(\"ABC_data.csv\")\n",
    "data_df.head()"
   ]
  },
  {
   "cell_type": "code",
   "execution_count": 3,
   "metadata": {},
   "outputs": [],
   "source": [
    "# Convert data to a list of dictionaries\n",
    "data = [{'ca_meas': {k:v for (k, v) in zip(data_df.t, data_df.ca)},\n",
    "    'cb_meas': {k:v for (k, v) in zip(data_df.t, data_df.cb)},\n",
    "    'cc_meas': {k:v for (k, v) in zip(data_df.t, data_df.cc)} }]"
   ]
  },
  {
   "cell_type": "markdown",
   "metadata": {},
   "source": [
    "The initial conditions in the model below were initially of the form:\n",
    "\n",
    "```\n",
    "    def _initcon(m):\n",
    "        yield m.ca[m.time.first()] == ca0\n",
    "        yield m.cb[m.time.first()] == cb0\n",
    "        yield m.cc[m.time.first()] == cc0\n",
    "    m.initcon = pyo.ConstraintList(rule = _initcon)\n",
    "```\n",
    "However it was causing issues when calculating inverse reduced hessian where it would give an error called `RuntimeError: Factor is exactly singular`.\n",
    "\n",
    "The workaround was to remove the above constraint and explictly fix the variables for the initial conditions (shown in the model below)"
   ]
  },
  {
   "cell_type": "code",
   "execution_count": 6,
   "metadata": {},
   "outputs": [],
   "source": [
    "#\n",
    "# Define the model \n",
    "#\n",
    "def ABC_model(data, disctype):\n",
    "    \n",
    "    ca_meas = data['ca_meas']\n",
    "    cb_meas = data['cb_meas']\n",
    "    cc_meas = data['cc_meas']\n",
    "    \n",
    "    meas_t = list(ca_meas.keys())\n",
    "       \n",
    "    ca0 = 1.0\n",
    "    cb0 = 0.0\n",
    "    cc0 = 0.0\n",
    "        \n",
    "    m = pyo.ConcreteModel()\n",
    "    \n",
    "    m.k1 = pyo.Var(initialize = 0.5, bounds = (1e-4, 10))\n",
    "    m.k2 = pyo.Var(initialize = 3.0, bounds = (1e-4, 10))\n",
    "    \n",
    "    m.time = dae.ContinuousSet(bounds = (0.0, 5.0), initialize = meas_t)\n",
    "    m.ca = pyo.Var(m.time)\n",
    "    m.cb = pyo.Var(m.time)\n",
    "    m.cc = pyo.Var(m.time)\n",
    "\n",
    "    for t in m.time:\n",
    "        if t == 0:\n",
    "            m.ca[t].fix(ca0)\n",
    "            m.cb[t].fix(cb0)\n",
    "            m.cc[t].fix(cc0)\n",
    "        else:\n",
    "            m.ca[t] = ca0\n",
    "            m.cb[t] = 0.0\n",
    "            m.cc[t] = 0.0\n",
    "            m.ca[t].setlb(0.0)\n",
    "            m.ca[t].setub(ca0)\n",
    "            m.cb[t].setlb(0.0)\n",
    "            m.cb[t].setub(ca0)\n",
    "            m.cc[t].setlb(0.0)\n",
    "            m.cc[t].setub(ca0)\n",
    "    \n",
    "    m.dca = dae.DerivativeVar(m.ca, wrt = m.time)\n",
    "    m.dcb = dae.DerivativeVar(m.cb, wrt = m.time)\n",
    "    m.dcc = dae.DerivativeVar(m.cc, wrt = m.time)\n",
    "    \n",
    "    def _dcarate(m, t):\n",
    "        if t == 0:\n",
    "            return pyo.Constraint.Skip\n",
    "        else:\n",
    "            return m.dca[t] == -m.k1 * m.ca[t]\n",
    "    m.dcarate = pyo.Constraint(m.time, rule = _dcarate)\n",
    "    \n",
    "    def _dcbrate(m, t):\n",
    "        if t == 0:\n",
    "            return pyo.Constraint.Skip\n",
    "        else:\n",
    "            return m.dcb[t] == m.k1 * m.ca[t] - m.k2 * m.cb[t]\n",
    "    m.dcbrate = pyo.Constraint(m.time, rule = _dcbrate)\n",
    "    \n",
    "    def _dccrate(m, t):\n",
    "        if t == 0:\n",
    "            return pyo.Constraint.Skip\n",
    "        else:\n",
    "            return m.dcc[t] == m.k2 * m.cb[t]\n",
    "    m.dccrate = pyo.Constraint(m.time, rule = _dccrate)\n",
    "    \n",
    "\n",
    "    def obj_rule(m):\n",
    "        return sum((m.ca[t] - ca_meas[t]) ** 2 + (m.cb[t] - cb_meas[t]) ** 2 \n",
    "                   + (m.cc[t] - cc_meas[t]) ** 2 for t in meas_t) \n",
    "    m.obj = pyo.Objective(rule=obj_rule)\n",
    "    \n",
    "    if disctype == 'colloc':\n",
    "        disc = pyo.TransformationFactory('dae.collocation')\n",
    "        disc.apply_to(m, nfe=20, ncp=2)\n",
    "    else:\n",
    "        disc = pyo.TransformationFactory('dae.finite_difference')\n",
    "        disc.apply_to(m, nfe=500, scheme = 'BACKWARD')\n",
    "    \n",
    "    return m"
   ]
  },
  {
   "cell_type": "code",
   "execution_count": 7,
   "metadata": {},
   "outputs": [
    {
     "name": "stdout",
     "output_type": "stream",
     "text": [
      "Ipopt 3.14.5: \n",
      "\n",
      "******************************************************************************\n",
      "This program contains Ipopt, a library for large-scale nonlinear optimization.\n",
      " Ipopt is released as open source code under the Eclipse Public License (EPL).\n",
      "         For more information visit https://github.com/coin-or/Ipopt\n",
      "******************************************************************************\n",
      "\n",
      "This is Ipopt version 3.14.5, running with linear solver ma27.\n",
      "\n",
      "Number of nonzeros in equality constraint Jacobian...:      914\n",
      "Number of nonzeros in inequality constraint Jacobian.:        0\n",
      "Number of nonzeros in Lagrangian Hessian.............:      137\n",
      "\n",
      "Total number of variables............................:      242\n",
      "                     variables with only lower bounds:        0\n",
      "                variables with lower and upper bounds:       59\n",
      "                     variables with only upper bounds:        0\n",
      "Total number of equality constraints.................:      240\n",
      "Total number of inequality constraints...............:        0\n",
      "        inequality constraints with only lower bounds:        0\n",
      "   inequality constraints with lower and upper bounds:        0\n",
      "        inequality constraints with only upper bounds:        0\n",
      "\n",
      "iter    objective    inf_pr   inf_du lg(mu)  ||d||  lg(rg) alpha_du alpha_pr  ls\n",
      "   0  2.8934232e+01 1.88e+01 6.74e-01  -1.0 0.00e+00    -  0.00e+00 0.00e+00   0\n",
      "   1  2.6826830e+01 1.50e+01 6.96e+00  -1.0 1.48e+00    -  6.39e-02 2.00e-01f  1\n",
      "   2  6.1645362e+00 3.18e-01 1.17e+02  -1.0 2.69e+00    -  1.07e-01 1.00e+00f  1\n",
      "   3  1.0513321e+01 2.13e-01 6.38e+01  -1.0 9.69e-01    -  3.11e-02 3.50e-01h  1\n",
      "   4  1.3968636e+01 1.20e-01 5.61e+02  -1.0 5.20e-01   2.0 1.03e-02 1.00e+00f  1\n",
      "   5  1.9576358e+01 4.30e-02 1.13e+02  -1.0 3.83e-01   1.5 8.31e-01 1.00e+00h  1\n",
      "   6  1.5189563e+01 6.27e-03 1.08e+01  -1.0 1.45e-01   1.0 1.00e+00 1.00e+00f  1\n",
      "   7  1.4285764e+01 5.32e-04 1.06e+00  -1.0 2.68e-02   1.5 1.00e+00 1.00e+00f  1\n",
      "   8  4.7281560e+00 1.04e-01 7.05e+00  -1.0 6.01e-01    -  4.40e-01 7.88e-01f  1\n",
      "   9  3.0803508e+00 1.32e-02 3.95e-01  -1.0 1.43e-01    -  1.00e+00 1.00e+00f  1\n",
      "iter    objective    inf_pr   inf_du lg(mu)  ||d||  lg(rg) alpha_du alpha_pr  ls\n",
      "  10  1.8954891e+00 1.77e-02 2.54e-01  -1.0 1.81e-01    -  1.00e+00 1.00e+00f  1\n",
      "  11  9.1947209e-01 2.55e-02 7.04e-01  -1.7 2.08e-01    -  8.81e-01 1.00e+00h  1\n",
      "  12  4.7216560e-01 1.75e-02 4.90e-02  -1.7 2.18e-01    -  1.00e+00 1.00e+00h  1\n",
      "  13  2.2731768e-01 1.97e-02 1.42e+00  -2.5 3.14e-01    -  8.49e-01 6.48e-01h  1\n",
      "  14  7.9319427e-02 1.94e-02 7.13e-01  -2.5 2.66e-01    -  1.00e+00 1.00e+00h  1\n",
      "  15  4.4468783e-02 7.59e-03 3.26e-01  -2.5 1.91e-01    -  1.00e+00 1.00e+00h  1\n",
      "  16  4.5361491e-02 1.80e-05 4.34e-03  -2.5 4.81e-03    -  1.00e+00 1.00e+00h  1\n",
      "  17  2.7185191e-02 7.48e-03 9.16e-02  -3.8 1.87e-01    -  9.49e-01 1.00e+00f  1\n",
      "  18  2.6406348e-02 1.90e-03 3.47e+01  -3.8 1.05e-01    -  3.34e-01 1.00e+00h  1\n",
      "  19  2.6147938e-02 2.76e-04 2.08e-01  -3.8 3.78e-02    -  1.00e+00 1.00e+00h  1\n",
      "iter    objective    inf_pr   inf_du lg(mu)  ||d||  lg(rg) alpha_du alpha_pr  ls\n",
      "  20  2.6200446e-02 2.84e-05 1.50e-03  -3.8 1.22e-02    -  1.00e+00 1.00e+00h  1\n",
      "  21  2.6123466e-02 6.06e-05 9.00e-03  -5.7 1.81e-02    -  1.00e+00 1.00e+00h  1\n",
      "  22  2.6121466e-02 1.89e-08 1.60e-05  -5.7 3.61e-04    -  1.00e+00 1.00e+00h  1\n",
      "  23  2.6121454e-02 9.81e-09 1.67e-06  -8.6 2.31e-04    -  1.00e+00 1.00e+00h  1\n",
      "  24  2.6121454e-02 4.72e-15 4.55e-13  -8.6 5.89e-08    -  1.00e+00 1.00e+00h  1\n",
      "\n",
      "Number of Iterations....: 24\n",
      "\n",
      "                                   (scaled)                 (unscaled)\n",
      "Objective...............:   2.6121454030717181e-02    2.6121454030717181e-02\n",
      "Dual infeasibility......:   4.5458775632667425e-13    4.5458775632667425e-13\n",
      "Constraint violation....:   4.7184478546569153e-15    4.7184478546569153e-15\n",
      "Variable bound violation:   0.0000000000000000e+00    0.0000000000000000e+00\n",
      "Complementarity.........:   2.5059035775387088e-09    2.5059035775387088e-09\n",
      "Overall NLP error.......:   2.5059035775387088e-09    2.5059035775387088e-09\n",
      "\n",
      "\n",
      "Number of objective function evaluations             = 25\n",
      "Number of objective gradient evaluations             = 25\n",
      "Number of equality constraint evaluations            = 25\n",
      "Number of inequality constraint evaluations          = 0\n",
      "Number of equality constraint Jacobian evaluations   = 25\n",
      "Number of inequality constraint Jacobian evaluations = 0\n",
      "Number of Lagrangian Hessian evaluations             = 24\n",
      "Total seconds in IPOPT                               = 0.016\n",
      "\n",
      "EXIT: Optimal Solution Found.\n",
      "\b\b\b\b\b\b\b\b\b\b\b\b\b\b"
     ]
    },
    {
     "data": {
      "text/plain": [
       "{'Problem': [{'Lower bound': -inf, 'Upper bound': inf, 'Number of objectives': 1, 'Number of constraints': 240, 'Number of variables': 242, 'Sense': 'unknown'}], 'Solver': [{'Status': 'ok', 'Message': 'Ipopt 3.14.5\\\\x3a Optimal Solution Found', 'Termination condition': 'optimal', 'Id': 0, 'Error rc': 0, 'Time': 0.03559565544128418}], 'Solution': [OrderedDict([('number of solutions', 0), ('number of solutions displayed', 0)])]}"
      ]
     },
     "execution_count": 7,
     "metadata": {},
     "output_type": "execute_result"
    }
   ],
   "source": [
    "m = ABC_model(data[0], 'colloc')\n",
    "solver = pyo.SolverFactory('ipopt')\n",
    "solver.solve(m, tee = True)"
   ]
  },
  {
   "cell_type": "code",
   "execution_count": 8,
   "metadata": {},
   "outputs": [
    {
     "data": {
      "text/plain": [
       "(2.014382478181102, 0.994454722071609)"
      ]
     },
     "execution_count": 8,
     "metadata": {},
     "output_type": "execute_result"
    }
   ],
   "source": [
    "# Estimated parameters\n",
    "m.k1(), m.k2()"
   ]
  },
  {
   "cell_type": "code",
   "execution_count": 9,
   "metadata": {},
   "outputs": [],
   "source": [
    "m = ABC_model(data[0], 'colloc')"
   ]
  },
  {
   "cell_type": "code",
   "execution_count": 10,
   "metadata": {},
   "outputs": [
    {
     "name": "stdout",
     "output_type": "stream",
     "text": [
      "Ipopt 3.14.5: bound_relax_factor=0\n",
      "honor_original_bounds=no\n",
      "\n",
      "\n",
      "******************************************************************************\n",
      "This program contains Ipopt, a library for large-scale nonlinear optimization.\n",
      " Ipopt is released as open source code under the Eclipse Public License (EPL).\n",
      "         For more information visit https://github.com/coin-or/Ipopt\n",
      "******************************************************************************\n",
      "\n",
      "This is Ipopt version 3.14.5, running with linear solver ma27.\n",
      "\n",
      "Number of nonzeros in equality constraint Jacobian...:      914\n",
      "Number of nonzeros in inequality constraint Jacobian.:        0\n",
      "Number of nonzeros in Lagrangian Hessian.............:      137\n",
      "\n",
      "Total number of variables............................:      242\n",
      "                     variables with only lower bounds:        0\n",
      "                variables with lower and upper bounds:       59\n",
      "                     variables with only upper bounds:        0\n",
      "Total number of equality constraints.................:      240\n",
      "Total number of inequality constraints...............:        0\n",
      "        inequality constraints with only lower bounds:        0\n",
      "   inequality constraints with lower and upper bounds:        0\n",
      "        inequality constraints with only upper bounds:        0\n",
      "\n",
      "iter    objective    inf_pr   inf_du lg(mu)  ||d||  lg(rg) alpha_du alpha_pr  ls\n",
      "   0  2.8934231e+01 1.87e+01 6.74e-01  -1.0 0.00e+00    -  0.00e+00 0.00e+00   0\n",
      "   1  2.6826830e+01 1.50e+01 6.96e+00  -1.0 1.48e+00    -  6.39e-02 2.00e-01f  1\n",
      "   2  6.1645351e+00 3.18e-01 1.17e+02  -1.0 2.69e+00    -  1.07e-01 1.00e+00f  1\n",
      "   3  1.0513357e+01 2.13e-01 6.38e+01  -1.0 9.69e-01    -  3.11e-02 3.50e-01h  1\n",
      "   4  1.3968809e+01 1.20e-01 5.61e+02  -1.0 5.20e-01   2.0 1.03e-02 1.00e+00f  1\n",
      "   5  1.9576983e+01 4.30e-02 1.13e+02  -1.0 3.83e-01   1.5 8.31e-01 1.00e+00h  1\n",
      "   6  1.5189754e+01 6.27e-03 1.08e+01  -1.0 1.45e-01   1.0 1.00e+00 1.00e+00f  1\n",
      "   7  1.4285942e+01 5.32e-04 1.06e+00  -1.0 2.68e-02   1.5 1.00e+00 1.00e+00f  1\n",
      "   8  4.7281936e+00 1.04e-01 7.03e+00  -1.0 6.01e-01    -  4.40e-01 7.88e-01f  1\n",
      "   9  3.0803720e+00 1.32e-02 3.95e-01  -1.0 1.43e-01    -  1.00e+00 1.00e+00f  1\n",
      "iter    objective    inf_pr   inf_du lg(mu)  ||d||  lg(rg) alpha_du alpha_pr  ls\n",
      "  10  1.8955054e+00 1.77e-02 2.54e-01  -1.0 1.81e-01    -  1.00e+00 1.00e+00f  1\n",
      "  11  9.1947480e-01 2.55e-02 7.05e-01  -1.7 2.08e-01    -  8.81e-01 1.00e+00h  1\n",
      "  12  4.7216948e-01 1.75e-02 4.90e-02  -1.7 2.18e-01    -  1.00e+00 1.00e+00h  1\n",
      "  13  2.2731932e-01 1.97e-02 1.42e+00  -2.5 3.14e-01    -  8.49e-01 6.48e-01h  1\n",
      "  14  7.9320757e-02 1.94e-02 7.13e-01  -2.5 2.66e-01    -  1.00e+00 1.00e+00h  1\n",
      "  15  4.4469578e-02 7.59e-03 3.26e-01  -2.5 1.91e-01    -  1.00e+00 1.00e+00h  1\n",
      "  16  4.5361912e-02 1.80e-05 4.34e-03  -2.5 4.82e-03    -  1.00e+00 1.00e+00h  1\n",
      "  17  2.7185296e-02 7.48e-03 9.16e-02  -3.8 1.87e-01    -  9.49e-01 1.00e+00f  1\n",
      "  18  2.6406576e-02 1.90e-03 3.47e+01  -3.8 1.05e-01    -  3.34e-01 1.00e+00h  1\n",
      "  19  2.6147927e-02 2.76e-04 2.08e-01  -3.8 3.78e-02    -  1.00e+00 1.00e+00h  1\n",
      "iter    objective    inf_pr   inf_du lg(mu)  ||d||  lg(rg) alpha_du alpha_pr  ls\n",
      "  20  2.6200454e-02 2.84e-05 1.50e-03  -3.8 1.22e-02    -  1.00e+00 1.00e+00h  1\n",
      "  21  2.6123467e-02 6.06e-05 9.00e-03  -5.7 1.81e-02    -  1.00e+00 1.00e+00h  1\n",
      "  22  2.6121466e-02 1.89e-08 1.60e-05  -5.7 3.61e-04    -  1.00e+00 1.00e+00h  1\n",
      "  23  2.6121454e-02 9.81e-09 1.67e-06  -8.6 2.31e-04    -  1.00e+00 1.00e+00h  1\n",
      "  24  2.6121454e-02 2.61e-15 4.55e-13  -8.6 5.89e-08    -  1.00e+00 1.00e+00h  1\n",
      "\n",
      "Number of Iterations....: 24\n",
      "\n",
      "                                   (scaled)                 (unscaled)\n",
      "Objective...............:   2.6121454030717181e-02    2.6121454030717181e-02\n",
      "Dual infeasibility......:   4.5494944617141542e-13    4.5494944617141542e-13\n",
      "Constraint violation....:   2.6090241078691179e-15    2.6090241078691179e-15\n",
      "Variable bound violation:   0.0000000000000000e+00    0.0000000000000000e+00\n",
      "Complementarity.........:   2.5059035775573452e-09    2.5059035775573452e-09\n",
      "Overall NLP error.......:   2.5059035775573452e-09    2.5059035775573452e-09\n",
      "\n",
      "\n",
      "Number of objective function evaluations             = 25\n",
      "Number of objective gradient evaluations             = 25\n",
      "Number of equality constraint evaluations            = 25\n",
      "Number of inequality constraint evaluations          = 0\n",
      "Number of equality constraint Jacobian evaluations   = 25\n",
      "Number of inequality constraint Jacobian evaluations = 0\n",
      "Number of Lagrangian Hessian evaluations             = 24\n",
      "Total seconds in IPOPT                               = 0.018\n",
      "\n",
      "EXIT: Optimal Solution Found.\n"
     ]
    }
   ],
   "source": [
    "solve_result, inv_red_hes = inv_reduced_hessian_barrier(m, \n",
    "                    independent_variables= [m.k1, m.k2],\n",
    "                    tee=True)"
   ]
  },
  {
   "cell_type": "code",
   "execution_count": 11,
   "metadata": {},
   "outputs": [
    {
     "data": {
      "text/plain": [
       "array([[ 2.52668628, -0.38784975],\n",
       "       [-0.38784975,  0.34636455]])"
      ]
     },
     "execution_count": 11,
     "metadata": {},
     "output_type": "execute_result"
    }
   ],
   "source": [
    "inv_red_hes"
   ]
  },
  {
   "cell_type": "code",
   "execution_count": 12,
   "metadata": {},
   "outputs": [
    {
     "data": {
      "text/plain": [
       "(20, 4)"
      ]
     },
     "execution_count": 12,
     "metadata": {},
     "output_type": "execute_result"
    }
   ],
   "source": [
    "data_df.shape"
   ]
  },
  {
   "cell_type": "code",
   "execution_count": 13,
   "metadata": {},
   "outputs": [
    {
     "data": {
      "text/plain": [
       "0.02612145403071718"
      ]
     },
     "execution_count": 13,
     "metadata": {},
     "output_type": "execute_result"
    }
   ],
   "source": [
    "n = 20*3\n",
    "k = 2\n",
    "sse = m.obj()\n",
    "sse"
   ]
  },
  {
   "cell_type": "code",
   "execution_count": 14,
   "metadata": {},
   "outputs": [
    {
     "data": {
      "text/plain": [
       "array([[ 0.00227589, -0.00034935],\n",
       "       [-0.00034935,  0.00031198]])"
      ]
     },
     "execution_count": 14,
     "metadata": {},
     "output_type": "execute_result"
    }
   ],
   "source": [
    "cov_est = 2 * sse / (n - k) * inv_red_hes\n",
    "cov_est"
   ]
  },
  {
   "cell_type": "code",
   "execution_count": 15,
   "metadata": {},
   "outputs": [
    {
     "data": {
      "text/plain": [
       "6.311863941800951"
      ]
     },
     "execution_count": 15,
     "metadata": {},
     "output_type": "execute_result"
    }
   ],
   "source": [
    "mult_factor = k * f.ppf(0.95, k, n-k)\n",
    "mult_factor"
   ]
  },
  {
   "cell_type": "code",
   "execution_count": 16,
   "metadata": {},
   "outputs": [
    {
     "data": {
      "text/plain": [
       "array([0.11985445, 0.0443757 ])"
      ]
     },
     "execution_count": 16,
     "metadata": {},
     "output_type": "execute_result"
    }
   ],
   "source": [
    "delta_param = np.sqrt(mult_factor * np.diag(cov_est))\n",
    "delta_param"
   ]
  },
  {
   "cell_type": "code",
   "execution_count": null,
   "metadata": {},
   "outputs": [],
   "source": []
  }
 ],
 "metadata": {
  "kernelspec": {
   "display_name": "Python 3 (ipykernel)",
   "language": "python",
   "name": "python3"
  },
  "language_info": {
   "codemirror_mode": {
    "name": "ipython",
    "version": 3
   },
   "file_extension": ".py",
   "mimetype": "text/x-python",
   "name": "python",
   "nbconvert_exporter": "python",
   "pygments_lexer": "ipython3",
   "version": "3.8.10"
  }
 },
 "nbformat": 4,
 "nbformat_minor": 2
}
