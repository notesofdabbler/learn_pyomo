{
 "cells": [
  {
   "cell_type": "code",
   "execution_count": 99,
   "id": "652d9b96",
   "metadata": {},
   "outputs": [],
   "source": [
    "import pandas as pd\n",
    "import numpy as np\n",
    "import matplotlib.pyplot as plt\n",
    "from scipy.interpolate import interp1d\n",
    "from scipy.integrate import solve_ivp\n",
    "from scipy.optimize import minimize\n",
    "import numdifftools as ndt\n",
    "from scipy.stats import f"
   ]
  },
  {
   "cell_type": "code",
   "execution_count": 2,
   "id": "d62a539c",
   "metadata": {},
   "outputs": [],
   "source": [
    "# load flow rate data\n",
    "flow_data = pd.read_csv('flow_data.csv')\n",
    "lc_data = pd.read_csv('lc_data.csv')\n",
    "teaf      = 0.00721\n",
    "teaden    = 0.728\n",
    "cBf = teaf"
   ]
  },
  {
   "cell_type": "code",
   "execution_count": 3,
   "id": "1f62e6b7",
   "metadata": {},
   "outputs": [],
   "source": [
    "tQf = np.insert(flow_data['t'].values, 0, 0)\n",
    "Qf = np.insert(flow_data[\"Qf\"].values / teaden, 0, 0)"
   ]
  },
  {
   "cell_type": "code",
   "execution_count": 4,
   "id": "f6b45adb",
   "metadata": {},
   "outputs": [],
   "source": [
    "tlc = lc_data['t'].values\n",
    "lc = lc_data['lc_meas'].values"
   ]
  },
  {
   "cell_type": "code",
   "execution_count": 5,
   "id": "d028b4f1",
   "metadata": {},
   "outputs": [],
   "source": [
    "Qf_if = interp1d(tQf, Qf, 'previous', bounds_error = False)"
   ]
  },
  {
   "cell_type": "code",
   "execution_count": 6,
   "id": "9771736d",
   "metadata": {},
   "outputs": [
    {
     "data": {
      "text/plain": [
       "[<matplotlib.lines.Line2D at 0x7f405f670370>]"
      ]
     },
     "execution_count": 6,
     "metadata": {},
     "output_type": "execute_result"
    },
    {
     "data": {
      "image/png": "[encoded data removed]",
      "text/plain": [
       "<Figure size 432x288 with 1 Axes>"
      ]
     },
     "metadata": {
      "needs_background": "light"
     },
     "output_type": "display_data"
    }
   ],
   "source": [
    "t_i = np.arange(0.0, 850.0)\n",
    "Qf_i = [Qf_if(t) for t in t_i]\n",
    "\n",
    "fig, ax = plt.subplots()\n",
    "ax.scatter(tQf, Qf)\n",
    "ax.plot(t_i, Qf_i)"
   ]
  },
  {
   "cell_type": "code",
   "execution_count": 7,
   "id": "cf03d818",
   "metadata": {},
   "outputs": [],
   "source": [
    "def rates_red(t, y, p):\n",
    "    \n",
    "    vR = y[0]\n",
    "    eps2 = y[1]\n",
    "    \n",
    "    Qf_if = p[0]\n",
    "    nA0 = p[1]\n",
    "    k = p[2]\n",
    "    \n",
    "    cBf = 0.00721\n",
    "    vR0 = 2370.0\n",
    "    \n",
    "    nBadded = max((vR - vR0) * cBf,1.0e-6)\n",
    "    \n",
    "    dvR = Qf_if\n",
    "    deps2 = Qf_if * cBf / (1.0 + k * (nA0 - nBadded + eps2)/(nBadded - 2.0 * eps2))\n",
    "    \n",
    "    return [dvR, deps2]"
   ]
  },
  {
   "cell_type": "code",
   "execution_count": 8,
   "id": "d6712515",
   "metadata": {},
   "outputs": [],
   "source": [
    "def get_lcpred(sol):\n",
    "    \n",
    "    cBf = 0.00721\n",
    "    vR0 = 2370.0\n",
    "    \n",
    "    vR = sol[0,:]\n",
    "    eps2 = sol[1:,]\n",
    "    \n",
    "    nBadded = (vR - vR0) * cBf\n",
    "    nD = eps2\n",
    "    nC = nBadded - 2.0 * nD\n",
    "    \n",
    "    lc_pred =  1 / (1 + 2.0*nD/np.maximum(nC, 1e-6))\n",
    "    \n",
    "    return lc_pred"
   ]
  },
  {
   "cell_type": "code",
   "execution_count": 80,
   "id": "be302baf",
   "metadata": {},
   "outputs": [],
   "source": [
    "def get_lc_sse(sol_l_t, sol_l_y, lc_data):\n",
    "    tlc = lc_data['t'].values\n",
    "    lc = lc_data['lc_meas'].values\n",
    "    sol_vR_int = interp1d(sol_l_t, sol_l_y[0,:], 'linear', bounds_error = False)\n",
    "    sol_eps2_int = interp1d(sol_l_t, sol_l_y[1,:], 'linear', bounds_error = False)\n",
    "    sol_vR = np.array([sol_vR_int(t) for t in tlc])\n",
    "    sol_eps2 = np.array([sol_eps2_int(t) for t in tlc])\n",
    "    sol = np.vstack((sol_vR, sol_eps2))\n",
    "    lc_pred = get_lcpred(sol)[0,:]\n",
    "    lc_ratio = lc_pred/lc\n",
    "    sse = np.sum((lc_ratio - 1.0)**2)\n",
    "    return sse"
   ]
  },
  {
   "cell_type": "code",
   "execution_count": 81,
   "id": "ba3caf87",
   "metadata": {},
   "outputs": [
    {
     "data": {
      "text/plain": [
       "0.1167538499043078"
      ]
     },
     "execution_count": 81,
     "metadata": {},
     "output_type": "execute_result"
    }
   ],
   "source": [
    "tmp = get_lc_sse(sol_l_t, sol_l_y, lc_data)\n",
    "tmp"
   ]
  },
  {
   "cell_type": "code",
   "execution_count": 9,
   "id": "ab823eef",
   "metadata": {},
   "outputs": [
    {
     "name": "stdout",
     "output_type": "stream",
     "text": [
      "0\n",
      "1\n",
      "2\n",
      "3\n",
      "4\n",
      "5\n",
      "6\n",
      "7\n",
      "8\n",
      "9\n",
      "10\n",
      "11\n",
      "12\n",
      "13\n",
      "14\n",
      "15\n",
      "16\n",
      "17\n",
      "18\n",
      "19\n",
      "20\n",
      "21\n",
      "22\n",
      "23\n",
      "24\n",
      "25\n",
      "26\n",
      "27\n",
      "28\n",
      "29\n",
      "30\n",
      "31\n",
      "32\n",
      "33\n",
      "34\n",
      "35\n",
      "36\n",
      "37\n",
      "38\n",
      "39\n",
      "40\n",
      "41\n",
      "42\n",
      "43\n",
      "44\n",
      "45\n",
      "46\n",
      "47\n",
      "48\n",
      "49\n",
      "50\n",
      "51\n",
      "52\n",
      "53\n",
      "54\n",
      "55\n",
      "56\n",
      "57\n",
      "58\n",
      "59\n",
      "60\n",
      "61\n",
      "62\n",
      "63\n",
      "64\n",
      "65\n",
      "66\n",
      "67\n",
      "68\n",
      "69\n",
      "70\n",
      "71\n",
      "72\n",
      "73\n",
      "74\n",
      "75\n",
      "76\n",
      "77\n",
      "78\n",
      "79\n",
      "80\n",
      "81\n",
      "82\n",
      "83\n",
      "84\n",
      "85\n",
      "86\n"
     ]
    }
   ],
   "source": [
    "y0 = [2370.0, 0.0]\n",
    "\n",
    "for (i, t) in enumerate(tQf[:-1]):\n",
    "    print(i)\n",
    "    tspan = [0.0, tQf[i+1] - tQf[i]]\n",
    "    p = [Qf[i], 2.35, 2.0]\n",
    "    sol = solve_ivp(rates_red, tspan, y0, method = \"BDF\", args = (p,))\n",
    "    sol.t = sol.t + tQf[i]\n",
    "    y0 = sol.y[:,-1]\n",
    "    if i == 0:\n",
    "        sol_l_t = np.copy(sol.t)\n",
    "        sol_l_y = np.copy(sol.y)\n",
    "    else:\n",
    "        sol_l_t = np.concatenate((sol_l_t, sol.t))\n",
    "        sol_l_y = np.concatenate((sol_l_y, sol.y), axis = 1)"
   ]
  },
  {
   "cell_type": "code",
   "execution_count": 47,
   "id": "dc387647",
   "metadata": {},
   "outputs": [],
   "source": [
    "def simprob(p, tQf, Qf):\n",
    "\n",
    "    y0 = [2370.0, 0.0]\n",
    "\n",
    "    for (i, t) in enumerate(tQf[:-1]):\n",
    "        #print(i)\n",
    "        tspan = [0.0, tQf[i+1] - tQf[i]]\n",
    "        p_ext = [Qf[i], p[0], p[1]]\n",
    "        sol = solve_ivp(rates_red, tspan, y0, method = \"BDF\", args = (p_ext,))\n",
    "        sol.t = sol.t + tQf[i]\n",
    "        y0 = sol.y[:,-1]\n",
    "        if i == 0:\n",
    "            sol_l_t = np.copy(sol.t)\n",
    "            sol_l_y = np.copy(sol.y)\n",
    "        else:\n",
    "            sol_l_t = np.concatenate((sol_l_t, sol.t))\n",
    "            sol_l_y = np.concatenate((sol_l_y, sol.y), axis = 1)\n",
    "            \n",
    "    return sol_l_t, sol_l_y"
   ]
  },
  {
   "cell_type": "code",
   "execution_count": 49,
   "id": "cb868eff",
   "metadata": {},
   "outputs": [],
   "source": [
    "sol_l_t, sol_l_y = simprob([2.35, 2.0], tQf, Qf)"
   ]
  },
  {
   "cell_type": "code",
   "execution_count": 51,
   "id": "3917f8dd",
   "metadata": {},
   "outputs": [
    {
     "data": {
      "text/plain": [
       "[<matplotlib.lines.Line2D at 0x7f405bdd8430>]"
      ]
     },
     "execution_count": 51,
     "metadata": {},
     "output_type": "execute_result"
    },
    {
     "data": {
      "image/png": "[encoded data removed]",
      "text/plain": [
       "<Figure size 432x288 with 1 Axes>"
      ]
     },
     "metadata": {
      "needs_background": "light"
     },
     "output_type": "display_data"
    }
   ],
   "source": [
    "fig, ax = plt.subplots()\n",
    "ax.plot(sol_l_t, sol_l_y[0,:])"
   ]
  },
  {
   "cell_type": "code",
   "execution_count": 52,
   "id": "8c552711",
   "metadata": {},
   "outputs": [
    {
     "data": {
      "text/plain": [
       "(540,)"
      ]
     },
     "execution_count": 52,
     "metadata": {},
     "output_type": "execute_result"
    }
   ],
   "source": [
    "lc_sim = get_lcpred(sol_l_y)\n",
    "lc_sim[0,:].shape"
   ]
  },
  {
   "cell_type": "code",
   "execution_count": 55,
   "id": "7319f5bd",
   "metadata": {},
   "outputs": [
    {
     "data": {
      "text/plain": [
       "(0.0, 0.2)"
      ]
     },
     "execution_count": 55,
     "metadata": {},
     "output_type": "execute_result"
    },
    {
     "data": {
      "image/png": "[encoded data removed]",
      "text/plain": [
       "<Figure size 432x288 with 1 Axes>"
      ]
     },
     "metadata": {
      "needs_background": "light"
     },
     "output_type": "display_data"
    }
   ],
   "source": [
    "fig, ax = plt.subplots()\n",
    "ax.scatter(tlc, lc)\n",
    "ax.plot(sol_l_t, lc_sim[0,:])\n",
    "ax.set_xlim([400.0, 850.0])\n",
    "ax.set_ylim([0.0, 0.2])"
   ]
  },
  {
   "cell_type": "code",
   "execution_count": 82,
   "id": "80851578",
   "metadata": {},
   "outputs": [],
   "source": [
    "def calc_SSE(pest, data):\n",
    "    sol_l_t, sol_l_y = simprob(pest, data['tQf'], data['Qf'])\n",
    "    SSE = get_lc_sse(sol_l_t, sol_l_y, data['lc_data'])\n",
    "    return SSE"
   ]
  },
  {
   "cell_type": "code",
   "execution_count": 83,
   "id": "e51c94c0",
   "metadata": {},
   "outputs": [],
   "source": [
    "pest_data = {'Qf_if': Qf_if, 'lc_data': lc_data, 'tQf': tQf, 'Qf': Qf}"
   ]
  },
  {
   "cell_type": "code",
   "execution_count": 84,
   "id": "583daf92",
   "metadata": {},
   "outputs": [
    {
     "data": {
      "text/plain": [
       "0.1167538499043078"
      ]
     },
     "execution_count": 84,
     "metadata": {},
     "output_type": "execute_result"
    }
   ],
   "source": [
    "calc_SSE([2.35, 2.0], pest_data)"
   ]
  },
  {
   "cell_type": "code",
   "execution_count": 102,
   "id": "3efd1a95",
   "metadata": {},
   "outputs": [],
   "source": [
    "pe_sol = minimize(calc_SSE, [2.35, 1.0], args = pest_data, method = \"L-BFGS-B\")"
   ]
  },
  {
   "cell_type": "code",
   "execution_count": 103,
   "id": "a6246ae5",
   "metadata": {},
   "outputs": [
    {
     "data": {
      "text/plain": [
       "      fun: 0.09747117937683189\n",
       " hess_inv: <2x2 LbfgsInvHessProduct with dtype=float64>\n",
       "      jac: array([-2.24098519e-05,  1.60982340e-06])\n",
       "  message: b'CONVERGENCE: REL_REDUCTION_OF_F_<=_FACTR*EPSMCH'\n",
       "     nfev: 66\n",
       "      nit: 20\n",
       "     njev: 22\n",
       "   status: 0\n",
       "  success: True\n",
       "        x: array([2.35030986, 2.19681753])"
      ]
     },
     "execution_count": 103,
     "metadata": {},
     "output_type": "execute_result"
    }
   ],
   "source": [
    "pe_sol"
   ]
  },
  {
   "cell_type": "code",
   "execution_count": 85,
   "id": "97025e61",
   "metadata": {},
   "outputs": [],
   "source": [
    "calc_SSE_lam = lambda pest: calc_SSE(pest, pest_data)"
   ]
  },
  {
   "cell_type": "code",
   "execution_count": 86,
   "id": "5a5b58d1",
   "metadata": {},
   "outputs": [],
   "source": [
    "tmp = ndt.Hessian(calc_SSE_lam)"
   ]
  },
  {
   "cell_type": "code",
   "execution_count": 87,
   "id": "822da214",
   "metadata": {},
   "outputs": [],
   "source": [
    "H = tmp([2.35, 2.0])"
   ]
  },
  {
   "cell_type": "code",
   "execution_count": 88,
   "id": "492ca9c0",
   "metadata": {},
   "outputs": [
    {
     "data": {
      "text/plain": [
       "array([[3.76160706e+03, 5.25091422e+01],\n",
       "       [5.25091422e+01, 1.43718297e+00]])"
      ]
     },
     "execution_count": 88,
     "metadata": {},
     "output_type": "execute_result"
    }
   ],
   "source": [
    "H"
   ]
  },
  {
   "cell_type": "code",
   "execution_count": 89,
   "id": "1cd28f95",
   "metadata": {},
   "outputs": [
    {
     "data": {
      "text/plain": [
       "array([[ 5.42556857e-04, -1.98229424e-02],\n",
       "       [-1.98229424e-02,  1.42005976e+00]])"
      ]
     },
     "execution_count": 89,
     "metadata": {},
     "output_type": "execute_result"
    }
   ],
   "source": [
    "np.linalg.inv(H) "
   ]
  },
  {
   "cell_type": "code",
   "execution_count": 90,
   "id": "813a9ad2",
   "metadata": {},
   "outputs": [
    {
     "data": {
      "text/plain": [
       "0.003537995451645691"
      ]
     },
     "execution_count": 90,
     "metadata": {},
     "output_type": "execute_result"
    }
   ],
   "source": [
    "mse = calc_SSE([2.35, 2.0], pest_data)/33\n",
    "mse"
   ]
  },
  {
   "cell_type": "code",
   "execution_count": 68,
   "id": "e09aef02",
   "metadata": {},
   "outputs": [
    {
     "data": {
      "text/plain": [
       "(35, 2)"
      ]
     },
     "execution_count": 68,
     "metadata": {},
     "output_type": "execute_result"
    }
   ],
   "source": [
    "lc_data.shape"
   ]
  },
  {
   "cell_type": "code",
   "execution_count": 91,
   "id": "0f8c9fa7",
   "metadata": {},
   "outputs": [
    {
     "data": {
      "text/plain": [
       "array([[ 3.83912738e-06, -1.40266960e-04],\n",
       "       [-1.40266960e-04,  1.00483300e-02]])"
      ]
     },
     "execution_count": 91,
     "metadata": {},
     "output_type": "execute_result"
    }
   ],
   "source": [
    "cov_est = 2 * mse * np.linalg.inv(H)\n",
    "cov_est"
   ]
  },
  {
   "cell_type": "code",
   "execution_count": 98,
   "id": "550bb8b8",
   "metadata": {},
   "outputs": [
    {
     "data": {
      "text/plain": [
       "6.5698353020765765"
      ]
     },
     "execution_count": 98,
     "metadata": {},
     "output_type": "execute_result"
    }
   ],
   "source": [
    "nparam = 2\n",
    "ndata = 35\n",
    "alpha = 0.95\n",
    "mult_factor = np * f.ppf(alpha, nparam, ndata - nparam)\n",
    "mult_factor"
   ]
  },
  {
   "cell_type": "code",
   "execution_count": 101,
   "id": "4183d31a",
   "metadata": {},
   "outputs": [
    {
     "data": {
      "text/plain": [
       "array([0.00502219, 0.25693554])"
      ]
     },
     "execution_count": 101,
     "metadata": {},
     "output_type": "execute_result"
    }
   ],
   "source": [
    "conf_delta = np.sqrt(np.diag(cov_est) * mult_factor)\n",
    "conf_delta"
   ]
  },
  {
   "cell_type": "code",
   "execution_count": null,
   "id": "97808727",
   "metadata": {},
   "outputs": [],
   "source": []
  }
 ],
 "metadata": {
  "kernelspec": {
   "display_name": "Python 3",
   "language": "python",
   "name": "python3"
  },
  "language_info": {
   "codemirror_mode": {
    "name": "ipython",
    "version": 3
   },
   "file_extension": ".py",
   "mimetype": "text/x-python",
   "name": "python",
   "nbconvert_exporter": "python",
   "pygments_lexer": "ipython3",
   "version": "3.9.0"
  }
 },
 "nbformat": 4,
 "nbformat_minor": 5
}
