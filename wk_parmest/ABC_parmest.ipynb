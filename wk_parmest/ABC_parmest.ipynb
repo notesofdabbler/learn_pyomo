{
 "cells": [
  {
   "cell_type": "markdown",
   "metadata": {},
   "source": [
    "This is an attempt to recreate the parameter estimation [example](https://sites.engineering.ucsb.edu/~jbraw/chemreacfun/fig-html/appendix/fig-A-10.html) from James Rawlings book on [Reactor Design](https://sites.engineering.ucsb.edu/~jbraw/chemreacfun/) using Pyomo [parmest](https://pyomo.readthedocs.io/en/stable/contributed_packages/parmest/driver.html)."
   ]
  },
  {
   "cell_type": "code",
   "execution_count": 1,
   "metadata": {},
   "outputs": [],
   "source": [
    "# Import libraries\n",
    "from pyomo.environ import *\n",
    "from pyomo.dae import *\n",
    "import pyomo.contrib.parmest.parmest as parmest\n",
    "import pandas as pd\n",
    "import numpy as np\n",
    "import matplotlib.pyplot as plt"
   ]
  },
  {
   "cell_type": "markdown",
   "metadata": {},
   "source": [
    "This example has a series reaction $A \\rightarrow B \\rightarrow C$. The dataset consists of measures concentrations of A, B and C over time. The goal is to estimate the rate constants $k_1$ and $k_2$ for the two reactions."
   ]
  },
  {
   "cell_type": "code",
   "execution_count": 2,
   "metadata": {},
   "outputs": [
    {
     "data": {
      "text/html": [
       "<div>\n",
       "<style scoped>\n",
       "    .dataframe tbody tr th:only-of-type {\n",
       "        vertical-align: middle;\n",
       "    }\n",
       "\n",
       "    .dataframe tbody tr th {\n",
       "        vertical-align: top;\n",
       "    }\n",
       "\n",
       "    .dataframe thead th {\n",
       "        text-align: right;\n",
       "    }\n",
       "</style>\n",
       "<table border=\"1\" class=\"dataframe\">\n",
       "  <thead>\n",
       "    <tr style=\"text-align: right;\">\n",
       "      <th></th>\n",
       "      <th>t</th>\n",
       "      <th>ca</th>\n",
       "      <th>cb</th>\n",
       "      <th>cc</th>\n",
       "    </tr>\n",
       "  </thead>\n",
       "  <tbody>\n",
       "    <tr>\n",
       "      <td>0</td>\n",
       "      <td>0.000</td>\n",
       "      <td>0.957</td>\n",
       "      <td>-0.031</td>\n",
       "      <td>-0.015</td>\n",
       "    </tr>\n",
       "    <tr>\n",
       "      <td>1</td>\n",
       "      <td>0.263</td>\n",
       "      <td>0.557</td>\n",
       "      <td>0.330</td>\n",
       "      <td>0.044</td>\n",
       "    </tr>\n",
       "    <tr>\n",
       "      <td>2</td>\n",
       "      <td>0.526</td>\n",
       "      <td>0.342</td>\n",
       "      <td>0.512</td>\n",
       "      <td>0.156</td>\n",
       "    </tr>\n",
       "    <tr>\n",
       "      <td>3</td>\n",
       "      <td>0.789</td>\n",
       "      <td>0.224</td>\n",
       "      <td>0.499</td>\n",
       "      <td>0.310</td>\n",
       "    </tr>\n",
       "    <tr>\n",
       "      <td>4</td>\n",
       "      <td>1.053</td>\n",
       "      <td>0.123</td>\n",
       "      <td>0.428</td>\n",
       "      <td>0.454</td>\n",
       "    </tr>\n",
       "  </tbody>\n",
       "</table>\n",
       "</div>"
      ],
      "text/plain": [
       "       t     ca     cb     cc\n",
       "0  0.000  0.957 -0.031 -0.015\n",
       "1  0.263  0.557  0.330  0.044\n",
       "2  0.526  0.342  0.512  0.156\n",
       "3  0.789  0.224  0.499  0.310\n",
       "4  1.053  0.123  0.428  0.454"
      ]
     },
     "execution_count": 2,
     "metadata": {},
     "output_type": "execute_result"
    }
   ],
   "source": [
    "data_df = pd.read_csv(\"ABC_data.csv\")\n",
    "data_df.head()"
   ]
  },
  {
   "cell_type": "code",
   "execution_count": 3,
   "metadata": {},
   "outputs": [],
   "source": [
    "# Convert data to a list of dictionaries\n",
    "data = [{'ca_meas': {k:v for (k, v) in zip(data_df.t, data_df.ca)},\n",
    "    'cb_meas': {k:v for (k, v) in zip(data_df.t, data_df.cb)},\n",
    "    'cc_meas': {k:v for (k, v) in zip(data_df.t, data_df.cc)} }]"
   ]
  },
  {
   "cell_type": "code",
   "execution_count": 4,
   "metadata": {},
   "outputs": [],
   "source": [
    "#\n",
    "# Define the model \n",
    "#\n",
    "def ABC_model(data, disctype):\n",
    "    \n",
    "    ca_meas = data['ca_meas']\n",
    "    cb_meas = data['cb_meas']\n",
    "    cc_meas = data['cc_meas']\n",
    "    \n",
    "    meas_t = list(ca_meas.keys())\n",
    "       \n",
    "    ca0 = 1.0\n",
    "    cb0 = 0.0\n",
    "    cc0 = 0.0\n",
    "        \n",
    "    m = ConcreteModel()\n",
    "    \n",
    "    m.k1 = Var(initialize = 0.5, bounds = (1e-4, 10))\n",
    "    m.k2 = Var(initialize = 3.0, bounds = (1e-4, 10))\n",
    "    \n",
    "    m.time = ContinuousSet(bounds = (0.0, 5.0), initialize = meas_t)\n",
    "    m.ca = Var(m.time, initialize = ca0, bounds = (0, ca0))\n",
    "    m.cb = Var(m.time, initialize = cb0, bounds = (0, ca0))\n",
    "    m.cc = Var(m.time, initialize = cc0, bounds = (0, ca0))\n",
    "    \n",
    "    m.dca = DerivativeVar(m.ca, wrt = m.time)\n",
    "    m.dcb = DerivativeVar(m.cb, wrt = m.time)\n",
    "    m.dcc = DerivativeVar(m.cc, wrt = m.time)\n",
    "    \n",
    "    def _dcarate(m, t):\n",
    "        if t == 0:\n",
    "            return Constraint.Skip\n",
    "        else:\n",
    "            return m.dca[t] == -m.k1 * m.ca[t]\n",
    "    m.dcarate = Constraint(m.time, rule = _dcarate)\n",
    "    \n",
    "    def _dcbrate(m, t):\n",
    "        if t == 0:\n",
    "            return Constraint.Skip\n",
    "        else:\n",
    "            return m.dcb[t] == m.k1 * m.ca[t] - m.k2 * m.cb[t]\n",
    "    m.dcbrate = Constraint(m.time, rule = _dcbrate)\n",
    "    \n",
    "    def _dccrate(m, t):\n",
    "        if t == 0:\n",
    "            return Constraint.Skip\n",
    "        else:\n",
    "            return m.dcc[t] == m.k2 * m.cb[t]\n",
    "    m.dccrate = Constraint(m.time, rule = _dccrate)\n",
    "    \n",
    "    def _initcon(m):\n",
    "        yield m.ca[m.time.first()] == ca0\n",
    "        yield m.cb[m.time.first()] == cb0\n",
    "        yield m.cc[m.time.first()] == cc0\n",
    "    m.initcon = ConstraintList(rule = _initcon)\n",
    "    \n",
    "    def ComputeFirstStageCost_rule(m):\n",
    "        return 0\n",
    "    m.FirstStageCost = Expression(rule=ComputeFirstStageCost_rule)\n",
    "\n",
    "    def ComputeSecondStageCost_rule(m):\n",
    "        return sum((m.ca[t] - ca_meas[t]) ** 2 + (m.cb[t] - cb_meas[t]) ** 2 \n",
    "                   + (m.cc[t] - cc_meas[t]) ** 2 for t in meas_t) \n",
    "    m.SecondStageCost = Expression(rule=ComputeSecondStageCost_rule)\n",
    "\n",
    "    \n",
    "    def total_cost_rule(model):\n",
    "        return model.FirstStageCost + model.SecondStageCost\n",
    "    m.Total_Cost_Objective = Objective(rule=total_cost_rule, sense=minimize)\n",
    "    \n",
    "    if disctype == 'colloc':\n",
    "        disc = TransformationFactory('dae.collocation')\n",
    "        disc.apply_to(m, nfe=20, ncp=2)\n",
    "    else:\n",
    "        disc = TransformationFactory('dae.finite_difference')\n",
    "        disc.apply_to(m, nfe=500, scheme = 'BACKWARD')\n",
    "    \n",
    "    return m"
   ]
  },
  {
   "cell_type": "code",
   "execution_count": 5,
   "metadata": {},
   "outputs": [],
   "source": [
    "# parameters to be estimated\n",
    "theta_names = ['k1', 'k2']"
   ]
  },
  {
   "cell_type": "code",
   "execution_count": 6,
   "metadata": {},
   "outputs": [
    {
     "name": "stdout",
     "output_type": "stream",
     "text": [
      "Ipopt 3.11.1: max_iter=6000\n",
      "\n",
      "\n",
      "******************************************************************************\n",
      "This program contains Ipopt, a library for large-scale nonlinear optimization.\n",
      " Ipopt is released as open source code under the Eclipse Public License (EPL).\n",
      "         For more information visit http://projects.coin-or.org/Ipopt\n",
      "******************************************************************************\n",
      "\n",
      "NOTE: You are using Ipopt by default with the MUMPS linear solver.\n",
      "      Other linear solvers might be more efficient (see Ipopt documentation).\n",
      "\n",
      "\n",
      "This is Ipopt version 3.11.1, running with linear solver mumps.\n",
      "\n",
      "Number of nonzeros in equality constraint Jacobian...:      927\n",
      "Number of nonzeros in inequality constraint Jacobian.:        0\n",
      "Number of nonzeros in Lagrangian Hessian.............:      140\n",
      "\n",
      "Total number of variables............................:      247\n",
      "                     variables with only lower bounds:        0\n",
      "                variables with lower and upper bounds:      125\n",
      "                     variables with only upper bounds:        0\n",
      "Total number of equality constraints.................:      245\n",
      "Total number of inequality constraints...............:        0\n",
      "        inequality constraints with only lower bounds:        0\n",
      "   inequality constraints with lower and upper bounds:        0\n",
      "        inequality constraints with only upper bounds:        0\n",
      "\n",
      "iter    objective    inf_pr   inf_du lg(mu)  ||d||  lg(rg) alpha_du alpha_pr  ls\n",
      "   0  2.8934592e+01 3.00e+00 9.83e-01  -1.0 0.00e+00    -  0.00e+00 0.00e+00   0\n",
      "   1  2.3120916e+01 1.65e-01 8.35e+00  -1.0 2.07e+00    -  1.83e-01 9.45e-01f  1\n",
      "   2  2.0730985e+01 1.14e-01 1.36e+02  -1.0 1.57e+00   0.0 1.78e-01 3.07e-01f  1\n",
      "   3  8.0976782e+00 1.15e-01 3.06e+03  -1.0 7.12e-01    -  3.00e-01 9.90e-01f  1\n",
      "   4  4.0091217e+00 1.45e-01 7.91e+03  -1.0 6.88e-01    -  3.69e-01 6.67e-01f  1\n",
      "   5  3.2164858e+00 1.05e-01 3.13e+04  -1.0 2.44e+00    -  2.91e-02 3.63e-01F  1\n",
      "   6  3.7155557e+00 2.16e-02 1.04e+04  -1.0 2.06e-01    -  9.15e-01 1.00e+00f  1\n",
      "   7  2.9009185e+00 7.15e-03 3.77e-01  -1.0 1.00e-01    -  1.00e+00 1.00e+00h  1\n",
      "   8  1.5140457e+00 1.73e-02 3.14e+06  -3.8 1.56e-01    -  6.85e-01 1.00e+00f  1\n",
      "   9  6.7085434e-01 2.66e-02 9.16e+05  -3.8 2.49e-01    -  7.09e-01 8.78e-01f  1\n",
      "iter    objective    inf_pr   inf_du lg(mu)  ||d||  lg(rg) alpha_du alpha_pr  ls\n",
      "  10  2.1973684e-01 3.16e-02 1.43e+05  -3.8 2.88e-01    -  8.44e-01 1.00e+00h  1\n",
      "  11  1.4247059e-01 2.40e-02 2.43e+01  -3.8 3.43e-01    -  1.00e+00 3.78e-01h  1\n",
      "  12  4.1655730e-02 2.59e-02 1.71e+00  -3.8 3.27e-01    -  1.00e+00 1.00e+00h  1\n",
      "  13  2.8959708e-02 2.45e-02 9.05e+01  -3.8 3.54e-01    -  4.42e-01 1.00e+00h  1\n",
      "  14  2.6998282e-02 1.54e-04 3.29e+01  -3.8 1.34e-02    -  2.90e-01 1.00e+00h  1\n",
      "  15  2.6202100e-02 9.63e-04 6.98e-01  -3.8 7.38e-02    -  1.00e+00 1.00e+00h  1\n",
      "  16  2.6438178e-02 1.90e-04 9.23e-03  -3.8 3.15e-02    -  1.00e+00 1.00e+00h  1\n",
      "  17  2.6455581e-02 3.21e-07 6.00e-05  -3.8 1.18e-03    -  1.00e+00 1.00e+00h  1\n",
      "  18  2.6130079e-02 2.44e-04 8.91e+01  -5.7 3.62e-02    -  9.94e-01 1.00e+00h  1\n",
      "  19  2.6121543e-02 3.45e-07 2.22e-04  -5.7 1.53e-03    -  1.00e+00 1.00e+00h  1\n",
      "iter    objective    inf_pr   inf_du lg(mu)  ||d||  lg(rg) alpha_du alpha_pr  ls\n",
      "  20  2.6121542e-02 1.61e-10 4.70e-08  -5.7 2.94e-05    -  1.00e+00 1.00e+00h  1\n",
      "  21  2.6121491e-02 4.34e-08 6.17e-06  -8.6 4.87e-04    -  1.00e+00 1.00e+00h  1\n",
      "  22  2.6121489e-02 9.55e-15 7.36e-12  -8.6 2.58e-07    -  1.00e+00 1.00e+00h  1\n",
      "\n",
      "Number of Iterations....: 22\n",
      "\n",
      "                                   (scaled)                 (unscaled)\n",
      "Objective...............:   2.6121489430743425e-02    2.6121489430743425e-02\n",
      "Dual infeasibility......:   7.3556029538401577e-12    7.3556029538401577e-12\n",
      "Constraint violation....:   9.5479180117763462e-15    9.5479180117763462e-15\n",
      "Complementarity.........:   2.5059037235371627e-09    2.5059037235371627e-09\n",
      "Overall NLP error.......:   2.5059037235371627e-09    2.5059037235371627e-09\n",
      "\n",
      "\n",
      "Number of objective function evaluations             = 24\n",
      "Number of objective gradient evaluations             = 23\n",
      "Number of equality constraint evaluations            = 24\n",
      "Number of inequality constraint evaluations          = 0\n",
      "Number of equality constraint Jacobian evaluations   = 23\n",
      "Number of inequality constraint Jacobian evaluations = 0\n",
      "Number of Lagrangian Hessian evaluations             = 22\n",
      "Total CPU secs in IPOPT (w/o function evaluations)   =      0.028\n",
      "Total CPU secs in NLP function evaluations           =      0.001\n",
      "\n",
      "EXIT: Optimal Solution Found.\n"
     ]
    }
   ],
   "source": [
    "# First tried collocation method. Max iterations are exceeded\n",
    "ABC_model_fn = lambda data: ABC_model(data, 'colloc')\n",
    "pest = parmest.Estimator(ABC_model_fn, data, theta_names, tee = True)\n",
    "obj, theta = pest.theta_est()"
   ]
  },
  {
   "cell_type": "code",
   "execution_count": 7,
   "metadata": {},
   "outputs": [
    {
     "data": {
      "text/plain": [
       "{'k1': 2.014379387598275, 'k2': 0.9944521090927797}"
      ]
     },
     "execution_count": 7,
     "metadata": {},
     "output_type": "execute_result"
    }
   ],
   "source": [
    "theta"
   ]
  },
  {
   "cell_type": "code",
   "execution_count": 11,
   "metadata": {},
   "outputs": [
    {
     "name": "stdout",
     "output_type": "stream",
     "text": [
      "Ipopt 3.11.1: max_iter=6000\n",
      "\n",
      "\n",
      "******************************************************************************\n",
      "This program contains Ipopt, a library for large-scale nonlinear optimization.\n",
      " Ipopt is released as open source code under the Eclipse Public License (EPL).\n",
      "         For more information visit http://projects.coin-or.org/Ipopt\n",
      "******************************************************************************\n",
      "\n",
      "NOTE: You are using Ipopt by default with the MUMPS linear solver.\n",
      "      Other linear solvers might be more efficient (see Ipopt documentation).\n",
      "\n",
      "\n",
      "This is Ipopt version 3.11.1, running with linear solver mumps.\n",
      "\n",
      "Number of nonzeros in equality constraint Jacobian...:    10007\n",
      "Number of nonzeros in inequality constraint Jacobian.:        0\n",
      "Number of nonzeros in Lagrangian Hessian.............:     1060\n",
      "\n",
      "Total number of variables............................:     3007\n",
      "                     variables with only lower bounds:        0\n",
      "                variables with lower and upper bounds:     1505\n",
      "                     variables with only upper bounds:        0\n",
      "Total number of equality constraints.................:     3005\n",
      "Total number of inequality constraints...............:        0\n",
      "        inequality constraints with only lower bounds:        0\n",
      "   inequality constraints with lower and upper bounds:        0\n",
      "        inequality constraints with only upper bounds:        0\n",
      "\n",
      "iter    objective    inf_pr   inf_du lg(mu)  ||d||  lg(rg) alpha_du alpha_pr  ls\n",
      "   0  2.8934592e+01 3.00e+00 8.17e-02  -1.0 0.00e+00    -  0.00e+00 0.00e+00   0\n",
      "   1  2.7150675e+01 2.14e+00 8.52e+00  -1.0 1.04e+01    -  1.58e-01 2.86e-01f  1\n",
      "   2  2.2043172e+01 8.89e-02 2.00e+02  -1.0 3.54e+00    -  2.20e-02 9.90e-01f  1\n",
      "   3  1.6211451e+01 7.59e-03 4.33e+02  -1.0 2.28e-01    -  6.81e-01 9.90e-01f  1\n",
      "   4  8.5549183e+00 3.74e-02 3.95e+03  -1.0 3.10e-01    -  9.72e-01 1.00e+00f  1\n",
      "   5  6.7877388e+00 1.78e-01 2.73e+04  -1.0 3.18e+00    -  4.15e-01 4.17e-01f  1\n",
      "   6  6.2706042e+00 1.38e-01 5.57e+01  -1.0 5.93e-01    -  1.00e+00 1.00e+00f  1\n",
      "   7  5.7881375e+00 7.61e-03 1.12e+06  -1.7 2.29e-01    -  8.60e-01 1.00e+00h  1\n",
      "   8  4.5005294e+00 1.24e-02 1.82e+05  -1.7 1.21e-01    -  8.37e-01 1.00e+00h  1\n",
      "   9  4.0708285e+00 3.39e-03 1.51e-01  -1.7 9.01e-02    -  1.00e+00 1.00e+00h  1\n",
      "iter    objective    inf_pr   inf_du lg(mu)  ||d||  lg(rg) alpha_du alpha_pr  ls\n",
      "  10  2.8132609e+00 5.63e-03 4.88e+05  -3.8 1.14e-01    -  7.54e-01 1.00e+00h  1\n",
      "  11  1.4000894e+00 1.77e-02 1.02e+05  -3.8 1.59e-01    -  7.90e-01 1.00e+00h  1\n",
      "  12  6.3879366e-01 2.61e-02 1.02e+00  -3.8 2.78e-01    -  1.00e+00 7.45e-01h  1\n",
      "  13  2.2958439e-01 2.67e-02 7.90e-02  -3.8 2.65e-01    -  1.00e+00 1.00e+00h  1\n",
      "  14  1.0304872e-01 2.10e-02 1.25e+00  -3.8 3.19e-01    -  1.00e+00 7.68e-01h  1\n",
      "  15  3.9770924e-02 2.27e-02 6.44e+02  -3.8 3.20e-01    -  3.43e-02 1.00e+00h  1\n",
      "  16  5.6720022e-02 3.17e-03 8.31e+01  -3.8 1.10e-01    -  6.87e-02 1.00e+00h  1\n",
      "  17  5.7037126e-02 4.92e-06 8.94e-03  -3.8 3.64e-03    -  1.00e+00 1.00e+00h  1\n",
      "  18  5.8048658e-02 1.05e-07 2.99e-05  -3.8 5.85e-03    -  1.00e+00 1.00e+00H  1\n",
      "  19  2.9181889e-02 9.00e-03 2.75e+02  -5.7 2.35e-01    -  8.85e-01 8.67e-01f  1\n",
      "iter    objective    inf_pr   inf_du lg(mu)  ||d||  lg(rg) alpha_du alpha_pr  ls\n",
      "  20  4.4396813e-02 1.14e-02 1.70e+03  -5.7 2.76e-01    -  2.00e-03 1.00e+00H  1\n",
      "  21  3.0138953e-02 5.99e-03 1.31e+03  -5.7 1.91e-01    -  2.33e-01 1.00e+00h  1\n",
      "  22  2.6577166e-02 1.46e-03 3.41e+02  -5.7 9.00e-02    -  7.39e-01 1.00e+00h  1\n",
      "  23  2.5891229e-02 7.08e-04 1.75e-03  -5.7 6.31e-02    -  1.00e+00 1.00e+00h  1\n",
      "  24  2.5878953e-02 2.29e-06 1.65e-05  -5.7 3.08e-03    -  1.00e+00 1.00e+00h  1\n",
      "  25  2.5871449e-02 6.50e-06 2.95e-01  -8.6 6.04e-03    -  9.98e-01 1.00e+00h  1\n",
      "  26  2.5871256e-02 2.14e-10 1.39e-08  -8.6 3.89e-05    -  1.00e+00 1.00e+00h  1\n",
      "  27  2.5871256e-02 4.98e-12 6.19e-11  -9.0 5.30e-06    -  1.00e+00 1.00e+00h  1\n",
      "\n",
      "Number of Iterations....: 27\n",
      "\n",
      "                                   (scaled)                 (unscaled)\n",
      "Objective...............:   2.5871256004950570e-02    2.5871256004950570e-02\n",
      "Dual infeasibility......:   6.1857357719840719e-11    6.1857357719840719e-11\n",
      "Constraint violation....:   4.9825699122152400e-12    4.9825699122152400e-12\n",
      "Complementarity.........:   9.0913192699891518e-10    9.0913192699891518e-10\n",
      "Overall NLP error.......:   9.0913192699891518e-10    9.0913192699891518e-10\n",
      "\n",
      "\n",
      "Number of objective function evaluations             = 31\n",
      "Number of objective gradient evaluations             = 28\n",
      "Number of equality constraint evaluations            = 31\n",
      "Number of inequality constraint evaluations          = 0\n",
      "Number of equality constraint Jacobian evaluations   = 28\n",
      "Number of inequality constraint Jacobian evaluations = 0\n",
      "Number of Lagrangian Hessian evaluations             = 27\n",
      "Total CPU secs in IPOPT (w/o function evaluations)   =      0.301\n",
      "Total CPU secs in NLP function evaluations           =      0.015\n",
      "\n",
      "EXIT: Optimal Solution Found.\n"
     ]
    }
   ],
   "source": [
    "# Next tried finite difference and that works\n",
    "ABC_model_fn = lambda data: ABC_model(data, 'finite-difference')\n",
    "pest = parmest.Estimator(ABC_model_fn, data, theta_names, tee = True)\n",
    "obj, theta = pest.theta_est()"
   ]
  },
  {
   "cell_type": "code",
   "execution_count": 12,
   "metadata": {},
   "outputs": [
    {
     "data": {
      "text/plain": [
       "{'k1': 2.0472730472693033, 'k2': 0.9921330270279651}"
      ]
     },
     "execution_count": 12,
     "metadata": {},
     "output_type": "execute_result"
    }
   ],
   "source": [
    "# Estimated parameters\n",
    "theta"
   ]
  },
  {
   "cell_type": "code",
   "execution_count": 8,
   "metadata": {},
   "outputs": [
    {
     "name": "stdout",
     "output_type": "stream",
     "text": [
      "Ipopt 3.11.1: \n",
      "\n",
      "******************************************************************************\n",
      "This program contains Ipopt, a library for large-scale nonlinear optimization.\n",
      " Ipopt is released as open source code under the Eclipse Public License (EPL).\n",
      "         For more information visit http://projects.coin-or.org/Ipopt\n",
      "******************************************************************************\n",
      "\n",
      "NOTE: You are using Ipopt by default with the MUMPS linear solver.\n",
      "      Other linear solvers might be more efficient (see Ipopt documentation).\n",
      "\n",
      "\n",
      "This is Ipopt version 3.11.1, running with linear solver mumps.\n",
      "\n",
      "Number of nonzeros in equality constraint Jacobian...:      763\n",
      "Number of nonzeros in inequality constraint Jacobian.:        0\n",
      "Number of nonzeros in Lagrangian Hessian.............:       60\n",
      "\n",
      "Total number of variables............................:      243\n",
      "                     variables with only lower bounds:        0\n",
      "                variables with lower and upper bounds:      123\n",
      "                     variables with only upper bounds:        0\n",
      "Total number of equality constraints.................:      243\n",
      "Total number of inequality constraints...............:        0\n",
      "        inequality constraints with only lower bounds:        0\n",
      "   inequality constraints with lower and upper bounds:        0\n",
      "        inequality constraints with only upper bounds:        0\n",
      "\n",
      "iter    objective    inf_pr   inf_du lg(mu)  ||d||  lg(rg) alpha_du alpha_pr  ls\n",
      "   0  2.8934592e+01 1.99e+00 2.04e+00  -1.0 0.00e+00    -  0.00e+00 0.00e+00   0\n",
      "   1  2.8908321e-02 1.99e-02 8.82e+01  -1.0 1.69e+00    -  1.10e-02 9.90e-01f  1\n",
      "   2  2.6120738e-02 1.97e-04 9.80e+00  -1.0 1.69e-02    -  1.00e+00 9.90e-01h  1\n",
      "   3  2.6121489e-02 3.22e-14 1.63e-05  -1.0 1.68e-04    -  1.00e+00 1.00e+00h  1\n",
      "\n",
      "Number of Iterations....: 3\n",
      "\n",
      "                                   (scaled)                 (unscaled)\n",
      "Objective...............:   2.6121489430743099e-02    2.6121489430743099e-02\n",
      "Dual infeasibility......:   6.9388939039072284e-17    6.9388939039072284e-17\n",
      "Constraint violation....:   3.2196467714129540e-14    3.2196467714129540e-14\n",
      "Complementarity.........:   0.0000000000000000e+00    0.0000000000000000e+00\n",
      "Overall NLP error.......:   3.2196467714129540e-14    3.2196467714129540e-14\n",
      "\n",
      "\n",
      "Number of objective function evaluations             = 4\n",
      "Number of objective gradient evaluations             = 4\n",
      "Number of equality constraint evaluations            = 4\n",
      "Number of inequality constraint evaluations          = 0\n",
      "Number of equality constraint Jacobian evaluations   = 4\n",
      "Number of inequality constraint Jacobian evaluations = 0\n",
      "Number of Lagrangian Hessian evaluations             = 3\n",
      "Total CPU secs in IPOPT (w/o function evaluations)   =      0.005\n",
      "Total CPU secs in NLP function evaluations           =      0.000\n",
      "\n",
      "EXIT: Optimal Solution Found.\n"
     ]
    },
    {
     "data": {
      "text/plain": [
       "{'Problem': [{'Lower bound': -inf, 'Upper bound': inf, 'Number of objectives': 1, 'Number of constraints': 243, 'Number of variables': 243, 'Sense': 'unknown'}], 'Solver': [{'Status': 'ok', 'Message': 'Ipopt 3.11.1\\\\x3a Optimal Solution Found', 'Termination condition': 'optimal', 'Id': 0, 'Error rc': 0, 'Time': 0.04813814163208008}], 'Solution': [OrderedDict([('number of solutions', 0), ('number of solutions displayed', 0)])]}"
      ]
     },
     "execution_count": 8,
     "metadata": {},
     "output_type": "execute_result"
    }
   ],
   "source": [
    "# Get ca, cb, cc profiles with estimated parameters\n",
    "ms = ABC_model(data[0], 'colloc')\n",
    "ms.k1.fix(theta['k1'])\n",
    "ms.k2.fix(theta['k2'])\n",
    "solver = SolverFactory('ipopt')\n",
    "solver.solve(ms, tee = True)"
   ]
  },
  {
   "cell_type": "code",
   "execution_count": 9,
   "metadata": {},
   "outputs": [
    {
     "data": {
      "text/plain": [
       "<matplotlib.collections.PathCollection at 0x1a25516c88>"
      ]
     },
     "execution_count": 9,
     "metadata": {},
     "output_type": "execute_result"
    },
    {
     "data": {
      "image/png": "[encoded data removed]",
      "text/plain": [
       "<Figure size 432x288 with 1 Axes>"
      ]
     },
     "metadata": {
      "needs_background": "light"
     },
     "output_type": "display_data"
    }
   ],
   "source": [
    "fig, ax = plt.subplots()\n",
    "ax.plot(list(ms.time), [ms.ca[t]() for t in ms.time])\n",
    "ax.plot(list(ms.time), [ms.cb[t]() for t in ms.time])\n",
    "ax.plot(list(ms.time), [ms.cc[t]() for t in ms.time])\n",
    "ax.scatter(data[0]['ca_meas'].keys(), data[0]['ca_meas'].values())\n",
    "ax.scatter(data[0]['cb_meas'].keys(), data[0]['cb_meas'].values())\n",
    "ax.scatter(data[0]['cc_meas'].keys(), data[0]['cc_meas'].values())"
   ]
  },
  {
   "cell_type": "code",
   "execution_count": null,
   "metadata": {},
   "outputs": [],
   "source": []
  }
 ],
 "metadata": {
  "kernelspec": {
   "display_name": "Python 3",
   "language": "python",
   "name": "python3"
  },
  "language_info": {
   "codemirror_mode": {
    "name": "ipython",
    "version": 3
   },
   "file_extension": ".py",
   "mimetype": "text/x-python",
   "name": "python",
   "nbconvert_exporter": "python",
   "pygments_lexer": "ipython3",
   "version": "3.8.5"
  }
 },
 "nbformat": 4,
 "nbformat_minor": 2
}
