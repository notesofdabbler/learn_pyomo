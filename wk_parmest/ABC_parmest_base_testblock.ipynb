{
 "cells": [
  {
   "cell_type": "markdown",
   "metadata": {},
   "source": [
    "This is an attempt to recreate the parameter estimation [example](https://sites.engineering.ucsb.edu/~jbraw/chemreacfun/fig-html/appendix/fig-A-10.html) from James Rawlings book on [Reactor Design](https://sites.engineering.ucsb.edu/~jbraw/chemreacfun/) using Pyomo."
   ]
  },
  {
   "cell_type": "code",
   "execution_count": null,
   "metadata": {},
   "outputs": [],
   "source": [
    "# Import libraries\n",
    "import numpy as np\n",
    "import matplotlib.pyplot as plt\n",
    "import pandas as pd\n",
    "import pyomo.environ as pyo\n",
    "import pyomo.dae as dae"
   ]
  },
  {
   "cell_type": "markdown",
   "metadata": {},
   "source": [
    "This example has a series reaction $A \\rightarrow B \\rightarrow C$. The dataset consists of measures concentrations of A, B and C over time. The goal is to estimate the rate constants $k_1$ and $k_2$ for the two reactions."
   ]
  },
  {
   "cell_type": "code",
   "execution_count": null,
   "metadata": {},
   "outputs": [],
   "source": [
    "data_df = pd.read_csv(\"ABC_data.csv\")\n",
    "data_df.head()"
   ]
  },
  {
   "cell_type": "code",
   "execution_count": null,
   "metadata": {},
   "outputs": [],
   "source": [
    "# Convert data to a list of dictionaries\n",
    "data = [{'ca_meas': {k:v for (k, v) in zip(data_df.t, data_df.ca)},\n",
    "    'cb_meas': {k:v for (k, v) in zip(data_df.t, data_df.cb)},\n",
    "    'cc_meas': {k:v for (k, v) in zip(data_df.t, data_df.cc)} }]"
   ]
  },
  {
   "cell_type": "code",
   "execution_count": 68,
   "metadata": {},
   "outputs": [],
   "source": [
    "#\n",
    "# Define the model \n",
    "#\n",
    "\n",
    "m = pyo.ConcreteModel()\n",
    "\n",
    "rxns = [0, 1]\n",
    "m.k = pyo.Var(rxns, initialize = 0.5, bounds = (1e-4, 10))\n",
    "    \n",
    "k = [0]\n",
    "\n",
    "def genblock(b, k):\n",
    "    b.dummy = pyo.Param(initialize = 1)\n",
    "m.b = pyo.Block(k, rule = genblock)"
   ]
  },
  {
   "cell_type": "code",
   "execution_count": 60,
   "metadata": {},
   "outputs": [],
   "source": [
    "def ABC_model(b, data, disctype, sim):\n",
    "    \n",
    "    ca_meas = data['ca_meas']\n",
    "    cb_meas = data['cb_meas']\n",
    "    cc_meas = data['cc_meas']\n",
    "    \n",
    "    species = ['a', 'b', 'c']\n",
    "    id_species = {'a': 0, 'b': 1, 'c': 2}\n",
    "    \n",
    "    S = np.array([[-1.0, 1.0, 0.0],\n",
    "                  [0.0, -1.0, 1.0]\n",
    "                 ])\n",
    "    \n",
    "    meas_t = list(ca_meas.keys())\n",
    "           \n",
    "    c0 = {'a': 1.0, 'b': 0.0, 'c': 0.0}\n",
    "    \n",
    "    def _c_init_rule(b, t, j):\n",
    "        return c0[j]\n",
    "    \n",
    "    b.errsq = pyo.Var(within = pyo.NonNegativeReals)\n",
    "    b.time = dae.ContinuousSet(bounds = (0.0, 5.0), initialize = meas_t)\n",
    "    b.c = pyo.Var(b.time, species, initialize = _c_init_rule, bounds = (0, 1))\n",
    "    \n",
    "    b.dc = dae.DerivativeVar(b.c, wrt = b.time)\n",
    "    \n",
    "    def _dcrate(b, t, j):\n",
    "        \n",
    "        nrxn = S.shape[0]\n",
    "        nspec = S.shape[1]\n",
    "        rrate = {}\n",
    "        for i in range(nrxn):\n",
    "            rrate[i] = m.k[i]\n",
    "            for j2 in range(nspec):\n",
    "                if S[i, j2] < 0:\n",
    "                    rrate[i] = rrate[i] * b.c[t, species[j2]]\n",
    "        \n",
    "        if t == 0:\n",
    "            return pyo.Constraint.Skip\n",
    "        else:\n",
    "            return b.dc[t, j] == sum(S[i, id_species[j]] * rrate[i] for i in rxns)\n",
    "\n",
    "    def _dcrate_sim(b, t, j):\n",
    "        nrxn = S.shape[0]\n",
    "        nspec = S.shape[1]\n",
    "        rrate = {}\n",
    "        for i in range(nrxn):\n",
    "            rrate[i] = m.k[i]\n",
    "            for j2 in range(nspec):\n",
    "                if S[i, j2] < 0:\n",
    "                    rrate[i] = rrate[i] * b.c[t, species[j2]]\n",
    "        return b.dc[t, j] == sum(S[i, id_species[j]] * rrate[i] for i in rxns)\n",
    "    \n",
    "    if sim == 0:\n",
    "        b.dcrate = pyo.Constraint(b.time, species, rule = _dcrate)\n",
    "    else:\n",
    "        b.dcrate = pyo.Constraint(b.time, species, rule = _dcrate_sim)\n",
    "    \n",
    "    for j in species:\n",
    "        b.c[0, j].fix(c0[j])\n",
    "    \n",
    "    def _errsq_rule(b):\n",
    "        return b.errsq == sum((b.c[t, 'a'] - ca_meas[t]) ** 2 + (b.c[t, 'b'] - cb_meas[t]) ** 2 \n",
    "                   + (b.c[t, 'c'] - cc_meas[t]) ** 2 for t in meas_t) \n",
    "    b.errsq_cons = pyo.Constraint(rule=_errsq_rule)\n",
    "    \n",
    "    if disctype == 'colloc':\n",
    "        disc = pyo.TransformationFactory('dae.collocation')\n",
    "        disc.apply_to(b, nfe=20, ncp=2)\n",
    "    else:\n",
    "        disc = pyo.TransformationFactory('dae.finite_difference')\n",
    "        disc.apply_to(b, nfe=500, scheme = 'BACKWARD')\n",
    "    \n",
    "    return m"
   ]
  },
  {
   "cell_type": "code",
   "execution_count": 41,
   "metadata": {},
   "outputs": [],
   "source": [
    "m = ABC_model(m, data[0], 'colloc', 0)"
   ]
  },
  {
   "cell_type": "code",
   "execution_count": null,
   "metadata": {},
   "outputs": [],
   "source": [
    "sim = dae.Simulator(m, package='scipy') "
   ]
  },
  {
   "cell_type": "code",
   "execution_count": null,
   "metadata": {},
   "outputs": [],
   "source": [
    "tsim, profiles = sim.simulate(numpoints=100, integrator='vode') "
   ]
  },
  {
   "cell_type": "code",
   "execution_count": null,
   "metadata": {},
   "outputs": [],
   "source": [
    "fig, ax = plt.subplots()\n",
    "ax.plot(tsim, profiles[:,0])\n",
    "ax.plot(tsim, profiles[:,1])\n",
    "ax.plot(tsim, profiles[:,2])"
   ]
  },
  {
   "cell_type": "code",
   "execution_count": 61,
   "metadata": {},
   "outputs": [],
   "source": [
    "m = ABC_model(m.b[0], data[0], 'colloc', 0)"
   ]
  },
  {
   "cell_type": "code",
   "execution_count": 62,
   "metadata": {},
   "outputs": [
    {
     "name": "stdout",
     "output_type": "stream",
     "text": [
      "Ipopt 3.12: \n",
      "\n",
      "******************************************************************************\n",
      "This program contains Ipopt, a library for large-scale nonlinear optimization.\n",
      " Ipopt is released as open source code under the Eclipse Public License (EPL).\n",
      "         For more information visit http://projects.coin-or.org/Ipopt\n",
      "******************************************************************************\n",
      "\n",
      "This is Ipopt version 3.12, running with linear solver ma27.\n",
      "\n",
      "Number of nonzeros in equality constraint Jacobian...:      972\n",
      "Number of nonzeros in inequality constraint Jacobian.:        0\n",
      "Number of nonzeros in Lagrangian Hessian.............:      137\n",
      "\n",
      "Total number of variables............................:      243\n",
      "                     variables with only lower bounds:        1\n",
      "                variables with lower and upper bounds:      122\n",
      "                     variables with only upper bounds:        0\n",
      "Total number of equality constraints.................:      241\n",
      "Total number of inequality constraints...............:        0\n",
      "        inequality constraints with only lower bounds:        0\n",
      "   inequality constraints with lower and upper bounds:        0\n",
      "        inequality constraints with only upper bounds:        0\n",
      "\n",
      "iter    objective    inf_pr   inf_du lg(mu)  ||d||  lg(rg) alpha_du alpha_pr  ls\n",
      "   0  9.9999900e-03 2.89e+01 0.00e+00  -1.0 0.00e+00    -  0.00e+00 0.00e+00   0\n",
      "   1  5.4504604e-01 7.65e+00 1.30e+02  -1.0 2.57e+00    -  1.72e-02 1.00e+00f  1\n",
      "   2  8.0252176e+00 1.39e-01 3.45e+01  -1.0 7.48e+00    -  7.10e-02 1.00e+00h  1\n",
      "   3  5.9472885e+00 1.94e-01 4.48e+00  -1.0 2.08e+00    -  9.68e-01 1.00e+00h  1\n",
      "   4  2.1426542e+00 8.22e-01 2.25e+00  -1.0 3.80e+00    -  1.00e+00 1.00e+00f  1\n",
      "   5  2.8356518e+00 4.61e-01 2.34e+00  -1.0 6.93e-01    -  1.00e+00 1.00e+00h  1\n",
      "   6  2.8590766e+00 3.46e-02 3.51e-01  -1.0 3.27e-01    -  1.00e+00 1.00e+00h  1\n",
      "   7  1.5433403e+00 1.87e-01 1.51e+01  -1.7 1.32e+00    -  7.93e-01 1.00e+00f  1\n",
      "   8  9.5027067e-01 9.80e-02 3.06e-01  -1.7 5.93e-01    -  1.00e+00 1.00e+00h  1\n",
      "   9  8.4026353e-01 1.09e-02 1.07e-02  -1.7 1.10e-01    -  1.00e+00 1.00e+00h  1\n",
      "iter    objective    inf_pr   inf_du lg(mu)  ||d||  lg(rg) alpha_du alpha_pr  ls\n",
      "  10  2.7323345e-01 1.13e-01 6.61e-02  -3.8 7.95e-01    -  7.20e-01 7.13e-01f  1\n",
      "  11  1.8483872e-02 1.02e-01 5.01e+00  -3.8 2.76e-01    -  8.66e-01 1.00e+00h  1\n",
      "  12  3.4141168e-03 6.28e-02 1.48e+01  -3.8 3.39e-01    -  1.00e+00 5.05e-01h  1\n",
      "  13  5.0356703e-07 3.94e-02 1.27e+01  -3.8 3.22e-01    -  7.14e-01 4.94e-01h  1\n",
      "  14  7.7718213e-04 2.68e-02 7.23e+01  -3.8 3.18e-01    -  6.11e-02 5.50e-01h  1\n",
      "  15  2.2228244e-02 8.71e-03 4.18e+02  -3.8 2.22e-01    -  6.29e-02 1.00e+00h  1\n",
      "  16  2.5660387e-02 1.48e-03 3.88e+00  -3.8 7.33e-02    -  9.07e-01 1.00e+00h  1\n",
      "  17  2.4496318e-02 1.90e-03 1.40e-01  -3.8 1.02e-01    -  1.00e+00 1.00e+00h  1\n",
      "  18  2.6439050e-02 1.28e-05 9.61e-04  -3.8 3.98e-03    -  1.00e+00 1.00e+00h  1\n",
      "  19  2.5811388e-02 3.19e-04 3.11e-02  -5.7 3.61e-02    -  9.94e-01 1.00e+00h  1\n",
      "iter    objective    inf_pr   inf_du lg(mu)  ||d||  lg(rg) alpha_du alpha_pr  ls\n",
      "  20  2.6121392e-02 2.41e-07 1.83e-04  -5.7 1.30e-03    -  1.00e+00 1.00e+00h  1\n",
      "  21  2.6121542e-02 1.78e-10 5.06e-08  -5.7 3.00e-05    -  1.00e+00 1.00e+00h  1\n",
      "  22  2.6121437e-02 5.40e-08 6.17e-06  -8.6 4.87e-04    -  1.00e+00 1.00e+00h  1\n",
      "  23  2.6121489e-02 7.22e-15 6.38e-12  -8.6 2.24e-07    -  1.00e+00 1.00e+00h  1\n",
      "\n",
      "Number of Iterations....: 23\n",
      "\n",
      "                                   (scaled)                 (unscaled)\n",
      "Objective...............:   2.6121489430739157e-02    2.6121489430739157e-02\n",
      "Dual infeasibility......:   6.3794010396741589e-12    6.3794010396741589e-12\n",
      "Constraint violation....:   7.2164496600635175e-15    7.2164496600635175e-15\n",
      "Complementarity.........:   2.5059036667526748e-09    2.5059036667526748e-09\n",
      "Overall NLP error.......:   2.5059036667526748e-09    2.5059036667526748e-09\n",
      "\n",
      "\n",
      "Number of objective function evaluations             = 24\n",
      "Number of objective gradient evaluations             = 24\n",
      "Number of equality constraint evaluations            = 24\n",
      "Number of inequality constraint evaluations          = 0\n",
      "Number of equality constraint Jacobian evaluations   = 24\n",
      "Number of inequality constraint Jacobian evaluations = 0\n",
      "Number of Lagrangian Hessian evaluations             = 23\n",
      "Total CPU secs in IPOPT (w/o function evaluations)   =      0.008\n",
      "Total CPU secs in NLP function evaluations           =      0.004\n",
      "\n",
      "EXIT: Optimal Solution Found.\n"
     ]
    },
    {
     "data": {
      "text/plain": [
       "{'Problem': [{'Lower bound': -inf, 'Upper bound': inf, 'Number of objectives': 1, 'Number of constraints': 241, 'Number of variables': 243, 'Sense': 'unknown'}], 'Solver': [{'Status': 'ok', 'Message': 'Ipopt 3.12\\\\x3a Optimal Solution Found', 'Termination condition': 'optimal', 'Id': 0, 'Error rc': 0, 'Time': 0.05088973045349121}], 'Solution': [OrderedDict([('number of solutions', 0), ('number of solutions displayed', 0)])]}"
      ]
     },
     "execution_count": 62,
     "metadata": {},
     "output_type": "execute_result"
    }
   ],
   "source": [
    "m.obj = pyo.Objective(expr = m.b[0].errsq, sense = pyo.minimize)\n",
    "solver = pyo.SolverFactory('ipopt')\n",
    "solver.solve(m, tee = True)"
   ]
  },
  {
   "cell_type": "code",
   "execution_count": 65,
   "metadata": {},
   "outputs": [
    {
     "data": {
      "text/plain": [
       "(2.014379387598257, 0.9944521090927745)"
      ]
     },
     "execution_count": 65,
     "metadata": {},
     "output_type": "execute_result"
    }
   ],
   "source": [
    "# Estimated parameters\n",
    "m.k[0](), m.k[1](0)"
   ]
  },
  {
   "cell_type": "code",
   "execution_count": null,
   "metadata": {},
   "outputs": [],
   "source": [
    "# Get ca, cb, cc profiles with estimated parameters\n",
    "ms = ABC_model(data[0], 'colloc')\n",
    "ms.k1.fix(m.k1())\n",
    "ms.k2.fix(m.k2())\n",
    "solver = pyo.SolverFactory('ipopt')\n",
    "solver.solve(ms, tee = True)"
   ]
  },
  {
   "cell_type": "code",
   "execution_count": null,
   "metadata": {},
   "outputs": [],
   "source": [
    "fig, ax = plt.subplots()\n",
    "ax.plot(list(ms.time), [ms.ca[t]() for t in ms.time])\n",
    "ax.plot(list(ms.time), [ms.cb[t]() for t in ms.time])\n",
    "ax.plot(list(ms.time), [ms.cc[t]() for t in ms.time])\n",
    "ax.scatter(data[0]['ca_meas'].keys(), data[0]['ca_meas'].values())\n",
    "ax.scatter(data[0]['cb_meas'].keys(), data[0]['cb_meas'].values())\n",
    "ax.scatter(data[0]['cc_meas'].keys(), data[0]['cc_meas'].values())"
   ]
  },
  {
   "cell_type": "code",
   "execution_count": null,
   "metadata": {},
   "outputs": [],
   "source": [
    "nlp = PyomoNLP(m)\n",
    "parm_vars = [m.k1, m.k2]\n",
    "Hred = hess.getHred(nlp, parm_vars)"
   ]
  },
  {
   "cell_type": "code",
   "execution_count": null,
   "metadata": {},
   "outputs": [],
   "source": [
    "n = len(data[0]['ca_meas']) + len(data[0]['cb_meas']) + len(data[0]['cc_meas'])\n",
    "p = 2\n",
    "s2 = m.obj() / (n - p)\n",
    "print('n:', n, ' p:', p, ' s2:', s2)"
   ]
  },
  {
   "cell_type": "code",
   "execution_count": null,
   "metadata": {},
   "outputs": [],
   "source": [
    "cov = 2 * s2 * np.linalg.inv(Hred)\n",
    "print('Covariance Matrix')\n",
    "print(cov)"
   ]
  },
  {
   "cell_type": "code",
   "execution_count": null,
   "metadata": {},
   "outputs": [],
   "source": [
    "parm_sd = np.sqrt(np.diag(cov))\n",
    "conf_mult = np.sqrt(p * spstat.f.ppf(0.95, p, n - p))\n",
    "print(\"conf multiplier:\", conf_mult)\n",
    "conf_int = conf_mult * parm_sd\n",
    "print(\"confidence interval delta from nominal\")\n",
    "print(conf_int)"
   ]
  },
  {
   "cell_type": "code",
   "execution_count": null,
   "metadata": {},
   "outputs": [],
   "source": []
  }
 ],
 "metadata": {
  "kernelspec": {
   "display_name": "Python 3",
   "language": "python",
   "name": "python3"
  },
  "language_info": {
   "codemirror_mode": {
    "name": "ipython",
    "version": 3
   },
   "file_extension": ".py",
   "mimetype": "text/x-python",
   "name": "python",
   "nbconvert_exporter": "python",
   "pygments_lexer": "ipython3",
   "version": "3.7.3"
  }
 },
 "nbformat": 4,
 "nbformat_minor": 2
}
