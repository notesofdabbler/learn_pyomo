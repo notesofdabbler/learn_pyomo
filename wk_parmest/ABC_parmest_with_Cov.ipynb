{
 "cells": [
  {
   "cell_type": "markdown",
   "metadata": {},
   "source": [
    "This is an attempt to recreate the parameter estimation [example](https://sites.engineering.ucsb.edu/~jbraw/chemreacfun/fig-html/appendix/fig-A-10.html) from James Rawlings book on [Reactor Design](https://sites.engineering.ucsb.edu/~jbraw/chemreacfun/) using Pyomo [parmest](https://pyomo.readthedocs.io/en/stable/contributed_packages/parmest/driver.html)."
   ]
  },
  {
   "cell_type": "code",
   "execution_count": 21,
   "metadata": {},
   "outputs": [],
   "source": [
    "# Import libraries\n",
    "from pyomo.environ import *\n",
    "from pyomo.dae import *\n",
    "import pyomo.contrib.parmest.parmest as parmest\n",
    "import pandas as pd\n",
    "import numpy as np\n",
    "import matplotlib.pyplot as plt"
   ]
  },
  {
   "cell_type": "markdown",
   "metadata": {},
   "source": [
    "This example has a series reaction $A \\rightarrow B \\rightarrow C$. The dataset consists of measures concentrations of A, B and C over time. The goal is to estimate the rate constants $k_1$ and $k_2$ for the two reactions."
   ]
  },
  {
   "cell_type": "code",
   "execution_count": 22,
   "metadata": {},
   "outputs": [
    {
     "data": {
      "text/html": [
       "<div>\n",
       "<style scoped>\n",
       "    .dataframe tbody tr th:only-of-type {\n",
       "        vertical-align: middle;\n",
       "    }\n",
       "\n",
       "    .dataframe tbody tr th {\n",
       "        vertical-align: top;\n",
       "    }\n",
       "\n",
       "    .dataframe thead th {\n",
       "        text-align: right;\n",
       "    }\n",
       "</style>\n",
       "<table border=\"1\" class=\"dataframe\">\n",
       "  <thead>\n",
       "    <tr style=\"text-align: right;\">\n",
       "      <th></th>\n",
       "      <th>t</th>\n",
       "      <th>ca</th>\n",
       "      <th>cb</th>\n",
       "      <th>cc</th>\n",
       "    </tr>\n",
       "  </thead>\n",
       "  <tbody>\n",
       "    <tr>\n",
       "      <th>0</th>\n",
       "      <td>0.000</td>\n",
       "      <td>0.957</td>\n",
       "      <td>-0.031</td>\n",
       "      <td>-0.015</td>\n",
       "    </tr>\n",
       "    <tr>\n",
       "      <th>1</th>\n",
       "      <td>0.263</td>\n",
       "      <td>0.557</td>\n",
       "      <td>0.330</td>\n",
       "      <td>0.044</td>\n",
       "    </tr>\n",
       "    <tr>\n",
       "      <th>2</th>\n",
       "      <td>0.526</td>\n",
       "      <td>0.342</td>\n",
       "      <td>0.512</td>\n",
       "      <td>0.156</td>\n",
       "    </tr>\n",
       "    <tr>\n",
       "      <th>3</th>\n",
       "      <td>0.789</td>\n",
       "      <td>0.224</td>\n",
       "      <td>0.499</td>\n",
       "      <td>0.310</td>\n",
       "    </tr>\n",
       "    <tr>\n",
       "      <th>4</th>\n",
       "      <td>1.053</td>\n",
       "      <td>0.123</td>\n",
       "      <td>0.428</td>\n",
       "      <td>0.454</td>\n",
       "    </tr>\n",
       "  </tbody>\n",
       "</table>\n",
       "</div>"
      ],
      "text/plain": [
       "       t     ca     cb     cc\n",
       "0  0.000  0.957 -0.031 -0.015\n",
       "1  0.263  0.557  0.330  0.044\n",
       "2  0.526  0.342  0.512  0.156\n",
       "3  0.789  0.224  0.499  0.310\n",
       "4  1.053  0.123  0.428  0.454"
      ]
     },
     "execution_count": 22,
     "metadata": {},
     "output_type": "execute_result"
    }
   ],
   "source": [
    "data_df = pd.read_csv(\"ABC_data.csv\")\n",
    "data_df.head()"
   ]
  },
  {
   "cell_type": "code",
   "execution_count": 23,
   "metadata": {},
   "outputs": [],
   "source": [
    "# Convert data to a list of dictionaries\n",
    "data = [{'ca_meas': {k:v for (k, v) in zip(data_df.t, data_df.ca)},\n",
    "    'cb_meas': {k:v for (k, v) in zip(data_df.t, data_df.cb)},\n",
    "    'cc_meas': {k:v for (k, v) in zip(data_df.t, data_df.cc)} }]"
   ]
  },
  {
   "cell_type": "code",
   "execution_count": 27,
   "metadata": {},
   "outputs": [],
   "source": [
    "#\n",
    "# Define the model \n",
    "#\n",
    "def ABC_model(data):\n",
    "    \n",
    "    ca_meas = data['ca_meas']\n",
    "    cb_meas = data['cb_meas']\n",
    "    cc_meas = data['cc_meas']\n",
    "    \n",
    "    meas_t = list(ca_meas.keys())\n",
    "       \n",
    "    ca0 = 1.0\n",
    "    cb0 = 0.0\n",
    "    cc0 = 0.0\n",
    "        \n",
    "    m = ConcreteModel()\n",
    "    \n",
    "    m.k1 = Var(initialize = 0.5, bounds = (1e-4, 10))\n",
    "    m.k2 = Var(initialize = 3.0, bounds = (1e-4, 10))\n",
    "    \n",
    "    m.time = ContinuousSet(bounds = (0.0, 5.0), initialize = meas_t)\n",
    "    m.ca = Var(m.time, initialize = ca0, bounds = (0, ca0))\n",
    "    m.cb = Var(m.time, initialize = cb0, bounds = (0, ca0))\n",
    "    m.cc = Var(m.time, initialize = cc0, bounds = (0, ca0))\n",
    "    \n",
    "    m.dca = DerivativeVar(m.ca, wrt = m.time)\n",
    "    m.dcb = DerivativeVar(m.cb, wrt = m.time)\n",
    "    m.dcc = DerivativeVar(m.cc, wrt = m.time)\n",
    "    \n",
    "    def _dcarate(m, t):\n",
    "        if t == 0:\n",
    "            return Constraint.Skip\n",
    "        else:\n",
    "            return m.dca[t] == -m.k1 * m.ca[t]\n",
    "    m.dcarate = Constraint(m.time, rule = _dcarate)\n",
    "    \n",
    "    def _dcbrate(m, t):\n",
    "        if t == 0:\n",
    "            return Constraint.Skip\n",
    "        else:\n",
    "            return m.dcb[t] == m.k1 * m.ca[t] - m.k2 * m.cb[t]\n",
    "    m.dcbrate = Constraint(m.time, rule = _dcbrate)\n",
    "    \n",
    "    def _dccrate(m, t):\n",
    "        if t == 0:\n",
    "            return Constraint.Skip\n",
    "        else:\n",
    "            return m.dcc[t] == m.k2 * m.cb[t]\n",
    "    m.dccrate = Constraint(m.time, rule = _dccrate)\n",
    "    \n",
    "    def _initcon(m):\n",
    "        yield m.ca[m.time.first()] == ca0\n",
    "        yield m.cb[m.time.first()] == cb0\n",
    "        yield m.cc[m.time.first()] == cc0\n",
    "    m.initcon = ConstraintList(rule = _initcon)\n",
    "    \n",
    "    def ComputeFirstStageCost_rule(m):\n",
    "        return 0\n",
    "    m.FirstStageCost = Expression(rule=ComputeFirstStageCost_rule)\n",
    "\n",
    "    def ComputeSecondStageCost_rule(m):\n",
    "        return sum((m.ca[t] - ca_meas[t]) ** 2 + (m.cb[t] - cb_meas[t]) ** 2 \n",
    "                   + (m.cc[t] - cc_meas[t]) ** 2 for t in meas_t) \n",
    "    m.SecondStageCost = Expression(rule=ComputeSecondStageCost_rule)\n",
    "\n",
    "    \n",
    "    def total_cost_rule(model):\n",
    "        return model.FirstStageCost + model.SecondStageCost\n",
    "    m.Total_Cost_Objective = Objective(rule=total_cost_rule, sense=minimize)\n",
    "    \n",
    "    disc = TransformationFactory('dae.collocation')\n",
    "    disc.apply_to(m, nfe=20, ncp=2)\n",
    "    \n",
    "    return m"
   ]
  },
  {
   "cell_type": "code",
   "execution_count": 28,
   "metadata": {},
   "outputs": [],
   "source": [
    "# parameters to be estimated\n",
    "theta_names = ['k1', 'k2']"
   ]
  },
  {
   "cell_type": "code",
   "execution_count": 29,
   "metadata": {},
   "outputs": [
    {
     "name": "stdout",
     "output_type": "stream",
     "text": [
      "Ipopt 3.12: bound_relax_factor=0\n",
      "honor_original_bounds=no\n",
      "\n",
      "\n",
      "******************************************************************************\n",
      "This program contains Ipopt, a library for large-scale nonlinear optimization.\n",
      " Ipopt is released as open source code under the Eclipse Public License (EPL).\n",
      "         For more information visit http://projects.coin-or.org/Ipopt\n",
      "******************************************************************************\n",
      "\n",
      "This is Ipopt version 3.12, running with linear solver ma27.\n",
      "\n",
      "Number of nonzeros in equality constraint Jacobian...:      927\n",
      "Number of nonzeros in inequality constraint Jacobian.:        0\n",
      "Number of nonzeros in Lagrangian Hessian.............:      140\n",
      "\n",
      "Total number of variables............................:      247\n",
      "                     variables with only lower bounds:        0\n",
      "                variables with lower and upper bounds:      125\n",
      "                     variables with only upper bounds:        0\n",
      "Total number of equality constraints.................:      245\n",
      "Total number of inequality constraints...............:        0\n",
      "        inequality constraints with only lower bounds:        0\n",
      "   inequality constraints with lower and upper bounds:        0\n",
      "        inequality constraints with only upper bounds:        0\n",
      "\n",
      "iter    objective    inf_pr   inf_du lg(mu)  ||d||  lg(rg) alpha_du alpha_pr  ls\n",
      "   0  2.8934591e+01 3.00e+00 9.83e-01  -1.0 0.00e+00    -  0.00e+00 0.00e+00   0\n",
      "   1  2.3120922e+01 1.65e-01 8.35e+00  -1.0 2.07e+00    -  1.83e-01 9.45e-01f  1\n",
      "   2  2.0731043e+01 1.14e-01 1.36e+02  -1.0 1.57e+00   0.0 1.78e-01 3.07e-01f  1\n",
      "   3  8.0977169e+00 1.15e-01 3.06e+03  -1.0 7.12e-01    -  3.00e-01 9.90e-01f  1\n",
      "   4  4.0091807e+00 1.45e-01 7.90e+03  -1.0 6.88e-01    -  3.69e-01 6.67e-01f  1\n",
      "   5  3.2166941e+00 1.05e-01 3.14e+04  -1.0 2.44e+00    -  2.91e-02 3.63e-01F  1\n",
      "   6  3.7079797e+00 2.16e-02 9.63e+03  -1.0 2.06e-01    -  9.15e-01 9.90e-01f  1\n",
      "   7  2.9024135e+00 6.92e-03 1.24e+05  -1.0 1.00e-01    -  1.00e+00 9.90e-01h  1\n",
      "   8  2.7934381e+00 5.09e-04 1.24e+07  -1.0 3.12e-02    -  1.00e+00 9.90e-01h  1\n",
      "   9  2.7917511e+00 5.42e-06 1.24e+09  -1.0 1.12e-03    -  1.00e+00 9.90e-01h  1\n",
      "iter    objective    inf_pr   inf_du lg(mu)  ||d||  lg(rg) alpha_du alpha_pr  ls\n",
      "  10  2.7917271e+00 5.42e-08 1.24e+11  -1.0 1.29e-05    -  1.00e+00 9.90e-01h  1\n",
      "In iteration 10, 3 Slacks too small, adjusting variable bounds\n",
      "  11  2.7917269e+00 5.42e-10 1.24e+13  -1.0 1.29e-07    -  1.00e+00 9.90e-01h  1\n",
      "  12  2.7917269e+00 1.75e-15 2.73e-01  -1.0 1.29e-09    -  1.00e+00 1.00e+00h  1\n",
      "  13  1.4786456e+00 1.44e-02 3.82e+12  -9.0 1.41e-01    -  6.98e-01 1.00e+00f  1\n",
      "  14  6.4939673e-01 2.57e-02 1.18e+12  -9.0 2.45e-01    -  6.91e-01 8.82e-01f  1\n",
      "  15  2.0992623e-01 3.13e-02 3.13e+11  -9.0 2.87e-01    -  7.35e-01 1.00e+00h  1\n",
      "  16  1.6353292e-01 2.57e-02 6.55e+10  -9.0 3.37e-01    -  7.91e-01 2.27e-01h  1\n",
      "  17  4.6468918e-02 2.71e-02 1.19e+10  -9.0 3.29e-01    -  8.18e-01 1.00e+00h  1\n",
      "  18  2.8689350e-02 2.76e-02 1.77e+09  -9.0 3.72e-01    -  8.52e-01 1.00e+00h  1\n",
      "  19  6.0485069e-02 2.65e-02 1.66e+09  -9.0 4.05e-01    -  6.07e-02 1.00e+00h  1\n",
      "iter    objective    inf_pr   inf_du lg(mu)  ||d||  lg(rg) alpha_du alpha_pr  ls\n",
      "  20  8.3119351e-02 6.81e-03 1.66e+09  -9.0 2.31e-01    -  3.02e-04 1.00e+00h  1\n",
      "  21  6.1421620e-02 4.04e-03 5.59e+08  -9.0 1.68e-01    -  6.63e-01 1.00e+00h  1\n",
      "  22  3.5794312e-02 1.19e-02 3.56e+08  -9.0 2.85e-01    -  3.63e-01 1.00e+00h  1\n",
      "  23  2.7177160e-02 4.47e-03 2.22e+08  -9.0 1.56e-01    -  3.75e-01 1.00e+00h  1\n",
      "  24  2.6145917e-02 7.18e-04 7.58e+07  -9.0 6.05e-02    -  6.59e-01 1.00e+00h  1\n",
      "  25  2.6121561e-02 2.10e-06 1.11e+06  -9.0 2.89e-03    -  9.85e-01 1.00e+00h  1\n",
      "  26  2.6121489e-02 2.74e-11 1.68e-10  -9.0 1.09e-05    -  1.00e+00 1.00e+00h  1\n",
      "\n",
      "Number of Iterations....: 26\n",
      "\n",
      "                                   (scaled)                 (unscaled)\n",
      "Objective...............:   2.6121489431600180e-02    2.6121489431600180e-02\n",
      "Dual infeasibility......:   1.6775081780823762e-10    1.6775081780823762e-10\n",
      "Constraint violation....:   2.7436830585259031e-11    2.7436830585259031e-11\n",
      "Complementarity.........:   9.0916048243034252e-10    9.0916048243034252e-10\n",
      "Overall NLP error.......:   6.6563425507835214e-11    9.0916048243034252e-10\n",
      "\n",
      "\n",
      "Number of objective function evaluations             = 28\n",
      "Number of objective gradient evaluations             = 27\n",
      "Number of equality constraint evaluations            = 28\n",
      "Number of inequality constraint evaluations          = 0\n",
      "Number of equality constraint Jacobian evaluations   = 27\n",
      "Number of inequality constraint Jacobian evaluations = 0\n",
      "Number of Lagrangian Hessian evaluations             = 26\n",
      "Total CPU secs in IPOPT (w/o function evaluations)   =      0.016\n",
      "Total CPU secs in NLP function evaluations           =      0.000\n",
      "\n",
      "EXIT: Optimal Solution Found.\n"
     ]
    },
    {
     "name": "stderr",
     "output_type": "stream",
     "text": [
      "/home/paperspace/anaconda3/envs/my_pyomoenv/lib/python3.8/site-packages/pyomo/contrib/interior_point/interface.py:410: RuntimeWarning: divide by zero encountered in true_divide\n",
      "  duals_primals_ub/(self._nlp.primals_ub() - primals))\n"
     ]
    },
    {
     "ename": "RuntimeError",
     "evalue": "Factor is exactly singular",
     "output_type": "error",
     "traceback": [
      "\u001b[0;31m---------------------------------------------------------------------------\u001b[0m",
      "\u001b[0;31mRuntimeError\u001b[0m                              Traceback (most recent call last)",
      "\u001b[0;32m<ipython-input-29-e2f8914f31ed>\u001b[0m in \u001b[0;36m<module>\u001b[0;34m\u001b[0m\n\u001b[1;32m      1\u001b[0m \u001b[0;31m# First tried collocation method. Max iterations are exceeded\u001b[0m\u001b[0;34m\u001b[0m\u001b[0;34m\u001b[0m\u001b[0;34m\u001b[0m\u001b[0m\n\u001b[1;32m      2\u001b[0m \u001b[0mpest\u001b[0m \u001b[0;34m=\u001b[0m \u001b[0mparmest\u001b[0m\u001b[0;34m.\u001b[0m\u001b[0mEstimator\u001b[0m\u001b[0;34m(\u001b[0m\u001b[0mABC_model\u001b[0m\u001b[0;34m,\u001b[0m \u001b[0mdata\u001b[0m\u001b[0;34m,\u001b[0m \u001b[0mtheta_names\u001b[0m\u001b[0;34m,\u001b[0m \u001b[0mtee\u001b[0m \u001b[0;34m=\u001b[0m \u001b[0;32mTrue\u001b[0m\u001b[0;34m)\u001b[0m\u001b[0;34m\u001b[0m\u001b[0;34m\u001b[0m\u001b[0m\n\u001b[0;32m----> 3\u001b[0;31m \u001b[0mobj\u001b[0m\u001b[0;34m,\u001b[0m \u001b[0mtheta\u001b[0m\u001b[0;34m,\u001b[0m \u001b[0mcov\u001b[0m \u001b[0;34m=\u001b[0m \u001b[0mpest\u001b[0m\u001b[0;34m.\u001b[0m\u001b[0mtheta_est\u001b[0m\u001b[0;34m(\u001b[0m\u001b[0mcalc_cov\u001b[0m\u001b[0;34m=\u001b[0m\u001b[0;32mTrue\u001b[0m\u001b[0;34m)\u001b[0m\u001b[0;34m\u001b[0m\u001b[0;34m\u001b[0m\u001b[0m\n\u001b[0m",
      "\u001b[0;32m~/anaconda3/envs/my_pyomoenv/lib/python3.8/site-packages/pyomo/contrib/parmest/parmest.py\u001b[0m in \u001b[0;36mtheta_est\u001b[0;34m(self, solver, return_values, bootlist, calc_cov)\u001b[0m\n\u001b[1;32m    796\u001b[0m         \u001b[0;32massert\u001b[0m \u001b[0misinstance\u001b[0m\u001b[0;34m(\u001b[0m\u001b[0mbootlist\u001b[0m\u001b[0;34m,\u001b[0m \u001b[0;34m(\u001b[0m\u001b[0mtype\u001b[0m\u001b[0;34m(\u001b[0m\u001b[0;32mNone\u001b[0m\u001b[0;34m)\u001b[0m\u001b[0;34m,\u001b[0m \u001b[0mlist\u001b[0m\u001b[0;34m)\u001b[0m\u001b[0;34m)\u001b[0m\u001b[0;34m\u001b[0m\u001b[0;34m\u001b[0m\u001b[0m\n\u001b[1;32m    797\u001b[0m \u001b[0;34m\u001b[0m\u001b[0m\n\u001b[0;32m--> 798\u001b[0;31m         return self._Q_opt(solver=solver, return_values=return_values,\n\u001b[0m\u001b[1;32m    799\u001b[0m                            bootlist=bootlist, calc_cov=calc_cov)\n\u001b[1;32m    800\u001b[0m \u001b[0;34m\u001b[0m\u001b[0m\n",
      "\u001b[0;32m~/anaconda3/envs/my_pyomoenv/lib/python3.8/site-packages/pyomo/contrib/parmest/parmest.py\u001b[0m in \u001b[0;36m_Q_opt\u001b[0;34m(self, ThetaVals, solver, return_values, bootlist, calc_cov)\u001b[0m\n\u001b[1;32m    508\u001b[0m \u001b[0;34m\u001b[0m\u001b[0m\n\u001b[1;32m    509\u001b[0m                 \u001b[0;31m# calculate the reduced hessian\u001b[0m\u001b[0;34m\u001b[0m\u001b[0;34m\u001b[0m\u001b[0;34m\u001b[0m\u001b[0m\n\u001b[0;32m--> 510\u001b[0;31m                 solve_result, inv_red_hes = inv_reduced_hessian_barrier(self.ef_instance, \n\u001b[0m\u001b[1;32m    511\u001b[0m                     \u001b[0mindependent_variables\u001b[0m\u001b[0;34m=\u001b[0m \u001b[0mind_vars\u001b[0m\u001b[0;34m,\u001b[0m\u001b[0;34m\u001b[0m\u001b[0;34m\u001b[0m\u001b[0m\n\u001b[1;32m    512\u001b[0m                     \u001b[0msolver_options\u001b[0m\u001b[0;34m=\u001b[0m\u001b[0mself\u001b[0m\u001b[0;34m.\u001b[0m\u001b[0msolver_options\u001b[0m\u001b[0;34m,\u001b[0m\u001b[0;34m\u001b[0m\u001b[0;34m\u001b[0m\u001b[0m\n",
      "\u001b[0;32m~/anaconda3/envs/my_pyomoenv/lib/python3.8/site-packages/pyomo/contrib/interior_point/inverse_reduced_hessian.py\u001b[0m in \u001b[0;36minv_reduced_hessian_barrier\u001b[0;34m(model, independent_variables, bound_tolerance, solver_options, tee)\u001b[0m\n\u001b[1;32m    118\u001b[0m     \u001b[0mlinear_solver\u001b[0m \u001b[0;34m=\u001b[0m \u001b[0mScipyInterface\u001b[0m\u001b[0;34m(\u001b[0m\u001b[0mcompute_inertia\u001b[0m\u001b[0;34m=\u001b[0m\u001b[0;32mFalse\u001b[0m\u001b[0;34m)\u001b[0m\u001b[0;34m\u001b[0m\u001b[0;34m\u001b[0m\u001b[0m\n\u001b[1;32m    119\u001b[0m     \u001b[0mlinear_solver\u001b[0m\u001b[0;34m.\u001b[0m\u001b[0mdo_symbolic_factorization\u001b[0m\u001b[0;34m(\u001b[0m\u001b[0mkkt\u001b[0m\u001b[0;34m)\u001b[0m\u001b[0;34m\u001b[0m\u001b[0;34m\u001b[0m\u001b[0m\n\u001b[0;32m--> 120\u001b[0;31m     \u001b[0mlinear_solver\u001b[0m\u001b[0;34m.\u001b[0m\u001b[0mdo_numeric_factorization\u001b[0m\u001b[0;34m(\u001b[0m\u001b[0mkkt\u001b[0m\u001b[0;34m)\u001b[0m\u001b[0;34m\u001b[0m\u001b[0;34m\u001b[0m\u001b[0m\n\u001b[0m\u001b[1;32m    121\u001b[0m \u001b[0;34m\u001b[0m\u001b[0m\n\u001b[1;32m    122\u001b[0m     \u001b[0mn_rh\u001b[0m \u001b[0;34m=\u001b[0m \u001b[0mlen\u001b[0m\u001b[0;34m(\u001b[0m\u001b[0mind_var_indices\u001b[0m\u001b[0;34m)\u001b[0m\u001b[0;34m\u001b[0m\u001b[0;34m\u001b[0m\u001b[0m\n",
      "\u001b[0;32m~/anaconda3/envs/my_pyomoenv/lib/python3.8/site-packages/pyomo/contrib/interior_point/linalg/scipy_interface.py\u001b[0m in \u001b[0;36mdo_numeric_factorization\u001b[0;34m(self, matrix, raise_on_error)\u001b[0m\n\u001b[1;32m     31\u001b[0m         \u001b[0;32mexcept\u001b[0m \u001b[0mRuntimeError\u001b[0m \u001b[0;32mas\u001b[0m \u001b[0merr\u001b[0m\u001b[0;34m:\u001b[0m\u001b[0;34m\u001b[0m\u001b[0;34m\u001b[0m\u001b[0m\n\u001b[1;32m     32\u001b[0m             \u001b[0;32mif\u001b[0m \u001b[0mraise_on_error\u001b[0m\u001b[0;34m:\u001b[0m\u001b[0;34m\u001b[0m\u001b[0;34m\u001b[0m\u001b[0m\n\u001b[0;32m---> 33\u001b[0;31m                 \u001b[0;32mraise\u001b[0m \u001b[0merr\u001b[0m\u001b[0;34m\u001b[0m\u001b[0;34m\u001b[0m\u001b[0m\n\u001b[0m\u001b[1;32m     34\u001b[0m             \u001b[0;32mif\u001b[0m \u001b[0;34m'Factor is exactly singular'\u001b[0m \u001b[0;32min\u001b[0m \u001b[0mstr\u001b[0m\u001b[0;34m(\u001b[0m\u001b[0merr\u001b[0m\u001b[0;34m)\u001b[0m\u001b[0;34m:\u001b[0m\u001b[0;34m\u001b[0m\u001b[0;34m\u001b[0m\u001b[0m\n\u001b[1;32m     35\u001b[0m                 \u001b[0mres\u001b[0m\u001b[0;34m.\u001b[0m\u001b[0mstatus\u001b[0m \u001b[0;34m=\u001b[0m \u001b[0mLinearSolverStatus\u001b[0m\u001b[0;34m.\u001b[0m\u001b[0msingular\u001b[0m\u001b[0;34m\u001b[0m\u001b[0;34m\u001b[0m\u001b[0m\n",
      "\u001b[0;32m~/anaconda3/envs/my_pyomoenv/lib/python3.8/site-packages/pyomo/contrib/interior_point/linalg/scipy_interface.py\u001b[0m in \u001b[0;36mdo_numeric_factorization\u001b[0;34m(self, matrix, raise_on_error)\u001b[0m\n\u001b[1;32m     27\u001b[0m         \u001b[0mres\u001b[0m \u001b[0;34m=\u001b[0m \u001b[0mLinearSolverResults\u001b[0m\u001b[0;34m(\u001b[0m\u001b[0;34m)\u001b[0m\u001b[0;34m\u001b[0m\u001b[0;34m\u001b[0m\u001b[0m\n\u001b[1;32m     28\u001b[0m         \u001b[0;32mtry\u001b[0m\u001b[0;34m:\u001b[0m\u001b[0;34m\u001b[0m\u001b[0;34m\u001b[0m\u001b[0m\n\u001b[0;32m---> 29\u001b[0;31m             \u001b[0mself\u001b[0m\u001b[0;34m.\u001b[0m\u001b[0m_lu\u001b[0m \u001b[0;34m=\u001b[0m \u001b[0msplu\u001b[0m\u001b[0;34m(\u001b[0m\u001b[0mmatrix\u001b[0m\u001b[0;34m)\u001b[0m\u001b[0;34m\u001b[0m\u001b[0;34m\u001b[0m\u001b[0m\n\u001b[0m\u001b[1;32m     30\u001b[0m             \u001b[0mres\u001b[0m\u001b[0;34m.\u001b[0m\u001b[0mstatus\u001b[0m \u001b[0;34m=\u001b[0m \u001b[0mLinearSolverStatus\u001b[0m\u001b[0;34m.\u001b[0m\u001b[0msuccessful\u001b[0m\u001b[0;34m\u001b[0m\u001b[0;34m\u001b[0m\u001b[0m\n\u001b[1;32m     31\u001b[0m         \u001b[0;32mexcept\u001b[0m \u001b[0mRuntimeError\u001b[0m \u001b[0;32mas\u001b[0m \u001b[0merr\u001b[0m\u001b[0;34m:\u001b[0m\u001b[0;34m\u001b[0m\u001b[0;34m\u001b[0m\u001b[0m\n",
      "\u001b[0;32m~/anaconda3/envs/my_pyomoenv/lib/python3.8/site-packages/scipy/sparse/linalg/dsolve/linsolve.py\u001b[0m in \u001b[0;36msplu\u001b[0;34m(A, permc_spec, diag_pivot_thresh, relax, panel_size, options)\u001b[0m\n\u001b[1;32m    335\u001b[0m         \u001b[0m_options\u001b[0m\u001b[0;34m[\u001b[0m\u001b[0;34m\"SymmetricMode\"\u001b[0m\u001b[0;34m]\u001b[0m \u001b[0;34m=\u001b[0m \u001b[0;32mTrue\u001b[0m\u001b[0;34m\u001b[0m\u001b[0;34m\u001b[0m\u001b[0m\n\u001b[1;32m    336\u001b[0m \u001b[0;34m\u001b[0m\u001b[0m\n\u001b[0;32m--> 337\u001b[0;31m     return _superlu.gstrf(N, A.nnz, A.data, A.indices, A.indptr,\n\u001b[0m\u001b[1;32m    338\u001b[0m                           \u001b[0mcsc_construct_func\u001b[0m\u001b[0;34m=\u001b[0m\u001b[0mcsc_construct_func\u001b[0m\u001b[0;34m,\u001b[0m\u001b[0;34m\u001b[0m\u001b[0;34m\u001b[0m\u001b[0m\n\u001b[1;32m    339\u001b[0m                           ilu=False, options=_options)\n",
      "\u001b[0;31mRuntimeError\u001b[0m: Factor is exactly singular"
     ]
    }
   ],
   "source": [
    "# First tried collocation method. Max iterations are exceeded\n",
    "pest = parmest.Estimator(ABC_model, data, theta_names, tee = True)\n",
    "obj, theta, cov = pest.theta_est(calc_cov=True)"
   ]
  },
  {
   "cell_type": "code",
   "execution_count": 30,
   "metadata": {},
   "outputs": [
    {
     "data": {
      "text/plain": [
       "{'k1': 2.014379387598275, 'k2': 0.9944521090927798}"
      ]
     },
     "execution_count": 30,
     "metadata": {},
     "output_type": "execute_result"
    }
   ],
   "source": [
    "theta"
   ]
  },
  {
   "cell_type": "code",
   "execution_count": 31,
   "metadata": {},
   "outputs": [
    {
     "name": "stdout",
     "output_type": "stream",
     "text": [
      "Ipopt 3.12: \n",
      "\n",
      "******************************************************************************\n",
      "This program contains Ipopt, a library for large-scale nonlinear optimization.\n",
      " Ipopt is released as open source code under the Eclipse Public License (EPL).\n",
      "         For more information visit http://projects.coin-or.org/Ipopt\n",
      "******************************************************************************\n",
      "\n",
      "This is Ipopt version 3.12, running with linear solver ma27.\n",
      "\n",
      "Number of nonzeros in equality constraint Jacobian...:      763\n",
      "Number of nonzeros in inequality constraint Jacobian.:        0\n",
      "Number of nonzeros in Lagrangian Hessian.............:       60\n",
      "\n",
      "Total number of variables............................:      243\n",
      "                     variables with only lower bounds:        0\n",
      "                variables with lower and upper bounds:      123\n",
      "                     variables with only upper bounds:        0\n",
      "Total number of equality constraints.................:      243\n",
      "Total number of inequality constraints...............:        0\n",
      "        inequality constraints with only lower bounds:        0\n",
      "   inequality constraints with lower and upper bounds:        0\n",
      "        inequality constraints with only upper bounds:        0\n",
      "\n",
      "iter    objective    inf_pr   inf_du lg(mu)  ||d||  lg(rg) alpha_du alpha_pr  ls\n",
      "   0  2.8934592e+01 1.99e+00 2.04e+00  -1.0 0.00e+00    -  0.00e+00 0.00e+00   0\n",
      "   1  2.8908321e-02 1.99e-02 8.82e+01  -1.0 1.69e+00    -  1.10e-02 9.90e-01f  1\n",
      "   2  2.6120738e-02 1.97e-04 9.80e+00  -1.0 1.69e-02    -  1.00e+00 9.90e-01h  1\n",
      "   3  2.6121489e-02 3.22e-14 1.63e-05  -1.0 1.68e-04    -  1.00e+00 1.00e+00h  1\n",
      "\n",
      "Number of Iterations....: 3\n",
      "\n",
      "                                   (scaled)                 (unscaled)\n",
      "Objective...............:   2.6121489430743088e-02    2.6121489430743088e-02\n",
      "Dual infeasibility......:   1.2490009027033011e-16    1.2490009027033011e-16\n",
      "Constraint violation....:   3.2196467714129540e-14    3.2196467714129540e-14\n",
      "Complementarity.........:   0.0000000000000000e+00    0.0000000000000000e+00\n",
      "Overall NLP error.......:   3.2196467714129540e-14    3.2196467714129540e-14\n",
      "\n",
      "\n",
      "Number of objective function evaluations             = 4\n",
      "Number of objective gradient evaluations             = 4\n",
      "Number of equality constraint evaluations            = 4\n",
      "Number of inequality constraint evaluations          = 0\n",
      "Number of equality constraint Jacobian evaluations   = 4\n",
      "Number of inequality constraint Jacobian evaluations = 0\n",
      "Number of Lagrangian Hessian evaluations             = 3\n",
      "Total CPU secs in IPOPT (w/o function evaluations)   =      0.000\n",
      "Total CPU secs in NLP function evaluations           =      0.000\n",
      "\n",
      "EXIT: Optimal Solution Found.\n"
     ]
    },
    {
     "data": {
      "text/plain": [
       "{'Problem': [{'Lower bound': -inf, 'Upper bound': inf, 'Number of objectives': 1, 'Number of constraints': 243, 'Number of variables': 243, 'Sense': 'unknown'}], 'Solver': [{'Status': 'ok', 'Message': 'Ipopt 3.12\\\\x3a Optimal Solution Found', 'Termination condition': 'optimal', 'Id': 0, 'Error rc': 0, 'Time': 0.036390066146850586}], 'Solution': [OrderedDict([('number of solutions', 0), ('number of solutions displayed', 0)])]}"
      ]
     },
     "execution_count": 31,
     "metadata": {},
     "output_type": "execute_result"
    }
   ],
   "source": [
    "# Get ca, cb, cc profiles with estimated parameters\n",
    "ms = ABC_model(data[0])\n",
    "ms.k1.fix(theta['k1'])\n",
    "ms.k2.fix(theta['k2'])\n",
    "solver = SolverFactory('ipopt')\n",
    "solver.solve(ms, tee = True)"
   ]
  },
  {
   "cell_type": "code",
   "execution_count": 32,
   "metadata": {},
   "outputs": [
    {
     "data": {
      "text/plain": [
       "<matplotlib.collections.PathCollection at 0x7ff30d8fe790>"
      ]
     },
     "execution_count": 32,
     "metadata": {},
     "output_type": "execute_result"
    },
    {
     "data": {
      "image/png": "[encoded data removed]",
      "text/plain": [
       "<Figure size 432x288 with 1 Axes>"
      ]
     },
     "metadata": {
      "needs_background": "light"
     },
     "output_type": "display_data"
    }
   ],
   "source": [
    "fig, ax = plt.subplots()\n",
    "ax.plot(list(ms.time), [ms.ca[t]() for t in ms.time])\n",
    "ax.plot(list(ms.time), [ms.cb[t]() for t in ms.time])\n",
    "ax.plot(list(ms.time), [ms.cc[t]() for t in ms.time])\n",
    "ax.scatter(data[0]['ca_meas'].keys(), data[0]['ca_meas'].values())\n",
    "ax.scatter(data[0]['cb_meas'].keys(), data[0]['cb_meas'].values())\n",
    "ax.scatter(data[0]['cc_meas'].keys(), data[0]['cc_meas'].values())"
   ]
  },
  {
   "cell_type": "code",
   "execution_count": null,
   "metadata": {},
   "outputs": [],
   "source": []
  }
 ],
 "metadata": {
  "kernelspec": {
   "display_name": "Python 3",
   "language": "python",
   "name": "python3"
  },
  "language_info": {
   "codemirror_mode": {
    "name": "ipython",
    "version": 3
   },
   "file_extension": ".py",
   "mimetype": "text/x-python",
   "name": "python",
   "nbconvert_exporter": "python",
   "pygments_lexer": "ipython3",
   "version": "3.8.5"
  }
 },
 "nbformat": 4,
 "nbformat_minor": 2
}
