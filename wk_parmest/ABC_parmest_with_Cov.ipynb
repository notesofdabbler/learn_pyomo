{
 "cells": [
  {
   "cell_type": "markdown",
   "metadata": {},
   "source": [
    "This is an attempt to recreate the parameter estimation [example](https://sites.engineering.ucsb.edu/~jbraw/chemreacfun/fig-html/appendix/fig-A-10.html) from James Rawlings book on [Reactor Design](https://sites.engineering.ucsb.edu/~jbraw/chemreacfun/) using Pyomo [parmest](https://pyomo.readthedocs.io/en/stable/contributed_packages/parmest/driver.html)."
   ]
  },
  {
   "cell_type": "code",
   "execution_count": 1,
   "metadata": {},
   "outputs": [],
   "source": [
    "# Import libraries\n",
    "from pyomo.environ import *\n",
    "from pyomo.dae import *\n",
    "import pyomo.contrib.parmest.parmest as parmest\n",
    "import pandas as pd\n",
    "import numpy as np\n",
    "import matplotlib.pyplot as plt"
   ]
  },
  {
   "cell_type": "markdown",
   "metadata": {},
   "source": [
    "This example has a series reaction $A \\rightarrow B \\rightarrow C$. The dataset consists of measures concentrations of A, B and C over time. The goal is to estimate the rate constants $k_1$ and $k_2$ for the two reactions."
   ]
  },
  {
   "cell_type": "code",
   "execution_count": 2,
   "metadata": {},
   "outputs": [
    {
     "data": {
      "text/html": [
       "<div>\n",
       "<style scoped>\n",
       "    .dataframe tbody tr th:only-of-type {\n",
       "        vertical-align: middle;\n",
       "    }\n",
       "\n",
       "    .dataframe tbody tr th {\n",
       "        vertical-align: top;\n",
       "    }\n",
       "\n",
       "    .dataframe thead th {\n",
       "        text-align: right;\n",
       "    }\n",
       "</style>\n",
       "<table border=\"1\" class=\"dataframe\">\n",
       "  <thead>\n",
       "    <tr style=\"text-align: right;\">\n",
       "      <th></th>\n",
       "      <th>t</th>\n",
       "      <th>ca</th>\n",
       "      <th>cb</th>\n",
       "      <th>cc</th>\n",
       "    </tr>\n",
       "  </thead>\n",
       "  <tbody>\n",
       "    <tr>\n",
       "      <th>0</th>\n",
       "      <td>0.000</td>\n",
       "      <td>0.957</td>\n",
       "      <td>-0.031</td>\n",
       "      <td>-0.015</td>\n",
       "    </tr>\n",
       "    <tr>\n",
       "      <th>1</th>\n",
       "      <td>0.263</td>\n",
       "      <td>0.557</td>\n",
       "      <td>0.330</td>\n",
       "      <td>0.044</td>\n",
       "    </tr>\n",
       "    <tr>\n",
       "      <th>2</th>\n",
       "      <td>0.526</td>\n",
       "      <td>0.342</td>\n",
       "      <td>0.512</td>\n",
       "      <td>0.156</td>\n",
       "    </tr>\n",
       "    <tr>\n",
       "      <th>3</th>\n",
       "      <td>0.789</td>\n",
       "      <td>0.224</td>\n",
       "      <td>0.499</td>\n",
       "      <td>0.310</td>\n",
       "    </tr>\n",
       "    <tr>\n",
       "      <th>4</th>\n",
       "      <td>1.053</td>\n",
       "      <td>0.123</td>\n",
       "      <td>0.428</td>\n",
       "      <td>0.454</td>\n",
       "    </tr>\n",
       "  </tbody>\n",
       "</table>\n",
       "</div>"
      ],
      "text/plain": [
       "       t     ca     cb     cc\n",
       "0  0.000  0.957 -0.031 -0.015\n",
       "1  0.263  0.557  0.330  0.044\n",
       "2  0.526  0.342  0.512  0.156\n",
       "3  0.789  0.224  0.499  0.310\n",
       "4  1.053  0.123  0.428  0.454"
      ]
     },
     "execution_count": 2,
     "metadata": {},
     "output_type": "execute_result"
    }
   ],
   "source": [
    "data_df = pd.read_csv(\"ABC_data.csv\")\n",
    "data_df.head()"
   ]
  },
  {
   "cell_type": "code",
   "execution_count": 3,
   "metadata": {},
   "outputs": [],
   "source": [
    "# Convert data to a list of dictionaries\n",
    "data = [{'ca_meas': {k:v for (k, v) in zip(data_df.t, data_df.ca)},\n",
    "    'cb_meas': {k:v for (k, v) in zip(data_df.t, data_df.cb)},\n",
    "    'cc_meas': {k:v for (k, v) in zip(data_df.t, data_df.cc)} }]"
   ]
  },
  {
   "cell_type": "code",
   "execution_count": 4,
   "metadata": {},
   "outputs": [],
   "source": [
    "#\n",
    "# Define the model \n",
    "#\n",
    "def ABC_model(data):\n",
    "    \n",
    "    ca_meas = data['ca_meas']\n",
    "    cb_meas = data['cb_meas']\n",
    "    cc_meas = data['cc_meas']\n",
    "    \n",
    "    meas_t = list(ca_meas.keys())\n",
    "       \n",
    "    ca0 = 1.0\n",
    "    cb0 = 0.0\n",
    "    cc0 = 0.0\n",
    "        \n",
    "    m = ConcreteModel()\n",
    "    \n",
    "    #m.k1 = Var(initialize = 0.5, bounds = (1e-4, 10))\n",
    "    #m.k2 = Var(initialize = 3.0, bounds = (1e-4, 10))\n",
    "    m.k1 = Var(initialize = 2.0)\n",
    "    m.k2 = Var(initialize = 1.0)\n",
    "    \n",
    "    m.time = ContinuousSet(bounds = (0.0, 5.0), initialize = meas_t)\n",
    "    #m.ca = Var(m.time, initialize = ca0, bounds = (0, ca0))\n",
    "    #m.cb = Var(m.time, initialize = cb0, bounds = (0, ca0))\n",
    "    #m.cc = Var(m.time, initialize = cc0, bounds = (0, ca0))\n",
    "    m.ca = Var(m.time, initialize = ca0, bounds = (-1e-3, ca0+1e-3))\n",
    "    m.cb = Var(m.time, initialize = cb0, bounds = (-1e-3, ca0+1e-3))\n",
    "    m.cc = Var(m.time, initialize = cc0, bounds = (-1e-3, ca0+1e-3))\n",
    "    \n",
    "    m.dca = DerivativeVar(m.ca, wrt = m.time)\n",
    "    m.dcb = DerivativeVar(m.cb, wrt = m.time)\n",
    "    m.dcc = DerivativeVar(m.cc, wrt = m.time)\n",
    "    \n",
    "    def _dcarate(m, t):\n",
    "        if t == 0:\n",
    "            return Constraint.Skip\n",
    "        else:\n",
    "            return m.dca[t] == -m.k1 * m.ca[t]\n",
    "    m.dcarate = Constraint(m.time, rule = _dcarate)\n",
    "    \n",
    "    def _dcbrate(m, t):\n",
    "        if t == 0:\n",
    "            return Constraint.Skip\n",
    "        else:\n",
    "            return m.dcb[t] == m.k1 * m.ca[t] - m.k2 * m.cb[t]\n",
    "    m.dcbrate = Constraint(m.time, rule = _dcbrate)\n",
    "    \n",
    "    def _dccrate(m, t):\n",
    "        if t == 0:\n",
    "            return Constraint.Skip\n",
    "        else:\n",
    "            return m.dcc[t] == m.k2 * m.cb[t]\n",
    "    m.dccrate = Constraint(m.time, rule = _dccrate)\n",
    "    \n",
    "    def _initcon(m):\n",
    "        yield m.ca[m.time.first()] == ca0\n",
    "        yield m.cb[m.time.first()] == cb0\n",
    "        yield m.cc[m.time.first()] == cc0\n",
    "    m.initcon = ConstraintList(rule = _initcon)\n",
    "    \n",
    "    def ComputeFirstStageCost_rule(m):\n",
    "        return 0\n",
    "    m.FirstStageCost = Expression(rule=ComputeFirstStageCost_rule)\n",
    "\n",
    "    def ComputeSecondStageCost_rule(m):\n",
    "        return sum((m.ca[t] - ca_meas[t]) ** 2 + (m.cb[t] - cb_meas[t]) ** 2 \n",
    "                   + (m.cc[t] - cc_meas[t]) ** 2 for t in meas_t) \n",
    "    m.SecondStageCost = Expression(rule=ComputeSecondStageCost_rule)\n",
    "\n",
    "    \n",
    "    def total_cost_rule(model):\n",
    "        return model.FirstStageCost + model.SecondStageCost\n",
    "    m.Total_Cost_Objective = Objective(rule=total_cost_rule, sense=minimize)\n",
    "    \n",
    "    disc = TransformationFactory('dae.collocation')\n",
    "    disc.apply_to(m, nfe=20, ncp=2)\n",
    "    \n",
    "    return m"
   ]
  },
  {
   "cell_type": "code",
   "execution_count": 5,
   "metadata": {},
   "outputs": [],
   "source": [
    "# parameters to be estimated\n",
    "theta_names = ['k1', 'k2']"
   ]
  },
  {
   "cell_type": "code",
   "execution_count": 6,
   "metadata": {},
   "outputs": [
    {
     "name": "stdout",
     "output_type": "stream",
     "text": [
      "Ipopt 3.12: bound_relax_factor=0\n",
      "honor_original_bounds=no\n",
      "\n",
      "\n",
      "******************************************************************************\n",
      "This program contains Ipopt, a library for large-scale nonlinear optimization.\n",
      " Ipopt is released as open source code under the Eclipse Public License (EPL).\n",
      "         For more information visit http://projects.coin-or.org/Ipopt\n",
      "******************************************************************************\n",
      "\n",
      "This is Ipopt version 3.12, running with linear solver ma27.\n",
      "\n",
      "Number of nonzeros in equality constraint Jacobian...:      927\n",
      "Number of nonzeros in inequality constraint Jacobian.:        0\n",
      "Number of nonzeros in Lagrangian Hessian.............:      140\n",
      "\n",
      "Total number of variables............................:      247\n",
      "                     variables with only lower bounds:        0\n",
      "                variables with lower and upper bounds:      123\n",
      "                     variables with only upper bounds:        0\n",
      "Total number of equality constraints.................:      245\n",
      "Total number of inequality constraints...............:        0\n",
      "        inequality constraints with only lower bounds:        0\n",
      "   inequality constraints with lower and upper bounds:        0\n",
      "        inequality constraints with only upper bounds:        0\n",
      "\n",
      "iter    objective    inf_pr   inf_du lg(mu)  ||d||  lg(rg) alpha_du alpha_pr  ls\n",
      "   0  2.9003548e+01 2.00e+00 1.42e+00  -1.0 0.00e+00    -  0.00e+00 0.00e+00   0\n",
      "   1  2.3211239e+01 7.92e-01 3.46e+01  -1.0 5.17e+00    -  1.90e-01 8.43e-01f  1\n",
      "   2  1.3264409e+01 1.30e-01 5.76e+02  -1.0 4.25e+00    -  3.36e-01 1.00e+00f  1\n",
      "   3  7.0954921e+00 1.02e-01 2.28e+02  -1.0 4.22e+00    -  5.28e-01 4.25e-01f  1\n",
      "   4  3.9925782e+00 2.60e-02 3.44e+01  -1.0 5.29e-01   0.0 1.34e-01 1.00e+00f  1\n",
      "   5  2.5529049e+00 7.19e-02 3.54e+00  -1.0 8.74e-01    -  9.76e-01 1.00e+00f  1\n",
      "   6  2.5892458e+00 1.61e-01 3.96e+00  -1.0 8.49e-01    -  6.26e-01 1.00e+00f  1\n",
      "   7  2.9392431e+00 1.77e-02 2.81e-01  -1.0 4.03e-01    -  1.00e+00 1.00e+00h  1\n",
      "   8  1.7250105e+00 1.17e-02 9.51e+00  -1.7 1.58e-01    -  8.81e-01 1.00e+00f  1\n",
      "   9  9.7981417e-01 1.37e-02 1.07e-01  -1.7 1.60e-01    -  1.00e+00 1.00e+00h  1\n",
      "iter    objective    inf_pr   inf_du lg(mu)  ||d||  lg(rg) alpha_du alpha_pr  ls\n",
      "  10  4.1239052e-01 2.57e-02 5.09e-01  -2.5 2.82e-01    -  8.00e-01 8.29e-01h  1\n",
      "  11  1.2811017e-01 3.08e-02 2.16e-01  -2.5 3.17e-01    -  1.00e+00 1.00e+00h  1\n",
      "  12  5.8585706e-02 1.57e-02 3.06e-01  -2.5 2.67e-01    -  1.00e+00 1.00e+00h  1\n",
      "  13  6.3089476e-02 5.32e-05 1.69e-03  -2.5 1.14e-02    -  1.00e+00 1.00e+00h  1\n",
      "  14  2.7559431e-02 1.75e-02 3.07e-01  -3.8 2.80e-01    -  9.02e-01 1.00e+00f  1\n",
      "  15  2.6208009e-02 3.15e-04 4.34e-01  -3.8 4.72e-02    -  6.53e-01 1.00e+00h  1\n",
      "  16  2.6210628e-02 1.41e-04 8.88e-03  -3.8 2.76e-02    -  1.00e+00 1.00e+00h  1\n",
      "  17  2.6228703e-02 2.32e-06 9.58e-06  -3.8 3.44e-03    -  1.00e+00 1.00e+00h  1\n",
      "  18  2.6124136e-02 5.88e-05 1.78e-03  -5.7 1.71e-02    -  1.00e+00 1.00e+00h  1\n",
      "  19  2.6121506e-02 2.39e-09 4.07e-08  -5.7 7.20e-05    -  1.00e+00 1.00e+00h  1\n",
      "iter    objective    inf_pr   inf_du lg(mu)  ||d||  lg(rg) alpha_du alpha_pr  ls\n",
      "  20  2.6121490e-02 8.94e-09 2.77e-07  -8.6 2.11e-04    -  1.00e+00 1.00e+00h  1\n",
      "  21  2.6121489e-02 5.31e-15 9.18e-16  -8.6 1.13e-08    -  1.00e+00 1.00e+00h  1\n",
      "\n",
      "Number of Iterations....: 21\n",
      "\n",
      "                                   (scaled)                 (unscaled)\n",
      "Objective...............:   2.6121489430675569e-02    2.6121489430675569e-02\n",
      "Dual infeasibility......:   9.1849486708287951e-16    9.1849486708287951e-16\n",
      "Constraint violation....:   5.3082538364890297e-15    5.3082538364890297e-15\n",
      "Complementarity.........:   2.5059035630602576e-09    2.5059035630602576e-09\n",
      "Overall NLP error.......:   2.5059035630602576e-09    2.5059035630602576e-09\n",
      "\n",
      "\n",
      "Number of objective function evaluations             = 22\n",
      "Number of objective gradient evaluations             = 22\n",
      "Number of equality constraint evaluations            = 22\n",
      "Number of inequality constraint evaluations          = 0\n",
      "Number of equality constraint Jacobian evaluations   = 22\n",
      "Number of inequality constraint Jacobian evaluations = 0\n",
      "Number of Lagrangian Hessian evaluations             = 21\n",
      "Total CPU secs in IPOPT (w/o function evaluations)   =      0.012\n",
      "Total CPU secs in NLP function evaluations           =      0.004\n",
      "\n",
      "EXIT: Optimal Solution Found.\n"
     ]
    }
   ],
   "source": [
    "# First tried collocation method. Max iterations are exceeded\n",
    "pest = parmest.Estimator(ABC_model, data, theta_names, tee = True)\n",
    "obj, theta, cov = pest.theta_est(calc_cov=True)"
   ]
  },
  {
   "cell_type": "code",
   "execution_count": 7,
   "metadata": {},
   "outputs": [
    {
     "data": {
      "text/plain": [
       "{'k1': 2.014379762750679, 'k2': 0.9944520539909202}"
      ]
     },
     "execution_count": 7,
     "metadata": {},
     "output_type": "execute_result"
    }
   ],
   "source": [
    "theta"
   ]
  },
  {
   "cell_type": "code",
   "execution_count": 8,
   "metadata": {},
   "outputs": [
    {
     "data": {
      "text/plain": [
       "array([[-0.13200095,  0.02026254],\n",
       "       [ 0.02026254, -0.0180948 ]])"
      ]
     },
     "execution_count": 8,
     "metadata": {},
     "output_type": "execute_result"
    }
   ],
   "source": [
    "cov"
   ]
  },
  {
   "cell_type": "code",
   "execution_count": 9,
   "metadata": {},
   "outputs": [
    {
     "name": "stdout",
     "output_type": "stream",
     "text": [
      "Ipopt 3.12: \n",
      "\n",
      "******************************************************************************\n",
      "This program contains Ipopt, a library for large-scale nonlinear optimization.\n",
      " Ipopt is released as open source code under the Eclipse Public License (EPL).\n",
      "         For more information visit http://projects.coin-or.org/Ipopt\n",
      "******************************************************************************\n",
      "\n",
      "This is Ipopt version 3.12, running with linear solver ma27.\n",
      "\n",
      "Number of nonzeros in equality constraint Jacobian...:      763\n",
      "Number of nonzeros in inequality constraint Jacobian.:        0\n",
      "Number of nonzeros in Lagrangian Hessian.............:       60\n",
      "\n",
      "Total number of variables............................:      243\n",
      "                     variables with only lower bounds:        0\n",
      "                variables with lower and upper bounds:      123\n",
      "                     variables with only upper bounds:        0\n",
      "Total number of equality constraints.................:      243\n",
      "Total number of inequality constraints...............:        0\n",
      "        inequality constraints with only lower bounds:        0\n",
      "   inequality constraints with lower and upper bounds:        0\n",
      "        inequality constraints with only upper bounds:        0\n",
      "\n",
      "iter    objective    inf_pr   inf_du lg(mu)  ||d||  lg(rg) alpha_du alpha_pr  ls\n",
      "   0  2.9003548e+01 2.00e+00 2.04e+00  -1.0 0.00e+00    -  0.00e+00 0.00e+00   0\n",
      "   1  2.8356148e-02 1.79e-02 8.83e+01  -1.0 1.69e+00    -  1.10e-02 9.91e-01f  1\n",
      "   2  2.6121489e-02 2.66e-15 8.73e-13  -1.0 1.52e-02    -  1.00e+00 1.00e+00h  1\n",
      "\n",
      "Number of Iterations....: 2\n",
      "\n",
      "                                   (scaled)                 (unscaled)\n",
      "Objective...............:   2.6121489430675601e-02    2.6121489430675601e-02\n",
      "Dual infeasibility......:   1.2490009027033011e-16    1.2490009027033011e-16\n",
      "Constraint violation....:   2.6575963651964685e-15    2.6575963651964685e-15\n",
      "Complementarity.........:   0.0000000000000000e+00    0.0000000000000000e+00\n",
      "Overall NLP error.......:   2.6575963651964685e-15    2.6575963651964685e-15\n",
      "\n",
      "\n",
      "Number of objective function evaluations             = 3\n",
      "Number of objective gradient evaluations             = 3\n",
      "Number of equality constraint evaluations            = 3\n",
      "Number of inequality constraint evaluations          = 0\n",
      "Number of equality constraint Jacobian evaluations   = 3\n",
      "Number of inequality constraint Jacobian evaluations = 0\n",
      "Number of Lagrangian Hessian evaluations             = 2\n",
      "Total CPU secs in IPOPT (w/o function evaluations)   =      0.000\n",
      "Total CPU secs in NLP function evaluations           =      0.000\n",
      "\n",
      "EXIT: Optimal Solution Found.\n"
     ]
    },
    {
     "data": {
      "text/plain": [
       "{'Problem': [{'Lower bound': -inf, 'Upper bound': inf, 'Number of objectives': 1, 'Number of constraints': 243, 'Number of variables': 243, 'Sense': 'unknown'}], 'Solver': [{'Status': 'ok', 'Message': 'Ipopt 3.12\\\\x3a Optimal Solution Found', 'Termination condition': 'optimal', 'Id': 0, 'Error rc': 0, 'Time': 0.03281998634338379}], 'Solution': [OrderedDict([('number of solutions', 0), ('number of solutions displayed', 0)])]}"
      ]
     },
     "execution_count": 9,
     "metadata": {},
     "output_type": "execute_result"
    }
   ],
   "source": [
    "# Get ca, cb, cc profiles with estimated parameters\n",
    "ms = ABC_model(data[0])\n",
    "ms.k1.fix(theta['k1'])\n",
    "ms.k2.fix(theta['k2'])\n",
    "solver = SolverFactory('ipopt')\n",
    "solver.solve(ms, tee = True)"
   ]
  },
  {
   "cell_type": "code",
   "execution_count": 10,
   "metadata": {},
   "outputs": [
    {
     "data": {
      "text/plain": [
       "<matplotlib.collections.PathCollection at 0x7f11d37ec0d0>"
      ]
     },
     "execution_count": 10,
     "metadata": {},
     "output_type": "execute_result"
    },
    {
     "data": {
      "image/png": "[encoded data removed]",
      "text/plain": [
       "<Figure size 432x288 with 1 Axes>"
      ]
     },
     "metadata": {
      "needs_background": "light"
     },
     "output_type": "display_data"
    }
   ],
   "source": [
    "fig, ax = plt.subplots()\n",
    "ax.plot(list(ms.time), [ms.ca[t]() for t in ms.time])\n",
    "ax.plot(list(ms.time), [ms.cb[t]() for t in ms.time])\n",
    "ax.plot(list(ms.time), [ms.cc[t]() for t in ms.time])\n",
    "ax.scatter(data[0]['ca_meas'].keys(), data[0]['ca_meas'].values())\n",
    "ax.scatter(data[0]['cb_meas'].keys(), data[0]['cb_meas'].values())\n",
    "ax.scatter(data[0]['cc_meas'].keys(), data[0]['cc_meas'].values())"
   ]
  },
  {
   "cell_type": "code",
   "execution_count": null,
   "metadata": {},
   "outputs": [],
   "source": []
  }
 ],
 "metadata": {
  "kernelspec": {
   "display_name": "Python 3",
   "language": "python",
   "name": "python3"
  },
  "language_info": {
   "codemirror_mode": {
    "name": "ipython",
    "version": 3
   },
   "file_extension": ".py",
   "mimetype": "text/x-python",
   "name": "python",
   "nbconvert_exporter": "python",
   "pygments_lexer": "ipython3",
   "version": "3.8.5"
  }
 },
 "nbformat": 4,
 "nbformat_minor": 2
}
