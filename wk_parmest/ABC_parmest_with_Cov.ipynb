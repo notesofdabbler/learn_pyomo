{
 "cells": [
  {
   "cell_type": "markdown",
   "metadata": {},
   "source": [
    "This is an attempt to recreate the parameter estimation [example](https://sites.engineering.ucsb.edu/~jbraw/chemreacfun/fig-html/appendix/fig-A-10.html) from James Rawlings book on [Reactor Design](https://sites.engineering.ucsb.edu/~jbraw/chemreacfun/) using Pyomo [parmest](https://pyomo.readthedocs.io/en/stable/contributed_packages/parmest/driver.html)."
   ]
  },
  {
   "cell_type": "code",
   "execution_count": 1,
   "metadata": {},
   "outputs": [],
   "source": [
    "# Import libraries\n",
    "from pyomo.environ import *\n",
    "from pyomo.dae import *\n",
    "import pyomo.contrib.parmest.parmest as parmest\n",
    "import pandas as pd\n",
    "import numpy as np\n",
    "import matplotlib.pyplot as plt"
   ]
  },
  {
   "cell_type": "markdown",
   "metadata": {},
   "source": [
    "This example has a series reaction $A \\rightarrow B \\rightarrow C$. The dataset consists of measures concentrations of A, B and C over time. The goal is to estimate the rate constants $k_1$ and $k_2$ for the two reactions."
   ]
  },
  {
   "cell_type": "code",
   "execution_count": 2,
   "metadata": {},
   "outputs": [
    {
     "data": {
      "text/html": [
       "<div>\n",
       "<style scoped>\n",
       "    .dataframe tbody tr th:only-of-type {\n",
       "        vertical-align: middle;\n",
       "    }\n",
       "\n",
       "    .dataframe tbody tr th {\n",
       "        vertical-align: top;\n",
       "    }\n",
       "\n",
       "    .dataframe thead th {\n",
       "        text-align: right;\n",
       "    }\n",
       "</style>\n",
       "<table border=\"1\" class=\"dataframe\">\n",
       "  <thead>\n",
       "    <tr style=\"text-align: right;\">\n",
       "      <th></th>\n",
       "      <th>t</th>\n",
       "      <th>ca</th>\n",
       "      <th>cb</th>\n",
       "      <th>cc</th>\n",
       "    </tr>\n",
       "  </thead>\n",
       "  <tbody>\n",
       "    <tr>\n",
       "      <th>0</th>\n",
       "      <td>0.000</td>\n",
       "      <td>0.957</td>\n",
       "      <td>-0.031</td>\n",
       "      <td>-0.015</td>\n",
       "    </tr>\n",
       "    <tr>\n",
       "      <th>1</th>\n",
       "      <td>0.263</td>\n",
       "      <td>0.557</td>\n",
       "      <td>0.330</td>\n",
       "      <td>0.044</td>\n",
       "    </tr>\n",
       "    <tr>\n",
       "      <th>2</th>\n",
       "      <td>0.526</td>\n",
       "      <td>0.342</td>\n",
       "      <td>0.512</td>\n",
       "      <td>0.156</td>\n",
       "    </tr>\n",
       "    <tr>\n",
       "      <th>3</th>\n",
       "      <td>0.789</td>\n",
       "      <td>0.224</td>\n",
       "      <td>0.499</td>\n",
       "      <td>0.310</td>\n",
       "    </tr>\n",
       "    <tr>\n",
       "      <th>4</th>\n",
       "      <td>1.053</td>\n",
       "      <td>0.123</td>\n",
       "      <td>0.428</td>\n",
       "      <td>0.454</td>\n",
       "    </tr>\n",
       "  </tbody>\n",
       "</table>\n",
       "</div>"
      ],
      "text/plain": [
       "       t     ca     cb     cc\n",
       "0  0.000  0.957 -0.031 -0.015\n",
       "1  0.263  0.557  0.330  0.044\n",
       "2  0.526  0.342  0.512  0.156\n",
       "3  0.789  0.224  0.499  0.310\n",
       "4  1.053  0.123  0.428  0.454"
      ]
     },
     "execution_count": 2,
     "metadata": {},
     "output_type": "execute_result"
    }
   ],
   "source": [
    "data_df = pd.read_csv(\"ABC_data.csv\")\n",
    "data_df.head()"
   ]
  },
  {
   "cell_type": "code",
   "execution_count": 3,
   "metadata": {},
   "outputs": [
    {
     "data": {
      "text/plain": [
       "(20, 4)"
      ]
     },
     "execution_count": 3,
     "metadata": {},
     "output_type": "execute_result"
    }
   ],
   "source": [
    "data_df.shape"
   ]
  },
  {
   "cell_type": "code",
   "execution_count": 4,
   "metadata": {},
   "outputs": [],
   "source": [
    "# Convert data to a list of dictionaries\n",
    "data = [{'ca_meas': {k:v for (k, v) in zip(data_df.t, data_df.ca)},\n",
    "    'cb_meas': {k:v for (k, v) in zip(data_df.t, data_df.cb)},\n",
    "    'cc_meas': {k:v for (k, v) in zip(data_df.t, data_df.cc)} }]"
   ]
  },
  {
   "cell_type": "code",
   "execution_count": 5,
   "metadata": {},
   "outputs": [],
   "source": [
    "#\n",
    "# Define the model \n",
    "#\n",
    "def ABC_model(data):\n",
    "    \n",
    "    ca_meas = data['ca_meas']\n",
    "    cb_meas = data['cb_meas']\n",
    "    cc_meas = data['cc_meas']\n",
    "    \n",
    "    meas_t = list(ca_meas.keys())\n",
    "       \n",
    "    ca0 = 1.0\n",
    "    cb0 = 0.0\n",
    "    cc0 = 0.0\n",
    "        \n",
    "    m = ConcreteModel()\n",
    "    \n",
    "    m.k1 = Var(initialize = 0.5, bounds = (1e-4, 10))\n",
    "    m.k2 = Var(initialize = 3.0, bounds = (1e-4, 10))\n",
    "    #m.k1 = Var(initialize = 2.0)\n",
    "    #m.k2 = Var(initialize = 1.0)\n",
    "    \n",
    "    m.time = ContinuousSet(bounds = (0.0, 5.0), initialize = meas_t)\n",
    "    m.ca = Var(m.time, initialize = ca0, bounds = (0, ca0))\n",
    "    m.cb = Var(m.time, initialize = cb0, bounds = (0, ca0))\n",
    "    m.cc = Var(m.time, initialize = cc0, bounds = (0, ca0))\n",
    "    #m.ca = Var(m.time, initialize = ca0, bounds = (-1e-3, ca0+1e-3))\n",
    "    #m.cb = Var(m.time, initialize = cb0, bounds = (-1e-3, ca0+1e-3))\n",
    "    #m.cc = Var(m.time, initialize = cc0, bounds = (-1e-3, ca0+1e-3))\n",
    "    #m.ca = Var(m.time, initialize = ca0)\n",
    "    #m.cb = Var(m.time, initialize = cb0)\n",
    "    #m.cc = Var(m.time, initialize = cc0)\n",
    "    \n",
    "    m.dca = DerivativeVar(m.ca, wrt = m.time)\n",
    "    m.dcb = DerivativeVar(m.cb, wrt = m.time)\n",
    "    m.dcc = DerivativeVar(m.cc, wrt = m.time)\n",
    "    \n",
    "    def _dcarate(m, t):\n",
    "        if t == 0:\n",
    "            return Constraint.Skip\n",
    "        else:\n",
    "            return m.dca[t] == -m.k1 * m.ca[t]\n",
    "    m.dcarate = Constraint(m.time, rule = _dcarate)\n",
    "    \n",
    "    def _dcbrate(m, t):\n",
    "        if t == 0:\n",
    "            return Constraint.Skip\n",
    "        else:\n",
    "            return m.dcb[t] == m.k1 * m.ca[t] - m.k2 * m.cb[t]\n",
    "    m.dcbrate = Constraint(m.time, rule = _dcbrate)\n",
    "    \n",
    "    def _dccrate(m, t):\n",
    "        if t == 0:\n",
    "            return Constraint.Skip\n",
    "        else:\n",
    "            return m.dcc[t] == m.k2 * m.cb[t]\n",
    "    m.dccrate = Constraint(m.time, rule = _dccrate)\n",
    "    \n",
    "    def _initcon(m):\n",
    "        yield m.ca[m.time.first()] == ca0\n",
    "        yield m.cb[m.time.first()] == cb0\n",
    "        yield m.cc[m.time.first()] == cc0\n",
    "    m.initcon = ConstraintList(rule = _initcon)\n",
    "    \n",
    "    def ComputeFirstStageCost_rule(m):\n",
    "        return 0\n",
    "    m.FirstStageCost = Expression(rule=ComputeFirstStageCost_rule)\n",
    "\n",
    "    def ComputeSecondStageCost_rule(m):\n",
    "        return sum((m.ca[t] - ca_meas[t]) ** 2 + (m.cb[t] - cb_meas[t]) ** 2 \n",
    "                   + (m.cc[t] - cc_meas[t]) ** 2 for t in meas_t) \n",
    "    m.SecondStageCost = Expression(rule=ComputeSecondStageCost_rule)\n",
    "\n",
    "    \n",
    "    def total_cost_rule(model):\n",
    "        return model.FirstStageCost + model.SecondStageCost\n",
    "    m.Total_Cost_Objective = Objective(rule=total_cost_rule, sense=minimize)\n",
    "    \n",
    "    disc = TransformationFactory('dae.collocation')\n",
    "    disc.apply_to(m, nfe=20, ncp=2)\n",
    "    \n",
    "    return m"
   ]
  },
  {
   "cell_type": "code",
   "execution_count": 6,
   "metadata": {},
   "outputs": [],
   "source": [
    "# parameters to be estimated\n",
    "theta_names = ['k1', 'k2']"
   ]
  },
  {
   "cell_type": "code",
   "execution_count": 7,
   "metadata": {},
   "outputs": [
    {
     "name": "stdout",
     "output_type": "stream",
     "text": [
      "Ipopt 3.13.2: \n",
      "\n",
      "******************************************************************************\n",
      "This program contains Ipopt, a library for large-scale nonlinear optimization.\n",
      " Ipopt is released as open source code under the Eclipse Public License (EPL).\n",
      "         For more information visit http://projects.coin-or.org/Ipopt\n",
      "******************************************************************************\n",
      "\n",
      "This is Ipopt version 3.13.2, running with linear solver mumps.\n",
      "NOTE: Other linear solvers might be more efficient (see Ipopt documentation).\n",
      "\n",
      "Number of nonzeros in equality constraint Jacobian...:      923\n",
      "Number of nonzeros in inequality constraint Jacobian.:        0\n",
      "Number of nonzeros in Lagrangian Hessian.............:      140\n",
      "\n",
      "Total number of variables............................:      245\n",
      "                     variables with only lower bounds:        0\n",
      "                variables with lower and upper bounds:      125\n",
      "                     variables with only upper bounds:        0\n",
      "Total number of equality constraints.................:      243\n",
      "Total number of inequality constraints...............:        0\n",
      "        inequality constraints with only lower bounds:        0\n",
      "   inequality constraints with lower and upper bounds:        0\n",
      "        inequality constraints with only upper bounds:        0\n",
      "\n",
      "iter    objective    inf_pr   inf_du lg(mu)  ||d||  lg(rg) alpha_du alpha_pr  ls\n",
      "   0  2.8934592e+01 4.95e-01 9.90e-01  -1.0 0.00e+00    -  0.00e+00 0.00e+00   0\n",
      "   1  2.3122313e+01 8.13e-02 8.35e+00  -1.0 2.07e+00    -  1.83e-01 9.45e-01f  1\n",
      "   2  2.2475230e+01 7.55e-02 3.51e+01  -1.0 3.52e+00   0.0 1.22e-01 8.11e-02f  1\n",
      "   3  1.1727282e+01 1.30e-01 1.43e+04  -1.0 2.32e+00    -  9.67e-02 3.25e-01f  1\n",
      "   4  1.8286069e+01 3.96e-02 4.39e+03  -1.0 4.02e-01    -  1.69e-01 9.90e-01h  1\n",
      "   5  1.0556544e+01 1.08e-01 1.09e+04  -1.0 1.08e+00    -  1.41e-01 3.60e-01f  1\n",
      "   6  6.0166870e+00 2.66e-02 7.25e+03  -1.0 2.55e-01    -  8.37e-01 9.95e-01f  1\n",
      "   7  3.4606225e+00 2.18e-02 5.14e+05  -1.0 1.71e-01    -  8.87e-01 1.00e+00f  1\n",
      "   8  2.8034164e+00 9.27e-03 1.79e+00  -1.0 1.44e-01    -  1.00e+00 1.00e+00h  1\n",
      "   9  1.4784607e+00 1.47e-02 3.24e+06  -3.8 1.66e-01    -  6.75e-01 1.00e+00f  1\n",
      "iter    objective    inf_pr   inf_du lg(mu)  ||d||  lg(rg) alpha_du alpha_pr  ls\n",
      "  10  6.4341316e-01 2.59e-02 9.56e+05  -3.8 2.40e-01    -  7.05e-01 9.10e-01f  1\n",
      "  11  2.0937033e-01 3.08e-02 1.72e+05  -3.8 2.85e-01    -  8.20e-01 1.00e+00h  1\n",
      "  12  1.3577784e-01 2.38e-02 2.02e+01  -3.8 3.52e-01    -  1.00e+00 3.64e-01h  1\n",
      "  13  3.9760987e-02 2.56e-02 1.47e+00  -3.8 3.27e-01    -  1.00e+00 1.00e+00h  1\n",
      "  14  2.9188701e-02 2.34e-02 7.95e+01  -3.8 3.48e-01    -  4.12e-01 1.00e+00h  1\n",
      "  15  2.6682483e-02 1.23e-04 1.58e+01  -3.8 1.75e-02    -  3.79e-01 1.00e+00h  1\n",
      "  16  2.6242140e-02 8.67e-04 3.61e-01  -3.8 6.97e-02    -  1.00e+00 1.00e+00h  1\n",
      "  17  2.6446523e-02 8.24e-05 4.62e-03  -3.8 2.05e-02    -  1.00e+00 1.00e+00h  1\n",
      "  18  2.6455515e-02 8.16e-08 1.91e-05  -3.8 6.05e-04    -  1.00e+00 1.00e+00h  1\n",
      "  19  2.6130078e-02 2.44e-04 8.91e+01  -5.7 3.62e-02    -  9.94e-01 1.00e+00h  1\n",
      "iter    objective    inf_pr   inf_du lg(mu)  ||d||  lg(rg) alpha_du alpha_pr  ls\n",
      "  20  2.6121543e-02 3.45e-07 2.22e-04  -5.7 1.53e-03    -  1.00e+00 1.00e+00h  1\n",
      "  21  2.6121542e-02 1.61e-10 4.70e-08  -5.7 2.94e-05    -  1.00e+00 1.00e+00h  1\n",
      "  22  2.6121491e-02 4.34e-08 6.17e-06  -8.6 4.87e-04    -  1.00e+00 1.00e+00h  1\n",
      "  23  2.6121489e-02 9.66e-15 7.36e-12  -8.6 2.58e-07    -  1.00e+00 1.00e+00h  1\n",
      "\n",
      "Number of Iterations....: 23\n",
      "\n",
      "                                   (scaled)                 (unscaled)\n",
      "Objective...............:   2.6121489430743428e-02    2.6121489430743428e-02\n",
      "Dual infeasibility......:   7.3556015511531834e-12    7.3556015511531834e-12\n",
      "Constraint violation....:   9.6589403142388619e-15    9.6589403142388619e-15\n",
      "Complementarity.........:   2.5059037235371618e-09    2.5059037235371618e-09\n",
      "Overall NLP error.......:   2.5059037235371618e-09    2.5059037235371618e-09\n",
      "\n",
      "\n",
      "Number of objective function evaluations             = 24\n",
      "Number of objective gradient evaluations             = 24\n",
      "Number of equality constraint evaluations            = 24\n",
      "Number of inequality constraint evaluations          = 0\n",
      "Number of equality constraint Jacobian evaluations   = 24\n",
      "Number of inequality constraint Jacobian evaluations = 0\n",
      "Number of Lagrangian Hessian evaluations             = 23\n",
      "Total CPU secs in IPOPT (w/o function evaluations)   =      0.036\n",
      "Total CPU secs in NLP function evaluations           =      0.000\n",
      "\n",
      "EXIT: Optimal Solution Found.\n",
      "\b\b\b\b\b\b\b\b\b\b\b\b\b\b"
     ]
    }
   ],
   "source": [
    "# First tried collocation method. Max iterations are exceeded\n",
    "pest = parmest.Estimator(ABC_model, data, theta_names, tee = True)\n",
    "#obj, theta, cov = pest.theta_est(calc_cov = True)\n",
    "obj, theta = pest.theta_est()"
   ]
  },
  {
   "cell_type": "code",
   "execution_count": 8,
   "metadata": {},
   "outputs": [
    {
     "data": {
      "text/plain": [
       "(k1    2.014379\n",
       " k2    0.994452\n",
       " dtype: float64,\n",
       " 0.026121489430743428)"
      ]
     },
     "execution_count": 8,
     "metadata": {},
     "output_type": "execute_result"
    }
   ],
   "source": [
    "theta, obj"
   ]
  },
  {
   "cell_type": "code",
   "execution_count": 12,
   "metadata": {},
   "outputs": [
    {
     "ename": "RuntimeError",
     "evalue": "Internal error: timeout constructing \n                                           a sample, the dim of theta may be too \n                                           close to the samplesize",
     "output_type": "error",
     "traceback": [
      "\u001b[0;31m---------------------------------------------------------------------------\u001b[0m",
      "\u001b[0;31mRuntimeError\u001b[0m                              Traceback (most recent call last)",
      "\u001b[0;32m<ipython-input-12-89ff8fe4447d>\u001b[0m in \u001b[0;36m<module>\u001b[0;34m\u001b[0m\n\u001b[0;32m----> 1\u001b[0;31m \u001b[0mbootstrap_theta\u001b[0m \u001b[0;34m=\u001b[0m \u001b[0mpest\u001b[0m\u001b[0;34m.\u001b[0m\u001b[0mtheta_est_bootstrap\u001b[0m\u001b[0;34m(\u001b[0m\u001b[0;36m1000\u001b[0m\u001b[0;34m)\u001b[0m\u001b[0;34m\u001b[0m\u001b[0;34m\u001b[0m\u001b[0m\n\u001b[0m",
      "\u001b[0;32m~/anaconda3/envs/my_pyomoenv2/lib/python3.9/site-packages/pyomo/contrib/parmest/parmest.py\u001b[0m in \u001b[0;36mtheta_est_bootstrap\u001b[0;34m(self, bootstrap_samples, samplesize, replacement, seed, return_samples)\u001b[0m\n\u001b[1;32m    713\u001b[0m             \u001b[0mnp\u001b[0m\u001b[0;34m.\u001b[0m\u001b[0mrandom\u001b[0m\u001b[0;34m.\u001b[0m\u001b[0mseed\u001b[0m\u001b[0;34m(\u001b[0m\u001b[0mseed\u001b[0m\u001b[0;34m)\u001b[0m\u001b[0;34m\u001b[0m\u001b[0;34m\u001b[0m\u001b[0m\n\u001b[1;32m    714\u001b[0m \u001b[0;34m\u001b[0m\u001b[0m\n\u001b[0;32m--> 715\u001b[0;31m         global_list = self._get_sample_list(samplesize, bootstrap_samples, \n\u001b[0m\u001b[1;32m    716\u001b[0m                                             replacement)\n\u001b[1;32m    717\u001b[0m \u001b[0;34m\u001b[0m\u001b[0m\n",
      "\u001b[0;32m~/anaconda3/envs/my_pyomoenv2/lib/python3.9/site-packages/pyomo/contrib/parmest/parmest.py\u001b[0m in \u001b[0;36m_get_sample_list\u001b[0;34m(self, samplesize, num_samples, replacement)\u001b[0m\n\u001b[1;32m    634\u001b[0m                     \u001b[0mattempts\u001b[0m \u001b[0;34m+=\u001b[0m \u001b[0;36m1\u001b[0m\u001b[0;34m\u001b[0m\u001b[0;34m\u001b[0m\u001b[0m\n\u001b[1;32m    635\u001b[0m                     \u001b[0;32mif\u001b[0m \u001b[0mattempts\u001b[0m \u001b[0;34m>\u001b[0m \u001b[0mnum_samples\u001b[0m\u001b[0;34m:\u001b[0m \u001b[0;31m# arbitrary timeout limit\u001b[0m\u001b[0;34m\u001b[0m\u001b[0;34m\u001b[0m\u001b[0m\n\u001b[0;32m--> 636\u001b[0;31m                         raise RuntimeError(\"\"\"Internal error: timeout constructing \n\u001b[0m\u001b[1;32m    637\u001b[0m                                            \u001b[0ma\u001b[0m \u001b[0msample\u001b[0m\u001b[0;34m,\u001b[0m \u001b[0mthe\u001b[0m \u001b[0mdim\u001b[0m \u001b[0mof\u001b[0m \u001b[0mtheta\u001b[0m \u001b[0mmay\u001b[0m \u001b[0mbe\u001b[0m \u001b[0mtoo\u001b[0m\u001b[0;34m\u001b[0m\u001b[0;34m\u001b[0m\u001b[0m\n\u001b[1;32m    638\u001b[0m                                            close to the samplesize\"\"\")\n",
      "\u001b[0;31mRuntimeError\u001b[0m: Internal error: timeout constructing \n                                           a sample, the dim of theta may be too \n                                           close to the samplesize"
     ]
    }
   ],
   "source": []
  },
  {
   "cell_type": "code",
   "execution_count": null,
   "metadata": {},
   "outputs": [],
   "source": []
  }
 ],
 "metadata": {
  "kernelspec": {
   "display_name": "Python 3",
   "language": "python",
   "name": "python3"
  },
  "language_info": {
   "codemirror_mode": {
    "name": "ipython",
    "version": 3
   },
   "file_extension": ".py",
   "mimetype": "text/x-python",
   "name": "python",
   "nbconvert_exporter": "python",
   "pygments_lexer": "ipython3",
   "version": "3.9.0"
  }
 },
 "nbformat": 4,
 "nbformat_minor": 2
}
