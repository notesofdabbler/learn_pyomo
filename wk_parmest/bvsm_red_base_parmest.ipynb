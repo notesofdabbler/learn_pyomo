{
 "cells": [
  {
   "cell_type": "code",
   "execution_count": 1,
   "metadata": {
    "scrolled": true
   },
   "outputs": [],
   "source": [
    "#\n",
    "# https://github.com/rawlings-group/paresto/blob/master/examples/green_book/bvsm_red.m\n",
    "#"
   ]
  },
  {
   "cell_type": "code",
   "execution_count": 2,
   "metadata": {
    "scrolled": true
   },
   "outputs": [],
   "source": [
    "# Import libraries\n",
    "from pyomo.environ import *\n",
    "from pyomo.dae import *\n",
    "import pyomo.contrib.parmest.parmest as parmest\n",
    "import pandas as pd\n",
    "import numpy as np\n",
    "import matplotlib.pyplot as plt\n",
    "from scipy.interpolate import interp1d\n",
    "import scipy.stats as spstat\n",
    "from scipy.stats import f\n",
    "from pyomo.contrib.interior_point.inverse_reduced_hessian import inv_reduced_hessian_barrier"
   ]
  },
  {
   "cell_type": "code",
   "execution_count": 3,
   "metadata": {
    "scrolled": true
   },
   "outputs": [],
   "source": [
    "# load flow rate data\n",
    "flow_data = pd.read_csv('flow_data.csv')\n",
    "lc_data = pd.read_csv('lc_data.csv')\n",
    "teaf      = 0.00721\n",
    "teaden    = 0.728\n",
    "cBf = teaf"
   ]
  },
  {
   "cell_type": "code",
   "execution_count": 4,
   "metadata": {
    "scrolled": true
   },
   "outputs": [],
   "source": [
    "tQf = np.insert(flow_data['t'].values, 0, 0)\n",
    "Qf = np.insert(flow_data[\"Qf\"].values / teaden, 0, 0)"
   ]
  },
  {
   "cell_type": "code",
   "execution_count": 5,
   "metadata": {
    "scrolled": true
   },
   "outputs": [],
   "source": [
    "tlc = lc_data['t'].values\n",
    "lc = lc_data['lc_meas'].values"
   ]
  },
  {
   "cell_type": "code",
   "execution_count": 6,
   "metadata": {
    "scrolled": true
   },
   "outputs": [],
   "source": [
    "tout = np.sort(np.unique(np.concatenate((tQf, tlc))))"
   ]
  },
  {
   "cell_type": "code",
   "execution_count": 7,
   "metadata": {
    "scrolled": true
   },
   "outputs": [],
   "source": [
    "Qf_if = interp1d(tQf, Qf, 'previous', bounds_error = False)\n",
    "lc_if = interp1d(tlc, lc, 'previous', bounds_error = False)"
   ]
  },
  {
   "cell_type": "code",
   "execution_count": 8,
   "metadata": {
    "scrolled": true
   },
   "outputs": [],
   "source": [
    "data = [{'tout': tout, 'tlc': tlc, 'Qf_if': Qf_if, 'lc':lc, 'cBf': cBf}]"
   ]
  },
  {
   "cell_type": "code",
   "execution_count": 21,
   "metadata": {
    "scrolled": true
   },
   "outputs": [],
   "source": [
    "def bvsm_model(data):\n",
    "    \n",
    "    tout = data['tout']\n",
    "    tlc = data['tlc']\n",
    "    Qf_if = data['Qf_if']\n",
    "    lc_m = data['lc']\n",
    "    cBf = data['cBf']\n",
    "    \n",
    "    Vr0 = 2370\n",
    "    \n",
    "    m = ConcreteModel()\n",
    "    \n",
    "    m.k = Var(initialize = 2, bounds = (1e-12, 10))\n",
    "    m.nA0 = Var(initialize = 2.35, bounds = (2, 3))\n",
    "    \n",
    "    m.time = ContinuousSet(bounds = (0, max(tout)), initialize = tout)\n",
    "    \n",
    "    m.Vr = Var(m.time)\n",
    "    m.reps2 = Var(m.time)\n",
    "    m.y = Var(m.time, initialize = 1e-6, bounds = (0, 1))\n",
    "    \n",
    "    m.dVr = DerivativeVar(m.Vr)\n",
    "    m.dreps2 = DerivativeVar(m.reps2)\n",
    "    \n",
    "    def _dVr_eq(m, t):\n",
    "        if t == 0:\n",
    "            return Constraint.Skip\n",
    "        else:\n",
    "            return m.dVr[t] == float(Qf_if(t))\n",
    "    m.dVr_eq = Constraint(m.time, rule = _dVr_eq)\n",
    "    \n",
    "    def _dreps2_eq(m, t):\n",
    "        if t == 0:\n",
    "            return Constraint.Skip\n",
    "        else:\n",
    "            Badded = (m.Vr[t] - Vr0) * cBf\n",
    "            expr1 = m.k * (m.nA0 - Badded + m.reps2[t]) / (Badded - 2 * m.reps2[t] + 1e-6)\n",
    "        return m.dreps2[t] == float(Qf_if(t)) * cBf / (1.0 + expr1)\n",
    "    m.dreps2_eq = Constraint(m.time, rule = _dreps2_eq)\n",
    "    \n",
    "    def _ycalc(m, t):\n",
    "        if t == 0:\n",
    "            return Constraint.Skip\n",
    "        else:\n",
    "            Badded = (m.Vr[t] - Vr0) * cBf\n",
    "            nD = m.reps2[t]\n",
    "            nC = Badded - 2 * nD\n",
    "            return m.y[t] * (nC + 2 * nD) == nC \n",
    "    m.ycalc = Constraint(m.time, rule = _ycalc) \n",
    "\n",
    "    def sse_obj_rule(m):\n",
    "#        return sum((float(lc_if(t)) / m.y[t] - 1.0) ** 2 for t in tlc) \n",
    "        return sum((float(lc_if(t)) - m.y[t]) ** 2 for t in tlc) \n",
    "    m.sse_obj = Objective(rule=sse_obj_rule, sense = minimize)\n",
    "    \n",
    "    #disc = TransformationFactory('dae.collocation')\n",
    "    #disc.apply_to(m, nfe=200, ncp=2)\n",
    "    \n",
    "    disc = TransformationFactory('dae.collocation')\n",
    "    disc.apply_to(m, nfe=60, ncp = 1, scheme = 'LAGRANGE-RADAU')\n",
    "    \n",
    "    for t in m.time:\n",
    "        if t == 0:\n",
    "            m.Vr[t].fix(Vr0)\n",
    "            m.reps2[t].fix(0.0)\n",
    "        else:\n",
    "            m.Vr[t] = Vr0\n",
    "            m.Vr[t].setlb(Vr0)\n",
    "            m.reps2[t] = 0.0\n",
    "    \n",
    "    return m"
   ]
  },
  {
   "cell_type": "code",
   "execution_count": 22,
   "metadata": {
    "scrolled": true
   },
   "outputs": [
    {
     "name": "stdout",
     "output_type": "stream",
     "text": [
      "WARNING: More finite elements were found in ContinuousSet 'time' than the\n",
      "    number of finite elements specified in apply. The larger number of finite\n",
      "    elements will be used.\n",
      "Ipopt 3.14.5: \n",
      "\n",
      "******************************************************************************\n",
      "This program contains Ipopt, a library for large-scale nonlinear optimization.\n",
      " Ipopt is released as open source code under the Eclipse Public License (EPL).\n",
      "         For more information visit https://github.com/coin-or/Ipopt\n",
      "******************************************************************************\n",
      "\n",
      "This is Ipopt version 3.14.5, running with linear solver ma27.\n",
      "\n",
      "Number of nonzeros in equality constraint Jacobian...:     1753\n",
      "Number of nonzeros in inequality constraint Jacobian.:        0\n",
      "Number of nonzeros in Lagrangian Hessian.............:      974\n",
      "\n",
      "Total number of variables............................:      587\n",
      "                     variables with only lower bounds:      117\n",
      "                variables with lower and upper bounds:      119\n",
      "                     variables with only upper bounds:        0\n",
      "Total number of equality constraints.................:      585\n",
      "Total number of inequality constraints...............:        0\n",
      "        inequality constraints with only lower bounds:        0\n",
      "   inequality constraints with lower and upper bounds:        0\n",
      "        inequality constraints with only upper bounds:        0\n",
      "\n",
      "iter    objective    inf_pr   inf_du lg(mu)  ||d||  lg(rg) alpha_du alpha_pr  ls\n",
      "   0  1.6370620e-01 2.63e+00 1.00e+00  -1.0 0.00e+00    -  0.00e+00 0.00e+00   0\n",
      "   1  1.3862337e-01 2.40e+00 6.27e+02  -1.0 6.01e+02    -  3.76e-02 8.68e-02f  1\n",
      "   2  7.8320105e-02 1.64e+00 4.58e+02  -1.0 5.49e+02    -  3.38e-02 3.18e-01f  1\n",
      "   3  5.0236676e-02 1.60e+00 4.47e+02  -1.0 3.74e+02    -  4.88e-02 2.09e-02f  1\n",
      "   4  1.8395256e-01 9.55e-01 1.48e+04  -1.0 3.66e+02   2.0 9.54e-02 4.05e-01f  1\n",
      "   5  1.9235563e-01 9.53e-01 1.48e+04  -1.0 2.18e+02   1.5 8.94e-03 2.31e-03h  1\n",
      "   6  1.7347320e-01 7.97e-01 1.24e+04  -1.0 2.17e+02    -  4.54e-01 1.64e-01f  1\n",
      "   7  1.7352031e-01 7.95e-01 1.23e+04  -1.0 1.82e+02    -  1.36e-01 2.55e-03h  1\n",
      "   8  1.0722252e-01 3.10e-01 4.82e+03  -1.0 1.81e+02    -  9.71e-03 6.10e-01f  1\n",
      "   9  1.1566693e-01 3.00e-01 4.67e+03  -1.0 7.07e+01    -  6.81e-01 3.11e-02h  1\n",
      "iter    objective    inf_pr   inf_du lg(mu)  ||d||  lg(rg) alpha_du alpha_pr  ls\n",
      "  10  1.1653284e-01 3.00e-01 4.67e+03  -1.0 6.85e+01    -  6.39e-03 7.04e-04h  1\n",
      "  11  1.7574535e-01 2.11e-01 3.28e+03  -1.0 6.85e+01    -  3.13e-03 2.96e-01f  1\n",
      "  12  5.0308697e-01 2.15e-02 5.88e+02  -1.0 4.82e+01    -  9.35e-01 1.00e+00f  1\n",
      "  13  1.3817085e+00 1.14e-03 7.16e+02  -1.0 8.25e-01    -  3.14e-01 9.88e-01h  1\n",
      "  14  1.3339158e+00 1.02e-03 1.55e+03  -1.0 1.90e+00   1.0 7.00e-01 5.66e-02H  1\n",
      "  15  2.6862904e+00 1.16e-03 2.96e+03  -1.0 1.75e+00    -  4.05e-02 9.71e-01H  1\n",
      "  16  1.9002729e+00 7.53e-04 3.07e+03  -1.0 4.57e+00   0.6 1.00e+00 5.62e-01H  1\n",
      "  17  1.4444057e+00 7.51e-04 3.31e+03  -1.0 1.06e+01    -  1.03e-01 5.86e-02f  3\n",
      "  18  1.2268240e+00 7.67e-04 2.78e+04  -1.0 1.58e+01    -  4.32e-01 1.39e-02h  4\n",
      "  19  9.0334721e-01 8.74e-04 1.37e+05  -1.0 1.04e+01    -  1.00e+00 8.83e-02h  2\n",
      "iter    objective    inf_pr   inf_du lg(mu)  ||d||  lg(rg) alpha_du alpha_pr  ls\n",
      "  20  8.8070772e-01 8.26e-04 2.51e+05  -1.0 9.31e+00    -  5.77e-01 9.92e-02h  1\n",
      "  21  1.0024941e+00 8.27e-04 3.57e+04  -1.0 2.60e+00    -  1.33e-01 9.00e-03h  1\n",
      "  22  1.4229536e+00 8.79e-04 3.35e+04  -1.0 2.59e+00    -  2.28e-01 2.76e-02f  3\n",
      "  23  1.7871859e+00 9.04e-04 3.71e+04  -1.0 2.66e+00    -  6.24e-01 2.02e-02h  3\n",
      "  24  2.0879293e+00 9.15e-04 3.67e+04  -1.0 2.65e+00    -  1.09e-02 1.52e-02f  3\n",
      "  25  3.1386734e+00 9.52e-04 2.34e+04  -1.0 5.10e-01    -  1.76e-02 2.39e-01f  1\n",
      "  26  3.1008498e+00 1.31e-04 1.51e+03  -1.0 5.98e-02    -  2.12e-01 1.00e+00f  1\n",
      "  27  3.0087620e+00 3.59e-07 1.26e+01  -1.0 1.07e-02    -  7.02e-01 1.00e+00f  1\n",
      "  28  8.3979574e-01 2.20e-03 1.15e+01  -1.0 3.14e-01    -  9.63e-01 1.00e+00f  1\n",
      "  29  1.3031351e+00 1.81e-03 3.82e+01  -1.0 3.23e+00    -  1.62e-01 1.00e+00f  1\n",
      "iter    objective    inf_pr   inf_du lg(mu)  ||d||  lg(rg) alpha_du alpha_pr  ls\n",
      "  30  1.3584349e+00 2.98e-04 8.78e-01  -1.0 1.85e-01   0.1 1.00e+00 1.00e+00f  1\n",
      "  31  9.6693631e-01 3.70e-05 2.14e+01  -2.5 6.77e-02  -0.4 7.81e-01 1.00e+00f  1\n",
      "  32  1.9361210e-01 5.81e-04 5.97e-01  -2.5 2.08e-01    -  9.71e-01 1.00e+00f  1\n",
      "  33  8.8753123e-02 1.09e-02 2.07e+01  -2.5 9.74e+00    -  3.29e-01 6.72e-01f  1\n",
      "  34  8.2947252e-02 1.08e-02 2.10e+01  -2.5 3.48e+01    -  1.27e-02 1.59e-02h  1\n",
      "  35  8.2779149e-04 1.02e-02 1.72e+01  -2.5 1.88e+00    -  6.20e-02 5.26e-02h  1\n",
      "  36  3.3784122e-02 9.70e-03 1.36e+01  -2.5 1.71e+00    -  1.88e-01 4.81e-02h  1\n",
      "  37  7.8209449e-02 9.41e-03 4.46e+01  -2.5 1.54e+00    -  4.10e-01 2.90e-02h  1\n",
      "  38  8.0290978e-02 9.40e-03 1.34e+03  -2.5 1.43e+00    -  3.77e-01 1.81e-03h  1\n",
      "  39r 8.0290978e-02 9.40e-03 1.00e+03  -2.0 0.00e+00    -  0.00e+00 3.07e-07R  6\n",
      "iter    objective    inf_pr   inf_du lg(mu)  ||d||  lg(rg) alpha_du alpha_pr  ls\n",
      "  40r 9.0681234e-02 8.01e-03 9.96e+02  -2.0 1.75e+01    -  4.87e-03 1.01e-02f  1\n",
      "  41  9.0724165e-02 8.01e-03 9.09e+03  -2.5 7.64e-01    -  3.67e-01 1.00e-04h  1\n",
      "  42  9.0824878e-02 8.01e-03 1.99e+07  -2.5 7.30e-01    -  4.97e-01 2.61e-04h  1\n",
      "  43  9.0867861e-02 8.01e-03 1.06e+11  -2.5 7.27e-01    -  5.94e-01 1.12e-04h  1\n",
      "  44r 9.0867861e-02 8.01e-03 1.00e+03  -2.1 0.00e+00    -  0.00e+00 1.65e-07R  2\n",
      "  45r 9.4080619e-02 7.28e-03 9.97e+02  -2.1 5.80e+00    -  5.06e-03 1.45e-02f  1\n",
      "  46r 9.6090111e-02 6.61e-03 9.85e+02  -2.1 1.13e+01    -  1.08e-02 8.29e-03f  1\n",
      "  47  1.8063066e-01 6.33e-03 2.20e+04  -2.5 4.39e-01    -  2.74e-05 5.80e-01h  1\n",
      "  48  1.5574859e-01 6.64e-03 2.01e+04  -2.5 3.36e-01    -  6.84e-03 8.49e-01f  1\n",
      "  49  1.3556527e-01 6.63e-03 1.97e+04  -2.5 3.57e+01   0.9 7.49e-03 5.94e-03f  1\n",
      "iter    objective    inf_pr   inf_du lg(mu)  ||d||  lg(rg) alpha_du alpha_pr  ls\n",
      "  50  1.3549186e-01 6.63e-03 1.97e+04  -2.5 2.01e+01   1.4 1.67e-02 2.99e-05h  1\n",
      "  51  9.4216667e-02 6.20e-03 1.31e+04  -2.5 9.88e-01    -  1.01e-01 1.70e-01f  1\n",
      "  52  9.3965366e-02 6.20e-03 1.31e+04  -2.5 1.28e+01   0.9 8.43e-03 6.09e-05h  1\n",
      "  53  8.3941851e-02 5.53e-03 9.58e+03  -2.5 1.89e-01    -  5.10e-01 1.40e-01h  1\n",
      "  54  3.9297518e-02 4.28e-03 3.20e+04  -2.5 1.96e-01    -  1.84e-01 8.00e-01f  1\n",
      "  55  2.8292413e-02 3.26e-03 2.37e+04  -2.5 2.79e-01    -  4.02e-01 3.22e-01f  1\n",
      "  56  1.8672880e-01 1.28e-03 2.19e+04  -2.5 3.69e-01    -  8.00e-01 1.00e+00f  1\n",
      "  57  5.9524663e-01 7.60e-04 2.56e+04  -2.5 7.37e-01    -  6.36e-01 5.00e-01h  2\n",
      "  58  1.2192007e+00 6.61e-04 2.10e+04  -2.5 1.05e+00    -  1.54e-03 5.00e-01h  2\n",
      "  59  1.0107247e+00 3.78e-06 2.91e+02  -2.5 6.96e-02    -  2.99e-01 1.00e+00f  1\n",
      "iter    objective    inf_pr   inf_du lg(mu)  ||d||  lg(rg) alpha_du alpha_pr  ls\n",
      "  60  9.4875799e-01 3.46e-06 9.84e-01  -2.5 7.07e-02   0.4 9.92e-01 1.00e+00f  1\n",
      "  61  2.8769918e-02 2.56e-03 2.61e+00  -2.5 2.19e+00    -  5.31e-01 1.00e+00F  1\n",
      "  62  2.1138593e-02 9.60e-04 3.54e+00  -2.5 1.36e-01    -  1.00e+00 1.00e+00h  1\n",
      "  63  3.5363975e-02 2.88e-04 5.85e-01  -2.5 1.31e-01    -  1.00e+00 1.00e+00h  1\n",
      "  64  5.1551911e-02 5.75e-05 7.95e-02  -2.5 7.88e-02    -  1.00e+00 1.00e+00h  1\n",
      "  65  4.6739018e-02 8.20e-04 3.43e-02  -2.5 3.52e-01    -  5.10e-01 1.00e+00h  1\n",
      "  66  3.1362822e-02 8.12e-04 5.37e-01  -2.5 8.39e-01    -  6.76e-01 1.00e+00H  1\n",
      "  67  3.4547819e-02 2.40e-05 2.15e-02  -2.5 1.69e-01    -  1.00e+00 1.00e+00h  1\n",
      "  68  3.9038318e-03 5.84e-04 6.78e-02  -3.8 3.27e-01    -  8.61e-01 1.00e+00f  1\n",
      "  69  7.0995793e-04 9.58e-05 8.69e-03  -3.8 3.10e-01    -  1.00e+00 1.00e+00h  1\n",
      "iter    objective    inf_pr   inf_du lg(mu)  ||d||  lg(rg) alpha_du alpha_pr  ls\n",
      "  70  4.1107470e-04 3.01e-05 1.09e-03  -3.8 2.03e-01    -  1.00e+00 1.00e+00h  1\n",
      "  71  1.3037349e-04 3.68e-05 3.38e-03  -5.7 2.25e-01    -  9.22e-01 1.00e+00h  1\n",
      "  72  1.2574707e-04 3.52e-06 9.90e-05  -5.7 9.83e-02    -  1.00e+00 1.00e+00h  1\n",
      "  73  1.2566890e-04 1.37e-08 3.78e-07  -5.7 7.07e-03    -  1.00e+00 1.00e+00h  1\n",
      "  74  1.2561029e-04 2.46e-08 1.05e-06  -8.6 6.76e-03    -  9.99e-01 1.00e+00h  1\n",
      "  75  1.2561003e-04 1.33e-12 2.53e-11  -8.6 6.42e-05    -  1.00e+00 1.00e+00h  1\n",
      "\n",
      "Number of Iterations....: 75\n",
      "\n",
      "                                   (scaled)                 (unscaled)\n",
      "Objective...............:   1.2561003123133497e-04    1.2561003123133497e-04\n",
      "Dual infeasibility......:   2.5250470871447509e-11    2.5250470871447509e-11\n",
      "Constraint violation....:   1.3342174587371858e-12    1.3342174587371858e-12\n",
      "Variable bound violation:   0.0000000000000000e+00    0.0000000000000000e+00\n",
      "Complementarity.........:   2.5060220494827596e-09    2.5060220494827596e-09\n",
      "Overall NLP error.......:   2.5060220494827596e-09    2.5060220494827596e-09\n",
      "\n",
      "\n",
      "Number of objective function evaluations             = 121\n",
      "Number of objective gradient evaluations             = 75\n",
      "Number of equality constraint evaluations            = 121\n",
      "Number of inequality constraint evaluations          = 0\n",
      "Number of equality constraint Jacobian evaluations   = 78\n",
      "Number of inequality constraint Jacobian evaluations = 0\n",
      "Number of Lagrangian Hessian evaluations             = 75\n",
      "Total seconds in IPOPT                               = 0.083\n",
      "\n",
      "EXIT: Optimal Solution Found.\n"
     ]
    },
    {
     "data": {
      "text/plain": [
       "{'Problem': [{'Lower bound': -inf, 'Upper bound': inf, 'Number of objectives': 1, 'Number of constraints': 585, 'Number of variables': 587, 'Sense': 'unknown'}], 'Solver': [{'Status': 'ok', 'Message': 'Ipopt 3.14.5\\\\x3a Optimal Solution Found', 'Termination condition': 'optimal', 'Id': 0, 'Error rc': 0, 'Time': 0.10067129135131836}], 'Solution': [OrderedDict([('number of solutions', 0), ('number of solutions displayed', 0)])]}"
      ]
     },
     "execution_count": 22,
     "metadata": {},
     "output_type": "execute_result"
    }
   ],
   "source": [
    "m = bvsm_model(data[0])\n",
    "solver = SolverFactory('ipopt')\n",
    "solver.solve(m, tee = True)"
   ]
  },
  {
   "cell_type": "code",
   "execution_count": 23,
   "metadata": {
    "scrolled": true
   },
   "outputs": [
    {
     "data": {
      "text/plain": [
       "[2.66065318241366, 2.34445037331029]"
      ]
     },
     "execution_count": 23,
     "metadata": {},
     "output_type": "execute_result"
    }
   ],
   "source": [
    "[m.k(), m.nA0()]"
   ]
  },
  {
   "cell_type": "code",
   "execution_count": 24,
   "metadata": {},
   "outputs": [
    {
     "name": "stdout",
     "output_type": "stream",
     "text": [
      "Ipopt 3.14.5: bound_relax_factor=0\n",
      "honor_original_bounds=no\n",
      "\n",
      "\n",
      "******************************************************************************\n",
      "This program contains Ipopt, a library for large-scale nonlinear optimization.\n",
      " Ipopt is released as open source code under the Eclipse Public License (EPL).\n",
      "         For more information visit https://github.com/coin-or/Ipopt\n",
      "******************************************************************************\n",
      "\n",
      "This is Ipopt version 3.14.5, running with linear solver ma27.\n",
      "\n",
      "Number of nonzeros in equality constraint Jacobian...:     1753\n",
      "Number of nonzeros in inequality constraint Jacobian.:        0\n",
      "Number of nonzeros in Lagrangian Hessian.............:      974\n",
      "\n",
      "Total number of variables............................:      587\n",
      "                     variables with only lower bounds:      117\n",
      "                variables with lower and upper bounds:      119\n",
      "                     variables with only upper bounds:        0\n",
      "Total number of equality constraints.................:      585\n",
      "Total number of inequality constraints...............:        0\n",
      "        inequality constraints with only lower bounds:        0\n",
      "   inequality constraints with lower and upper bounds:        0\n",
      "        inequality constraints with only upper bounds:        0\n",
      "\n",
      "iter    objective    inf_pr   inf_du lg(mu)  ||d||  lg(rg) alpha_du alpha_pr  ls\n",
      "   0  1.2561003e-04 2.50e+00 1.00e+00  -1.0 0.00e+00    -  0.00e+00 0.00e+00   0\n",
      "   1  2.2631706e-01 7.61e-04 7.21e+00  -1.0 2.25e+01    -  7.79e-01 1.00e+00f  1\n",
      "   2  1.2024647e+00 3.34e-03 1.34e+01  -1.0 1.28e+00    -  9.11e-01 1.00e+00f  1\n",
      "   3  1.0161996e+00 7.44e-04 5.24e+00  -1.0 6.46e-01    -  6.95e-01 1.00e+00h  1\n",
      "   4  1.0894155e+00 1.16e-04 8.89e-01  -1.0 3.89e-01    -  1.00e+00 1.00e+00f  1\n",
      "   5  7.6836360e-01 4.46e-05 9.23e+00  -1.7 3.04e-01    -  8.10e-01 1.00e+00f  1\n",
      "   6  3.8957187e-01 7.97e-04 9.33e-01  -1.7 3.26e-01    -  1.00e+00 1.00e+00f  1\n",
      "   7  3.5541565e-01 3.01e-04 1.25e-01  -1.7 3.32e-01    -  1.00e+00 1.00e+00h  1\n",
      "   8  1.1424912e-01 2.48e-05 1.04e+00  -2.5 1.21e-01    -  7.74e-01 1.00e+00f  1\n",
      "   9  4.4697524e-02 2.71e-04 5.33e-02  -2.5 1.89e-01    -  1.00e+00 1.00e+00f  1\n",
      "iter    objective    inf_pr   inf_du lg(mu)  ||d||  lg(rg) alpha_du alpha_pr  ls\n",
      "  10  3.4218744e-02 2.72e-05 4.68e-03  -2.5 1.10e-01    -  1.00e+00 1.00e+00h  1\n",
      "  11  4.1318477e-03 3.94e-04 7.42e-02  -3.8 2.64e-01    -  8.88e-01 1.00e+00f  1\n",
      "  12  7.2456955e-04 8.70e-05 1.00e-02  -3.8 3.29e-01    -  1.00e+00 1.00e+00h  1\n",
      "  13  4.1679666e-04 2.86e-05 1.59e-03  -3.8 2.16e-01    -  1.00e+00 1.00e+00h  1\n",
      "  14  4.1789029e-04 4.10e-08 5.21e-06  -3.8 9.75e-03    -  1.00e+00 1.00e+00h  1\n",
      "  15  1.3122128e-04 4.15e-05 3.22e-03  -5.7 2.21e-01    -  9.24e-01 1.00e+00h  1\n",
      "  16  1.2576622e-04 4.04e-06 1.11e-04  -5.7 1.05e-01    -  1.00e+00 1.00e+00h  1\n",
      "  17  1.2566900e-04 2.20e-08 5.21e-07  -5.7 8.80e-03    -  1.00e+00 1.00e+00h  1\n",
      "  18  1.2561029e-04 2.47e-08 1.05e-06  -8.6 6.77e-03    -  9.99e-01 1.00e+00h  1\n",
      "  19  1.2561003e-04 1.34e-12 2.53e-11  -8.6 6.43e-05    -  1.00e+00 1.00e+00h  1\n",
      "\n",
      "Number of Iterations....: 19\n",
      "\n",
      "                                   (scaled)                 (unscaled)\n",
      "Objective...............:   1.2561003123137047e-04    1.2561003123137047e-04\n",
      "Dual infeasibility......:   2.5285563641269833e-11    2.5285563641269833e-11\n",
      "Constraint violation....:   1.3363719852943490e-12    1.3363719852943490e-12\n",
      "Variable bound violation:   0.0000000000000000e+00    0.0000000000000000e+00\n",
      "Complementarity.........:   2.5060222425641611e-09    2.5060222425641611e-09\n",
      "Overall NLP error.......:   2.5060222425641611e-09    2.5060222425641611e-09\n",
      "\n",
      "\n",
      "Number of objective function evaluations             = 20\n",
      "Number of objective gradient evaluations             = 20\n",
      "Number of equality constraint evaluations            = 20\n",
      "Number of inequality constraint evaluations          = 0\n",
      "Number of equality constraint Jacobian evaluations   = 20\n",
      "Number of inequality constraint Jacobian evaluations = 0\n",
      "Number of Lagrangian Hessian evaluations             = 19\n",
      "Total seconds in IPOPT                               = 0.019\n",
      "\n",
      "EXIT: Optimal Solution Found.\n"
     ]
    }
   ],
   "source": [
    "solve_result, inv_red_hes = inv_reduced_hessian_barrier(m, \n",
    "                    independent_variables= [m.k, m.nA0],\n",
    "                    tee=True)"
   ]
  },
  {
   "cell_type": "code",
   "execution_count": 30,
   "metadata": {},
   "outputs": [
    {
     "data": {
      "text/plain": [
       "'sse:0.00012561003123137047, mult_factor:6.5698353020765765'"
      ]
     },
     "execution_count": 30,
     "metadata": {},
     "output_type": "execute_result"
    }
   ],
   "source": [
    "n = len(data[0]['tlc'])\n",
    "p = 2\n",
    "sse = m.sse_obj()\n",
    "mult_factor = p * f.ppf(0.95, p, n-p)\n",
    "f'sse:{sse}, mult_factor:{mult_factor}'"
   ]
  },
  {
   "cell_type": "code",
   "execution_count": 31,
   "metadata": {},
   "outputs": [
    {
     "data": {
      "text/plain": [
       "array([[ 7.46776646e-03, -6.48115155e-05],\n",
       "       [-6.48115155e-05,  1.16022761e-06]])"
      ]
     },
     "execution_count": 31,
     "metadata": {},
     "output_type": "execute_result"
    }
   ],
   "source": [
    "cov_est = 2 * sse / (n - p) * inv_red_hes\n",
    "cov_est"
   ]
  },
  {
   "cell_type": "code",
   "execution_count": 32,
   "metadata": {},
   "outputs": [
    {
     "data": {
      "text/plain": [
       "array([0.22149943, 0.00276089])"
      ]
     },
     "execution_count": 32,
     "metadata": {},
     "output_type": "execute_result"
    }
   ],
   "source": [
    "delta_param = np.sqrt(mult_factor * np.diag(cov_est))\n",
    "delta_param"
   ]
  },
  {
   "cell_type": "code",
   "execution_count": 15,
   "metadata": {
    "scrolled": true
   },
   "outputs": [
    {
     "name": "stdout",
     "output_type": "stream",
     "text": [
      "WARNING: More finite elements were found in ContinuousSet 'time' than the\n",
      "    number of finite elements specified in apply. The larger number of finite\n",
      "    elements will be used.\n",
      "Ipopt 3.14.5: \n",
      "\n",
      "******************************************************************************\n",
      "This program contains Ipopt, a library for large-scale nonlinear optimization.\n",
      " Ipopt is released as open source code under the Eclipse Public License (EPL).\n",
      "         For more information visit https://github.com/coin-or/Ipopt\n",
      "******************************************************************************\n",
      "\n",
      "This is Ipopt version 3.14.5, running with linear solver ma27.\n",
      "\n",
      "Number of nonzeros in equality constraint Jacobian...:     1523\n",
      "Number of nonzeros in inequality constraint Jacobian.:        0\n",
      "Number of nonzeros in Lagrangian Hessian.............:      503\n",
      "\n",
      "Total number of variables............................:      587\n",
      "                     variables with only lower bounds:      118\n",
      "                variables with lower and upper bounds:      117\n",
      "                     variables with only upper bounds:        0\n",
      "Total number of equality constraints.................:      587\n",
      "Total number of inequality constraints...............:        0\n",
      "        inequality constraints with only lower bounds:        0\n",
      "   inequality constraints with lower and upper bounds:        0\n",
      "        inequality constraints with only upper bounds:        0\n",
      "\n",
      "iter    objective    inf_pr   inf_du lg(mu)  ||d||  lg(rg) alpha_du alpha_pr  ls\n",
      "   0  1.6370620e-01 2.37e+01 1.00e+00  -1.0 0.00e+00    -  0.00e+00 0.00e+00   0\n",
      "   1  2.9021865e+01 2.19e+01 2.93e+02  -1.0 6.01e+02    -  7.86e-04 7.72e-02h  1\n",
      "   2  2.2852046e-02 1.74e+01 1.53e+03  -1.0 5.54e+02    -  2.10e-03 2.06e-01f  1\n",
      "   3  1.8405938e+01 5.73e+00 1.44e+04  -1.0 4.40e+02    -  2.93e-01 6.70e-01f  1\n",
      "   4  2.3456104e-02 1.10e+00 1.02e+04  -1.0 1.45e+02    -  1.08e-01 8.07e-01f  1\n",
      "   5  3.3185672e-04 1.10e-02 1.50e+03  -1.0 2.80e+01    -  3.98e-01 9.90e-01f  1\n",
      "   6  1.2611719e-04 8.66e-05 1.35e+01  -1.0 3.68e-01    -  9.95e-01 9.92e-01h  1\n",
      "   7  1.2561017e-04 3.60e-09 5.55e-02  -1.0 6.08e-03    -  1.00e+00 1.00e+00h  1\n",
      "\n",
      "Number of Iterations....: 7\n",
      "\n",
      "                                   (scaled)                 (unscaled)\n",
      "Objective...............:   1.2561017332352650e-04    1.2561017332352650e-04\n",
      "Dual infeasibility......:   1.7347234759768071e-18    1.7347234759768071e-18\n",
      "Constraint violation....:   3.6038336759247613e-09    3.6038336759247613e-09\n",
      "Variable bound violation:   0.0000000000000000e+00    0.0000000000000000e+00\n",
      "Complementarity.........:   0.0000000000000000e+00    0.0000000000000000e+00\n",
      "Overall NLP error.......:   3.6038336759247613e-09    3.6038336759247613e-09\n",
      "\n",
      "\n",
      "Number of objective function evaluations             = 8\n",
      "Number of objective gradient evaluations             = 8\n",
      "Number of equality constraint evaluations            = 8\n",
      "Number of inequality constraint evaluations          = 0\n",
      "Number of equality constraint Jacobian evaluations   = 8\n",
      "Number of inequality constraint Jacobian evaluations = 0\n",
      "Number of Lagrangian Hessian evaluations             = 7\n",
      "Total seconds in IPOPT                               = 0.009\n",
      "\n",
      "EXIT: Optimal Solution Found.\n"
     ]
    },
    {
     "data": {
      "text/plain": [
       "{'Problem': [{'Lower bound': -inf, 'Upper bound': inf, 'Number of objectives': 1, 'Number of constraints': 587, 'Number of variables': 587, 'Sense': 'unknown'}], 'Solver': [{'Status': 'ok', 'Message': 'Ipopt 3.14.5\\\\x3a Optimal Solution Found', 'Termination condition': 'optimal', 'Id': 0, 'Error rc': 0, 'Time': 0.027635574340820312}], 'Solution': [OrderedDict([('number of solutions', 0), ('number of solutions displayed', 0)])]}"
      ]
     },
     "execution_count": 15,
     "metadata": {},
     "output_type": "execute_result"
    }
   ],
   "source": [
    "ms = bvsm_model(data[0])\n",
    "ms.k.fix(m.k())\n",
    "ms.nA0.fix(m.nA0())\n",
    "solver = SolverFactory('ipopt')\n",
    "solver.solve(ms, tee = True)"
   ]
  },
  {
   "cell_type": "code",
   "execution_count": 16,
   "metadata": {
    "scrolled": true
   },
   "outputs": [
    {
     "data": {
      "text/plain": [
       "<matplotlib.collections.PathCollection at 0x7f4ccf4cce80>"
      ]
     },
     "execution_count": 16,
     "metadata": {},
     "output_type": "execute_result"
    },
    {
     "data": {
      "image/png": "[encoded data removed]",
      "text/plain": [
       "<Figure size 432x288 with 1 Axes>"
      ]
     },
     "metadata": {
      "needs_background": "light"
     },
     "output_type": "display_data"
    }
   ],
   "source": [
    "fig, ax = plt.subplots()\n",
    "ax.plot(list(ms.time), [ms.y[t]() for t in ms.time])\n",
    "ax.scatter(data[0]['tlc'], data[0]['lc'])\n",
    "#ax.set_xlim(400, 900)\n",
    "#ax.set_ylim(0, 0.2)"
   ]
  },
  {
   "cell_type": "code",
   "execution_count": 17,
   "metadata": {
    "scrolled": true
   },
   "outputs": [
    {
     "data": {
      "text/plain": [
       "[<matplotlib.lines.Line2D at 0x7f4ccd442ac0>]"
      ]
     },
     "execution_count": 17,
     "metadata": {},
     "output_type": "execute_result"
    },
    {
     "data": {
      "image/png": "[encoded data removed]",
      "text/plain": [
       "<Figure size 432x288 with 1 Axes>"
      ]
     },
     "metadata": {
      "needs_background": "light"
     },
     "output_type": "display_data"
    }
   ],
   "source": [
    "fig, ax = plt.subplots()\n",
    "ax.plot(list(ms.time), [ms.Vr[t]() for t in ms.time])"
   ]
  },
  {
   "cell_type": "code",
   "execution_count": 18,
   "metadata": {},
   "outputs": [
    {
     "data": {
      "text/plain": [
       "[<matplotlib.lines.Line2D at 0x7f4ccd3af970>]"
      ]
     },
     "execution_count": 18,
     "metadata": {},
     "output_type": "execute_result"
    },
    {
     "data": {
      "image/png": "[encoded data removed]",
      "text/plain": [
       "<Figure size 432x288 with 1 Axes>"
      ]
     },
     "metadata": {
      "needs_background": "light"
     },
     "output_type": "display_data"
    }
   ],
   "source": [
    "fig, ax = plt.subplots()\n",
    "ax.plot(list(ms.time), [ms.reps2[t]() for t in ms.time])"
   ]
  },
  {
   "cell_type": "code",
   "execution_count": null,
   "metadata": {},
   "outputs": [],
   "source": []
  },
  {
   "cell_type": "code",
   "execution_count": null,
   "metadata": {},
   "outputs": [],
   "source": []
  }
 ],
 "metadata": {
  "kernelspec": {
   "display_name": "Python 3 (ipykernel)",
   "language": "python",
   "name": "python3"
  },
  "language_info": {
   "codemirror_mode": {
    "name": "ipython",
    "version": 3
   },
   "file_extension": ".py",
   "mimetype": "text/x-python",
   "name": "python",
   "nbconvert_exporter": "python",
   "pygments_lexer": "ipython3",
   "version": "3.8.10"
  }
 },
 "nbformat": 4,
 "nbformat_minor": 2
}
