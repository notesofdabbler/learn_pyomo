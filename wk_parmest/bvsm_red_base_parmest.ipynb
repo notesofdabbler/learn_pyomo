{
 "cells": [
  {
   "cell_type": "code",
   "execution_count": 1,
   "metadata": {
    "scrolled": true
   },
   "outputs": [],
   "source": [
    "#\n",
    "# https://github.com/rawlings-group/paresto/blob/master/examples/green_book/bvsm_red.m\n",
    "#"
   ]
  },
  {
   "cell_type": "code",
   "execution_count": 2,
   "metadata": {
    "scrolled": true
   },
   "outputs": [],
   "source": [
    "# Import libraries\n",
    "from pyomo.environ import *\n",
    "from pyomo.dae import *\n",
    "import pyomo.contrib.parmest.parmest as parmest\n",
    "import pandas as pd\n",
    "import numpy as np\n",
    "import matplotlib.pyplot as plt\n",
    "from scipy.interpolate import interp1d\n",
    "import scipy.stats as spstat\n",
    "from scipy.stats import f\n",
    "from pyomo.contrib.interior_point.inverse_reduced_hessian import inv_reduced_hessian_barrier"
   ]
  },
  {
   "cell_type": "code",
   "execution_count": 3,
   "metadata": {
    "scrolled": true
   },
   "outputs": [],
   "source": [
    "# load flow rate data\n",
    "flow_data = pd.read_csv('flow_data.csv')\n",
    "lc_data = pd.read_csv('lc_data.csv')\n",
    "teaf      = 0.00721\n",
    "teaden    = 0.728\n",
    "cBf = teaf"
   ]
  },
  {
   "cell_type": "code",
   "execution_count": 4,
   "metadata": {
    "scrolled": true
   },
   "outputs": [],
   "source": [
    "tQf = np.insert(flow_data['t'].values, 0, 0)\n",
    "Qf = np.insert(flow_data[\"Qf\"].values / teaden, 0, 0)"
   ]
  },
  {
   "cell_type": "code",
   "execution_count": 5,
   "metadata": {},
   "outputs": [
    {
     "data": {
      "text/plain": [
       "<matplotlib.collections.PathCollection at 0x7f7501a3e790>"
      ]
     },
     "execution_count": 5,
     "metadata": {},
     "output_type": "execute_result"
    },
    {
     "data": {
      "image/png": "[encoded data removed]",
      "text/plain": [
       "<Figure size 432x288 with 1 Axes>"
      ]
     },
     "metadata": {
      "needs_background": "light"
     },
     "output_type": "display_data"
    }
   ],
   "source": [
    "fig, ax = plt.subplots()\n",
    "ax.scatter(tQf, Qf)"
   ]
  },
  {
   "cell_type": "code",
   "execution_count": 6,
   "metadata": {
    "scrolled": true
   },
   "outputs": [],
   "source": [
    "tlc = lc_data['t'].values\n",
    "lc = lc_data['lc_meas'].values"
   ]
  },
  {
   "cell_type": "code",
   "execution_count": 7,
   "metadata": {
    "scrolled": true
   },
   "outputs": [],
   "source": [
    "Qf_if = interp1d(tQf, Qf, 'previous', bounds_error = False)\n",
    "lc_if = interp1d(tlc, lc, 'previous', bounds_error = False)"
   ]
  },
  {
   "cell_type": "code",
   "execution_count": 19,
   "metadata": {},
   "outputs": [
    {
     "data": {
      "text/plain": [
       "array([  0,   9,  19,  29,  39,  49,  59,  69,  79,  89,  99, 109, 119,\n",
       "       129, 139, 149, 159, 169, 179, 189, 199, 209, 219, 229, 239, 249,\n",
       "       259, 269, 279, 289, 299, 309, 319, 329, 339, 349, 359, 369, 379,\n",
       "       389, 399, 409, 414, 419, 424, 429, 434, 439, 444, 449, 459, 469,\n",
       "       479, 489, 493, 499, 503, 509, 513, 519, 523, 529, 533, 539, 549,\n",
       "       559, 569, 579, 582, 589, 592, 599, 602, 609, 612, 619, 621, 629,\n",
       "       631, 639, 641, 649, 651, 659, 661, 669, 671, 679, 681, 689, 690,\n",
       "       699, 700, 709, 710, 719, 720, 729, 730, 739, 740, 749, 750, 759,\n",
       "       769, 779, 789, 799, 809, 819, 829, 839, 848, 849, 858, 859, 868,\n",
       "       869])"
      ]
     },
     "execution_count": 19,
     "metadata": {},
     "output_type": "execute_result"
    }
   ],
   "source": [
    "#tout = np.unique(np.sort(np.concatenate((np.linspace(0.0, 869.0, num = 300), tQf, tlc))))\n",
    "tout = np.unique(np.sort(np.concatenate((tQf, tlc))))\n",
    "tout"
   ]
  },
  {
   "cell_type": "code",
   "execution_count": 20,
   "metadata": {
    "scrolled": true
   },
   "outputs": [],
   "source": [
    "data = [{'tout': tout, 'tlc': tlc, 'Qf_if': Qf_if, 'lc':lc, 'cBf': cBf}]"
   ]
  },
  {
   "cell_type": "code",
   "execution_count": 21,
   "metadata": {
    "scrolled": true
   },
   "outputs": [],
   "source": [
    "def bvsm_model(data):\n",
    "    \n",
    "    tout = data['tout']\n",
    "    tlc = data['tlc']\n",
    "    Qf_if = data['Qf_if']\n",
    "    lc_m = data['lc']\n",
    "    cBf = data['cBf']\n",
    "    \n",
    "    Vr0 = 2370\n",
    "    \n",
    "    m = ConcreteModel()\n",
    "    \n",
    "    m.k = Var(initialize = 2.0, bounds = (0, 10))\n",
    "    m.nA0 = Var(initialize = 2.35, bounds = (2, 3))\n",
    "    \n",
    "    m.time = ContinuousSet(bounds = (0, max(tout)), initialize = tout)\n",
    "    \n",
    "#    m.Vr = Var(m.time)\n",
    "#    m.reps2 = Var(m.time)\n",
    "    m.Vr = Var(m.time, initialize = Vr0, bounds = (Vr0,None))\n",
    "    m.reps2 = Var(m.time, initialize = 0)\n",
    "    m.y = Var(m.time, initialize = 1e-6, bounds = (0, 1))\n",
    "    \n",
    "    m.Badded_v = Var(m.time, initialize = 0, bounds = (0, None))\n",
    "    m.expr1_v = Var(m.time, initialize = 0)\n",
    "    \n",
    "    m.dVr = DerivativeVar(m.Vr)\n",
    "    m.dreps2 = DerivativeVar(m.reps2)\n",
    "    \n",
    "    def _dVr_eq(m, t):\n",
    "        if t == 0:\n",
    "            return Constraint.Skip\n",
    "        else:\n",
    "            return m.dVr[t] == float(Qf_if(t))\n",
    "    m.dVr_eq = Constraint(m.time, rule = _dVr_eq)\n",
    "    \n",
    "    def _calc_Badded(m, t):\n",
    "        if t == 0:\n",
    "            return Constraint.Skip\n",
    "        else:\n",
    "            expr = m.Badded_v[t] == (m.Vr[t] - Vr0) * cBf\n",
    "        return expr\n",
    "    m.Badded_cons = Constraint(m.time, rule = _calc_Badded)\n",
    "    \n",
    "    def _calc_expr1(m, t):\n",
    "        if t == 0:\n",
    "            return Constraint.Skip\n",
    "        else:\n",
    "            expr = m.expr1_v[t] * (m.Badded_v[t] - 2 * m.reps2[t] + 1e-6) == m.k * (m.nA0 - m.Badded_v[t] + m.reps2[t])\n",
    "        return expr\n",
    "    m.expr1_cons = Constraint(m.time, rule = _calc_expr1)\n",
    "    \n",
    "    def _dreps2_eq(m, t):\n",
    "        if t == 0:\n",
    "            return Constraint.Skip\n",
    "        else:\n",
    "#            Badded = (m.Vr[t] - Vr0) * cBf\n",
    "#            expr1 = m.k * (m.nA0 - Badded + m.reps2[t]) / (Badded - 2 * m.reps2[t] + 1e-6)\n",
    "#        return m.dreps2[t] == float(Qf_if(t)) * cBf / (1.0 + expr1)\n",
    "            expr = m.dreps2[t] * (1.0 + m.expr1_v[t]) == float(Qf_if(t)) * cBf\n",
    "        return expr\n",
    "    m.dreps2_eq = Constraint(m.time, rule = _dreps2_eq)\n",
    "    \n",
    "    def _ycalc(m, t):\n",
    "        if t == 0:\n",
    "            return Constraint.Skip\n",
    "        else:\n",
    "            Badded = (m.Vr[t] - Vr0) * cBf\n",
    "            nD = m.reps2[t]\n",
    "            nC = Badded - 2 * nD\n",
    "            return m.y[t] * (nC + 2 * nD) == nC \n",
    "    m.ycalc = Constraint(m.time, rule = _ycalc) \n",
    "    \n",
    "#    def _initcon(m):\n",
    "#        yield m.Vr[m.time.first()] == Vr0\n",
    "#        yield m.reps2[m.time.first()] == 0.0\n",
    "#    m.initcon = ConstraintList(rule = _initcon)\n",
    "\n",
    "    def sse_obj_rule(m):\n",
    "#        return sum((float(lc_if(t)) / m.y[t] - 1.0) ** 2 for t in tlc) \n",
    "        return sum((float(lc_if(t)) - m.y[t]) ** 2 for t in tlc) \n",
    "    m.sse_obj = Objective(rule=sse_obj_rule, sense = minimize)\n",
    "    \n",
    "    #disc = TransformationFactory('dae.collocation')\n",
    "    #disc.apply_to(m, nfe=200, ncp=2)\n",
    "    \n",
    "    disc = TransformationFactory('dae.collocation')\n",
    "    disc.apply_to(m, nfe=60, ncp = 1, scheme = 'LAGRANGE-RADAU')\n",
    "    \n",
    "    #disc = TransformationFactory('dae.finite_difference')\n",
    "    #disc.apply_to(m, nfe=300, scheme = 'BACKWARD')\n",
    "    \n",
    "    #disc = TransformationFactory('dae.finite_difference')\n",
    "    #disc.apply_to(m, nfe=1, scheme = 'BACKWARD')\n",
    "    \n",
    "    for t in m.time:\n",
    "        if t == 0:\n",
    "            m.Vr[t].fix(Vr0)\n",
    "            m.reps2[t].fix(0.0)\n",
    "        else:\n",
    "            m.Vr[t] = Vr0\n",
    "            m.Vr[t].setlb(Vr0)\n",
    "            m.reps2[t] = 0.0\n",
    "    \n",
    "    return m"
   ]
  },
  {
   "cell_type": "code",
   "execution_count": 22,
   "metadata": {},
   "outputs": [
    {
     "name": "stdout",
     "output_type": "stream",
     "text": [
      "WARNING: More finite elements were found in ContinuousSet 'time' than the\n",
      "    number of finite elements specified in apply. The larger number of finite\n",
      "    elements will be used.\n"
     ]
    }
   ],
   "source": [
    "m = bvsm_model(data[0])\n",
    "#m.k.fix(8.0)\n",
    "#m.nA0.fix(2.35)"
   ]
  },
  {
   "cell_type": "code",
   "execution_count": null,
   "metadata": {},
   "outputs": [],
   "source": [
    "### Declare all suffixes\n",
    "# Ipopt bound multipliers (obtained from solution)\n",
    "m.ipopt_zL_out = Suffix(direction=Suffix.IMPORT)\n",
    "m.ipopt_zU_out = Suffix(direction=Suffix.IMPORT)\n",
    "# Ipopt bound multipliers (sent to solver)\n",
    "m.ipopt_zL_in = Suffix(direction=Suffix.EXPORT)\n",
    "m.ipopt_zU_in = Suffix(direction=Suffix.EXPORT)\n",
    "# Obtain dual solutions from first solve and send to warm start\n",
    "m.dual = Suffix(direction=Suffix.IMPORT_EXPORT)\n"
   ]
  },
  {
   "cell_type": "code",
   "execution_count": null,
   "metadata": {},
   "outputs": [],
   "source": [
    "solver = SolverFactory('ipopt')\n",
    "solver.solve(m, tee = True)"
   ]
  },
  {
   "cell_type": "code",
   "execution_count": null,
   "metadata": {},
   "outputs": [],
   "source": [
    "m.k.free()\n",
    "m.nA0.free()\n",
    "solver = SolverFactory('ipopt')\n",
    "\n",
    "m.ipopt_zL_in.update(m.ipopt_zL_out)\n",
    "m.ipopt_zU_in.update(m.ipopt_zU_out)\n",
    "solver.options['warm_start_init_point'] = 'yes'\n",
    "solver.options['warm_start_bound_push'] = 1e-6\n",
    "solver.options['warm_start_mult_bound_push'] = 1e-6\n",
    "solver.options['mu_init'] = 1e-6"
   ]
  },
  {
   "cell_type": "code",
   "execution_count": 23,
   "metadata": {},
   "outputs": [
    {
     "name": "stdout",
     "output_type": "stream",
     "text": [
      "Ipopt 3.14.5: \n",
      "\n",
      "******************************************************************************\n",
      "This program contains Ipopt, a library for large-scale nonlinear optimization.\n",
      " Ipopt is released as open source code under the Eclipse Public License (EPL).\n",
      "         For more information visit https://github.com/coin-or/Ipopt\n",
      "******************************************************************************\n",
      "\n",
      "This is Ipopt version 3.14.5, running with linear solver ma27.\n",
      "\n",
      "Number of nonzeros in equality constraint Jacobian...:     2221\n",
      "Number of nonzeros in inequality constraint Jacobian.:        0\n",
      "Number of nonzeros in Lagrangian Hessian.............:      738\n",
      "\n",
      "Total number of variables............................:      821\n",
      "                     variables with only lower bounds:      234\n",
      "                variables with lower and upper bounds:      119\n",
      "                     variables with only upper bounds:        0\n",
      "Total number of equality constraints.................:      819\n",
      "Total number of inequality constraints...............:        0\n",
      "        inequality constraints with only lower bounds:        0\n",
      "   inequality constraints with lower and upper bounds:        0\n",
      "        inequality constraints with only upper bounds:        0\n",
      "\n",
      "iter    objective    inf_pr   inf_du lg(mu)  ||d||  lg(rg) alpha_du alpha_pr  ls\n",
      "   0  1.6370620e-01 4.68e+00 1.00e+00  -1.0 0.00e+00    -  0.00e+00 0.00e+00   0\n",
      "   1  2.0635134e-01 4.68e+00 2.04e+03  -1.0 6.01e+02    -  2.25e-03 3.72e-04h  1\n",
      "   2  3.2516185e-02 1.05e+02 2.04e+10  -1.0 1.25e+03    -  3.52e-03 1.00e+00f  1\n",
      "   3  3.2392430e-02 1.06e+02 2.04e+10  -1.0 2.15e+03   2.0 6.20e-04 1.11e-04h  2\n",
      "   4  3.2363843e-02 1.06e+02 2.04e+10  -1.0 1.78e+03   2.4 8.08e-04 3.08e-05h  3\n",
      "   5r 3.2363843e-02 1.06e+02 9.99e+02   2.0 0.00e+00   1.9 0.00e+00 2.95e-07R  9\n",
      "   6r 3.0173818e-02 2.68e+01 1.53e+03   2.0 1.05e+05    -  2.74e-02 9.91e-04f  1\n",
      "   7  1.9203429e-01 7.58e+00 3.01e+03  -1.0 1.34e+03    -  3.62e-01 1.00e+00h  1\n",
      "   8  1.8924612e-01 4.97e-01 5.36e+03  -1.0 3.76e+02    -  3.36e-01 1.00e+00h  1\n",
      "   9  1.8851489e-01 1.32e-01 1.21e+04  -1.0 3.91e+01    -  3.02e-01 1.00e+00f  1\n",
      "iter    objective    inf_pr   inf_du lg(mu)  ||d||  lg(rg) alpha_du alpha_pr  ls\n",
      "  10  1.9337449e-01 4.58e-02 2.20e+08  -1.0 2.14e+00   1.5 6.51e-01 9.24e-01h  1\n",
      "  11  1.9963825e-01 3.18e-02 1.54e+08  -1.0 1.76e+01    -  1.00e+00 2.91e-01h  1\n",
      "  12  1.9798036e-01 3.09e-02 1.46e+08  -1.0 7.64e+01    -  4.21e-04 5.54e-02f  2\n",
      "  13  1.9857053e-01 2.64e-02 1.24e+08  -1.0 6.38e+00   1.0 2.85e-01 1.45e-01h  1\n",
      "  14  1.9856877e-01 2.64e-02 1.24e+08  -1.0 1.71e+01   0.5 4.12e-01 7.09e-04h  1\n",
      "  15r 1.9856877e-01 2.64e-02 1.00e+03  -1.0 0.00e+00    -  0.00e+00 4.09e-07R 13\n",
      "  16r 1.9947905e-01 1.09e-02 1.00e+03  -1.0 1.36e+02    -  2.00e-02 4.71e-03f  1\n",
      "  17  1.9948795e-01 1.09e-02 3.00e+04  -1.0 8.96e+03    -  2.37e-01 7.80e-05h  1\n",
      "  18  1.9791510e-01 1.01e-02 1.69e+05  -1.0 4.62e+01    -  1.63e-01 8.71e-02f  1\n",
      "  19  1.8929978e-01 6.17e-02 6.07e+06  -1.0 4.93e+01    -  1.98e-01 4.34e-01f  1\n",
      "iter    objective    inf_pr   inf_du lg(mu)  ||d||  lg(rg) alpha_du alpha_pr  ls\n",
      "  20  1.8156263e-01 6.79e-02 5.64e+06  -1.0 4.98e+02    -  3.27e-02 3.12e-02f  1\n",
      "  21  1.8156953e-01 6.77e-02 6.07e+06  -1.0 2.19e+00   0.9 9.20e-01 2.80e-03h  1\n",
      "  22  1.8749620e-01 6.29e-02 5.51e+06  -1.0 8.40e+01    -  7.30e-02 1.25e-01h  1\n",
      "  23  1.9046500e-01 5.64e-02 5.29e+06  -1.0 4.19e+01    -  8.31e-01 1.27e-01h  2\n",
      "  24  1.9299916e-01 5.23e-02 3.89e+06  -1.0 4.95e+01    -  9.96e-03 9.59e-02h  2\n",
      "  25  1.9606462e-01 4.86e-02 4.14e+06  -1.0 5.10e+01    -  2.43e-01 1.15e-01h  3\n",
      "  26  1.9801834e-01 4.49e-02 7.74e+06  -1.0 3.72e+01    -  4.55e-01 1.03e-01h  3\n",
      "  27  1.9820898e-01 4.44e-02 1.50e+07  -1.0 3.26e+01    -  5.06e-01 1.16e-02h  6\n",
      "  28  2.0490276e-01 4.46e-02 1.70e+07  -1.0 3.35e+01    -  8.27e-01 3.94e-01h  1\n",
      "  29  2.0629372e-01 3.49e-02 1.91e+07  -1.0 1.06e+01    -  3.51e-01 2.78e-01h  1\n",
      "iter    objective    inf_pr   inf_du lg(mu)  ||d||  lg(rg) alpha_du alpha_pr  ls\n",
      "  30  2.0634707e-01 3.45e-02 9.60e+06  -1.0 9.79e+00    -  1.03e-02 1.19e-02h  1\n",
      "  31  2.0856418e-01 2.95e-02 5.15e+08  -1.0 1.23e+01    -  7.89e-02 3.95e-01h  1\n",
      "  32  2.0856245e-01 2.94e-02 8.46e+08  -1.0 1.61e+00    -  3.96e-01 2.24e-03h  1\n",
      "  33  2.0842052e-01 1.42e-02 7.49e+08  -1.0 6.31e-01    -  1.00e+00 5.25e-01f  1\n",
      "  34  2.0839016e-01 1.28e-02 6.79e+08  -1.0 1.89e+00   0.5 8.10e-02 1.05e-01f  1\n",
      "  35  2.0857476e-01 8.63e-03 7.87e+07  -1.0 1.40e+00    -  6.59e-01 3.50e-01h  1\n",
      "  36  2.0857702e-01 7.88e-03 8.37e+07  -1.0 6.88e-01    -  4.89e-02 8.69e-02f  3\n",
      "  37  2.0857394e-01 5.62e-03 1.25e+08  -1.0 5.40e-01    -  1.39e-01 2.89e-01f  2\n",
      "  38  2.0854852e-01 3.20e-03 7.00e+07  -1.0 6.03e-01    -  2.77e-01 4.32e-01f  2\n",
      "  39  2.0850878e-01 1.89e-03 4.07e+07  -1.0 4.26e+00    -  8.32e-01 4.09e-01f  1\n",
      "iter    objective    inf_pr   inf_du lg(mu)  ||d||  lg(rg) alpha_du alpha_pr  ls\n",
      "  40  2.0852179e-01 9.54e-04 2.14e+07  -1.0 1.46e+01    -  3.78e-02 5.00e-01f  2\n",
      "  41  2.0852817e-01 5.98e-04 1.31e+07  -1.0 2.93e+00  -0.0 6.08e-01 3.75e-01h  1\n",
      "  42  2.0852826e-01 5.93e-04 1.27e+07  -1.0 2.77e+00    -  3.47e-01 7.27e-03h  1\n",
      "  43  2.0852848e-01 5.91e-04 8.46e+07  -1.0 1.82e+02    -  2.51e-01 3.65e-03h  1\n",
      "  44  2.0853163e-01 5.69e-04 1.15e+08  -1.0 1.72e+02    -  1.35e-01 3.77e-02f  2\n",
      "  45  2.0853247e-01 5.68e-04 5.24e+08  -1.0 1.01e+03    -  1.19e-01 7.71e-04h  4\n",
      "  46  2.0853411e-01 5.67e-04 1.67e+08  -1.0 7.83e+02    -  4.48e-02 2.21e-03h  3\n",
      "  47  2.0854058e-01 5.61e-04 1.57e+08  -1.0 7.71e+02    -  1.15e-02 1.09e-02f  1\n",
      "  48  2.0854216e-01 5.61e-04 2.00e+08  -1.0 2.53e+03    -  2.74e-05 7.30e-04f  1\n",
      "  49  2.0854319e-01 5.60e-04 2.02e+08  -1.0 1.74e+02    -  4.37e-06 7.57e-04F  1\n",
      "iter    objective    inf_pr   inf_du lg(mu)  ||d||  lg(rg) alpha_du alpha_pr  ls\n",
      "  50  2.0862697e-01 6.31e-04 3.43e+09  -1.0 1.74e+02    -  1.60e-02 2.89e-01f  2\n",
      "  51  2.0861050e-01 3.20e-04 7.03e+09  -1.0 2.36e+01   0.4 2.79e-03 5.29e-01f  1\n",
      "  52  2.0860796e-01 3.18e-04 6.97e+09  -1.0 3.94e+00    -  3.67e-01 8.91e-03h  1\n",
      "  53  2.0860796e-01 3.18e-04 6.97e+09  -1.0 4.13e+00    -  7.23e-01 9.01e-05h  1\n",
      "  54r 2.0860796e-01 3.18e-04 1.00e+03  -1.0 0.00e+00    -  0.00e+00 3.01e-07R 14\n",
      "  55r 2.0838921e-01 2.39e-04 2.26e+03  -1.0 4.87e-01    -  6.30e-01 3.55e-01f  1\n",
      "  56  2.0834119e-01 2.87e-01 7.34e+02  -1.0 3.32e+06    -  2.25e-02 7.29e-04f  7\n",
      "  57  2.0829435e-01 8.87e-02 9.38e+01  -1.0 6.76e+05    -  1.09e-02 2.87e-03f  7\n",
      "  58  2.0808627e-01 2.63e-01 7.26e+02  -1.0 7.06e+04    -  1.06e-01 1.11e-02f  5\n",
      "  59  1.9958033e-01 6.14e+02 6.97e+06  -1.0 1.72e+04    -  2.97e-02 5.73e-01F  1\n",
      "iter    objective    inf_pr   inf_du lg(mu)  ||d||  lg(rg) alpha_du alpha_pr  ls\n",
      "  60  2.0216469e-01 4.23e+02 4.80e+06  -1.0 3.49e+00  -0.1 2.97e-02 3.11e-01h  2\n",
      "  61  2.0521356e-01 1.77e+02 2.01e+06  -1.0 5.08e+00  -0.5 4.30e-01 5.82e-01h  1\n",
      "  62  2.0641866e-01 8.75e+01 9.93e+05  -1.0 1.22e+01  -1.0 9.90e-01 5.05e-01h  1\n",
      "  63  2.0673734e-01 2.66e+00 1.23e+06  -1.0 3.30e+04    -  7.78e-02 1.00e+00f  1\n",
      "  64  2.0458718e-01 6.45e+00 1.75e+05  -1.0 2.28e+03    -  8.19e-01 1.00e+00f  1\n",
      "  65  1.9581168e-01 3.76e+01 6.38e+05  -1.0 4.87e+03    -  2.79e-01 7.11e-01f  1\n",
      "  66  1.9385660e-01 6.33e+00 1.94e+05  -1.0 2.58e+03    -  1.00e+00 1.00e+00f  1\n",
      "  67  1.7799733e-01 8.75e+00 1.32e+05  -1.0 1.03e+03    -  3.61e-01 5.30e-01f  1\n",
      "  68  1.9903052e-01 2.61e+00 2.25e+06  -1.0 5.19e+01  -1.5 2.20e-02 7.40e-01h  1\n",
      "  69  2.0631578e-01 6.00e-01 5.71e+05  -1.0 2.77e+01  -2.0 1.01e-01 8.56e-01h  1\n",
      "iter    objective    inf_pr   inf_du lg(mu)  ||d||  lg(rg) alpha_du alpha_pr  ls\n",
      "  70  2.0681118e-01 4.22e-01 5.84e+06  -1.0 2.79e+00   2.1 6.73e-01 2.97e-01h  1\n",
      "  71  2.0765426e-01 2.24e-01 3.41e+07  -1.0 5.03e+00   1.6 3.62e-01 4.70e-01h  1\n",
      "  72  2.0768772e-01 2.15e-01 3.31e+07  -1.0 9.49e+00   1.1 1.00e+00 3.82e-02h  1\n",
      "  73  2.0772014e-01 2.08e-01 5.19e+07  -1.0 3.01e+00   0.6 1.00e+00 3.55e-02h  1\n",
      "  74  2.0836899e-01 5.51e-02 6.92e+07  -1.0 3.00e+00   0.2 1.00e+00 7.32e-01h  1\n",
      "  75  2.0855643e-01 1.06e-02 5.96e+07  -1.0 3.03e+00  -0.3 3.61e-01 8.06e-01h  1\n",
      "  76  2.0855560e-01 9.92e-03 5.58e+07  -1.0 2.96e+02    -  2.48e-01 6.37e-02f  2\n",
      "  77  2.0855684e-01 9.59e-03 5.39e+07  -1.0 8.82e+00  -0.8 1.45e-01 3.35e-02h  1\n",
      "  78  2.0855641e-01 9.58e-03 5.39e+07  -1.0 2.90e+03    -  6.06e-02 8.88e-04h  1\n",
      "  79  2.0853497e-01 5.80e-03 5.39e+07  -1.0 8.37e+03    -  2.31e-05 1.57e-05F  1\n",
      "iter    objective    inf_pr   inf_du lg(mu)  ||d||  lg(rg) alpha_du alpha_pr  ls\n",
      "  80  2.0855588e-01 5.17e-03 5.05e+07  -1.0 1.72e+02    -  1.75e-01 6.25e-02f  3\n",
      "  81  2.0863596e-01 1.59e-03 9.95e+07  -1.0 1.70e+02    -  3.35e-01 2.85e-01h  1\n",
      "  82  2.0863964e-01 2.25e-03 1.24e+09  -1.0 1.28e+04    -  3.48e-03 3.12e-02f  6\n",
      "  83  2.0863789e-01 4.21e-03 9.11e+08  -1.0 1.06e+03    -  2.56e-03 5.00e-01f  2\n",
      "  84  2.0864708e-01 7.11e-04 6.84e+08  -1.0 8.73e+02    -  6.96e-01 2.50e-01h  3\n",
      "  85  2.0867168e-01 7.66e-04 7.17e+08  -1.0 6.16e+01    -  8.58e-01 6.78e-01h  1\n",
      "  86  2.0865934e-01 1.17e-04 2.03e+07  -1.0 1.26e+01   0.5 4.39e-02 1.00e+00f  1\n",
      "  87  2.0866033e-01 1.17e-04 2.03e+07  -1.0 1.77e+03    -  5.11e-01 5.25e-04h  9\n",
      "  88  2.0769298e-01 1.72e-02 6.38e+09  -1.0 2.29e+01   0.1 1.32e-01 5.58e-01f  1\n",
      "  89  2.0821754e-01 7.82e-03 2.25e+09  -1.0 2.52e+01   1.4 7.83e-01 7.34e-01h  1\n",
      "iter    objective    inf_pr   inf_du lg(mu)  ||d||  lg(rg) alpha_du alpha_pr  ls\n",
      "  90  2.0821893e-01 7.82e-03 2.25e+09  -1.0 1.73e+04    -  3.92e-03 2.31e-04f  2\n",
      "  91  2.0822148e-01 7.82e-03 2.25e+09  -1.0 6.78e+04    -  3.39e-04 3.44e-05f  2\n",
      "  92  2.0822365e-01 7.82e-03 2.25e+09  -1.0 3.29e+04    -  6.40e-04 3.89e-05f  2\n",
      "  93  2.0822604e-01 7.81e-03 2.24e+09  -1.0 1.53e+03    -  1.21e-02 5.08e-04f  2\n",
      "  94  2.0824945e-01 7.72e-03 2.21e+09  -1.0 2.59e+02    -  7.34e-02 1.36e-02f  1\n",
      "  95  2.0831410e-01 7.32e-03 5.33e+09  -1.0 2.04e+02    -  3.41e-01 6.57e-02f  2\n",
      "  96  2.0830790e-01 4.17e-03 1.53e+09  -1.0 1.47e+02    -  5.44e-01 2.86e-01H  1\n",
      "  97  2.0846763e-01 2.81e-03 1.18e+09  -1.0 1.13e+02    -  9.73e-01 5.00e-01f  2\n",
      "  98  2.0860848e-01 5.71e-04 2.60e+08  -1.0 2.09e+01    -  1.00e+00 1.00e+00h  1\n",
      "  99  2.0861012e-01 5.71e-04 5.16e+08  -1.0 8.58e+01   0.9 3.16e-03 1.19e-04f  4\n",
      "iter    objective    inf_pr   inf_du lg(mu)  ||d||  lg(rg) alpha_du alpha_pr  ls\n",
      " 100  2.0863572e-01 6.44e-04 5.06e+08  -1.0 3.56e+02    -  1.39e-02 7.74e-03f  3\n",
      " 101  2.0862038e-01 6.43e-04 3.68e+08  -1.0 2.63e+01    -  2.54e-01 5.33e-02f  3\n",
      " 102  2.0861700e-01 6.42e-04 3.19e+08  -1.0 7.77e+00    -  1.36e-01 2.87e-03f  5\n",
      " 103  2.0861383e-01 6.38e-04 2.43e+08  -1.0 2.70e+00    -  1.00e+00 7.65e-03h  5\n",
      " 104  2.0856958e-01 9.09e-05 7.33e+09  -1.0 2.41e+00    -  1.00e+00 1.00e+00h  1\n",
      " 105  2.0856365e-01 8.64e-05 6.82e+09  -1.0 2.12e+01    -  2.65e-01 6.47e-02h  2\n",
      " 106  2.0855702e-01 7.32e-05 5.60e+09  -1.0 1.59e+02    -  5.90e-03 1.60e-01f  3\n",
      " 107  2.0855592e-01 3.82e-04 5.42e+09  -1.0 7.89e+03    -  6.40e-03 3.12e-02f  6\n",
      " 108  2.0855495e-01 6.98e-05 5.33e+09  -1.0 6.34e+03    -  3.30e-01 1.56e-02f  7\n",
      " 109  2.0854720e-01 8.53e-04 3.81e+09  -1.0 2.24e+02    -  8.73e-02 2.50e-01f  3\n",
      "iter    objective    inf_pr   inf_du lg(mu)  ||d||  lg(rg) alpha_du alpha_pr  ls\n",
      " 110  2.0853781e-01 2.57e-04 4.48e+08  -1.0 2.70e+01    -  1.00e+00 1.00e+00f  1\n",
      " 111  2.0854255e-01 2.05e-04 3.30e+08  -1.0 8.81e+00    -  8.32e-01 3.15e-01f  1\n",
      " 112  2.0854276e-01 2.05e-04 3.30e+08  -1.0 8.63e+01   0.4 9.36e-02 1.78e-03h  1\n",
      " 113  2.0854057e-01 2.04e-04 3.29e+08  -1.0 2.29e+02    -  8.73e-04 1.55e-03h  3\n",
      " 114  2.0853879e-01 2.03e-04 3.29e+08  -1.0 8.29e+02   0.9 8.37e-06 1.35e-03f  3\n",
      " 115  2.0853902e-01 2.03e-04 3.29e+08  -1.0 6.93e+01    -  4.58e-02 7.97e-04h  1\n",
      " 116r 2.0853902e-01 2.03e-04 1.00e+03  -1.0 0.00e+00    -  0.00e+00 4.18e-07R  6\n",
      " 117r 2.0842034e-01 3.18e-04 8.69e+02  -1.0 2.63e-01    -  1.31e-01 1.31e-01f  1\n",
      " 118r 2.0804235e-01 7.01e-04 4.42e+02  -1.0 1.50e-01   2.0 6.90e-01 5.68e-01f  1\n",
      " 119r 2.0763755e-01 1.08e-03 1.25e+03  -1.0 2.17e-01   1.5 5.80e-01 3.60e-01f  1\n",
      "iter    objective    inf_pr   inf_du lg(mu)  ||d||  lg(rg) alpha_du alpha_pr  ls\n",
      " 120r 2.0547861e-01 3.67e-03 5.08e+02  -1.0 3.61e-01   1.0 6.19e-01 1.00e+00f  1\n",
      " 121r 2.0447393e-01 4.23e-03 3.23e+02  -1.0 4.26e-01   0.6 7.10e-01 3.77e-01f  1\n",
      " 122r 2.0210060e-01 5.81e-03 1.19e+02  -1.0 2.56e-01   1.0 1.00e+00 1.00e+00f  1\n",
      " 123r 2.0167662e-01 6.44e-03 3.96e+00  -1.0 6.31e-02   1.4 1.00e+00 1.00e+00f  1\n",
      " 124r 2.0241977e-01 5.72e-03 1.71e+01  -1.7 2.01e-01   0.9 4.08e-01 4.01e-01f  1\n",
      " 125r 2.0378018e-01 4.42e-03 2.48e+02  -1.7 1.40e-01   1.4 5.15e-01 1.00e+00f  1\n",
      " 126r 2.0581294e-01 2.25e-03 1.31e+02  -1.7 2.95e-01   0.9 6.69e-01 1.00e+00f  1\n",
      " 127r 2.0661160e-01 9.11e-04 1.19e+02  -1.7 2.68e-01   0.4 6.96e-01 7.82e-01f  1\n",
      " 128r 2.0661938e-01 1.24e-03 6.66e+02  -1.7 4.38e-02   1.7 6.18e-01 9.96e-01f  1\n",
      " 129r 2.0632869e-01 1.18e-03 5.72e+02  -1.7 4.60e-01   1.3 1.17e-01 5.27e-01f  1\n",
      "iter    objective    inf_pr   inf_du lg(mu)  ||d||  lg(rg) alpha_du alpha_pr  ls\n",
      " 130r 2.0556654e-01 8.59e-04 3.46e+01  -1.7 7.86e-02   0.8 1.00e+00 1.00e+00f  1\n",
      " 131r 2.0338269e-01 1.21e-03 2.97e+02  -1.7 1.27e+00   0.3 3.37e-01 3.14e-01f  1\n",
      " 132r 2.0226969e-01 1.16e-03 9.90e+02  -1.7 6.86e-01  -0.2 1.00e+00 1.80e-01f  1\n",
      " 133r 1.9872557e-01 8.35e-04 2.80e+02  -1.7 1.14e+00  -0.6 1.00e+00 6.57e-01f  1\n",
      " 134r 1.9778406e-01 5.27e-04 1.52e+01  -1.7 4.62e-01  -0.2 1.00e+00 1.00e+00f  1\n",
      " 135r 1.9482717e-01 7.77e-03 3.30e+02  -1.7 4.06e+00  -0.7 5.87e-01 6.57e-01f  1\n",
      " 136r 1.9303822e-01 3.69e-03 3.82e+02  -1.7 1.99e+00    -  3.88e-01 1.00e+00h  1\n",
      " 137r 1.9255649e-01 2.69e-03 2.30e+02  -1.7 1.11e+00  -0.3 1.00e+00 5.05e-01f  1\n",
      " 138r 1.9093437e-01 7.63e-03 7.26e+02  -1.7 1.88e+00    -  1.00e+00 1.00e+00f  1\n",
      " 139r 1.8998899e-01 2.44e-03 4.45e+02  -1.7 6.49e-01    -  1.00e+00 5.76e-01f  1\n",
      "iter    objective    inf_pr   inf_du lg(mu)  ||d||  lg(rg) alpha_du alpha_pr  ls\n",
      " 140r 1.8701113e-01 3.11e-03 3.02e+02  -1.7 1.66e+00    -  1.00e+00 5.18e-01f  1\n",
      " 141r 1.8134888e-01 1.52e-03 6.49e+01  -1.7 1.77e+00    -  1.00e+00 1.00e+00f  1\n",
      " 142r 1.8118524e-01 8.20e-05 1.46e+00  -1.7 7.00e-02    -  1.00e+00 1.00e+00h  1\n",
      " 143  1.7793142e-01 3.27e-04 2.45e+02  -1.0 2.81e+01    -  3.34e-01 4.05e-02f  1\n",
      " 144  1.4928859e-01 2.60e-02 9.99e+04  -1.0 1.18e+01    -  9.90e-01 1.00e+00f  1\n",
      " 145  1.2182059e-01 8.85e-03 7.98e+05  -1.0 1.35e+01    -  1.04e-01 1.00e+00f  1\n",
      " 146  1.2703104e-01 6.03e-04 1.15e+05  -1.0 2.48e+00    -  1.00e+00 1.00e+00h  1\n",
      " 147  8.5978219e-02 2.57e-02 1.15e+05  -1.0 2.01e+01    -  1.00e+00 1.00e+00f  1\n",
      " 148  2.1027596e-02 1.85e-01 1.83e+05  -1.0 1.26e+02    -  5.72e-01 5.64e-01f  1\n",
      " 149  1.5615922e+00 1.02e+00 1.76e+06  -1.0 3.42e+02    -  1.00e+00 9.11e-01f  1\n",
      "iter    objective    inf_pr   inf_du lg(mu)  ||d||  lg(rg) alpha_du alpha_pr  ls\n",
      " 150  6.2124757e-01 8.00e-02 1.52e+02  -1.0 2.43e-01   0.4 3.49e-01 1.00e+00f  1\n",
      " 151  7.6681875e-01 8.25e-03 3.74e+03  -1.0 4.06e+01    -  1.00e+00 1.00e+00h  1\n",
      " 152  1.1526593e+00 6.52e-02 5.94e+00  -1.0 1.47e+02    -  1.00e+00 1.00e+00h  1\n",
      " 153  1.1702307e+00 2.02e-03 6.36e+01  -1.0 4.57e+01    -  1.00e+00 1.00e+00h  1\n",
      " 154  1.1706189e+00 3.87e-06 2.03e-01  -1.0 1.56e+00    -  1.00e+00 1.00e+00h  1\n",
      " 155  7.8075794e-01 4.62e-02 1.46e+04  -1.7 1.77e+02    -  7.95e-01 1.00e+00f  1\n"
     ]
    },
    {
     "name": "stdout",
     "output_type": "stream",
     "text": [
      " 156  4.0374678e-01 8.60e-02 1.13e+01  -1.7 5.68e+01    -  1.00e+00 1.00e+00h  1\n",
      " 157  3.6123684e-01 1.58e-01 1.98e+01  -1.7 1.92e+02    -  1.00e+00 1.00e+00h  1\n",
      " 158  3.6472994e-01 7.59e-03 4.42e-01  -1.7 2.88e+01    -  1.00e+00 1.00e+00h  1\n",
      " 159  3.6486233e-01 1.41e-05 2.78e-03  -1.7 2.25e+00    -  1.00e+00 1.00e+00h  1\n",
      "iter    objective    inf_pr   inf_du lg(mu)  ||d||  lg(rg) alpha_du alpha_pr  ls\n",
      " 160  1.0182524e-01 3.20e-02 2.01e+03  -3.8 9.81e+01    -  5.58e-01 1.00e+00f  1\n",
      " 161  1.2279437e-02 5.61e-01 8.91e+02  -3.8 1.85e+02    -  5.52e-01 1.00e+00h  1\n",
      " 162  1.6236727e-02 4.11e-01 1.89e+03  -3.8 6.00e+02    -  8.45e-02 1.65e-01H  1\n",
      " 163  8.3080752e-03 1.19e-02 5.07e+03  -3.8 1.86e-01  -0.1 2.58e-04 1.00e+00h  1\n",
      " 164  4.2919688e-03 3.16e-04 5.08e+04  -3.8 5.65e+00    -  1.00e+00 1.00e+00h  1\n",
      " 165  7.0246457e-04 2.63e-03 2.14e+03  -3.8 5.11e+01    -  1.00e+00 1.00e+00h  1\n",
      " 166  6.7558974e-04 2.30e-07 1.90e-04  -3.8 6.03e-04  -0.6 1.00e+00 1.00e+00h  1\n",
      " 167  4.9923305e-04 1.50e-05 4.86e-04  -5.7 4.81e-03  -1.1 1.00e+00 1.00e+00h  1\n",
      " 168  4.3329412e-04 1.04e-05 2.55e-04  -5.7 4.02e-03  -1.5 1.00e+00 1.00e+00h  1\n",
      " 169  4.2766311e-04 1.10e-06 2.87e-05  -5.7 1.31e-03  -2.0 1.00e+00 1.00e+00h  1\n",
      "iter    objective    inf_pr   inf_du lg(mu)  ||d||  lg(rg) alpha_du alpha_pr  ls\n",
      " 170  4.2751326e-04 1.50e-08 7.75e-07  -5.7 1.94e-04  -2.5 1.00e+00 1.00e+00h  1\n",
      " 171  4.2747223e-04 1.10e-08 1.13e-06  -8.6 6.15e-04  -3.0 1.00e+00 1.00e+00h  1\n",
      " 172  4.2747084e-04 5.46e-12 6.99e-07  -8.6 1.91e-03  -3.4 1.00e+00 1.00e+00h  1\n",
      " 173  4.2746681e-04 2.84e-11 7.00e-07  -8.6 5.73e-03  -3.9 1.00e+00 1.00e+00h  1\n",
      " 174  4.2745472e-04 2.56e-10 7.00e-07  -8.6 1.72e-02  -4.4 1.00e+00 1.00e+00h  1\n",
      " 175  4.2741845e-04 2.31e-09 7.00e-07  -8.6 5.16e-02  -4.9 1.00e+00 1.00e+00h  1\n",
      " 176  4.2730959e-04 2.08e-08 7.00e-07  -8.6 1.55e-01  -5.3 1.00e+00 1.00e+00h  1\n",
      " 177  4.2698253e-04 1.88e-07 7.82e-07  -8.6 4.65e-01  -5.8 1.00e+00 1.00e+00h  1\n",
      " 178  4.2599718e-04 1.70e-06 7.09e-06  -8.6 1.40e+00  -6.3 1.00e+00 1.00e+00h  1\n",
      " 179  4.2300313e-04 1.57e-05 6.52e-05  -8.6 4.24e+00  -6.8 1.00e+00 1.00e+00h  1\n",
      "iter    objective    inf_pr   inf_du lg(mu)  ||d||  lg(rg) alpha_du alpha_pr  ls\n",
      " 180  4.1367040e-04 1.51e-04 6.26e-04  -8.6 1.31e+01  -7.3 1.00e+00 1.00e+00h  1\n",
      " 181  3.8229698e-04 1.69e-03 6.88e-03  -8.6 4.35e+01  -7.7 1.00e+00 1.00e+00h  1\n",
      " 182  2.5602529e-04 3.08e-02 1.14e-01  -8.6 1.80e+02  -8.2 1.00e+00 1.00e+00h  1\n",
      " 183  2.1535595e-04 2.53e-01 2.64e-02  -8.6 4.92e+03    -  1.75e-01 8.66e-02h  2\n",
      " 184  1.2911355e-04 5.24e-02 4.62e-01  -8.6 2.19e+02    -  1.00e+00 1.00e+00h  1\n",
      " 185  1.2564097e-04 3.19e-03 9.68e-05  -8.6 5.96e+01    -  1.00e+00 1.00e+00h  1\n",
      " 186  1.2560993e-04 5.91e-06 2.82e-07  -8.6 3.03e+00    -  1.00e+00 1.00e+00h  1\n",
      " 187  1.2561003e-04 1.66e-11 2.07e-12  -8.6 5.21e-03    -  1.00e+00 1.00e+00h  1\n",
      "\n",
      "Number of Iterations....: 187\n",
      "\n",
      "                                   (scaled)                 (unscaled)\n",
      "Objective...............:   1.2561003121525102e-04    1.2561003121525102e-04\n",
      "Dual infeasibility......:   2.0674747856644707e-12    2.0674747856644707e-12\n",
      "Constraint violation....:   1.6558754367679285e-11    1.6558754367679285e-11\n",
      "Variable bound violation:   0.0000000000000000e+00    0.0000000000000000e+00\n",
      "Complementarity.........:   2.5059035611766838e-09    2.5059035611766838e-09\n",
      "Overall NLP error.......:   2.5059035611766838e-09    2.5059035611766838e-09\n",
      "\n",
      "\n",
      "Number of objective function evaluations             = 386\n",
      "Number of objective gradient evaluations             = 163\n",
      "Number of equality constraint evaluations            = 386\n",
      "Number of inequality constraint evaluations          = 0\n",
      "Number of equality constraint Jacobian evaluations   = 192\n",
      "Number of inequality constraint Jacobian evaluations = 0\n",
      "Number of Lagrangian Hessian evaluations             = 187\n",
      "Total seconds in IPOPT                               = 0.240\n",
      "\n",
      "EXIT: Optimal Solution Found.\n",
      "\b\b\b\b\b\b\b\b\b\b\b\b\b\b"
     ]
    },
    {
     "data": {
      "text/plain": [
       "{'Problem': [{'Lower bound': -inf, 'Upper bound': inf, 'Number of objectives': 1, 'Number of constraints': 819, 'Number of variables': 821, 'Sense': 'unknown'}], 'Solver': [{'Status': 'ok', 'Message': 'Ipopt 3.14.5\\\\x3a Optimal Solution Found', 'Termination condition': 'optimal', 'Id': 0, 'Error rc': 0, 'Time': 0.2541484832763672}], 'Solution': [OrderedDict([('number of solutions', 0), ('number of solutions displayed', 0)])]}"
      ]
     },
     "execution_count": 23,
     "metadata": {},
     "output_type": "execute_result"
    }
   ],
   "source": [
    "#m = bvsm_model(data[0])\n",
    "solver = SolverFactory('ipopt')\n",
    "solver.solve(m, tee = True)"
   ]
  },
  {
   "cell_type": "code",
   "execution_count": null,
   "metadata": {},
   "outputs": [],
   "source": [
    "len(m.time._fe)"
   ]
  },
  {
   "cell_type": "code",
   "execution_count": 24,
   "metadata": {
    "scrolled": true
   },
   "outputs": [
    {
     "data": {
      "text/plain": [
       "[2.6606531847457853, 2.344450373303213]"
      ]
     },
     "execution_count": 24,
     "metadata": {},
     "output_type": "execute_result"
    }
   ],
   "source": [
    "[m.k(), m.nA0()]"
   ]
  },
  {
   "cell_type": "code",
   "execution_count": 25,
   "metadata": {},
   "outputs": [
    {
     "data": {
      "text/plain": [
       "(0.0, 0.2)"
      ]
     },
     "execution_count": 25,
     "metadata": {},
     "output_type": "execute_result"
    },
    {
     "data": {
      "image/png": "[encoded data removed]",
      "text/plain": [
       "<Figure size 432x288 with 1 Axes>"
      ]
     },
     "metadata": {
      "needs_background": "light"
     },
     "output_type": "display_data"
    }
   ],
   "source": [
    "fig, ax = plt.subplots()\n",
    "ax.plot(list(m.time), [m.y[t]() for t in m.time])\n",
    "ax.scatter(data[0]['tlc'], data[0]['lc'])\n",
    "ax.set_xlim(400, 900)\n",
    "ax.set_ylim(0, 0.2)"
   ]
  },
  {
   "cell_type": "code",
   "execution_count": 26,
   "metadata": {},
   "outputs": [
    {
     "name": "stdout",
     "output_type": "stream",
     "text": [
      "Ipopt 3.14.5: bound_relax_factor=0\n",
      "honor_original_bounds=no\n",
      "\n",
      "\n",
      "******************************************************************************\n",
      "This program contains Ipopt, a library for large-scale nonlinear optimization.\n",
      " Ipopt is released as open source code under the Eclipse Public License (EPL).\n",
      "         For more information visit https://github.com/coin-or/Ipopt\n",
      "******************************************************************************\n",
      "\n",
      "This is Ipopt version 3.14.5, running with linear solver ma27.\n",
      "\n",
      "Number of nonzeros in equality constraint Jacobian...:     2221\n",
      "Number of nonzeros in inequality constraint Jacobian.:        0\n",
      "Number of nonzeros in Lagrangian Hessian.............:      738\n",
      "\n",
      "Total number of variables............................:      821\n",
      "                     variables with only lower bounds:      234\n",
      "                variables with lower and upper bounds:      119\n",
      "                     variables with only upper bounds:        0\n",
      "Total number of equality constraints.................:      819\n",
      "Total number of inequality constraints...............:        0\n",
      "        inequality constraints with only lower bounds:        0\n",
      "   inequality constraints with lower and upper bounds:        0\n",
      "        inequality constraints with only upper bounds:        0\n",
      "\n",
      "iter    objective    inf_pr   inf_du lg(mu)  ||d||  lg(rg) alpha_du alpha_pr  ls\n",
      "   0  1.2561003e-04 2.50e+00 1.00e+00  -1.0 0.00e+00    -  0.00e+00 0.00e+00   0\n",
      "   1  2.2630995e-01 2.15e-01 1.66e+02  -1.0 8.11e+01    -  7.79e-01 1.00e+00f  1\n",
      "   2  1.1416657e+00 4.42e-01 1.05e+04  -1.0 2.23e+02    -  9.41e-01 1.00e+00f  1\n",
      "   3  1.1016695e+00 6.21e-02 1.39e+04  -1.0 1.99e+02    -  7.66e-01 1.00e+00h  1\n",
      "   4  1.1591171e+00 5.41e-03 8.97e+02  -1.0 5.67e+01    -  1.00e+00 1.00e+00h  1\n",
      "   5  1.1704539e+00 4.23e-05 8.76e-01  -1.0 5.34e+00    -  1.00e+00 1.00e+00h  1\n",
      "   6  7.8069259e-01 4.62e-02 1.46e+04  -1.7 1.76e+02    -  7.96e-01 1.00e+00f  1\n",
      "   7  4.0379447e-01 8.55e-02 1.17e+01  -1.7 5.65e+01    -  1.00e+00 1.00e+00h  1\n",
      "   8  3.6125614e-01 1.58e-01 1.96e+01  -1.7 1.92e+02    -  1.00e+00 1.00e+00h  1\n",
      "   9  3.6473032e-01 7.54e-03 4.49e-01  -1.7 2.87e+01    -  1.00e+00 1.00e+00h  1\n",
      "iter    objective    inf_pr   inf_du lg(mu)  ||d||  lg(rg) alpha_du alpha_pr  ls\n",
      "  10  3.6486234e-01 1.39e-05 2.63e-03  -1.7 2.24e+00    -  1.00e+00 1.00e+00h  1\n",
      "  11  1.0182524e-01 3.20e-02 2.01e+03  -3.8 9.81e+01    -  5.58e-01 1.00e+00f  1\n",
      "  12  1.2279462e-02 5.61e-01 8.91e+02  -3.8 1.85e+02    -  5.52e-01 1.00e+00h  1\n",
      "  13  1.6236493e-02 4.11e-01 1.89e+03  -3.8 6.00e+02    -  8.45e-02 1.65e-01H  1\n",
      "  14  2.2728436e-03 1.49e-02 5.07e+03  -3.8 1.85e-01  -4.0 2.58e-04 1.00e+00h  1\n",
      "  15  1.1747549e-03 2.07e-04 9.79e+02  -3.8 1.08e-01    -  1.00e+00 1.00e+00h  1\n",
      "  16  6.9907549e-04 3.76e-05 5.67e-02  -3.8 6.72e-02  -4.5 1.00e+00 1.00e+00h  1\n",
      "  17  6.8708051e-04 6.91e-08 2.64e-05  -3.8 2.05e-01  -5.0 1.00e+00 1.00e+00h  1\n",
      "  18  4.6508669e-04 5.62e-05 2.64e-02  -5.7 1.68e-01  -5.4 1.00e+00 1.00e+00h  1\n",
      "  19  4.6388082e-04 3.44e-07 4.02e-06  -5.7 5.06e-01  -5.9 1.00e+00 1.00e+00h  1\n",
      "iter    objective    inf_pr   inf_du lg(mu)  ||d||  lg(rg) alpha_du alpha_pr  ls\n",
      "  20  4.6294719e-04 1.44e-06 2.87e-03  -8.6 1.47e+00  -6.4 1.00e+00 1.00e+00h  1\n",
      "  21  4.6021895e-04 1.62e-05 6.91e-05  -8.6 4.48e+00  -6.9 1.00e+00 1.00e+00h  1\n",
      "  22  4.5164265e-04 1.58e-04 6.74e-04  -8.6 1.39e+01  -7.3 1.00e+00 1.00e+00h  1\n",
      "  23  4.2196609e-04 1.84e-03 7.84e-03  -8.6 4.71e+01  -7.8 1.00e+00 1.00e+00h  1\n",
      "  24  2.8505263e-04 4.18e-02 1.73e-01  -8.6 2.17e+02  -8.3 1.00e+00 1.00e+00h  1\n",
      "  25  1.8168598e-04 2.32e-01 2.12e-01  -8.6 8.26e+02  -8.8 1.00e+00 5.00e-01h  2\n",
      "  26  1.2755118e-04 4.55e-02 5.40e-01  -8.6 2.09e+02    -  1.00e+00 1.00e+00h  1\n",
      "  27  1.2558343e-04 1.56e-03 5.02e-05  -8.6 4.56e+01    -  1.00e+00 1.00e+00h  1\n",
      "  28  1.2560999e-04 2.55e-07 6.07e-08  -8.6 7.22e-01    -  1.00e+00 1.00e+00h  1\n",
      "  29  1.2561003e-04 3.48e-13 4.17e-14  -8.6 4.91e-04    -  1.00e+00 1.00e+00h  1\n",
      "\n",
      "Number of Iterations....: 29\n",
      "\n",
      "                                   (scaled)                 (unscaled)\n",
      "Objective...............:   1.2561003121462855e-04    1.2561003121462855e-04\n",
      "Dual infeasibility......:   4.1709487968479009e-14    4.1709487968479009e-14\n",
      "Constraint violation....:   3.4788673135797976e-13    3.4788673135797976e-13\n",
      "Variable bound violation:   0.0000000000000000e+00    0.0000000000000000e+00\n",
      "Complementarity.........:   2.5059035596802959e-09    2.5059035596802959e-09\n",
      "Overall NLP error.......:   2.5059035596802959e-09    2.5059035596802959e-09\n",
      "\n",
      "\n",
      "Number of objective function evaluations             = 34\n",
      "Number of objective gradient evaluations             = 30\n",
      "Number of equality constraint evaluations            = 34\n",
      "Number of inequality constraint evaluations          = 0\n",
      "Number of equality constraint Jacobian evaluations   = 30\n",
      "Number of inequality constraint Jacobian evaluations = 0\n",
      "Number of Lagrangian Hessian evaluations             = 29\n",
      "Total seconds in IPOPT                               = 0.025\n",
      "\n",
      "EXIT: Optimal Solution Found.\n"
     ]
    }
   ],
   "source": [
    "solve_result, inv_red_hes = inv_reduced_hessian_barrier(m, \n",
    "                    independent_variables= [m.k, m.nA0],\n",
    "                    tee=True)"
   ]
  },
  {
   "cell_type": "code",
   "execution_count": 27,
   "metadata": {},
   "outputs": [
    {
     "data": {
      "text/plain": [
       "'sse:0.00012561003121462855, mult_factor:6.5698353020765765'"
      ]
     },
     "execution_count": 27,
     "metadata": {},
     "output_type": "execute_result"
    }
   ],
   "source": [
    "n = len(data[0]['tlc'])\n",
    "p = 2\n",
    "sse = m.sse_obj()\n",
    "mult_factor = p * f.ppf(0.95, p, n-p)\n",
    "f'sse:{sse}, mult_factor:{mult_factor}'"
   ]
  },
  {
   "cell_type": "code",
   "execution_count": 28,
   "metadata": {},
   "outputs": [
    {
     "data": {
      "text/plain": [
       "array([[ 7.46776648e-03, -6.48115156e-05],\n",
       "       [-6.48115156e-05,  1.16022761e-06]])"
      ]
     },
     "execution_count": 28,
     "metadata": {},
     "output_type": "execute_result"
    }
   ],
   "source": [
    "cov_est = 2 * sse / (n - p) * inv_red_hes\n",
    "cov_est"
   ]
  },
  {
   "cell_type": "code",
   "execution_count": 29,
   "metadata": {},
   "outputs": [
    {
     "data": {
      "text/plain": [
       "array([0.22149943, 0.00276089])"
      ]
     },
     "execution_count": 29,
     "metadata": {},
     "output_type": "execute_result"
    }
   ],
   "source": [
    "delta_param = np.sqrt(mult_factor * np.diag(cov_est))\n",
    "delta_param"
   ]
  },
  {
   "cell_type": "code",
   "execution_count": null,
   "metadata": {},
   "outputs": [],
   "source": []
  },
  {
   "cell_type": "code",
   "execution_count": null,
   "metadata": {},
   "outputs": [],
   "source": []
  }
 ],
 "metadata": {
  "kernelspec": {
   "display_name": "Python 3 (ipykernel)",
   "language": "python",
   "name": "python3"
  },
  "language_info": {
   "codemirror_mode": {
    "name": "ipython",
    "version": 3
   },
   "file_extension": ".py",
   "mimetype": "text/x-python",
   "name": "python",
   "nbconvert_exporter": "python",
   "pygments_lexer": "ipython3",
   "version": "3.8.10"
  }
 },
 "nbformat": 4,
 "nbformat_minor": 2
}
