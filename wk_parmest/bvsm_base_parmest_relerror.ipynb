{
 "cells": [
  {
   "cell_type": "code",
   "execution_count": 1,
   "metadata": {},
   "outputs": [],
   "source": [
    "#\n",
    "# https://github.com/rawlings-group/paresto/blob/master/examples/green_book/bvsm.m\n",
    "#\n",
    "# I had trouble fitting relative error sum(lc/lc_pred - 1)^2 as done in the example\n",
    "# So I chose minimizing sum(lc - lc_pred)^2. Still I had trouble with collocation. But finite difference\n",
    "# discretization worked."
   ]
  },
  {
   "cell_type": "code",
   "execution_count": 2,
   "metadata": {},
   "outputs": [],
   "source": [
    "# Import libraries\n",
    "from pyomo.environ import *\n",
    "from pyomo.dae import *\n",
    "import pandas as pd\n",
    "import numpy as np\n",
    "import matplotlib.pyplot as plt\n",
    "from scipy.interpolate import interp1d\n",
    "import scipy.stats as spstat\n",
    "from pyomo.contrib.interior_point.inverse_reduced_hessian import inv_reduced_hessian_barrier"
   ]
  },
  {
   "cell_type": "code",
   "execution_count": 3,
   "metadata": {},
   "outputs": [],
   "source": [
    "# load flow rate data\n",
    "flow_data = pd.read_csv('flow_data.csv')\n",
    "lc_data = pd.read_csv('lc_data.csv')\n",
    "teaf      = 0.00721\n",
    "teaden    = 0.728\n",
    "cBf = teaf"
   ]
  },
  {
   "cell_type": "code",
   "execution_count": 4,
   "metadata": {},
   "outputs": [],
   "source": [
    "tQf = np.insert(flow_data['t'].values, 0, 0)\n",
    "Qf = np.insert(flow_data[\"Qf\"].values / teaden, 0, 0)"
   ]
  },
  {
   "cell_type": "code",
   "execution_count": 5,
   "metadata": {},
   "outputs": [],
   "source": [
    "tlc = lc_data['t'].values\n",
    "lc = lc_data['lc_meas'].values"
   ]
  },
  {
   "cell_type": "code",
   "execution_count": 6,
   "metadata": {},
   "outputs": [],
   "source": [
    "tout = np.sort(np.unique(np.concatenate((tQf, tlc))))"
   ]
  },
  {
   "cell_type": "code",
   "execution_count": 32,
   "metadata": {},
   "outputs": [
    {
     "data": {
      "text/plain": [
       "(869, 118)"
      ]
     },
     "execution_count": 32,
     "metadata": {},
     "output_type": "execute_result"
    }
   ],
   "source": [
    "max(tout), len(tout)"
   ]
  },
  {
   "cell_type": "code",
   "execution_count": 8,
   "metadata": {},
   "outputs": [],
   "source": [
    "Qf_if = interp1d(tQf, Qf, 'previous', bounds_error = False)\n",
    "lc_if = interp1d(tlc, lc, 'previous', bounds_error = False)"
   ]
  },
  {
   "cell_type": "code",
   "execution_count": 9,
   "metadata": {},
   "outputs": [],
   "source": [
    "data = [{'tout': tout, 'tlc': tlc, 'Qf_if': Qf_if, 'lc':lc, 'cBf': cBf}]"
   ]
  },
  {
   "cell_type": "code",
   "execution_count": 61,
   "metadata": {},
   "outputs": [],
   "source": [
    "def bvsm_model(data):\n",
    "    \n",
    "    tout = data['tout']\n",
    "    tlc = data['tlc']\n",
    "    Qf_if = data['Qf_if']\n",
    "    lc_m = data['lc']\n",
    "    cBf = data['cBf']\n",
    "    \n",
    "    Vr0 = 2370\n",
    "    nB0 = 0\n",
    "    nC0 = 0\n",
    "    nD0 = 0\n",
    "    \n",
    "    m = ConcreteModel()\n",
    "    \n",
    "    m.k1 = Var(initialize = 2000, bounds = (500, 5000))\n",
    "    m.k2 = Var(initialize = 1000, bounds = (500, 5000))\n",
    "    m.nA0 = Var(initialize = 2.35, bounds = (2, 3))\n",
    "    \n",
    "    m.time = ContinuousSet(bounds = (0, max(tout)), initialize = tout)\n",
    "    \n",
    "    m.Vr = Var(m.time)\n",
    "    m.nA = Var(m.time, initialize = 2.35, bounds = (0, 2.35))\n",
    "    m.nB = Var(m.time)\n",
    "    m.nC = Var(m.time)\n",
    "    m.nD = Var(m.time)\n",
    "    m.y = Var(m.time, initialize = 0.5, bounds = (0, 1))\n",
    "    \n",
    "    m.dVr = DerivativeVar(m.Vr)\n",
    "    m.dnA = DerivativeVar(m.nA)\n",
    "    m.dnB = DerivativeVar(m.nB)\n",
    "    m.dnC = DerivativeVar(m.nC)\n",
    "    m.dnD = DerivativeVar(m.nD)\n",
    "    \n",
    "    def _dVr_eq(m, t):\n",
    "        if t == 0:\n",
    "            return Constraint.Skip\n",
    "        else:\n",
    "            return m.dVr[t] == float(Qf_if(t))\n",
    "    m.dVr_eq = Constraint(m.time, rule = _dVr_eq)\n",
    "    \n",
    "    def _dnA_eq(m, t):\n",
    "        if t == 0:\n",
    "            return Constraint.Skip\n",
    "        else:\n",
    "            return m.dnA[t] == -m.k1 * m.nA[t] * m.nB[t] / m.Vr[t]\n",
    "    m.dnA_eq = Constraint(m.time, rule = _dnA_eq)\n",
    "\n",
    "    def _dnB_eq(m, t):\n",
    "        if t == 0:\n",
    "            return Constraint.Skip\n",
    "        else:\n",
    "            return m.dnB[t] == float(Qf_if(t)) * cBf - (m.k1 * m.nA[t] * m.nB[t] + m.k2 * m.nB[t] * m.nC[t]) / m.Vr[t]\n",
    "    m.dnB_eq = Constraint(m.time, rule = _dnB_eq)\n",
    "    \n",
    "    def _dnC_eq(m, t):\n",
    "        if t == 0:\n",
    "            return Constraint.Skip\n",
    "        else:\n",
    "            return m.dnC[t] == (m.k1 * m.nA[t] * m.nB[t] - m.k2 * m.nB[t] * m.nC[t]) / m.Vr[t]\n",
    "    m.dnC_eq = Constraint(m.time, rule = _dnC_eq)\n",
    "    \n",
    "    def _dnD_eq(m, t):\n",
    "        if t == 0:\n",
    "            return Constraint.Skip\n",
    "        else:\n",
    "            return m.dnD[t] == m.k2 * m.nB[t] * m.nC[t] / m.Vr[t]\n",
    "    m.dnD_eq = Constraint(m.time, rule = _dnD_eq)\n",
    "    \n",
    "    def _ycalc(m, t):\n",
    "        if t == 0:\n",
    "            return Constraint.Skip\n",
    "        else:\n",
    "            return m.y[t] == m.nC[t] / (m.nC[t] + 2 * m.nD[t] + 1.0e-6)\n",
    "    m.ycalc = Constraint(m.time, rule = _ycalc)\n",
    "    \n",
    "    def init_nA_rule(m):\n",
    "        return m.nA[m.time.first()] == m.nA0\n",
    "    m.init_nA = Constraint(rule = init_nA_rule)\n",
    "\n",
    "    def SSE_rule(m):\n",
    "        return sum((float(lc_if(t)) / m.y[t] - 1.0) ** 2 for t in tlc) \n",
    "#        return sum((float(lc_if(t)) - m.y[t]) ** 2 for t in tlc) \n",
    "    m.SSE_Objective = Objective(rule=SSE_rule, sense=minimize)\n",
    "    \n",
    "    #disc = TransformationFactory('dae.collocation')\n",
    "    #disc.apply_to(m, nfe=200, ncp=2)\n",
    "    \n",
    "    disc = TransformationFactory('dae.finite_difference')\n",
    "    disc.apply_to(m, nfe=150, scheme = 'BACKWARD')\n",
    "    \n",
    "    for t in m.time:\n",
    "        if t == 0:\n",
    "            m.Vr[t].fix(Vr0)\n",
    "            m.nB[t].fix(nB0)\n",
    "            m.nC[t].fix(nC0)\n",
    "            m.nD[t].fix(nD0)\n",
    "        else:\n",
    "            m.Vr[t] = Vr0\n",
    "            m.Vr[t].setlb(Vr0)\n",
    "            m.nB[t] = nB0\n",
    "            m.nB[t].setlb(nB0)\n",
    "            m.nB[t].setub(2.35)\n",
    "            m.nC[t] = nC0\n",
    "            m.nC[t].setlb(nC0)\n",
    "            m.nC[t].setub(2.35)\n",
    "            m.nD[t] = nD0\n",
    "            m.nD[t].setlb(nD0)\n",
    "            m.nD[t].setub(2.35)\n",
    "        \n",
    "    return m"
   ]
  },
  {
   "cell_type": "code",
   "execution_count": 62,
   "metadata": {},
   "outputs": [],
   "source": [
    "m = bvsm_model(data[0])"
   ]
  },
  {
   "cell_type": "code",
   "execution_count": null,
   "metadata": {},
   "outputs": [],
   "source": [
    "m.Vr.pprint()\n",
    "#data[0]['tout']"
   ]
  },
  {
   "cell_type": "code",
   "execution_count": 63,
   "metadata": {},
   "outputs": [
    {
     "name": "stdout",
     "output_type": "stream",
     "text": [
      "Ipopt 3.14.5: \n",
      "\n",
      "******************************************************************************\n",
      "This program contains Ipopt, a library for large-scale nonlinear optimization.\n",
      " Ipopt is released as open source code under the Eclipse Public License (EPL).\n",
      "         For more information visit https://github.com/coin-or/Ipopt\n",
      "******************************************************************************\n",
      "\n",
      "This is Ipopt version 3.14.5, running with linear solver ma27.\n",
      "\n",
      "Number of nonzeros in equality constraint Jacobian...:     6448\n",
      "Number of nonzeros in inequality constraint Jacobian.:        0\n",
      "Number of nonzeros in Lagrangian Hessian.............:     2285\n",
      "\n",
      "Total number of variables............................:     1654\n",
      "                     variables with only lower bounds:      150\n",
      "                variables with lower and upper bounds:      754\n",
      "                     variables with only upper bounds:        0\n",
      "Total number of equality constraints.................:     1651\n",
      "Total number of inequality constraints...............:        0\n",
      "        inequality constraints with only lower bounds:        0\n",
      "   inequality constraints with lower and upper bounds:        0\n",
      "        inequality constraints with only upper bounds:        0\n",
      "\n",
      "iter    objective    inf_pr   inf_du lg(mu)  ||d||  lg(rg) alpha_du alpha_pr  ls\n",
      "   0  2.6091705e+01 2.63e+00 1.00e+00  -1.0 0.00e+00    -  0.00e+00 0.00e+00   0\n",
      "   1  7.0425253e+01 2.61e+00 1.69e+04  -1.0 1.11e+03    -  4.73e-03 1.05e-02h  1\n",
      "   2  7.0938720e+01 2.60e+00 1.69e+04  -1.0 2.98e+04    -  1.12e-02 7.63e-04h  1\n",
      "   3  7.1167183e+01 2.60e+00 1.69e+04  -1.0 4.11e+04    -  4.32e-03 2.84e-04f  1\n",
      "   4  1.1267802e+02 2.55e+00 7.97e+04  -1.0 4.52e+04    -  4.03e-03 2.15e-02h  1\n",
      "   5  1.1175945e+02 2.54e+00 7.95e+04  -1.0 2.78e+04    -  1.39e-02 1.59e-03f  1\n",
      "   6  1.1178542e+02 2.54e+00 7.95e+04  -1.0 6.76e+03    -  5.27e-03 1.64e-05h  1\n",
      "   7  1.1795099e+02 2.54e+00 1.48e+05  -1.0 3.33e+05    -  8.55e-04 4.40e-05h  1\n",
      "   8  2.9489677e+02 2.54e+00 1.60e+05  -1.0 3.82e+05    -  7.81e-06 5.99e-04h  1\n",
      "   9r 2.9489677e+02 2.54e+00 1.00e+03   0.4 0.00e+00    -  0.00e+00 4.22e-07R  3\n",
      "iter    objective    inf_pr   inf_du lg(mu)  ||d||  lg(rg) alpha_du alpha_pr  ls\n",
      "  10r 5.1970793e+01 2.35e+00 9.99e+02   0.4 4.42e+03    -  5.19e-04 5.36e-03f  1\n",
      "  11r 2.3681432e+01 3.24e+00 9.87e+02   0.4 1.20e+03    -  1.68e-02 6.48e-03f  1\n",
      "  12r 1.7002089e+01 5.19e+00 9.73e+02   0.4 1.62e+03    -  1.12e-02 1.44e-02f  1\n",
      "  13r 1.6958619e+01 5.67e+00 9.69e+02   0.4 1.78e+03    -  3.80e-02 4.06e-03f  1\n",
      "  14r 1.7840185e+01 8.64e+00 9.50e+02   0.4 2.72e+03    -  2.24e-02 1.92e-02f  1\n",
      "  15r 1.8618554e+01 1.03e+01 9.39e+02   0.4 2.41e+03    -  2.69e-02 1.38e-02f  1\n",
      "  16r 1.9308288e+01 1.20e+01 9.30e+02   0.4 2.50e+03    -  2.44e-02 1.43e-02f  1\n",
      "  17r 1.9653999e+01 1.30e+01 9.26e+02   0.4 2.45e+03    -  2.45e-02 8.41e-03f  1\n",
      "  18r 1.9742881e+01 1.32e+01 9.25e+02   0.4 2.58e+03    -  2.32e-02 2.40e-03f  1\n",
      "  19r 2.0385371e+01 1.53e+01 9.08e+02   0.4 2.90e+03    -  1.88e-02 1.93e-02f  1\n",
      "iter    objective    inf_pr   inf_du lg(mu)  ||d||  lg(rg) alpha_du alpha_pr  ls\n",
      "  20r 2.0732667e+01 1.58e+01 8.96e+02   0.4 2.32e+03    -  2.52e-02 1.24e-02f  1\n",
      "  21r 2.1011027e+01 1.54e+01 8.86e+02   0.4 3.61e+03    -  1.79e-02 1.13e-02f  1\n",
      "  22r 2.1188228e+01 1.31e+01 8.79e+02   0.4 9.23e+03    -  1.28e-02 7.99e-03f  1\n",
      "  23r 2.1316079e+01 9.83e+00 8.74e+02   0.4 1.52e+04    -  1.13e-02 6.18e-03f  1\n",
      "  24r 2.1425851e+01 6.41e+00 8.69e+02   0.4 1.69e+04    -  1.04e-02 5.61e-03f  1\n",
      "  25r 2.1497810e+01 4.04e+00 8.65e+02   0.4 1.58e+04    -  1.27e-02 3.85e-03f  1\n",
      "  26r 2.1511848e+01 3.56e+00 8.65e+02   0.4 1.11e+04    -  9.24e-03 7.77e-04f  1\n",
      "  27r 2.1619093e+01 8.76e-01 8.59e+02   0.4 1.13e+04    -  7.48e-03 6.10e-03f  1\n",
      "  28  2.1638980e+01 8.73e-01 5.84e+01  -1.0 1.37e+02    -  1.18e-01 3.28e-03h  1\n",
      "  29  3.1228747e+01 6.34e-01 4.05e+03  -1.0 5.63e+02    -  1.82e-01 2.73e-01f  1\n",
      "iter    objective    inf_pr   inf_du lg(mu)  ||d||  lg(rg) alpha_du alpha_pr  ls\n",
      "  30  2.9172009e+01 6.15e-01 4.02e+03  -1.0 1.70e+03    -  3.17e-02 3.06e-02f  1\n",
      "  31  2.9124292e+01 6.14e-01 4.02e+03  -1.0 9.91e+02    -  4.64e-03 8.29e-04h  1\n",
      "  32  1.9333459e+01 3.03e-01 2.65e+03  -1.0 2.69e+02    -  5.36e-03 5.06e-01f  1\n",
      "  33  1.6802856e+01 2.65e-01 2.34e+03  -1.0 1.68e+01    -  6.80e-02 1.28e-01f  1\n",
      "  34  1.6632639e+01 2.62e-01 2.32e+03  -1.0 1.18e+02    -  3.71e-01 7.93e-03h  1\n",
      "  35  4.3391462e+00 8.84e-02 1.55e+03  -1.0 1.05e+02    -  3.19e-01 6.63e-01h  1\n",
      "  36  3.8526694e+00 8.30e-02 1.46e+03  -1.0 8.47e+01    -  6.12e-01 6.16e-02h  1\n",
      "  37  1.5745518e+00 1.07e-01 8.84e+02  -1.0 4.14e+00    -  1.82e-01 6.87e-01h  1\n",
      "  38  5.3060317e-01 7.11e-02 7.05e+02  -1.0 7.02e+01    -  1.40e-01 5.24e-01h  1\n",
      "  39  1.4826099e-01 3.69e-02 4.17e+03  -1.0 2.43e+02    -  3.15e-01 6.72e-01h  1\n",
      "iter    objective    inf_pr   inf_du lg(mu)  ||d||  lg(rg) alpha_du alpha_pr  ls\n",
      "  40  2.1174556e-01 5.06e-03 1.70e+03  -1.0 2.78e+02    -  6.85e-01 1.00e+00f  1\n",
      "  41  3.3862904e-01 1.75e-03 4.29e+03  -1.0 8.30e+02    -  5.31e-01 1.00e+00f  1\n",
      "  42  4.4071358e-01 1.32e-03 1.49e+03  -1.0 3.87e+02    -  3.72e-01 9.64e-01f  1\n",
      "  43  2.1059305e-01 3.66e-04 3.46e+01  -1.0 1.36e+02    -  9.69e-01 1.00e+00f  1\n",
      "  44  4.1965194e-01 7.96e-04 1.38e+03  -1.0 7.03e+02    -  6.88e-01 2.68e-01f  1\n",
      "  45  2.7029633e+00 8.90e-04 5.38e+01  -1.0 1.77e+02    -  1.00e+00 9.63e-01f  1\n",
      "  46  2.4882288e+00 1.71e-05 4.29e+01  -1.0 1.48e+01    -  4.22e-01 1.00e+00f  1\n",
      "  47  1.5677348e+00 5.43e-05 2.55e+00  -1.0 3.68e+01    -  1.00e+00 1.00e+00f  1\n",
      "  48  9.2553328e-01 5.21e-05 1.58e+03  -1.7 4.02e+01    -  5.86e-01 1.00e+00f  1\n",
      "  49  5.8524843e-01 3.95e-05 8.30e-01  -1.7 3.75e+01    -  1.00e+00 1.00e+00f  1\n",
      "iter    objective    inf_pr   inf_du lg(mu)  ||d||  lg(rg) alpha_du alpha_pr  ls\n",
      "  50  3.1080245e-01 9.48e-05 2.52e+02  -2.5 6.03e+01    -  7.40e-01 1.00e+00f  1\n",
      "  51  2.5840040e-01 2.35e-05 2.07e+01  -2.5 3.51e+01    -  9.29e-01 1.00e+00h  1\n",
      "  52  1.6916806e-01 1.92e-05 2.84e+00  -2.5 7.83e+01    -  8.00e-01 1.00e+00F  1\n",
      "  53  1.9278294e-01 1.28e-05 3.31e-02  -2.5 2.75e+01    -  1.00e+00 1.00e+00h  1\n",
      "  54  1.1433377e-01 2.38e-04 8.68e+01  -3.8 1.18e+02    -  4.38e-01 1.00e+00f  1\n",
      "  55  8.9109251e-02 1.37e-04 1.43e+01  -3.8 1.11e+02    -  8.47e-01 1.00e+00h  1\n",
      "  56  8.4477989e-02 4.05e-05 8.61e+00  -3.8 6.68e+01    -  5.96e-01 1.00e+00h  1\n",
      "  57  6.8085172e-02 8.81e-04 1.87e-01  -3.8 4.00e+02    -  1.00e+00 8.69e-01H  1\n",
      "  58  7.4428067e-02 2.94e-04 4.71e-01  -3.8 1.84e+02    -  1.00e+00 1.00e+00h  1\n",
      "  59  6.8509372e-02 2.11e-04 2.47e+00  -3.8 1.86e+02    -  6.11e-01 1.00e+00h  1\n",
      "iter    objective    inf_pr   inf_du lg(mu)  ||d||  lg(rg) alpha_du alpha_pr  ls\n",
      "  60  6.4681703e-02 1.09e-04 5.46e-02  -3.8 1.52e+02    -  1.00e+00 1.00e+00h  1\n",
      "  61  6.2497973e-02 4.16e-05 3.00e-02  -3.8 1.01e+02    -  1.00e+00 1.00e+00h  1\n",
      "  62  6.2038184e-02 1.89e-06 2.61e-03  -3.8 2.43e+01    -  1.00e+00 1.00e+00h  1\n",
      "  63  6.2021064e-02 2.77e-09 5.30e-06  -3.8 9.63e-01    -  1.00e+00 1.00e+00h  1\n",
      "  64  5.8020946e-02 1.56e-04 2.51e+00  -5.7 1.31e+03    -  3.72e-01 1.52e-01f  1\n",
      "  65  5.5405564e-02 8.67e-05 3.13e+00  -5.7 1.82e+02    -  9.25e-01 1.00e+00h  1\n",
      "  66  5.5362591e-02 8.57e-06 3.77e-01  -5.7 3.09e+01    -  1.00e+00 9.13e-01h  1\n",
      "  67  5.5364226e-02 8.83e-09 1.62e-05  -5.7 2.79e+00    -  1.00e+00 1.00e+00f  1\n",
      "  68  5.5361920e-02 1.64e-08 9.53e-03  -8.6 2.61e+00    -  1.00e+00 9.86e-01h  1\n",
      "  69  5.5361935e-02 4.39e-12 3.91e-09  -8.6 4.38e-02    -  1.00e+00 1.00e+00h  1\n",
      "\n",
      "Number of Iterations....: 69\n",
      "\n",
      "                                   (scaled)                 (unscaled)\n",
      "Objective...............:   5.5361934907923259e-02    5.5361934907923259e-02\n",
      "Dual infeasibility......:   3.9088461039431818e-09    3.9088461039431818e-09\n",
      "Constraint violation....:   4.3887862094527108e-12    4.3887862094527108e-12\n",
      "Variable bound violation:   9.9478020398251620e-09    9.9478020398251620e-09\n",
      "Complementarity.........:   2.5068362177164646e-09    2.5068362177164646e-09\n",
      "Overall NLP error.......:   3.7595393411744658e-09    3.9088461039431818e-09\n",
      "\n",
      "\n",
      "Number of objective function evaluations             = 75\n",
      "Number of objective gradient evaluations             = 53\n",
      "Number of equality constraint evaluations            = 75\n",
      "Number of inequality constraint evaluations          = 0\n",
      "Number of equality constraint Jacobian evaluations   = 71\n",
      "Number of inequality constraint Jacobian evaluations = 0\n",
      "Number of Lagrangian Hessian evaluations             = 69\n",
      "Total seconds in IPOPT                               = 0.194\n",
      "\n",
      "EXIT: Optimal Solution Found.\n",
      "\b\b\b\b\b\b\b\b\b\b\b\b\b\b"
     ]
    },
    {
     "data": {
      "text/plain": [
       "{'Problem': [{'Lower bound': -inf, 'Upper bound': inf, 'Number of objectives': 1, 'Number of constraints': 1651, 'Number of variables': 1654, 'Sense': 'unknown'}], 'Solver': [{'Status': 'ok', 'Message': 'Ipopt 3.14.5\\\\x3a Optimal Solution Found', 'Termination condition': 'optimal', 'Id': 0, 'Error rc': 0, 'Time': 0.21822023391723633}], 'Solution': [OrderedDict([('number of solutions', 0), ('number of solutions displayed', 0)])]}"
      ]
     },
     "execution_count": 63,
     "metadata": {},
     "output_type": "execute_result"
    }
   ],
   "source": [
    "solver = SolverFactory('ipopt')\n",
    "solver.solve(m, tee = True)"
   ]
  },
  {
   "cell_type": "code",
   "execution_count": 64,
   "metadata": {},
   "outputs": [
    {
     "data": {
      "text/plain": [
       "[2200.1819830807212, 926.7832342537837, 2.3292893352016577]"
      ]
     },
     "execution_count": 64,
     "metadata": {},
     "output_type": "execute_result"
    }
   ],
   "source": [
    "[m.k1(), m.k2(), m.nA0()]"
   ]
  },
  {
   "cell_type": "code",
   "execution_count": 65,
   "metadata": {},
   "outputs": [
    {
     "name": "stdout",
     "output_type": "stream",
     "text": [
      "Ipopt 3.14.5: bound_relax_factor=0\n",
      "honor_original_bounds=no\n",
      "\n",
      "\n",
      "******************************************************************************\n",
      "This program contains Ipopt, a library for large-scale nonlinear optimization.\n",
      " Ipopt is released as open source code under the Eclipse Public License (EPL).\n",
      "         For more information visit https://github.com/coin-or/Ipopt\n",
      "******************************************************************************\n",
      "\n",
      "This is Ipopt version 3.14.5, running with linear solver ma27.\n",
      "\n",
      "Number of nonzeros in equality constraint Jacobian...:     6448\n",
      "Number of nonzeros in inequality constraint Jacobian.:        0\n",
      "Number of nonzeros in Lagrangian Hessian.............:     2285\n",
      "\n",
      "Total number of variables............................:     1654\n",
      "                     variables with only lower bounds:      150\n",
      "                variables with lower and upper bounds:      754\n",
      "                     variables with only upper bounds:        0\n",
      "Total number of equality constraints.................:     1651\n",
      "Total number of inequality constraints...............:        0\n",
      "        inequality constraints with only lower bounds:        0\n",
      "   inequality constraints with lower and upper bounds:        0\n",
      "        inequality constraints with only upper bounds:        0\n",
      "\n",
      "iter    objective    inf_pr   inf_du lg(mu)  ||d||  lg(rg) alpha_du alpha_pr  ls\n",
      "   0  5.5361935e-02 2.50e+00 2.82e+00  -1.0 0.00e+00    -  0.00e+00 0.00e+00   0\n",
      "   1  4.5655564e-01 2.62e-01 4.33e+03  -1.0 2.25e+01    -  2.63e-02 8.95e-01h  1\n",
      "   2  3.7683301e-01 9.75e-02 6.69e+02  -1.0 1.65e+01    -  6.63e-01 6.61e-01h  1\n",
      "   3  2.4513407e-01 6.77e-03 6.24e+04  -1.0 5.44e+01    -  1.97e-01 1.00e+00h  1\n",
      "   4  7.3436397e-02 3.99e-03 2.19e+04  -1.0 8.93e+01    -  9.60e-01 4.12e-01f  1\n",
      "   5  4.2571799e-01 1.81e-03 2.19e+04  -1.0 9.89e+02    -  3.21e-01 8.24e-01f  1\n",
      "   6  7.7732566e-01 1.79e-04 3.57e+04  -1.0 1.18e+02    -  4.20e-01 1.00e+00f  1\n",
      "   7  4.9818115e-01 6.44e-04 1.42e+04  -1.0 5.60e+02    -  3.60e-01 5.68e-01f  1\n",
      "   8  8.1385495e-01 3.93e-04 6.70e+03  -1.0 1.62e+02    -  3.00e-01 1.00e+00f  1\n",
      "   9  7.2134633e-01 5.08e-04 4.25e+02  -1.0 1.57e+02    -  7.04e-01 1.00e+00f  1\n",
      "iter    objective    inf_pr   inf_du lg(mu)  ||d||  lg(rg) alpha_du alpha_pr  ls\n",
      "  10  7.0521146e-01 5.29e-04 3.10e+02  -1.0 2.72e+02    -  3.57e-01 2.77e-01f  1\n",
      "  11  1.5782568e+00 5.82e-05 4.59e+00  -1.0 3.01e+01    -  1.00e+00 1.00e+00f  1\n",
      "  12  1.6369720e+00 4.59e-05 1.68e+00  -1.0 3.53e+01    -  1.00e+00 1.00e+00f  1\n",
      "  13  8.4987236e-01 7.80e-05 1.66e+03  -1.7 4.85e+01    -  5.59e-01 1.00e+00f  1\n",
      "  14  5.6275050e-01 3.25e-05 1.22e+00  -1.7 3.52e+01    -  1.00e+00 1.00e+00f  1\n",
      "  15  4.6684275e-01 7.85e-06 2.04e-01  -1.7 1.80e+01    -  1.00e+00 1.00e+00h  1\n",
      "  16  4.6213460e-01 3.19e-08 8.23e-05  -1.7 1.35e+00    -  1.00e+00 1.00e+00h  1\n",
      "  17  2.7410470e-01 8.56e-05 2.91e+02  -3.8 5.81e+01    -  7.30e-01 1.00e+00f  1\n",
      "  18  2.3890966e-01 3.01e-05 1.66e+02  -3.8 4.02e+01    -  5.06e-01 1.00e+00h  1\n",
      "  19  1.1265310e-01 3.91e-04 1.02e+02  -3.8 1.46e+02    -  3.32e-01 1.00e+00f  1\n",
      "iter    objective    inf_pr   inf_du lg(mu)  ||d||  lg(rg) alpha_du alpha_pr  ls\n",
      "  20  8.7436721e-02 1.64e-04 9.73e+00  -3.8 1.27e+02    -  9.16e-01 1.00e+00h  1\n",
      "  21  8.0485424e-02 1.96e-04 1.61e+01  -3.8 1.39e+02    -  1.99e-01 1.00e+00h  1\n",
      "  22  6.5274535e-02 6.05e-04 7.59e-02  -3.8 3.47e+02    -  1.00e+00 1.00e+00H  1\n",
      "  23  6.4541549e-02 6.06e-06 1.87e-02  -3.8 5.58e+01    -  1.00e+00 1.00e+00h  1\n",
      "  24  6.1863127e-02 1.47e-05 9.40e-03  -3.8 1.05e+02    -  1.00e+00 1.00e+00H  1\n",
      "  25  6.2010443e-02 2.07e-07 4.08e-04  -3.8 6.24e+00    -  1.00e+00 1.00e+00h  1\n",
      "  26  5.8019341e-02 1.56e-04 2.51e+00  -5.7 1.31e+03    -  3.72e-01 1.52e-01f  1\n",
      "  27  5.5406010e-02 8.65e-05 3.13e+00  -5.7 1.82e+02    -  9.25e-01 1.00e+00h  1\n",
      "  28  5.5363052e-02 8.60e-06 3.79e-01  -5.7 3.09e+01    -  1.00e+00 9.13e-01h  1\n",
      "  29  5.5364706e-02 8.91e-09 1.62e-05  -5.7 2.80e+00    -  1.00e+00 1.00e+00f  1\n",
      "iter    objective    inf_pr   inf_du lg(mu)  ||d||  lg(rg) alpha_du alpha_pr  ls\n",
      "  30  5.5362400e-02 1.64e-08 9.53e-03  -8.6 2.61e+00    -  1.00e+00 9.86e-01h  1\n",
      "  31  5.5362415e-02 4.39e-12 3.91e-09  -8.6 4.38e-02    -  1.00e+00 1.00e+00h  1\n",
      "\n",
      "Number of Iterations....: 31\n",
      "\n",
      "                                   (scaled)                 (unscaled)\n",
      "Objective...............:   5.5362414985141710e-02    5.5362414985141710e-02\n",
      "Dual infeasibility......:   3.9097909291806418e-09    3.9097909291806418e-09\n",
      "Constraint violation....:   4.3887844747292348e-12    4.3887844747292348e-12\n",
      "Variable bound violation:   0.0000000000000000e+00    0.0000000000000000e+00\n",
      "Complementarity.........:   2.5068362200251658e-09    2.5068362200251658e-09\n",
      "Overall NLP error.......:   3.9097909291806418e-09    3.9097909291806418e-09\n",
      "\n",
      "\n",
      "Number of objective function evaluations             = 34\n",
      "Number of objective gradient evaluations             = 32\n",
      "Number of equality constraint evaluations            = 34\n",
      "Number of inequality constraint evaluations          = 0\n",
      "Number of equality constraint Jacobian evaluations   = 32\n",
      "Number of inequality constraint Jacobian evaluations = 0\n",
      "Number of Lagrangian Hessian evaluations             = 31\n",
      "Total seconds in IPOPT                               = 0.091\n",
      "\n",
      "EXIT: Optimal Solution Found.\n"
     ]
    }
   ],
   "source": [
    "solve_result, inv_red_hes = inv_reduced_hessian_barrier(m, \n",
    "                    independent_variables= [m.k1, m.k2, m.nA0],\n",
    "                    tee=True)"
   ]
  },
  {
   "cell_type": "code",
   "execution_count": 66,
   "metadata": {},
   "outputs": [
    {
     "data": {
      "text/plain": [
       "[2200.149240435383, 926.7702139390947, 2.329289289148926]"
      ]
     },
     "execution_count": 66,
     "metadata": {},
     "output_type": "execute_result"
    }
   ],
   "source": [
    "[m.k1(), m.k2(), m.nA0()]"
   ]
  },
  {
   "cell_type": "code",
   "execution_count": 67,
   "metadata": {},
   "outputs": [
    {
     "data": {
      "text/plain": [
       "array([[ 7.82685510e+06,  3.17845887e+05, -5.98176475e+01],\n",
       "       [ 3.17845887e+05,  2.05271105e+04, -3.64865672e+00],\n",
       "       [-5.98176475e+01, -3.64865672e+00,  6.52389703e-04]])"
      ]
     },
     "execution_count": 67,
     "metadata": {},
     "output_type": "execute_result"
    }
   ],
   "source": [
    "inv_red_hes"
   ]
  },
  {
   "cell_type": "code",
   "execution_count": 68,
   "metadata": {},
   "outputs": [
    {
     "data": {
      "text/plain": [
       "(35, 3.0, 0.05536241498514171)"
      ]
     },
     "execution_count": 68,
     "metadata": {},
     "output_type": "execute_result"
    }
   ],
   "source": [
    "n = len(data[0]['tlc'])\n",
    "p = 3.0\n",
    "sse = m.SSE_Objective()\n",
    "n, p, sse"
   ]
  },
  {
   "cell_type": "code",
   "execution_count": 69,
   "metadata": {},
   "outputs": [
    {
     "data": {
      "text/plain": [
       "8.703358751522511"
      ]
     },
     "execution_count": 69,
     "metadata": {},
     "output_type": "execute_result"
    }
   ],
   "source": [
    "mult_factor = p * spstat.f.ppf(0.95, p, n-p)\n",
    "mult_factor"
   ]
  },
  {
   "cell_type": "code",
   "execution_count": 70,
   "metadata": {},
   "outputs": [
    {
     "data": {
      "text/plain": [
       "array([[ 2.70821000e+04,  1.09979474e+03, -2.06978089e-01],\n",
       "       [ 1.09979474e+03,  7.10269006e+01, -1.26249030e-02],\n",
       "       [-2.06978089e-01, -1.26249030e-02,  2.25736684e-06]])"
      ]
     },
     "execution_count": 70,
     "metadata": {},
     "output_type": "execute_result"
    }
   ],
   "source": [
    "cov_est = 2 * sse / (n - p) * inv_red_hes\n",
    "cov_est"
   ]
  },
  {
   "cell_type": "code",
   "execution_count": 71,
   "metadata": {},
   "outputs": [
    {
     "data": {
      "text/plain": [
       "array([4.85494832e+02, 2.48630770e+01, 4.43245682e-03])"
      ]
     },
     "execution_count": 71,
     "metadata": {},
     "output_type": "execute_result"
    }
   ],
   "source": [
    "delta_param = np.sqrt(mult_factor * np.diag(cov_est))\n",
    "delta_param"
   ]
  },
  {
   "cell_type": "code",
   "execution_count": null,
   "metadata": {},
   "outputs": [],
   "source": []
  },
  {
   "cell_type": "code",
   "execution_count": null,
   "metadata": {},
   "outputs": [],
   "source": []
  }
 ],
 "metadata": {
  "kernelspec": {
   "display_name": "Python 3 (ipykernel)",
   "language": "python",
   "name": "python3"
  },
  "language_info": {
   "codemirror_mode": {
    "name": "ipython",
    "version": 3
   },
   "file_extension": ".py",
   "mimetype": "text/x-python",
   "name": "python",
   "nbconvert_exporter": "python",
   "pygments_lexer": "ipython3",
   "version": "3.8.10"
  }
 },
 "nbformat": 4,
 "nbformat_minor": 2
}
