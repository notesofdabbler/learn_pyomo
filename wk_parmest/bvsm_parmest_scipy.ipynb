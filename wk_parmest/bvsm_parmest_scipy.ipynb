{
 "cells": [
  {
   "cell_type": "code",
   "execution_count": 1,
   "id": "652d9b96",
   "metadata": {},
   "outputs": [],
   "source": [
    "import pandas as pd\n",
    "import numpy as np\n",
    "import matplotlib.pyplot as plt\n",
    "from scipy.interpolate import interp1d\n",
    "from scipy.integrate import solve_ivp\n",
    "from scipy.optimize import minimize\n",
    "import numdifftools as ndt\n",
    "from scipy.stats import f"
   ]
  },
  {
   "cell_type": "code",
   "execution_count": 2,
   "id": "d62a539c",
   "metadata": {},
   "outputs": [],
   "source": [
    "# load flow rate data\n",
    "flow_data = pd.read_csv('flow_data.csv')\n",
    "lc_data = pd.read_csv('lc_data.csv')\n",
    "teaf      = 0.00721\n",
    "teaden    = 0.728\n",
    "cBf = teaf"
   ]
  },
  {
   "cell_type": "code",
   "execution_count": 3,
   "id": "1f62e6b7",
   "metadata": {},
   "outputs": [],
   "source": [
    "tQf = np.insert(flow_data['t'].values, 0, 0)\n",
    "Qf = np.insert(flow_data[\"Qf\"].values / teaden, 0, 0)"
   ]
  },
  {
   "cell_type": "code",
   "execution_count": 4,
   "id": "f6b45adb",
   "metadata": {},
   "outputs": [],
   "source": [
    "tlc = lc_data['t'].values\n",
    "lc = lc_data['lc_meas'].values"
   ]
  },
  {
   "cell_type": "code",
   "execution_count": 5,
   "id": "d028b4f1",
   "metadata": {},
   "outputs": [],
   "source": [
    "Qf_if = interp1d(tQf, Qf, 'previous', bounds_error = False)"
   ]
  },
  {
   "cell_type": "code",
   "execution_count": 6,
   "id": "9771736d",
   "metadata": {},
   "outputs": [
    {
     "data": {
      "text/plain": [
       "[<matplotlib.lines.Line2D at 0x7f366fd81490>]"
      ]
     },
     "execution_count": 6,
     "metadata": {},
     "output_type": "execute_result"
    },
    {
     "data": {
      "image/png": "[encoded data removed]",
      "text/plain": [
       "<Figure size 432x288 with 1 Axes>"
      ]
     },
     "metadata": {
      "needs_background": "light"
     },
     "output_type": "display_data"
    }
   ],
   "source": [
    "t_i = np.arange(0.0, 850.0)\n",
    "Qf_i = [Qf_if(t) for t in t_i]\n",
    "\n",
    "fig, ax = plt.subplots()\n",
    "ax.scatter(tQf, Qf)\n",
    "ax.plot(t_i, Qf_i)"
   ]
  },
  {
   "cell_type": "code",
   "execution_count": 10,
   "id": "cf03d818",
   "metadata": {},
   "outputs": [],
   "source": [
    "def rates(t, y, p):\n",
    "    vR = y[0]\n",
    "    nA = y[1]\n",
    "    nB = y[2]\n",
    "    nC = y[3]\n",
    "    nD = y[4]\n",
    "    \n",
    "    Qf_if = p[0]\n",
    "    k1 = p[1]\n",
    "    k2 = p[2]\n",
    "    \n",
    "    cBf = 0.00721\n",
    "    \n",
    "    dvR = Qf_if\n",
    "    dnA = -k1 * nA * nB / vR\n",
    "    dnB = Qf_if * cBf - nB * (k1 * nA + k2 * nC) / vR\n",
    "    dnC = nB * (k1 * nA - k2 * nC) / vR\n",
    "    dnD = k2 * nC * nB / vR\n",
    "    \n",
    "    return [dvR, dnA, dnB, dnC, dnD]"
   ]
  },
  {
   "cell_type": "code",
   "execution_count": 11,
   "id": "6627e26f",
   "metadata": {},
   "outputs": [],
   "source": [
    "def simprob(p, tQf, Qf):\n",
    "\n",
    "    y0 = [2370.0, p[0], 0.0, 0.0, 0.0]\n",
    "\n",
    "    for (i, t) in enumerate(tQf[:-1]):\n",
    "        #print(i)\n",
    "        tspan = [0.0, tQf[i+1] - tQf[i]]\n",
    "        p_ext = [Qf[i], p[1], p[2]]\n",
    "        sol = solve_ivp(rates, tspan, y0, method = \"BDF\", args = (p_ext,))\n",
    "        sol.t = sol.t + tQf[i]\n",
    "        y0 = sol.y[:,-1]\n",
    "        if i == 0:\n",
    "            sol_l_t = np.copy(sol.t)\n",
    "            sol_l_y = np.copy(sol.y)\n",
    "        else:\n",
    "            sol_l_t = np.concatenate((sol_l_t, sol.t))\n",
    "            sol_l_y = np.concatenate((sol_l_y, sol.y), axis = 1)\n",
    "            \n",
    "    return sol_l_t, sol_l_y"
   ]
  },
  {
   "cell_type": "code",
   "execution_count": 33,
   "id": "d6712515",
   "metadata": {},
   "outputs": [],
   "source": [
    "def get_lcpred(sol):\n",
    "    \n",
    "    lc_pred =  1 / (1 + 2.0*sol[1,:]/np.maximum(sol[0,:], 1e-6))\n",
    "    \n",
    "    return lc_pred"
   ]
  },
  {
   "cell_type": "code",
   "execution_count": 40,
   "id": "be302baf",
   "metadata": {},
   "outputs": [],
   "source": [
    "def get_lc_sse(sol_l_t, sol_l_y, lc_data):\n",
    "    tlc = lc_data['t'].values\n",
    "    lc = lc_data['lc_meas'].values\n",
    "    sol_nC_int = interp1d(sol_l_t, sol_l_y[3,:], 'linear', bounds_error = False)\n",
    "    sol_nD_int = interp1d(sol_l_t, sol_l_y[4,:], 'linear', bounds_error = False)\n",
    "    sol_nC = np.array([sol_nC_int(t) for t in tlc])\n",
    "    sol_nD = np.array([sol_nD_int(t) for t in tlc])\n",
    "    sol = np.vstack((sol_nC, sol_nD))\n",
    "    lc_pred = get_lcpred(sol)\n",
    "    lc_ratio = lc_pred/lc\n",
    "    sse = np.sum((lc_ratio - 1.0)**2)\n",
    "    return sse"
   ]
  },
  {
   "cell_type": "code",
   "execution_count": 12,
   "id": "cb868eff",
   "metadata": {},
   "outputs": [],
   "source": [
    "sol_l_t, sol_l_y = simprob([2.35, 2500.0, 1250.0], tQf, Qf)"
   ]
  },
  {
   "cell_type": "code",
   "execution_count": 31,
   "id": "3917f8dd",
   "metadata": {},
   "outputs": [
    {
     "data": {
      "text/plain": [
       "[<matplotlib.lines.Line2D at 0x7f366d924f70>]"
      ]
     },
     "execution_count": 31,
     "metadata": {},
     "output_type": "execute_result"
    },
    {
     "data": {
      "image/png": "[encoded data removed]",
      "text/plain": [
       "<Figure size 432x288 with 1 Axes>"
      ]
     },
     "metadata": {
      "needs_background": "light"
     },
     "output_type": "display_data"
    }
   ],
   "source": [
    "fig, ax = plt.subplots()\n",
    "ax.plot(sol_l_t, sol_l_y[3,:])\n",
    "ax.plot(sol_l_t, sol_l_y[4,:])"
   ]
  },
  {
   "cell_type": "code",
   "execution_count": 34,
   "id": "8c552711",
   "metadata": {},
   "outputs": [
    {
     "data": {
      "text/plain": [
       "array([1.        , 1.        , 1.        , ..., 0.03919378, 0.03919223,\n",
       "       0.03918117])"
      ]
     },
     "execution_count": 34,
     "metadata": {},
     "output_type": "execute_result"
    }
   ],
   "source": [
    "lc_sim = get_lcpred(sol_l_y[3:5,:])\n",
    "lc_sim"
   ]
  },
  {
   "cell_type": "code",
   "execution_count": 36,
   "id": "7319f5bd",
   "metadata": {},
   "outputs": [
    {
     "data": {
      "text/plain": [
       "(0.0, 0.2)"
      ]
     },
     "execution_count": 36,
     "metadata": {},
     "output_type": "execute_result"
    },
    {
     "data": {
      "image/png": "[encoded data removed]",
      "text/plain": [
       "<Figure size 432x288 with 1 Axes>"
      ]
     },
     "metadata": {
      "needs_background": "light"
     },
     "output_type": "display_data"
    }
   ],
   "source": [
    "fig, ax = plt.subplots()\n",
    "ax.scatter(tlc, lc)\n",
    "ax.plot(sol_l_t, lc_sim)\n",
    "ax.set_xlim([400.0, 850.0])\n",
    "ax.set_ylim([0.0, 0.2])"
   ]
  },
  {
   "cell_type": "code",
   "execution_count": 41,
   "id": "0c0ca070",
   "metadata": {},
   "outputs": [
    {
     "data": {
      "text/plain": [
       "0.14569256212298504"
      ]
     },
     "execution_count": 41,
     "metadata": {},
     "output_type": "execute_result"
    }
   ],
   "source": [
    "tmp = get_lc_sse(sol_l_t, sol_l_y, lc_data)\n",
    "tmp"
   ]
  },
  {
   "cell_type": "code",
   "execution_count": 42,
   "id": "80851578",
   "metadata": {},
   "outputs": [],
   "source": [
    "def calc_SSE(pest, data):\n",
    "    sol_l_t, sol_l_y = simprob(pest, data['tQf'], data['Qf'])\n",
    "    SSE = get_lc_sse(sol_l_t, sol_l_y, data['lc_data'])\n",
    "    return SSE"
   ]
  },
  {
   "cell_type": "code",
   "execution_count": 43,
   "id": "e51c94c0",
   "metadata": {},
   "outputs": [],
   "source": [
    "pest_data = {'Qf_if': Qf_if, 'lc_data': lc_data, 'tQf': tQf, 'Qf': Qf}"
   ]
  },
  {
   "cell_type": "code",
   "execution_count": 44,
   "id": "583daf92",
   "metadata": {},
   "outputs": [
    {
     "data": {
      "text/plain": [
       "0.14569256212298504"
      ]
     },
     "execution_count": 44,
     "metadata": {},
     "output_type": "execute_result"
    }
   ],
   "source": [
    "calc_SSE([2.35, 2500.0, 1250.0], pest_data)"
   ]
  },
  {
   "cell_type": "code",
   "execution_count": 55,
   "id": "3efd1a95",
   "metadata": {},
   "outputs": [],
   "source": [
    "pe_sol = minimize(calc_SSE, [2.35, 1000.0, 1000.0], args = pest_data, method = \"L-BFGS-B\")"
   ]
  },
  {
   "cell_type": "code",
   "execution_count": 56,
   "id": "a6246ae5",
   "metadata": {},
   "outputs": [
    {
     "data": {
      "text/plain": [
       "      fun: 0.17361418268192358\n",
       " hess_inv: <3x3 LbfgsInvHessProduct with dtype=float64>\n",
       "      jac: array([-1.21933020e-04, -3.02205903e-05, -3.18161911e-05])\n",
       "  message: b'CONVERGENCE: REL_REDUCTION_OF_F_<=_FACTR*EPSMCH'\n",
       "     nfev: 272\n",
       "      nit: 35\n",
       "     njev: 68\n",
       "   status: 0\n",
       "  success: True\n",
       "        x: array([   2.34880653, 1301.85294678,  695.06513228])"
      ]
     },
     "execution_count": 56,
     "metadata": {},
     "output_type": "execute_result"
    }
   ],
   "source": [
    "pe_sol"
   ]
  },
  {
   "cell_type": "code",
   "execution_count": 45,
   "id": "97025e61",
   "metadata": {},
   "outputs": [],
   "source": [
    "calc_SSE_lam = lambda pest: calc_SSE(pest, pest_data)"
   ]
  },
  {
   "cell_type": "code",
   "execution_count": 46,
   "id": "5a5b58d1",
   "metadata": {},
   "outputs": [],
   "source": [
    "Hfn = ndt.Hessian(calc_SSE_lam)"
   ]
  },
  {
   "cell_type": "code",
   "execution_count": 47,
   "id": "822da214",
   "metadata": {},
   "outputs": [],
   "source": [
    "H = Hfn([2.35, 2500.0, 1250.0])"
   ]
  },
  {
   "cell_type": "code",
   "execution_count": 48,
   "id": "492ca9c0",
   "metadata": {},
   "outputs": [
    {
     "data": {
      "text/plain": [
       "array([[ 3.60046534e+03,  4.31843708e-02, -9.50247636e-02],\n",
       "       [ 4.31843708e-02,  6.75469007e-07, -1.51589774e-06],\n",
       "       [-9.50247636e-02, -1.51589774e-06,  3.44908690e-06]])"
      ]
     },
     "execution_count": 48,
     "metadata": {},
     "output_type": "execute_result"
    }
   ],
   "source": [
    "H"
   ]
  },
  {
   "cell_type": "code",
   "execution_count": 49,
   "id": "1cd28f95",
   "metadata": {},
   "outputs": [
    {
     "data": {
      "text/plain": [
       "array([[ 1.30941342e-03, -2.01682557e+02, -5.25656315e+01],\n",
       "       [-2.01682557e+02,  1.39507767e+08,  5.57581402e+07],\n",
       "       [-5.25656315e+01,  5.57581402e+07,  2.33478031e+07]])"
      ]
     },
     "execution_count": 49,
     "metadata": {},
     "output_type": "execute_result"
    }
   ],
   "source": [
    "np.linalg.inv(H) "
   ]
  },
  {
   "cell_type": "code",
   "execution_count": 50,
   "id": "813a9ad2",
   "metadata": {},
   "outputs": [
    {
     "data": {
      "text/plain": [
       "0.004414926124938941"
      ]
     },
     "execution_count": 50,
     "metadata": {},
     "output_type": "execute_result"
    }
   ],
   "source": [
    "nparam = 2\n",
    "ndata = 35\n",
    "mse = calc_SSE([2.35, 2500.0, 1250.0], pest_data)/(ndata - nparam)\n",
    "mse"
   ]
  },
  {
   "cell_type": "code",
   "execution_count": 51,
   "id": "0f8c9fa7",
   "metadata": {},
   "outputs": [
    {
     "data": {
      "text/plain": [
       "array([[ 1.15619270e-05, -1.78082718e+00, -4.64146760e-01],\n",
       "       [-1.78082718e+00,  1.23183297e+06,  4.92336140e+05],\n",
       "       [-4.64146760e-01,  4.92336140e+05,  2.06157652e+05]])"
      ]
     },
     "execution_count": 51,
     "metadata": {},
     "output_type": "execute_result"
    }
   ],
   "source": [
    "cov_est = 2 * mse * np.linalg.inv(H)\n",
    "cov_est"
   ]
  },
  {
   "cell_type": "code",
   "execution_count": 53,
   "id": "550bb8b8",
   "metadata": {},
   "outputs": [
    {
     "data": {
      "text/plain": [
       "6.5698353020765765"
      ]
     },
     "execution_count": 53,
     "metadata": {},
     "output_type": "execute_result"
    }
   ],
   "source": [
    "nparam = 2\n",
    "ndata = 35\n",
    "alpha = 0.95\n",
    "mult_factor = nparam * f.ppf(alpha, nparam, ndata - nparam)\n",
    "mult_factor"
   ]
  },
  {
   "cell_type": "code",
   "execution_count": 54,
   "id": "4183d31a",
   "metadata": {},
   "outputs": [
    {
     "data": {
      "text/plain": [
       "array([8.71550092e-03, 2.84480926e+03, 1.16379630e+03])"
      ]
     },
     "execution_count": 54,
     "metadata": {},
     "output_type": "execute_result"
    }
   ],
   "source": [
    "conf_delta = np.sqrt(np.diag(cov_est) * mult_factor)\n",
    "conf_delta"
   ]
  },
  {
   "cell_type": "code",
   "execution_count": null,
   "id": "97808727",
   "metadata": {},
   "outputs": [],
   "source": []
  }
 ],
 "metadata": {
  "kernelspec": {
   "display_name": "Python 3",
   "language": "python",
   "name": "python3"
  },
  "language_info": {
   "codemirror_mode": {
    "name": "ipython",
    "version": 3
   },
   "file_extension": ".py",
   "mimetype": "text/x-python",
   "name": "python",
   "nbconvert_exporter": "python",
   "pygments_lexer": "ipython3",
   "version": "3.9.0"
  }
 },
 "nbformat": 4,
 "nbformat_minor": 5
}
