{
 "cells": [
  {
   "cell_type": "markdown",
   "metadata": {},
   "source": [
    "This is an attempt to recreate the parameter estimation [example](https://sites.engineering.ucsb.edu/~jbraw/chemreacfun/fig-html/appendix/fig-A-10.html) from James Rawlings book on [Reactor Design](https://sites.engineering.ucsb.edu/~jbraw/chemreacfun/) using Pyomo."
   ]
  },
  {
   "cell_type": "code",
   "execution_count": 1,
   "metadata": {},
   "outputs": [],
   "source": [
    "# Import libraries\n",
    "import numpy as np\n",
    "import matplotlib.pyplot as plt\n",
    "import pandas as pd\n",
    "import pyomo.environ as pyo\n",
    "import pyomo.dae as dae"
   ]
  },
  {
   "cell_type": "code",
   "execution_count": 5,
   "metadata": {},
   "outputs": [
    {
     "data": {
      "text/html": [
       "<div>\n",
       "<style scoped>\n",
       "    .dataframe tbody tr th:only-of-type {\n",
       "        vertical-align: middle;\n",
       "    }\n",
       "\n",
       "    .dataframe tbody tr th {\n",
       "        vertical-align: top;\n",
       "    }\n",
       "\n",
       "    .dataframe thead th {\n",
       "        text-align: right;\n",
       "    }\n",
       "</style>\n",
       "<table border=\"1\" class=\"dataframe\">\n",
       "  <thead>\n",
       "    <tr style=\"text-align: right;\">\n",
       "      <th></th>\n",
       "      <th>A</th>\n",
       "      <th>B</th>\n",
       "      <th>C</th>\n",
       "      <th>D</th>\n",
       "      <th>T</th>\n",
       "    </tr>\n",
       "  </thead>\n",
       "  <tbody>\n",
       "    <tr>\n",
       "      <th>0.000000</th>\n",
       "      <td>0.999430</td>\n",
       "      <td>2.026647</td>\n",
       "      <td>-0.021488</td>\n",
       "      <td>-0.092859</td>\n",
       "      <td>298</td>\n",
       "    </tr>\n",
       "    <tr>\n",
       "      <th>0.311111</th>\n",
       "      <td>0.657779</td>\n",
       "      <td>1.465442</td>\n",
       "      <td>0.212230</td>\n",
       "      <td>0.217942</td>\n",
       "      <td>298</td>\n",
       "    </tr>\n",
       "    <tr>\n",
       "      <th>0.666667</th>\n",
       "      <td>0.393358</td>\n",
       "      <td>1.057921</td>\n",
       "      <td>0.304588</td>\n",
       "      <td>0.407075</td>\n",
       "      <td>298</td>\n",
       "    </tr>\n",
       "    <tr>\n",
       "      <th>0.977778</th>\n",
       "      <td>0.291383</td>\n",
       "      <td>0.817799</td>\n",
       "      <td>0.192745</td>\n",
       "      <td>0.566569</td>\n",
       "      <td>298</td>\n",
       "    </tr>\n",
       "    <tr>\n",
       "      <th>1.333333</th>\n",
       "      <td>0.132911</td>\n",
       "      <td>0.574218</td>\n",
       "      <td>0.124419</td>\n",
       "      <td>0.609271</td>\n",
       "      <td>298</td>\n",
       "    </tr>\n",
       "  </tbody>\n",
       "</table>\n",
       "</div>"
      ],
      "text/plain": [
       "                 A         B         C         D    T\n",
       "0.000000  0.999430  2.026647 -0.021488 -0.092859  298\n",
       "0.311111  0.657779  1.465442  0.212230  0.217942  298\n",
       "0.666667  0.393358  1.057921  0.304588  0.407075  298\n",
       "0.977778  0.291383  0.817799  0.192745  0.566569  298\n",
       "1.333333  0.132911  0.574218  0.124419  0.609271  298"
      ]
     },
     "execution_count": 5,
     "metadata": {},
     "output_type": "execute_result"
    }
   ],
   "source": [
    "data_df_1 = pd.read_csv('../../learn_kipet/my_data_sets/ABCD_cb0_2_temp_298.csv', index_col = 0)\n",
    "data_df_1.head()"
   ]
  },
  {
   "cell_type": "code",
   "execution_count": 6,
   "metadata": {},
   "outputs": [
    {
     "data": {
      "text/html": [
       "<div>\n",
       "<style scoped>\n",
       "    .dataframe tbody tr th:only-of-type {\n",
       "        vertical-align: middle;\n",
       "    }\n",
       "\n",
       "    .dataframe tbody tr th {\n",
       "        vertical-align: top;\n",
       "    }\n",
       "\n",
       "    .dataframe thead th {\n",
       "        text-align: right;\n",
       "    }\n",
       "</style>\n",
       "<table border=\"1\" class=\"dataframe\">\n",
       "  <thead>\n",
       "    <tr style=\"text-align: right;\">\n",
       "      <th></th>\n",
       "      <th>A</th>\n",
       "      <th>B</th>\n",
       "      <th>C</th>\n",
       "      <th>D</th>\n",
       "      <th>T</th>\n",
       "    </tr>\n",
       "  </thead>\n",
       "  <tbody>\n",
       "    <tr>\n",
       "      <th>0.000000</th>\n",
       "      <td>1.049573</td>\n",
       "      <td>0.942065</td>\n",
       "      <td>-0.014951</td>\n",
       "      <td>-0.022228</td>\n",
       "      <td>298</td>\n",
       "    </tr>\n",
       "    <tr>\n",
       "      <th>0.544445</th>\n",
       "      <td>0.764401</td>\n",
       "      <td>0.563160</td>\n",
       "      <td>0.285190</td>\n",
       "      <td>0.177670</td>\n",
       "      <td>298</td>\n",
       "    </tr>\n",
       "    <tr>\n",
       "      <th>1.166667</th>\n",
       "      <td>0.545324</td>\n",
       "      <td>0.348745</td>\n",
       "      <td>0.220505</td>\n",
       "      <td>0.199405</td>\n",
       "      <td>298</td>\n",
       "    </tr>\n",
       "    <tr>\n",
       "      <th>1.711111</th>\n",
       "      <td>0.495911</td>\n",
       "      <td>0.143160</td>\n",
       "      <td>0.246272</td>\n",
       "      <td>0.378067</td>\n",
       "      <td>298</td>\n",
       "    </tr>\n",
       "    <tr>\n",
       "      <th>2.333333</th>\n",
       "      <td>0.485043</td>\n",
       "      <td>0.169657</td>\n",
       "      <td>0.309152</td>\n",
       "      <td>0.284624</td>\n",
       "      <td>298</td>\n",
       "    </tr>\n",
       "  </tbody>\n",
       "</table>\n",
       "</div>"
      ],
      "text/plain": [
       "                 A         B         C         D    T\n",
       "0.000000  1.049573  0.942065 -0.014951 -0.022228  298\n",
       "0.544445  0.764401  0.563160  0.285190  0.177670  298\n",
       "1.166667  0.545324  0.348745  0.220505  0.199405  298\n",
       "1.711111  0.495911  0.143160  0.246272  0.378067  298\n",
       "2.333333  0.485043  0.169657  0.309152  0.284624  298"
      ]
     },
     "execution_count": 6,
     "metadata": {},
     "output_type": "execute_result"
    }
   ],
   "source": [
    "data_df_2 = pd.read_csv(\"../../learn_kipet/my_data_sets/ABCD_cb0_1_T_298.csv\", index_col = 0)\n",
    "data_df_2.head()"
   ]
  },
  {
   "cell_type": "code",
   "execution_count": 7,
   "metadata": {},
   "outputs": [
    {
     "data": {
      "text/html": [
       "<div>\n",
       "<style scoped>\n",
       "    .dataframe tbody tr th:only-of-type {\n",
       "        vertical-align: middle;\n",
       "    }\n",
       "\n",
       "    .dataframe tbody tr th {\n",
       "        vertical-align: top;\n",
       "    }\n",
       "\n",
       "    .dataframe thead th {\n",
       "        text-align: right;\n",
       "    }\n",
       "</style>\n",
       "<table border=\"1\" class=\"dataframe\">\n",
       "  <thead>\n",
       "    <tr style=\"text-align: right;\">\n",
       "      <th></th>\n",
       "      <th>A</th>\n",
       "      <th>B</th>\n",
       "      <th>C</th>\n",
       "      <th>D</th>\n",
       "      <th>T</th>\n",
       "    </tr>\n",
       "  </thead>\n",
       "  <tbody>\n",
       "    <tr>\n",
       "      <th>0.000000</th>\n",
       "      <td>0.900899</td>\n",
       "      <td>2.012470</td>\n",
       "      <td>0.008105</td>\n",
       "      <td>0.011200</td>\n",
       "      <td>273</td>\n",
       "    </tr>\n",
       "    <tr>\n",
       "      <th>1.166667</th>\n",
       "      <td>0.480168</td>\n",
       "      <td>1.194384</td>\n",
       "      <td>0.382285</td>\n",
       "      <td>0.193608</td>\n",
       "      <td>273</td>\n",
       "    </tr>\n",
       "    <tr>\n",
       "      <th>2.500000</th>\n",
       "      <td>0.140865</td>\n",
       "      <td>0.710956</td>\n",
       "      <td>0.348401</td>\n",
       "      <td>0.486773</td>\n",
       "      <td>273</td>\n",
       "    </tr>\n",
       "    <tr>\n",
       "      <th>3.666667</th>\n",
       "      <td>0.179051</td>\n",
       "      <td>0.579542</td>\n",
       "      <td>0.227455</td>\n",
       "      <td>0.466939</td>\n",
       "      <td>273</td>\n",
       "    </tr>\n",
       "    <tr>\n",
       "      <th>5.000000</th>\n",
       "      <td>0.164998</td>\n",
       "      <td>0.439625</td>\n",
       "      <td>0.265172</td>\n",
       "      <td>0.637897</td>\n",
       "      <td>273</td>\n",
       "    </tr>\n",
       "  </tbody>\n",
       "</table>\n",
       "</div>"
      ],
      "text/plain": [
       "                 A         B         C         D    T\n",
       "0.000000  0.900899  2.012470  0.008105  0.011200  273\n",
       "1.166667  0.480168  1.194384  0.382285  0.193608  273\n",
       "2.500000  0.140865  0.710956  0.348401  0.486773  273\n",
       "3.666667  0.179051  0.579542  0.227455  0.466939  273\n",
       "5.000000  0.164998  0.439625  0.265172  0.637897  273"
      ]
     },
     "execution_count": 7,
     "metadata": {},
     "output_type": "execute_result"
    }
   ],
   "source": [
    "data_df_3 = pd.read_csv(\"../../learn_kipet/my_data_sets/ABCD_cb0_1_T_273.csv\", index_col = 0)\n",
    "data_df_3.head()"
   ]
  },
  {
   "cell_type": "code",
   "execution_count": 94,
   "metadata": {},
   "outputs": [],
   "source": [
    "# Convert data to a list of dictionaries\n",
    "data = [{'A': {k:v for (k, v) in zip(data_df_1.index, data_df_1.A)},\n",
    "         #'B': {k:v for (k, v) in zip(data_df_1.index, data_df_1.B)},\n",
    "    #'C': {k:v for (k, v) in zip(data_df_1.index, data_df_1.C)},\n",
    "          'D': {k:v for (k, v) in zip(data_df_1.index, data_df_1.D)},\n",
    "       'init': {'A': 1, 'B': 2, 'C': 0, 'D':0, 'T':298}}]\n",
    "data.append(\n",
    "{\n",
    "    #'A': {k:v for (k, v) in zip(data_df_2.index, data_df_2.A)},\n",
    "    'B': {k:v for (k, v) in zip(data_df_2.index, data_df_2.B)},\n",
    "    #'C': {k:v for (k, v) in zip(data_df_2.index, data_df_2.C)},\n",
    "    'D': {k:v for (k, v) in zip(data_df_2.index, data_df_2.D)},\n",
    "       'init': {'A': 1, 'B': 1, 'C': 0, 'D':0, 'T':298}}\n",
    ")\n",
    "data.append(\n",
    "{'A': {k:v for (k, v) in zip(data_df_3.index, data_df_3.A)},\n",
    "    'B': {k:v for (k, v) in zip(data_df_3.index, data_df_3.B)},\n",
    "    'C': {k:v for (k, v) in zip(data_df_3.index, data_df_3.C)},\n",
    "     #'D': {k:v for (k, v) in zip(data_df_3.index, data_df_3.D)},\n",
    "       'init': {'A': 1, 'B': 2, 'C': 0, 'D':0, 'T':273}}\n",
    ")\n"
   ]
  },
  {
   "cell_type": "code",
   "execution_count": 95,
   "metadata": {},
   "outputs": [],
   "source": [
    "def genblock(b, k):\n",
    "    b.dummy = pyo.Param(initialize = 1)\n"
   ]
  },
  {
   "cell_type": "code",
   "execution_count": 96,
   "metadata": {},
   "outputs": [],
   "source": [
    "def ABC_model(m, b, data, disctype, sim):\n",
    "    \n",
    "    species = ['A', 'B', 'C', 'D']\n",
    "    id_species = {'A': 0, 'B': 1, 'C': 2, 'D': 3}\n",
    "    Tref = 298\n",
    "    R = 8.314e-3\n",
    "    T = data['init']['T']\n",
    "    \n",
    "    S = np.array([[-1.0, -1.0, 1.0, 0.0],\n",
    "                  [0.0, -1.0, -1.0, 1.0]\n",
    "                 ])\n",
    "    \n",
    "    rxns = [0, 1]\n",
    "    \n",
    "    meas_t = np.array([list(data[k].keys()) for k in data.keys() if k in species])\n",
    "    meas_t = list(np.unique(meas_t.flatten()))\n",
    "    max_t = np.max(meas_t)\n",
    "           \n",
    "    c0 = {k:data['init'][k] for k in species}\n",
    "    \n",
    "    def _c_init_rule(b, t, j):\n",
    "        return c0[j]\n",
    "    \n",
    "    b.errsq = pyo.Var(within = pyo.NonNegativeReals)\n",
    "    b.time = dae.ContinuousSet(bounds = (0.0, max_t), initialize = meas_t)\n",
    "    b.c = pyo.Var(b.time, species, initialize = _c_init_rule, bounds = (0, 2))\n",
    "    \n",
    "    b.dc = dae.DerivativeVar(b.c, wrt = b.time)\n",
    "    \n",
    "    def _dcrate(b, t, j):\n",
    "        \n",
    "        nrxn = S.shape[0]\n",
    "        nspec = S.shape[1]\n",
    "        rrate = {}\n",
    "        for i in range(nrxn):\n",
    "            rrate[i] = m.k[i] * pyo.exp(-m.Ea[i]/R * (1/T - 1/Tref))\n",
    "            for j2 in range(nspec):\n",
    "                if S[i, j2] < 0:\n",
    "                    rrate[i] = rrate[i] * b.c[t, species[j2]]\n",
    "        \n",
    "        if t == 0:\n",
    "            return pyo.Constraint.Skip\n",
    "        else:\n",
    "            return b.dc[t, j] == sum(S[i, id_species[j]] * rrate[i] for i in rxns)\n",
    "\n",
    "    def _dcrate_sim(b, t, j):\n",
    "        nrxn = S.shape[0]\n",
    "        nspec = S.shape[1]\n",
    "        rrate = {}\n",
    "        for i in range(nrxn):\n",
    "            rrate[i] = m.k[i] * pyo.exp(-m.Ea[i]/R * (1/T - 1/Tref))\n",
    "            for j2 in range(nspec):\n",
    "                if S[i, j2] < 0:\n",
    "                    rrate[i] = rrate[i] * b.c[t, species[j2]]\n",
    "        return b.dc[t, j] == sum(S[i, id_species[j]] * rrate[i] for i in rxns)\n",
    "    \n",
    "    if sim == 0:\n",
    "        b.dcrate = pyo.Constraint(b.time, species, rule = _dcrate)\n",
    "    else:\n",
    "        b.dcrate = pyo.Constraint(b.time, species, rule = _dcrate_sim)\n",
    "    \n",
    "    for j in species:\n",
    "        b.c[0, j].fix(c0[j])\n",
    "    \n",
    "    def _errsq_rule(b):\n",
    "        expr = 0\n",
    "        for j in species:\n",
    "            if j in data.keys():\n",
    "                expr = expr + sum((b.c[t, j] - data[j][t]) ** 2 for t in meas_t) \n",
    "        return b.errsq == expr \n",
    "    b.errsq_cons = pyo.Constraint(rule=_errsq_rule)\n",
    "    \n",
    "    if disctype == 'colloc':\n",
    "        disc = pyo.TransformationFactory('dae.collocation')\n",
    "        disc.apply_to(b, nfe=20, ncp=2)\n",
    "    else:\n",
    "        disc = pyo.TransformationFactory('dae.finite_difference')\n",
    "        disc.apply_to(b, nfe=500, scheme = 'BACKWARD')\n",
    "    \n",
    "    return m"
   ]
  },
  {
   "cell_type": "code",
   "execution_count": 97,
   "metadata": {},
   "outputs": [],
   "source": [
    "def get_model():\n",
    "    m = pyo.ConcreteModel()\n",
    "\n",
    "    rxns = [0, 1]\n",
    "    m.k = pyo.Var(rxns, initialize = 0.5, bounds = (1e-4, 10))\n",
    "    m.Ea = pyo.Var(rxns, initialize = 20, bounds = (0.0, 100.0))\n",
    "    \n",
    "    expts = [0, 1, 2]\n",
    "    \n",
    "    def genblock(b, k):\n",
    "        b.dummy = pyo.Param(initialize = 1)\n",
    "    m.b = pyo.Block(expts, rule = genblock)\n",
    "    \n",
    "    for e in expts:\n",
    "        m = ABC_model(m, m.b[e], data[e], 'colloc', 0)\n",
    "    \n",
    "    m.obj = pyo.Objective(expr = sum(m.b[e].errsq for e in expts), sense = pyo.minimize)\n",
    "    \n",
    "    return m"
   ]
  },
  {
   "cell_type": "code",
   "execution_count": 98,
   "metadata": {},
   "outputs": [],
   "source": [
    "m = get_model()"
   ]
  },
  {
   "cell_type": "code",
   "execution_count": 99,
   "metadata": {},
   "outputs": [
    {
     "name": "stdout",
     "output_type": "stream",
     "text": [
      "Ipopt 3.12: \n",
      "\n",
      "******************************************************************************\n",
      "This program contains Ipopt, a library for large-scale nonlinear optimization.\n",
      " Ipopt is released as open source code under the Eclipse Public License (EPL).\n",
      "         For more information visit http://projects.coin-or.org/Ipopt\n",
      "******************************************************************************\n",
      "\n",
      "This is Ipopt version 3.12, running with linear solver ma27.\n",
      "\n",
      "Number of nonzeros in equality constraint Jacobian...:     4623\n",
      "Number of nonzeros in inequality constraint Jacobian.:        0\n",
      "Number of nonzeros in Lagrangian Hessian.............:      968\n",
      "\n",
      "Total number of variables............................:      967\n",
      "                     variables with only lower bounds:        3\n",
      "                variables with lower and upper bounds:      484\n",
      "                     variables with only upper bounds:        0\n",
      "Total number of equality constraints.................:      963\n",
      "Total number of inequality constraints...............:        0\n",
      "        inequality constraints with only lower bounds:        0\n",
      "   inequality constraints with lower and upper bounds:        0\n",
      "        inequality constraints with only upper bounds:        0\n",
      "\n",
      "iter    objective    inf_pr   inf_du lg(mu)  ||d||  lg(rg) alpha_du alpha_pr  ls\n",
      "   0  2.9999970e-02 4.08e+01 0.00e+00  -1.0 0.00e+00    -  0.00e+00 0.00e+00   0\n",
      "   1  1.6839948e-01 3.70e+01 6.58e+00  -1.0 5.26e+00    -  1.23e-02 9.41e-02f  1\n",
      "   2  4.3105672e+00 9.40e+00 1.79e+03  -1.0 2.44e+00    -  5.12e-03 1.00e+00f  1\n",
      "   3  6.9074783e+00 7.12e+00 1.38e+03  -1.0 2.35e+01    -  1.12e-01 2.45e-01h  1\n",
      "   4  6.9488076e+00 7.09e+00 1.38e+03  -1.0 2.45e+01    -  5.27e-01 4.47e-03h  1\n",
      "   5  9.0312044e+00 8.66e-01 6.18e+02  -1.0 1.53e+01    -  9.23e-01 1.00e+00h  1\n",
      "   6  9.8341740e+00 4.95e-01 1.70e+03  -1.0 2.47e+01    -  9.03e-01 5.52e-01h  1\n",
      "   7  1.1545680e+01 7.94e-01 7.12e+01  -1.0 3.09e+01    -  1.00e+00 1.00e+00h  1\n",
      "   8  1.2952411e+01 3.92e-01 4.31e+03  -1.0 2.16e+01    -  9.98e-01 5.29e-01H  1\n",
      "   9  1.3775091e+01 3.39e-01 2.43e+03  -1.0 1.88e+01    -  4.74e-01 2.50e-01h  3\n",
      "iter    objective    inf_pr   inf_du lg(mu)  ||d||  lg(rg) alpha_du alpha_pr  ls\n",
      "  10  1.4675975e+01 3.02e-01 3.56e+03  -1.0 1.72e+01    -  3.34e-01 2.50e-01h  3\n",
      "  11  1.3569724e+01 6.07e-02 2.45e+03  -1.0 2.73e+00    -  1.76e-01 1.00e+00f  1\n",
      "  12  1.0808542e+01 1.95e-01 2.45e+02  -1.0 7.67e+00    -  7.05e-01 1.00e+00f  1\n",
      "  13  7.7654799e+00 2.63e-01 7.27e+01  -1.0 7.33e+00    -  2.08e-01 1.00e+00f  1\n",
      "  14  3.1465919e+00 1.19e+00 2.09e+01  -1.0 8.55e+01    -  3.85e-01 7.31e-01f  1\n",
      "  15  1.4686898e+00 1.54e+00 1.48e+01  -1.0 6.44e+01  -2.0 4.63e-02 2.75e-01h  1\n",
      "  16  1.3779591e+00 1.51e+00 3.12e+01  -1.0 2.17e+02  -2.5 1.27e-01 2.33e-02H  1\n",
      "  17  1.6611204e+00 1.42e+00 3.02e+01  -1.0 1.66e+01    -  4.76e-02 6.50e-02h  2\n",
      "  18  1.8290183e+00 1.33e+00 2.93e+01  -1.0 5.13e+01    -  3.87e-02 6.52e-02h  2\n",
      "  19  1.8473117e+00 1.32e+00 2.65e+01  -1.0 5.24e+01    -  1.06e-01 9.43e-03h  4\n",
      "iter    objective    inf_pr   inf_du lg(mu)  ||d||  lg(rg) alpha_du alpha_pr  ls\n",
      "  20  1.9371982e+00 1.25e+00 2.05e+01  -1.0 3.53e+01    -  2.54e-01 5.19e-02h  4\n",
      "  21  1.9552948e+00 1.23e+00 1.98e+01  -1.0 4.28e+01    -  1.33e-01 1.47e-02h  6\n",
      "  22  2.5407179e+00 8.02e-01 9.05e+00  -1.0 4.44e+01    -  1.00e+00 5.14e-01h  1\n",
      "  23  2.4841450e+00 7.79e-01 2.56e+01  -1.0 1.20e+02    -  9.72e-02 2.96e-02h  1\n",
      "  24  2.3675718e+00 7.62e-01 1.47e+02  -1.0 9.81e+01    -  6.42e-03 2.40e-02h  1\n",
      "  25  2.2471520e+00 7.44e-01 1.76e+02  -1.0 1.16e+02    -  4.75e-03 2.68e-02h  1\n",
      "  26  2.2471720e+00 7.44e-01 1.79e+02  -1.0 1.72e+02  -1.1 3.81e-03 3.82e-04h  3\n",
      "  27  2.2141369e+00 7.41e-01 1.78e+02  -1.0 2.47e+02    -  4.09e-04 3.86e-03h  2\n",
      "  28  2.2576133e+00 7.46e-01 1.78e+02  -1.0 9.45e+02  -0.7 3.52e-04 3.52e-04s 11\n",
      "  29r 2.2576133e+00 7.46e-01 9.99e+02  -0.1 0.00e+00  -0.3 0.00e+00 0.00e+00R  1\n",
      "iter    objective    inf_pr   inf_du lg(mu)  ||d||  lg(rg) alpha_du alpha_pr  ls\n",
      "  30r 2.7190319e+00 2.30e-01 9.98e+02  -0.1 6.11e+02    -  1.12e-03 1.21e-03f  1\n",
      "  31  5.1060502e+00 6.20e-01 1.08e+03  -1.0 7.38e+00    -  3.92e-01 1.00e+00f  1\n",
      "  32  5.6393483e+00 9.00e-03 2.94e+01  -1.0 2.67e-01   1.9 9.58e-01 1.00e+00h  1\n",
      "  33  5.1829254e+00 5.31e-02 4.28e+01  -1.0 1.03e+01    -  4.60e-01 1.00e+00f  1\n",
      "  34  5.1985401e+00 1.73e-03 2.92e+00  -1.0 8.95e-02   1.5 9.32e-01 1.00e+00h  1\n",
      "  35  2.2648076e+00 4.54e-01 4.31e+00  -1.0 2.65e+01    -  6.54e-01 1.00e+00f  1\n",
      "  36  2.5614449e+00 5.33e-03 2.96e+00  -1.0 3.08e-01   1.0 1.00e+00 1.00e+00h  1\n",
      "  37  2.6479811e+00 1.10e-01 2.57e+00  -1.0 1.73e+01    -  1.00e+00 1.00e+00f  1\n",
      "  38  2.8746296e+00 8.04e-02 1.30e+00  -1.0 1.62e+01    -  1.00e+00 1.00e+00h  1\n",
      "  39  2.8851002e+00 5.03e-03 1.20e-01  -1.0 5.77e+00    -  1.00e+00 1.00e+00h  1\n",
      "iter    objective    inf_pr   inf_du lg(mu)  ||d||  lg(rg) alpha_du alpha_pr  ls\n",
      "  40  1.0646119e+00 2.97e-01 2.85e+01  -2.5 4.71e+00    -  6.41e-01 1.00e+00f  1\n",
      "  41  4.4978905e-01 1.40e-01 3.14e+00  -2.5 3.25e+00    -  7.56e-01 1.00e+00h  1\n",
      "  42  2.0030277e-01 4.82e-02 1.51e-01  -2.5 2.99e+00    -  1.00e+00 1.00e+00h  1\n",
      "  43  2.1728275e-01 1.40e-02 3.33e-02  -2.5 3.92e+00    -  1.00e+00 1.00e+00h  1\n",
      "  44  2.3887346e-01 3.99e-04 1.24e-03  -2.5 5.86e-01    -  1.00e+00 1.00e+00h  1\n",
      "  45  1.8859725e-01 9.34e-03 6.88e-02  -3.8 3.00e+00    -  8.60e-01 1.00e+00h  1\n",
      "  46  2.0815028e-01 1.06e-03 4.53e-03  -3.8 1.23e+00    -  1.00e+00 1.00e+00h  1\n",
      "  47  2.0867667e-01 1.68e-06 2.45e-06  -3.8 2.47e-02    -  1.00e+00 1.00e+00h  1\n",
      "  48  2.0845289e-01 8.62e-05 4.29e-04  -5.7 3.35e-01    -  9.94e-01 1.00e+00h  1\n",
      "  49  2.0856268e-01 5.62e-08 2.01e-07  -5.7 8.32e-03    -  1.00e+00 1.00e+00h  1\n",
      "iter    objective    inf_pr   inf_du lg(mu)  ||d||  lg(rg) alpha_du alpha_pr  ls\n",
      "  50  2.0856266e-01 1.45e-08 4.72e-08  -8.6 4.36e-03    -  1.00e+00 1.00e+00h  1\n",
      "  51  2.0856268e-01 5.00e-15 2.51e-14  -8.6 1.36e-06    -  1.00e+00 1.00e+00h  1\n",
      "\n",
      "Number of Iterations....: 51\n",
      "\n",
      "                                   (scaled)                 (unscaled)\n",
      "Objective...............:   2.0856267571713663e-01    2.0856267571713663e-01\n",
      "Dual infeasibility......:   2.5105257731756307e-14    2.5105257731756307e-14\n",
      "Constraint violation....:   4.9960036108132044e-15    4.9960036108132044e-15\n",
      "Complementarity.........:   2.5059035889624172e-09    2.5059035889624172e-09\n",
      "Overall NLP error.......:   2.5059035889624172e-09    2.5059035889624172e-09\n",
      "\n",
      "\n",
      "Number of objective function evaluations             = 96\n",
      "Number of objective gradient evaluations             = 52\n",
      "Number of equality constraint evaluations            = 96\n",
      "Number of inequality constraint evaluations          = 0\n",
      "Number of equality constraint Jacobian evaluations   = 53\n",
      "Number of inequality constraint Jacobian evaluations = 0\n",
      "Number of Lagrangian Hessian evaluations             = 51\n",
      "Total CPU secs in IPOPT (w/o function evaluations)   =      0.104\n",
      "Total CPU secs in NLP function evaluations           =      0.024\n",
      "\n",
      "EXIT: Optimal Solution Found.\n"
     ]
    },
    {
     "data": {
      "text/plain": [
       "{'Problem': [{'Lower bound': -inf, 'Upper bound': inf, 'Number of objectives': 1, 'Number of constraints': 963, 'Number of variables': 967, 'Sense': 'unknown'}], 'Solver': [{'Status': 'ok', 'Message': 'Ipopt 3.12\\\\x3a Optimal Solution Found', 'Termination condition': 'optimal', 'Id': 0, 'Error rc': 0, 'Time': 0.1776270866394043}], 'Solution': [OrderedDict([('number of solutions', 0), ('number of solutions displayed', 0)])]}"
      ]
     },
     "execution_count": 99,
     "metadata": {},
     "output_type": "execute_result"
    }
   ],
   "source": [
    "solver = pyo.SolverFactory('ipopt')\n",
    "solver.solve(m, tee = True)"
   ]
  },
  {
   "cell_type": "code",
   "execution_count": 100,
   "metadata": {},
   "outputs": [
    {
     "data": {
      "text/plain": [
       "(0.8910820669494302, 2.161485618881116)"
      ]
     },
     "execution_count": 100,
     "metadata": {},
     "output_type": "execute_result"
    }
   ],
   "source": [
    "# Estimated parameters\n",
    "m.k[0](), m.k[1](0)"
   ]
  },
  {
   "cell_type": "code",
   "execution_count": 101,
   "metadata": {},
   "outputs": [
    {
     "data": {
      "text/plain": [
       "(16.525930539868558, 37.70914226817421)"
      ]
     },
     "execution_count": 101,
     "metadata": {},
     "output_type": "execute_result"
    }
   ],
   "source": [
    "m.Ea[0](), m.Ea[1]()"
   ]
  },
  {
   "cell_type": "code",
   "execution_count": 29,
   "metadata": {},
   "outputs": [
    {
     "data": {
      "text/plain": [
       "18.753156747062167"
      ]
     },
     "execution_count": 29,
     "metadata": {},
     "output_type": "execute_result"
    }
   ],
   "source": [
    "T = 273\n",
    "Tref = 298\n",
    "R = 8.314e-3\n",
    "Ea0_est = np.log(0.5/1)*(-R/(1/T - 1/Tref))\n",
    "Ea0_est"
   ]
  },
  {
   "cell_type": "code",
   "execution_count": 30,
   "metadata": {},
   "outputs": [
    {
     "data": {
      "text/plain": [
       "37.506313494124335"
      ]
     },
     "execution_count": 30,
     "metadata": {},
     "output_type": "execute_result"
    }
   ],
   "source": [
    "T = 273\n",
    "Tref = 298\n",
    "R = 8.314e-3\n",
    "Ea1_est = np.log(0.5/2)*(-R/(1/T - 1/Tref))\n",
    "Ea1_est"
   ]
  },
  {
   "cell_type": "code",
   "execution_count": 110,
   "metadata": {},
   "outputs": [],
   "source": [
    "e = 1\n",
    "\n",
    "time = list(m.b[e].time)\n",
    "c = {j:[m.b[e].c[t, j]() for t in time] for j in ['A', 'B', 'C', 'D']}"
   ]
  },
  {
   "cell_type": "code",
   "execution_count": 111,
   "metadata": {},
   "outputs": [
    {
     "data": {
      "image/png": "[encoded data removed]",
      "text/plain": [
       "<Figure size 432x288 with 4 Axes>"
      ]
     },
     "metadata": {
      "needs_background": "light"
     },
     "output_type": "display_data"
    }
   ],
   "source": [
    "fig, ax = plt.subplots(4)\n",
    "for i, j in enumerate(['A', 'B', 'C', 'D']):\n",
    "    if j in data[e].keys():\n",
    "       ax[i].scatter(data[e][j].keys(), data[e][j].values())\n",
    "       ax[i].plot(time, c[j])"
   ]
  },
  {
   "cell_type": "code",
   "execution_count": null,
   "metadata": {},
   "outputs": [],
   "source": []
  }
 ],
 "metadata": {
  "kernelspec": {
   "display_name": "Python 3",
   "language": "python",
   "name": "python3"
  },
  "language_info": {
   "codemirror_mode": {
    "name": "ipython",
    "version": 3
   },
   "file_extension": ".py",
   "mimetype": "text/x-python",
   "name": "python",
   "nbconvert_exporter": "python",
   "pygments_lexer": "ipython3",
   "version": "3.7.3"
  }
 },
 "nbformat": 4,
 "nbformat_minor": 2
}
