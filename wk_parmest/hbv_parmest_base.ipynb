{
 "cells": [
  {
   "cell_type": "code",
   "execution_count": 2,
   "metadata": {},
   "outputs": [],
   "source": [
    "#\n",
    "#  Creating a pyomo parest version of example from James Rawlings Reactor Design Book\n",
    "#  https://github.com/rawlings-group/paresto/blob/master/examples/green_book/hbv_det.m\n",
    "#"
   ]
  },
  {
   "cell_type": "code",
   "execution_count": 1,
   "metadata": {},
   "outputs": [],
   "source": [
    "from scipy.integrate import solve_ivp\n",
    "import numpy as np\n",
    "import matplotlib.pyplot as plt\n",
    "import pandas as pd\n",
    "import pyomo.environ as pyo\n",
    "import pyomo.dae as dae\n",
    "import scipy.stats as spstat\n",
    "\n",
    "from pyomo.contrib.pynumero.interfaces.pyomo_nlp import PyomoNLP\n",
    "from pyomo.contrib.pynumero.sparse import BlockSymMatrix, BlockMatrix, BlockVector\n",
    "from scipy.sparse import identity\n",
    "from scipy.sparse.linalg import spsolve\n",
    "\n",
    "import get_redHessian as hess"
   ]
  },
  {
   "cell_type": "code",
   "execution_count": 2,
   "metadata": {},
   "outputs": [
    {
     "data": {
      "text/html": [
       "<div>\n",
       "<style scoped>\n",
       "    .dataframe tbody tr th:only-of-type {\n",
       "        vertical-align: middle;\n",
       "    }\n",
       "\n",
       "    .dataframe tbody tr th {\n",
       "        vertical-align: top;\n",
       "    }\n",
       "\n",
       "    .dataframe thead th {\n",
       "        text-align: right;\n",
       "    }\n",
       "</style>\n",
       "<table border=\"1\" class=\"dataframe\">\n",
       "  <thead>\n",
       "    <tr style=\"text-align: right;\">\n",
       "      <th></th>\n",
       "      <th>t</th>\n",
       "      <th>ca_exp</th>\n",
       "      <th>cb_exp</th>\n",
       "      <th>cc_exp</th>\n",
       "    </tr>\n",
       "  </thead>\n",
       "  <tbody>\n",
       "    <tr>\n",
       "      <td>0</td>\n",
       "      <td>0.0</td>\n",
       "      <td>0.734562</td>\n",
       "      <td>0.000000</td>\n",
       "      <td>0.000000</td>\n",
       "    </tr>\n",
       "    <tr>\n",
       "      <td>1</td>\n",
       "      <td>2.0</td>\n",
       "      <td>0.707371</td>\n",
       "      <td>3.444986</td>\n",
       "      <td>373.654198</td>\n",
       "    </tr>\n",
       "    <tr>\n",
       "      <td>2</td>\n",
       "      <td>4.0</td>\n",
       "      <td>0.521003</td>\n",
       "      <td>6.148200</td>\n",
       "      <td>280.451066</td>\n",
       "    </tr>\n",
       "    <tr>\n",
       "      <td>3</td>\n",
       "      <td>6.0</td>\n",
       "      <td>0.680192</td>\n",
       "      <td>7.458215</td>\n",
       "      <td>301.503717</td>\n",
       "    </tr>\n",
       "    <tr>\n",
       "      <td>4</td>\n",
       "      <td>8.0</td>\n",
       "      <td>0.716159</td>\n",
       "      <td>8.115554</td>\n",
       "      <td>363.551492</td>\n",
       "    </tr>\n",
       "  </tbody>\n",
       "</table>\n",
       "</div>"
      ],
      "text/plain": [
       "     t    ca_exp    cb_exp      cc_exp\n",
       "0  0.0  0.734562  0.000000    0.000000\n",
       "1  2.0  0.707371  3.444986  373.654198\n",
       "2  4.0  0.521003  6.148200  280.451066\n",
       "3  6.0  0.680192  7.458215  301.503717\n",
       "4  8.0  0.716159  8.115554  363.551492"
      ]
     },
     "execution_count": 2,
     "metadata": {},
     "output_type": "execute_result"
    }
   ],
   "source": [
    "data_df = pd.read_csv('hbv_data.csv')\n",
    "data_df.head()"
   ]
  },
  {
   "cell_type": "code",
   "execution_count": 3,
   "metadata": {},
   "outputs": [],
   "source": [
    "data = [{'ca_exp': {k: v for (k, v) in zip(data_df.t, data_df.ca_exp)},\n",
    "         'cb_exp': {k: v for (k, v) in zip(data_df.t, data_df.cb_exp)},\n",
    "         'cc_exp': {k: v for (k, v) in zip(data_df.t, data_df.cc_exp)}\n",
    "        }]"
   ]
  },
  {
   "cell_type": "code",
   "execution_count": 10,
   "metadata": {},
   "outputs": [],
   "source": [
    "def hbv_model(data):\n",
    "    \n",
    "    ca_exp = data['ca_exp']\n",
    "    cb_exp = data['cb_exp']\n",
    "    cc_exp = data['cc_exp']\n",
    "    texp = list(ca_exp.keys())\n",
    "    \n",
    "    ca0 = 1.0\n",
    "    cb0 = 0.0\n",
    "    cc0 = 0.0\n",
    "    \n",
    "    m = pyo.ConcreteModel()\n",
    "    \n",
    "    m.k1 = pyo.Var(initialize = 6.3, bounds = (1e-3, 10))\n",
    "    m.k2 = pyo.Var(initialize = 0.07, bounds = (1e-3, 10))\n",
    "    m.k3 = pyo.Var(initialize = 1412, bounds = (100, 5000))\n",
    "    m.k4 = pyo.Var(initialize = 0.17, bounds = (1e-3, 10))\n",
    "    m.k5 = pyo.Var(initialize = 0.69, bounds = (1e-3, 10))\n",
    "    m.k6 = pyo.Var(initialize = 3.5e-6, bounds = (1e-6, 1e-5))\n",
    "    \n",
    "    m.time = dae.ContinuousSet(bounds = (0, max(texp)), initialize = texp)\n",
    "    \n",
    "    m.ca = pyo.Var(m.time, initialize = ca0)\n",
    "    m.cb = pyo.Var(m.time, initialize = cb0)\n",
    "    m.cc = pyo.Var(m.time, initialize = cc0)\n",
    "    \n",
    "    m.dca = dae.DerivativeVar(m.ca)\n",
    "    m.dcb = dae.DerivativeVar(m.cb)\n",
    "    m.dcc = dae.DerivativeVar(m.cc)\n",
    "    \n",
    "    def _dca_eq(m, t):\n",
    "        if t == 0:\n",
    "            return pyo.Constraint.Skip\n",
    "        else:\n",
    "            return m.dca[t] == m.k2 * m.cb[t] - m.k4 * m.ca[t]\n",
    "    m.dca_eq = pyo.Constraint(m.time, rule = _dca_eq)\n",
    "\n",
    "    def _dcb_eq(m, t):\n",
    "        if t == 0:\n",
    "            return pyo.Constraint.Skip\n",
    "        else:\n",
    "            return m.dcb[t] == m.k1 * m.ca[t] - m.k2 * m.cb[t] - m.k6 * m.cb[t] * m.cc[t]\n",
    "    m.dcb_eq = pyo.Constraint(m.time, rule = _dcb_eq)\n",
    "    \n",
    "    def _dcc_eq(m, t):\n",
    "        if t == 0:\n",
    "            return pyo.Constraint.Skip\n",
    "        else:\n",
    "            return m.dcc[t] == m.k3 * m.ca[t] - m.k5 * m.cc[t] - m.k6 * m.cb[t] * m.cc[t]\n",
    "    m.dcc_eq = pyo.Constraint(m.time, rule = _dcc_eq)\n",
    "\n",
    "    def _initcon(m):\n",
    "        yield m.ca[m.time.first()] == ca0\n",
    "        yield m.cb[m.time.first()] == cb0\n",
    "        yield m.cc[m.time.first()] == cc0\n",
    "    m.initcon = pyo.ConstraintList(rule = _initcon)\n",
    "        \n",
    "    def wssq_rule(m):\n",
    "        return sum((m.ca[t] - ca_exp[t]) ** 2 + \n",
    "                   1e-2 * (m.cb[t] - cb_exp[t]) ** 2 + \n",
    "                   1e-4 * (m.cc[t] - cc_exp[t]) ** 2 \n",
    "                   for t in texp) \n",
    "    m.wssq = pyo.Objective(rule=wssq_rule)\n",
    "   \n",
    "    disc = pyo.TransformationFactory('dae.collocation')\n",
    "    disc.apply_to(m, nfe=60, ncp=4)\n",
    "    \n",
    "    #disc = TransformationFactory('dae.finite_difference')\n",
    "    #disc.apply_to(m, nfe=500, scheme = 'BACKWARD')\n",
    "    \n",
    "    return m "
   ]
  },
  {
   "cell_type": "code",
   "execution_count": 11,
   "metadata": {},
   "outputs": [
    {
     "name": "stdout",
     "output_type": "stream",
     "text": [
      "Ipopt 3.11.1: \n",
      "\n",
      "******************************************************************************\n",
      "This program contains Ipopt, a library for large-scale nonlinear optimization.\n",
      " Ipopt is released as open source code under the Eclipse Public License (EPL).\n",
      "         For more information visit http://projects.coin-or.org/Ipopt\n",
      "******************************************************************************\n",
      "\n",
      "NOTE: You are using Ipopt by default with the MUMPS linear solver.\n",
      "      Other linear solvers might be more efficient (see Ipopt documentation).\n",
      "\n",
      "\n",
      "This is Ipopt version 3.11.1, running with linear solver mumps.\n",
      "\n",
      "Number of nonzeros in equality constraint Jacobian...:     8883\n",
      "Number of nonzeros in inequality constraint Jacobian.:        0\n",
      "Number of nonzeros in Lagrangian Hessian.............:     2073\n",
      "\n",
      "Total number of variables............................:     1449\n",
      "                     variables with only lower bounds:        0\n",
      "                variables with lower and upper bounds:        6\n",
      "                     variables with only upper bounds:        0\n",
      "Total number of equality constraints.................:     1443\n",
      "Total number of inequality constraints...............:        0\n",
      "        inequality constraints with only lower bounds:        0\n",
      "   inequality constraints with lower and upper bounds:        0\n",
      "        inequality constraints with only upper bounds:        0\n",
      "\n",
      "iter    objective    inf_pr   inf_du lg(mu)  ||d||  lg(rg) alpha_du alpha_pr  ls\n",
      "   0  1.4721008e+06 1.41e+03 1.00e+02  -1.0 0.00e+00    -  0.00e+00 0.00e+00   0\n",
      "   1  1.4718321e+06 1.41e+03 1.00e+02  -1.0 2.48e+04    -  7.35e-02 1.45e-04f  1\n",
      "   2  1.4106195e+06 1.52e+03 2.01e+04  -1.0 2.48e+04    -  9.17e-02 3.37e-02f  1\n",
      "   3  1.4103615e+06 1.49e+03 2.93e+04  -1.0 1.15e+03  -2.0 8.20e-03 2.44e-02f  1\n",
      "   4  1.4015194e+06 1.04e+03 6.16e+04  -1.0 1.10e+03  -2.5 7.60e-01 3.14e-01f  1\n",
      "   5  1.3998092e+06 9.13e+02 7.32e+05  -1.0 7.71e+02  -2.1 4.50e-03 1.25e-01f  1\n",
      "   6  1.3992746e+06 7.86e+02 4.03e+05  -1.0 6.81e+02  -1.6 5.26e-01 1.40e-01f  1\n",
      "   7  1.3992728e+06 7.85e+02 2.32e+06  -1.0 5.89e+02  -1.2 8.73e-01 1.36e-03h  1\n",
      "   8  1.3938247e+06 9.36e+01 3.16e+06  -1.0 6.18e+02  -1.7 1.00e+00 9.99e-01f  1\n",
      "   9  1.3904899e+06 1.83e+01 1.06e+07  -1.0 6.13e+01  -1.3 4.29e-01 1.00e+00f  1\n",
      "iter    objective    inf_pr   inf_du lg(mu)  ||d||  lg(rg) alpha_du alpha_pr  ls\n",
      "  10  1.3875644e+06 1.28e+01 1.34e+07  -1.0 9.95e+01  -1.7 4.12e-03 2.96e-01f  1\n",
      "  11  1.3874740e+06 1.28e+01 7.94e+06  -1.0 3.40e+02  -2.2 7.40e-03 1.32e-03f  1\n",
      "  12  1.3874730e+06 1.28e+01 7.89e+06  -1.0 7.52e+02  -1.8 2.93e-05 7.16e-06f  1\n",
      "  13  1.3874723e+06 1.28e+01 7.88e+06  -1.0 9.60e+00   0.5 7.59e-05 5.18e-04f  1\n",
      "  14  1.3873605e+06 1.14e+01 2.34e+07  -1.0 2.23e+01  -0.0 4.81e-01 1.04e-01f  1\n",
      "  15  1.3850476e+06 7.06e-02 1.07e+07  -1.0 1.20e+01  -0.5 8.68e-02 1.00e+00f  1\n",
      "  16  1.3842459e+06 5.28e-02 1.62e+07  -1.0 1.79e+01  -1.0 6.36e-01 2.80e-01f  1\n",
      "  17  1.3840847e+06 5.03e-02 1.60e+07  -1.0 4.22e+01  -1.5 1.01e-01 2.51e-02f  1\n",
      "  18  1.3792930e+06 1.86e+00 4.08e+06  -1.0 2.02e+02  -1.9 2.27e-01 3.20e-01f  1\n",
      "  19  1.3791813e+06 1.86e+00 7.85e+06  -1.0 4.50e+02  -2.4 9.22e-02 2.40e-03f  1\n",
      "iter    objective    inf_pr   inf_du lg(mu)  ||d||  lg(rg) alpha_du alpha_pr  ls\n",
      "  20  1.3623543e+06 2.17e+01 6.70e+07  -1.0 2.28e+02  -2.0 1.00e+00 1.00e+00f  1\n",
      "  21  1.3566426e+06 2.33e+01 2.87e+07  -1.0 7.68e+02  -2.5 1.83e-01 9.44e-02f  1\n",
      "  22  1.3476785e+06 1.88e+01 6.90e+07  -1.0 2.56e+02  -2.0 1.00e+00 4.18e-01f  1\n",
      "  23  1.3074952e+06 5.27e+01 3.57e+08  -1.0 8.28e+02  -2.5 4.29e-02 6.23e-01f  1\n",
      "  24  1.3053175e+06 1.21e+01 2.37e+08  -1.0 8.10e+01  -1.2 3.18e-01 1.00e+00f  1\n",
      "  25  1.2939613e+06 6.86e+00 1.45e+09  -1.0 7.32e+01  -1.7 1.12e-02 1.00e+00f  1\n",
      "  26  1.2938539e+06 6.68e+00 1.60e+09  -1.0 3.97e+01  -1.2 1.00e+00 2.62e-02f  1\n",
      "  27  1.2936172e+06 6.50e+00 1.45e+09  -1.0 1.09e+02  -1.7 1.00e+00 2.70e-02f  1\n",
      "  28  1.2901646e+06 2.82e-01 1.06e+08  -1.0 4.23e+01  -1.3 1.00e+00 1.00e+00f  1\n",
      "  29  1.2810540e+06 4.43e-01 1.74e+06  -1.0 1.11e+02  -1.8 1.00e+00 1.00e+00f  1\n",
      "iter    objective    inf_pr   inf_du lg(mu)  ||d||  lg(rg) alpha_du alpha_pr  ls\n",
      "  30  1.2572723e+06 1.23e+01 4.98e+06  -1.0 3.15e+02  -2.2 1.00e+00 1.00e+00f  1\n",
      "  31  1.2484887e+06 1.02e+01 2.30e+07  -1.0 1.49e+02  -1.8 1.00e+00 1.00e+00f  1\n",
      "  32  1.2253469e+06 2.62e+01 9.63e+07  -1.0 3.70e+02  -2.3 1.00e+00 1.00e+00f  1\n",
      "  33  1.2166022e+06 8.31e+01 1.79e+07  -1.0 1.49e+02  -1.9 1.00e+00 1.00e+00f  1\n",
      "  34  1.1931168e+06 9.33e+00 4.94e+07  -1.0 3.80e+02  -2.3 1.00e+00 1.00e+00f  1\n",
      "  35  1.1280346e+06 8.34e+00 3.86e+06  -1.0 1.01e+03  -2.8 1.00e+00 1.00e+00f  1\n",
      "  36  1.0922110e+06 1.30e+03 8.50e+07  -1.0 2.38e+03  -3.3 1.63e-01 1.88e-01f  1\n",
      "MUMPS returned INFO(1) = -9 and requires more memory, reallocating.  Attempt 1\n",
      "  Increasing icntl[13] from 1000 to 2000.\n",
      "  37  1.0913855e+06 1.29e+03 1.19e+09  -1.0 1.16e+03  -2.9 6.46e-01 1.09e-02f  1\n",
      "  38  1.0913439e+06 1.29e+03 1.63e+09  -1.0 2.00e+03  -3.3 4.23e-02 2.91e-04f  1\n",
      "  39  1.0695980e+06 1.26e+03 1.28e+09  -1.0 1.60e+04    -  4.99e-04 2.61e-02f  1\n",
      "iter    objective    inf_pr   inf_du lg(mu)  ||d||  lg(rg) alpha_du alpha_pr  ls\n",
      "  40  9.4885277e+05 1.15e+03 9.42e+08  -1.0 1.52e+04    -  1.16e-04 9.01e-02f  1\n",
      "  41  3.9659357e+05 5.85e+02 2.15e+09  -1.0 2.13e+04    -  6.41e-03 4.40e-01f  1\n",
      "  42  3.9233583e+05 5.81e+02 2.14e+09  -1.0 1.30e+04    -  3.90e-03 6.30e-03f  1\n",
      "  43  3.9225570e+05 5.81e+02 2.14e+09  -1.0 1.27e+04    -  9.84e-02 1.21e-04f  1\n",
      "  44  8.5213347e+04 1.43e+03 5.14e+09  -1.0 1.24e+04    -  8.59e-04 9.20e-01f  1\n",
      "MUMPS returned INFO(1) = -9 and requires more memory, reallocating.  Attempt 1\n",
      "  Increasing icntl[13] from 2000 to 4000.\n",
      "  45  8.4801838e+04 1.42e+03 5.09e+09  -1.0 9.72e+02  -2.9 3.97e-02 9.06e-03f  1\n",
      "  46  7.3695398e+04 2.12e+02 6.16e+08  -1.0 3.81e+02  -2.5 6.95e-01 1.00e+00f  1\n",
      "  47  6.9269675e+04 3.30e+02 1.35e+09  -1.0 9.78e+03    -  1.51e-02 1.12e-01f  1\n",
      "  48  6.8178384e+04 3.90e+02 2.35e+09  -1.0 3.02e+03  -3.0 1.42e-02 3.90e-01f  2\n",
      "  49  9.1522027e+04 1.76e+02 1.25e+10  -1.0 7.47e+02  -2.5 4.74e-01 1.00e+00h  1\n",
      "iter    objective    inf_pr   inf_du lg(mu)  ||d||  lg(rg) alpha_du alpha_pr  ls\n",
      "  50  8.0933152e+04 2.82e+02 2.33e+10  -1.0 4.37e+03  -2.1 5.44e-04 4.87e-02f  1\n",
      "  51  8.0916398e+04 2.82e+02 2.33e+10  -1.0 8.62e+02  -1.7 4.48e-01 1.15e-03f  1\n",
      "  52  8.2110706e+04 2.73e+02 2.24e+10  -1.0 1.85e+03  -2.2 6.51e-03 3.37e-02h  1\n",
      "  53  8.0279167e+04 2.36e+02 2.08e+10  -1.0 9.78e+02  -1.7 1.00e+00 8.09e-02F  1\n",
      "  54  8.0282669e+04 2.36e+02 2.08e+10  -1.0 9.58e+03  -2.2 1.59e-01 2.79e-04h  1\n",
      "  55  8.0284517e+04 2.35e+02 2.07e+10  -1.0 1.25e+03  -1.8 8.31e-02 5.28e-03h  1\n",
      "  56  8.2741882e+04 2.33e+02 1.85e+10  -1.0 1.79e+04  -2.3 2.82e-05 1.47e-02h  4\n",
      "  57  8.4925052e+04 2.30e+02 1.61e+10  -1.0 4.80e+03  -1.8 5.28e-03 2.99e-02h  4\n",
      "  58  8.5304030e+04 2.28e+02 1.58e+10  -1.0 1.69e+03  -1.4 1.00e+00 1.94e-02h  2\n",
      "  59  8.4874983e+04 2.27e+02 1.55e+10  -1.0 1.22e+03  -1.0 1.84e-02 2.24e-02f  4\n",
      "iter    objective    inf_pr   inf_du lg(mu)  ||d||  lg(rg) alpha_du alpha_pr  ls\n",
      "  60  8.5206659e+04 2.26e+02 1.53e+10  -1.0 3.25e+03  -1.5 5.85e-02 6.03e-03h  5\n",
      "  61  8.5270659e+04 2.26e+02 1.56e+10  -1.0 1.69e+03  -1.0 3.17e-01 1.72e-02h  4\n",
      "  62  8.8780352e+04 1.89e+02 5.50e+11  -1.0 1.39e+03  -0.6 5.46e-01 2.12e-01h  1\n",
      "  63  8.8717199e+04 1.89e+02 5.49e+11  -1.0 2.56e+03  -1.1 2.79e-02 1.36e-03f  1\n",
      "  64  8.8716480e+04 1.89e+02 5.49e+11  -1.0 3.62e+03  -1.6 3.54e-04 1.28e-05f  1\n",
      "  65  8.8716288e+04 1.89e+02 5.49e+11  -1.0 2.13e+03  -2.1 1.60e-04 1.43e-05H  1\n",
      "  66  8.8716286e+04 1.89e+02 5.49e+11  -1.0 2.38e+03  -1.6 5.36e-05 1.84e-07h  5\n",
      "  67  8.8711263e+04 1.89e+02 5.49e+11  -1.0 2.38e+03  -2.1 1.85e-05 1.01e-04F  1\n",
      "  68  6.9066380e+04 2.24e+02 4.19e+11  -1.0 8.98e+03  -1.7 1.25e-06 1.80e-01f  3\n",
      "  69  6.9067412e+04 2.24e+02 4.19e+11  -1.0 2.94e+02   0.6 1.37e-01 8.71e-05H  1\n",
      "iter    objective    inf_pr   inf_du lg(mu)  ||d||  lg(rg) alpha_du alpha_pr  ls\n",
      "  70  6.8829963e+04 2.41e+02 4.48e+11  -1.0 2.52e+03   0.1 4.07e-03 2.08e-02f  4\n",
      "  71  6.8819218e+04 2.40e+02 4.48e+11  -1.0 5.95e+02   0.5 7.99e-02 4.17e-04F  1\n",
      "  72  6.9079198e+04 2.16e+02 4.47e+11  -1.0 2.40e+02   0.9 1.00e+00 1.02e-01h  1\n",
      "  73  7.1392123e+04 2.05e+02 2.87e+11  -1.0 2.86e+02   0.5 3.76e-01 5.00e-01h  2\n"
     ]
    },
    {
     "name": "stdout",
     "output_type": "stream",
     "text": [
      "  74  7.2661528e+04 1.28e+02 1.21e+13  -1.0 2.08e+02   0.9 2.84e-03 1.00e+00h  1\n",
      "  75  6.6633435e+04 9.63e+00 2.55e+10  -1.0 1.63e+02   1.3 2.72e-05 1.00e+00f  1\n",
      "  76  6.3197913e+04 3.72e+02 1.86e+12  -1.0 5.16e+02   0.8 1.13e-01 3.61e-01f  1\n",
      "  77  6.0916228e+04 8.18e+02 1.97e+13  -1.0 2.01e+03   0.4 1.00e+00 1.00e+00f  1\n",
      "  78  5.8401480e+04 8.76e+02 1.31e+13  -1.0 8.56e+02   1.7 9.23e-02 1.56e-01f  1\n",
      "MUMPS returned INFO(1) = -9 and requires more memory, reallocating.  Attempt 1\n",
      "  Increasing icntl[13] from 4000 to 8000.\n",
      "  79  5.8606801e+04 8.75e+02 1.31e+13  -1.0 2.92e+03   1.2 1.93e-01 1.76e-03h  1\n",
      "iter    objective    inf_pr   inf_du lg(mu)  ||d||  lg(rg) alpha_du alpha_pr  ls\n",
      "  80  6.3459984e+04 7.06e+02 1.27e+13  -1.0 2.44e+02   1.6 5.17e-04 1.93e-01h  2\n",
      "  81  6.6169423e+04 1.53e+03 3.60e+12  -1.0 4.62e+02   1.2 4.00e-02 1.00e+00h  1\n",
      "  82  6.7373367e+04 1.46e+03 2.22e+12  -1.0 4.84e+02   2.5 2.03e-01 4.31e-02h  3\n",
      "  83  6.8741412e+04 1.31e+03 6.24e+11  -1.0 1.97e+02   2.9 1.00e+00 1.02e-01h  2\n",
      "  84  6.8781270e+04 1.30e+03 6.19e+11  -1.0 3.04e+02   2.4 3.74e-01 5.16e-03h  5\n",
      "  85  6.8758185e+04 1.29e+03 1.25e+12  -1.0 1.96e+03   2.0 1.05e-01 1.13e-02f  2\n",
      "  86  6.8809006e+04 1.28e+03 1.27e+12  -1.0 4.84e+02   2.4 1.00e+00 7.35e-03h  3\n",
      "  87  6.8817583e+04 1.28e+03 1.26e+12  -1.0 2.91e+02   2.8 5.87e-01 8.32e-04h  6\n",
      "  88  6.8941121e+04 1.25e+03 1.49e+12  -1.0 5.95e+02   2.3 1.00e+00 1.88e-02h  1\n",
      "  89  6.8905600e+04 1.25e+03 1.48e+12  -1.0 1.18e+03   1.8 7.76e-01 1.87e-03f  1\n",
      "iter    objective    inf_pr   inf_du lg(mu)  ||d||  lg(rg) alpha_du alpha_pr  ls\n",
      "  90  6.3786011e+04 6.93e+02 4.03e+14  -1.0 1.06e+03   2.3 1.00e+00 4.75e-01f  1\n",
      "  91  7.8683198e+04 4.87e+02 1.30e+15  -1.0 8.46e+02   2.7 6.92e-02 1.89e-02H  1\n",
      "  92  9.1239353e+04 8.33e+01 5.61e+15  -1.0 2.51e+02   3.1 4.60e-01 1.00e+00h  1\n",
      "  93  9.1240058e+04 8.33e+01 5.61e+15  -1.0 2.81e+03   3.6 5.72e-03 1.51e-04h  1\n",
      "  94  9.0227783e+04 7.14e+01 4.80e+15  -1.0 2.30e+02   4.0 1.00e+00 1.49e-01f  1\n",
      "  95  9.0271616e+04 7.15e+01 4.79e+15  -1.0 2.79e+04   3.5 1.47e-03 3.41e-04h  6\n",
      "  96  8.4112179e+04 2.90e+01 8.39e+14  -1.0 2.00e+02   3.9 1.00e+00 1.00e+00f  1\n",
      "  97  8.0794267e+04 4.14e+00 5.06e+13  -1.0 2.13e+01   3.5 9.29e-01 1.00e+00f  1\n",
      "  98  8.0887612e+04 6.09e-03 7.01e+11  -1.0 1.14e+00   3.0 9.67e-01 1.00e+00h  1\n",
      "  99  8.0887574e+04 1.90e-08 1.21e+06  -1.0 2.57e-03   2.5 9.88e-01 1.00e+00f  1\n",
      "iter    objective    inf_pr   inf_du lg(mu)  ||d||  lg(rg) alpha_du alpha_pr  ls\n",
      " 100  8.0887507e+04 2.81e-08 4.42e+02  -1.0 3.48e-03   2.0 8.51e-01 1.00e+00f  1\n",
      " 101  8.0885506e+04 2.24e-04 1.68e+05  -1.0 6.78e-02   1.5 1.71e-01 1.00e+00f  1\n",
      " 102  8.0876834e+04 4.39e-03 3.80e+05  -1.0 3.01e-01   1.1 1.00e+00 1.00e+00f  1\n",
      " 103  8.0854459e+04 2.87e-02 4.44e+05  -1.0 7.67e-01   0.6 3.44e-01 1.00e+00f  1\n",
      " 104  8.0779683e+04 3.24e-01 9.97e+05  -1.0 2.56e+00   0.1 1.00e+00 1.00e+00f  1\n",
      " 105  8.0555553e+04 2.86e+00 5.88e+05  -1.0 7.46e+00  -0.4 3.90e-01 1.00e+00f  1\n",
      " 106  7.9870087e+04 2.58e+01 4.26e+06  -1.0 2.11e+01  -0.8 1.00e+00 1.00e+00f  1\n",
      " 107  7.9265266e+04 3.38e+01 9.40e+06  -1.0 5.11e+01  -1.3 4.55e-01 2.60e-01f  1\n",
      " 108  7.9257563e+04 3.38e+01 9.73e+06  -1.0 1.60e+02  -1.8 1.00e+00 8.31e-04f  1\n",
      " 109  7.7776515e+04 1.10e-01 1.13e+08  -1.0 8.80e+01  -2.3 1.00e+00 1.00e+00f  1\n",
      "iter    objective    inf_pr   inf_du lg(mu)  ||d||  lg(rg) alpha_du alpha_pr  ls\n",
      " 110  7.3641852e+04 1.30e+00 1.45e+08  -1.0 3.07e+02  -2.8 1.00e+00 1.00e+00f  1\n",
      " 111  7.0291887e+04 5.14e-01 8.52e+07  -1.0 1.40e+02  -2.3 1.00e+00 1.00e+00f  1\n",
      " 112  6.2580864e+04 3.80e+00 9.98e+08  -1.0 1.35e+03  -2.8 6.47e-01 2.64e-01f  1\n",
      " 113  4.6639708e+04 8.15e+00 1.47e+10  -1.0 1.72e+02  -1.5 1.00e+00 1.00e+00f  1\n",
      " 114  4.4227662e+04 3.11e+00 1.39e+09  -1.0 3.75e+02  -2.0 8.37e-01 1.00e+00f  1\n",
      " 115  4.0218870e+04 4.33e-01 2.07e+09  -1.0 5.95e+01  -2.4 1.00e+00 1.00e+00f  1\n",
      " 116  2.7888448e+04 2.39e+01 4.20e+09  -1.0 6.92e+02  -2.9 5.74e-01 1.00e+00f  1\n",
      " 117  2.7853557e+04 2.37e+01 4.17e+09  -1.0 2.91e+02  -2.5 1.00e+00 6.29e-03f  1\n",
      " 118  2.1688539e+04 3.88e+01 3.36e+09  -1.0 1.73e+03  -3.0 7.37e-01 4.19e-01f  2\n",
      " 119  2.4678584e+04 1.43e+00 3.17e+08  -1.0 2.55e+02  -2.5 1.00e+00 1.00e+00h  1\n",
      "iter    objective    inf_pr   inf_du lg(mu)  ||d||  lg(rg) alpha_du alpha_pr  ls\n",
      " 120  1.8849272e+04 1.49e+00 1.16e+08  -1.0 6.09e+01  -2.1 1.00e+00 1.00e+00f  1\n",
      " 121  1.4963944e+04 2.50e+01 4.13e+08  -1.0 7.30e+02    -  6.47e-01 1.00e+00f  1\n",
      " 122  1.4280815e+04 1.95e+01 1.49e+08  -1.0 2.11e+03    -  2.40e-01 2.18e-01f  1\n",
      " 123  1.3529591e+04 4.47e+01 6.93e+07  -1.0 3.96e+02    -  2.59e-03 1.00e+00f  1\n",
      " 124  1.3300255e+04 5.13e+01 8.18e+07  -1.0 3.41e+02    -  9.49e-01 1.00e+00f  1\n",
      " 125  1.3182974e+04 1.46e+01 1.22e+07  -1.0 1.98e+02    -  9.45e-01 1.00e+00f  1\n",
      " 126  1.3157112e+04 1.23e+00 5.06e+05  -1.0 2.88e+01    -  1.00e+00 1.00e+00f  1\n",
      " 127  1.3157565e+04 3.37e-03 1.21e+03  -1.0 1.44e+00    -  1.00e+00 1.00e+00h  1\n",
      " 128  1.3157560e+04 2.79e-08 5.86e-03  -1.0 4.51e-03    -  1.00e+00 1.00e+00h  1\n",
      " 129  1.3157559e+04 3.45e-05 2.17e+01  -3.8 1.63e-01    -  1.00e+00 1.00e+00h  1\n",
      "iter    objective    inf_pr   inf_du lg(mu)  ||d||  lg(rg) alpha_du alpha_pr  ls\n",
      " 130  1.3157559e+04 4.14e-11 6.93e-07  -3.8 3.12e-05    -  1.00e+00 1.00e+00h  1\n",
      " 131  1.3157559e+04 7.65e-11 4.79e-05  -5.7 2.43e-04    -  1.00e+00 1.00e+00h  1\n",
      " 132  1.3157559e+04 4.63e-11 5.50e-07  -5.7 6.68e-11    -  1.00e+00 1.00e+00h  1\n",
      " 133  1.3157559e+04 4.89e-11 1.24e-06  -8.6 3.01e-06    -  1.00e+00 1.00e+00h  1\n",
      " 134  1.3157559e+04 3.89e-11 4.70e-07  -8.6 1.66e-11    -  1.00e+00 1.00e+00h  1\n",
      " 135  1.3157559e+04 4.92e-11 1.88e-07  -8.6 2.19e-11    -  1.00e+00 1.00e+00h  1\n",
      " 136  1.3157559e+04 3.95e-11 1.47e-06  -8.6 1.51e-11    -  1.00e+00 1.00e+00h  1\n",
      " 137  1.3157559e+04 3.51e-11 2.61e-07  -8.6 1.67e-11    -  1.00e+00 1.00e+00h  1\n",
      " 138  1.3157559e+04 4.55e-11 8.46e-07  -8.6 2.02e-11    -  1.00e+00 1.00e+00h  1\n",
      " 139  1.3157559e+04 3.33e-11 1.34e-06  -8.6 1.64e-11    -  1.00e+00 1.00e+00h  1\n",
      "iter    objective    inf_pr   inf_du lg(mu)  ||d||  lg(rg) alpha_du alpha_pr  ls\n",
      " 140  1.3157559e+04 4.45e-11 3.40e-07  -8.6 9.84e-12    -  1.00e+00 1.00e+00H  1\n",
      " 141  1.3157559e+04 4.27e-11 9.16e-07  -8.6 1.33e-11    -  1.00e+00 5.00e-01h  2\n",
      " 142  1.3157559e+04 3.60e-11 1.55e-06  -8.6 1.03e-11    -  1.00e+00 1.00e+00h  1\n",
      " 143  1.3157559e+04 3.05e-11 1.34e-06  -8.6 1.89e-11    -  1.00e+00 1.00e+00h  1\n",
      " 144  1.3157559e+04 2.82e-11 3.92e-07  -8.6 1.85e-11    -  1.00e+00 1.00e+00h  1\n",
      " 145  1.3157559e+04 2.80e-11 3.13e-07  -8.6 1.15e-11    -  1.00e+00 2.50e-01h  3\n",
      " 146  1.3157559e+04 2.78e-11 8.38e-07  -8.6 1.00e-11    -  1.00e+00 1.25e-01h  4\n",
      " 147  1.3157559e+04 2.79e-11 4.13e-07  -8.6 1.21e-11    -  1.00e+00 1.25e-01h  4\n",
      " 148  1.3157559e+04 2.69e-11 7.70e-07  -8.6 1.00e-11    -  1.00e+00 2.50e-01h  3\n",
      " 149  1.3157559e+04 4.84e-11 6.06e-07  -8.6 1.12e-11    -  1.00e+00 5.00e-01h  2\n",
      "iter    objective    inf_pr   inf_du lg(mu)  ||d||  lg(rg) alpha_du alpha_pr  ls\n",
      " 150  1.3157559e+04 4.84e-11 4.97e-07  -8.6 1.46e-11    -  1.00e+00 2.50e-01h  3\n",
      " 151  1.3157559e+04 3.37e-11 3.11e-07  -8.6 1.03e-11    -  1.00e+00 5.00e-01h  2\n",
      " 152  1.3157559e+04 2.44e-11 8.63e-07  -8.6 1.04e-11    -  1.00e+00 2.50e-01h  3\n",
      " 153  1.3157559e+04 2.49e-11 1.64e-06  -8.6 7.52e-12    -  1.00e+00 2.50e-01h  3\n",
      " 154  1.3157559e+04 2.28e-11 9.47e-07  -8.6 5.75e-12    -  1.00e+00 5.00e-01h  2\n",
      " 155  1.3157559e+04 4.43e-11 8.15e-07  -8.6 1.17e-11    -  1.00e+00 1.00e+00h  1\n",
      " 156  1.3157559e+04 4.63e-11 1.07e-07  -8.6 2.06e-11    -  1.00e+00 1.00e+00h  1\n",
      " 157  1.3157559e+04 3.30e-11 8.74e-07  -8.6 1.38e-11    -  1.00e+00 1.00e+00h  1\n",
      " 158  1.3157559e+04 3.87e-11 4.83e-07  -8.6 1.08e-11    -  1.00e+00 1.00e+00h  1\n",
      " 159  1.3157559e+04 3.86e-11 5.17e-07  -8.6 2.14e-11    -  1.00e+00 3.12e-02h  6\n",
      "iter    objective    inf_pr   inf_du lg(mu)  ||d||  lg(rg) alpha_du alpha_pr  ls\n",
      " 160  1.3157559e+04 4.97e-11 2.97e-08  -8.6 8.20e-12    -  1.00e+00 1.00e+00H  1\n",
      " 161  1.3157559e+04 3.05e-11 2.22e-07  -8.6 1.46e-11    -  1.00e+00 1.00e+00h  1\n",
      " 162  1.3157559e+04 3.38e-11 8.49e-07  -8.6 9.92e-12    -  1.00e+00 1.00e+00h  1\n",
      " 163  1.3157559e+04 3.18e-11 3.62e-07  -8.6 1.15e-11    -  1.00e+00 1.00e+00h  1\n",
      " 164  1.3157559e+04 4.78e-11 9.56e-07  -8.6 1.19e-11    -  1.00e+00 1.00e+00H  1\n",
      " 165  1.3157559e+04 2.47e-11 1.01e-06  -8.6 1.90e-11    -  1.00e+00 5.00e-01h  2\n"
     ]
    },
    {
     "name": "stdout",
     "output_type": "stream",
     "text": [
      " 166  1.3157559e+04 4.18e-11 1.53e-07  -8.6 1.07e-11    -  1.00e+00 1.00e+00H  1\n",
      " 167  1.3157559e+04 4.19e-11 9.91e-07  -8.6 1.66e-11    -  1.00e+00 1.25e-01h  4\n",
      " 168  1.3157559e+04 2.83e-11 1.78e-06  -8.6 1.12e-11    -  1.00e+00 5.00e-01h  2\n",
      " 169  1.3157559e+04 3.00e-11 5.41e-07  -8.6 1.52e-11    -  1.00e+00 5.00e-01h  2\n",
      "iter    objective    inf_pr   inf_du lg(mu)  ||d||  lg(rg) alpha_du alpha_pr  ls\n",
      " 170  1.3157559e+04 3.15e-11 7.95e-08  -8.6 1.48e-11    -  1.00e+00 2.50e-01h  3\n",
      " 171  1.3157559e+04 3.04e-11 1.32e-07  -8.6 9.36e-12    -  1.00e+00 5.00e-01h  2\n",
      " 172  1.3157559e+04 3.59e-11 1.39e-06  -8.6 9.70e-12    -  1.00e+00 5.00e-01h  2\n",
      " 173  1.3157559e+04 4.30e-11 4.88e-07  -8.6 1.63e-11    -  1.00e+00 2.50e-01h  3\n",
      " 174  1.3157559e+04 2.37e-11 8.10e-07  -8.6 1.22e-11    -  1.00e+00 5.00e-01h  2\n",
      " 175  1.3157559e+04 3.93e-11 7.46e-07  -8.6 1.27e-11    -  1.00e+00 1.00e+00h  1\n",
      " 176  1.3157559e+04 3.31e-11 8.64e-07  -8.6 1.72e-11    -  1.00e+00 1.00e+00H  1\n",
      " 177  1.3157559e+04 3.90e-11 7.96e-07  -8.6 2.97e-11    -  1.00e+00 5.00e-01h  2\n",
      " 178  1.3157559e+04 3.75e-11 1.40e-07  -8.6 1.08e-11    -  1.00e+00 1.00e+00h  1\n",
      " 179  1.3157559e+04 3.86e-11 1.66e-06  -8.6 1.76e-11    -  1.00e+00 1.00e+00h  1\n",
      "iter    objective    inf_pr   inf_du lg(mu)  ||d||  lg(rg) alpha_du alpha_pr  ls\n",
      " 180  1.3157559e+04 3.02e-11 1.00e-06  -8.6 2.22e-11    -  1.00e+00 1.00e+00h  1\n",
      " 181  1.3157559e+04 3.88e-11 1.92e-06  -8.6 1.97e-11    -  1.00e+00 2.50e-01h  3\n",
      " 182  1.3157559e+04 3.83e-11 3.26e-07  -8.6 1.13e-11    -  1.00e+00 2.50e-01h  3\n",
      " 183  1.3157559e+04 2.83e-11 2.18e-07  -8.6 1.36e-11    -  1.00e+00 5.00e-01h  2\n",
      " 184  1.3157559e+04 2.96e-11 6.99e-07  -8.6 1.31e-11    -  1.00e+00 5.00e-01h  2\n",
      " 185  1.3157559e+04 2.92e-11 1.55e-07  -8.6 1.50e-11    -  1.00e+00 5.00e-01h  2\n",
      "\n",
      "Number of Iterations....: 185\n",
      "\n",
      "                                   (scaled)                 (unscaled)\n",
      "Objective...............:   1.2403743843392793e+04    1.3157559463205800e+04\n",
      "Dual infeasibility......:   1.5523773297626380e-07    1.6467203195722853e-07\n",
      "Constraint violation....:   2.9151348002187660e-11    2.9151348002187660e-11\n",
      "Complementarity.........:   2.5059035596800651e-09    2.6581954216277037e-09\n",
      "Overall NLP error.......:   1.5523773297626380e-07    1.6467203195722853e-07\n",
      "\n",
      "\n",
      "Number of objective function evaluations             = 362\n",
      "Number of objective gradient evaluations             = 187\n",
      "Number of equality constraint evaluations            = 362\n",
      "Number of inequality constraint evaluations          = 0\n",
      "Number of equality constraint Jacobian evaluations   = 187\n",
      "Number of inequality constraint Jacobian evaluations = 0\n",
      "Number of Lagrangian Hessian evaluations             = 186\n",
      "Total CPU secs in IPOPT (w/o function evaluations)   =     50.149\n",
      "Total CPU secs in NLP function evaluations           =      0.145\n",
      "\n",
      "EXIT: Solved To Acceptable Level.\n"
     ]
    },
    {
     "data": {
      "text/plain": [
       "{'Problem': [{'Lower bound': -inf, 'Upper bound': inf, 'Number of objectives': 1, 'Number of constraints': 1443, 'Number of variables': 1449, 'Sense': 'unknown'}], 'Solver': [{'Status': 'ok', 'Message': 'Ipopt 3.11.1\\\\x3a Solved To Acceptable Level.', 'Termination condition': 'optimal', 'Id': 1, 'Error rc': 0, 'Time': 48.23748207092285}], 'Solution': [OrderedDict([('number of solutions', 0), ('number of solutions displayed', 0)])]}"
      ]
     },
     "execution_count": 11,
     "metadata": {},
     "output_type": "execute_result"
    }
   ],
   "source": [
    "# Estimate parameters\n",
    "mest = hbv_model(data[0])\n",
    "solver = pyo.SolverFactory('ipopt')\n",
    "solver.solve(mest, tee = True)"
   ]
  },
  {
   "cell_type": "code",
   "execution_count": 12,
   "metadata": {},
   "outputs": [
    {
     "data": {
      "text/plain": [
       "{'k1': 2.049943771430941,\n",
       " 'k2': 0.019406624245646372,\n",
       " 'k3': 192.93788256852608,\n",
       " 'k4': 0.19027088517692115,\n",
       " 'k5': 0.3690144565767498,\n",
       " 'k6': 8.234443443279068e-06}"
      ]
     },
     "execution_count": 12,
     "metadata": {},
     "output_type": "execute_result"
    }
   ],
   "source": [
    "# Parameter Estimates\n",
    "parest = {'k1': mest.k1(), 'k2': mest.k2(), 'k3': mest.k3(), 'k4': mest.k4(), 'k5': mest.k5(), 'k6': mest.k6()}\n",
    "parest"
   ]
  },
  {
   "cell_type": "code",
   "execution_count": 13,
   "metadata": {},
   "outputs": [
    {
     "name": "stdout",
     "output_type": "stream",
     "text": [
      "Hessian from pynumero:\n",
      "[[ 1.65245408e+06  1.51328966e+08  8.32245944e+02 -1.50637920e+07\n",
      "  -5.27411498e+05 -2.11162324e+11]\n",
      " [ 1.51328966e+08  1.41531755e+10  1.05162558e+05 -1.40791385e+09\n",
      "  -6.28917574e+07 -1.93376693e+13]\n",
      " [ 8.32245944e+02  1.05162558e+05  8.06128272e+00 -8.71175255e+03\n",
      "  -3.96708226e+03  3.53489575e+07]\n",
      " [-1.50637920e+07 -1.40791385e+09 -8.71175255e+03  1.41590892e+08\n",
      "   5.46289721e+06  2.04759002e+12]\n",
      " [-5.27411498e+05 -6.28917574e+07 -3.96708226e+03  5.46289721e+06\n",
      "   1.99414739e+06  4.72284565e+09]\n",
      " [-2.11162324e+11 -1.93376693e+13  3.53489575e+07  2.04759002e+12\n",
      "   4.72284565e+09  3.71893156e+16]]\n"
     ]
    }
   ],
   "source": [
    "nlp = PyomoNLP(mest)\n",
    "parm_vars = [mest.k1, mest.k2, mest.k3, mest.k4, mest.k5, mest.k6]\n",
    "Hred = hess.getHred(nlp, parm_vars)\n",
    "print(\"Hessian from pynumero:\")\n",
    "print(Hred)"
   ]
  },
  {
   "cell_type": "code",
   "execution_count": 15,
   "metadata": {},
   "outputs": [
    {
     "name": "stdout",
     "output_type": "stream",
     "text": [
      "n: 153  p: 6  s2: 89.50720723269252\n"
     ]
    },
    {
     "data": {
      "text/plain": [
       "matrix([[ 1.39584691e-02, -5.31484542e-04, -1.34211930e+00,\n",
       "         -4.53211672e-03, -3.45293090e-03,  5.41418300e-08],\n",
       "        [-5.31484542e-04,  3.51599581e-05,  1.07276553e-01,\n",
       "          3.54851698e-04,  2.20049519e-04, -4.40287849e-09],\n",
       "        [-1.34211930e+00,  1.07276553e-01,  1.97005785e+03,\n",
       "          1.15317032e+00,  3.83032832e+00, -1.76899222e-05],\n",
       "        [-4.53211672e-03,  3.54851698e-04,  1.15317032e+00,\n",
       "          3.71046785e-03,  2.23315050e-03, -4.68907431e-08],\n",
       "        [-3.45293090e-03,  2.20049519e-04,  3.83032832e+00,\n",
       "          2.23315050e-03,  7.69635272e-03, -3.27569233e-08],\n",
       "        [ 5.41418300e-08, -4.40287849e-09, -1.76899222e-05,\n",
       "         -4.68907431e-08, -3.27569233e-08,  6.25538925e-13]])"
      ]
     },
     "execution_count": 15,
     "metadata": {},
     "output_type": "execute_result"
    }
   ],
   "source": [
    "n = len(data[0]['ca_exp']) + len(data[0]['cb_exp']) + len(data[0]['cc_exp'])\n",
    "p = 6\n",
    "s2 = mest.wssq() / (n - p)\n",
    "print('n:', n, ' p:', p, ' s2:', s2)\n",
    "# Covariance Matrix\n",
    "cov = 2 * s2 * np.linalg.inv(Hred)\n",
    "cov"
   ]
  },
  {
   "cell_type": "code",
   "execution_count": 17,
   "metadata": {},
   "outputs": [
    {
     "name": "stdout",
     "output_type": "stream",
     "text": [
      "conf multiplier: 3.600647920002456\n",
      "confidence interval delta from nominal [k1, k2, k3, k4, k5, k6]\n",
      "[4.25402024e-01 2.13503418e-02 1.59815960e+02 2.19328462e-01\n",
      " 3.15880734e-01 2.84778912e-06]\n"
     ]
    }
   ],
   "source": [
    "parm_sd = np.sqrt(np.diag(cov))\n",
    "conf_mult = np.sqrt(p * spstat.f.ppf(0.95, p, n - p))\n",
    "print(\"conf multiplier:\", conf_mult)\n",
    "conf_int = conf_mult * parm_sd\n",
    "print(\"confidence interval delta from nominal [k1, k2, k3, k4, k5, k6]\")\n",
    "print(conf_int)"
   ]
  },
  {
   "cell_type": "code",
   "execution_count": 18,
   "metadata": {},
   "outputs": [
    {
     "name": "stdout",
     "output_type": "stream",
     "text": [
      "Ipopt 3.11.1: \n",
      "\n",
      "******************************************************************************\n",
      "This program contains Ipopt, a library for large-scale nonlinear optimization.\n",
      " Ipopt is released as open source code under the Eclipse Public License (EPL).\n",
      "         For more information visit http://projects.coin-or.org/Ipopt\n",
      "******************************************************************************\n",
      "\n",
      "NOTE: You are using Ipopt by default with the MUMPS linear solver.\n",
      "      Other linear solvers might be more efficient (see Ipopt documentation).\n",
      "\n",
      "\n",
      "This is Ipopt version 3.11.1, running with linear solver mumps.\n",
      "\n",
      "Number of nonzeros in equality constraint Jacobian...:     6963\n",
      "Number of nonzeros in inequality constraint Jacobian.:        0\n",
      "Number of nonzeros in Lagrangian Hessian.............:      393\n",
      "\n",
      "Total number of variables............................:     1443\n",
      "                     variables with only lower bounds:        0\n",
      "                variables with lower and upper bounds:        0\n",
      "                     variables with only upper bounds:        0\n",
      "Total number of equality constraints.................:     1443\n",
      "Total number of inequality constraints...............:        0\n",
      "        inequality constraints with only lower bounds:        0\n",
      "   inequality constraints with lower and upper bounds:        0\n",
      "        inequality constraints with only upper bounds:        0\n",
      "\n",
      "iter    objective    inf_pr   inf_du lg(mu)  ||d||  lg(rg) alpha_du alpha_pr  ls\n",
      "   0  1.4721008e+06 1.93e+02 1.00e+02  -1.0 0.00e+00    -  0.00e+00 0.00e+00   0\n",
      "   1  1.3835766e+06 1.59e+03 3.59e+02  -1.0 9.02e+06    -  1.00e+00 7.81e-03f  8\n",
      "   2  1.1050732e+06 1.54e+03 2.48e+03  -1.0 6.72e+05    -  1.00e+00 3.12e-02f  6\n",
      "   3  9.9555484e+05 1.18e+03 2.94e+04  -1.0 1.40e+05    -  1.00e+00 2.50e-01f  3\n",
      "   4  1.1132029e+05 3.02e+02 1.23e+05  -1.0 2.79e+04    -  1.00e+00 1.00e+00f  1\n",
      "   5  1.4866561e+04 2.97e+01 5.53e+03  -1.0 7.92e+03    -  1.00e+00 1.00e+00f  1\n",
      "   6  1.3184453e+04 3.48e-01 1.98e+01  -1.0 1.45e+03    -  1.00e+00 1.00e+00f  1\n",
      "   7  1.3157657e+04 5.57e-04 2.60e-03  -1.7 5.85e+01    -  1.00e+00 1.00e+00f  1\n",
      "   8  1.3157559e+04 1.76e-09 5.24e-09  -3.8 1.04e-01    -  1.00e+00 1.00e+00h  1\n",
      "\n",
      "Number of Iterations....: 8\n",
      "\n",
      "                                   (scaled)                 (unscaled)\n",
      "Objective...............:   1.2403743843571394e+04    1.3157559463395255e+04\n",
      "Dual infeasibility......:   4.5810022442083209e-12    4.8594045628697254e-12\n",
      "Constraint violation....:   1.7585599296210397e-09    1.7585599296210397e-09\n",
      "Complementarity.........:   0.0000000000000000e+00    0.0000000000000000e+00\n",
      "Overall NLP error.......:   1.7585599296210397e-09    1.7585599296210397e-09\n",
      "\n",
      "\n",
      "Number of objective function evaluations             = 23\n",
      "Number of objective gradient evaluations             = 9\n",
      "Number of equality constraint evaluations            = 26\n",
      "Number of inequality constraint evaluations          = 0\n",
      "Number of equality constraint Jacobian evaluations   = 9\n",
      "Number of inequality constraint Jacobian evaluations = 0\n",
      "Number of Lagrangian Hessian evaluations             = 8\n",
      "Total CPU secs in IPOPT (w/o function evaluations)   =      0.053\n",
      "Total CPU secs in NLP function evaluations           =      0.002\n",
      "\n",
      "EXIT: Optimal Solution Found.\n"
     ]
    },
    {
     "data": {
      "text/plain": [
       "{'Problem': [{'Lower bound': -inf, 'Upper bound': inf, 'Number of objectives': 1, 'Number of constraints': 1443, 'Number of variables': 1443, 'Sense': 'unknown'}], 'Solver': [{'Status': 'ok', 'Message': 'Ipopt 3.11.1\\\\x3a Optimal Solution Found', 'Termination condition': 'optimal', 'Id': 0, 'Error rc': 0, 'Time': 0.09953618049621582}], 'Solution': [OrderedDict([('number of solutions', 0), ('number of solutions displayed', 0)])]}"
      ]
     },
     "execution_count": 18,
     "metadata": {},
     "output_type": "execute_result"
    }
   ],
   "source": [
    "ms = hbv_model(data[0])\n",
    "ms.k1.fix(mest.k1())\n",
    "ms.k2.fix(mest.k2())\n",
    "ms.k3.fix(mest.k3())\n",
    "ms.k4.fix(mest.k4())\n",
    "ms.k5.fix(mest.k5())\n",
    "ms.k6.fix(mest.k6())\n",
    "\n",
    "solver = pyo.SolverFactory('ipopt')\n",
    "solver.solve(ms, tee = True)"
   ]
  },
  {
   "cell_type": "code",
   "execution_count": 19,
   "metadata": {},
   "outputs": [
    {
     "data": {
      "text/plain": [
       "<matplotlib.collections.PathCollection at 0x1a22deb7f0>"
      ]
     },
     "execution_count": 19,
     "metadata": {},
     "output_type": "execute_result"
    },
    {
     "data": {
      "image/png": "[encoded data removed]",
      "text/plain": [
       "<Figure size 432x288 with 1 Axes>"
      ]
     },
     "metadata": {
      "needs_background": "light"
     },
     "output_type": "display_data"
    }
   ],
   "source": [
    "fig, ax = plt.subplots()\n",
    "ax.plot(list(ms.time), [ms.ca[t]() for t in ms.time])\n",
    "ax.scatter(data[0]['ca_exp'].keys(), data[0]['ca_exp'].values())"
   ]
  },
  {
   "cell_type": "code",
   "execution_count": 20,
   "metadata": {},
   "outputs": [
    {
     "data": {
      "text/plain": [
       "<matplotlib.collections.PathCollection at 0x1a22f010b8>"
      ]
     },
     "execution_count": 20,
     "metadata": {},
     "output_type": "execute_result"
    },
    {
     "data": {
      "image/png": "[encoded data removed]",
      "text/plain": [
       "<Figure size 432x288 with 1 Axes>"
      ]
     },
     "metadata": {
      "needs_background": "light"
     },
     "output_type": "display_data"
    }
   ],
   "source": [
    "fig, ax = plt.subplots()\n",
    "ax.plot(list(ms.time), [ms.cb[t]() for t in ms.time])\n",
    "ax.scatter(data[0]['cb_exp'].keys(), data[0]['cb_exp'].values())"
   ]
  },
  {
   "cell_type": "code",
   "execution_count": 21,
   "metadata": {},
   "outputs": [
    {
     "data": {
      "text/plain": [
       "<matplotlib.collections.PathCollection at 0x1a22e8d0f0>"
      ]
     },
     "execution_count": 21,
     "metadata": {},
     "output_type": "execute_result"
    },
    {
     "data": {
      "image/png": "[encoded data removed]",
      "text/plain": [
       "<Figure size 432x288 with 1 Axes>"
      ]
     },
     "metadata": {
      "needs_background": "light"
     },
     "output_type": "display_data"
    }
   ],
   "source": [
    "fig, ax = plt.subplots()\n",
    "ax.plot(list(ms.time), [ms.cc[t]() for t in ms.time])\n",
    "ax.scatter(data[0]['cc_exp'].keys(), data[0]['cc_exp'].values())"
   ]
  },
  {
   "cell_type": "code",
   "execution_count": null,
   "metadata": {},
   "outputs": [],
   "source": []
  }
 ],
 "metadata": {
  "kernelspec": {
   "display_name": "Python 3",
   "language": "python",
   "name": "python3"
  },
  "language_info": {
   "codemirror_mode": {
    "name": "ipython",
    "version": 3
   },
   "file_extension": ".py",
   "mimetype": "text/x-python",
   "name": "python",
   "nbconvert_exporter": "python",
   "pygments_lexer": "ipython3",
   "version": "3.7.6"
  }
 },
 "nbformat": 4,
 "nbformat_minor": 2
}
