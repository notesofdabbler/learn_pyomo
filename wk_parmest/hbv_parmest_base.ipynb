{
 "cells": [
  {
   "cell_type": "code",
   "execution_count": 1,
   "metadata": {},
   "outputs": [],
   "source": [
    "#\n",
    "#  Creating a pyomo parest version of example from James Rawlings Reactor Design Book\n",
    "#  https://github.com/rawlings-group/paresto/blob/master/examples/green_book/hbv_det.m\n",
    "#"
   ]
  },
  {
   "cell_type": "code",
   "execution_count": 3,
   "metadata": {},
   "outputs": [],
   "source": [
    "from scipy.integrate import solve_ivp\n",
    "import numpy as np\n",
    "import matplotlib.pyplot as plt\n",
    "import pandas as pd\n",
    "import pyomo.environ as pyo\n",
    "import pyomo.dae as dae\n",
    "import scipy.stats as spstat\n",
    "from pyomo.contrib.interior_point.inverse_reduced_hessian import inv_reduced_hessian_barrier"
   ]
  },
  {
   "cell_type": "code",
   "execution_count": 4,
   "metadata": {},
   "outputs": [
    {
     "data": {
      "text/html": [
       "<div>\n",
       "<style scoped>\n",
       "    .dataframe tbody tr th:only-of-type {\n",
       "        vertical-align: middle;\n",
       "    }\n",
       "\n",
       "    .dataframe tbody tr th {\n",
       "        vertical-align: top;\n",
       "    }\n",
       "\n",
       "    .dataframe thead th {\n",
       "        text-align: right;\n",
       "    }\n",
       "</style>\n",
       "<table border=\"1\" class=\"dataframe\">\n",
       "  <thead>\n",
       "    <tr style=\"text-align: right;\">\n",
       "      <th></th>\n",
       "      <th>t</th>\n",
       "      <th>ca_exp</th>\n",
       "      <th>cb_exp</th>\n",
       "      <th>cc_exp</th>\n",
       "    </tr>\n",
       "  </thead>\n",
       "  <tbody>\n",
       "    <tr>\n",
       "      <th>0</th>\n",
       "      <td>0.0</td>\n",
       "      <td>0.734562</td>\n",
       "      <td>0.000000</td>\n",
       "      <td>0.000000</td>\n",
       "    </tr>\n",
       "    <tr>\n",
       "      <th>1</th>\n",
       "      <td>2.0</td>\n",
       "      <td>0.707371</td>\n",
       "      <td>3.444986</td>\n",
       "      <td>373.654198</td>\n",
       "    </tr>\n",
       "    <tr>\n",
       "      <th>2</th>\n",
       "      <td>4.0</td>\n",
       "      <td>0.521003</td>\n",
       "      <td>6.148200</td>\n",
       "      <td>280.451066</td>\n",
       "    </tr>\n",
       "    <tr>\n",
       "      <th>3</th>\n",
       "      <td>6.0</td>\n",
       "      <td>0.680192</td>\n",
       "      <td>7.458215</td>\n",
       "      <td>301.503717</td>\n",
       "    </tr>\n",
       "    <tr>\n",
       "      <th>4</th>\n",
       "      <td>8.0</td>\n",
       "      <td>0.716159</td>\n",
       "      <td>8.115554</td>\n",
       "      <td>363.551492</td>\n",
       "    </tr>\n",
       "  </tbody>\n",
       "</table>\n",
       "</div>"
      ],
      "text/plain": [
       "     t    ca_exp    cb_exp      cc_exp\n",
       "0  0.0  0.734562  0.000000    0.000000\n",
       "1  2.0  0.707371  3.444986  373.654198\n",
       "2  4.0  0.521003  6.148200  280.451066\n",
       "3  6.0  0.680192  7.458215  301.503717\n",
       "4  8.0  0.716159  8.115554  363.551492"
      ]
     },
     "execution_count": 4,
     "metadata": {},
     "output_type": "execute_result"
    }
   ],
   "source": [
    "data_df = pd.read_csv('hbv_data.csv')\n",
    "data_df.head()"
   ]
  },
  {
   "cell_type": "code",
   "execution_count": 5,
   "metadata": {},
   "outputs": [],
   "source": [
    "data = [{'ca_exp': {k: v for (k, v) in zip(data_df.t, data_df.ca_exp)},\n",
    "         'cb_exp': {k: v for (k, v) in zip(data_df.t, data_df.cb_exp)},\n",
    "         'cc_exp': {k: v for (k, v) in zip(data_df.t, data_df.cc_exp)}\n",
    "        }]"
   ]
  },
  {
   "cell_type": "code",
   "execution_count": 6,
   "metadata": {},
   "outputs": [],
   "source": [
    "def hbv_model(data):\n",
    "    \n",
    "    ca_exp = data['ca_exp']\n",
    "    cb_exp = data['cb_exp']\n",
    "    cc_exp = data['cc_exp']\n",
    "    texp = list(ca_exp.keys())\n",
    "    \n",
    "    ca0 = 1.0\n",
    "    cb0 = 0.0\n",
    "    cc0 = 0.0\n",
    "    \n",
    "    m = pyo.ConcreteModel()\n",
    "    \n",
    "    m.k1 = pyo.Var(initialize = 6.3, bounds = (1e-3, 10))\n",
    "    m.k2 = pyo.Var(initialize = 0.07, bounds = (1e-3, 10))\n",
    "    m.k3 = pyo.Var(initialize = 1412, bounds = (100, 5000))\n",
    "    m.k4 = pyo.Var(initialize = 0.17, bounds = (1e-3, 10))\n",
    "    m.k5 = pyo.Var(initialize = 0.69, bounds = (1e-3, 10))\n",
    "    m.k6 = pyo.Var(initialize = 3.5e-6, bounds = (1e-6, 1e-5))\n",
    "    \n",
    "    m.time = dae.ContinuousSet(bounds = (0, max(texp)), initialize = texp)\n",
    "    \n",
    "    m.ca = pyo.Var(m.time, initialize = ca0)\n",
    "    m.cb = pyo.Var(m.time, initialize = cb0)\n",
    "    m.cc = pyo.Var(m.time, initialize = cc0)\n",
    "    \n",
    "    m.dca = dae.DerivativeVar(m.ca)\n",
    "    m.dcb = dae.DerivativeVar(m.cb)\n",
    "    m.dcc = dae.DerivativeVar(m.cc)\n",
    "    \n",
    "    def _dca_eq(m, t):\n",
    "        if t == 0:\n",
    "            return pyo.Constraint.Skip\n",
    "        else:\n",
    "            return m.dca[t] == m.k2 * m.cb[t] - m.k4 * m.ca[t]\n",
    "    m.dca_eq = pyo.Constraint(m.time, rule = _dca_eq)\n",
    "\n",
    "    def _dcb_eq(m, t):\n",
    "        if t == 0:\n",
    "            return pyo.Constraint.Skip\n",
    "        else:\n",
    "            return m.dcb[t] == m.k1 * m.ca[t] - m.k2 * m.cb[t] - m.k6 * m.cb[t] * m.cc[t]\n",
    "    m.dcb_eq = pyo.Constraint(m.time, rule = _dcb_eq)\n",
    "    \n",
    "    def _dcc_eq(m, t):\n",
    "        if t == 0:\n",
    "            return pyo.Constraint.Skip\n",
    "        else:\n",
    "            return m.dcc[t] == m.k3 * m.ca[t] - m.k5 * m.cc[t] - m.k6 * m.cb[t] * m.cc[t]\n",
    "    m.dcc_eq = pyo.Constraint(m.time, rule = _dcc_eq)\n",
    "\n",
    "    def _initcon(m):\n",
    "        yield m.ca[m.time.first()] == ca0\n",
    "        yield m.cb[m.time.first()] == cb0\n",
    "        yield m.cc[m.time.first()] == cc0\n",
    "    m.initcon = pyo.ConstraintList(rule = _initcon)\n",
    "        \n",
    "    def wssq_rule(m):\n",
    "        return sum((m.ca[t] - ca_exp[t]) ** 2 + \n",
    "                   1e-2 * (m.cb[t] - cb_exp[t]) ** 2 + \n",
    "                   1e-4 * (m.cc[t] - cc_exp[t]) ** 2 \n",
    "                   for t in texp) \n",
    "    m.wssq = pyo.Objective(rule=wssq_rule)\n",
    "   \n",
    "    disc = pyo.TransformationFactory('dae.collocation')\n",
    "    disc.apply_to(m, nfe=60, ncp=4)\n",
    "    \n",
    "    #disc = TransformationFactory('dae.finite_difference')\n",
    "    #disc.apply_to(m, nfe=500, scheme = 'BACKWARD')\n",
    "    \n",
    "    return m "
   ]
  },
  {
   "cell_type": "code",
   "execution_count": 7,
   "metadata": {},
   "outputs": [
    {
     "name": "stdout",
     "output_type": "stream",
     "text": [
      "Ipopt 3.14.5: \n",
      "\n",
      "******************************************************************************\n",
      "This program contains Ipopt, a library for large-scale nonlinear optimization.\n",
      " Ipopt is released as open source code under the Eclipse Public License (EPL).\n",
      "         For more information visit https://github.com/coin-or/Ipopt\n",
      "******************************************************************************\n",
      "\n",
      "This is Ipopt version 3.14.5, running with linear solver ma27.\n",
      "\n",
      "Number of nonzeros in equality constraint Jacobian...:     8883\n",
      "Number of nonzeros in inequality constraint Jacobian.:        0\n",
      "Number of nonzeros in Lagrangian Hessian.............:     2073\n",
      "\n",
      "Total number of variables............................:     1449\n",
      "                     variables with only lower bounds:        0\n",
      "                variables with lower and upper bounds:        6\n",
      "                     variables with only upper bounds:        0\n",
      "Total number of equality constraints.................:     1443\n",
      "Total number of inequality constraints...............:        0\n",
      "        inequality constraints with only lower bounds:        0\n",
      "   inequality constraints with lower and upper bounds:        0\n",
      "        inequality constraints with only upper bounds:        0\n",
      "\n",
      "iter    objective    inf_pr   inf_du lg(mu)  ||d||  lg(rg) alpha_du alpha_pr  ls\n",
      "   0  1.4721008e+06 1.41e+03 1.00e+02  -1.0 0.00e+00    -  0.00e+00 0.00e+00   0\n",
      "   1  1.4718321e+06 1.41e+03 1.00e+02  -1.0 2.48e+04    -  7.35e-02 1.45e-04f  1\n",
      "   2  1.4106195e+06 1.52e+03 2.01e+04  -1.0 2.48e+04    -  9.17e-02 3.37e-02f  1\n",
      "   3  1.4103615e+06 1.49e+03 2.93e+04  -1.0 1.15e+03  -2.0 8.20e-03 2.44e-02f  1\n",
      "   4  1.4015194e+06 1.04e+03 6.16e+04  -1.0 1.10e+03  -2.5 7.60e-01 3.14e-01f  1\n",
      "   5  1.3998092e+06 9.13e+02 7.32e+05  -1.0 7.71e+02  -2.1 4.50e-03 1.25e-01f  1\n",
      "   6  1.3992746e+06 7.86e+02 4.03e+05  -1.0 6.81e+02  -1.6 5.26e-01 1.40e-01f  1\n",
      "   7  1.3992728e+06 7.85e+02 2.32e+06  -1.0 5.89e+02  -1.2 8.73e-01 1.36e-03h  1\n",
      "   8  1.3938247e+06 9.36e+01 3.16e+06  -1.0 6.18e+02  -1.7 1.00e+00 9.99e-01f  1\n",
      "   9  1.3904899e+06 1.83e+01 1.06e+07  -1.0 6.13e+01  -1.3 4.29e-01 1.00e+00f  1\n",
      "iter    objective    inf_pr   inf_du lg(mu)  ||d||  lg(rg) alpha_du alpha_pr  ls\n",
      "  10  1.3875644e+06 1.28e+01 1.34e+07  -1.0 9.95e+01  -1.7 4.12e-03 2.96e-01f  1\n",
      "  11  1.3874740e+06 1.28e+01 7.94e+06  -1.0 3.40e+02  -2.2 7.40e-03 1.32e-03f  1\n",
      "  12  1.3874730e+06 1.28e+01 7.89e+06  -1.0 7.52e+02  -1.8 2.93e-05 7.16e-06f  1\n",
      "  13  1.3874723e+06 1.28e+01 7.88e+06  -1.0 9.60e+00   0.5 7.59e-05 5.18e-04f  1\n",
      "  14  1.3873605e+06 1.14e+01 2.34e+07  -1.0 2.23e+01  -0.0 4.81e-01 1.04e-01f  1\n",
      "  15  1.3850476e+06 7.06e-02 1.07e+07  -1.0 1.20e+01  -0.5 8.68e-02 1.00e+00f  1\n",
      "  16  1.3842459e+06 5.28e-02 1.62e+07  -1.0 1.79e+01  -1.0 6.36e-01 2.80e-01f  1\n",
      "  17  1.3840847e+06 5.03e-02 1.60e+07  -1.0 4.22e+01  -1.5 1.01e-01 2.51e-02f  1\n",
      "  18  1.3792930e+06 1.86e+00 4.08e+06  -1.0 2.02e+02  -1.9 2.27e-01 3.20e-01f  1\n",
      "  19  1.3791813e+06 1.86e+00 7.85e+06  -1.0 4.50e+02  -2.4 9.22e-02 2.41e-03f  1\n",
      "iter    objective    inf_pr   inf_du lg(mu)  ||d||  lg(rg) alpha_du alpha_pr  ls\n",
      "  20  1.3623543e+06 2.17e+01 6.70e+07  -1.0 2.28e+02  -2.0 1.00e+00 1.00e+00f  1\n",
      "  21  1.3566426e+06 2.33e+01 2.87e+07  -1.0 7.68e+02  -2.5 1.83e-01 9.44e-02f  1\n",
      "  22  1.3476785e+06 1.88e+01 6.90e+07  -1.0 2.56e+02  -2.0 1.00e+00 4.18e-01f  1\n",
      "  23  1.3074951e+06 5.27e+01 3.57e+08  -1.0 8.28e+02  -2.5 4.29e-02 6.23e-01f  1\n",
      "  24  1.3053174e+06 1.21e+01 2.37e+08  -1.0 8.10e+01  -1.2 3.18e-01 1.00e+00f  1\n",
      "  25  1.2939612e+06 6.86e+00 1.45e+09  -1.0 7.32e+01  -1.7 1.12e-02 1.00e+00f  1\n",
      "  26  1.2938538e+06 6.68e+00 1.60e+09  -1.0 3.97e+01  -1.2 1.00e+00 2.62e-02f  1\n",
      "  27  1.2936171e+06 6.50e+00 1.45e+09  -1.0 1.09e+02  -1.7 1.00e+00 2.70e-02f  1\n",
      "  28  1.2901645e+06 2.82e-01 1.06e+08  -1.0 4.23e+01  -1.3 1.00e+00 1.00e+00f  1\n",
      "  29  1.2810539e+06 4.43e-01 1.74e+06  -1.0 1.11e+02  -1.8 1.00e+00 1.00e+00f  1\n",
      "iter    objective    inf_pr   inf_du lg(mu)  ||d||  lg(rg) alpha_du alpha_pr  ls\n",
      "  30  1.2572722e+06 1.23e+01 4.98e+06  -1.0 3.15e+02  -2.2 1.00e+00 1.00e+00f  1\n",
      "  31  1.2484886e+06 1.02e+01 2.30e+07  -1.0 1.49e+02  -1.8 1.00e+00 1.00e+00f  1\n",
      "  32  1.2253468e+06 2.62e+01 9.63e+07  -1.0 3.70e+02  -2.3 1.00e+00 1.00e+00f  1\n",
      "  33  1.2166022e+06 8.31e+01 1.79e+07  -1.0 1.49e+02  -1.9 1.00e+00 1.00e+00f  1\n",
      "  34  1.1931167e+06 9.33e+00 4.94e+07  -1.0 3.80e+02  -2.3 1.00e+00 1.00e+00f  1\n",
      "  35  1.1280345e+06 8.34e+00 3.86e+06  -1.0 1.01e+03  -2.8 1.00e+00 1.00e+00f  1\n",
      "  36  1.0922120e+06 1.30e+03 8.50e+07  -1.0 2.38e+03  -3.3 1.63e-01 1.88e-01f  1\n",
      "  37  1.0913864e+06 1.29e+03 1.19e+09  -1.0 1.16e+03  -2.9 6.46e-01 1.09e-02f  1\n",
      "  38  1.0913449e+06 1.29e+03 1.63e+09  -1.0 2.00e+03  -3.3 4.23e-02 2.91e-04f  1\n",
      "  39  1.0695938e+06 1.26e+03 1.28e+09  -1.0 1.60e+04    -  4.99e-04 2.61e-02f  1\n",
      "iter    objective    inf_pr   inf_du lg(mu)  ||d||  lg(rg) alpha_du alpha_pr  ls\n",
      "  40  9.4883670e+05 1.15e+03 9.42e+08  -1.0 1.52e+04    -  1.16e-04 9.01e-02f  1\n",
      "  41  3.9658900e+05 5.85e+02 2.15e+09  -1.0 2.13e+04    -  6.41e-03 4.40e-01f  1\n",
      "  42  3.9233133e+05 5.81e+02 2.14e+09  -1.0 1.30e+04    -  3.90e-03 6.30e-03f  1\n",
      "  43  3.9225120e+05 5.81e+02 2.14e+09  -1.0 1.27e+04    -  9.83e-02 1.21e-04f  1\n",
      "  44  8.5218157e+04 1.43e+03 5.14e+09  -1.0 1.24e+04    -  8.59e-04 9.20e-01f  1\n",
      "  45  8.4807499e+04 1.42e+03 5.09e+09  -1.0 9.68e+02  -2.9 3.98e-02 9.06e-03f  1\n",
      "  46  7.3709334e+04 2.11e+02 6.18e+08  -1.0 3.81e+02  -2.5 6.95e-01 1.00e+00f  1\n",
      "  47  6.9282424e+04 3.30e+02 1.35e+09  -1.0 9.79e+03    -  1.51e-02 1.12e-01f  1\n",
      "  48  6.8188498e+04 3.90e+02 2.36e+09  -1.0 3.02e+03  -3.0 1.42e-02 3.90e-01f  2\n",
      "  49  9.1538852e+04 1.76e+02 1.25e+10  -1.0 7.48e+02  -2.5 4.74e-01 1.00e+00h  1\n",
      "iter    objective    inf_pr   inf_du lg(mu)  ||d||  lg(rg) alpha_du alpha_pr  ls\n",
      "  50  8.0957999e+04 2.82e+02 2.34e+10  -1.0 4.40e+03  -2.1 5.40e-04 4.84e-02f  1\n",
      "  51  8.0941293e+04 2.81e+02 2.34e+10  -1.0 8.62e+02  -1.7 4.47e-01 1.15e-03f  1\n",
      "  52  8.2141371e+04 2.72e+02 2.24e+10  -1.0 1.85e+03  -2.2 6.49e-03 3.36e-02h  1\n",
      "  53  8.0313512e+04 2.35e+02 2.09e+10  -1.0 9.78e+02  -1.7 1.00e+00 8.07e-02F  1\n",
      "  54  8.0317468e+04 2.35e+02 2.09e+10  -1.0 9.61e+03  -2.2 1.59e-01 2.83e-04h  1\n",
      "  55  8.0319530e+04 2.34e+02 2.08e+10  -1.0 1.25e+03  -1.8 9.01e-02 5.22e-03h  1\n",
      "  56  8.2797087e+04 2.33e+02 1.85e+10  -1.0 1.81e+04  -2.3 2.95e-05 1.46e-02h  4\n",
      "  57  8.5015050e+04 2.30e+02 1.61e+10  -1.0 4.85e+03  -1.8 5.03e-03 2.99e-02h  4\n",
      "  58  8.5451216e+04 2.27e+02 1.57e+10  -1.0 1.70e+03  -1.4 1.00e+00 2.14e-02h  2\n",
      "  59  8.5018318e+04 2.26e+02 1.55e+10  -1.0 1.23e+03  -1.0 1.86e-02 2.20e-02f  4\n",
      "iter    objective    inf_pr   inf_du lg(mu)  ||d||  lg(rg) alpha_du alpha_pr  ls\n",
      "  60  8.5360412e+04 2.26e+02 1.53e+10  -1.0 3.45e+03  -1.5 4.87e-02 5.61e-03h  5\n",
      "  61  8.5420273e+04 2.25e+02 1.55e+10  -1.0 1.72e+03  -1.0 3.00e-01 1.67e-02h  4\n",
      "  62  8.8734723e+04 1.87e+02 5.05e+11  -1.0 1.40e+03  -0.6 5.30e-01 2.02e-01h  1\n",
      "  63  8.8669375e+04 1.87e+02 5.04e+11  -1.0 2.64e+03  -1.1 2.32e-02 1.37e-03f  1\n",
      "  64  8.8668665e+04 1.87e+02 5.04e+11  -1.0 3.62e+03  -1.6 3.02e-04 1.24e-05f  1\n",
      "  65  8.8668340e+04 1.87e+02 5.04e+11  -1.0 1.91e+03  -2.1 1.55e-04 1.39e-05H  1\n",
      "  66r 8.8668340e+04 1.87e+02 1.00e+03   1.1 0.00e+00  -1.6 0.00e+00 4.86e-07R  3\n",
      "  67r 8.6721908e+04 4.42e+01 1.69e+05   1.1 8.44e+05    -  8.11e-05 1.02e-03f  1\n",
      "  68  6.0163788e+04 3.25e+02 1.79e+08  -1.0 2.37e+03    -  1.94e-03 3.53e-01f  1\n",
      "  69  5.9363786e+04 3.22e+02 1.77e+08  -1.0 9.29e+03    -  3.03e-01 8.28e-03f  1\n",
      "iter    objective    inf_pr   inf_du lg(mu)  ||d||  lg(rg) alpha_du alpha_pr  ls\n",
      "  70  5.8685193e+04 3.20e+02 1.91e+08  -1.0 8.81e+03    -  8.20e-01 7.57e-03f  1\n",
      "  71  2.9836529e+04 7.48e+02 6.19e+08  -1.0 8.65e+03    -  3.22e-01 5.51e-01f  1\n",
      "  72  3.2483113e+04 1.05e+02 6.80e+08  -1.0 1.17e+03  -2.1 1.50e-02 1.00e+00h  1\n",
      "  73  1.9148771e+04 5.04e+02 5.23e+09  -1.0 1.78e+03  -1.7 9.95e-02 1.00e+00f  1\n",
      "  74  1.9167085e+04 5.00e+02 5.54e+09  -1.0 2.86e+02  -0.3 9.80e-01 7.64e-03h  1\n",
      "  75  1.9159291e+04 4.99e+02 6.60e+10  -1.0 4.55e+02  -0.8 6.06e-01 3.57e-03f  1\n",
      "  76  2.0364622e+04 2.77e+02 2.12e+09  -1.0 4.52e+02  -1.3 1.00e+00 1.00e+00h  1\n",
      "  77  1.7179155e+04 3.17e+01 3.58e+09  -1.0 9.62e+01  -1.8 1.00e+00 1.00e+00f  1\n",
      "  78  1.5753576e+04 5.77e+00 4.77e+08  -1.0 3.52e+01  -2.3 1.00e+00 1.00e+00f  1\n",
      "  79  1.4250231e+04 4.13e+00 6.27e+07  -1.0 8.20e+01  -2.7 1.00e+00 1.00e+00f  1\n",
      "iter    objective    inf_pr   inf_du lg(mu)  ||d||  lg(rg) alpha_du alpha_pr  ls\n",
      "  80  1.4143933e+04 2.54e+01 1.28e+08  -1.0 2.73e+03    -  1.00e+00 1.06e-01f  2\n"
     ]
    },
    {
     "name": "stdout",
     "output_type": "stream",
     "text": [
      "  81  1.3642920e+04 9.86e+01 5.35e+08  -1.0 4.09e+02    -  2.72e-01 1.00e+00f  1\n",
      "  82  1.3413385e+04 2.19e+00 3.72e+08  -1.0 1.41e+02    -  4.56e-03 1.00e+00f  1\n",
      "  83  1.3132225e+04 6.65e+01 1.90e+07  -1.0 1.86e+02    -  6.28e-01 1.00e+00f  1\n",
      "  84  1.3174920e+04 1.85e+00 2.38e+05  -1.0 8.46e+01    -  1.00e+00 1.00e+00h  1\n",
      "  85  1.3158417e+04 7.74e-01 1.79e+05  -1.0 2.91e+01    -  1.00e+00 1.00e+00f  1\n",
      "  86  1.3157558e+04 2.32e-03 2.18e+02  -1.0 1.37e+00    -  1.00e+00 1.00e+00h  1\n",
      "  87  1.3157560e+04 9.99e-09 1.55e-03  -1.0 3.10e-03    -  1.00e+00 1.00e+00h  1\n",
      "  88  1.3157559e+04 3.45e-05 2.17e+01  -3.8 1.63e-01    -  1.00e+00 1.00e+00h  1\n",
      "  89  1.3157559e+04 3.57e-11 2.93e-07  -3.8 3.12e-05    -  1.00e+00 1.00e+00h  1\n",
      "iter    objective    inf_pr   inf_du lg(mu)  ||d||  lg(rg) alpha_du alpha_pr  ls\n",
      "  90  1.3157559e+04 7.66e-11 4.93e-05  -5.7 2.43e-04    -  1.00e+00 1.00e+00h  1\n",
      "  91  1.3157559e+04 5.66e-11 1.35e-07  -5.7 7.10e-11    -  1.00e+00 1.00e+00h  1\n",
      "  92  1.3157559e+04 3.91e-11 3.92e-01  -8.6 3.01e-06    -  1.00e+00 5.00e-01h  2\n",
      "  93  1.3157559e+04 5.44e-11 6.53e-07  -8.6 1.51e-06    -  1.00e+00 1.00e+00h  1\n",
      "  94  1.3157559e+04 3.31e-11 3.20e-07  -8.6 1.41e-11    -  1.00e+00 1.00e+00h  1\n",
      "  95  1.3157559e+04 3.91e-11 9.98e-07  -8.6 1.24e-11    -  1.00e+00 1.00e+00h  1\n",
      "  96  1.3157559e+04 4.48e-11 1.24e-06  -8.6 1.54e-11    -  1.00e+00 1.00e+00h  1\n",
      "  97  1.3157559e+04 3.91e-11 6.44e-07  -8.6 1.90e-11    -  1.00e+00 5.00e-01h  2\n",
      "  98  1.3157559e+04 2.93e-11 2.57e-07  -8.6 1.25e-11    -  1.00e+00 1.00e+00h  1\n",
      "  99  1.3157559e+04 3.46e-11 8.13e-07  -8.6 1.33e-11    -  1.00e+00 5.00e-01h  2\n",
      "iter    objective    inf_pr   inf_du lg(mu)  ||d||  lg(rg) alpha_du alpha_pr  ls\n",
      " 100  1.3157559e+04 4.02e-11 8.40e-07  -8.6 1.14e-11    -  1.00e+00 1.00e+00h  1\n",
      " 101  1.3157559e+04 4.26e-11 1.32e-06  -8.6 1.49e-11    -  1.00e+00 1.00e+00h  1\n",
      " 102  1.3157559e+04 3.15e-11 4.25e-07  -8.6 2.37e-11    -  1.00e+00 5.00e-01h  2\n",
      " 103  1.3157559e+04 4.34e-11 9.42e-07  -8.6 1.69e-11    -  1.00e+00 1.00e+00h  1\n",
      " 104  1.3157559e+04 4.30e-11 5.65e-07  -8.6 1.96e-11    -  1.00e+00 1.25e-01h  4\n",
      " 105  1.3157559e+04 3.14e-11 1.14e-06  -8.6 1.65e-11    -  1.00e+00 5.00e-01h  2\n",
      " 106  1.3157559e+04 3.12e-11 7.11e-07  -8.6 1.49e-11    -  1.00e+00 1.25e-01h  4\n",
      " 107  1.3157559e+04 3.08e-11 6.19e-07  -8.6 1.50e-11    -  1.00e+00 2.50e-01h  3\n",
      " 108  1.3157559e+04 3.05e-11 6.27e-07  -8.6 1.28e-11    -  1.00e+00 5.00e-01h  2\n",
      " 109  1.3157559e+04 3.05e-11 7.79e-07  -8.6 1.38e-11    -  1.00e+00 2.50e-01h  3\n",
      "iter    objective    inf_pr   inf_du lg(mu)  ||d||  lg(rg) alpha_du alpha_pr  ls\n",
      " 110  1.3157559e+04 2.98e-11 5.71e-07  -8.6 7.62e-12    -  1.00e+00 2.50e-01h  3\n",
      " 111  1.3157559e+04 4.31e-11 3.23e-07  -8.6 7.71e-12    -  1.00e+00 1.00e+00H  1\n",
      " 112  1.3157559e+04 4.03e-11 4.27e-07  -8.6 1.60e-11    -  1.00e+00 1.00e+00h  1\n",
      " 113  1.3157559e+04 5.03e-11 2.98e-07  -8.6 1.82e-11    -  1.00e+00 1.00e+00h  1\n",
      " 114  1.3157559e+04 3.04e-11 7.06e-07  -8.6 1.73e-11    -  1.00e+00 5.00e-01h  2\n",
      " 115  1.3157559e+04 2.88e-11 3.01e-07  -8.6 8.52e-12    -  1.00e+00 1.00e+00h  1\n",
      " 116  1.3157559e+04 3.10e-11 8.90e-07  -8.6 1.47e-11    -  1.00e+00 5.00e-01h  2\n",
      " 117  1.3157559e+04 2.68e-11 2.23e-07  -8.6 2.96e-11    -  1.00e+00 2.50e-01h  3\n",
      " 118  1.3157559e+04 5.32e-11 6.03e-07  -8.6 1.35e-11    -  1.00e+00 1.00e+00H  1\n",
      " 119  1.3157559e+04 4.52e-11 2.00e-06  -8.6 1.22e-11    -  1.00e+00 2.50e-01h  3\n",
      "iter    objective    inf_pr   inf_du lg(mu)  ||d||  lg(rg) alpha_du alpha_pr  ls\n",
      " 120  1.3157559e+04 4.38e-11 2.54e-07  -8.6 2.35e-11    -  1.00e+00 5.00e-01h  2\n",
      " 121  1.3157559e+04 3.49e-11 5.35e-07  -8.6 1.25e-11    -  1.00e+00 1.00e+00h  1\n",
      " 122  1.3157559e+04 3.77e-11 1.09e-06  -8.6 2.28e-11    -  1.00e+00 5.00e-01h  2\n",
      " 123  1.3157559e+04 4.44e-11 3.40e-07  -8.6 1.02e-11    -  1.00e+00 1.00e+00h  1\n",
      " 124  1.3157559e+04 2.83e-11 2.92e-07  -8.6 1.55e-11    -  1.00e+00 5.00e-01h  2\n",
      " 125  1.3157559e+04 3.42e-11 3.94e-07  -8.6 1.01e-11    -  1.00e+00 2.50e-01h  3\n",
      " 126  1.3157559e+04 3.39e-11 6.60e-07  -8.6 1.57e-11    -  1.00e+00 1.25e-01h  4\n",
      " 127  1.3157559e+04 2.85e-11 9.07e-07  -8.6 1.24e-11    -  1.00e+00 2.50e-01h  3\n",
      " 128  1.3157559e+04 2.86e-11 1.41e-08  -8.6 1.72e-11    -  1.00e+00 1.25e-01h  4\n",
      " 129  1.3157559e+04 4.80e-11 2.63e-06  -9.0 2.60e-09    -  1.00e+00 1.00e+00h  1\n",
      "iter    objective    inf_pr   inf_du lg(mu)  ||d||  lg(rg) alpha_du alpha_pr  ls\n",
      " 130  1.3157559e+04 3.11e-11 2.41e-06  -9.0 2.81e-11    -  1.00e+00 1.00e+00h  1\n",
      " 131  1.3157559e+04 3.18e-11 4.84e-07  -9.0 1.52e-11    -  1.00e+00 1.00e+00h  1\n",
      " 132  1.3157559e+04 2.70e-11 7.80e-07  -9.0 2.94e-11    -  1.00e+00 1.00e+00h  1\n",
      " 133  1.3157559e+04 4.23e-11 4.93e-07  -9.0 2.31e-11    -  1.00e+00 2.50e-01h  3\n",
      " 134  1.3157559e+04 3.22e-11 8.90e-08  -9.0 1.44e-11    -  1.00e+00 1.00e+00h  1\n",
      " 135  1.3157559e+04 2.91e-11 1.04e-06  -9.0 2.53e-11    -  1.00e+00 2.50e-01h  3\n",
      " 136  1.3157559e+04 4.57e-11 1.45e-06  -9.0 1.02e-11    -  1.00e+00 1.00e+00h  1\n",
      " 137  1.3157559e+04 2.89e-11 1.27e-06  -9.0 1.19e-11    -  1.00e+00 5.00e-01h  2\n",
      " 138  1.3157559e+04 2.92e-11 7.96e-09  -9.0 1.40e-11    -  1.00e+00 2.50e-01h  3\n",
      "\n",
      "Number of Iterations....: 138\n",
      "\n",
      "                                   (scaled)                 (unscaled)\n",
      "Objective...............:   1.2403743843392802e+04    1.3157559463205809e+04\n",
      "Dual infeasibility......:   7.9591696490900060e-09    8.4428741239628560e-09\n",
      "Constraint violation....:   2.9189095585024916e-11    2.9189095585024916e-11\n",
      "Variable bound violation:   0.0000000000000000e+00    0.0000000000000000e+00\n",
      "Complementarity.........:   9.0909090909091003e-10    9.6433930310444584e-10\n",
      "Overall NLP error.......:   7.9591696490900060e-09    8.4428741239628560e-09\n",
      "\n",
      "\n",
      "Number of objective function evaluations             = 248\n",
      "Number of objective gradient evaluations             = 139\n",
      "Number of equality constraint evaluations            = 248\n",
      "Number of inequality constraint evaluations          = 0\n",
      "Number of equality constraint Jacobian evaluations   = 140\n",
      "Number of inequality constraint Jacobian evaluations = 0\n",
      "Number of Lagrangian Hessian evaluations             = 138\n",
      "Total seconds in IPOPT                               = 0.842\n",
      "\n",
      "EXIT: Optimal Solution Found.\n"
     ]
    },
    {
     "data": {
      "text/plain": [
       "{'Problem': [{'Lower bound': -inf, 'Upper bound': inf, 'Number of objectives': 1, 'Number of constraints': 1443, 'Number of variables': 1449, 'Sense': 'unknown'}], 'Solver': [{'Status': 'ok', 'Message': 'Ipopt 3.14.5\\\\x3a Optimal Solution Found', 'Termination condition': 'optimal', 'Id': 0, 'Error rc': 0, 'Time': 0.8685603141784668}], 'Solution': [OrderedDict([('number of solutions', 0), ('number of solutions displayed', 0)])]}"
      ]
     },
     "execution_count": 7,
     "metadata": {},
     "output_type": "execute_result"
    }
   ],
   "source": [
    "# Estimate parameters\n",
    "mest = hbv_model(data[0])\n",
    "solver = pyo.SolverFactory('ipopt')\n",
    "solver.solve(mest, tee = True)"
   ]
  },
  {
   "cell_type": "code",
   "execution_count": 8,
   "metadata": {},
   "outputs": [
    {
     "data": {
      "text/plain": [
       "{'k1': 2.0499437714318423,\n",
       " 'k2': 0.01940662424557941,\n",
       " 'k3': 192.93788256781954,\n",
       " 'k4': 0.19027088517622365,\n",
       " 'k5': 0.3690144565753473,\n",
       " 'k6': 8.23444344328863e-06}"
      ]
     },
     "execution_count": 8,
     "metadata": {},
     "output_type": "execute_result"
    }
   ],
   "source": [
    "# Parameter Estimates\n",
    "parest = {'k1': mest.k1(), 'k2': mest.k2(), 'k3': mest.k3(), 'k4': mest.k4(), 'k5': mest.k5(), 'k6': mest.k6()}\n",
    "parest"
   ]
  },
  {
   "cell_type": "code",
   "execution_count": 13,
   "metadata": {},
   "outputs": [
    {
     "name": "stdout",
     "output_type": "stream",
     "text": [
      "Ipopt 3.14.5: bound_relax_factor=0\n",
      "honor_original_bounds=no\n",
      "\n",
      "\n",
      "******************************************************************************\n",
      "This program contains Ipopt, a library for large-scale nonlinear optimization.\n",
      " Ipopt is released as open source code under the Eclipse Public License (EPL).\n",
      "         For more information visit https://github.com/coin-or/Ipopt\n",
      "******************************************************************************\n",
      "\n",
      "This is Ipopt version 3.14.5, running with linear solver ma27.\n",
      "\n",
      "Number of nonzeros in equality constraint Jacobian...:     8883\n",
      "Number of nonzeros in inequality constraint Jacobian.:        0\n",
      "Number of nonzeros in Lagrangian Hessian.............:     2073\n",
      "\n",
      "MA27BD returned iflag=-4 and requires more memory.\n",
      " Increase liw from 128830 to 257660 and la from 199390 to 399558 and factorize again.\n",
      "Total number of variables............................:     1449\n",
      "                     variables with only lower bounds:        0\n",
      "                variables with lower and upper bounds:        6\n",
      "                     variables with only upper bounds:        0\n",
      "Total number of equality constraints.................:     1443\n",
      "Total number of inequality constraints...............:        0\n",
      "        inequality constraints with only lower bounds:        0\n",
      "   inequality constraints with lower and upper bounds:        0\n",
      "        inequality constraints with only upper bounds:        0\n",
      "\n",
      "iter    objective    inf_pr   inf_du lg(mu)  ||d||  lg(rg) alpha_du alpha_pr  ls\n",
      "   0  1.3157559e+04 2.92e-11 2.22e+01  -1.0 0.00e+00    -  0.00e+00 0.00e+00   0\n",
      "   1  1.3157560e+04 1.18e-05 2.78e+04  -1.0 8.10e-02    -  9.90e-01 1.00e+00f  1\n",
      "   2  1.3157560e+04 4.57e-06 7.57e+00  -1.0 9.51e-02    -  9.92e-01 1.00e+00h  1\n",
      "   3  1.3157559e+04 3.07e-05 2.05e+01  -3.8 1.54e-01    -  1.00e+00 1.00e+00h  1\n",
      "   4  1.3157559e+04 4.10e-11 6.46e-07  -3.8 2.55e-05    -  1.00e+00 1.00e+00h  1\n",
      "   5  1.3157559e+04 6.84e-11 4.68e-05  -5.7 2.29e-04    -  1.00e+00 1.00e+00h  1\n",
      "   6  1.3157559e+04 4.24e-11 7.30e-07  -8.6 2.84e-06    -  1.00e+00 1.00e+00h  1\n",
      "\n",
      "Number of Iterations....: 6\n",
      "\n",
      "                                   (scaled)                 (unscaled)\n",
      "Objective...............:   1.3157559463205824e+04    1.3157559463205824e+04\n",
      "Dual infeasibility......:   7.3009801421219933e-07    7.3009801421219933e-07\n",
      "Constraint violation....:   4.2376768760732375e-11    4.2376768760732375e-11\n",
      "Variable bound violation:   0.0000000000000000e+00    0.0000000000000000e+00\n",
      "Complementarity.........:   2.5059187491346491e-09    2.5059187491346491e-09\n",
      "Overall NLP error.......:   2.5059187491346491e-09    7.3009801421219933e-07\n",
      "\n",
      "\n",
      "Number of objective function evaluations             = 7\n",
      "Number of objective gradient evaluations             = 7\n",
      "Number of equality constraint evaluations            = 7\n",
      "Number of inequality constraint evaluations          = 0\n",
      "Number of equality constraint Jacobian evaluations   = 7\n",
      "Number of inequality constraint Jacobian evaluations = 0\n",
      "Number of Lagrangian Hessian evaluations             = 6\n",
      "Total seconds in IPOPT                               = 0.130\n",
      "\n",
      "EXIT: Optimal Solution Found.\n"
     ]
    }
   ],
   "source": [
    "solve_result, inv_red_hes = inv_reduced_hessian_barrier(mest, \n",
    "                    independent_variables= [mest.k1, mest.k2, mest.k3, mest.k4, mest.k5, mest.k6],\n",
    "                    tee=True)"
   ]
  },
  {
   "cell_type": "code",
   "execution_count": 27,
   "metadata": {},
   "outputs": [
    {
     "data": {
      "text/plain": [
       "{'k1': 2.0499437714310216,\n",
       " 'k2': 0.01940662424564039,\n",
       " 'k3': 192.93788256846437,\n",
       " 'k4': 0.1902708851768589,\n",
       " 'k5': 0.36901445657662724,\n",
       " 'k6': 8.234443443279917e-06}"
      ]
     },
     "execution_count": 27,
     "metadata": {},
     "output_type": "execute_result"
    }
   ],
   "source": [
    "# Parameter Estimates\n",
    "parest = {'k1': mest.k1(), 'k2': mest.k2(), 'k3': mest.k3(), 'k4': mest.k4(), 'k5': mest.k5(), 'k6': mest.k6()}\n",
    "parest"
   ]
  },
  {
   "cell_type": "code",
   "execution_count": 14,
   "metadata": {},
   "outputs": [
    {
     "data": {
      "text/plain": [
       "array([[ 9.73350732e-05, -4.58281220e-06, -6.00485747e-03,\n",
       "        -4.22594351e-05, -1.56907071e-05,  5.03843672e-10],\n",
       "       [-4.58281220e-06,  3.30374554e-07,  4.94160300e-04,\n",
       "         3.38652064e-06,  9.74775746e-07, -4.12579520e-11],\n",
       "       [-6.00485747e-03,  4.94160301e-04,  8.36728342e+00,\n",
       "         5.39016493e-03,  1.60019385e-02, -8.40170633e-08],\n",
       "       [-4.22594351e-05,  3.38652064e-06,  5.39016493e-03,\n",
       "         3.54427743e-05,  9.91588204e-06, -4.36568166e-10],\n",
       "       [-1.56907071e-05,  9.74775747e-07,  1.60019385e-02,\n",
       "         9.91588205e-06,  3.19652219e-05, -1.47676633e-10],\n",
       "       [ 5.03843672e-10, -4.12579520e-11, -8.40170632e-08,\n",
       "        -4.36568166e-10, -1.47676633e-10,  5.56675728e-15]])"
      ]
     },
     "execution_count": 14,
     "metadata": {},
     "output_type": "execute_result"
    }
   ],
   "source": [
    "inv_red_hes"
   ]
  },
  {
   "cell_type": "code",
   "execution_count": 15,
   "metadata": {},
   "outputs": [
    {
     "name": "stdout",
     "output_type": "stream",
     "text": [
      "n: 153  p: 6  s2: 89.50720723269268\n"
     ]
    },
    {
     "data": {
      "text/plain": [
       "array([[ 1.74243811e-02, -8.20389443e-04, -1.07495604e+00,\n",
       "        -7.56504803e-03, -2.80886274e-03,  9.01952799e-08],\n",
       "       [-8.20389442e-04,  5.91418074e-05,  8.84618168e-02,\n",
       "         6.06236010e-04,  1.74498909e-04, -7.38576812e-09],\n",
       "       [-1.07495604e+00,  8.84618169e-02,  1.49786434e+03,\n",
       "         9.64917218e-01,  2.86457764e+00, -1.50402654e-05],\n",
       "       [-7.56504803e-03,  6.06236010e-04,  9.64917218e-01,\n",
       "         6.34476748e-03,  1.77508582e-03, -7.81519946e-08],\n",
       "       [-2.80886274e-03,  1.74498910e-04,  2.86457764e+00,\n",
       "         1.77508582e-03,  5.72223549e-03, -2.64362460e-08],\n",
       "       [ 9.01952799e-08, -7.38576812e-09, -1.50402654e-05,\n",
       "        -7.81519946e-08, -2.64362460e-08,  9.96529795e-13]])"
      ]
     },
     "execution_count": 15,
     "metadata": {},
     "output_type": "execute_result"
    }
   ],
   "source": [
    "n = len(data[0]['ca_exp']) + len(data[0]['cb_exp']) + len(data[0]['cc_exp'])\n",
    "p = 6\n",
    "s2 = mest.wssq() / (n - p)\n",
    "print('n:', n, ' p:', p, ' s2:', s2)\n",
    "# Covariance Matrix\n",
    "cov = 2 * s2 * inv_red_hes\n",
    "cov"
   ]
  },
  {
   "cell_type": "code",
   "execution_count": 18,
   "metadata": {},
   "outputs": [
    {
     "name": "stdout",
     "output_type": "stream",
     "text": [
      "parameter estimate\n",
      "{'k1': 2.0499437714318423, 'k2': 0.01940662424557941, 'k3': 192.93788256781954, 'k4': 0.19027088517622365, 'k5': 0.3690144565753473, 'k6': 8.23444344328863e-06}\n",
      "conf multiplier: 3.600647920002456\n",
      "confidence interval delta from nominal [k1, k2, k3, k4, k5, k6]\n",
      "[4.75290724e-01 2.76903186e-02 1.39353185e+02 2.86806185e-01\n",
      " 2.72372665e-01 3.59439500e-06]\n"
     ]
    }
   ],
   "source": [
    "parm_sd = np.sqrt(np.diag(cov))\n",
    "conf_mult = np.sqrt(p * spstat.f.ppf(0.95, p, n - p))\n",
    "print('parameter estimate')\n",
    "print(parest)\n",
    "print(\"conf multiplier:\", conf_mult)\n",
    "conf_int = conf_mult * parm_sd\n",
    "print(\"confidence interval delta from nominal [k1, k2, k3, k4, k5, k6]\")\n",
    "print(conf_int)"
   ]
  },
  {
   "cell_type": "code",
   "execution_count": 26,
   "metadata": {},
   "outputs": [
    {
     "name": "stdout",
     "output_type": "stream",
     "text": [
      "confidence interval % delta from nominal [k1, k2, k3, k4, k5, k6]\n",
      "[23.0, 143.0, 72.0, 151.0, 74.0, 44.0]\n"
     ]
    }
   ],
   "source": [
    "print(\"confidence interval % delta from nominal [k1, k2, k3, k4, k5, k6]\")\n",
    "conf_int_pct = []\n",
    "for (i, v) in enumerate(parest.items()):\n",
    "    conf_int_pct.append(conf_int[i] / v[1] * 100.0)\n",
    "print([np.round(x) for x in conf_int_pct])"
   ]
  },
  {
   "cell_type": "code",
   "execution_count": 9,
   "metadata": {},
   "outputs": [
    {
     "name": "stdout",
     "output_type": "stream",
     "text": [
      "Ipopt 3.14.5: \n",
      "\n",
      "******************************************************************************\n",
      "This program contains Ipopt, a library for large-scale nonlinear optimization.\n",
      " Ipopt is released as open source code under the Eclipse Public License (EPL).\n",
      "         For more information visit https://github.com/coin-or/Ipopt\n",
      "******************************************************************************\n",
      "\n",
      "This is Ipopt version 3.14.5, running with linear solver ma27.\n",
      "\n",
      "Number of nonzeros in equality constraint Jacobian...:     6963\n",
      "Number of nonzeros in inequality constraint Jacobian.:        0\n",
      "Number of nonzeros in Lagrangian Hessian.............:      393\n",
      "\n",
      "Total number of variables............................:     1443\n",
      "                     variables with only lower bounds:        0\n",
      "                variables with lower and upper bounds:        0\n",
      "                     variables with only upper bounds:        0\n",
      "Total number of equality constraints.................:     1443\n",
      "Total number of inequality constraints...............:        0\n",
      "        inequality constraints with only lower bounds:        0\n",
      "   inequality constraints with lower and upper bounds:        0\n",
      "        inequality constraints with only upper bounds:        0\n",
      "\n",
      "iter    objective    inf_pr   inf_du lg(mu)  ||d||  lg(rg) alpha_du alpha_pr  ls\n",
      "   0  1.4721008e+06 1.93e+02 1.00e+02  -1.0 0.00e+00    -  0.00e+00 0.00e+00   0\n",
      "   1  1.3835766e+06 1.59e+03 3.59e+02  -1.0 9.02e+06    -  1.00e+00 7.81e-03f  8\n",
      "   2  1.1050732e+06 1.54e+03 2.48e+03  -1.0 6.72e+05    -  1.00e+00 3.12e-02f  6\n",
      "   3  9.9555484e+05 1.18e+03 2.94e+04  -1.0 1.40e+05    -  1.00e+00 2.50e-01f  3\n",
      "   4  1.1132029e+05 3.02e+02 1.23e+05  -1.0 2.79e+04    -  1.00e+00 1.00e+00f  1\n",
      "   5  1.4866561e+04 2.97e+01 5.53e+03  -1.0 7.92e+03    -  1.00e+00 1.00e+00f  1\n",
      "   6  1.3184453e+04 3.48e-01 1.98e+01  -1.0 1.45e+03    -  1.00e+00 1.00e+00f  1\n",
      "   7  1.3157657e+04 5.57e-04 2.60e-03  -1.7 5.85e+01    -  1.00e+00 1.00e+00f  1\n",
      "   8  1.3157559e+04 1.76e-09 5.24e-09  -3.8 1.04e-01    -  1.00e+00 1.00e+00h  1\n",
      "\n",
      "Number of Iterations....: 8\n",
      "\n",
      "                                   (scaled)                 (unscaled)\n",
      "Objective...............:   1.2403743843571392e+04    1.3157559463395253e+04\n",
      "Dual infeasibility......:   3.7695763177580943e-11    3.9986656591924460e-11\n",
      "Constraint violation....:   1.7585864847680099e-09    1.7585864847680099e-09\n",
      "Variable bound violation:   0.0000000000000000e+00    0.0000000000000000e+00\n",
      "Complementarity.........:   0.0000000000000000e+00    0.0000000000000000e+00\n",
      "Overall NLP error.......:   1.7585864847680099e-09    1.7585864847680099e-09\n",
      "\n",
      "\n",
      "Number of objective function evaluations             = 23\n",
      "Number of objective gradient evaluations             = 9\n",
      "Number of equality constraint evaluations            = 26\n",
      "Number of inequality constraint evaluations          = 0\n",
      "Number of equality constraint Jacobian evaluations   = 9\n",
      "Number of inequality constraint Jacobian evaluations = 0\n",
      "Number of Lagrangian Hessian evaluations             = 8\n",
      "Total seconds in IPOPT                               = 0.025\n",
      "\n",
      "EXIT: Optimal Solution Found.\n",
      "\b\b\b\b\b\b\b\b\b\b\b\b\b\b"
     ]
    },
    {
     "data": {
      "text/plain": [
       "{'Problem': [{'Lower bound': -inf, 'Upper bound': inf, 'Number of objectives': 1, 'Number of constraints': 1443, 'Number of variables': 1443, 'Sense': 'unknown'}], 'Solver': [{'Status': 'ok', 'Message': 'Ipopt 3.14.5\\\\x3a Optimal Solution Found', 'Termination condition': 'optimal', 'Id': 0, 'Error rc': 0, 'Time': 0.0461122989654541}], 'Solution': [OrderedDict([('number of solutions', 0), ('number of solutions displayed', 0)])]}"
      ]
     },
     "execution_count": 9,
     "metadata": {},
     "output_type": "execute_result"
    }
   ],
   "source": [
    "ms = hbv_model(data[0])\n",
    "ms.k1.fix(mest.k1())\n",
    "ms.k2.fix(mest.k2())\n",
    "ms.k3.fix(mest.k3())\n",
    "ms.k4.fix(mest.k4())\n",
    "ms.k5.fix(mest.k5())\n",
    "ms.k6.fix(mest.k6())\n",
    "\n",
    "solver = pyo.SolverFactory('ipopt')\n",
    "solver.solve(ms, tee = True)"
   ]
  },
  {
   "cell_type": "code",
   "execution_count": 10,
   "metadata": {},
   "outputs": [
    {
     "data": {
      "text/plain": [
       "<matplotlib.collections.PathCollection at 0x7f7aa2c15ee0>"
      ]
     },
     "execution_count": 10,
     "metadata": {},
     "output_type": "execute_result"
    },
    {
     "data": {
      "image/png": "[encoded data removed]",
      "text/plain": [
       "<Figure size 432x288 with 1 Axes>"
      ]
     },
     "metadata": {
      "needs_background": "light"
     },
     "output_type": "display_data"
    }
   ],
   "source": [
    "fig, ax = plt.subplots()\n",
    "ax.plot(list(ms.time), [ms.ca[t]() for t in ms.time])\n",
    "ax.scatter(data[0]['ca_exp'].keys(), data[0]['ca_exp'].values())"
   ]
  },
  {
   "cell_type": "code",
   "execution_count": 11,
   "metadata": {},
   "outputs": [
    {
     "data": {
      "text/plain": [
       "<matplotlib.collections.PathCollection at 0x7f7aa0b34820>"
      ]
     },
     "execution_count": 11,
     "metadata": {},
     "output_type": "execute_result"
    },
    {
     "data": {
      "image/png": "[encoded data removed]",
      "text/plain": [
       "<Figure size 432x288 with 1 Axes>"
      ]
     },
     "metadata": {
      "needs_background": "light"
     },
     "output_type": "display_data"
    }
   ],
   "source": [
    "fig, ax = plt.subplots()\n",
    "ax.plot(list(ms.time), [ms.cb[t]() for t in ms.time])\n",
    "ax.scatter(data[0]['cb_exp'].keys(), data[0]['cb_exp'].values())"
   ]
  },
  {
   "cell_type": "code",
   "execution_count": 12,
   "metadata": {},
   "outputs": [
    {
     "data": {
      "text/plain": [
       "<matplotlib.collections.PathCollection at 0x7f7aa0b0eb80>"
      ]
     },
     "execution_count": 12,
     "metadata": {},
     "output_type": "execute_result"
    },
    {
     "data": {
      "image/png": "[encoded data removed]",
      "text/plain": [
       "<Figure size 432x288 with 1 Axes>"
      ]
     },
     "metadata": {
      "needs_background": "light"
     },
     "output_type": "display_data"
    }
   ],
   "source": [
    "fig, ax = plt.subplots()\n",
    "ax.plot(list(ms.time), [ms.cc[t]() for t in ms.time])\n",
    "ax.scatter(data[0]['cc_exp'].keys(), data[0]['cc_exp'].values())"
   ]
  },
  {
   "cell_type": "code",
   "execution_count": null,
   "metadata": {},
   "outputs": [],
   "source": []
  }
 ],
 "metadata": {
  "kernelspec": {
   "display_name": "Python 3 (ipykernel)",
   "language": "python",
   "name": "python3"
  },
  "language_info": {
   "codemirror_mode": {
    "name": "ipython",
    "version": 3
   },
   "file_extension": ".py",
   "mimetype": "text/x-python",
   "name": "python",
   "nbconvert_exporter": "python",
   "pygments_lexer": "ipython3",
   "version": "3.8.10"
  }
 },
 "nbformat": 4,
 "nbformat_minor": 2
}
