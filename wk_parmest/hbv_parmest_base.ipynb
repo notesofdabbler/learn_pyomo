{
 "cells": [
  {
   "cell_type": "code",
   "execution_count": 19,
   "metadata": {},
   "outputs": [],
   "source": [
    "#\n",
    "#  Creating a pyomo parest version of example from James Rawlings Reactor Design Book\n",
    "#  https://github.com/rawlings-group/paresto/blob/master/examples/green_book/hbv_det.m\n",
    "#"
   ]
  },
  {
   "cell_type": "code",
   "execution_count": 20,
   "metadata": {},
   "outputs": [],
   "source": [
    "from scipy.integrate import solve_ivp\n",
    "import numpy as np\n",
    "import matplotlib.pyplot as plt\n",
    "import pandas as pd\n",
    "import pyomo.environ as pyo\n",
    "import pyomo.dae as dae\n",
    "import scipy.stats as spstat\n",
    "from pyomo.contrib.interior_point.inverse_reduced_hessian import inv_reduced_hessian_barrier"
   ]
  },
  {
   "cell_type": "code",
   "execution_count": 21,
   "metadata": {},
   "outputs": [
    {
     "data": {
      "text/html": [
       "<div>\n",
       "<style scoped>\n",
       "    .dataframe tbody tr th:only-of-type {\n",
       "        vertical-align: middle;\n",
       "    }\n",
       "\n",
       "    .dataframe tbody tr th {\n",
       "        vertical-align: top;\n",
       "    }\n",
       "\n",
       "    .dataframe thead th {\n",
       "        text-align: right;\n",
       "    }\n",
       "</style>\n",
       "<table border=\"1\" class=\"dataframe\">\n",
       "  <thead>\n",
       "    <tr style=\"text-align: right;\">\n",
       "      <th></th>\n",
       "      <th>t</th>\n",
       "      <th>ca_exp</th>\n",
       "      <th>cb_exp</th>\n",
       "      <th>cc_exp</th>\n",
       "    </tr>\n",
       "  </thead>\n",
       "  <tbody>\n",
       "    <tr>\n",
       "      <th>0</th>\n",
       "      <td>0</td>\n",
       "      <td>0.89606</td>\n",
       "      <td>0.0000</td>\n",
       "      <td>0.00</td>\n",
       "    </tr>\n",
       "    <tr>\n",
       "      <th>1</th>\n",
       "      <td>2</td>\n",
       "      <td>0.70478</td>\n",
       "      <td>2.9690</td>\n",
       "      <td>336.04</td>\n",
       "    </tr>\n",
       "    <tr>\n",
       "      <th>2</th>\n",
       "      <td>4</td>\n",
       "      <td>0.51757</td>\n",
       "      <td>5.5807</td>\n",
       "      <td>264.59</td>\n",
       "    </tr>\n",
       "    <tr>\n",
       "      <th>3</th>\n",
       "      <td>6</td>\n",
       "      <td>0.63263</td>\n",
       "      <td>6.9731</td>\n",
       "      <td>330.36</td>\n",
       "    </tr>\n",
       "    <tr>\n",
       "      <th>4</th>\n",
       "      <td>8</td>\n",
       "      <td>0.80145</td>\n",
       "      <td>10.3210</td>\n",
       "      <td>343.77</td>\n",
       "    </tr>\n",
       "  </tbody>\n",
       "</table>\n",
       "</div>"
      ],
      "text/plain": [
       "   t   ca_exp   cb_exp  cc_exp\n",
       "0  0  0.89606   0.0000    0.00\n",
       "1  2  0.70478   2.9690  336.04\n",
       "2  4  0.51757   5.5807  264.59\n",
       "3  6  0.63263   6.9731  330.36\n",
       "4  8  0.80145  10.3210  343.77"
      ]
     },
     "execution_count": 21,
     "metadata": {},
     "output_type": "execute_result"
    }
   ],
   "source": [
    "data_df = pd.read_csv('hbv_paresto_data.csv', sep = '\\t')\n",
    "data_df.head()"
   ]
  },
  {
   "cell_type": "code",
   "execution_count": 22,
   "metadata": {},
   "outputs": [],
   "source": [
    "data = [{'ca_exp': {k: v for (k, v) in zip(data_df.t, data_df.ca_exp)},\n",
    "         'cb_exp': {k: v for (k, v) in zip(data_df.t, data_df.cb_exp)},\n",
    "         'cc_exp': {k: v for (k, v) in zip(data_df.t, data_df.cc_exp)}\n",
    "        }]"
   ]
  },
  {
   "cell_type": "code",
   "execution_count": 23,
   "metadata": {},
   "outputs": [],
   "source": [
    "def hbv_model(data):\n",
    "    \n",
    "    ca_exp = data['ca_exp']\n",
    "    cb_exp = data['cb_exp']\n",
    "    cc_exp = data['cc_exp']\n",
    "    texp = list(ca_exp.keys())\n",
    "    \n",
    "    ca0 = 1.0\n",
    "    cb0 = 0.0\n",
    "    cc0 = 0.0\n",
    "    \n",
    "    m = pyo.ConcreteModel()\n",
    "    \n",
    "    m.k1 = pyo.Var(initialize = 6.3, bounds = (1e-3, 10))\n",
    "    m.k2 = pyo.Var(initialize = 0.07, bounds = (1e-3, 10))\n",
    "    m.k3 = pyo.Var(initialize = 1412, bounds = (100, 5000))\n",
    "    m.k4 = pyo.Var(initialize = 0.17, bounds = (1e-3, 10))\n",
    "    m.k5 = pyo.Var(initialize = 0.69, bounds = (1e-3, 10))\n",
    "    m.k6 = pyo.Var(initialize = 3.5e-6, bounds = (1e-6, 1e-5))\n",
    "    \n",
    "    m.time = dae.ContinuousSet(bounds = (0, max(texp)), initialize = texp)\n",
    "    \n",
    "    m.ca = pyo.Var(m.time, initialize = ca0)\n",
    "    m.cb = pyo.Var(m.time, initialize = cb0)\n",
    "    m.cc = pyo.Var(m.time, initialize = cc0)\n",
    "    \n",
    "    m.dca = dae.DerivativeVar(m.ca)\n",
    "    m.dcb = dae.DerivativeVar(m.cb)\n",
    "    m.dcc = dae.DerivativeVar(m.cc)\n",
    "    \n",
    "    def _dca_eq(m, t):\n",
    "        if t == 0:\n",
    "            return pyo.Constraint.Skip\n",
    "        else:\n",
    "            return m.dca[t] == m.k2 * m.cb[t] - m.k4 * m.ca[t]\n",
    "    m.dca_eq = pyo.Constraint(m.time, rule = _dca_eq)\n",
    "\n",
    "    def _dcb_eq(m, t):\n",
    "        if t == 0:\n",
    "            return pyo.Constraint.Skip\n",
    "        else:\n",
    "            return m.dcb[t] == m.k1 * m.ca[t] - m.k2 * m.cb[t] - m.k6 * m.cb[t] * m.cc[t]\n",
    "    m.dcb_eq = pyo.Constraint(m.time, rule = _dcb_eq)\n",
    "    \n",
    "    def _dcc_eq(m, t):\n",
    "        if t == 0:\n",
    "            return pyo.Constraint.Skip\n",
    "        else:\n",
    "            return m.dcc[t] == m.k3 * m.ca[t] - m.k5 * m.cc[t] - m.k6 * m.cb[t] * m.cc[t]\n",
    "    m.dcc_eq = pyo.Constraint(m.time, rule = _dcc_eq)\n",
    "\n",
    "    def _initcon(m):\n",
    "        yield m.ca[m.time.first()] == ca0\n",
    "        yield m.cb[m.time.first()] == cb0\n",
    "        yield m.cc[m.time.first()] == cc0\n",
    "    m.initcon = pyo.ConstraintList(rule = _initcon)\n",
    "        \n",
    "    def wssq_rule(m):\n",
    "        return sum((m.ca[t] - ca_exp[t]) ** 2 + \n",
    "                   1e-2 * (m.cb[t] - cb_exp[t]) ** 2 + \n",
    "                   1e-4 * (m.cc[t] - cc_exp[t]) ** 2 \n",
    "                   for t in texp) \n",
    "    m.wssq = pyo.Objective(rule=wssq_rule)\n",
    "   \n",
    "    disc = pyo.TransformationFactory('dae.collocation')\n",
    "    disc.apply_to(m, nfe=60, ncp=4)\n",
    "    \n",
    "    #disc = TransformationFactory('dae.finite_difference')\n",
    "    #disc.apply_to(m, nfe=500, scheme = 'BACKWARD')\n",
    "    \n",
    "    return m "
   ]
  },
  {
   "cell_type": "code",
   "execution_count": 24,
   "metadata": {},
   "outputs": [
    {
     "name": "stdout",
     "output_type": "stream",
     "text": [
      "Ipopt 3.14.5: \n",
      "\n",
      "******************************************************************************\n",
      "This program contains Ipopt, a library for large-scale nonlinear optimization.\n",
      " Ipopt is released as open source code under the Eclipse Public License (EPL).\n",
      "         For more information visit https://github.com/coin-or/Ipopt\n",
      "******************************************************************************\n",
      "\n",
      "This is Ipopt version 3.14.5, running with linear solver ma27.\n",
      "\n",
      "Number of nonzeros in equality constraint Jacobian...:     8883\n",
      "Number of nonzeros in inequality constraint Jacobian.:        0\n",
      "Number of nonzeros in Lagrangian Hessian.............:     2073\n",
      "\n",
      "Total number of variables............................:     1449\n",
      "                     variables with only lower bounds:        0\n",
      "                variables with lower and upper bounds:        6\n",
      "                     variables with only upper bounds:        0\n",
      "Total number of equality constraints.................:     1443\n",
      "Total number of inequality constraints...............:        0\n",
      "        inequality constraints with only lower bounds:        0\n",
      "   inequality constraints with lower and upper bounds:        0\n",
      "        inequality constraints with only upper bounds:        0\n",
      "\n",
      "iter    objective    inf_pr   inf_du lg(mu)  ||d||  lg(rg) alpha_du alpha_pr  ls\n",
      "   0  1.3749670e+06 1.41e+03 1.00e+02  -1.0 0.00e+00    -  0.00e+00 0.00e+00   0\n",
      "   1  1.3747133e+06 1.41e+03 1.00e+02  -1.0 2.46e+04    -  7.56e-02 1.45e-04f  1\n",
      "   2  1.3143773e+06 1.53e+03 2.17e+04  -1.0 2.46e+04    -  9.49e-02 3.52e-02f  1\n",
      "   3  1.3141246e+06 1.50e+03 3.11e+04  -1.0 1.15e+03  -2.0 8.25e-03 2.42e-02f  1\n",
      "   4  1.3111887e+06 1.34e+03 4.35e+05  -1.0 1.11e+03  -2.5 7.59e-01 1.06e-01f  1\n",
      "   5  1.3110878e+06 1.33e+03 1.42e+06  -1.0 1.00e+03  -2.1 7.83e-01 9.92e-03f  1\n",
      "   6  1.3033927e+06 1.02e+03 7.58e+05  -1.0 9.24e+02  -2.5 1.94e-01 2.36e-01f  1\n",
      "   7  1.3032246e+06 1.01e+03 7.40e+05  -1.0 2.47e+03  -3.0 5.95e-05 9.55e-04f  1\n",
      "   8  1.3032183e+06 1.01e+03 7.31e+05  -1.0 7.39e+02  -1.7 1.69e-04 1.73e-03f  1\n",
      "   9  1.3032182e+06 1.01e+03 4.78e+06  -1.0 7.80e+02  -1.3 1.00e+00 3.34e-05h  1\n",
      "iter    objective    inf_pr   inf_du lg(mu)  ||d||  lg(rg) alpha_du alpha_pr  ls\n",
      "  10  1.2957659e+06 2.30e+02 1.62e+06  -1.0 8.21e+02  -1.7 5.26e-02 1.00e+00f  1\n",
      "  11  1.2957514e+06 2.27e+02 2.97e+06  -1.0 7.97e+01  -0.4 2.54e-02 1.36e-02f  1\n",
      "  12  1.2958429e+06 2.03e+02 5.37e+06  -1.0 1.25e+02  -0.9 4.75e-04 1.04e-01h  1\n",
      "  13  1.2955080e+06 2.39e+01 4.08e+06  -1.0 7.91e+01  -0.4 4.33e-01 9.78e-01f  1\n",
      "  14  1.2952959e+06 1.75e+01 5.54e+06  -1.0 1.98e+01  -0.9 1.61e-01 2.65e-01f  1\n",
      "  15  1.2952944e+06 1.75e+01 5.54e+06  -1.0 1.42e+02  -1.4 8.60e-04 8.31e-04f  1\n",
      "  16  1.2952943e+06 1.75e+01 5.56e+06  -1.0 9.30e+00  -0.1 2.68e-03 2.04e-04h  1\n",
      "  17  1.2952943e+06 1.75e+01 5.53e+06  -1.0 1.16e+01  -0.6 1.34e-03 8.91e-05h  1\n",
      "  18  1.2953322e+06 1.73e+01 6.78e+06  -1.0 9.16e+01  -1.0 1.92e-06 1.16e-02h  1\n",
      "  19  1.2953324e+06 1.73e+01 4.19e+06  -1.0 2.33e+01  -0.6 2.81e-01 2.38e-04h  1\n",
      "iter    objective    inf_pr   inf_du lg(mu)  ||d||  lg(rg) alpha_du alpha_pr  ls\n",
      "  20  1.2940577e+06 7.34e-01 4.96e+06  -1.0 2.30e+01  -1.1 1.93e-02 1.00e+00f  1\n",
      "  21  1.2929803e+06 6.28e-01 1.52e+07  -1.0 9.64e+01  -1.6 4.78e-01 2.58e-01f  1\n",
      "  22  1.2928796e+06 6.20e-01 1.85e+07  -1.0 4.28e+01  -0.2 4.11e-04 1.20e-02f  1\n",
      "  23  1.2928770e+06 6.20e-01 1.85e+07  -1.0 3.13e+01   0.2 1.77e-03 5.11e-04f  1\n",
      "  24  1.2927274e+06 5.99e-01 1.75e+07  -1.0 4.85e+01  -0.3 1.05e-01 4.24e-02f  1\n",
      "  25  1.2927203e+06 5.98e-01 1.74e+07  -1.0 4.58e+01  -0.8 3.10e-03 1.68e-03f  1\n",
      "  26  1.2905778e+06 3.96e-01 2.46e+07  -1.0 3.54e+01  -1.2 4.24e-04 3.29e-01f  1\n",
      "  27  1.2901201e+06 3.81e-01 2.23e+07  -1.0 8.44e+01  -1.7 4.51e-01 4.34e-02f  1\n",
      "  28  1.2751211e+06 9.78e-01 3.43e+07  -1.0 2.97e+02  -2.2 2.27e-01 5.84e-01f  1\n",
      "  29  1.2718475e+06 2.99e-01 2.67e+07  -1.0 1.20e+02  -1.8 1.73e-03 2.40e-01f  1\n",
      "iter    objective    inf_pr   inf_du lg(mu)  ||d||  lg(rg) alpha_du alpha_pr  ls\n",
      "  30  1.2718090e+06 2.98e-01 2.52e+07  -1.0 4.96e+02  -2.2 8.70e-02 6.81e-04f  1\n",
      "  31  1.2715243e+06 2.98e-01 1.17e+08  -1.0 1.85e+03  -2.7 2.03e-01 2.38e-03f  1\n",
      "  32  1.2365773e+06 2.95e+01 9.67e+07  -1.0 4.85e+02  -2.3 1.00e+00 1.00e+00f  1\n",
      "  33  1.2206612e+06 2.49e+00 3.52e+07  -1.0 1.45e+02  -1.9 6.53e-01 1.00e+00f  1\n",
      "  34  1.1854887e+06 4.41e+00 2.58e+08  -1.0 4.69e+02  -2.3 4.55e-01 1.00e+00f  1\n",
      "  35  1.1727841e+06 1.91e+00 5.07e+07  -1.0 1.45e+02  -1.9 1.00e+00 1.00e+00f  1\n",
      "  36  1.1433259e+06 5.25e+00 2.43e+07  -1.0 4.36e+02  -2.4 1.00e+00 1.00e+00f  1\n",
      "  37  1.0679784e+06 1.36e+01 4.15e+06  -1.0 1.10e+03  -2.9 1.00e+00 1.00e+00f  1\n",
      "  38  1.0406968e+06 3.52e+00 2.48e+07  -1.0 3.72e+02  -2.4 1.00e+00 1.00e+00f  1\n",
      "  39  9.6474871e+05 2.40e+02 1.06e+07  -1.0 9.78e+02  -2.9 9.73e-01 1.00e+00f  1\n",
      "iter    objective    inf_pr   inf_du lg(mu)  ||d||  lg(rg) alpha_du alpha_pr  ls\n",
      "  40  7.7207995e+05 2.42e+03 4.63e+08  -1.0 2.41e+03  -3.4 2.03e-01 1.00e+00f  1\n",
      "  41  7.0705983e+05 1.44e+02 9.69e+08  -1.0 9.40e+02  -3.0 4.30e-03 1.00e+00f  1\n",
      "  42  5.4514288e+05 5.67e+02 1.04e+09  -1.0 2.41e+03  -3.4 1.27e-01 1.00e+00f  1\n",
      "  43  4.9375464e+05 6.89e+03 1.38e+08  -1.0 1.42e+03  -3.0 1.00e+00 8.55e-01f  1\n",
      "  44  4.9839219e+05 2.32e+03 1.08e+09  -1.0 1.18e+02  -0.8 1.00e+00 7.21e-01h  1\n",
      "  45  4.9621992e+05 2.96e+01 1.97e+09  -1.0 1.81e+02  -1.3 7.15e-01 1.00e+00f  1\n",
      "  46  4.8612580e+05 2.15e+03 1.54e+09  -1.0 2.71e+02  -1.7 1.34e-02 1.00e+00f  1\n",
      "  47  5.0047195e+05 1.55e+03 4.69e+09  -1.0 1.33e+02  -0.4 1.31e-03 1.00e+00h  1\n",
      "  48  5.0433599e+05 4.64e+02 1.08e+10  -1.0 4.67e+02  -0.9 6.69e-01 1.00e+00h  1\n",
      "  49  5.0339528e+05 1.64e+01 1.87e+10  -1.0 2.17e+02  -0.5 1.00e+00 1.00e+00f  1\n",
      "iter    objective    inf_pr   inf_du lg(mu)  ||d||  lg(rg) alpha_du alpha_pr  ls\n",
      "  50  5.0160018e+05 1.88e+01 5.41e+09  -1.0 1.27e+02  -0.9 1.00e+00 1.00e+00f  1\n",
      "  51  5.0142189e+05 5.52e-01 4.88e+07  -1.0 8.37e+00   0.4 1.00e+00 1.00e+00f  1\n",
      "  52  5.0089190e+05 3.08e+00 5.26e+07  -1.0 1.15e+01  -0.1 1.00e+00 1.00e+00f  1\n",
      "  53  4.9874958e+05 4.93e+01 8.03e+06  -1.0 4.32e+01  -0.6 1.00e+00 1.00e+00f  1\n",
      "  54  4.9722324e+05 1.20e+01 2.58e+07  -1.0 1.39e+01  -0.1 1.00e+00 1.00e+00f  1\n",
      "  55  4.9158658e+05 2.24e+02 3.35e+07  -1.0 6.57e+01  -0.6 1.00e+00 1.00e+00f  1\n",
      "  56  4.8900067e+05 1.90e+02 1.37e+07  -1.0 5.59e+01  -1.1 1.00e+00 2.07e-01f  1\n",
      "  57  4.8897371e+05 1.90e+02 3.69e+08  -1.0 1.22e+02  -1.6 1.00e+00 2.22e-03f  1\n",
      "  58  4.8890896e+05 1.56e+02 3.16e+09  -1.0 2.52e+01  -1.1 1.00e+00 1.80e-01f  1\n",
      "  59  4.8644853e+05 2.34e+01 1.38e+08  -1.0 8.25e+01  -1.6 1.00e+00 1.00e+00f  1\n",
      "iter    objective    inf_pr   inf_du lg(mu)  ||d||  lg(rg) alpha_du alpha_pr  ls\n",
      "  60  4.7855807e+05 1.31e+02 6.61e+07  -1.0 1.41e+02  -2.1 1.00e+00 1.00e+00f  1\n",
      "  61  4.5725034e+05 1.16e+03 2.89e+07  -1.0 3.50e+02  -2.6 9.88e-01 1.00e+00f  1\n",
      "  62  4.5091750e+05 4.94e+01 1.53e+08  -1.0 1.41e+02  -2.2 1.00e+00 1.00e+00f  1\n",
      "  63  4.2988814e+05 6.52e+01 8.35e+06  -1.0 3.33e+02  -2.6 1.00e+00 1.00e+00f  1\n",
      "  64  3.7274007e+05 1.41e+03 1.90e+08  -1.0 9.72e+02  -3.1 1.00e+00 1.00e+00f  1\n",
      "  65  3.5335214e+05 4.75e+02 1.06e+08  -1.0 3.77e+02  -2.7 1.00e+00 1.00e+00f  1\n",
      "  66  3.0336752e+05 2.47e+03 5.62e+08  -1.0 9.09e+02  -3.2 6.13e-01 1.00e+00f  1\n",
      "  67  3.0192396e+05 3.45e+02 6.68e+07  -1.0 1.14e+02  -1.8 1.00e+00 1.00e+00f  1\n",
      "  68  2.9489151e+05 1.66e+02 1.01e+07  -1.0 1.15e+02  -2.3 1.00e+00 1.00e+00f  1\n",
      "  69  2.7806002e+05 7.94e+01 2.15e+08  -1.0 3.36e+02  -2.8 9.41e-01 1.00e+00f  1\n",
      "iter    objective    inf_pr   inf_du lg(mu)  ||d||  lg(rg) alpha_du alpha_pr  ls\n",
      "  70  2.4273560e+05 1.00e+03 3.83e+08  -1.0 8.17e+02  -3.3 1.00e+00 7.90e-01f  1\n",
      "  71  2.2814299e+05 9.03e+02 6.16e+08  -1.0 4.38e+02  -2.8 1.81e-01 1.00e+00f  1\n",
      "  72  1.8920751e+05 6.50e+01 6.77e+08  -1.0 8.39e+02  -3.3 5.93e-01 1.00e+00f  1\n",
      "  73  1.7604367e+05 4.25e+01 6.07e+06  -1.0 3.15e+02  -2.9 3.21e-01 1.00e+00f  1\n",
      "  74  1.4333455e+05 8.29e+02 4.28e+07  -1.0 8.39e+02  -3.4 1.00e+00 1.00e+00f  1\n",
      "  75  1.0498702e+05 5.23e+03 2.56e+07  -1.0 2.16e+03  -3.8 3.02e-01 6.08e-01f  1\n",
      "  76  7.0210230e+04 4.12e+03 4.93e+07  -1.0 6.32e+03    -  1.00e+00 2.08e-01f  1\n",
      "  77  7.0138026e+04 4.12e+03 7.21e+06  -1.0 4.17e+03  -4.3 8.51e-02 1.25e-03f  1\n",
      "  78  6.8065077e+04 5.10e+03 6.05e+08  -1.0 2.99e+04    -  3.88e-03 6.25e-02f  5\n",
      "  79  1.3949163e+04 2.21e+03 5.60e+08  -1.0 4.81e+03    -  7.25e-04 1.00e+00f  1\n",
      "iter    objective    inf_pr   inf_du lg(mu)  ||d||  lg(rg) alpha_du alpha_pr  ls\n",
      "  80  1.4088664e+04 2.03e+03 5.05e+08  -1.0 2.29e+03    -  1.00e+00 8.94e-02h  1\n",
      "  81  1.4092768e+04 2.02e+03 5.11e+08  -1.0 2.10e+03  -3.9 1.00e+00 7.02e-04h  1\n",
      "  82  1.3562113e+04 1.82e+03 4.75e+08  -1.0 2.81e+03    -  7.84e-01 1.01e-01f  1\n",
      "  83  1.3396144e+04 1.77e+03 1.94e+09  -1.0 3.03e+03    -  8.04e-01 2.71e-02f  1\n",
      "  84  1.7860964e+04 1.07e+02 2.28e+09  -1.0 2.95e+03    -  1.94e-02 1.00e+00h  1\n",
      "  85  1.7843310e+04 1.07e+02 3.84e+09  -1.0 9.17e+04    -  8.74e-03 9.44e-05f  1\n",
      "  86  1.4401151e+04 4.37e+01 7.80e+07  -1.0 1.39e+03    -  3.96e-02 1.00e+00f  1\n",
      "  87  1.4351348e+04 4.11e+01 7.41e+07  -1.0 3.91e+02  -3.5 1.71e-02 5.77e-02f  1\n",
      "  88  1.2167524e+04 5.71e+02 5.06e+08  -1.0 9.46e+02    -  5.74e-03 1.00e+00f  1\n",
      "  89  1.1431565e+04 5.03e+02 4.47e+07  -1.0 3.60e+02    -  7.71e-02 1.00e+00f  1\n",
      "iter    objective    inf_pr   inf_du lg(mu)  ||d||  lg(rg) alpha_du alpha_pr  ls\n",
      "  90  1.1580906e+04 4.31e+02 2.05e+08  -1.0 3.08e+02  -3.0 1.00e+00 7.61e-01h  1\n",
      "  91  1.1557700e+04 4.09e+02 2.04e+08  -1.0 1.62e+03    -  3.38e-01 1.28e-02F  1\n",
      "  92  1.2630707e+04 8.29e+01 4.85e+06  -1.0 6.44e+02    -  1.35e-03 7.23e-01h  1\n",
      "  93  1.2024813e+04 1.23e+02 5.22e+07  -1.0 4.22e+02    -  9.74e-03 1.00e+00f  1\n",
      "  94  1.1825623e+04 1.22e+02 5.15e+07  -1.0 7.61e+02    -  6.62e-01 5.00e-01f  2\n",
      "  95  1.1273558e+04 2.58e+01 1.65e+07  -1.0 4.36e+02    -  1.00e+00 1.00e+00f  1\n",
      "  96  1.1255693e+04 2.41e+01 1.44e+07  -1.0 5.82e+02    -  5.35e-01 2.50e-01f  3\n",
      "  97  1.1309009e+04 2.21e+00 1.39e+07  -1.0 2.85e+02    -  1.00e+00 1.00e+00h  1\n",
      "  98  1.1223139e+04 1.88e+00 4.64e+06  -1.0 1.41e+02    -  1.00e+00 1.00e+00f  1\n",
      "  99  1.1223042e+04 2.63e-01 4.13e+04  -1.0 1.78e+01    -  1.00e+00 1.00e+00h  1\n",
      "iter    objective    inf_pr   inf_du lg(mu)  ||d||  lg(rg) alpha_du alpha_pr  ls\n",
      " 100  1.1224772e+04 6.04e-04 1.01e+03  -1.0 1.68e+00    -  1.00e+00 1.00e+00h  1\n",
      " 101  1.1224765e+04 2.56e-08 6.86e-02  -1.0 1.55e-02    -  1.00e+00 1.00e+00h  1\n",
      " 102  1.1224765e+04 3.59e-05 5.76e+00  -2.5 1.39e-01    -  1.00e+00 1.00e+00h  1\n",
      " 103  1.1224765e+04 6.56e-11 8.48e-08  -2.5 3.85e-05    -  1.00e+00 1.00e+00h  1\n"
     ]
    },
    {
     "name": "stdout",
     "output_type": "stream",
     "text": [
      " 104  1.1224765e+04 2.72e-08 4.37e-03  -3.8 3.84e-03    -  1.00e+00 1.00e+00h  1\n",
      " 105  1.1224765e+04 4.38e-11 8.69e-07  -3.8 2.93e-08    -  1.00e+00 1.00e+00h  1\n",
      " 106  1.1224765e+04 8.61e-11 1.30e-05  -5.7 2.13e-04    -  1.00e+00 1.00e+00h  1\n",
      " 107  1.1224765e+04 3.88e-11 2.53e-07  -8.6 2.64e-06    -  1.00e+00 1.00e+00h  1\n",
      " 108  1.1224765e+04 3.10e-11 1.27e-07  -8.6 1.11e-11    -  1.00e+00 1.00e+00h  1\n",
      " 109  1.1224765e+04 4.43e-11 6.38e-07  -8.6 2.15e-11    -  1.00e+00 1.00e+00h  1\n",
      "iter    objective    inf_pr   inf_du lg(mu)  ||d||  lg(rg) alpha_du alpha_pr  ls\n",
      " 110  1.1224765e+04 3.03e-11 9.14e-07  -8.6 2.12e-11    -  1.00e+00 1.00e+00h  1\n",
      " 111  1.1224765e+04 3.75e-11 2.40e-06  -8.6 1.76e-11    -  1.00e+00 1.00e+00h  1\n",
      " 112  1.1224765e+04 5.22e-11 1.70e-06  -8.6 1.75e-11    -  1.00e+00 1.00e+00h  1\n",
      " 113  1.1224765e+04 6.10e-11 2.43e-07  -8.6 1.61e-11    -  1.00e+00 1.00e+00H  1\n",
      " 114  1.1224765e+04 4.63e-11 1.58e-07  -8.6 1.66e-11    -  1.00e+00 2.50e-01h  3\n",
      " 115  1.1224765e+04 3.94e-11 1.01e-06  -8.6 2.21e-11    -  1.00e+00 1.00e+00h  1\n",
      " 116  1.1224765e+04 4.38e-11 3.03e-06  -8.6 2.57e-11    -  1.00e+00 1.00e+00H  1\n",
      " 117  1.1224765e+04 3.73e-11 1.58e-06  -8.6 2.24e-11    -  1.00e+00 1.00e+00h  1\n",
      " 118  1.1224765e+04 4.30e-11 1.63e-06  -8.6 1.60e-11    -  1.00e+00 5.00e-01h  2\n",
      " 119  1.1224765e+04 2.29e-11 2.53e-07  -8.6 1.48e-11    -  1.00e+00 1.00e+00h  1\n",
      "iter    objective    inf_pr   inf_du lg(mu)  ||d||  lg(rg) alpha_du alpha_pr  ls\n",
      " 120  1.1224765e+04 4.37e-11 5.75e-07  -8.6 1.40e-11    -  1.00e+00 1.00e+00h  1\n",
      " 121  1.1224765e+04 2.29e-11 1.55e-06  -8.6 1.99e-11    -  1.00e+00 5.00e-01h  2\n",
      " 122  1.1224765e+04 2.12e-11 7.13e-07  -8.6 2.34e-11    -  1.00e+00 2.50e-01h  3\n",
      " 123  1.1224765e+04 3.51e-11 7.59e-07  -8.6 1.00e-11    -  1.00e+00 2.50e-01h  3\n",
      " 124  1.1224765e+04 3.48e-11 4.57e-07  -8.6 1.02e-11    -  1.00e+00 1.25e-01h  4\n",
      " 125  1.1224765e+04 3.44e-11 7.41e-07  -8.6 9.88e-12    -  1.00e+00 1.25e-01h  4\n",
      " 126  1.1224765e+04 3.40e-11 1.11e-06  -8.6 1.77e-11    -  1.00e+00 1.25e-01h  4\n",
      " 127  1.1224765e+04 3.43e-11 1.98e-06  -8.6 1.64e-11    -  1.00e+00 2.50e-01h  3\n",
      " 128  1.1224765e+04 2.82e-11 1.11e-06  -8.6 1.32e-11    -  1.00e+00 2.50e-01h  3\n",
      " 129  1.1224765e+04 2.80e-11 8.04e-07  -8.6 1.55e-11    -  1.00e+00 6.25e-02h  5\n",
      "iter    objective    inf_pr   inf_du lg(mu)  ||d||  lg(rg) alpha_du alpha_pr  ls\n",
      " 130  1.1224765e+04 2.83e-11 1.08e-06  -8.6 1.68e-11    -  1.00e+00 1.25e-01h  4\n",
      " 131  1.1224765e+04 3.19e-11 4.43e-07  -8.6 1.60e-11    -  1.00e+00 1.00e+00w  1\n",
      " 132  1.1224765e+04 3.34e-11 1.62e-07  -8.6 1.86e-11    -  1.00e+00 1.00e+00w  1\n",
      " 133  1.1224765e+04 3.25e-11 1.36e-06  -8.6 1.75e-11    -  1.00e+00 1.00e+00h  1\n",
      " 134  1.1224765e+04 3.16e-11 2.08e-06  -8.6 2.07e-11    -  1.00e+00 1.25e-01h  4\n",
      " 135  1.1224765e+04 2.12e-11 1.88e-06  -8.6 1.10e-11    -  1.00e+00 5.00e-01h  2\n",
      " 136  1.1224765e+04 4.34e-11 1.02e-06  -8.6 1.78e-11    -  1.00e+00 1.00e+00H  1\n",
      " 137  1.1224765e+04 4.15e-11 2.19e-07  -8.6 1.70e-11    -  1.00e+00 1.00e+00h  1\n",
      " 138  1.1224765e+04 3.93e-11 5.69e-07  -8.6 2.23e-11    -  1.00e+00 2.50e-01h  3\n",
      " 139  1.1224765e+04 6.15e-11 2.83e-07  -8.6 2.26e-11    -  1.00e+00 1.00e+00H  1\n",
      "iter    objective    inf_pr   inf_du lg(mu)  ||d||  lg(rg) alpha_du alpha_pr  ls\n",
      " 140  1.1224765e+04 4.24e-11 3.89e-07  -8.6 2.35e-11    -  1.00e+00 5.00e-01h  2\n",
      " 141  1.1224765e+04 3.12e-11 3.42e-07  -8.6 2.44e-11    -  1.00e+00 1.00e+00h  1\n",
      " 142  1.1224765e+04 3.35e-11 4.61e-07  -8.6 2.17e-11    -  1.00e+00 5.00e-01h  2\n",
      " 143  1.1224765e+04 3.33e-11 1.31e-07  -8.6 1.25e-11    -  1.00e+00 2.50e-01h  3\n",
      " 144  1.1224765e+04 3.32e-11 1.14e-07  -8.6 1.43e-11    -  1.00e+00 2.50e-01h  3\n",
      " 145  1.1224765e+04 4.44e-11 1.40e-06  -8.6 1.68e-11    -  1.00e+00 1.00e+00H  1\n",
      " 146  1.1224765e+04 3.62e-11 1.62e-06  -8.6 2.30e-11    -  1.00e+00 1.00e+00h  1\n",
      " 147  1.1224765e+04 3.55e-11 2.40e-06  -8.6 2.38e-11    -  1.00e+00 6.25e-02h  5\n",
      " 148  1.1224765e+04 3.35e-11 1.13e-06  -8.6 2.21e-11    -  1.00e+00 2.50e-01h  3\n",
      " 149  1.1224765e+04 2.53e-11 1.75e-06  -8.6 3.13e-11    -  1.00e+00 2.50e-01h  3\n",
      "iter    objective    inf_pr   inf_du lg(mu)  ||d||  lg(rg) alpha_du alpha_pr  ls\n",
      " 150  1.1224765e+04 2.54e-11 1.84e-07  -8.6 2.23e-11    -  1.00e+00 6.25e-02h  5\n",
      " 151  1.1224765e+04 2.58e-11 2.23e-08  -8.6 1.82e-11    -  1.00e+00 1.25e-01h  4\n",
      " 152  1.1224765e+04 3.85e-11 1.58e-06  -9.0 2.29e-09    -  1.00e+00 1.00e+00h  1\n",
      " 153  1.1224765e+04 4.08e-11 4.39e-07  -9.0 2.33e-11    -  1.00e+00 1.00e+00s 22\n",
      "\n",
      "Number of Iterations....: 153\n",
      "\n",
      "                                   (scaled)                 (unscaled)\n",
      "Objective...............:   1.1103734091261305e+04    1.1224764792856055e+04\n",
      "Dual infeasibility......:   4.3893023039982826e-07    4.4371456991118643e-07\n",
      "Constraint violation....:   4.0766057196606198e-11    4.0766057196606198e-11\n",
      "Variable bound violation:   0.0000000000000000e+00    0.0000000000000000e+00\n",
      "Complementarity.........:   9.0909090909090931e-10    9.1900000000000024e-10\n",
      "Overall NLP error.......:   4.3893023039982826e-07    4.4371456991118643e-07\n",
      "\n",
      "\n",
      "Number of objective function evaluations             = 270\n",
      "Number of objective gradient evaluations             = 155\n",
      "Number of equality constraint evaluations            = 270\n",
      "Number of inequality constraint evaluations          = 0\n",
      "Number of equality constraint Jacobian evaluations   = 155\n",
      "Number of inequality constraint Jacobian evaluations = 0\n",
      "Number of Lagrangian Hessian evaluations             = 154\n",
      "Total seconds in IPOPT                               = 0.538\n",
      "\n",
      "EXIT: Solved To Acceptable Level.\n",
      "\b\b\b\b\b\b\b\b\b\b\b\b\b\b"
     ]
    },
    {
     "data": {
      "text/plain": [
       "{'Problem': [{'Lower bound': -inf, 'Upper bound': inf, 'Number of objectives': 1, 'Number of constraints': 1443, 'Number of variables': 1449, 'Sense': 'unknown'}], 'Solver': [{'Status': 'ok', 'Message': 'Ipopt 3.14.5\\\\x3a Solved To Acceptable Level.', 'Termination condition': 'optimal', 'Id': 1, 'Error rc': 0, 'Time': 0.5557653903961182}], 'Solution': [OrderedDict([('number of solutions', 0), ('number of solutions displayed', 0)])]}"
      ]
     },
     "execution_count": 24,
     "metadata": {},
     "output_type": "execute_result"
    }
   ],
   "source": [
    "# Estimate parameters\n",
    "mest = hbv_model(data[0])\n",
    "solver = pyo.SolverFactory('ipopt')\n",
    "solver.solve(mest, tee = True)"
   ]
  },
  {
   "cell_type": "code",
   "execution_count": 25,
   "metadata": {},
   "outputs": [
    {
     "data": {
      "text/plain": [
       "{'k1': 2.079141373344474,\n",
       " 'k2': 0.036900154488831056,\n",
       " 'k3': 331.42580439257085,\n",
       " 'k4': 0.37864017390792787,\n",
       " 'k5': 0.6298787589414175,\n",
       " 'k6': 7.4335074895635704e-06}"
      ]
     },
     "execution_count": 25,
     "metadata": {},
     "output_type": "execute_result"
    }
   ],
   "source": [
    "# Parameter Estimates\n",
    "parest = {'k1': mest.k1(), 'k2': mest.k2(), 'k3': mest.k3(), 'k4': mest.k4(), 'k5': mest.k5(), 'k6': mest.k6()}\n",
    "parest"
   ]
  },
  {
   "cell_type": "code",
   "execution_count": 27,
   "metadata": {},
   "outputs": [
    {
     "data": {
      "text/plain": [
       "{'k1': 0.31788402063303123,\n",
       " 'k2': -1.4329718155887339,\n",
       " 'k3': 2.5203863190169966,\n",
       " 'k4': -0.4217733090702861,\n",
       " 'k5': -0.20074303687964493,\n",
       " 'k6': -5.128806216666511}"
      ]
     },
     "execution_count": 27,
     "metadata": {},
     "output_type": "execute_result"
    }
   ],
   "source": [
    "lparest = {k: np.log10(v) for (k, v) in parest.items()}\n",
    "lparest"
   ]
  },
  {
   "cell_type": "code",
   "execution_count": null,
   "metadata": {},
   "outputs": [],
   "source": [
    "fig, ax = plt.subplots()\n",
    "ax.plot(list(mest.time), [mest.ca[t]() for t in mest.time])\n",
    "ax.scatter(data[0]['ca_exp'].keys(), data[0]['ca_exp'].values())"
   ]
  },
  {
   "cell_type": "code",
   "execution_count": null,
   "metadata": {},
   "outputs": [],
   "source": [
    "fig, ax = plt.subplots()\n",
    "ax.plot(list(mest.time), [mest.cb[t]() for t in mest.time])\n",
    "ax.scatter(data[0]['cb_exp'].keys(), data[0]['cb_exp'].values())"
   ]
  },
  {
   "cell_type": "code",
   "execution_count": null,
   "metadata": {},
   "outputs": [],
   "source": [
    "fig, ax = plt.subplots()\n",
    "ax.plot(list(mest.time), [mest.cc[t]() for t in mest.time])\n",
    "ax.scatter(data[0]['cc_exp'].keys(), data[0]['cc_exp'].values())"
   ]
  },
  {
   "cell_type": "code",
   "execution_count": 39,
   "metadata": {},
   "outputs": [
    {
     "name": "stdout",
     "output_type": "stream",
     "text": [
      "Ipopt 3.14.5: bound_relax_factor=0\n",
      "honor_original_bounds=no\n",
      "\n",
      "\n",
      "******************************************************************************\n",
      "This program contains Ipopt, a library for large-scale nonlinear optimization.\n",
      " Ipopt is released as open source code under the Eclipse Public License (EPL).\n",
      "         For more information visit https://github.com/coin-or/Ipopt\n",
      "******************************************************************************\n",
      "\n",
      "This is Ipopt version 3.14.5, running with linear solver ma27.\n",
      "\n",
      "Number of nonzeros in equality constraint Jacobian...:     8883\n",
      "Number of nonzeros in inequality constraint Jacobian.:        0\n",
      "Number of nonzeros in Lagrangian Hessian.............:     2073\n",
      "\n",
      "Total number of variables............................:     1449\n",
      "                     variables with only lower bounds:        0\n",
      "                variables with lower and upper bounds:        6\n",
      "                     variables with only upper bounds:        0\n",
      "Total number of equality constraints.................:     1443\n",
      "Total number of inequality constraints...............:        0\n",
      "        inequality constraints with only lower bounds:        0\n",
      "   inequality constraints with lower and upper bounds:        0\n",
      "        inequality constraints with only upper bounds:        0\n",
      "\n",
      "iter    objective    inf_pr   inf_du lg(mu)  ||d||  lg(rg) alpha_du alpha_pr  ls\n",
      "   0  1.1224765e+04 4.08e-11 1.85e+01  -1.0 0.00e+00    -  0.00e+00 0.00e+00   0\n",
      "   1  1.1224765e+04 3.03e-05 1.24e+04  -1.0 1.32e-01    -  9.90e-01 1.00e+00f  1\n",
      "   2  1.1224765e+04 3.47e-07 1.77e+00  -1.0 1.03e-02    -  9.92e-01 1.00e+00h  1\n",
      "   3  1.1224765e+04 3.70e-05 6.01e+00  -3.8 1.42e-01    -  1.00e+00 1.00e+00h  1\n",
      "   4  1.1224765e+04 3.95e-11 3.37e-08  -3.8 3.64e-05    -  1.00e+00 1.00e+00h  1\n",
      "   5  1.1224765e+04 8.25e-11 1.36e-05  -5.7 2.11e-04    -  1.00e+00 1.00e+00h  1\n",
      "   6  1.1224765e+04 3.43e-11 2.68e-07  -8.6 2.61e-06    -  1.00e+00 1.00e+00h  1\n",
      "\n",
      "Number of Iterations....: 6\n",
      "\n",
      "                                   (scaled)                 (unscaled)\n",
      "Objective...............:   1.1224764792856069e+04    1.1224764792856069e+04\n",
      "Dual infeasibility......:   2.6758514864999583e-07    2.6758514864999583e-07\n",
      "Constraint violation....:   3.4263591963679119e-11    3.4263591963679119e-11\n",
      "Variable bound violation:   0.0000000000000000e+00    0.0000000000000000e+00\n",
      "Complementarity.........:   2.5059208072187715e-09    2.5059208072187715e-09\n",
      "Overall NLP error.......:   2.5059208072187715e-09    2.6758514864999583e-07\n",
      "\n",
      "\n",
      "Number of objective function evaluations             = 7\n",
      "Number of objective gradient evaluations             = 7\n",
      "Number of equality constraint evaluations            = 7\n",
      "Number of inequality constraint evaluations          = 0\n",
      "Number of equality constraint Jacobian evaluations   = 7\n",
      "Number of inequality constraint Jacobian evaluations = 0\n",
      "Number of Lagrangian Hessian evaluations             = 6\n",
      "Total seconds in IPOPT                               = 0.074\n",
      "\n",
      "EXIT: Optimal Solution Found.\n"
     ]
    }
   ],
   "source": [
    "solve_result, inv_red_hes = inv_reduced_hessian_barrier(mest, \n",
    "                    independent_variables= [mest.k1, mest.k2, mest.k3, mest.k4, mest.k5, mest.k6],\n",
    "                    tee=True)"
   ]
  },
  {
   "cell_type": "code",
   "execution_count": 40,
   "metadata": {},
   "outputs": [
    {
     "data": {
      "text/plain": [
       "{'k1': 2.079141373346096,\n",
       " 'k2': 0.03690015448911893,\n",
       " 'k3': 331.42580439379356,\n",
       " 'k4': 0.37864017391097254,\n",
       " 'k5': 0.6298787589437668,\n",
       " 'k6': 7.433507489555274e-06}"
      ]
     },
     "execution_count": 40,
     "metadata": {},
     "output_type": "execute_result"
    }
   ],
   "source": [
    "# Parameter Estimates\n",
    "parest = {'k1': mest.k1(), 'k2': mest.k2(), 'k3': mest.k3(), 'k4': mest.k4(), 'k5': mest.k5(), 'k6': mest.k6()}\n",
    "parest"
   ]
  },
  {
   "cell_type": "code",
   "execution_count": 41,
   "metadata": {},
   "outputs": [
    {
     "data": {
      "text/plain": [
       "array([[ 1.19917203e-04,  1.21540385e-05,  4.48027497e-02,\n",
       "         1.39951869e-04,  7.73012419e-05, -3.90958376e-10],\n",
       "       [ 1.21540385e-05,  2.34471089e-06,  8.06194046e-03,\n",
       "         2.45279111e-05,  1.57227102e-05, -6.48949734e-11],\n",
       "       [ 4.48027495e-02,  8.06194043e-03,  1.43255571e+02,\n",
       "         8.54051567e-02,  2.77760320e-01, -2.70839724e-07],\n",
       "       [ 1.39951869e-04,  2.45279111e-05,  8.54051570e-02,\n",
       "         2.59590467e-04,  1.63924581e-04, -6.94962375e-10],\n",
       "       [ 7.73012415e-05,  1.57227101e-05,  2.77760320e-01,\n",
       "         1.63924581e-04,  5.43035858e-04, -5.06941812e-10],\n",
       "       [-3.90958376e-10, -6.48949734e-11, -2.70839725e-07,\n",
       "        -6.94962374e-10, -5.06941813e-10,  2.00018712e-15]])"
      ]
     },
     "execution_count": 41,
     "metadata": {},
     "output_type": "execute_result"
    }
   ],
   "source": [
    "inv_red_hes"
   ]
  },
  {
   "cell_type": "code",
   "execution_count": 42,
   "metadata": {},
   "outputs": [
    {
     "name": "stdout",
     "output_type": "stream",
     "text": [
      "n: 153  p: 6  s2: 76.3589441690889\n"
     ]
    },
    {
     "data": {
      "text/plain": [
       "array([[ 1.83135020e-02,  1.85613910e-03,  6.84218133e+00,\n",
       "         2.13731538e-02,  1.18052824e-02, -5.97063376e-08],\n",
       "       [ 1.85613910e-03,  3.58079296e-04,  1.23120252e+00,\n",
       "         3.74585079e-03,  2.40113910e-03, -9.91062331e-09],\n",
       "       [ 6.84218130e+00,  1.23120252e+00,  2.18776882e+04,\n",
       "         1.30428952e+01,  4.24189695e+01, -4.13620708e-05],\n",
       "       [ 2.13731538e-02,  3.74585079e-03,  1.30428952e+01,\n",
       "         3.96441079e-02,  2.50342159e-02, -1.06133186e-07],\n",
       "       [ 1.18052824e-02,  2.40113909e-03,  4.24189695e+01,\n",
       "         2.50342158e-02,  8.29312895e-02, -7.74190831e-08],\n",
       "       [-5.97063376e-08, -9.91062330e-09, -4.13620709e-05,\n",
       "        -1.06133186e-07, -7.74190832e-08,  3.05464353e-13]])"
      ]
     },
     "execution_count": 42,
     "metadata": {},
     "output_type": "execute_result"
    }
   ],
   "source": [
    "n = len(data[0]['ca_exp']) + len(data[0]['cb_exp']) + len(data[0]['cc_exp'])\n",
    "p = 6\n",
    "s2 = mest.wssq() / (n - p)\n",
    "print('n:', n, ' p:', p, ' s2:', s2)\n",
    "# Covariance Matrix\n",
    "cov = 2 * s2 * inv_red_hes\n",
    "cov"
   ]
  },
  {
   "cell_type": "code",
   "execution_count": 43,
   "metadata": {},
   "outputs": [
    {
     "name": "stdout",
     "output_type": "stream",
     "text": [
      "parameter estimate\n",
      "{'k1': 2.079141373346096, 'k2': 0.03690015448911893, 'k3': 331.42580439379356, 'k4': 0.37864017391097254, 'k5': 0.6298787589437668, 'k6': 7.433507489555274e-06}\n",
      "conf multiplier: 3.600647920002456\n",
      "confidence interval delta from nominal [k1, k2, k3, k4, k5, k6]\n",
      "[4.87266279e-01 6.81350003e-02 5.32575730e+02 7.16918821e-01\n",
      " 1.03690714e+00 1.99003596e-06]\n"
     ]
    }
   ],
   "source": [
    "parm_sd = np.sqrt(np.diag(cov))\n",
    "conf_mult = np.sqrt(p * spstat.f.ppf(0.95, p, n - p))\n",
    "print('parameter estimate')\n",
    "print(parest)\n",
    "print(\"conf multiplier:\", conf_mult)\n",
    "conf_int = conf_mult * parm_sd\n",
    "print(\"confidence interval delta from nominal [k1, k2, k3, k4, k5, k6]\")\n",
    "print(conf_int)"
   ]
  },
  {
   "cell_type": "code",
   "execution_count": 44,
   "metadata": {},
   "outputs": [
    {
     "name": "stdout",
     "output_type": "stream",
     "text": [
      "confidence interval % delta from nominal [k1, k2, k3, k4, k5, k6]\n",
      "[23.0, 185.0, 161.0, 189.0, 165.0, 27.0]\n"
     ]
    }
   ],
   "source": [
    "print(\"confidence interval % delta from nominal [k1, k2, k3, k4, k5, k6]\")\n",
    "conf_int_pct = []\n",
    "for (i, v) in enumerate(parest.items()):\n",
    "    conf_int_pct.append(conf_int[i] / v[1] * 100.0)\n",
    "print([np.round(x) for x in conf_int_pct])"
   ]
  },
  {
   "cell_type": "code",
   "execution_count": 46,
   "metadata": {},
   "outputs": [
    {
     "data": {
      "text/plain": [
       "[0.1017809846231017,\n",
       " 0.801911403433836,\n",
       " 0.697877768932466,\n",
       " 0.8222949108273149,\n",
       " 0.7149360796224724,\n",
       " 0.11626565777971647]"
      ]
     },
     "execution_count": 46,
     "metadata": {},
     "output_type": "execute_result"
    }
   ],
   "source": [
    "lcov_diag = [np.diag(cov)[i]/(v[1] * np.log(10))**2 for (i, v) in enumerate(parest.items())]\n",
    "l_conf_int = [conf_mult * np.sqrt(x) for x in lcov_diag]\n",
    "l_conf_int"
   ]
  },
  {
   "cell_type": "code",
   "execution_count": 47,
   "metadata": {},
   "outputs": [
    {
     "data": {
      "text/plain": [
       "{'k1': 0.31788402063337007,\n",
       " 'k2': -1.4329718155853457,\n",
       " 'k3': 2.520386319018599,\n",
       " 'k4': -0.42177330906679394,\n",
       " 'k5': -0.20074303687802514,\n",
       " 'k6': -5.128806216666995}"
      ]
     },
     "execution_count": 47,
     "metadata": {},
     "output_type": "execute_result"
    }
   ],
   "source": [
    "lparest = {k: np.log10(v) for (k, v) in parest.items()}\n",
    "lparest"
   ]
  },
  {
   "cell_type": "code",
   "execution_count": null,
   "metadata": {},
   "outputs": [],
   "source": []
  }
 ],
 "metadata": {
  "kernelspec": {
   "display_name": "Python 3 (ipykernel)",
   "language": "python",
   "name": "python3"
  },
  "language_info": {
   "codemirror_mode": {
    "name": "ipython",
    "version": 3
   },
   "file_extension": ".py",
   "mimetype": "text/x-python",
   "name": "python",
   "nbconvert_exporter": "python",
   "pygments_lexer": "ipython3",
   "version": "3.8.10"
  }
 },
 "nbformat": 4,
 "nbformat_minor": 2
}
