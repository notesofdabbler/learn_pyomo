{
 "cells": [
  {
   "cell_type": "markdown",
   "metadata": {},
   "source": [
    "This is an attempt to recreate the parameter estimation [example](https://sites.engineering.ucsb.edu/~jbraw/chemreacfun/fig-html/appendix/fig-A-10.html) from James Rawlings book on [Reactor Design](https://sites.engineering.ucsb.edu/~jbraw/chemreacfun/) using Pyomo [parmest](https://pyomo.readthedocs.io/en/stable/contributed_packages/parmest/driver.html)."
   ]
  },
  {
   "cell_type": "code",
   "execution_count": 1,
   "metadata": {},
   "outputs": [],
   "source": [
    "# Import libraries\n",
    "from pyomo.environ import *\n",
    "from pyomo.dae import *\n",
    "import pyomo.contrib.parmest.parmest as parmest\n",
    "import pandas as pd\n",
    "import numpy as np\n",
    "import matplotlib.pyplot as plt"
   ]
  },
  {
   "cell_type": "code",
   "execution_count": 26,
   "metadata": {},
   "outputs": [],
   "source": [
    "from pyomo.contrib.interior_point.interface import InteriorPointInterface"
   ]
  },
  {
   "cell_type": "markdown",
   "metadata": {},
   "source": [
    "This example has a series reaction $A \\rightarrow B \\rightarrow C$. The dataset consists of measures concentrations of A, B and C over time. The goal is to estimate the rate constants $k_1$ and $k_2$ for the two reactions."
   ]
  },
  {
   "cell_type": "code",
   "execution_count": 2,
   "metadata": {},
   "outputs": [
    {
     "data": {
      "text/html": [
       "<div>\n",
       "<style scoped>\n",
       "    .dataframe tbody tr th:only-of-type {\n",
       "        vertical-align: middle;\n",
       "    }\n",
       "\n",
       "    .dataframe tbody tr th {\n",
       "        vertical-align: top;\n",
       "    }\n",
       "\n",
       "    .dataframe thead th {\n",
       "        text-align: right;\n",
       "    }\n",
       "</style>\n",
       "<table border=\"1\" class=\"dataframe\">\n",
       "  <thead>\n",
       "    <tr style=\"text-align: right;\">\n",
       "      <th></th>\n",
       "      <th>t</th>\n",
       "      <th>ca</th>\n",
       "      <th>cb</th>\n",
       "      <th>cc</th>\n",
       "    </tr>\n",
       "  </thead>\n",
       "  <tbody>\n",
       "    <tr>\n",
       "      <th>0</th>\n",
       "      <td>0.000</td>\n",
       "      <td>0.957</td>\n",
       "      <td>-0.031</td>\n",
       "      <td>-0.015</td>\n",
       "    </tr>\n",
       "    <tr>\n",
       "      <th>1</th>\n",
       "      <td>0.263</td>\n",
       "      <td>0.557</td>\n",
       "      <td>0.330</td>\n",
       "      <td>0.044</td>\n",
       "    </tr>\n",
       "    <tr>\n",
       "      <th>2</th>\n",
       "      <td>0.526</td>\n",
       "      <td>0.342</td>\n",
       "      <td>0.512</td>\n",
       "      <td>0.156</td>\n",
       "    </tr>\n",
       "    <tr>\n",
       "      <th>3</th>\n",
       "      <td>0.789</td>\n",
       "      <td>0.224</td>\n",
       "      <td>0.499</td>\n",
       "      <td>0.310</td>\n",
       "    </tr>\n",
       "    <tr>\n",
       "      <th>4</th>\n",
       "      <td>1.053</td>\n",
       "      <td>0.123</td>\n",
       "      <td>0.428</td>\n",
       "      <td>0.454</td>\n",
       "    </tr>\n",
       "  </tbody>\n",
       "</table>\n",
       "</div>"
      ],
      "text/plain": [
       "       t     ca     cb     cc\n",
       "0  0.000  0.957 -0.031 -0.015\n",
       "1  0.263  0.557  0.330  0.044\n",
       "2  0.526  0.342  0.512  0.156\n",
       "3  0.789  0.224  0.499  0.310\n",
       "4  1.053  0.123  0.428  0.454"
      ]
     },
     "execution_count": 2,
     "metadata": {},
     "output_type": "execute_result"
    }
   ],
   "source": [
    "data_df = pd.read_csv(\"ABC_data.csv\")\n",
    "data_df.head()"
   ]
  },
  {
   "cell_type": "code",
   "execution_count": 3,
   "metadata": {},
   "outputs": [],
   "source": [
    "# Convert data to a list of dictionaries\n",
    "data = [{'ca_meas': {k:v for (k, v) in zip(data_df.t, data_df.ca)},\n",
    "    'cb_meas': {k:v for (k, v) in zip(data_df.t, data_df.cb)},\n",
    "    'cc_meas': {k:v for (k, v) in zip(data_df.t, data_df.cc)} }]"
   ]
  },
  {
   "cell_type": "code",
   "execution_count": 4,
   "metadata": {},
   "outputs": [],
   "source": [
    "#\n",
    "# Define the model \n",
    "#\n",
    "def ABC_model(data):\n",
    "    \n",
    "    ca_meas = data['ca_meas']\n",
    "    cb_meas = data['cb_meas']\n",
    "    cc_meas = data['cc_meas']\n",
    "    \n",
    "    meas_t = list(ca_meas.keys())\n",
    "       \n",
    "    ca0 = 1.0\n",
    "    cb0 = 0.0\n",
    "    cc0 = 0.0\n",
    "        \n",
    "    m = ConcreteModel()\n",
    "    \n",
    "    #m.k1 = Var(initialize = 0.5, bounds = (1e-4, 10))\n",
    "    #m.k2 = Var(initialize = 3.0, bounds = (1e-4, 10))\n",
    "    m.k1 = Var(initialize = 2.0)\n",
    "    m.k2 = Var(initialize = 1.0)\n",
    "    \n",
    "    m.time = ContinuousSet(bounds = (0.0, 5.0), initialize = meas_t)\n",
    "    #m.ca = Var(m.time, initialize = ca0, bounds = (0, ca0))\n",
    "    #m.cb = Var(m.time, initialize = cb0, bounds = (0, ca0))\n",
    "    #m.cc = Var(m.time, initialize = cc0, bounds = (0, ca0))\n",
    "    \n",
    "    m.ca = Var(m.time, initialize = ca0)\n",
    "    m.cb = Var(m.time, initialize = cb0)\n",
    "    m.cc = Var(m.time, initialize = cc0)\n",
    "    \n",
    "    m.dca = DerivativeVar(m.ca, wrt = m.time)\n",
    "    m.dcb = DerivativeVar(m.cb, wrt = m.time)\n",
    "    m.dcc = DerivativeVar(m.cc, wrt = m.time)\n",
    "    \n",
    "    def _dcarate(m, t):\n",
    "        if t == 0:\n",
    "            return Constraint.Skip\n",
    "        else:\n",
    "            return m.dca[t] == -m.k1 * m.ca[t]\n",
    "    m.dcarate = Constraint(m.time, rule = _dcarate)\n",
    "    \n",
    "    def _dcbrate(m, t):\n",
    "        if t == 0:\n",
    "            return Constraint.Skip\n",
    "        else:\n",
    "            return m.dcb[t] == m.k1 * m.ca[t] - m.k2 * m.cb[t]\n",
    "    m.dcbrate = Constraint(m.time, rule = _dcbrate)\n",
    "    \n",
    "    def _dccrate(m, t):\n",
    "        if t == 0:\n",
    "            return Constraint.Skip\n",
    "        else:\n",
    "            return m.dcc[t] == m.k2 * m.cb[t]\n",
    "    m.dccrate = Constraint(m.time, rule = _dccrate)\n",
    "    \n",
    "    def _initcon(m):\n",
    "        yield m.ca[m.time.first()] == ca0\n",
    "        yield m.cb[m.time.first()] == cb0\n",
    "        yield m.cc[m.time.first()] == cc0\n",
    "    m.initcon = ConstraintList(rule = _initcon)\n",
    "    \n",
    "    def ComputeFirstStageCost_rule(m):\n",
    "        return 0\n",
    "    m.FirstStageCost = Expression(rule=ComputeFirstStageCost_rule)\n",
    "\n",
    "    def ComputeSecondStageCost_rule(m):\n",
    "        return sum((m.ca[t] - ca_meas[t]) ** 2 + (m.cb[t] - cb_meas[t]) ** 2 \n",
    "                   + (m.cc[t] - cc_meas[t]) ** 2 for t in meas_t) \n",
    "    m.SecondStageCost = Expression(rule=ComputeSecondStageCost_rule)\n",
    "\n",
    "    \n",
    "    def total_cost_rule(model):\n",
    "        return model.FirstStageCost + model.SecondStageCost\n",
    "    m.Total_Cost_Objective = Objective(rule=total_cost_rule, sense=minimize)\n",
    "    \n",
    "    disc = TransformationFactory('dae.collocation')\n",
    "    disc.apply_to(m, nfe=20, ncp=2)\n",
    "    \n",
    "    return m"
   ]
  },
  {
   "cell_type": "code",
   "execution_count": 5,
   "metadata": {},
   "outputs": [],
   "source": [
    "# parameters to be estimated\n",
    "theta_names = ['k1', 'k2']"
   ]
  },
  {
   "cell_type": "code",
   "execution_count": 6,
   "metadata": {},
   "outputs": [
    {
     "name": "stdout",
     "output_type": "stream",
     "text": [
      "Ipopt 3.12: \n",
      "\n",
      "******************************************************************************\n",
      "This program contains Ipopt, a library for large-scale nonlinear optimization.\n",
      " Ipopt is released as open source code under the Eclipse Public License (EPL).\n",
      "         For more information visit http://projects.coin-or.org/Ipopt\n",
      "******************************************************************************\n",
      "\n",
      "This is Ipopt version 3.12, running with linear solver ma27.\n",
      "\n",
      "Number of nonzeros in equality constraint Jacobian...:      927\n",
      "Number of nonzeros in inequality constraint Jacobian.:        0\n",
      "Number of nonzeros in Lagrangian Hessian.............:      140\n",
      "\n",
      "Total number of variables............................:      247\n",
      "                     variables with only lower bounds:        0\n",
      "                variables with lower and upper bounds:      123\n",
      "                     variables with only upper bounds:        0\n",
      "Total number of equality constraints.................:      245\n",
      "Total number of inequality constraints...............:        0\n",
      "        inequality constraints with only lower bounds:        0\n",
      "   inequality constraints with lower and upper bounds:        0\n",
      "        inequality constraints with only upper bounds:        0\n",
      "\n",
      "iter    objective    inf_pr   inf_du lg(mu)  ||d||  lg(rg) alpha_du alpha_pr  ls\n",
      "   0  2.8934592e+01 2.00e+00 1.42e+00  -1.0 0.00e+00    -  0.00e+00 0.00e+00   0\n",
      "   1  2.3645454e+01 8.39e-01 2.72e+01  -1.0 4.76e+00    -  1.88e-01 7.66e-01f  1\n",
      "   2  1.3736850e+01 1.31e-01 5.22e+02  -1.0 4.34e+00    -  3.34e-01 9.90e-01f  1\n",
      "   3  4.1778142e+00 9.02e-02 1.14e+03  -1.0 2.25e+00    -  5.97e-01 8.63e-01f  1\n",
      "   4  3.3986819e+00 2.32e-02 2.07e+02  -1.0 9.98e-01   0.0 1.00e+00 9.93e-01f  1\n",
      "   5  2.9552441e+00 8.07e-03 9.56e+05  -1.0 2.87e-01   0.4 6.92e-01 1.00e+00h  1\n",
      "   6  2.1896886e+00 4.73e-01 1.53e+06  -1.0 8.26e+00    -  2.01e-01 3.13e-01f  1\n",
      "   7  2.0820863e+00 3.07e-01 2.04e+06  -1.0 1.92e+00    -  1.18e-01 2.63e-01h  1\n",
      "   8  4.1508838e+00 7.51e-02 4.62e+06  -1.0 5.45e-01    -  1.63e-01 1.00e+00f  1\n",
      "   9  3.2090197e+00 4.99e-02 1.83e+01  -1.0 6.08e-01    -  1.00e+00 3.39e-01h  2\n",
      "iter    objective    inf_pr   inf_du lg(mu)  ||d||  lg(rg) alpha_du alpha_pr  ls\n",
      "  10  1.7723230e+00 4.16e-02 2.62e+06  -2.5 3.96e-01    -  7.30e-01 1.00e+00f  1\n",
      "  11  9.2645981e-01 2.55e-02 1.17e+06  -2.5 2.93e-01    -  5.54e-01 6.88e-01h  1\n",
      "  12  3.8458478e-01 2.89e-02 5.63e-01  -2.5 2.63e-01    -  1.00e+00 1.00e+00h  1\n",
      "  13  1.5963737e-01 2.42e-02 4.18e-01  -2.5 3.02e-01    -  1.00e+00 8.87e-01h  1\n",
      "  14  4.6486660e-02 2.53e-02 4.19e+04  -3.8 3.19e-01    -  8.43e-01 1.00e+00h  1\n",
      "  15  2.7715693e-02 2.31e-02 2.46e+04  -3.8 3.42e-01    -  4.13e-01 1.00e+00h  1\n",
      "  16  2.7140197e-02 4.25e-04 1.85e+04  -3.8 5.98e-02    -  2.47e-01 1.00e+00h  1\n",
      "  17  2.6202623e-02 1.02e-03 7.83e-01  -3.8 7.56e-02    -  1.00e+00 1.00e+00h  1\n",
      "  18  2.6441491e-02 2.36e-04 8.60e-03  -3.8 3.51e-02    -  1.00e+00 1.00e+00h  1\n",
      "  19  2.6457619e-02 2.92e-07 5.36e-05  -3.8 1.09e-03    -  1.00e+00 1.00e+00h  1\n",
      "iter    objective    inf_pr   inf_du lg(mu)  ||d||  lg(rg) alpha_du alpha_pr  ls\n",
      "  20  2.6130130e-02 2.46e-04 8.81e+01  -5.7 3.62e-02    -  9.94e-01 1.00e+00h  1\n",
      "  21  2.6121543e-02 3.47e-07 2.24e-04  -5.7 1.54e-03    -  1.00e+00 1.00e+00h  1\n",
      "  22  2.6121543e-02 1.63e-10 4.77e-08  -5.7 2.96e-05    -  1.00e+00 1.00e+00h  1\n",
      "  23  2.6121491e-02 4.36e-08 6.19e-06  -8.6 4.88e-04    -  1.00e+00 1.00e+00h  1\n",
      "  24  2.6121489e-02 9.77e-15 7.40e-12  -8.6 2.59e-07    -  1.00e+00 1.00e+00h  1\n",
      "\n",
      "Number of Iterations....: 24\n",
      "\n",
      "                                   (scaled)                 (unscaled)\n",
      "Objective...............:   2.6121489430743994e-02    2.6121489430743994e-02\n",
      "Dual infeasibility......:   7.3980122044051289e-12    7.3980122044051289e-12\n",
      "Constraint violation....:   9.7699626167013776e-15    9.7699626167013776e-15\n",
      "Complementarity.........:   2.5059037240913927e-09    2.5059037240913927e-09\n",
      "Overall NLP error.......:   2.5059037240913927e-09    2.5059037240913927e-09\n",
      "\n",
      "\n",
      "Number of objective function evaluations             = 27\n",
      "Number of objective gradient evaluations             = 25\n",
      "Number of equality constraint evaluations            = 27\n",
      "Number of inequality constraint evaluations          = 0\n",
      "Number of equality constraint Jacobian evaluations   = 25\n",
      "Number of inequality constraint Jacobian evaluations = 0\n",
      "Number of Lagrangian Hessian evaluations             = 24\n",
      "Total CPU secs in IPOPT (w/o function evaluations)   =      0.020\n",
      "Total CPU secs in NLP function evaluations           =      0.000\n",
      "\n",
      "EXIT: Optimal Solution Found.\n"
     ]
    }
   ],
   "source": [
    "# First tried collocation method. Max iterations are exceeded\n",
    "pest = parmest.Estimator(ABC_model, data, theta_names, tee = True)\n",
    "res = pest.theta_est()"
   ]
  },
  {
   "cell_type": "code",
   "execution_count": 7,
   "metadata": {},
   "outputs": [],
   "source": [
    "m = ABC_model(data[0])"
   ]
  },
  {
   "cell_type": "code",
   "execution_count": 8,
   "metadata": {},
   "outputs": [],
   "source": [
    "if not hasattr(m, 'ipopt_zL_out'):\n",
    "    m.ipopt_zL_out = Suffix(direction=Suffix.IMPORT)\n",
    "if not hasattr(m, 'ipopt_zU_out'):\n",
    "    m.ipopt_zU_out = Suffix(direction=Suffix.IMPORT)\n",
    "if not hasattr(m, 'ipopt_zL_in'):\n",
    "    m.ipopt_zL_in = Suffix(direction=Suffix.EXPORT)\n",
    "if not hasattr(m, 'ipopt_zU_in'):\n",
    "    m.ipopt_zU_in = Suffix(direction=Suffix.EXPORT)\n",
    "if not hasattr(m, 'dual'):\n",
    "    m.dual = Suffix(direction=Suffix.IMPORT_EXPORT)"
   ]
  },
  {
   "cell_type": "code",
   "execution_count": 9,
   "metadata": {},
   "outputs": [],
   "source": [
    "solver = SolverFactory('ipopt')\n",
    "solver.options['bound_relax_factor']=0\n",
    "solver.options['honor_original_bounds']='no'"
   ]
  },
  {
   "cell_type": "code",
   "execution_count": 10,
   "metadata": {},
   "outputs": [
    {
     "name": "stdout",
     "output_type": "stream",
     "text": [
      "Ipopt 3.12: bound_relax_factor=0\n",
      "honor_original_bounds=no\n",
      "\n",
      "\n",
      "******************************************************************************\n",
      "This program contains Ipopt, a library for large-scale nonlinear optimization.\n",
      " Ipopt is released as open source code under the Eclipse Public License (EPL).\n",
      "         For more information visit http://projects.coin-or.org/Ipopt\n",
      "******************************************************************************\n",
      "\n",
      "This is Ipopt version 3.12, running with linear solver ma27.\n",
      "\n",
      "Number of nonzeros in equality constraint Jacobian...:      923\n",
      "Number of nonzeros in inequality constraint Jacobian.:        0\n",
      "Number of nonzeros in Lagrangian Hessian.............:      140\n",
      "\n",
      "Total number of variables............................:      245\n",
      "                     variables with only lower bounds:        0\n",
      "                variables with lower and upper bounds:      123\n",
      "                     variables with only upper bounds:        0\n",
      "Total number of equality constraints.................:      243\n",
      "Total number of inequality constraints...............:        0\n",
      "        inequality constraints with only lower bounds:        0\n",
      "   inequality constraints with lower and upper bounds:        0\n",
      "        inequality constraints with only upper bounds:        0\n",
      "\n",
      "iter    objective    inf_pr   inf_du lg(mu)  ||d||  lg(rg) alpha_du alpha_pr  ls\n",
      "   0  2.8934591e+01 1.98e+00 1.50e+00  -1.0 0.00e+00    -  0.00e+00 0.00e+00   0\n",
      "   1  2.3779841e+01 8.69e-01 2.71e+01  -1.0 4.92e+00    -  1.86e-01 7.47e-01f  1\n",
      "   2  1.3905988e+01 1.37e-01 4.74e+02  -1.0 4.23e+00    -  3.24e-01 9.90e-01f  1\n",
      "   3  3.9407622e+00 7.35e-02 1.37e+03  -1.0 9.92e-01    -  6.43e-01 9.90e-01f  1\n",
      "   4  2.6769272e+00 2.29e-01 3.94e+03  -1.0 2.24e+00   0.0 1.00e+00 9.90e-01f  1\n",
      "   5  2.6749109e+00 5.58e-02 3.95e+05  -1.0 8.07e-01    -  1.00e+00 9.90e-01h  1\n",
      "   6  2.7427434e+00 1.61e-02 3.95e+07  -1.0 3.57e-01    -  1.00e+00 9.90e-01h  1\n",
      "   7  2.8255036e+00 4.94e-04 3.95e+09  -1.0 2.22e-02    -  1.00e+00 9.90e-01h  1\n",
      "In iteration 7, 1 Slack too small, adjusting variable bound\n",
      "   8  2.8311734e+00 4.92e-06 3.95e+11  -1.0 6.07e-04    -  1.00e+00 9.90e-01h  1\n",
      "In iteration 8, 2 Slacks too small, adjusting variable bounds\n",
      "   9  2.8312154e+00 4.92e-08 3.95e+13  -1.0 4.83e-06    -  1.00e+00 9.90e-01h  1\n",
      "iter    objective    inf_pr   inf_du lg(mu)  ||d||  lg(rg) alpha_du alpha_pr  ls\n",
      "  10  2.8312159e+00 2.80e-15 2.56e-01  -1.0 4.83e-08    -  1.00e+00 1.00e+00h  1\n",
      "  11  1.4910815e+00 1.46e-02 1.23e+13  -9.0 1.43e-01    -  6.94e-01 1.00e+00f  1\n",
      "  12  6.5379330e-01 2.59e-02 3.84e+12  -9.0 2.46e-01    -  6.88e-01 8.80e-01f  1\n",
      "  13  2.1098651e-01 3.14e-02 1.02e+12  -9.0 2.87e-01    -  7.34e-01 1.00e+00h  1\n",
      "  14  1.6445405e-01 2.58e-02 2.00e+11  -9.0 3.37e-01    -  8.04e-01 2.26e-01h  1\n",
      "  15  4.6665067e-02 2.72e-02 3.60e+10  -9.0 3.29e-01    -  8.20e-01 1.00e+00h  1\n",
      "  16  2.8651788e-02 2.77e-02 5.30e+09  -9.0 3.72e-01    -  8.53e-01 1.00e+00h  1\n",
      "  17  6.0346185e-02 2.65e-02 4.97e+09  -9.0 4.05e-01    -  6.22e-02 1.00e+00h  1\n",
      "  18  8.3140362e-02 6.89e-03 4.97e+09  -9.0 2.32e-01    -  3.01e-04 1.00e+00h  1\n",
      "  19  6.1413593e-02 4.05e-03 1.68e+09  -9.0 1.68e-01    -  6.62e-01 1.00e+00h  1\n",
      "iter    objective    inf_pr   inf_du lg(mu)  ||d||  lg(rg) alpha_du alpha_pr  ls\n",
      "  20  3.5779274e-02 1.20e-02 1.07e+09  -9.0 2.85e-01    -  3.63e-01 1.00e+00h  1\n",
      "  21  2.7174810e-02 4.46e-03 6.68e+08  -9.0 1.56e-01    -  3.75e-01 1.00e+00h  1\n",
      "  22  2.6145852e-02 7.17e-04 2.28e+08  -9.0 6.04e-02    -  6.59e-01 1.00e+00h  1\n",
      "  23  2.6121560e-02 2.08e-06 3.34e+06  -9.0 2.88e-03    -  9.85e-01 1.00e+00h  1\n",
      "  24  2.6121489e-02 2.72e-11 1.97e-10  -9.0 1.08e-05    -  1.00e+00 1.00e+00h  1\n",
      "\n",
      "Number of Iterations....: 24\n",
      "\n",
      "                                   (scaled)                 (unscaled)\n",
      "Objective...............:   2.6121489431590681e-02    2.6121489431590681e-02\n",
      "Dual infeasibility......:   1.9685464826497133e-10    1.9685464826497133e-10\n",
      "Constraint violation....:   2.7165047988830793e-11    2.7165047988830793e-11\n",
      "Complementarity.........:   9.0916006297740844e-10    9.0916006297740844e-10\n",
      "Overall NLP error.......:   3.0662066444326875e-11    9.0916006297740844e-10\n",
      "\n",
      "\n",
      "Number of objective function evaluations             = 25\n",
      "Number of objective gradient evaluations             = 25\n",
      "Number of equality constraint evaluations            = 25\n",
      "Number of inequality constraint evaluations          = 0\n",
      "Number of equality constraint Jacobian evaluations   = 25\n",
      "Number of inequality constraint Jacobian evaluations = 0\n",
      "Number of Lagrangian Hessian evaluations             = 24\n",
      "Total CPU secs in IPOPT (w/o function evaluations)   =      0.016\n",
      "Total CPU secs in NLP function evaluations           =      0.000\n",
      "\n",
      "EXIT: Optimal Solution Found.\n"
     ]
    }
   ],
   "source": [
    "status = solver.solve(m, tee=True)"
   ]
  },
  {
   "cell_type": "code",
   "execution_count": 11,
   "metadata": {},
   "outputs": [],
   "source": [
    "estimated_mu = list()\n",
    "for v in m.ipopt_zL_out:\n",
    "    if v.has_lb():\n",
    "        estimated_mu.append((value(v) - v.lb)*m.ipopt_zL_out[v])\n",
    "for v in m.ipopt_zU_out:\n",
    "    if v.has_ub():\n",
    "        estimated_mu.append((v.ub - value(v))*m.ipopt_zU_out[v])\n",
    "if len(estimated_mu) == 0:\n",
    "    mu = 10**-8.6\n",
    "else:\n",
    "    mu = sum(estimated_mu)/len(estimated_mu)\n",
    "    # check to make sure these estimates were all reasonable\n",
    "    if any([abs(mu-estmu) > 1e-7 for estmu in estimated_mu]):\n",
    "        print('Warning: estimated values of mu do not seem consistent - using mu=10^(-8.6)')\n",
    "        mu = 10**-8.6"
   ]
  },
  {
   "cell_type": "code",
   "execution_count": 21,
   "metadata": {},
   "outputs": [
    {
     "name": "stdout",
     "output_type": "stream",
     "text": [
      "ca[0.263] 0 1.0 0.5881614242907732 1.5455445310164223e-09 -2.2073962061518287e-09 9.090296726674341e-10\n",
      "ca[0.526] 0 1.0 0.3459338610202313 2.6273422035679286e-09 -1.3899070459650429e-09 9.088866327016562e-10\n",
      "ca[0.789] 0 1.0 0.2034649524034121 4.466172922812694e-09 -1.141308008507083e-09 9.087096611654927e-10\n",
      "ca[1.053] 0 1.0 0.1194276840076603 7.607911209993145e-09 -1.0323885760887638e-09 9.085952159453978e-10\n",
      "ca[1.3159999999999998] 0 1.0 0.07024275672158602 1.2935416375040728e-08 -9.777753193919298e-10 9.08619305524406e-10\n",
      "ca[1.579] 0 1.0 0.04131407983606198 2.1996749711634225e-08 -9.48271196223346e-10 9.087754737203297e-10\n",
      "ca[1.8419999999999999] 0 1.0 0.024299348036915896 3.740750197453891e-08 -9.317349592282655e-10 9.089779096709396e-10\n",
      "ca[2.105] 0 1.0 0.01429193914862044 6.361084235881611e-08 -9.222753392593666e-10 9.091222881846873e-10\n",
      "ca[2.3680000000000003] 0 1.0 0.00840596728393458 1.0815650742716882e-07 -9.168004442424831e-10 9.091600629774084e-10\n",
      "ca[2.6319999999999997] 0 1.0 0.004934044868679298 1.842554927061828e-07 -9.136011120786966e-10 9.09124868312917e-10\n",
      "ca[2.895] 0 1.0 0.0029020148566133155 3.1326203485842745e-07 -9.117387488121732e-10 9.090910791720748e-10\n",
      "ca[3.158] 0 1.0 0.0017068531907563098 5.326184864303679e-07 -9.106467609678613e-10 9.091015630194698e-10\n",
      "ca[3.4210000000000003] 0 1.0 0.0010039052032873278 9.055999153677787e-07 -9.100056012863557e-10 9.091364671342767e-10\n",
      "ca[3.6839999999999997] 0 1.0 0.0005904583139061759 1.5397316804886207e-06 -9.09628836605358e-10 9.091473719292337e-10\n",
      "ca[3.947] 0 1.0 0.00034728480267350395 2.6177867871439285e-06 -9.094073285403517e-10 9.091175678145851e-10\n",
      "ca[4.211] 0 1.0 0.0002040201694166345 4.455849759563693e-06 -9.092768410164966e-10 9.090832228412548e-10\n",
      "ca[4.474] 0 1.0 0.00011999679332479871 7.5759237259633045e-06 -9.092003041210496e-10 9.090865535888577e-10\n",
      "ca[4.737] 0 1.0 7.057748480182283e-05 1.2880748505980035e-05 -9.09155277811335e-10 9.09090831916908e-10\n",
      "ca[5.0] 0 1.0 4.151095393623482e-05 2.190003317486094e-05 -9.091287865113558e-10 9.090912683236669e-10\n",
      "cb[0.263] 0 1.0 0.35877472140645805 2.533876690227074e-09 -1.4176692919118597e-09 9.090909036145366e-10\n",
      "cb[0.526] 0 1.0 0.4872085007918669 1.865918543099627e-09 -1.772666826396331e-09 9.090913759833138e-10\n",
      "cb[0.789] 0 1.0 0.49917394184298447 1.8211959551740243e-09 -1.8150457233488037e-09 9.090935638127169e-10\n",
      "cb[1.053] 0 1.0 0.45705988282736765 1.9890127546883294e-09 -1.6743169193596286e-09 9.090979365999876e-10\n",
      "cb[1.3159999999999998] 0 1.0 0.394700318372445 2.303275401840845e-09 -1.5018580175937348e-09 9.091035344060028e-10\n",
      "cb[1.579] 0 1.0 0.3290485274201043 2.7628403360875774e-09 -1.3549170162883505e-09 9.091085440864835e-10\n",
      "cb[1.8419999999999999] 0 1.0 0.26812975357694707 3.3905640154162382e-09 -1.242143150621913e-09 9.091110939404201e-10\n",
      "cb[2.105] 0 1.0 0.21512896133682688 4.225883814350274e-09 -1.1582659889735434e-09 9.091099957112825e-10\n",
      "cb[2.3680000000000003] 0 1.0 0.17073762001606946 5.324574154478262e-09 -1.096263766715177e-09 9.091051187346938e-10\n",
      "cb[2.6319999999999997] 0 1.0 0.13432896501512062 6.767694096609904e-09 -1.0501572782721863e-09 9.090973435365502e-10\n",
      "cb[2.895] 0 1.0 0.10517899506181588 8.643250255831942e-09 -1.0159472675916819e-09 9.090883759761867e-10\n",
      "cb[3.158] 0 1.0 0.08200979783330675 1.1085017902705146e-08 -9.903058336931607e-10 9.090800771794351e-10\n",
      "cb[3.4210000000000003] 0 1.0 0.0637449511621694 1.4261115000220855e-08 -9.70986573609609e-10 9.090740792071598e-10\n",
      "cb[3.6839999999999997] 0 1.0 0.04943215307244481 1.839028483417024e-08 -9.563663192210798e-10 9.090713749685636e-10\n",
      "cb[3.947] 0 1.0 0.038265576713304474 2.37569169463198e-08 -9.45262041360744e-10 9.090721278810033e-10\n",
      "cb[4.211] 0 1.0 0.02955436152664453 3.075944403489843e-08 -9.367768491333575e-10 9.090757293659779e-10\n",
      "cb[4.474] 0 1.0 0.022824661205749632 3.982889019748065e-08 -9.303253310970091e-10 9.090809249584985e-10\n",
      "cb[4.737] 0 1.0 0.01761387484281799 5.16119435364648e-08 -9.253906528743861e-10 9.090863138458799e-10\n",
      "cb[5.0] 0 1.0 0.01358479005043043 6.691974158911383e-08 -9.216108001555529e-10 9.09090639717169e-10\n",
      "ca[0.087667] 0 1.0 0.8404446292483444 1.081665332347454e-09 -5.697651558557021e-09 9.090798192155431e-10\n",
      "ca[0.350667] 0 1.0 0.4943171101747351 1.8388830246557393e-09 -1.797749062554338e-09 9.089913426972012e-10\n",
      "ca[0.613667] 0 1.0 0.2907382555676119 3.12593186374885e-09 -1.2817430645425777e-09 9.088279770895546e-10\n",
      "ca[0.877] 0 1.0 0.17089118037311812 5.317179455029654e-09 -1.0964690310826422e-09 9.086590733257106e-10\n",
      "ca[1.140667] 0 1.0 0.10037235560605227 9.052129623151431e-09 -1.0105215506372089e-09 9.085835735270354e-10\n",
      "ca[1.403667] 0 1.0 0.05903514762879405 1.539176625713806e-08 -9.66129514756712e-10 9.086551932580363e-10\n",
      "ca[1.666667] 0 1.0 0.034722196509388285 2.6174575560869352e-08 -9.41795552274058e-10 9.088387561743377e-10\n",
      "ca[1.929667] 0 1.0 0.020422256550957026 4.451191899690217e-08 -9.280472003964369e-10 9.090338293301538e-10\n",
      "ca[2.192667] 0 1.0 0.012011583498316264 7.5689165209722e-08 -9.201465427689473e-10 9.091467278344302e-10\n",
      "ca[2.456] 0 1.0 0.007060211865844041 1.28771670552285e-07 -9.155577256684486e-10 9.091552764178022e-10\n",
      "ca[2.719667] 0 1.0 0.004146791509978958 2.19232832814527e-07 -9.128787148544415e-10 9.091128498239168e-10\n",
      "ca[2.982667] 0 1.0 0.0024389827999703228 3.7273368354263556e-07 -9.11315396566271e-10 9.090910431300695e-10\n",
      "ca[3.245667] 0 1.0 0.0014345155968944626 6.337423262817947e-07 -9.103982673953443e-10 9.09113251463414e-10\n",
      "ca[3.508667] 0 1.0 0.0008437267362417307 1.0775345991067502e-06 -9.098596062010416e-10 9.0914475049188e-10\n",
      "ca[3.771667] 0 1.0 0.0004962475186227056 1.8320325009628953e-06 -9.095430126593775e-10 9.091415826389862e-10\n",
      "ca[3.991] 0 1.0 0.0003179562637473239 2.85923219822673e-06 -9.09380615556908e-10 9.091107869342188e-10\n",
      "ca[4.079] 0 1.0 0.0002661824642596443 3.41531718488434e-06 -9.093334596446262e-10 9.090975445008247e-10\n",
      "ca[4.123] 0 1.0 0.00024370309659021145 3.7303255837823063e-06 -9.093129851241102e-10 9.090918960574363e-10\n",
      "ca[4.298667] 0 1.0 0.0001714676555994551 5.301755099387154e-06 -9.09247189996164e-10 9.090795174543714e-10\n",
      "ca[4.561667] 0 1.0 0.00010085066044607685 9.014246930366202e-06 -9.091828610937969e-10 9.090927563514524e-10\n",
      "ca[4.824667] 0 1.0 5.931646802668821e-05 1.5326119175912996e-05 -9.091450154074681e-10 9.090912580712563e-10\n",
      "cb[0.087667] 0 1.0 0.1509275105380677 6.0233611727913584e-09 -1.0706748680940729e-09 9.090909068810555e-10\n",
      "cb[0.350667] 0 1.0 0.41771692258589643 2.1763325919715075e-09 -1.5611468152976834e-09 9.090909528417255e-10\n",
      "cb[0.613667] 0 1.0 0.49891426954385004 1.8221404716781655e-09 -1.81407866665571e-09 9.090918824335984e-10\n",
      "cb[0.877] 0 1.0 0.4883290606176114 1.8616439017189357e-09 -1.7765975767851967e-09 9.090948177309128e-10\n",
      "cb[1.140667] 0 1.0 0.4370861109028528 2.079909965043437e-09 -1.6149224156365293e-09 9.090997576489246e-10\n",
      "cb[1.403667] 0 1.0 0.3724875895912509 2.4406326569863886e-09 -1.4487015809998428e-09 9.091053754785501e-10\n",
      "cb[1.666667] 0 1.0 0.307927773836533 2.952347360956652e-09 -1.3135699781350369e-09 9.091097504515451e-10\n",
      "cb[1.929667] 0 1.0 0.24950562730714365 3.6436499857414613e-09 -1.2113193756106402e-09 9.091111753800883e-10\n",
      "cb[2.192667] 0 1.0 0.1994007810847325 4.559203763141841e-09 -1.1355117089560996e-09 9.091087914949348e-10\n",
      "cb[2.456] 0 1.0 0.1577644107807295 5.762407488454191e-09 -1.0793778959639333e-09 9.091028220944388e-10\n",
      "cb[2.719667] 0 1.0 0.12390590937063654 7.336974174665334e-09 -1.0376634615575e-09 9.090944571407837e-10\n",
      "cb[2.982667] 0 1.0 0.09687269809320173 9.384331529830368e-09 -1.0066033820559317e-09 9.090855150957712e-10\n",
      "cb[3.245667] 0 1.0 0.07544934108824305 1.204885045374826e-08 -9.83278805340206e-10 9.090778276060846e-10\n",
      "cb[3.508667] 0 1.0 0.058596889080191956 1.5514012132787138e-08 -9.656767340946475e-10 9.090728481336802e-10\n",
      "cb[3.771667] 0 1.0 0.04541161694130851 2.0018474716432232e-08 -9.523382860106664e-10 9.090713055718901e-10\n",
      "cb[3.991] 0 1.0 0.03665783073459271 2.4798864113379455e-08 -9.43684463683687e-10 9.090725630784296e-10\n",
      "cb[4.079] 0 1.0 0.03363392597655568 2.702847240982531e-08 -9.407315205796064e-10 9.09073640291442e-10\n",
      "cb[4.123] 0 1.0 0.03221756435418949 2.8216729045198542e-08 -9.393547418674315e-10 9.090742838784118e-10\n",
      "cb[4.298667] 0 1.0 0.02712808587860967 3.3510560576623774e-08 -9.344405791477836e-10 9.090773651630013e-10\n",
      "cb[4.561667] 0 1.0 0.020945192796878006 4.340293162564778e-08 -9.285393957036504e-10 9.090827708489065e-10\n",
      "cb[4.824667] 0 1.0 0.016160158071970215 5.62548904076931e-08 -9.240232905193022e-10 9.090879213096814e-10\n",
      "ca[0.0] 0 1.0 1.0 9.090909090909094e-10 -3629.5935101309587 9.090909090909094e-10\n",
      "cb[0.0] 0 1.0 7.454616629691614e-52 362892.1545331888 -9.090909090909094e-10 2.7052218899677283e-46\n",
      "cc[0.0] 0 1.0 5.1783380238385366e-51 362892.1545331888 -9.090909090909094e-10 1.8791782423719017e-45\n",
      "cc[0.263] 0 1.0 0.053063854302768526 1.7132018022835773e-08 -9.600323354533121e-10 9.090909082761619e-10\n",
      "cc[0.526] 0 1.0 0.16685763818790147 5.448302629680018e-09 -1.0911515908838476e-09 9.090909089213406e-10\n",
      "cc[0.789] 0 1.0 0.297361105753603 3.0571951171658918e-09 -1.2938026405299887e-09 9.090909205449654e-10\n",
      "cc[1.053] 0 1.0 0.4235124331649716 2.1465508527953875e-09 -1.576899537738806e-09 9.090909745797194e-10\n",
      "cc[1.3159999999999998] 0 1.0 0.5350569249059687 1.699054911042457e-09 -1.9551761459236166e-09 9.090910959487612e-10\n",
      "cc[1.579] 0 1.0 0.6296373927438333 1.4438330527688098e-09 -2.4544189085598167e-09 9.090912789027229e-10\n",
      "cc[1.8419999999999999] 0 1.0 0.7075708983861368 1.2848062160089875e-09 -3.1084561481748916e-09 9.090914885135723e-10\n",
      "cc[2.105] 0 1.0 0.7705790995145525 1.179751280748103e-09 -3.962072548469863e-09 9.090916795700133e-10\n",
      "cc[2.3680000000000003] 0 1.0 0.8208564126999958 1.1074918844057273e-09 -5.0739478468362265e-09 9.090918153276437e-10\n",
      "cc[2.6319999999999997] 0 1.0 0.8607369901161999 1.0561784701605954e-09 -6.526888484065069e-09 9.090918774315636e-10\n",
      "cc[2.895] 0 1.0 0.8919189900815706 1.0192538513125658e-09 -8.409900461987507e-09 9.09091865699455e-10\n",
      "cc[3.158] 0 1.0 0.9162833489759369 9.921513854403397e-10 -1.0857514802691104e-08 9.0909179414239e-10\n",
      "cc[3.4210000000000003] 0 1.0 0.9352511436345432 9.720294798374906e-10 -1.4038335951665055e-08 9.090916826645033e-10\n",
      "cc[3.6839999999999997] 0 1.0 0.9499773886136492 9.569612523490506e-10 -1.8171446459203098e-08 9.090915515109985e-10\n",
      "cc[3.947] 0 1.0 0.9613871384840222 9.456038895895698e-10 -2.3541471786529543e-08 9.090914175518778e-10\n",
      "cc[4.211] 0 1.0 0.9702416183039394 9.369741259755272e-10 -3.054685637873977e-08 9.090912922954147e-10\n",
      "cc[4.474] 0 1.0 0.9770553420009263 9.304398068682844e-10 -3.961902904521928e-08 9.090911837109673e-10\n",
      "cc[4.737] 0 1.0 0.982315547672381 9.254572997635076e-10 -5.140459699715439e-08 9.090910942645929e-10\n",
      "cc[5.0] 0 1.0 0.9863736989956342 9.216497002658657e-10 -6.671474785564119e-08 9.090910240294595e-10\n",
      "cc[0.087667] 0 1.0 0.008627860213588077 1.0536690272867815e-07 -9.170024168573635e-10 9.090909078817672e-10\n",
      "cc[0.350667] 0 1.0 0.08796596723936842 1.0334575255579633e-08 -9.967699079298778e-10 9.090909083651056e-10\n",
      "cc[0.613667] 0 1.0 0.21034747488853797 4.321853213631015e-09 -1.1512433322305546e-09 9.090909103261971e-10\n",
      "cc[0.877] 0 1.0 0.3407797590092701 2.6676787812998266e-09 -1.3790113663594303e-09 9.090909322054982e-10\n",
      "cc[1.140667] 0 1.0 0.4625415334910946 1.9654256786872996e-09 -1.6914007643060717e-09 9.09091007382799e-10\n",
      "cc[1.403667] 0 1.0 0.5684772627799547 1.5991688873004764e-09 -2.106584417018798e-09 9.090911517754407e-10\n",
      "cc[1.666667] 0 1.0 0.6573500296540784 1.3829638814072438e-09 -2.652904911158397e-09 9.090913484535711e-10\n",
      "cc[1.929667] 0 1.0 0.7300721161418992 1.2452078864790743e-09 -3.367551166386222e-09 9.090915567183595e-10\n",
      "cc[2.192667] 0 1.0 0.788587635416951 1.1528100260372773e-09 -4.299541129298714e-09 9.090917325176902e-10\n",
      "cc[2.456] 0 1.0 0.8351753773534263 1.0885041267086156e-09 -5.514715398323654e-09 9.090918447746297e-10\n",
      "cc[2.719667] 0 1.0 0.8719472991193843 1.0425995725356453e-09 -7.098266299281106e-09 9.090918813354805e-10\n",
      "cc[2.982667] 0 1.0 0.9006883191068279 1.009330118331456e-09 -9.152510149242492e-09 9.090918477038548e-10\n",
      "cc[3.245667] 0 1.0 0.9231161433148624 9.84807564163224e-10 -1.1822480474876163e-08 9.090917605376591e-10\n",
      "cc[3.508667] 0 1.0 0.9405593841835663 9.665435863841197e-10 -1.529209187553316e-08 9.090916403960232e-10\n",
      "cc[3.771667] 0 1.0 0.954092135540069 9.528340846977422e-10 -1.980030516469407e-08 9.090915066846358e-10\n",
      "cc[3.991] 0 1.0 0.9630242130016603 9.4399640584334e-10 -2.4583848739213073e-08 9.090913958136785e-10\n",
      "cc[4.079] 0 1.0 0.9660998915591852 9.40991051920583e-10 -2.6814496263611123e-08 9.090913532186389e-10\n",
      "cc[4.123] 0 1.0 0.967538732549221 9.395916689796808e-10 -2.8003155074930542e-08 9.090913325184076e-10\n",
      "cc[4.298667] 0 1.0 0.9727004464657915 9.346055690642729e-10 -3.3298415864130765e-08 9.090912542982333e-10\n",
      "cc[4.561667] 0 1.0 0.9789539565426768 9.28635249736863e-10 -4.319344430612798e-08 9.090911519148989e-10\n",
      "cc[4.824667] 0 1.0 0.9837805254600039 9.240791471498434e-10 -5.6047865707882335e-08 9.090910689497053e-10\n"
     ]
    }
   ],
   "source": [
    "\n",
    "for i, v in enumerate(m.ipopt_zL_out):\n",
    "    print(v, v.lb, v.ub, value(v), m.ipopt_zL_out[v], m.ipopt_zU_out[v], estimated_mu[i])"
   ]
  },
  {
   "cell_type": "code",
   "execution_count": 18,
   "metadata": {},
   "outputs": [
    {
     "data": {
      "text/plain": [
       "False"
      ]
     },
     "execution_count": 18,
     "metadata": {},
     "output_type": "execute_result"
    }
   ],
   "source": [
    "any([abs(mu-estmu) > 1e-7 for estmu in estimated_mu])"
   ]
  },
  {
   "cell_type": "code",
   "execution_count": 22,
   "metadata": {},
   "outputs": [],
   "source": [
    "independent_variables = [m.k1, m.k2]\n",
    "ind_vardatas = list()\n",
    "for v in independent_variables:\n",
    "    if v.is_indexed():\n",
    "        for k in v:\n",
    "            ind_vardatas.append(v[k])\n",
    "    else:\n",
    "        ind_vardatas.append(v)"
   ]
  },
  {
   "cell_type": "code",
   "execution_count": 24,
   "metadata": {},
   "outputs": [],
   "source": [
    "for v in ind_vardatas:\n",
    "    if (v.has_lb() and pyo.value(v) - v.lb <= bound_tolerance) or \\\n",
    "       (v.has_ub() and v.ub - pyo.value(b) <= bound_tolerance):\n",
    "            raise ValueError(\"Independent variable: {} has a solution value that is near\"\n",
    "                             \" its bound (according to tolerance). The reduced hessian\"\n",
    "                             \" computation does not support this at this time. All\"\n",
    "                             \" independent variables should be in their interior.\".format(v))"
   ]
  },
  {
   "cell_type": "code",
   "execution_count": 27,
   "metadata": {},
   "outputs": [],
   "source": [
    "kkt_builder = InteriorPointInterface(m)"
   ]
  },
  {
   "cell_type": "code",
   "execution_count": 28,
   "metadata": {},
   "outputs": [],
   "source": [
    "pyomo_nlp = kkt_builder.pyomo_nlp()"
   ]
  },
  {
   "cell_type": "code",
   "execution_count": 29,
   "metadata": {},
   "outputs": [],
   "source": [
    "ind_var_indices = pyomo_nlp.get_primal_indices(ind_vardatas)"
   ]
  },
  {
   "cell_type": "code",
   "execution_count": 31,
   "metadata": {},
   "outputs": [
    {
     "name": "stderr",
     "output_type": "stream",
     "text": [
      "/home/paperspace/anaconda3/envs/my_pyomoenv/lib/python3.8/site-packages/pyomo/contrib/interior_point/interface.py:410: RuntimeWarning: divide by zero encountered in true_divide\n",
      "  duals_primals_ub/(self._nlp.primals_ub() - primals))\n"
     ]
    }
   ],
   "source": [
    "kkt_builder.set_barrier_parameter(mu)\n",
    "kkt = kkt_builder.evaluate_primal_dual_kkt_matrix()"
   ]
  },
  {
   "cell_type": "code",
   "execution_count": 37,
   "metadata": {},
   "outputs": [],
   "source": [
    "primals = kkt_builder._nlp.get_primals()"
   ]
  },
  {
   "cell_type": "code",
   "execution_count": 40,
   "metadata": {},
   "outputs": [],
   "source": [
    "duals_primals_lb = kkt_builder._duals_primals_lb\n",
    "duals_primals_ub = kkt_builder._duals_primals_ub"
   ]
  },
  {
   "cell_type": "code",
   "execution_count": 46,
   "metadata": {},
   "outputs": [
    {
     "name": "stderr",
     "output_type": "stream",
     "text": [
      "<ipython-input-46-6206a413d591>:2: RuntimeWarning: divide by zero encountered in true_divide\n",
      "  duals_primals_ub / (kkt_builder._nlp.primals_ub() - primals)\n"
     ]
    },
    {
     "data": {
      "text/plain": [
       "array([-5.35985781e-09, -2.12502523e-09, -1.43284092e-09, -1.17240635e-09,\n",
       "       -1.05164582e-09, -9.89136459e-10, -9.54939363e-10, -9.35647557e-10,\n",
       "       -9.24572369e-10, -9.18131213e-10, -9.14392329e-10, -9.12203759e-10,\n",
       "       -9.10920079e-10, -9.10166252e-10, -9.09723262e-10, -9.09462390e-10,\n",
       "       -9.09309418e-10, -9.09219448e-10, -9.09166527e-10, -2.21087555e-09,\n",
       "       -3.45689589e-09, -3.62410401e-09, -3.08379666e-09, -2.48118091e-09,\n",
       "       -2.01939644e-09, -1.69721772e-09, -1.47574051e-09, -1.32197456e-09,\n",
       "       -1.21311357e-09, -1.13536368e-09, -1.07877604e-09, -1.03709622e-09,\n",
       "       -1.00610001e-09, -9.82872213e-10, -9.65305847e-10, -9.52055679e-10,\n",
       "       -9.41982617e-10, -9.34303112e-10,  0.00000000e+00,  0.00000000e+00,\n",
       "       -3.57095567e-08, -3.55509174e-09, -1.80715099e-09, -1.32246697e-09,\n",
       "       -1.12326645e-09, -1.02674347e-09, -9.75673064e-10, -9.47395147e-10,\n",
       "       -9.31333331e-10, -9.22067719e-10, -9.16679996e-10, -9.13543513e-10,\n",
       "       -9.11706124e-10, -9.10627927e-10, -9.09994595e-10, -9.09669851e-10,\n",
       "       -9.09575573e-10, -9.09534642e-10, -9.09403123e-10, -9.09274562e-10,\n",
       "       -9.09198946e-10, -1.26099347e-09, -2.68107880e-09, -3.62029600e-09,\n",
       "       -3.47214868e-09, -2.86886227e-09, -2.30864212e-09, -1.89802441e-09,\n",
       "       -1.61402859e-09, -1.41832728e-09, -1.28156291e-09, -1.18442011e-09,\n",
       "       -1.11457530e-09, -1.06352074e-09, -1.02578452e-09, -9.97642861e-10,\n",
       "       -9.79594264e-10, -9.73473248e-10, -9.70625946e-10, -9.60497025e-10,\n",
       "       -9.48403898e-10, -9.39200926e-10,            -inf, -9.09090909e-10,\n",
       "       -9.09090909e-10, -1.01383007e-09, -1.30968204e-09, -1.84134788e-09,\n",
       "       -2.73535741e-09, -4.20519468e-09, -6.62706996e-09, -1.06297770e-08,\n",
       "       -1.72698849e-08, -2.83233574e-08, -4.68673519e-08, -7.78110833e-08,\n",
       "       -1.29693611e-07, -2.16812107e-07, -3.63264651e-07, -6.09679544e-07,\n",
       "       -1.02649589e-06, -1.72672127e-06, -2.90676782e-06, -4.89602775e-06,\n",
       "       -9.24983041e-10, -1.09290868e-09, -1.45791129e-09, -2.09188262e-09,\n",
       "       -3.14703530e-09, -4.88174605e-09, -7.74231764e-09, -1.24757440e-08,\n",
       "       -2.03372264e-08, -3.34580799e-08, -5.54323825e-08, -9.21594526e-08,\n",
       "       -1.53770648e-07, -2.57266713e-07, -4.31305298e-07, -6.64863435e-07,\n",
       "       -7.90985560e-07, -8.62663638e-07, -1.21974214e-06, -2.05233085e-06,\n",
       "       -3.45559072e-06,  0.00000000e+00,  0.00000000e+00,  0.00000000e+00,\n",
       "        0.00000000e+00,  0.00000000e+00,  0.00000000e+00,  0.00000000e+00,\n",
       "        0.00000000e+00,  0.00000000e+00,  0.00000000e+00,  0.00000000e+00,\n",
       "        0.00000000e+00,  0.00000000e+00,  0.00000000e+00,  0.00000000e+00,\n",
       "        0.00000000e+00,  0.00000000e+00,  0.00000000e+00,  0.00000000e+00,\n",
       "        0.00000000e+00,  0.00000000e+00,  0.00000000e+00,  0.00000000e+00,\n",
       "        0.00000000e+00,  0.00000000e+00,  0.00000000e+00,  0.00000000e+00,\n",
       "        0.00000000e+00,  0.00000000e+00,  0.00000000e+00,  0.00000000e+00,\n",
       "        0.00000000e+00,  0.00000000e+00,  0.00000000e+00,  0.00000000e+00,\n",
       "        0.00000000e+00,  0.00000000e+00,  0.00000000e+00,  0.00000000e+00,\n",
       "        0.00000000e+00,  0.00000000e+00,  0.00000000e+00,  0.00000000e+00,\n",
       "        0.00000000e+00,  0.00000000e+00,  0.00000000e+00,  0.00000000e+00,\n",
       "        0.00000000e+00,  0.00000000e+00,  0.00000000e+00,  0.00000000e+00,\n",
       "        0.00000000e+00,  0.00000000e+00,  0.00000000e+00,  0.00000000e+00,\n",
       "        0.00000000e+00,  0.00000000e+00,  0.00000000e+00,  0.00000000e+00,\n",
       "        0.00000000e+00,  0.00000000e+00,  0.00000000e+00,  0.00000000e+00,\n",
       "        0.00000000e+00,  0.00000000e+00,  0.00000000e+00,  0.00000000e+00,\n",
       "        0.00000000e+00,  0.00000000e+00,  0.00000000e+00,  0.00000000e+00,\n",
       "        0.00000000e+00,  0.00000000e+00,  0.00000000e+00,  0.00000000e+00,\n",
       "        0.00000000e+00,  0.00000000e+00,  0.00000000e+00,  0.00000000e+00,\n",
       "        0.00000000e+00,  0.00000000e+00,  0.00000000e+00,  0.00000000e+00,\n",
       "        0.00000000e+00,  0.00000000e+00,  0.00000000e+00,  0.00000000e+00,\n",
       "        0.00000000e+00,  0.00000000e+00,  0.00000000e+00,  0.00000000e+00,\n",
       "        0.00000000e+00,  0.00000000e+00,  0.00000000e+00,  0.00000000e+00,\n",
       "        0.00000000e+00,  0.00000000e+00,  0.00000000e+00,  0.00000000e+00,\n",
       "        0.00000000e+00,  0.00000000e+00,  0.00000000e+00,  0.00000000e+00,\n",
       "        0.00000000e+00,  0.00000000e+00,  0.00000000e+00,  0.00000000e+00,\n",
       "        0.00000000e+00,  0.00000000e+00,  0.00000000e+00,  0.00000000e+00,\n",
       "        0.00000000e+00,  0.00000000e+00,  0.00000000e+00,  0.00000000e+00,\n",
       "        0.00000000e+00,  0.00000000e+00,  0.00000000e+00,  0.00000000e+00,\n",
       "        0.00000000e+00])"
      ]
     },
     "execution_count": 46,
     "metadata": {},
     "output_type": "execute_result"
    }
   ],
   "source": [
    "#duals_primals_lb / (primals - kkt_builder._nlp.primals_lb())\n",
    "duals_primals_ub / (kkt_builder._nlp.primals_ub() - primals)"
   ]
  },
  {
   "cell_type": "code",
   "execution_count": 48,
   "metadata": {},
   "outputs": [
    {
     "data": {
      "text/plain": [
       "(-3629.5935101309587, 1.0, 1.0)"
      ]
     },
     "execution_count": 48,
     "metadata": {},
     "output_type": "execute_result"
    }
   ],
   "source": [
    "duals_primals_ub[82], kkt_builder._nlp.primals_ub()[82], primals[82]"
   ]
  },
  {
   "cell_type": "code",
   "execution_count": null,
   "metadata": {},
   "outputs": [],
   "source": []
  }
 ],
 "metadata": {
  "kernelspec": {
   "display_name": "Python 3",
   "language": "python",
   "name": "python3"
  },
  "language_info": {
   "codemirror_mode": {
    "name": "ipython",
    "version": 3
   },
   "file_extension": ".py",
   "mimetype": "text/x-python",
   "name": "python",
   "nbconvert_exporter": "python",
   "pygments_lexer": "ipython3",
   "version": "3.8.5"
  }
 },
 "nbformat": 4,
 "nbformat_minor": 2
}
