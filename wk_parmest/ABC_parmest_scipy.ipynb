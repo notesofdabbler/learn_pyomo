{
 "cells": [
  {
   "cell_type": "markdown",
   "metadata": {},
   "source": [
    "This is an attempt to recreate the parameter estimation [example](https://sites.engineering.ucsb.edu/~jbraw/chemreacfun/fig-html/appendix/fig-A-10.html) from James Rawlings book on [Reactor Design](https://sites.engineering.ucsb.edu/~jbraw/chemreacfun/) using [scipy](https://docs.scipy.org/doc/scipy/reference/)."
   ]
  },
  {
   "cell_type": "code",
   "execution_count": 27,
   "metadata": {},
   "outputs": [],
   "source": [
    "# Import libraries\n",
    "import pandas as pd\n",
    "import numpy as np\n",
    "from scipy.integrate import solve_ivp\n",
    "from scipy.optimize import minimize\n",
    "import matplotlib.pyplot as plt"
   ]
  },
  {
   "cell_type": "markdown",
   "metadata": {},
   "source": [
    "This example has a series reaction $A \\rightarrow B \\rightarrow C$. The dataset consists of measures concentrations of A, B and C over time. The goal is to estimate the rate constants $k_1$ and $k_2$ for the two reactions."
   ]
  },
  {
   "cell_type": "code",
   "execution_count": 3,
   "metadata": {},
   "outputs": [
    {
     "data": {
      "text/html": [
       "<div>\n",
       "<style scoped>\n",
       "    .dataframe tbody tr th:only-of-type {\n",
       "        vertical-align: middle;\n",
       "    }\n",
       "\n",
       "    .dataframe tbody tr th {\n",
       "        vertical-align: top;\n",
       "    }\n",
       "\n",
       "    .dataframe thead th {\n",
       "        text-align: right;\n",
       "    }\n",
       "</style>\n",
       "<table border=\"1\" class=\"dataframe\">\n",
       "  <thead>\n",
       "    <tr style=\"text-align: right;\">\n",
       "      <th></th>\n",
       "      <th>t</th>\n",
       "      <th>ca</th>\n",
       "      <th>cb</th>\n",
       "      <th>cc</th>\n",
       "    </tr>\n",
       "  </thead>\n",
       "  <tbody>\n",
       "    <tr>\n",
       "      <th>0</th>\n",
       "      <td>0.000</td>\n",
       "      <td>0.957</td>\n",
       "      <td>-0.031</td>\n",
       "      <td>-0.015</td>\n",
       "    </tr>\n",
       "    <tr>\n",
       "      <th>1</th>\n",
       "      <td>0.263</td>\n",
       "      <td>0.557</td>\n",
       "      <td>0.330</td>\n",
       "      <td>0.044</td>\n",
       "    </tr>\n",
       "    <tr>\n",
       "      <th>2</th>\n",
       "      <td>0.526</td>\n",
       "      <td>0.342</td>\n",
       "      <td>0.512</td>\n",
       "      <td>0.156</td>\n",
       "    </tr>\n",
       "    <tr>\n",
       "      <th>3</th>\n",
       "      <td>0.789</td>\n",
       "      <td>0.224</td>\n",
       "      <td>0.499</td>\n",
       "      <td>0.310</td>\n",
       "    </tr>\n",
       "    <tr>\n",
       "      <th>4</th>\n",
       "      <td>1.053</td>\n",
       "      <td>0.123</td>\n",
       "      <td>0.428</td>\n",
       "      <td>0.454</td>\n",
       "    </tr>\n",
       "  </tbody>\n",
       "</table>\n",
       "</div>"
      ],
      "text/plain": [
       "       t     ca     cb     cc\n",
       "0  0.000  0.957 -0.031 -0.015\n",
       "1  0.263  0.557  0.330  0.044\n",
       "2  0.526  0.342  0.512  0.156\n",
       "3  0.789  0.224  0.499  0.310\n",
       "4  1.053  0.123  0.428  0.454"
      ]
     },
     "execution_count": 3,
     "metadata": {},
     "output_type": "execute_result"
    }
   ],
   "source": [
    "data_df = pd.read_csv(\"ABC_data.csv\")\n",
    "data_df.head()"
   ]
  },
  {
   "cell_type": "code",
   "execution_count": 4,
   "metadata": {},
   "outputs": [],
   "source": [
    "# function used in simulating the ODE that gives rates for given level of concentration at time t\n",
    "def rate(t, c, p):\n",
    "    \n",
    "    # concentration\n",
    "    ca = c[0]\n",
    "    cb = c[1]\n",
    "    cc = c[2]\n",
    "    \n",
    "    # rate constants\n",
    "    k1 = p[0]\n",
    "    k2 = p[1]\n",
    "    \n",
    "    # rate of formation of A, B, C\n",
    "    dca = -k1 * ca \n",
    "    dcb = k1 * ca - k2 * cb\n",
    "    dcc = k2 * cb\n",
    "    \n",
    "    dc = [dca, dcb, dcc]\n",
    "    \n",
    "    return dc"
   ]
  },
  {
   "cell_type": "code",
   "execution_count": 12,
   "metadata": {},
   "outputs": [],
   "source": [
    "# function to calculate sum of squares for a given value of parameters\n",
    "def ssq(p, data):\n",
    "    ratefn = lambda t, c: rate(t, c, p)\n",
    "    sol = solve_ivp(ratefn, [0.0, 5.0], [1.0, 0.0, 0.0], method = \"BDF\", t_eval = data.t.values)\n",
    "    ssq_val = np.sum((sol.y[0, :] - data.ca.values)**2) + np.sum((sol.y[1, :] - data.cb.values)**2) + np.sum((sol.y[2, :] - data.cc.values)**2)\n",
    "    return ssq_val"
   ]
  },
  {
   "cell_type": "code",
   "execution_count": 28,
   "metadata": {},
   "outputs": [],
   "source": [
    "res = minimize(ssq, [0.1, 0.1], method = 'BFGS', args = (data_df,))"
   ]
  },
  {
   "cell_type": "code",
   "execution_count": 29,
   "metadata": {},
   "outputs": [
    {
     "data": {
      "text/plain": [
       "array([2.0184544 , 0.99337149])"
      ]
     },
     "execution_count": 29,
     "metadata": {},
     "output_type": "execute_result"
    }
   ],
   "source": [
    "# Estimated parameters\n",
    "p_sol = res.x\n",
    "p_sol"
   ]
  },
  {
   "cell_type": "code",
   "execution_count": 40,
   "metadata": {},
   "outputs": [
    {
     "data": {
      "text/plain": [
       "array([[ 0.00240278, -0.00037099],\n",
       "       [-0.00037099,  0.00033067]])"
      ]
     },
     "execution_count": 40,
     "metadata": {},
     "output_type": "execute_result"
    }
   ],
   "source": [
    "# covariance matrix estimate\n",
    "n = data_df.shape[0] * 3 # number of data points\n",
    "k = 2 # number of parameters\n",
    "ssq_val = res.fun # residual sum of squares\n",
    "cov_est = 2 * ssq_val / (n - k) * res.hess_inv\n",
    "cov_est"
   ]
  },
  {
   "cell_type": "code",
   "execution_count": null,
   "metadata": {},
   "outputs": [],
   "source": []
  }
 ],
 "metadata": {
  "kernelspec": {
   "display_name": "Python 3",
   "language": "python",
   "name": "python3"
  },
  "language_info": {
   "codemirror_mode": {
    "name": "ipython",
    "version": 3
   },
   "file_extension": ".py",
   "mimetype": "text/x-python",
   "name": "python",
   "nbconvert_exporter": "python",
   "pygments_lexer": "ipython3",
   "version": "3.7.6"
  }
 },
 "nbformat": 4,
 "nbformat_minor": 4
}
