{
 "cells": [
  {
   "cell_type": "code",
   "execution_count": 1,
   "metadata": {
    "scrolled": true
   },
   "outputs": [],
   "source": [
    "#\n",
    "# https://github.com/rawlings-group/paresto/blob/master/examples/green_book/bvsm_red.m\n",
    "#"
   ]
  },
  {
   "cell_type": "code",
   "execution_count": 2,
   "metadata": {
    "scrolled": true
   },
   "outputs": [],
   "source": [
    "# Import libraries\n",
    "from pyomo.environ import *\n",
    "from pyomo.dae import *\n",
    "import pyomo.contrib.parmest.parmest as parmest\n",
    "import pandas as pd\n",
    "import numpy as np\n",
    "import matplotlib.pyplot as plt\n",
    "from scipy.interpolate import interp1d"
   ]
  },
  {
   "cell_type": "code",
   "execution_count": 3,
   "metadata": {
    "scrolled": true
   },
   "outputs": [],
   "source": [
    "# load flow rate data\n",
    "flow_data = pd.read_csv('flow_data.csv')\n",
    "lc_data = pd.read_csv('lc_data.csv')\n",
    "teaf      = 0.00721\n",
    "teaden    = 0.728\n",
    "cBf = teaf"
   ]
  },
  {
   "cell_type": "code",
   "execution_count": 4,
   "metadata": {
    "scrolled": true
   },
   "outputs": [],
   "source": [
    "tQf = np.insert(flow_data['t'].values, 0, 0)\n",
    "Qf = np.insert(flow_data[\"Qf\"].values / teaden, 0, 0)"
   ]
  },
  {
   "cell_type": "code",
   "execution_count": 5,
   "metadata": {
    "scrolled": true
   },
   "outputs": [],
   "source": [
    "tlc = lc_data['t'].values\n",
    "lc = lc_data['lc_meas'].values"
   ]
  },
  {
   "cell_type": "code",
   "execution_count": 6,
   "metadata": {
    "scrolled": true
   },
   "outputs": [],
   "source": [
    "tout = np.sort(np.unique(np.concatenate((tQf, tlc))))"
   ]
  },
  {
   "cell_type": "code",
   "execution_count": 7,
   "metadata": {
    "scrolled": true
   },
   "outputs": [],
   "source": [
    "Qf_if = interp1d(tQf, Qf, 'previous', bounds_error = False)\n",
    "lc_if = interp1d(tlc, lc, 'previous', bounds_error = False)"
   ]
  },
  {
   "cell_type": "code",
   "execution_count": 8,
   "metadata": {
    "scrolled": true
   },
   "outputs": [],
   "source": [
    "data = [{'tout': tout, 'tlc': tlc, 'Qf_if': Qf_if, 'lc':lc, 'cBf': cBf}]"
   ]
  },
  {
   "cell_type": "code",
   "execution_count": 14,
   "metadata": {
    "scrolled": true
   },
   "outputs": [],
   "source": [
    "def bvsm_model(data):\n",
    "    \n",
    "    tout = data['tout']\n",
    "    tlc = data['tlc']\n",
    "    Qf_if = data['Qf_if']\n",
    "    lc_m = data['lc']\n",
    "    cBf = data['cBf']\n",
    "    \n",
    "    Vr0 = 2370\n",
    "    \n",
    "    m = ConcreteModel()\n",
    "    \n",
    "    m.k = Var(initialize = 2, bounds = (1e-12, 10))\n",
    "    m.nA0 = Var(initialize = 2.35, bounds = (2, 3))\n",
    "    \n",
    "    m.time = ContinuousSet(bounds = (0, max(tout)), initialize = tout)\n",
    "    \n",
    "    m.Vr = Var(m.time, initialize = Vr0, bounds = (Vr0,None))\n",
    "    m.reps2 = Var(m.time, initialize = 0)\n",
    "    m.y = Var(m.time, initialize = 1e-6, bounds = (0, 1))\n",
    "    \n",
    "    m.dVr = DerivativeVar(m.Vr)\n",
    "    m.dreps2 = DerivativeVar(m.reps2)\n",
    "    \n",
    "    def _dVr_eq(m, t):\n",
    "        if t == 0:\n",
    "            return Constraint.Skip\n",
    "        else:\n",
    "            return m.dVr[t] == float(Qf_if(t))\n",
    "    m.dVr_eq = Constraint(m.time, rule = _dVr_eq)\n",
    "    \n",
    "    def _dreps2_eq(m, t):\n",
    "        if t == 0:\n",
    "            return Constraint.Skip\n",
    "        else:\n",
    "            Badded = (m.Vr[t] - Vr0) * cBf\n",
    "            expr1 = m.k * (m.nA0 - Badded + m.reps2[t]) / (Badded - 2 * m.reps2[t] + 1e-6)\n",
    "        return m.dreps2[t] == float(Qf_if(t)) * cBf / (1.0 + expr1)\n",
    "    m.dreps2_eq = Constraint(m.time, rule = _dreps2_eq)\n",
    "    \n",
    "    def _ycalc(m, t):\n",
    "        if t == 0:\n",
    "            return Constraint.Skip\n",
    "        else:\n",
    "            Badded = (m.Vr[t] - Vr0) * cBf\n",
    "            nD = m.reps2[t]\n",
    "            nC = Badded - 2 * nD\n",
    "            return m.y[t] * (nC + 2 * nD) == nC \n",
    "    m.ycalc = Constraint(m.time, rule = _ycalc) \n",
    "    \n",
    "    def _initcon(m):\n",
    "        yield m.Vr[m.time.first()] == Vr0\n",
    "        yield m.reps2[m.time.first()] == 0.0\n",
    "    m.initcon = ConstraintList(rule = _initcon)\n",
    "    \n",
    "    def ComputeFirstStageCost_rule(m):\n",
    "        return 0\n",
    "    m.FirstStageCost = Expression(rule=ComputeFirstStageCost_rule)\n",
    "\n",
    "    def ComputeSecondStageCost_rule(m):\n",
    "#        return sum((float(lc_if(t)) / m.y[t] - 1.0) ** 2 for t in tlc) \n",
    "        return sum((float(lc_if(t)) - m.y[t]) ** 2 for t in tlc) \n",
    "    m.SecondStageCost = Expression(rule=ComputeSecondStageCost_rule)\n",
    "   \n",
    "    def total_cost_rule(model):\n",
    "        return model.FirstStageCost + model.SecondStageCost\n",
    "    m.Total_Cost_Objective = Objective(rule=total_cost_rule, sense=minimize)\n",
    "    \n",
    "    #disc = TransformationFactory('dae.collocation')\n",
    "    #disc.apply_to(m, nfe=200, ncp=2)\n",
    "    \n",
    "    #disc = TransformationFactory('dae.collocation')\n",
    "    #disc.apply_to(m, nfe=60, ncp = 1, scheme = 'LAGRANGE-RADAU')\n",
    "    \n",
    "    disc = TransformationFactory('dae.finite_difference')\n",
    "    disc.apply_to(m, nfe=500, scheme = 'BACKWARD')\n",
    "    \n",
    "    return m"
   ]
  },
  {
   "cell_type": "code",
   "execution_count": 15,
   "metadata": {
    "scrolled": true
   },
   "outputs": [],
   "source": [
    "# parameters to be estimated\n",
    "theta_names = ['k', 'nA0']"
   ]
  },
  {
   "cell_type": "code",
   "execution_count": 16,
   "metadata": {
    "scrolled": true
   },
   "outputs": [],
   "source": [
    "pest = parmest.Estimator(bvsm_model, data, theta_names, tee = True)"
   ]
  },
  {
   "cell_type": "code",
   "execution_count": 17,
   "metadata": {
    "scrolled": true
   },
   "outputs": [
    {
     "name": "stdout",
     "output_type": "stream",
     "text": [
      "Ipopt 3.14.5: \n",
      "\n",
      "******************************************************************************\n",
      "This program contains Ipopt, a library for large-scale nonlinear optimization.\n",
      " Ipopt is released as open source code under the Eclipse Public License (EPL).\n",
      "         For more information visit https://github.com/coin-or/Ipopt\n",
      "******************************************************************************\n",
      "\n",
      "This is Ipopt version 3.14.5, running with linear solver ma27.\n",
      "\n",
      "Number of nonzeros in equality constraint Jacobian...:     7490\n",
      "Number of nonzeros in inequality constraint Jacobian.:        0\n",
      "Number of nonzeros in Lagrangian Hessian.............:     4017\n",
      "\n",
      "Total number of variables............................:     2504\n",
      "                     variables with only lower bounds:      501\n",
      "                variables with lower and upper bounds:      502\n",
      "                     variables with only upper bounds:        0\n",
      "Total number of equality constraints.................:     2502\n",
      "Total number of inequality constraints...............:        0\n",
      "        inequality constraints with only lower bounds:        0\n",
      "   inequality constraints with lower and upper bounds:        0\n",
      "        inequality constraints with only upper bounds:        0\n",
      "\n",
      "iter    objective    inf_pr   inf_du lg(mu)  ||d||  lg(rg) alpha_du alpha_pr  ls\n",
      "   0  1.6370620e-01 2.37e+01 1.00e+00  -1.0 0.00e+00    -  0.00e+00 0.00e+00   0\n",
      "   1  1.5384668e-01 2.17e+01 1.27e+03  -1.0 6.01e+02    -  3.76e-02 8.63e-02f  1\n",
      "   2  1.4944287e-01 1.89e+01 8.00e+02  -1.0 5.49e+02    -  1.29e-02 1.26e-01f  1\n",
      "   3  1.4455054e-01 1.81e+01 7.57e+02  -1.0 4.80e+02    -  1.55e-01 4.44e-02f  1\n",
      "   4  6.3128173e-02 1.81e-01 2.88e+02  -1.0 4.59e+02    -  2.67e-01 9.90e-01f  1\n",
      "   5  1.0456553e-01 1.79e-03 1.83e+03  -1.0 4.59e+00    -  3.63e-02 9.90e-01h  1\n",
      "   6  8.9829351e-02 1.17e-03 1.06e+03  -1.0 3.54e-01    -  9.41e-01 3.45e-01f  1\n",
      "   7  6.0085678e-02 3.43e-04 5.05e+02  -1.0 2.34e-01    -  1.00e+00 1.00e+00f  1\n",
      "   8  2.0735179e-02 5.88e-04 1.95e+02  -1.0 1.64e-01    -  9.49e-01 1.00e+00f  1\n",
      "   9  3.1816401e-02 9.89e-05 2.54e+01  -1.7 8.11e-02    -  9.74e-01 1.00e+00f  1\n",
      "iter    objective    inf_pr   inf_du lg(mu)  ||d||  lg(rg) alpha_du alpha_pr  ls\n",
      "  10  4.0232551e-02 9.67e-06 3.80e+00  -2.5 3.12e-02    -  9.99e-01 1.00e+00h  1\n",
      "  11  4.0269985e-02 7.55e-07 2.54e+01  -3.8 2.54e-03   2.0 7.75e-01 1.00e+00h  1\n",
      "  12  4.0202491e-02 2.03e-09 5.80e+01  -3.8 2.54e-03   1.5 2.35e-01 1.00e+00h  1\n",
      "  13  4.0015367e-02 5.10e-06 3.21e+01  -3.8 2.21e-02   1.0 2.37e-01 1.00e+00f  1\n",
      "  14  2.3866414e-02 2.43e-05 1.39e+01  -3.8 5.47e-02    -  3.70e-01 1.00e+00f  1\n",
      "  15  2.3908856e-02 3.41e-07 2.46e-01  -3.8 8.18e-03   1.5 1.00e+00 1.00e+00h  1\n",
      "  16  2.3863588e-02 2.38e-09 2.68e-01  -5.7 9.52e-04   1.0 9.65e-01 1.00e+00h  1\n",
      "  17  2.3847085e-02 4.67e-09 9.58e-03  -5.7 3.64e-04   1.4 1.00e+00 1.00e+00h  1\n",
      "  18  2.3797937e-02 2.96e-09 9.92e+00  -5.7 1.09e-03   0.9 1.00e+00 1.00e+00h  1\n",
      "  19  2.3797641e-02 2.03e-08 3.22e-02  -5.7 2.15e-05   3.2 1.00e+00 1.00e+00h  1\n",
      "iter    objective    inf_pr   inf_du lg(mu)  ||d||  lg(rg) alpha_du alpha_pr  ls\n",
      "  20  2.3796774e-02 9.18e-13 1.99e-01  -8.6 1.92e-05   2.7 1.00e+00 1.00e+00h  1\n",
      "  21r 2.3796774e-02 9.18e-13 1.77e+02  -8.6 0.00e+00    -  0.00e+00 2.85e-07R 19\n",
      "  22r 2.4026708e-02 7.67e-08 1.64e+02  -8.6 1.27e+01    -  7.45e-02 4.21e-04f  4\n",
      "  23r 2.3985276e-02 1.08e-08 1.47e-08  -8.6 2.64e-03    -  1.00e+00 1.00e+00h  1\n",
      "  24r 2.3859174e-02 1.34e-08 2.43e-08  -9.0 2.50e-03    -  1.00e+00 1.00e+00h  1\n",
      "  25r 2.3899331e-02 1.19e-09 2.34e-09  -9.0 7.71e-04    -  1.00e+00 1.00e+00h  1\n",
      "  26r 2.3798952e-02 7.43e-09 1.43e-04 -11.0 1.93e-03    -  9.65e-01 1.00e+00h  1\n",
      "  27r 2.3807089e-02 4.54e-11 4.70e-08 -11.0 1.54e-04    -  1.00e+00 1.00e+00h  1\n",
      "  28r 2.3807086e-02 5.29e-13 2.06e-10 -11.0 3.07e-06    -  1.00e+00 1.00e+00h  1\n",
      "  29  1.0848892e-02 3.68e-01 1.12e+00  -8.6 2.89e+00    -  1.49e-02 3.31e-01f  1\n",
      "iter    objective    inf_pr   inf_du lg(mu)  ||d||  lg(rg) alpha_du alpha_pr  ls\n",
      "  30  1.3672551e-02 2.50e-01 7.65e+03  -8.6 3.22e-01   2.2 1.00e+00 5.00e-01h  2\n",
      "  31  1.6489472e-02 2.53e-01 7.89e+03  -8.6 4.61e-01   1.7 5.68e-01 6.44e-02h  4\n",
      "  32  1.6738941e-02 2.52e-01 7.87e+03  -8.6 2.71e+00    -  7.93e-01 2.34e-03h  5\n",
      "  33  2.3395849e-02 2.48e-01 1.00e+04  -8.6 1.35e-01   2.2 6.52e-01 1.67e-01h  3\n",
      "  34  2.3604834e-02 2.46e-01 9.94e+03  -8.6 1.75e-01   2.6 7.49e-01 8.43e-03h  7\n",
      "  35  2.3710766e-02 2.45e-01 9.88e+03  -8.6 1.65e-01   3.0 1.00e+00 4.41e-03h  8\n",
      "  36  2.3761255e-02 2.44e-01 9.86e+03  -8.6 1.78e-01   2.5 9.92e-01 2.02e-03h  9\n",
      "  37  2.3789506e-02 2.44e-01 9.85e+03  -8.6 1.68e-01   3.0 1.00e+00 1.07e-03h 10\n",
      "  38  2.3796295e-02 2.44e-01 9.85e+03  -8.6 1.74e-01   2.5 1.00e+00 2.58e-04h 12\n",
      "  39  4.7347238e-02 2.63e-01 4.64e+04  -8.6 1.69e-01   2.9 1.00e+00 5.42e-01h  1\n",
      "iter    objective    inf_pr   inf_du lg(mu)  ||d||  lg(rg) alpha_du alpha_pr  ls\n",
      "  40r 4.7347238e-02 2.63e-01 9.99e+02  -0.6 0.00e+00   3.3 0.00e+00 2.04e-09R  2\n",
      "  41r 4.9348969e-02 2.51e-01 1.00e+03  -0.6 3.30e+04    -  2.27e-04 1.16e-06f  1\n",
      "  42r 6.0537038e-02 1.20e-01 9.98e+02  -0.6 1.58e+02    -  1.15e-02 1.64e-03f  1\n",
      "  43  5.6227431e-02 1.24e-01 1.46e-01  -8.6 1.07e+00    -  3.90e-01 5.45e-02H  1\n",
      "  44  3.4135858e-02 3.52e-02 1.13e+00  -8.6 1.09e+00    -  7.59e-01 5.77e-01h  1\n",
      "  45  3.8607163e-02 5.60e-03 8.02e+02  -8.6 2.59e-01   2.9 2.95e-03 1.00e+00h  1\n",
      "  46  3.8044728e-02 4.63e-03 6.57e+02  -8.6 1.59e-02   2.4 5.42e-01 1.74e-01h  1\n",
      "  47  3.4815346e-02 1.94e-04 1.85e+03  -8.6 1.24e-02   1.9 3.84e-09 1.00e+00f  1\n",
      "  48  3.4816743e-02 2.12e-04 5.02e+03  -8.6 9.21e-01   2.3 2.13e-03 1.00e+00h  1\n",
      "  49  8.1874328e-04 8.24e-05 6.14e+02  -8.6 9.21e-01    -  3.64e-01 1.00e+00f  1\n",
      "iter    objective    inf_pr   inf_du lg(mu)  ||d||  lg(rg) alpha_du alpha_pr  ls\n",
      "  50  8.1413401e-04 4.33e-07 1.70e+00  -8.6 2.92e-03   2.8 1.00e+00 1.00e+00h  1\n",
      "  51  8.1388723e-04 1.18e-11 2.22e-02  -8.6 1.14e-04   2.3 1.00e+00 1.00e+00h  1\n",
      "  52  3.3765033e-04 1.63e-05 1.73e+04  -8.6 1.94e-01    -  1.00e+00 9.12e-01f  1\n",
      "In iteration 52, 1 Slack too small, adjusting variable bound\n",
      "  53  3.3737480e-04 1.24e-05 1.32e+04  -8.6 6.38e-02   2.7 1.00e+00 2.35e-01f  1\n",
      "  54  3.3314830e-04 9.67e-08 1.13e+01  -8.6 1.04e-03    -  2.25e-04 1.00e+00h  1\n",
      "MA27BD returned iflag=-4 and requires more memory.\n",
      " Increase liw from 122390 to 244780 and la from 109840 to 219830 and factorize again.\n",
      "  55  3.3314952e-04 5.13e-10 2.99e-03  -8.6 2.16e-06   3.1 1.00e+00 1.00e+00h  1\n",
      "  56  3.3289828e-04 1.42e-07 1.67e-01  -8.6 1.44e-02    -  1.00e+00 1.00e+00h  1\n",
      "  57  3.3289830e-04 1.37e-07 4.75e+03  -8.6 9.58e-02    -  1.00e+00 3.41e-02h  1\n",
      "  58  3.3289937e-04 1.33e-06 3.69e+00  -8.6 8.00e-03   2.7 1.00e+00 1.00e+00f  1\n",
      "  59  3.3289929e-04 3.62e-12 9.27e-05  -8.6 5.49e-05    -  9.99e-01 1.00e+00h  1\n",
      "\n",
      "Number of Iterations....: 59\n",
      "\n",
      "                                   (scaled)                 (unscaled)\n",
      "Objective...............:   3.3289928525365392e-04    3.3289928525365392e-04\n",
      "Dual infeasibility......:   9.2671507878441228e-05    9.2671507878441228e-05\n",
      "Constraint violation....:   3.6237367273539434e-12    3.6237367273539434e-12\n",
      "Variable bound violation:   0.0000000000000000e+00    0.0000000000000000e+00\n",
      "Complementarity.........:   2.5059888800657868e-09    2.5059888800657868e-09\n",
      "Overall NLP error.......:   5.6385062832233162e-09    9.2671507878441228e-05\n",
      "\n",
      "\n",
      "Number of objective function evaluations             = 146\n",
      "Number of objective gradient evaluations             = 53\n",
      "Number of equality constraint evaluations            = 146\n",
      "Number of inequality constraint evaluations          = 0\n",
      "Number of equality constraint Jacobian evaluations   = 62\n",
      "Number of inequality constraint Jacobian evaluations = 0\n",
      "Number of Lagrangian Hessian evaluations             = 59\n",
      "Total seconds in IPOPT                               = 0.388\n",
      "\n",
      "EXIT: Optimal Solution Found.\n"
     ]
    }
   ],
   "source": [
    "obj, theta = pest.theta_est()"
   ]
  },
  {
   "cell_type": "code",
   "execution_count": 18,
   "metadata": {
    "scrolled": true
   },
   "outputs": [
    {
     "data": {
      "text/plain": [
       "k      2.235134\n",
       "nA0    2.346047\n",
       "dtype: float64"
      ]
     },
     "execution_count": 18,
     "metadata": {},
     "output_type": "execute_result"
    }
   ],
   "source": [
    "theta"
   ]
  },
  {
   "cell_type": "code",
   "execution_count": 19,
   "metadata": {
    "scrolled": true
   },
   "outputs": [
    {
     "name": "stdout",
     "output_type": "stream",
     "text": [
      "Ipopt 3.14.5: \n",
      "\n",
      "******************************************************************************\n",
      "This program contains Ipopt, a library for large-scale nonlinear optimization.\n",
      " Ipopt is released as open source code under the Eclipse Public License (EPL).\n",
      "         For more information visit https://github.com/coin-or/Ipopt\n",
      "******************************************************************************\n",
      "\n",
      "This is Ipopt version 3.14.5, running with linear solver ma27.\n",
      "\n",
      "Number of nonzeros in equality constraint Jacobian...:     6496\n",
      "Number of nonzeros in inequality constraint Jacobian.:        0\n",
      "Number of nonzeros in Lagrangian Hessian.............:     2026\n",
      "\n",
      "Total number of variables............................:     2502\n",
      "                     variables with only lower bounds:      501\n",
      "                variables with lower and upper bounds:      500\n",
      "                     variables with only upper bounds:        0\n",
      "Total number of equality constraints.................:     2502\n",
      "Total number of inequality constraints...............:        0\n",
      "        inequality constraints with only lower bounds:        0\n",
      "   inequality constraints with lower and upper bounds:        0\n",
      "        inequality constraints with only upper bounds:        0\n",
      "\n",
      "iter    objective    inf_pr   inf_du lg(mu)  ||d||  lg(rg) alpha_du alpha_pr  ls\n",
      "   0  1.6370620e-01 2.37e+01 1.00e+00  -1.0 0.00e+00    -  0.00e+00 0.00e+00   0\n",
      "   1  2.9145515e+01 2.17e+01 3.14e+02  -1.0 6.01e+02    -  8.71e-04 8.55e-02f  1\n",
      "   2  2.7145866e-02 1.73e+01 9.41e+02  -1.0 5.50e+02    -  2.06e-03 2.03e-01f  1\n",
      "   3  1.4255502e+01 5.72e+00 7.20e+03  -1.0 4.38e+02    -  2.83e-01 6.69e-01f  1\n",
      "   4  2.6882280e-02 9.85e-01 6.21e+03  -1.0 1.45e+02    -  1.26e-01 8.28e-01h  1\n",
      "   5  5.9809472e-04 9.83e-03 1.02e+03  -1.0 2.50e+01    -  2.76e-01 9.90e-01f  1\n",
      "   6  3.3328142e-04 7.48e-05 9.79e+00  -1.0 6.92e-01    -  9.94e-01 9.92e-01h  1\n",
      "   7  3.3289928e-04 1.46e-08 1.98e+00  -1.7 2.75e-02    -  1.00e+00 1.00e+00h  1\n",
      "   8  3.3290477e-04 1.04e-06 2.66e-01  -3.8 2.08e-03    -  8.66e-01 8.66e-01s 22\n",
      "   9  3.3290409e-04 9.15e-07 2.34e-01  -3.8 1.80e-03    -  1.21e-01 1.21e-01s 22\n",
      "iter    objective    inf_pr   inf_du lg(mu)  ||d||  lg(rg) alpha_du alpha_pr  ls\n",
      "  10  3.3290269e-04 6.53e-07 1.68e-01  -3.8 1.58e-03    -  2.86e-01 2.86e-01s 22\n",
      "  11  3.3290009e-04 1.56e-07 4.81e-02  -3.8 1.13e-03    -  7.61e-01 7.61e-01s 22\n",
      "  12  3.3289929e-04 2.85e-12 1.38e+00  -5.7 2.70e-04    -  8.78e-01 1.00e+00h  1\n",
      "Cannot recompute multipliers for feasibility problem.  Error in eq_mult_calculator\n",
      "\n",
      "Number of Iterations....: 12\n",
      "\n",
      "                                   (scaled)                 (unscaled)\n",
      "Objective...............:   3.3289928529214939e-04    3.3289928529214939e-04\n",
      "Dual infeasibility......:   3.3474828634643927e-01    3.3474828634643927e-01\n",
      "Constraint violation....:   2.8492763703980017e-12    2.8492763703980017e-12\n",
      "Variable bound violation:   0.0000000000000000e+00    0.0000000000000000e+00\n",
      "Complementarity.........:   0.0000000000000000e+00    0.0000000000000000e+00\n",
      "Overall NLP error.......:   2.8492763703980017e-12    3.3474828634643927e-01\n",
      "\n",
      "\n",
      "Number of objective function evaluations             = 37\n",
      "Number of objective gradient evaluations             = 13\n",
      "Number of equality constraint evaluations            = 37\n",
      "Number of inequality constraint evaluations          = 0\n",
      "Number of equality constraint Jacobian evaluations   = 13\n",
      "Number of inequality constraint Jacobian evaluations = 0\n",
      "Number of Lagrangian Hessian evaluations             = 12\n",
      "Total seconds in IPOPT                               = 0.031\n",
      "\n",
      "EXIT: Optimal Solution Found.\n",
      "\b\b\b\b\b\b\b\b\b\b\b\b\b\b"
     ]
    },
    {
     "data": {
      "text/plain": [
       "{'Problem': [{'Lower bound': -inf, 'Upper bound': inf, 'Number of objectives': 1, 'Number of constraints': 2502, 'Number of variables': 2502, 'Sense': 'unknown'}], 'Solver': [{'Status': 'ok', 'Message': 'Ipopt 3.14.5\\\\x3a Optimal Solution Found', 'Termination condition': 'optimal', 'Id': 0, 'Error rc': 0, 'Time': 0.05595850944519043}], 'Solution': [OrderedDict([('number of solutions', 0), ('number of solutions displayed', 0)])]}"
      ]
     },
     "execution_count": 19,
     "metadata": {},
     "output_type": "execute_result"
    }
   ],
   "source": [
    "ms = bvsm_model(data[0])\n",
    "ms.k.fix(theta['k'])\n",
    "ms.nA0.fix(theta['nA0'])\n",
    "solver = SolverFactory('ipopt')\n",
    "solver.solve(ms, tee = True)"
   ]
  },
  {
   "cell_type": "code",
   "execution_count": 21,
   "metadata": {
    "scrolled": true
   },
   "outputs": [
    {
     "data": {
      "text/plain": [
       "(0.0, 0.2)"
      ]
     },
     "execution_count": 21,
     "metadata": {},
     "output_type": "execute_result"
    },
    {
     "data": {
      "image/png": "[encoded data removed]",
      "text/plain": [
       "<Figure size 432x288 with 1 Axes>"
      ]
     },
     "metadata": {
      "needs_background": "light"
     },
     "output_type": "display_data"
    }
   ],
   "source": [
    "fig, ax = plt.subplots()\n",
    "ax.plot(list(ms.time), [ms.y[t]() for t in ms.time])\n",
    "ax.scatter(data[0]['tlc'], data[0]['lc'])\n",
    "ax.set_xlim(400, 900)\n",
    "ax.set_ylim(0, 0.2)"
   ]
  },
  {
   "cell_type": "code",
   "execution_count": null,
   "metadata": {
    "scrolled": true
   },
   "outputs": [],
   "source": [
    "fig, ax = plt.subplots()\n",
    "ax.plot(list(ms.time), [ms.Vr[t]() for t in ms.time])"
   ]
  },
  {
   "cell_type": "code",
   "execution_count": null,
   "metadata": {},
   "outputs": [],
   "source": [
    "fig, ax = plt.subplots()\n",
    "ax.plot(list(ms.time), [ms.reps2[t]() for t in ms.time])"
   ]
  },
  {
   "cell_type": "code",
   "execution_count": null,
   "metadata": {},
   "outputs": [],
   "source": []
  },
  {
   "cell_type": "code",
   "execution_count": null,
   "metadata": {},
   "outputs": [],
   "source": []
  }
 ],
 "metadata": {
  "kernelspec": {
   "display_name": "Python 3 (ipykernel)",
   "language": "python",
   "name": "python3"
  },
  "language_info": {
   "codemirror_mode": {
    "name": "ipython",
    "version": 3
   },
   "file_extension": ".py",
   "mimetype": "text/x-python",
   "name": "python",
   "nbconvert_exporter": "python",
   "pygments_lexer": "ipython3",
   "version": "3.8.10"
  }
 },
 "nbformat": 4,
 "nbformat_minor": 2
}
