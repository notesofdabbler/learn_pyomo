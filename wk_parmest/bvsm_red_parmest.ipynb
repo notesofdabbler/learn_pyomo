{
 "cells": [
  {
   "cell_type": "code",
   "execution_count": 1,
   "metadata": {
    "scrolled": true
   },
   "outputs": [],
   "source": [
    "#\n",
    "# https://github.com/rawlings-group/paresto/blob/master/examples/green_book/bvsm_red.m\n",
    "#"
   ]
  },
  {
   "cell_type": "code",
   "execution_count": 2,
   "metadata": {
    "scrolled": true
   },
   "outputs": [],
   "source": [
    "# Import libraries\n",
    "from pyomo.environ import *\n",
    "from pyomo.dae import *\n",
    "import pyomo.contrib.parmest.parmest as parmest\n",
    "import pandas as pd\n",
    "import numpy as np\n",
    "import matplotlib.pyplot as plt\n",
    "from scipy.interpolate import interp1d"
   ]
  },
  {
   "cell_type": "code",
   "execution_count": 3,
   "metadata": {
    "scrolled": true
   },
   "outputs": [],
   "source": [
    "# load flow rate data\n",
    "flow_data = pd.read_csv('flow_data.csv')\n",
    "lc_data = pd.read_csv('lc_data.csv')\n",
    "teaf      = 0.00721\n",
    "teaden    = 0.728\n",
    "cBf = teaf"
   ]
  },
  {
   "cell_type": "code",
   "execution_count": 4,
   "metadata": {
    "scrolled": true
   },
   "outputs": [],
   "source": [
    "tQf = np.insert(flow_data['t'].values, 0, 0)\n",
    "Qf = np.insert(flow_data[\"Qf\"].values / teaden, 0, 0)"
   ]
  },
  {
   "cell_type": "code",
   "execution_count": 5,
   "metadata": {
    "scrolled": true
   },
   "outputs": [],
   "source": [
    "tlc = lc_data['t'].values\n",
    "lc = lc_data['lc_meas'].values"
   ]
  },
  {
   "cell_type": "code",
   "execution_count": 6,
   "metadata": {
    "scrolled": true
   },
   "outputs": [],
   "source": [
    "tout = np.sort(np.unique(np.concatenate((tQf, tlc))))"
   ]
  },
  {
   "cell_type": "code",
   "execution_count": 7,
   "metadata": {
    "scrolled": true
   },
   "outputs": [],
   "source": [
    "Qf_if = interp1d(tQf, Qf, 'previous', bounds_error = False)\n",
    "lc_if = interp1d(tlc, lc, 'previous', bounds_error = False)"
   ]
  },
  {
   "cell_type": "code",
   "execution_count": 8,
   "metadata": {
    "scrolled": true
   },
   "outputs": [],
   "source": [
    "data = [{'tout': tout, 'tlc': tlc, 'Qf_if': Qf_if, 'lc':lc, 'cBf': cBf}]"
   ]
  },
  {
   "cell_type": "code",
   "execution_count": 101,
   "metadata": {
    "scrolled": true
   },
   "outputs": [],
   "source": [
    "def bvsm_model(data):\n",
    "    \n",
    "    tout = data['tout']\n",
    "    tlc = data['tlc']\n",
    "    Qf_if = data['Qf_if']\n",
    "    lc_m = data['lc']\n",
    "    cBf = data['cBf']\n",
    "    \n",
    "    Vr0 = 2370\n",
    "    \n",
    "    m = ConcreteModel()\n",
    "    \n",
    "    m.k = Var(initialize = 2, bounds = (1e-12, 10))\n",
    "    m.nA0 = Var(initialize = 2.35, bounds = (2, 3))\n",
    "    \n",
    "    m.time = ContinuousSet(bounds = (0, max(tout)), initialize = tout)\n",
    "    \n",
    "    m.Vr = Var(m.time, initialize = Vr0, bounds = (Vr0,None))\n",
    "    m.reps2 = Var(m.time, initialize = 0)\n",
    "    m.y = Var(m.time, initialize = 1e-6, bounds = (0, 1))\n",
    "    \n",
    "    m.dVr = DerivativeVar(m.Vr)\n",
    "    m.dreps2 = DerivativeVar(m.reps2)\n",
    "    \n",
    "    def _dVr_eq(m, t):\n",
    "        if t == 0:\n",
    "            return Constraint.Skip\n",
    "        else:\n",
    "            return m.dVr[t] == float(Qf_if(t))\n",
    "    m.dVr_eq = Constraint(m.time, rule = _dVr_eq)\n",
    "    \n",
    "    def _dreps2_eq(m, t):\n",
    "        if t == 0:\n",
    "            return Constraint.Skip\n",
    "        else:\n",
    "            Badded = (m.Vr[t] - Vr0) * cBf\n",
    "            expr1 = m.k * (m.nA0 - Badded + m.reps2[t]) / (Badded - 2 * m.reps2[t] + 1e-6)\n",
    "        return m.dreps2[t] == float(Qf_if(t)) * cBf / (1.0 + expr1)\n",
    "    m.dreps2_eq = Constraint(m.time, rule = _dreps2_eq)\n",
    "    \n",
    "    def _ycalc(m, t):\n",
    "        if t == 0:\n",
    "            return Constraint.Skip\n",
    "        else:\n",
    "            Badded = (m.Vr[t] - Vr0) * cBf\n",
    "            nD = m.reps2[t]\n",
    "            nC = Badded - 2 * nD\n",
    "            return m.y[t] * (nC + 2 * nD) == nC \n",
    "    m.ycalc = Constraint(m.time, rule = _ycalc) \n",
    "    \n",
    "    def _initcon(m):\n",
    "        yield m.Vr[m.time.first()] == Vr0\n",
    "        yield m.reps2[m.time.first()] == 0.0\n",
    "    m.initcon = ConstraintList(rule = _initcon)\n",
    "    \n",
    "    def ComputeFirstStageCost_rule(m):\n",
    "        return 0\n",
    "    m.FirstStageCost = Expression(rule=ComputeFirstStageCost_rule)\n",
    "\n",
    "    def ComputeSecondStageCost_rule(m):\n",
    "#        return sum((float(lc_if(t)) / m.y[t] - 1.0) ** 2 for t in tlc) \n",
    "        return sum((float(lc_if(t)) - m.y[t]) ** 2 for t in tlc) \n",
    "    m.SecondStageCost = Expression(rule=ComputeSecondStageCost_rule)\n",
    "   \n",
    "    def total_cost_rule(model):\n",
    "        return model.FirstStageCost + model.SecondStageCost\n",
    "    m.Total_Cost_Objective = Objective(rule=total_cost_rule, sense=minimize)\n",
    "    \n",
    "    #disc = TransformationFactory('dae.collocation')\n",
    "    #disc.apply_to(m, nfe=200, ncp=2)\n",
    "    \n",
    "    disc = TransformationFactory('dae.collocation')\n",
    "    disc.apply_to(m, nfe=60, ncp = 1, scheme = 'LAGRANGE-RADAU')\n",
    "    \n",
    "    return m"
   ]
  },
  {
   "cell_type": "code",
   "execution_count": 102,
   "metadata": {
    "scrolled": true
   },
   "outputs": [],
   "source": [
    "# parameters to be estimated\n",
    "theta_names = ['k', 'nA0']"
   ]
  },
  {
   "cell_type": "code",
   "execution_count": 103,
   "metadata": {
    "scrolled": true
   },
   "outputs": [],
   "source": [
    "pest = parmest.Estimator(bvsm_model, data, theta_names, tee = True)"
   ]
  },
  {
   "cell_type": "code",
   "execution_count": 104,
   "metadata": {
    "scrolled": true
   },
   "outputs": [
    {
     "name": "stdout",
     "output_type": "stream",
     "text": [
      "WARNING: More finite elements were found in ContinuousSet 'time' than the\n",
      "    number of finite elements specified in apply. The larger number of finite\n",
      "    elements will be used.\n",
      "Ipopt 3.12: \n",
      "\n",
      "******************************************************************************\n",
      "This program contains Ipopt, a library for large-scale nonlinear optimization.\n",
      " Ipopt is released as open source code under the Eclipse Public License (EPL).\n",
      "         For more information visit http://projects.coin-or.org/Ipopt\n",
      "******************************************************************************\n",
      "\n",
      "This is Ipopt version 3.12, running with linear solver ma27.\n",
      "\n",
      "Number of nonzeros in equality constraint Jacobian...:     1761\n",
      "Number of nonzeros in inequality constraint Jacobian.:        0\n",
      "Number of nonzeros in Lagrangian Hessian.............:      974\n",
      "\n",
      "Total number of variables............................:      591\n",
      "                     variables with only lower bounds:      118\n",
      "                variables with lower and upper bounds:      119\n",
      "                     variables with only upper bounds:        0\n",
      "Total number of equality constraints.................:      589\n",
      "Total number of inequality constraints...............:        0\n",
      "        inequality constraints with only lower bounds:        0\n",
      "   inequality constraints with lower and upper bounds:        0\n",
      "        inequality constraints with only upper bounds:        0\n",
      "\n",
      "iter    objective    inf_pr   inf_du lg(mu)  ||d||  lg(rg) alpha_du alpha_pr  ls\n",
      "   0  1.6370620e-01 2.37e+01 1.00e+00  -1.0 0.00e+00    -  0.00e+00 0.00e+00   0\n",
      "   1  1.3862337e-01 2.16e+01 6.27e+02  -1.0 6.01e+02    -  3.76e-02 8.68e-02f  1\n",
      "   2  7.8320105e-02 1.48e+01 4.58e+02  -1.0 5.49e+02    -  3.38e-02 3.18e-01f  1\n",
      "   3  5.0236676e-02 1.44e+01 4.47e+02  -1.0 3.74e+02    -  4.88e-02 2.09e-02f  1\n",
      "   4  1.8246017e-01 8.57e+00 1.49e+04  -1.0 3.66e+02   2.0 2.91e-01 4.07e-01f  1\n",
      "   5  1.8892927e-01 8.55e+00 1.49e+04  -1.0 2.17e+02   1.5 3.70e-02 2.55e-03h  1\n",
      "   6  1.5626701e-01 7.20e+00 1.25e+04  -1.0 2.17e+02    -  6.15e-03 1.58e-01f  1\n",
      "   7  1.5640541e-01 7.18e+00 1.25e+04  -1.0 1.82e+02    -  1.75e-02 2.88e-03h  1\n",
      "   8  9.4200861e-02 2.77e+00 4.82e+03  -1.0 1.82e+02    -  2.41e-01 6.14e-01f  1\n",
      "   9  1.0183079e-01 2.69e+00 4.68e+03  -1.0 7.03e+01    -  8.86e-01 2.97e-02h  1\n",
      "iter    objective    inf_pr   inf_du lg(mu)  ||d||  lg(rg) alpha_du alpha_pr  ls\n",
      "  10  1.0385470e-01 2.68e+00 4.66e+03  -1.0 6.82e+01    -  2.28e-02 3.66e-03h  1\n",
      "  11  1.8371691e-01 1.60e+00 2.78e+03  -1.0 6.79e+01    -  2.90e-02 4.03e-01f  1\n",
      "  12  5.7707352e-01 1.99e-02 1.31e+02  -1.0 4.06e+01    -  1.00e+00 9.90e-01f  1\n",
      "  13  1.3572357e+00 1.47e-03 8.67e+02  -1.0 9.13e-01    -  2.08e-01 9.91e-01h  1\n",
      "  14  9.4090770e-01 4.37e-03 1.20e+03  -1.0 1.93e+00   1.0 6.48e-01 9.80e-01H  1\n",
      "  15  1.0675583e+00 1.96e-03 7.17e+02  -1.0 5.05e+00    -  3.15e-01 2.91e-01h  2\n",
      "  16  5.2830321e-01 1.84e-03 3.97e+03  -1.0 2.08e+01    -  2.21e-01 1.98e-02h  3\n",
      "  17  1.6401619e-01 1.66e-03 6.62e+03  -1.0 7.80e+00    -  1.00e+00 2.40e-01h  2\n",
      "  18  1.0188543e-01 1.51e-03 7.93e+03  -1.0 8.69e+00    -  9.97e-01 2.18e-01h  1\n",
      "  19  1.1968537e-01 1.50e-03 6.36e+03  -1.0 3.05e+00    -  1.17e-01 6.21e-03h  1\n",
      "iter    objective    inf_pr   inf_du lg(mu)  ||d||  lg(rg) alpha_du alpha_pr  ls\n",
      "  20  1.1025227e+00 2.20e-03 5.35e+03  -1.0 2.36e+00    -  1.30e-01 1.12e-01f  2\n",
      "  21  1.5094645e+00 2.22e-03 2.77e+03  -1.0 2.61e+00    -  3.73e-01 2.55e-02f  3\n",
      "  22  1.8576374e+00 2.22e-03 4.90e+03  -1.0 2.67e+00    -  3.17e-01 1.87e-02h  3\n",
      "  23  2.4490812e+00 2.24e-03 7.76e+03  -1.0 2.68e+00    -  9.26e-02 2.81e-02h  2\n",
      "  24  3.1326349e+00 2.05e-03 1.50e+04  -1.0 5.78e-01    -  3.43e-03 1.32e-01f  1\n",
      "  25  3.1319429e+00 4.45e-04 2.34e+04  -1.0 1.04e-01    -  1.41e-01 1.00e+00f  1\n",
      "  26  3.0629890e+00 8.21e-06 3.05e+01  -1.0 1.63e-02    -  7.70e-01 1.00e+00f  1\n",
      "  27  8.2117000e-01 2.38e-03 1.20e+01  -1.0 3.24e-01    -  9.43e-01 1.00e+00f  1\n",
      "  28  1.3292975e+00 3.29e-03 7.82e+01  -1.0 5.69e+00    -  9.59e-02 1.00e+00f  1\n",
      "  29  1.4191700e+00 1.79e-03 4.06e+01  -1.0 1.44e+00    -  7.80e-01 1.00e+00f  1\n",
      "iter    objective    inf_pr   inf_du lg(mu)  ||d||  lg(rg) alpha_du alpha_pr  ls\n",
      "  30  1.3201297e+00 8.92e-04 1.27e+01  -1.0 7.36e-01    -  1.00e+00 1.00e+00f  1\n",
      "  31  1.1896043e+00 1.43e-04 8.79e-01  -1.0 2.06e-01    -  1.00e+00 1.00e+00h  1\n",
      "  32  7.8752495e-01 9.85e-05 6.94e+02  -1.7 4.30e-01    -  7.94e-01 1.00e+00f  1\n",
      "  33  3.7061076e-01 1.80e-03 1.02e+00  -1.7 5.01e-01    -  1.00e+00 1.00e+00f  1\n",
      "  34  3.4221623e-01 3.08e-04 2.17e-01  -1.7 7.91e-02    -  1.00e+00 1.00e+00h  1\n",
      "  35  3.6201210e-01 7.44e-04 1.23e-01  -1.7 7.37e-01    -  1.00e+00 1.00e+00h  1\n",
      "  36  1.1771766e-01 3.75e-05 1.99e+02  -2.5 1.30e-01    -  7.26e-01 1.00e+00f  1\n",
      "  37  3.8334738e-02 8.95e-03 3.13e+01  -2.5 7.98e-01    -  8.43e-01 1.00e+00f  1\n",
      "  38  4.1706189e-02 5.37e-03 2.64e+00  -2.5 8.72e-02   0.6 1.00e+00 1.00e+00h  1\n",
      "  39  5.7335176e-02 1.43e-03 2.48e-01  -2.5 6.51e-02    -  1.00e+00 1.00e+00h  1\n",
      "iter    objective    inf_pr   inf_du lg(mu)  ||d||  lg(rg) alpha_du alpha_pr  ls\n",
      "  40  3.5879664e-02 2.56e-04 1.03e-01  -2.5 5.42e-01    -  1.00e+00 1.00e+00h  1\n",
      "  41  3.7401311e-02 2.84e-04 5.36e-01  -2.5 1.76e+00    -  8.71e-01 1.09e-01h  4\n",
      "  42  3.7455434e-02 1.01e-05 2.15e-02  -2.5 1.74e-02   0.1 1.00e+00 1.00e+00h  1\n",
      "  43  5.4900996e-03 2.05e-04 1.34e+01  -3.8 1.28e-01    -  8.81e-01 1.00e+00f  1\n",
      "  44  1.0708154e-03 2.53e-04 3.73e-03  -3.8 3.66e-01    -  1.00e+00 1.00e+00h  1\n",
      "  45  4.6917278e-04 7.10e-05 2.99e-03  -3.8 3.38e-01    -  1.00e+00 1.00e+00h  1\n",
      "  46  4.1952009e-04 5.51e-06 1.27e-04  -3.8 1.20e-01    -  1.00e+00 1.00e+00h  1\n",
      "  47  1.3130517e-04 4.26e-05 4.95e-01  -5.7 2.26e-01    -  9.21e-01 1.00e+00h  1\n",
      "  48  1.2576847e-04 4.15e-06 1.13e-04  -5.7 1.06e-01    -  1.00e+00 1.00e+00h  1\n",
      "  49  1.2566900e-04 2.29e-08 5.44e-07  -5.7 8.99e-03    -  1.00e+00 1.00e+00h  1\n",
      "iter    objective    inf_pr   inf_du lg(mu)  ||d||  lg(rg) alpha_du alpha_pr  ls\n",
      "  50  1.2561029e-04 2.47e-08 9.27e-05  -8.6 6.77e-03    -  9.99e-01 1.00e+00h  1\n",
      "  51  1.2561003e-04 1.34e-12 2.53e-11  -8.6 6.43e-05    -  1.00e+00 1.00e+00h  1\n",
      "\n",
      "Number of Iterations....: 51\n",
      "\n",
      "                                   (scaled)                 (unscaled)\n",
      "Objective...............:   1.2561003123139525e-04    1.2561003123139525e-04\n",
      "Dual infeasibility......:   2.5281221628409463e-11    2.5281221628409463e-11\n",
      "Constraint violation....:   1.3360892253677648e-12    1.3360892253677648e-12\n",
      "Complementarity.........:   2.5060222221259232e-09    2.5060222221259232e-09\n",
      "Overall NLP error.......:   2.5060222221259232e-09    2.5060222221259232e-09\n",
      "\n",
      "\n",
      "Number of objective function evaluations             = 78\n",
      "Number of objective gradient evaluations             = 52\n",
      "Number of equality constraint evaluations            = 78\n",
      "Number of inequality constraint evaluations          = 0\n",
      "Number of equality constraint Jacobian evaluations   = 52\n",
      "Number of inequality constraint Jacobian evaluations = 0\n",
      "Number of Lagrangian Hessian evaluations             = 51\n",
      "Total CPU secs in IPOPT (w/o function evaluations)   =      0.048\n",
      "Total CPU secs in NLP function evaluations           =      0.008\n",
      "\n",
      "EXIT: Optimal Solution Found.\n"
     ]
    }
   ],
   "source": [
    "obj, theta = pest.theta_est()"
   ]
  },
  {
   "cell_type": "code",
   "execution_count": 105,
   "metadata": {
    "scrolled": true
   },
   "outputs": [
    {
     "data": {
      "text/plain": [
       "{'k': 2.6606531824120356, 'nA0': 2.3444503733102873}"
      ]
     },
     "execution_count": 105,
     "metadata": {},
     "output_type": "execute_result"
    }
   ],
   "source": [
    "theta"
   ]
  },
  {
   "cell_type": "code",
   "execution_count": 106,
   "metadata": {
    "scrolled": true
   },
   "outputs": [
    {
     "name": "stdout",
     "output_type": "stream",
     "text": [
      "WARNING: More finite elements were found in ContinuousSet 'time' than the\n",
      "    number of finite elements specified in apply. The larger number of finite\n",
      "    elements will be used.\n",
      "Ipopt 3.12: \n",
      "\n",
      "******************************************************************************\n",
      "This program contains Ipopt, a library for large-scale nonlinear optimization.\n",
      " Ipopt is released as open source code under the Eclipse Public License (EPL).\n",
      "         For more information visit http://projects.coin-or.org/Ipopt\n",
      "******************************************************************************\n",
      "\n",
      "This is Ipopt version 3.12, running with linear solver ma27.\n",
      "\n",
      "Number of nonzeros in equality constraint Jacobian...:     1523\n",
      "Number of nonzeros in inequality constraint Jacobian.:        0\n",
      "Number of nonzeros in Lagrangian Hessian.............:      503\n",
      "\n",
      "Total number of variables............................:      587\n",
      "                     variables with only lower bounds:      118\n",
      "                variables with lower and upper bounds:      117\n",
      "                     variables with only upper bounds:        0\n",
      "Total number of equality constraints.................:      587\n",
      "Total number of inequality constraints...............:        0\n",
      "        inequality constraints with only lower bounds:        0\n",
      "   inequality constraints with lower and upper bounds:        0\n",
      "        inequality constraints with only upper bounds:        0\n",
      "\n",
      "iter    objective    inf_pr   inf_du lg(mu)  ||d||  lg(rg) alpha_du alpha_pr  ls\n",
      "   0  1.6370620e-01 2.37e+01 1.00e+00  -1.0 0.00e+00    -  0.00e+00 0.00e+00   0\n",
      "   1  2.9021865e+01 2.19e+01 2.93e+02  -1.0 6.01e+02    -  7.86e-04 7.72e-02h  1\n",
      "   2  2.2852046e-02 1.74e+01 1.53e+03  -1.0 5.54e+02    -  2.10e-03 2.06e-01f  1\n",
      "   3  1.8405938e+01 5.73e+00 1.44e+04  -1.0 4.40e+02    -  2.93e-01 6.70e-01f  1\n",
      "   4  2.3456104e-02 1.10e+00 1.02e+04  -1.0 1.45e+02    -  1.08e-01 8.07e-01f  1\n",
      "   5  3.3185672e-04 1.10e-02 1.50e+03  -1.0 2.80e+01    -  3.98e-01 9.90e-01f  1\n",
      "   6  1.2611719e-04 8.66e-05 1.35e+01  -1.0 3.68e-01    -  9.95e-01 9.92e-01h  1\n",
      "   7  1.2561017e-04 3.60e-09 5.55e-02  -1.0 6.08e-03    -  1.00e+00 1.00e+00h  1\n",
      "\n",
      "Number of Iterations....: 7\n",
      "\n",
      "                                   (scaled)                 (unscaled)\n",
      "Objective...............:   1.2561017332350649e-04    1.2561017332350649e-04\n",
      "Dual infeasibility......:   1.7347234759768071e-18    1.7347234759768071e-18\n",
      "Constraint violation....:   3.6038336759247613e-09    3.6038336759247613e-09\n",
      "Complementarity.........:   0.0000000000000000e+00    0.0000000000000000e+00\n",
      "Overall NLP error.......:   3.6038336759247613e-09    3.6038336759247613e-09\n",
      "\n",
      "\n",
      "Number of objective function evaluations             = 8\n",
      "Number of objective gradient evaluations             = 8\n",
      "Number of equality constraint evaluations            = 8\n",
      "Number of inequality constraint evaluations          = 0\n",
      "Number of equality constraint Jacobian evaluations   = 8\n",
      "Number of inequality constraint Jacobian evaluations = 0\n",
      "Number of Lagrangian Hessian evaluations             = 7\n",
      "Total CPU secs in IPOPT (w/o function evaluations)   =      0.008\n",
      "Total CPU secs in NLP function evaluations           =      0.000\n",
      "\n",
      "EXIT: Optimal Solution Found.\n"
     ]
    },
    {
     "data": {
      "text/plain": [
       "{'Problem': [{'Lower bound': -inf, 'Upper bound': inf, 'Number of objectives': 1, 'Number of constraints': 587, 'Number of variables': 587, 'Sense': 'unknown'}], 'Solver': [{'Status': 'ok', 'Message': 'Ipopt 3.12\\\\x3a Optimal Solution Found', 'Termination condition': 'optimal', 'Id': 0, 'Error rc': 0, 'Time': 0.04124045372009277}], 'Solution': [OrderedDict([('number of solutions', 0), ('number of solutions displayed', 0)])]}"
      ]
     },
     "execution_count": 106,
     "metadata": {},
     "output_type": "execute_result"
    }
   ],
   "source": [
    "ms = bvsm_model(data[0])\n",
    "ms.k.fix(theta['k'])\n",
    "ms.nA0.fix(theta['nA0'])\n",
    "solver = SolverFactory('ipopt')\n",
    "solver.solve(ms, tee = True)"
   ]
  },
  {
   "cell_type": "code",
   "execution_count": 107,
   "metadata": {
    "scrolled": true
   },
   "outputs": [
    {
     "data": {
      "text/plain": [
       "<matplotlib.collections.PathCollection at 0x7fe22eba1860>"
      ]
     },
     "execution_count": 107,
     "metadata": {},
     "output_type": "execute_result"
    },
    {
     "data": {
      "image/png": "[encoded data removed]",
      "text/plain": [
       "<Figure size 432x288 with 1 Axes>"
      ]
     },
     "metadata": {
      "needs_background": "light"
     },
     "output_type": "display_data"
    }
   ],
   "source": [
    "fig, ax = plt.subplots()\n",
    "ax.plot(list(ms.time), [ms.y[t]() for t in ms.time])\n",
    "ax.scatter(data[0]['tlc'], data[0]['lc'])\n",
    "#ax.set_xlim(400, 900)\n",
    "#ax.set_ylim(0, 0.2)"
   ]
  },
  {
   "cell_type": "code",
   "execution_count": 108,
   "metadata": {
    "scrolled": true
   },
   "outputs": [
    {
     "data": {
      "text/plain": [
       "[<matplotlib.lines.Line2D at 0x7fe22e96b3c8>]"
      ]
     },
     "execution_count": 108,
     "metadata": {},
     "output_type": "execute_result"
    },
    {
     "data": {
      "image/png": "[encoded data removed]",
      "text/plain": [
       "<Figure size 432x288 with 1 Axes>"
      ]
     },
     "metadata": {
      "needs_background": "light"
     },
     "output_type": "display_data"
    }
   ],
   "source": [
    "fig, ax = plt.subplots()\n",
    "ax.plot(list(ms.time), [ms.Vr[t]() for t in ms.time])"
   ]
  },
  {
   "cell_type": "code",
   "execution_count": 109,
   "metadata": {},
   "outputs": [
    {
     "data": {
      "text/plain": [
       "[<matplotlib.lines.Line2D at 0x7fe22ed17748>]"
      ]
     },
     "execution_count": 109,
     "metadata": {},
     "output_type": "execute_result"
    },
    {
     "data": {
      "image/png": "[encoded data removed]",
      "text/plain": [
       "<Figure size 432x288 with 1 Axes>"
      ]
     },
     "metadata": {
      "needs_background": "light"
     },
     "output_type": "display_data"
    }
   ],
   "source": [
    "fig, ax = plt.subplots()\n",
    "ax.plot(list(ms.time), [ms.reps2[t]() for t in ms.time])"
   ]
  },
  {
   "cell_type": "code",
   "execution_count": null,
   "metadata": {},
   "outputs": [],
   "source": []
  },
  {
   "cell_type": "code",
   "execution_count": null,
   "metadata": {},
   "outputs": [],
   "source": []
  }
 ],
 "metadata": {
  "kernelspec": {
   "display_name": "Python 3",
   "language": "python",
   "name": "python3"
  },
  "language_info": {
   "codemirror_mode": {
    "name": "ipython",
    "version": 3
   },
   "file_extension": ".py",
   "mimetype": "text/x-python",
   "name": "python",
   "nbconvert_exporter": "python",
   "pygments_lexer": "ipython3",
   "version": "3.9.0"
  }
 },
 "nbformat": 4,
 "nbformat_minor": 2
}
